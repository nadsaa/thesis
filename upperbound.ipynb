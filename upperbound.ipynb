{
 "cells": [
  {
   "cell_type": "code",
   "execution_count": 1,
   "metadata": {},
   "outputs": [
    {
     "data": {
      "text/plain": [
       "1"
      ]
     },
     "execution_count": 1,
     "metadata": {},
     "output_type": "execute_result"
    }
   ],
   "source": [
    "import os\n",
    "os.environ[\"CUDA_DEVICE_ORDER\"] = \"PCI_BUS_ID\"\n",
    "os.environ[\"CUDA_VISIBLE_DEVICES\"] = \"3\" \n",
    "import torch\n",
    "torch.cuda.device_count()"
   ]
  },
  {
   "cell_type": "code",
   "execution_count": 2,
   "metadata": {},
   "outputs": [],
   "source": [
    "import os\n",
    "import shutil\n",
    "import tempfile\n",
    "\n",
    "import matplotlib.pyplot as plt\n",
    "import numpy as np\n",
    "from tqdm import tqdm\n",
    "from glob import glob\n",
    "# import wandb\n",
    "\n",
    "import monai\n",
    "from monai.losses import DiceCELoss, DiceFocalLoss, FocalLoss\n",
    "from monai.inferers import sliding_window_inference\n",
    "from monai import transforms\n",
    "\n",
    "from monai.transforms import (\n",
    "       AsDiscrete,\n",
    "    Compose,\n",
    "    CropForegroundd,\n",
    "    LoadImaged,\n",
    "    Orientationd,\n",
    "    RandFlipd,\n",
    "    RandCropByPosNegLabeld,\n",
    "    RandShiftIntensityd,\n",
    "    ScaleIntensityRanged,\n",
    "    Spacingd,\n",
    "    RandRotate90d,\n",
    "    MapTransform,\n",
    "    ScaleIntensityd,\n",
    "    #AddChanneld,\n",
    "    SpatialPadd,\n",
    "    CenterSpatialCropd,\n",
    "    EnsureChannelFirstd,\n",
    "    ConcatItemsd,\n",
    "    AdjustContrastd, \n",
    "    Rand3DElasticd,\n",
    "    HistogramNormalized,\n",
    "    NormalizeIntensityd,\n",
    "    Invertd,\n",
    "    SaveImage,\n",
    "\n",
    ")\n",
    "\n",
    "from monai.config import print_config\n",
    "from monai.metrics import DiceMetric\n",
    "from monai.networks.nets import SwinUNETR, UNETR, SegResNet\n",
    "from monai.data import (\n",
    "    DataLoader,\n",
    "    CacheDataset,\n",
    "    load_decathlon_datalist,\n",
    "    decollate_batch,\n",
    ")\n",
    "from monai import data\n",
    "\n",
    "\n",
    "from monai.utils import first, set_determinism\n",
    "from sklearn.model_selection import train_test_split\n",
    "import json\n",
    "\n",
    "\n",
    "import torch"
   ]
  },
  {
   "cell_type": "code",
   "execution_count": 3,
   "metadata": {},
   "outputs": [],
   "source": [
    "set_determinism(seed=1024)"
   ]
  },
  {
   "cell_type": "code",
   "execution_count": 11,
   "metadata": {},
   "outputs": [
    {
     "name": "stdout",
     "output_type": "stream",
     "text": [
      "JSON file created at /home/nada.saadi/CTPET/hecktor2022_cropped/5centers_train_data.json\n"
     ]
    }
   ],
   "source": [
    "import os\n",
    "import json\n",
    "import random\n",
    "from glob import glob\n",
    "\n",
    "def generate_paths(patient_id):\n",
    "    base_dir = '/home/nada.saadi/MIS-FM/hecktor2022_cropped/data'\n",
    "    return {\n",
    "        'id': os.path.join(base_dir, patient_id),\n",
    "        'ct': os.path.join(base_dir, patient_id, f\"{patient_id}_ct.nii.gz\"),\n",
    "        'seg': os.path.join(base_dir, patient_id, f\"{patient_id}_gt.nii.gz\")\n",
    "    }\n",
    "\n",
    "# Assign each data entry to a random fold\n",
    "all_data = []\n",
    "num_folds = 5\n",
    "\n",
    "for file_dir in sorted(glob('data/*')):\n",
    "    patient_id = file_dir.split('/')[-1]\n",
    "    # Check if the file belongs to the MDA center\n",
    "    if patient_id.startswith((\"CHUM\", \"CHUS\", \"CHUV\",\"CHUP\" ,\"MDA\")):\n",
    "        entry = generate_paths(patient_id)\n",
    "        entry['fold'] = random.randint(1, num_folds) - 1\n",
    "        all_data.append(entry)\n",
    "\n",
    "# Compile data into a JSON structure\n",
    "data_json = {\"training\": all_data}\n",
    "\n",
    "# Save to JSON file\n",
    "json_file_path = \"/home/nada.saadi/CTPET/hecktor2022_cropped/5centers_train_data.json\"\n",
    "with open(json_file_path, 'w') as f:\n",
    "    json.dump(data_json, f, indent=4)\n",
    "\n",
    "print(f\"JSON file created at {json_file_path}\")\n"
   ]
  },
  {
   "cell_type": "code",
   "execution_count": 12,
   "metadata": {},
   "outputs": [
    {
     "name": "stdout",
     "output_type": "stream",
     "text": [
      "[{'id': '/home/nada.saadi/MIS-FM/hecktor2022_cropped/data/CHUM-001', 'ct': '/home/nada.saadi/MIS-FM/hecktor2022_cropped/data/CHUM-001/CHUM-001_ct.nii.gz', 'seg': '/home/nada.saadi/MIS-FM/hecktor2022_cropped/data/CHUM-001/CHUM-001_gt.nii.gz', 'fold': 2}, {'id': '/home/nada.saadi/MIS-FM/hecktor2022_cropped/data/CHUM-002', 'ct': '/home/nada.saadi/MIS-FM/hecktor2022_cropped/data/CHUM-002/CHUM-002_ct.nii.gz', 'seg': '/home/nada.saadi/MIS-FM/hecktor2022_cropped/data/CHUM-002/CHUM-002_gt.nii.gz', 'fold': 1}, {'id': '/home/nada.saadi/MIS-FM/hecktor2022_cropped/data/CHUM-006', 'ct': '/home/nada.saadi/MIS-FM/hecktor2022_cropped/data/CHUM-006/CHUM-006_ct.nii.gz', 'seg': '/home/nada.saadi/MIS-FM/hecktor2022_cropped/data/CHUM-006/CHUM-006_gt.nii.gz', 'fold': 0}, {'id': '/home/nada.saadi/MIS-FM/hecktor2022_cropped/data/CHUM-007', 'ct': '/home/nada.saadi/MIS-FM/hecktor2022_cropped/data/CHUM-007/CHUM-007_ct.nii.gz', 'seg': '/home/nada.saadi/MIS-FM/hecktor2022_cropped/data/CHUM-007/CHUM-007_gt.nii.gz', 'fold': 0}, {'id': '/home/nada.saadi/MIS-FM/hecktor2022_cropped/data/CHUM-008', 'ct': '/home/nada.saadi/MIS-FM/hecktor2022_cropped/data/CHUM-008/CHUM-008_ct.nii.gz', 'seg': '/home/nada.saadi/MIS-FM/hecktor2022_cropped/data/CHUM-008/CHUM-008_gt.nii.gz', 'fold': 4}]\n"
     ]
    }
   ],
   "source": [
    "import json\n",
    "\n",
    "json_file_path = \"/home/nada.saadi/CTPET/hecktor2022_cropped/5centers_train_data.json\"\n",
    "\n",
    "with open(json_file_path, 'r') as f:\n",
    "    data = json.load(f)\n",
    "\n",
    "first_5_elements = data[\"training\"][:5]\n",
    "print(first_5_elements)"
   ]
  },
  {
   "cell_type": "code",
   "execution_count": 13,
   "metadata": {},
   "outputs": [],
   "source": [
    "data_dir = '/home/nada.saadi/MIS-FM/hecktor2022_cropped'\n",
    "json_dir = \"/home/nada.saadi/CTPET/hecktor2022_cropped/5centers_train_data.json\""
   ]
  },
  {
   "cell_type": "code",
   "execution_count": 14,
   "metadata": {},
   "outputs": [],
   "source": [
    "def datafold_read(datalist, basedir, fold=0, key=\"training\"):\n",
    "    with open(datalist) as f:\n",
    "        json_data = json.load(f)\n",
    "\n",
    "    json_data = json_data[key]\n",
    "\n",
    "    for d in json_data:\n",
    "        for k in d:\n",
    "            if isinstance(d[k], list):\n",
    "                d[k] = [os.path.join(basedir, iv) for iv in d[k]]\n",
    "            elif isinstance(d[k], str):\n",
    "                d[k] = os.path.join(basedir, d[k]) if len(d[k]) > 0 else d[k]\n",
    "\n",
    "    tr = []\n",
    "    val = []\n",
    "    for d in json_data:\n",
    "        if \"fold\" in d and d[\"fold\"] == fold:\n",
    "            val.append(d)\n",
    "        else:\n",
    "            tr.append(d)\n",
    "\n",
    "    return tr, val"
   ]
  },
  {
   "cell_type": "code",
   "execution_count": 15,
   "metadata": {},
   "outputs": [
    {
     "data": {
      "text/plain": [
       "(370, 79)"
      ]
     },
     "execution_count": 15,
     "metadata": {},
     "output_type": "execute_result"
    }
   ],
   "source": [
    "train_files, validation_files = datafold_read(datalist=json_dir, basedir=data_dir, fold=0)\n",
    "len(train_files), len(validation_files)"
   ]
  },
  {
   "cell_type": "code",
   "execution_count": 16,
   "metadata": {},
   "outputs": [],
   "source": [
    "class ClipCT(MapTransform):\n",
    "    \"\"\"\n",
    "    Convert labels to multi channels based on hecktor classes:\n",
    "    label 1 is the tumor\n",
    "    label 2 is the lymph node\n",
    "\n",
    "    \"\"\"\n",
    "\n",
    "    def __call__(self, data):\n",
    "        d = dict(data)\n",
    "        for key in self.keys:\n",
    "            if key == \"ct\":\n",
    "                d[key] = torch.clip(d[key], min=-200, max=200)\n",
    "            # elif key == \"pt\":\n",
    "            #     d[key] = torch.clip(d[key], d[key].min(), 5)\n",
    "        return d\n",
    "\n",
    "class MulPTFM(MapTransform):\n",
    "    \"\"\"\n",
    "    Mult PT and FM \n",
    "\n",
    "    \"\"\"\n",
    "\n",
    "    def __call__(self, data):\n",
    "        d = dict(data)\n",
    "\n",
    "        fm = d[\"ct\"] > 0\n",
    "        d[\"pt\"] = d[\"pt\"] * fm\n",
    "        return d\n",
    "\n",
    "class SelectClass(MapTransform):\n",
    "    \"\"\"\n",
    "    Select the class for which you want to fine tune the model \n",
    "\n",
    "    \"\"\"\n",
    "    # def __init__(self, keys, cls=1):\n",
    "    #     super(self).__init__(keys)\n",
    "    #     self.cls = cls\n",
    "\n",
    "    def __call__(self, data):\n",
    "        d = dict(data)\n",
    "        d[\"seg\"][d[\"seg\"] == 1] = 0\n",
    "        # d[\"seg\"][d[\"seg\"] == 2] = 1\n",
    "        \n",
    "        return d"
   ]
  },
  {
   "cell_type": "code",
   "execution_count": 17,
   "metadata": {},
   "outputs": [],
   "source": [
    "num_samples = 4\n",
    "\n",
    "train_transforms = Compose(\n",
    "    [\n",
    "        LoadImaged(keys=[\"ct\", \"seg\"], ensure_channel_first = True),\n",
    "        SpatialPadd(keys=[\"ct\",  \"seg\"], spatial_size=(200, 200, 310), method='end'),\n",
    "        Orientationd(keys=[\"ct\",  \"seg\"], axcodes=\"PLS\"),\n",
    "        #NormalizeIntensityd(keys=[\"pt\"]),\n",
    "        ClipCT(keys=[\"ct\"]),\n",
    "        ScaleIntensityd(keys=[\"ct\"], minv=0, maxv=1),\n",
    "        #MulPTFM(keys=[\"ct\",\"pt\"]),\n",
    "        #ConcatItemsd(keys=[\"pt\", \"ct\"], name=\"ctpt\"),\n",
    "        #NormalizeIntensityd(keys=[\"ctpt\"], channel_wise=True),\n",
    "        RandCropByPosNegLabeld(\n",
    "            keys=[\"ct\", \"seg\"],\n",
    "            label_key=\"seg\",\n",
    "            spatial_size=(96, 96, 96),\n",
    "            pos=1,\n",
    "            neg=1,\n",
    "            num_samples=num_samples,\n",
    "            image_key=\"ct\",\n",
    "            image_threshold=0,\n",
    "        ),\n",
    "        RandFlipd(\n",
    "            keys=[\"ct\", \"seg\"],\n",
    "            spatial_axis=[0],\n",
    "            prob=0.20,\n",
    "        ),\n",
    "        RandFlipd(\n",
    "            keys=[\"ct\", \"seg\"],\n",
    "            spatial_axis=[1],\n",
    "            prob=0.20,\n",
    "        ),\n",
    "        RandFlipd(\n",
    "            keys=[\"ct\", \"seg\"],\n",
    "            spatial_axis=[2],\n",
    "            prob=0.20,\n",
    "        ),\n",
    "        RandRotate90d(\n",
    "            keys=[\"ct\", \"seg\"],\n",
    "            prob=0.20,\n",
    "            max_k=3,\n",
    "        ),\n",
    "    ]\n",
    ")\n",
    "val_transforms = Compose(\n",
    "    [\n",
    "        LoadImaged(keys=[\"ct\", \"seg\"], ensure_channel_first = True),\n",
    "        SpatialPadd(keys=[\"ct\", \"seg\"], spatial_size=(200, 200, 310), method='end'),\n",
    "        Orientationd(keys=[\"ct\",  \"seg\"], axcodes=\"PLS\"),\n",
    "        #NormalizeIntensityd(keys=[\"pt\"]),\n",
    "        ClipCT(keys=[\"ct\"]),\n",
    "        ScaleIntensityd(keys=[\"ct\"], minv=0, maxv=1),\n",
    "        #MulPTFM(keys=[\"ct\",\"pt\"]),\n",
    "        #ConcatItemsd(keys=[\"pt\", \"ct\"], name=\"ctpt\"),\n",
    "    ]\n",
    ")"
   ]
  },
  {
   "cell_type": "code",
   "execution_count": 18,
   "metadata": {},
   "outputs": [],
   "source": [
    "train_ds = monai.data.Dataset(data=train_files, transform=train_transforms)\n",
    "\n",
    "train_loader = DataLoader(\n",
    "    train_ds,\n",
    "    batch_size=2,\n",
    "    shuffle=True,\n",
    "    num_workers=8,\n",
    "    pin_memory=torch.cuda.is_available(),\n",
    "    )\n",
    "\n",
    "val_ds = monai.data.Dataset(data=validation_files, transform=val_transforms)\n",
    "\n",
    "val_loader = DataLoader(\n",
    "    val_ds, \n",
    "    batch_size=2, \n",
    "    num_workers=8, \n",
    "    shuffle= False)"
   ]
  },
  {
   "cell_type": "code",
   "execution_count": 19,
   "metadata": {},
   "outputs": [
    {
     "name": "stderr",
     "output_type": "stream",
     "text": [
      "/home/nada.saadi/miniconda3/envs/clam/lib/python3.8/site-packages/monai/utils/deprecate_utils.py:221: FutureWarning: monai.networks.nets.unetr UNETR.__init__:pos_embed: Argument `pos_embed` has been deprecated since version 1.2. It will be removed in version 1.4. please use `proj_type` instead.\n",
      "  warn_deprecated(argname, msg, warning_category)\n"
     ]
    }
   ],
   "source": [
    "os.environ[\"CUDA_DEVICE_ORDER\"] = \"PCI_BUS_ID\"\n",
    "device = torch.device(\"cuda\" if torch.cuda.is_available() else \"cpu\")\n",
    "model = UNETR(\n",
    "    in_channels=1,\n",
    "    out_channels=3,\n",
    "    img_size=(96, 96, 96),\n",
    "    feature_size=16,\n",
    "    hidden_size=768,\n",
    "    mlp_dim=3072, \n",
    "    num_heads=12,\n",
    "    pos_embed=\"perceptron\",\n",
    "    norm_name=\"instance\",\n",
    "    res_block=True,\n",
    "    dropout_rate=0.0,\n",
    ").to(device)"
   ]
  },
  {
   "cell_type": "code",
   "execution_count": 20,
   "metadata": {},
   "outputs": [],
   "source": [
    "torch.backends.cudnn.benchmark = True\n",
    "def poly_lr(epoch, max_epochs, initial_lr, exponent=0.9):\n",
    "    return initial_lr * (1 - epoch / max_epochs)**exponent\n",
    "\n",
    "loss_function = DiceCELoss(to_onehot_y=True, softmax=True)\n",
    "optimizer = torch.optim.AdamW(model.parameters(), lr=1e-4, weight_decay=1e-5)"
   ]
  },
  {
   "cell_type": "code",
   "execution_count": 21,
   "metadata": {},
   "outputs": [
    {
     "name": "stderr",
     "output_type": "stream",
     "text": [
      "Validate (0 / 10 Steps): 100%|██████████| 40/40 [00:58<00:00,  1.47s/it]1:00<00:39,  2.14it/s]\n",
      "Training (100 / 18000 Steps) (loss=1.23395):  55%|█████▍    | 101/185 [02:01<25:52, 18.48s/it]"
     ]
    },
    {
     "name": "stdout",
     "output_type": "stream",
     "text": [
      "Model Was Saved ! Current Best Avg. Dice: 0.000450061954325065 Current Avg. Dice: 0.000450061954325065 Current Avg. tumor Dice: 0.0006345253787003458 Current Avg. lymph Dice: 0.0\n"
     ]
    },
    {
     "name": "stderr",
     "output_type": "stream",
     "text": [
      "Training (184 / 18000 Steps) (loss=1.14318): 100%|██████████| 185/185 [02:41<00:00,  1.14it/s]\n",
      "Validate (185 / 10 Steps): 100%|██████████| 40/40 [00:56<00:00,  1.41s/it]0<01:23,  2.04it/s]\n",
      "Training (200 / 18000 Steps) (loss=1.12149):   9%|▊         | 16/185 [01:07<49:10, 17.46s/it]"
     ]
    },
    {
     "name": "stdout",
     "output_type": "stream",
     "text": [
      "Model Was Not Saved ! Current Best Avg. Dice: 0.000450061954325065 Current Avg. Dice: 4.694758899859153e-05 Current Avg. tumor Dice: 5.956683526164852e-05 Current Avg. lymph Dice: 0.0\n"
     ]
    },
    {
     "name": "stderr",
     "output_type": "stream",
     "text": [
      "Validate (185 / 10 Steps): 100%|██████████| 40/40 [00:54<00:00,  1.36s/it]56<00:34,  2.05it/s]\n",
      "Training (300 / 18000 Steps) (loss=1.03511):  63%|██████▎   | 116/185 [02:50<19:23, 16.86s/it]"
     ]
    },
    {
     "name": "stdout",
     "output_type": "stream",
     "text": [
      "Model Was Not Saved ! Current Best Avg. Dice: 0.000450061954325065 Current Avg. Dice: 0.0 Current Avg. tumor Dice: 0.0 Current Avg. lymph Dice: 0.0\n"
     ]
    },
    {
     "name": "stderr",
     "output_type": "stream",
     "text": [
      "Training (369 / 18000 Steps) (loss=1.00097): 100%|██████████| 185/185 [03:25<00:00,  1.11s/it]\n",
      "Validate (370 / 10 Steps): 100%|██████████| 40/40 [00:54<00:00,  1.36s/it]7<01:15,  2.04it/s]\n",
      "Training (400 / 18000 Steps) (loss=0.98603):  17%|█▋        | 31/185 [01:12<43:10, 16.82s/it]"
     ]
    },
    {
     "name": "stdout",
     "output_type": "stream",
     "text": [
      "Model Was Not Saved ! Current Best Avg. Dice: 0.000450061954325065 Current Avg. Dice: 0.0 Current Avg. tumor Dice: 0.0 Current Avg. lymph Dice: 0.0\n"
     ]
    },
    {
     "name": "stderr",
     "output_type": "stream",
     "text": [
      "Validate (370 / 10 Steps): 100%|██████████| 40/40 [00:54<00:00,  1.37s/it]02<00:26,  2.11it/s]\n",
      "Training (500 / 18000 Steps) (loss=0.95495):  71%|███████   | 131/185 [02:57<15:16, 16.96s/it]"
     ]
    },
    {
     "name": "stdout",
     "output_type": "stream",
     "text": [
      "Model Was Not Saved ! Current Best Avg. Dice: 0.000450061954325065 Current Avg. Dice: 0.0 Current Avg. tumor Dice: 0.0 Current Avg. lymph Dice: 0.0\n"
     ]
    },
    {
     "name": "stderr",
     "output_type": "stream",
     "text": [
      "Training (554 / 18000 Steps) (loss=0.93128): 100%|██████████| 185/185 [03:24<00:00,  1.10s/it]\n",
      "Validate (555 / 10 Steps): 100%|██████████| 40/40 [00:54<00:00,  1.37s/it]6<01:11,  1.96it/s]\n",
      "Training (600 / 18000 Steps) (loss=0.90131):  25%|██▍       | 46/185 [01:21<39:19, 16.98s/it]"
     ]
    },
    {
     "name": "stdout",
     "output_type": "stream",
     "text": [
      "Model Was Not Saved ! Current Best Avg. Dice: 0.000450061954325065 Current Avg. Dice: 0.0 Current Avg. tumor Dice: 0.0 Current Avg. lymph Dice: 0.0\n"
     ]
    },
    {
     "name": "stderr",
     "output_type": "stream",
     "text": [
      "Validate (555 / 10 Steps): 100%|██████████| 40/40 [00:55<00:00,  1.39s/it]10<00:20,  1.96it/s]\n",
      "Training (700 / 18000 Steps) (loss=0.88962):  79%|███████▉  | 146/185 [03:06<11:18, 17.39s/it]"
     ]
    },
    {
     "name": "stdout",
     "output_type": "stream",
     "text": [
      "Model Was Saved ! Current Best Avg. Dice: 0.027251122519373894 Current Avg. Dice: 0.027251122519373894 Current Avg. tumor Dice: 0.0 Current Avg. lymph Dice: 0.060910843312740326\n"
     ]
    },
    {
     "name": "stderr",
     "output_type": "stream",
     "text": [
      "Training (739 / 18000 Steps) (loss=0.89055): 100%|██████████| 185/185 [03:25<00:00,  1.11s/it]\n",
      "Validate (740 / 10 Steps): 100%|██████████| 40/40 [00:56<00:00,  1.41s/it]2<01:02,  1.99it/s]\n",
      "Training (800 / 18000 Steps) (loss=0.88326):  33%|███▎      | 61/185 [01:29<36:24, 17.61s/it]"
     ]
    },
    {
     "name": "stdout",
     "output_type": "stream",
     "text": [
      "Model Was Saved ! Current Best Avg. Dice: 0.03903966769576073 Current Avg. Dice: 0.03903966769576073 Current Avg. tumor Dice: 0.0 Current Avg. lymph Dice: 0.08733662217855453\n"
     ]
    },
    {
     "name": "stderr",
     "output_type": "stream",
     "text": [
      "Validate (740 / 10 Steps): 100%|██████████| 40/40 [00:56<00:00,  1.40s/it]17<00:11,  2.09it/s]\n",
      "Training (900 / 18000 Steps) (loss=0.85080):  87%|████████▋ | 161/185 [03:13<06:56, 17.34s/it]"
     ]
    },
    {
     "name": "stdout",
     "output_type": "stream",
     "text": [
      "Model Was Not Saved ! Current Best Avg. Dice: 0.03903966769576073 Current Avg. Dice: 0.03804433345794678 Current Avg. tumor Dice: 0.0 Current Avg. lymph Dice: 0.08562975376844406\n"
     ]
    },
    {
     "name": "stderr",
     "output_type": "stream",
     "text": [
      "Training (924 / 18000 Steps) (loss=0.82523): 100%|██████████| 185/185 [03:25<00:00,  1.11s/it]\n",
      "Validate (925 / 10 Steps): 100%|██████████| 40/40 [00:55<00:00,  1.38s/it]38<00:51,  2.15it/s]\n",
      "Training (1000 / 18000 Steps) (loss=0.81255):  41%|████      | 76/185 [01:34<30:55, 17.02s/it]"
     ]
    },
    {
     "name": "stdout",
     "output_type": "stream",
     "text": [
      "Model Was Not Saved ! Current Best Avg. Dice: 0.03903966769576073 Current Avg. Dice: 0.03326701745390892 Current Avg. tumor Dice: 0.0 Current Avg. lymph Dice: 0.07508841156959534\n"
     ]
    },
    {
     "name": "stderr",
     "output_type": "stream",
     "text": [
      "Validate (925 / 10 Steps): 100%|██████████| 40/40 [00:54<00:00,  1.36s/it]:23<00:04,  2.10it/s]\n",
      "Training (1100 / 18000 Steps) (loss=0.82392):  95%|█████████▌| 176/185 [03:18<02:32, 16.97s/it]"
     ]
    },
    {
     "name": "stdout",
     "output_type": "stream",
     "text": [
      "Model Was Saved ! Current Best Avg. Dice: 0.041884567588567734 Current Avg. Dice: 0.041884567588567734 Current Avg. tumor Dice: 0.0 Current Avg. lymph Dice: 0.09453945606946945\n"
     ]
    },
    {
     "name": "stderr",
     "output_type": "stream",
     "text": [
      "Training (1109 / 18000 Steps) (loss=0.82507): 100%|██████████| 185/185 [03:23<00:00,  1.10s/it]\n",
      "Validate (1110 / 10 Steps): 100%|██████████| 40/40 [00:53<00:00,  1.35s/it]8<00:46,  2.04it/s]\n",
      "Training (1200 / 18000 Steps) (loss=0.78645):  49%|████▉     | 91/185 [01:42<26:23, 16.85s/it]"
     ]
    },
    {
     "name": "stdout",
     "output_type": "stream",
     "text": [
      "Model Was Saved ! Current Best Avg. Dice: 0.08075875788927078 Current Avg. Dice: 0.08075875788927078 Current Avg. tumor Dice: 0.0 Current Avg. lymph Dice: 0.18144886195659637\n"
     ]
    },
    {
     "name": "stderr",
     "output_type": "stream",
     "text": [
      "Training (1294 / 18000 Steps) (loss=0.77798): 100%|██████████| 185/185 [02:30<00:00,  1.23it/s]\n",
      "Validate (1295 / 10 Steps): 100%|██████████| 40/40 [00:54<00:00,  1.36s/it]<02:17,  1.31it/s]\n",
      "Training (1300 / 18000 Steps) (loss=0.77537):   3%|▎         | 6/185 [01:00<57:20, 19.22s/it]"
     ]
    },
    {
     "name": "stdout",
     "output_type": "stream",
     "text": [
      "Model Was Not Saved ! Current Best Avg. Dice: 0.08075875788927078 Current Avg. Dice: 0.07594679296016693 Current Avg. tumor Dice: 0.0 Current Avg. lymph Dice: 0.17055675387382507\n"
     ]
    },
    {
     "name": "stderr",
     "output_type": "stream",
     "text": [
      "Validate (1295 / 10 Steps): 100%|██████████| 40/40 [00:55<00:00,  1.38s/it]49<00:40,  1.99it/s]\n",
      "Training (1400 / 18000 Steps) (loss=0.76852):  57%|█████▋    | 106/185 [02:44<22:28, 17.07s/it]"
     ]
    },
    {
     "name": "stdout",
     "output_type": "stream",
     "text": [
      "Model Was Not Saved ! Current Best Avg. Dice: 0.08075875788927078 Current Avg. Dice: 0.06821244955062866 Current Avg. tumor Dice: 0.0024432747159153223 Current Avg. lymph Dice: 0.14961615204811096\n"
     ]
    },
    {
     "name": "stderr",
     "output_type": "stream",
     "text": [
      "Training (1479 / 18000 Steps) (loss=0.77058): 100%|██████████| 185/185 [03:22<00:00,  1.09s/it]\n",
      "Validate (1480 / 10 Steps): 100%|██████████| 40/40 [00:55<00:00,  1.39s/it]3<01:24,  1.96it/s]\n",
      "Training (1500 / 18000 Steps) (loss=0.70633):  11%|█▏        | 21/185 [01:10<47:45, 17.47s/it]"
     ]
    },
    {
     "name": "stdout",
     "output_type": "stream",
     "text": [
      "Model Was Saved ! Current Best Avg. Dice: 0.13750320672988892 Current Avg. Dice: 0.13750320672988892 Current Avg. tumor Dice: 0.11264721304178238 Current Avg. lymph Dice: 0.16779886186122894\n"
     ]
    },
    {
     "name": "stderr",
     "output_type": "stream",
     "text": [
      "Validate (1480 / 10 Steps): 100%|██████████| 40/40 [00:56<00:00,  1.41s/it]58<00:30,  2.10it/s]\n",
      "Training (1600 / 18000 Steps) (loss=0.70637):  65%|██████▌   | 121/185 [02:55<18:48, 17.64s/it]"
     ]
    },
    {
     "name": "stdout",
     "output_type": "stream",
     "text": [
      "Model Was Saved ! Current Best Avg. Dice: 0.1415853351354599 Current Avg. Dice: 0.1415853351354599 Current Avg. tumor Dice: 0.10964608937501907 Current Avg. lymph Dice: 0.17553457617759705\n"
     ]
    },
    {
     "name": "stderr",
     "output_type": "stream",
     "text": [
      "Training (1664 / 18000 Steps) (loss=0.69180): 100%|██████████| 185/185 [03:26<00:00,  1.12s/it]\n",
      "Validate (1665 / 10 Steps): 100%|██████████| 40/40 [00:55<00:00,  1.38s/it]9<01:12,  2.08it/s]\n",
      "Training (1700 / 18000 Steps) (loss=0.73008):  19%|█▉        | 36/185 [01:15<42:53, 17.27s/it]"
     ]
    },
    {
     "name": "stdout",
     "output_type": "stream",
     "text": [
      "Model Was Saved ! Current Best Avg. Dice: 0.1713067591190338 Current Avg. Dice: 0.1713067591190338 Current Avg. tumor Dice: 0.17336764931678772 Current Avg. lymph Dice: 0.17051592469215393\n"
     ]
    },
    {
     "name": "stderr",
     "output_type": "stream",
     "text": [
      "Validate (1665 / 10 Steps): 100%|██████████| 40/40 [00:53<00:00,  1.34s/it]04<00:23,  2.13it/s]\n",
      "Training (1800 / 18000 Steps) (loss=0.69299):  74%|███████▎  | 136/185 [02:58<13:41, 16.76s/it]"
     ]
    },
    {
     "name": "stdout",
     "output_type": "stream",
     "text": [
      "Model Was Saved ! Current Best Avg. Dice: 0.19610968232154846 Current Avg. Dice: 0.19610968232154846 Current Avg. tumor Dice: 0.16969357430934906 Current Avg. lymph Dice: 0.23454627394676208\n"
     ]
    },
    {
     "name": "stderr",
     "output_type": "stream",
     "text": [
      "Training (1849 / 18000 Steps) (loss=0.68311): 100%|██████████| 185/185 [03:23<00:00,  1.10s/it]\n",
      "Validate (1850 / 10 Steps): 100%|██████████| 40/40 [00:52<00:00,  1.32s/it]7<01:06,  2.03it/s]\n",
      "Training (1900 / 18000 Steps) (loss=0.70243):  28%|██▊       | 51/185 [01:20<36:25, 16.31s/it]"
     ]
    },
    {
     "name": "stdout",
     "output_type": "stream",
     "text": [
      "Model Was Not Saved ! Current Best Avg. Dice: 0.19610968232154846 Current Avg. Dice: 0.17151622474193573 Current Avg. tumor Dice: 0.17436087131500244 Current Avg. lymph Dice: 0.17471842467784882\n"
     ]
    },
    {
     "name": "stderr",
     "output_type": "stream",
     "text": [
      "Validate (1850 / 10 Steps): 100%|██████████| 40/40 [00:53<00:00,  1.34s/it]11<00:17,  2.00it/s]\n",
      "Training (2000 / 18000 Steps) (loss=0.69830):  82%|████████▏ | 151/185 [03:05<09:33, 16.87s/it]"
     ]
    },
    {
     "name": "stdout",
     "output_type": "stream",
     "text": [
      "Model Was Saved ! Current Best Avg. Dice: 0.2098631113767624 Current Avg. Dice: 0.2098631113767624 Current Avg. tumor Dice: 0.20010718703269958 Current Avg. lymph Dice: 0.22210417687892914\n"
     ]
    },
    {
     "name": "stderr",
     "output_type": "stream",
     "text": [
      "Training (2034 / 18000 Steps) (loss=0.69980): 100%|██████████| 185/185 [03:21<00:00,  1.09s/it]\n",
      "Validate (2035 / 10 Steps): 100%|██████████| 40/40 [00:54<00:00,  1.36s/it]6<01:01,  1.95it/s]\n",
      "Training (2100 / 18000 Steps) (loss=0.65980):  36%|███▌      | 66/185 [01:31<33:43, 17.01s/it]"
     ]
    },
    {
     "name": "stdout",
     "output_type": "stream",
     "text": [
      "Model Was Saved ! Current Best Avg. Dice: 0.21784080564975739 Current Avg. Dice: 0.21784080564975739 Current Avg. tumor Dice: 0.17391303181648254 Current Avg. lymph Dice: 0.27331438660621643\n"
     ]
    },
    {
     "name": "stderr",
     "output_type": "stream",
     "text": [
      "Validate (2035 / 10 Steps): 100%|██████████| 40/40 [00:55<00:00,  1.38s/it]19<00:10,  1.94it/s]\n",
      "Training (2200 / 18000 Steps) (loss=0.64211):  90%|████████▉ | 166/185 [03:14<05:23, 17.04s/it]"
     ]
    },
    {
     "name": "stdout",
     "output_type": "stream",
     "text": [
      "Model Was Not Saved ! Current Best Avg. Dice: 0.21784080564975739 Current Avg. Dice: 0.21765545010566711 Current Avg. tumor Dice: 0.20336608588695526 Current Avg. lymph Dice: 0.24041827023029327\n"
     ]
    },
    {
     "name": "stderr",
     "output_type": "stream",
     "text": [
      "Training (2219 / 18000 Steps) (loss=0.68655): 100%|██████████| 185/185 [03:23<00:00,  1.10s/it]\n",
      "Validate (2220 / 10 Steps): 100%|██████████| 40/40 [00:55<00:00,  1.39s/it]1<00:46,  2.27it/s]\n",
      "Training (2300 / 18000 Steps) (loss=0.70307):  44%|████▍     | 81/185 [01:36<29:43, 17.15s/it]"
     ]
    },
    {
     "name": "stdout",
     "output_type": "stream",
     "text": [
      "Model Was Not Saved ! Current Best Avg. Dice: 0.21784080564975739 Current Avg. Dice: 0.21333535015583038 Current Avg. tumor Dice: 0.20004664361476898 Current Avg. lymph Dice: 0.23377349972724915\n"
     ]
    },
    {
     "name": "stderr",
     "output_type": "stream",
     "text": [
      "Validate (2220 / 10 Steps): 100%|██████████| 40/40 [00:54<00:00,  1.35s/it]24<00:02,  2.10it/s]\n",
      "Training (2400 / 18000 Steps) (loss=0.62150):  98%|█████████▊| 181/185 [03:19<01:07, 16.99s/it]"
     ]
    },
    {
     "name": "stdout",
     "output_type": "stream",
     "text": [
      "Model Was Saved ! Current Best Avg. Dice: 0.23576195538043976 Current Avg. Dice: 0.23576195538043976 Current Avg. tumor Dice: 0.21345172822475433 Current Avg. lymph Dice: 0.26918280124664307\n"
     ]
    },
    {
     "name": "stderr",
     "output_type": "stream",
     "text": [
      "Training (2404 / 18000 Steps) (loss=0.64481): 100%|██████████| 185/185 [03:22<00:00,  1.09s/it]\n",
      "Validate (2405 / 10 Steps): 100%|██████████| 40/40 [00:53<00:00,  1.34s/it]9<00:43,  2.09it/s]\n",
      "Training (2500 / 18000 Steps) (loss=0.70631):  52%|█████▏    | 96/185 [01:43<24:40, 16.64s/it]"
     ]
    },
    {
     "name": "stdout",
     "output_type": "stream",
     "text": [
      "Model Was Not Saved ! Current Best Avg. Dice: 0.23576195538043976 Current Avg. Dice: 0.15051889419555664 Current Avg. tumor Dice: 0.10398183763027191 Current Avg. lymph Dice: 0.21059170365333557\n"
     ]
    },
    {
     "name": "stderr",
     "output_type": "stream",
     "text": [
      "Training (2589 / 18000 Steps) (loss=0.65062): 100%|██████████| 185/185 [02:28<00:00,  1.25it/s]\n",
      "Validate (2590 / 10 Steps): 100%|██████████| 40/40 [00:52<00:00,  1.31s/it]8<01:33,  1.88it/s]\n",
      "Training (2600 / 18000 Steps) (loss=0.63876):   6%|▌         | 11/185 [01:00<48:08, 16.60s/it]"
     ]
    },
    {
     "name": "stdout",
     "output_type": "stream",
     "text": [
      "Model Was Not Saved ! Current Best Avg. Dice: 0.23576195538043976 Current Avg. Dice: 0.22536316514015198 Current Avg. tumor Dice: 0.22005154192447662 Current Avg. lymph Dice: 0.2381114363670349\n"
     ]
    },
    {
     "name": "stderr",
     "output_type": "stream",
     "text": [
      "Validate (2590 / 10 Steps): 100%|██████████| 40/40 [00:53<00:00,  1.33s/it]51<00:37,  2.01it/s]\n",
      "Training (2700 / 18000 Steps) (loss=0.63517):  60%|██████    | 111/185 [02:45<20:32, 16.65s/it]"
     ]
    },
    {
     "name": "stdout",
     "output_type": "stream",
     "text": [
      "Model Was Saved ! Current Best Avg. Dice: 0.24116554856300354 Current Avg. Dice: 0.24116554856300354 Current Avg. tumor Dice: 0.22362342476844788 Current Avg. lymph Dice: 0.2724093198776245\n"
     ]
    },
    {
     "name": "stderr",
     "output_type": "stream",
     "text": [
      "Training (2774 / 18000 Steps) (loss=0.58320): 100%|██████████| 185/185 [03:21<00:00,  1.09s/it]\n",
      "Validate (2775 / 10 Steps): 100%|██████████| 40/40 [00:54<00:00,  1.36s/it]6<01:20,  1.98it/s]\n",
      "Training (2800 / 18000 Steps) (loss=0.60435):  14%|█▍        | 26/185 [01:11<45:21, 17.11s/it]"
     ]
    },
    {
     "name": "stdout",
     "output_type": "stream",
     "text": [
      "Model Was Saved ! Current Best Avg. Dice: 0.2514878511428833 Current Avg. Dice: 0.2514878511428833 Current Avg. tumor Dice: 0.26073524355888367 Current Avg. lymph Dice: 0.2495638132095337\n"
     ]
    },
    {
     "name": "stderr",
     "output_type": "stream",
     "text": [
      "Validate (2775 / 10 Steps): 100%|██████████| 40/40 [00:54<00:00,  1.36s/it]00<00:29,  2.04it/s]\n",
      "Training (2900 / 18000 Steps) (loss=0.65437):  68%|██████▊   | 126/185 [02:54<16:32, 16.82s/it]"
     ]
    },
    {
     "name": "stdout",
     "output_type": "stream",
     "text": [
      "Model Was Not Saved ! Current Best Avg. Dice: 0.2514878511428833 Current Avg. Dice: 0.24148784577846527 Current Avg. tumor Dice: 0.24400809407234192 Current Avg. lymph Dice: 0.24666480720043182\n"
     ]
    },
    {
     "name": "stderr",
     "output_type": "stream",
     "text": [
      "Training (2959 / 18000 Steps) (loss=0.67114): 100%|██████████| 185/185 [03:22<00:00,  1.10s/it]\n",
      "Validate (2960 / 10 Steps): 100%|██████████| 40/40 [00:54<00:00,  1.37s/it]2<01:08,  2.12it/s]\n",
      "Training (3000 / 18000 Steps) (loss=0.59208):  22%|██▏       | 41/185 [01:17<40:41, 16.96s/it]"
     ]
    },
    {
     "name": "stdout",
     "output_type": "stream",
     "text": [
      "Model Was Not Saved ! Current Best Avg. Dice: 0.2514878511428833 Current Avg. Dice: 0.24264903366565704 Current Avg. tumor Dice: 0.23782485723495483 Current Avg. lymph Dice: 0.2572672963142395\n"
     ]
    },
    {
     "name": "stderr",
     "output_type": "stream",
     "text": [
      "Validate (2960 / 10 Steps): 100%|██████████| 40/40 [00:54<00:00,  1.35s/it]05<00:21,  2.13it/s]\n",
      "Training (3100 / 18000 Steps) (loss=0.62835):  76%|███████▌  | 141/185 [03:00<12:23, 16.89s/it]"
     ]
    },
    {
     "name": "stdout",
     "output_type": "stream",
     "text": [
      "Model Was Saved ! Current Best Avg. Dice: 0.27620309591293335 Current Avg. Dice: 0.27620309591293335 Current Avg. tumor Dice: 0.2568235695362091 Current Avg. lymph Dice: 0.3063519299030304\n"
     ]
    },
    {
     "name": "stderr",
     "output_type": "stream",
     "text": [
      "Training (3144 / 18000 Steps) (loss=0.69048): 100%|██████████| 185/185 [03:22<00:00,  1.10s/it]\n",
      "Validate (3145 / 10 Steps): 100%|██████████| 40/40 [00:54<00:00,  1.36s/it]9<01:01,  2.10it/s]\n",
      "Training (3200 / 18000 Steps) (loss=0.60668):  30%|███       | 56/185 [01:24<36:13, 16.85s/it]"
     ]
    },
    {
     "name": "stdout",
     "output_type": "stream",
     "text": [
      "Model Was Not Saved ! Current Best Avg. Dice: 0.27620309591293335 Current Avg. Dice: 0.2329261153936386 Current Avg. tumor Dice: 0.2085842490196228 Current Avg. lymph Dice: 0.2670811116695404\n"
     ]
    },
    {
     "name": "stderr",
     "output_type": "stream",
     "text": [
      "Validate (3145 / 10 Steps): 100%|██████████| 40/40 [00:52<00:00,  1.32s/it]14<00:14,  2.07it/s]\n",
      "Training (3300 / 18000 Steps) (loss=0.58653):  84%|████████▍ | 156/185 [03:08<08:00, 16.57s/it]"
     ]
    },
    {
     "name": "stdout",
     "output_type": "stream",
     "text": [
      "Model Was Saved ! Current Best Avg. Dice: 0.28272926807403564 Current Avg. Dice: 0.28272926807403564 Current Avg. tumor Dice: 0.25913938879966736 Current Avg. lymph Dice: 0.3180275857448578\n"
     ]
    },
    {
     "name": "stderr",
     "output_type": "stream",
     "text": [
      "Training (3329 / 18000 Steps) (loss=0.61434): 100%|██████████| 185/185 [03:22<00:00,  1.09s/it]\n",
      "Validate (3330 / 10 Steps): 100%|██████████| 40/40 [00:53<00:00,  1.34s/it]9<00:56,  2.05it/s]\n",
      "Training (3400 / 18000 Steps) (loss=0.56741):  38%|███▊      | 71/185 [01:32<31:30, 16.58s/it]"
     ]
    },
    {
     "name": "stdout",
     "output_type": "stream",
     "text": [
      "Model Was Not Saved ! Current Best Avg. Dice: 0.28272926807403564 Current Avg. Dice: 0.2696937322616577 Current Avg. tumor Dice: 0.2413913458585739 Current Avg. lymph Dice: 0.30921095609664917\n"
     ]
    },
    {
     "name": "stderr",
     "output_type": "stream",
     "text": [
      "Validate (3330 / 10 Steps): 100%|██████████| 40/40 [00:54<00:00,  1.36s/it]21<00:07,  1.94it/s]\n",
      "Training (3500 / 18000 Steps) (loss=0.54125):  92%|█████████▏| 171/185 [03:16<03:58, 17.01s/it]"
     ]
    },
    {
     "name": "stdout",
     "output_type": "stream",
     "text": [
      "Model Was Saved ! Current Best Avg. Dice: 0.30085137486457825 Current Avg. Dice: 0.30085137486457825 Current Avg. tumor Dice: 0.29001858830451965 Current Avg. lymph Dice: 0.32070350646972656\n"
     ]
    },
    {
     "name": "stderr",
     "output_type": "stream",
     "text": [
      "Training (3514 / 18000 Steps) (loss=0.67180): 100%|██████████| 185/185 [03:23<00:00,  1.10s/it]\n",
      "Validate (3515 / 10 Steps): 100%|██████████| 40/40 [00:54<00:00,  1.36s/it]4<00:59,  1.67it/s]\n",
      "Training (3600 / 18000 Steps) (loss=0.65438):  46%|████▋     | 86/185 [01:38<28:02, 16.99s/it]"
     ]
    },
    {
     "name": "stdout",
     "output_type": "stream",
     "text": [
      "Model Was Not Saved ! Current Best Avg. Dice: 0.30085137486457825 Current Avg. Dice: 0.2663062512874603 Current Avg. tumor Dice: 0.2615826427936554 Current Avg. lymph Dice: 0.27691754698753357\n"
     ]
    },
    {
     "name": "stderr",
     "output_type": "stream",
     "text": [
      "Training (3699 / 18000 Steps) (loss=0.55501): 100%|██████████| 185/185 [02:26<00:00,  1.26it/s]\n",
      "Validate (3700 / 10 Steps): 100%|██████████| 40/40 [00:55<00:00,  1.39s/it]<?, ?it/s]\n",
      "Training (3700 / 18000 Steps) (loss=0.54884):   1%|          | 1/185 [00:59<3:03:27, 59.82s/it]"
     ]
    },
    {
     "name": "stdout",
     "output_type": "stream",
     "text": [
      "Model Was Saved ! Current Best Avg. Dice: 0.3009069859981537 Current Avg. Dice: 0.3009069859981537 Current Avg. tumor Dice: 0.27170976996421814 Current Avg. lymph Dice: 0.3420582115650177\n"
     ]
    },
    {
     "name": "stderr",
     "output_type": "stream",
     "text": [
      "Validate (3700 / 10 Steps): 100%|██████████| 40/40 [00:54<00:00,  1.36s/it]48<00:41,  2.05it/s]\n",
      "Training (3800 / 18000 Steps) (loss=0.67148):  55%|█████▍    | 101/185 [02:43<23:47, 16.99s/it]"
     ]
    },
    {
     "name": "stdout",
     "output_type": "stream",
     "text": [
      "Model Was Saved ! Current Best Avg. Dice: 0.3015333116054535 Current Avg. Dice: 0.3015333116054535 Current Avg. tumor Dice: 0.28498420119285583 Current Avg. lymph Dice: 0.3279860317707062\n"
     ]
    },
    {
     "name": "stderr",
     "output_type": "stream",
     "text": [
      "Training (3884 / 18000 Steps) (loss=0.48492): 100%|██████████| 185/185 [03:25<00:00,  1.11s/it]\n",
      "Validate (3885 / 10 Steps): 100%|██████████| 40/40 [00:53<00:00,  1.34s/it]0<01:18,  2.16it/s]\n",
      "Training (3900 / 18000 Steps) (loss=0.56759):   9%|▊         | 16/185 [01:05<47:30, 16.87s/it]"
     ]
    },
    {
     "name": "stdout",
     "output_type": "stream",
     "text": [
      "Model Was Saved ! Current Best Avg. Dice: 0.31644153594970703 Current Avg. Dice: 0.31644153594970703 Current Avg. tumor Dice: 0.29358428716659546 Current Avg. lymph Dice: 0.35255834460258484\n"
     ]
    },
    {
     "name": "stderr",
     "output_type": "stream",
     "text": [
      "Validate (3885 / 10 Steps): 100%|██████████| 40/40 [00:53<00:00,  1.33s/it]55<00:32,  2.14it/s]\n",
      "Training (4000 / 18000 Steps) (loss=0.59274):  63%|██████▎   | 116/185 [02:48<18:56, 16.48s/it]"
     ]
    },
    {
     "name": "stdout",
     "output_type": "stream",
     "text": [
      "Model Was Not Saved ! Current Best Avg. Dice: 0.31644153594970703 Current Avg. Dice: 0.27863219380378723 Current Avg. tumor Dice: 0.2544819414615631 Current Avg. lymph Dice: 0.31095457077026367\n"
     ]
    },
    {
     "name": "stderr",
     "output_type": "stream",
     "text": [
      "Training (4069 / 18000 Steps) (loss=0.67677): 100%|██████████| 185/185 [03:22<00:00,  1.10s/it]\n",
      "Validate (4070 / 10 Steps): 100%|██████████| 40/40 [00:53<00:00,  1.35s/it]8<01:18,  1.98it/s]\n",
      "Training (4100 / 18000 Steps) (loss=0.63768):  17%|█▋        | 31/185 [01:12<42:52, 16.71s/it]"
     ]
    },
    {
     "name": "stdout",
     "output_type": "stream",
     "text": [
      "Model Was Not Saved ! Current Best Avg. Dice: 0.31644153594970703 Current Avg. Dice: 0.255741149187088 Current Avg. tumor Dice: 0.22719471156597137 Current Avg. lymph Dice: 0.29608675837516785\n"
     ]
    },
    {
     "name": "stderr",
     "output_type": "stream",
     "text": [
      "Validate (4070 / 10 Steps): 100%|██████████| 40/40 [00:54<00:00,  1.36s/it]01<00:28,  1.95it/s]\n",
      "Training (4200 / 18000 Steps) (loss=0.61097):  71%|███████   | 131/185 [02:56<15:09, 16.85s/it]"
     ]
    },
    {
     "name": "stdout",
     "output_type": "stream",
     "text": [
      "Model Was Not Saved ! Current Best Avg. Dice: 0.31644153594970703 Current Avg. Dice: 0.2840861976146698 Current Avg. tumor Dice: 0.2844260334968567 Current Avg. lymph Dice: 0.2873179614543915\n"
     ]
    },
    {
     "name": "stderr",
     "output_type": "stream",
     "text": [
      "Training (4254 / 18000 Steps) (loss=0.65515): 100%|██████████| 185/185 [03:22<00:00,  1.09s/it]\n",
      "Validate (4255 / 10 Steps): 100%|██████████| 40/40 [00:55<00:00,  1.39s/it]5<01:10,  1.99it/s]\n",
      "Training (4300 / 18000 Steps) (loss=0.54697):  25%|██▍       | 46/185 [01:21<39:42, 17.14s/it]"
     ]
    },
    {
     "name": "stdout",
     "output_type": "stream",
     "text": [
      "Model Was Not Saved ! Current Best Avg. Dice: 0.31644153594970703 Current Avg. Dice: 0.23258981108665466 Current Avg. tumor Dice: 0.2557743191719055 Current Avg. lymph Dice: 0.20514824986457825\n"
     ]
    },
    {
     "name": "stderr",
     "output_type": "stream",
     "text": [
      "Validate (4255 / 10 Steps): 100%|██████████| 40/40 [00:56<00:00,  1.41s/it]08<00:17,  2.26it/s]\n",
      "Training (4400 / 18000 Steps) (loss=0.63888):  79%|███████▉  | 146/185 [03:05<11:18, 17.39s/it]"
     ]
    },
    {
     "name": "stdout",
     "output_type": "stream",
     "text": [
      "Model Was Not Saved ! Current Best Avg. Dice: 0.31644153594970703 Current Avg. Dice: 0.31372755765914917 Current Avg. tumor Dice: 0.299506813287735 Current Avg. lymph Dice: 0.3398028016090393\n"
     ]
    },
    {
     "name": "stderr",
     "output_type": "stream",
     "text": [
      "Training (4439 / 18000 Steps) (loss=0.50540): 100%|██████████| 185/185 [03:24<00:00,  1.10s/it]\n",
      "Validate (4440 / 10 Steps): 100%|██████████| 40/40 [00:55<00:00,  1.40s/it]2<00:59,  2.10it/s]\n",
      "Training (4500 / 18000 Steps) (loss=0.57391):  33%|███▎      | 61/185 [01:27<35:35, 17.22s/it]"
     ]
    },
    {
     "name": "stdout",
     "output_type": "stream",
     "text": [
      "Model Was Not Saved ! Current Best Avg. Dice: 0.31644153594970703 Current Avg. Dice: 0.3072430193424225 Current Avg. tumor Dice: 0.27931126952171326 Current Avg. lymph Dice: 0.35147857666015625\n"
     ]
    },
    {
     "name": "stderr",
     "output_type": "stream",
     "text": [
      "Validate (4440 / 10 Steps): 100%|██████████| 40/40 [00:54<00:00,  1.36s/it]16<00:11,  2.11it/s]\n",
      "Training (4600 / 18000 Steps) (loss=0.61096):  87%|████████▋ | 161/185 [03:10<06:44, 16.86s/it]"
     ]
    },
    {
     "name": "stdout",
     "output_type": "stream",
     "text": [
      "Model Was Not Saved ! Current Best Avg. Dice: 0.31644153594970703 Current Avg. Dice: 0.29765206575393677 Current Avg. tumor Dice: 0.27451491355895996 Current Avg. lymph Dice: 0.3310306966304779\n"
     ]
    },
    {
     "name": "stderr",
     "output_type": "stream",
     "text": [
      "Training (4624 / 18000 Steps) (loss=0.58250): 100%|██████████| 185/185 [03:23<00:00,  1.10s/it]\n",
      "Validate (4625 / 10 Steps): 100%|██████████| 40/40 [00:54<00:00,  1.36s/it]9<00:52,  2.10it/s]\n",
      "Training (4700 / 18000 Steps) (loss=0.55674):  41%|████      | 76/185 [01:34<30:29, 16.79s/it]"
     ]
    },
    {
     "name": "stdout",
     "output_type": "stream",
     "text": [
      "Model Was Not Saved ! Current Best Avg. Dice: 0.31644153594970703 Current Avg. Dice: 0.3033791482448578 Current Avg. tumor Dice: 0.29500970244407654 Current Avg. lymph Dice: 0.32696038484573364\n"
     ]
    },
    {
     "name": "stderr",
     "output_type": "stream",
     "text": [
      "Validate (4625 / 10 Steps): 100%|██████████| 40/40 [00:53<00:00,  1.33s/it]24<00:04,  2.04it/s]\n",
      "Training (4800 / 18000 Steps) (loss=0.64339):  95%|█████████▌| 176/185 [03:17<02:28, 16.45s/it]"
     ]
    },
    {
     "name": "stdout",
     "output_type": "stream",
     "text": [
      "Model Was Not Saved ! Current Best Avg. Dice: 0.31644153594970703 Current Avg. Dice: 0.3089854419231415 Current Avg. tumor Dice: 0.301327645778656 Current Avg. lymph Dice: 0.3285437226295471\n"
     ]
    },
    {
     "name": "stderr",
     "output_type": "stream",
     "text": [
      "Training (4809 / 18000 Steps) (loss=0.56472): 100%|██████████| 185/185 [03:21<00:00,  1.09s/it]\n",
      "Validate (4810 / 10 Steps): 100%|██████████| 40/40 [00:53<00:00,  1.34s/it]8<00:48,  1.97it/s]\n",
      "Training (4900 / 18000 Steps) (loss=0.63021):  49%|████▉     | 91/185 [01:43<26:23, 16.85s/it]"
     ]
    },
    {
     "name": "stdout",
     "output_type": "stream",
     "text": [
      "Model Was Saved ! Current Best Avg. Dice: 0.3225238025188446 Current Avg. Dice: 0.3225238025188446 Current Avg. tumor Dice: 0.29703599214553833 Current Avg. lymph Dice: 0.3602268099784851\n"
     ]
    },
    {
     "name": "stderr",
     "output_type": "stream",
     "text": [
      "Training (4994 / 18000 Steps) (loss=0.65685): 100%|██████████| 185/185 [02:29<00:00,  1.24it/s]\n",
      "Validate (4995 / 10 Steps): 100%|██████████| 40/40 [00:53<00:00,  1.35s/it]<02:09,  1.39it/s]\n",
      "Training (5000 / 18000 Steps) (loss=0.62530):   3%|▎         | 6/185 [01:00<57:21, 19.23s/it]"
     ]
    },
    {
     "name": "stdout",
     "output_type": "stream",
     "text": [
      "Model Was Saved ! Current Best Avg. Dice: 0.332590252161026 Current Avg. Dice: 0.332590252161026 Current Avg. tumor Dice: 0.3204788267612457 Current Avg. lymph Dice: 0.3491803705692291\n"
     ]
    },
    {
     "name": "stderr",
     "output_type": "stream",
     "text": [
      "Validate (4995 / 10 Steps): 100%|██████████| 40/40 [00:54<00:00,  1.36s/it]48<00:37,  2.15it/s]\n",
      "Training (5100 / 18000 Steps) (loss=0.64001):  57%|█████▋    | 106/185 [02:43<22:10, 16.84s/it]"
     ]
    },
    {
     "name": "stdout",
     "output_type": "stream",
     "text": [
      "Model Was Not Saved ! Current Best Avg. Dice: 0.332590252161026 Current Avg. Dice: 0.32592374086380005 Current Avg. tumor Dice: 0.3069702088832855 Current Avg. lymph Dice: 0.3557615280151367\n"
     ]
    },
    {
     "name": "stderr",
     "output_type": "stream",
     "text": [
      "Training (5179 / 18000 Steps) (loss=0.59828): 100%|██████████| 185/185 [03:20<00:00,  1.09s/it]\n",
      "Validate (5180 / 10 Steps): 100%|██████████| 40/40 [00:55<00:00,  1.38s/it]2<01:13,  2.25it/s]\n",
      "Training (5200 / 18000 Steps) (loss=0.59312):  11%|█▏        | 21/185 [01:07<46:30, 17.02s/it]"
     ]
    },
    {
     "name": "stdout",
     "output_type": "stream",
     "text": [
      "Model Was Not Saved ! Current Best Avg. Dice: 0.332590252161026 Current Avg. Dice: 0.31120565533638 Current Avg. tumor Dice: 0.2863561809062958 Current Avg. lymph Dice: 0.35058555006980896\n"
     ]
    },
    {
     "name": "stderr",
     "output_type": "stream",
     "text": [
      "Validate (5180 / 10 Steps): 100%|██████████| 40/40 [00:53<00:00,  1.35s/it]56<00:32,  2.03it/s]\n",
      "Training (5300 / 18000 Steps) (loss=0.54836):  65%|██████▌   | 121/185 [02:50<17:48, 16.69s/it]"
     ]
    },
    {
     "name": "stdout",
     "output_type": "stream",
     "text": [
      "Model Was Not Saved ! Current Best Avg. Dice: 0.332590252161026 Current Avg. Dice: 0.2971593737602234 Current Avg. tumor Dice: 0.32081547379493713 Current Avg. lymph Dice: 0.2830234467983246\n"
     ]
    },
    {
     "name": "stderr",
     "output_type": "stream",
     "text": [
      "Training (5364 / 18000 Steps) (loss=0.60831): 100%|██████████| 185/185 [03:22<00:00,  1.09s/it]\n",
      "Validate (5365 / 10 Steps): 100%|██████████| 40/40 [00:52<00:00,  1.32s/it]0<01:13,  2.03it/s]\n",
      "Training (5400 / 18000 Steps) (loss=0.65025):  19%|█▉        | 36/185 [01:12<40:29, 16.30s/it]"
     ]
    },
    {
     "name": "stdout",
     "output_type": "stream",
     "text": [
      "Model Was Not Saved ! Current Best Avg. Dice: 0.332590252161026 Current Avg. Dice: 0.311531126499176 Current Avg. tumor Dice: 0.30231794714927673 Current Avg. lymph Dice: 0.33473527431488037\n"
     ]
    },
    {
     "name": "stderr",
     "output_type": "stream",
     "text": [
      "Validate (5365 / 10 Steps): 100%|██████████| 40/40 [00:52<00:00,  1.32s/it]03<00:25,  1.97it/s]\n",
      "Training (5500 / 18000 Steps) (loss=0.57303):  74%|███████▎  | 136/185 [02:57<13:34, 16.62s/it]"
     ]
    },
    {
     "name": "stdout",
     "output_type": "stream",
     "text": [
      "Model Was Saved ! Current Best Avg. Dice: 0.34221136569976807 Current Avg. Dice: 0.34221136569976807 Current Avg. tumor Dice: 0.32837653160095215 Current Avg. lymph Dice: 0.36957404017448425\n"
     ]
    },
    {
     "name": "stderr",
     "output_type": "stream",
     "text": [
      "Training (5549 / 18000 Steps) (loss=0.61698): 100%|██████████| 185/185 [03:20<00:00,  1.08s/it]\n",
      "Validate (5550 / 10 Steps): 100%|██████████| 40/40 [00:54<00:00,  1.37s/it]8<01:09,  1.94it/s]\n",
      "Training (5600 / 18000 Steps) (loss=0.60045):  28%|██▊       | 51/185 [01:23<37:48, 16.93s/it]"
     ]
    },
    {
     "name": "stdout",
     "output_type": "stream",
     "text": [
      "Model Was Not Saved ! Current Best Avg. Dice: 0.34221136569976807 Current Avg. Dice: 0.34032344818115234 Current Avg. tumor Dice: 0.32414212822914124 Current Avg. lymph Dice: 0.3658648431301117\n"
     ]
    },
    {
     "name": "stderr",
     "output_type": "stream",
     "text": [
      "Validate (5550 / 10 Steps): 100%|██████████| 40/40 [00:55<00:00,  1.39s/it]11<00:17,  2.04it/s]\n",
      "Training (5700 / 18000 Steps) (loss=0.48681):  82%|████████▏ | 151/185 [03:06<09:44, 17.20s/it]"
     ]
    },
    {
     "name": "stdout",
     "output_type": "stream",
     "text": [
      "Model Was Not Saved ! Current Best Avg. Dice: 0.34221136569976807 Current Avg. Dice: 0.32349497079849243 Current Avg. tumor Dice: 0.32857900857925415 Current Avg. lymph Dice: 0.32286837697029114\n"
     ]
    },
    {
     "name": "stderr",
     "output_type": "stream",
     "text": [
      "Training (5734 / 18000 Steps) (loss=0.51610): 100%|██████████| 185/185 [03:23<00:00,  1.10s/it]\n",
      "Validate (5735 / 10 Steps): 100%|██████████| 40/40 [00:55<00:00,  1.38s/it]4<00:57,  2.07it/s]\n",
      "Training (5800 / 18000 Steps) (loss=0.62803):  36%|███▌      | 66/185 [01:30<34:12, 17.25s/it]"
     ]
    },
    {
     "name": "stdout",
     "output_type": "stream",
     "text": [
      "Model Was Saved ! Current Best Avg. Dice: 0.3495175838470459 Current Avg. Dice: 0.3495175838470459 Current Avg. tumor Dice: 0.3305351436138153 Current Avg. lymph Dice: 0.38492655754089355\n"
     ]
    },
    {
     "name": "stderr",
     "output_type": "stream",
     "text": [
      "Validate (5735 / 10 Steps): 100%|██████████| 40/40 [00:54<00:00,  1.37s/it]18<00:09,  2.08it/s]\n",
      "Training (5900 / 18000 Steps) (loss=0.67355):  90%|████████▉ | 166/185 [03:13<05:20, 16.88s/it]"
     ]
    },
    {
     "name": "stdout",
     "output_type": "stream",
     "text": [
      "Model Was Not Saved ! Current Best Avg. Dice: 0.3495175838470459 Current Avg. Dice: 0.32301297783851624 Current Avg. tumor Dice: 0.31341150403022766 Current Avg. lymph Dice: 0.34493789076805115\n"
     ]
    },
    {
     "name": "stderr",
     "output_type": "stream",
     "text": [
      "Training (5919 / 18000 Steps) (loss=0.59572): 100%|██████████| 185/185 [03:23<00:00,  1.10s/it]\n",
      "Validate (5920 / 10 Steps): 100%|██████████| 40/40 [00:54<00:00,  1.35s/it]2<00:51,  2.04it/s]\n",
      "Training (6000 / 18000 Steps) (loss=0.64024):  44%|████▍     | 81/185 [01:36<28:56, 16.69s/it]"
     ]
    },
    {
     "name": "stdout",
     "output_type": "stream",
     "text": [
      "Model Was Not Saved ! Current Best Avg. Dice: 0.3495175838470459 Current Avg. Dice: 0.33690887689590454 Current Avg. tumor Dice: 0.31402823328971863 Current Avg. lymph Dice: 0.37197455763816833\n"
     ]
    },
    {
     "name": "stderr",
     "output_type": "stream",
     "text": [
      "Validate (5920 / 10 Steps): 100%|██████████| 40/40 [00:52<00:00,  1.32s/it]26<00:02,  2.02it/s]\n",
      "Training (6100 / 18000 Steps) (loss=0.59047):  98%|█████████▊| 181/185 [03:19<01:05, 16.37s/it]"
     ]
    },
    {
     "name": "stdout",
     "output_type": "stream",
     "text": [
      "Model Was Not Saved ! Current Best Avg. Dice: 0.3495175838470459 Current Avg. Dice: 0.3246210515499115 Current Avg. tumor Dice: 0.3064716160297394 Current Avg. lymph Dice: 0.3559972047805786\n"
     ]
    },
    {
     "name": "stderr",
     "output_type": "stream",
     "text": [
      "Training (6104 / 18000 Steps) (loss=0.64255): 100%|██████████| 185/185 [03:21<00:00,  1.09s/it]\n",
      "Validate (6105 / 10 Steps): 100%|██████████| 40/40 [00:53<00:00,  1.34s/it]1<00:47,  1.91it/s]\n",
      "Training (6200 / 18000 Steps) (loss=0.51694):  52%|█████▏    | 96/185 [01:44<24:34, 16.57s/it]"
     ]
    },
    {
     "name": "stdout",
     "output_type": "stream",
     "text": [
      "Model Was Not Saved ! Current Best Avg. Dice: 0.3495175838470459 Current Avg. Dice: 0.3453981876373291 Current Avg. tumor Dice: 0.32489490509033203 Current Avg. lymph Dice: 0.3803459703922272\n"
     ]
    },
    {
     "name": "stderr",
     "output_type": "stream",
     "text": [
      "Training (6289 / 18000 Steps) (loss=0.57354): 100%|██████████| 185/185 [02:28<00:00,  1.25it/s]\n",
      "Validate (6290 / 10 Steps): 100%|██████████| 40/40 [00:54<00:00,  1.35s/it]8<01:33,  1.87it/s]\n",
      "Training (6300 / 18000 Steps) (loss=0.44327):   6%|▌         | 11/185 [01:02<49:28, 17.06s/it]"
     ]
    },
    {
     "name": "stdout",
     "output_type": "stream",
     "text": [
      "Model Was Not Saved ! Current Best Avg. Dice: 0.3495175838470459 Current Avg. Dice: 0.3455985188484192 Current Avg. tumor Dice: 0.3325739800930023 Current Avg. lymph Dice: 0.3726786673069\n"
     ]
    },
    {
     "name": "stderr",
     "output_type": "stream",
     "text": [
      "Validate (6290 / 10 Steps): 100%|██████████| 40/40 [00:55<00:00,  1.40s/it]49<00:34,  2.16it/s]\n",
      "Training (6400 / 18000 Steps) (loss=0.58254):  60%|██████    | 111/185 [02:45<21:17, 17.26s/it]"
     ]
    },
    {
     "name": "stdout",
     "output_type": "stream",
     "text": [
      "Model Was Not Saved ! Current Best Avg. Dice: 0.3495175838470459 Current Avg. Dice: 0.3482288718223572 Current Avg. tumor Dice: 0.3397429287433624 Current Avg. lymph Dice: 0.3682328462600708\n"
     ]
    },
    {
     "name": "stderr",
     "output_type": "stream",
     "text": [
      "Training (6474 / 18000 Steps) (loss=0.61730): 100%|██████████| 185/185 [03:21<00:00,  1.09s/it]\n",
      "Validate (6475 / 10 Steps): 100%|██████████| 40/40 [00:55<00:00,  1.39s/it]5<01:15,  2.12it/s]\n",
      "Training (6500 / 18000 Steps) (loss=0.62260):  14%|█▍        | 26/185 [01:11<45:58, 17.35s/it]"
     ]
    },
    {
     "name": "stdout",
     "output_type": "stream",
     "text": [
      "Model Was Saved ! Current Best Avg. Dice: 0.35233864188194275 Current Avg. Dice: 0.35233864188194275 Current Avg. tumor Dice: 0.3488517999649048 Current Avg. lymph Dice: 0.3683217167854309\n"
     ]
    },
    {
     "name": "stderr",
     "output_type": "stream",
     "text": [
      "Validate (6475 / 10 Steps): 100%|██████████| 40/40 [00:54<00:00,  1.36s/it]59<00:28,  2.08it/s]\n",
      "Training (6600 / 18000 Steps) (loss=0.48376):  68%|██████▊   | 126/185 [02:54<16:29, 16.77s/it]"
     ]
    },
    {
     "name": "stdout",
     "output_type": "stream",
     "text": [
      "Model Was Not Saved ! Current Best Avg. Dice: 0.35233864188194275 Current Avg. Dice: 0.3447818458080292 Current Avg. tumor Dice: 0.31976062059402466 Current Avg. lymph Dice: 0.3812049329280853\n"
     ]
    },
    {
     "name": "stderr",
     "output_type": "stream",
     "text": [
      "Training (6659 / 18000 Steps) (loss=0.59388): 100%|██████████| 185/185 [03:24<00:00,  1.10s/it]\n",
      "Validate (6660 / 10 Steps): 100%|██████████| 40/40 [00:53<00:00,  1.35s/it]2<01:08,  2.12it/s]\n",
      "Training (6700 / 18000 Steps) (loss=0.47098):  22%|██▏       | 41/185 [01:16<39:57, 16.65s/it]"
     ]
    },
    {
     "name": "stdout",
     "output_type": "stream",
     "text": [
      "Model Was Not Saved ! Current Best Avg. Dice: 0.35233864188194275 Current Avg. Dice: 0.3467026352882385 Current Avg. tumor Dice: 0.33233290910720825 Current Avg. lymph Dice: 0.37764349579811096\n"
     ]
    },
    {
     "name": "stderr",
     "output_type": "stream",
     "text": [
      "Validate (6660 / 10 Steps): 100%|██████████| 40/40 [00:53<00:00,  1.33s/it]06<00:22,  2.04it/s]\n",
      "Training (6800 / 18000 Steps) (loss=0.62496):  76%|███████▌  | 141/185 [03:00<12:03, 16.43s/it]"
     ]
    },
    {
     "name": "stdout",
     "output_type": "stream",
     "text": [
      "Model Was Not Saved ! Current Best Avg. Dice: 0.35233864188194275 Current Avg. Dice: 0.34376150369644165 Current Avg. tumor Dice: 0.34473899006843567 Current Avg. lymph Dice: 0.3531666398048401\n"
     ]
    },
    {
     "name": "stderr",
     "output_type": "stream",
     "text": [
      "Training (6844 / 18000 Steps) (loss=0.56693): 100%|██████████| 185/185 [03:21<00:00,  1.09s/it]\n",
      "Validate (6845 / 10 Steps): 100%|██████████| 40/40 [00:53<00:00,  1.33s/it]1<01:06,  1.95it/s]\n",
      "Training (6900 / 18000 Steps) (loss=0.57483):  30%|███       | 56/185 [01:25<35:57, 16.72s/it]"
     ]
    },
    {
     "name": "stdout",
     "output_type": "stream",
     "text": [
      "Model Was Saved ! Current Best Avg. Dice: 0.35997360944747925 Current Avg. Dice: 0.35997360944747925 Current Avg. tumor Dice: 0.34443527460098267 Current Avg. lymph Dice: 0.385746568441391\n"
     ]
    },
    {
     "name": "stderr",
     "output_type": "stream",
     "text": [
      "Validate (6845 / 10 Steps): 100%|██████████| 40/40 [00:54<00:00,  1.36s/it]14<00:14,  2.00it/s]\n",
      "Training (7000 / 18000 Steps) (loss=0.46953):  84%|████████▍ | 156/185 [03:08<08:09, 16.89s/it]"
     ]
    },
    {
     "name": "stdout",
     "output_type": "stream",
     "text": [
      "Model Was Not Saved ! Current Best Avg. Dice: 0.35997360944747925 Current Avg. Dice: 0.3502531051635742 Current Avg. tumor Dice: 0.32431721687316895 Current Avg. lymph Dice: 0.389384001493454\n"
     ]
    },
    {
     "name": "stderr",
     "output_type": "stream",
     "text": [
      "Training (7029 / 18000 Steps) (loss=0.59564): 100%|██████████| 185/185 [03:22<00:00,  1.10s/it]\n",
      "Validate (7030 / 10 Steps): 100%|██████████| 40/40 [00:54<00:00,  1.37s/it]7<00:58,  1.98it/s]\n",
      "Training (7100 / 18000 Steps) (loss=0.56945):  38%|███▊      | 71/185 [01:32<32:09, 16.93s/it]"
     ]
    },
    {
     "name": "stdout",
     "output_type": "stream",
     "text": [
      "Model Was Not Saved ! Current Best Avg. Dice: 0.35997360944747925 Current Avg. Dice: 0.3317461609840393 Current Avg. tumor Dice: 0.31791236996650696 Current Avg. lymph Dice: 0.3509930372238159\n"
     ]
    },
    {
     "name": "stderr",
     "output_type": "stream",
     "text": [
      "Validate (7030 / 10 Steps): 100%|██████████| 40/40 [00:54<00:00,  1.37s/it]20<00:07,  2.10it/s]\n",
      "Training (7200 / 18000 Steps) (loss=0.55282):  92%|█████████▏| 171/185 [03:15<03:59, 17.11s/it]"
     ]
    },
    {
     "name": "stdout",
     "output_type": "stream",
     "text": [
      "Model Was Saved ! Current Best Avg. Dice: 0.3721773624420166 Current Avg. Dice: 0.3721773624420166 Current Avg. tumor Dice: 0.36001554131507874 Current Avg. lymph Dice: 0.3920304775238037\n"
     ]
    },
    {
     "name": "stderr",
     "output_type": "stream",
     "text": [
      "Training (7214 / 18000 Steps) (loss=0.60552): 100%|██████████| 185/185 [03:22<00:00,  1.10s/it]\n",
      "Validate (7215 / 10 Steps): 100%|██████████| 40/40 [00:54<00:00,  1.37s/it]3<00:49,  2.04it/s]\n",
      "Training (7300 / 18000 Steps) (loss=0.48994):  46%|████▋     | 86/185 [01:39<28:12, 17.10s/it]"
     ]
    },
    {
     "name": "stdout",
     "output_type": "stream",
     "text": [
      "Model Was Saved ! Current Best Avg. Dice: 0.3775210976600647 Current Avg. Dice: 0.3775210976600647 Current Avg. tumor Dice: 0.36558645963668823 Current Avg. lymph Dice: 0.39872345328330994\n"
     ]
    },
    {
     "name": "stderr",
     "output_type": "stream",
     "text": [
      "Training (7399 / 18000 Steps) (loss=0.61095): 100%|██████████| 185/185 [02:28<00:00,  1.24it/s]\n",
      "Validate (7400 / 10 Steps): 100%|██████████| 40/40 [00:53<00:00,  1.35s/it]<?, ?it/s]\n",
      "Training (7400 / 18000 Steps) (loss=0.60154):   1%|          | 1/185 [00:57<2:56:35, 57.58s/it]"
     ]
    },
    {
     "name": "stdout",
     "output_type": "stream",
     "text": [
      "Model Was Not Saved ! Current Best Avg. Dice: 0.3775210976600647 Current Avg. Dice: 0.3540875017642975 Current Avg. tumor Dice: 0.33002641797065735 Current Avg. lymph Dice: 0.39001649618148804\n"
     ]
    },
    {
     "name": "stderr",
     "output_type": "stream",
     "text": [
      "Validate (7400 / 10 Steps): 100%|██████████| 40/40 [00:53<00:00,  1.35s/it]47<00:44,  1.93it/s]\n",
      "Training (7500 / 18000 Steps) (loss=0.61809):  55%|█████▍    | 101/185 [02:41<23:22, 16.70s/it]"
     ]
    },
    {
     "name": "stdout",
     "output_type": "stream",
     "text": [
      "Model Was Not Saved ! Current Best Avg. Dice: 0.3775210976600647 Current Avg. Dice: 0.36864012479782104 Current Avg. tumor Dice: 0.3607872724533081 Current Avg. lymph Dice: 0.38706398010253906\n"
     ]
    },
    {
     "name": "stderr",
     "output_type": "stream",
     "text": [
      "Training (7584 / 18000 Steps) (loss=0.69254): 100%|██████████| 185/185 [03:23<00:00,  1.10s/it]\n",
      "Validate (7585 / 10 Steps): 100%|██████████| 40/40 [00:54<00:00,  1.36s/it]1<01:29,  1.90it/s]\n",
      "Training (7600 / 18000 Steps) (loss=0.62819):   9%|▊         | 16/185 [01:05<47:42, 16.94s/it]"
     ]
    },
    {
     "name": "stdout",
     "output_type": "stream",
     "text": [
      "Model Was Not Saved ! Current Best Avg. Dice: 0.3775210976600647 Current Avg. Dice: 0.3489955961704254 Current Avg. tumor Dice: 0.3346894681453705 Current Avg. lymph Dice: 0.3775850236415863\n"
     ]
    },
    {
     "name": "stderr",
     "output_type": "stream",
     "text": [
      "Validate (7585 / 10 Steps): 100%|██████████| 40/40 [00:55<00:00,  1.39s/it]54<00:35,  2.00it/s]\n",
      "Training (7700 / 18000 Steps) (loss=0.65623):  63%|██████▎   | 116/185 [02:50<19:49, 17.23s/it]"
     ]
    },
    {
     "name": "stdout",
     "output_type": "stream",
     "text": [
      "Model Was Not Saved ! Current Best Avg. Dice: 0.3775210976600647 Current Avg. Dice: 0.3679652214050293 Current Avg. tumor Dice: 0.36005017161369324 Current Avg. lymph Dice: 0.3823454976081848\n"
     ]
    },
    {
     "name": "stderr",
     "output_type": "stream",
     "text": [
      "Training (7769 / 18000 Steps) (loss=0.60369): 100%|██████████| 185/185 [03:23<00:00,  1.10s/it]\n",
      "Validate (7770 / 10 Steps): 100%|██████████| 40/40 [00:56<00:00,  1.41s/it]8<01:18,  1.97it/s]\n",
      "Training (7800 / 18000 Steps) (loss=0.54321):  17%|█▋        | 31/185 [01:14<44:35, 17.38s/it]"
     ]
    },
    {
     "name": "stdout",
     "output_type": "stream",
     "text": [
      "Model Was Not Saved ! Current Best Avg. Dice: 0.3775210976600647 Current Avg. Dice: 0.33674949407577515 Current Avg. tumor Dice: 0.3316989839076996 Current Avg. lymph Dice: 0.34693610668182373\n"
     ]
    },
    {
     "name": "stderr",
     "output_type": "stream",
     "text": [
      "Validate (7770 / 10 Steps): 100%|██████████| 40/40 [00:56<00:00,  1.42s/it]02<00:26,  2.11it/s]\n",
      "Training (7900 / 18000 Steps) (loss=0.56899):  71%|███████   | 131/185 [02:59<15:45, 17.50s/it]"
     ]
    },
    {
     "name": "stdout",
     "output_type": "stream",
     "text": [
      "Model Was Not Saved ! Current Best Avg. Dice: 0.3775210976600647 Current Avg. Dice: 0.3596037030220032 Current Avg. tumor Dice: 0.3386065363883972 Current Avg. lymph Dice: 0.3889869749546051\n"
     ]
    },
    {
     "name": "stderr",
     "output_type": "stream",
     "text": [
      "Training (7954 / 18000 Steps) (loss=0.50411): 100%|██████████| 185/185 [03:25<00:00,  1.11s/it]\n",
      "Validate (7955 / 10 Steps): 100%|██████████| 40/40 [00:56<00:00,  1.40s/it]4<01:08,  2.04it/s]\n",
      "Training (8000 / 18000 Steps) (loss=0.53395):  25%|██▍       | 46/185 [01:21<40:09, 17.34s/it]"
     ]
    },
    {
     "name": "stdout",
     "output_type": "stream",
     "text": [
      "Model Was Not Saved ! Current Best Avg. Dice: 0.3775210976600647 Current Avg. Dice: 0.36331337690353394 Current Avg. tumor Dice: 0.3618766963481903 Current Avg. lymph Dice: 0.37430524826049805\n"
     ]
    },
    {
     "name": "stderr",
     "output_type": "stream",
     "text": [
      "Validate (7955 / 10 Steps): 100%|██████████| 40/40 [00:55<00:00,  1.38s/it]09<00:19,  2.06it/s]\n",
      "Training (8100 / 18000 Steps) (loss=0.56057):  79%|███████▉  | 146/185 [03:04<11:02, 16.98s/it]"
     ]
    },
    {
     "name": "stdout",
     "output_type": "stream",
     "text": [
      "Model Was Not Saved ! Current Best Avg. Dice: 0.3775210976600647 Current Avg. Dice: 0.3594302535057068 Current Avg. tumor Dice: 0.3448641896247864 Current Avg. lymph Dice: 0.38636383414268494\n"
     ]
    },
    {
     "name": "stderr",
     "output_type": "stream",
     "text": [
      "Training (8139 / 18000 Steps) (loss=0.56642): 100%|██████████| 185/185 [03:24<00:00,  1.11s/it]\n",
      "Validate (8140 / 10 Steps): 100%|██████████| 40/40 [00:53<00:00,  1.34s/it]2<00:55,  2.25it/s]\n",
      "Training (8200 / 18000 Steps) (loss=0.62348):  33%|███▎      | 61/185 [01:25<34:15, 16.58s/it]"
     ]
    },
    {
     "name": "stdout",
     "output_type": "stream",
     "text": [
      "Model Was Not Saved ! Current Best Avg. Dice: 0.3775210976600647 Current Avg. Dice: 0.3693495988845825 Current Avg. tumor Dice: 0.3539971113204956 Current Avg. lymph Dice: 0.3912411332130432\n"
     ]
    },
    {
     "name": "stderr",
     "output_type": "stream",
     "text": [
      "Validate (8140 / 10 Steps): 100%|██████████| 40/40 [00:53<00:00,  1.35s/it]16<00:11,  2.14it/s]\n",
      "Training (8300 / 18000 Steps) (loss=0.55605):  87%|████████▋ | 161/185 [03:10<06:39, 16.66s/it]"
     ]
    },
    {
     "name": "stdout",
     "output_type": "stream",
     "text": [
      "Model Was Not Saved ! Current Best Avg. Dice: 0.3775210976600647 Current Avg. Dice: 0.32402926683425903 Current Avg. tumor Dice: 0.29708701372146606 Current Avg. lymph Dice: 0.3669702410697937\n"
     ]
    },
    {
     "name": "stderr",
     "output_type": "stream",
     "text": [
      "Training (8324 / 18000 Steps) (loss=0.56115): 100%|██████████| 185/185 [03:21<00:00,  1.09s/it]\n",
      "Validate (8325 / 10 Steps): 100%|██████████| 40/40 [00:54<00:00,  1.35s/it]1<00:56,  1.93it/s]\n",
      "Training (8400 / 18000 Steps) (loss=0.61530):  41%|████      | 76/185 [01:36<30:50, 16.97s/it]"
     ]
    },
    {
     "name": "stdout",
     "output_type": "stream",
     "text": [
      "Model Was Saved ! Current Best Avg. Dice: 0.3802095651626587 Current Avg. Dice: 0.3802095651626587 Current Avg. tumor Dice: 0.3738926649093628 Current Avg. lymph Dice: 0.3947789967060089\n"
     ]
    },
    {
     "name": "stderr",
     "output_type": "stream",
     "text": [
      "Validate (8325 / 10 Steps): 100%|██████████| 40/40 [00:54<00:00,  1.35s/it]26<00:05,  1.88it/s]\n",
      "Training (8500 / 18000 Steps) (loss=0.49790):  95%|█████████▌| 176/185 [03:20<02:31, 16.79s/it]"
     ]
    },
    {
     "name": "stdout",
     "output_type": "stream",
     "text": [
      "Model Was Not Saved ! Current Best Avg. Dice: 0.3802095651626587 Current Avg. Dice: 0.3753010928630829 Current Avg. tumor Dice: 0.37091177701950073 Current Avg. lymph Dice: 0.39043986797332764\n"
     ]
    },
    {
     "name": "stderr",
     "output_type": "stream",
     "text": [
      "Training (8509 / 18000 Steps) (loss=0.61978): 100%|██████████| 185/185 [03:24<00:00,  1.11s/it]\n",
      "Validate (8510 / 10 Steps): 100%|██████████| 40/40 [00:56<00:00,  1.40s/it]6<00:46,  2.05it/s]\n",
      "Training (8600 / 18000 Steps) (loss=0.52823):  49%|████▉     | 91/185 [01:42<27:07, 17.32s/it]"
     ]
    },
    {
     "name": "stdout",
     "output_type": "stream",
     "text": [
      "Model Was Not Saved ! Current Best Avg. Dice: 0.3802095651626587 Current Avg. Dice: 0.362971693277359 Current Avg. tumor Dice: 0.3664075434207916 Current Avg. lymph Dice: 0.37163418531417847\n"
     ]
    },
    {
     "name": "stderr",
     "output_type": "stream",
     "text": [
      "Training (8694 / 18000 Steps) (loss=0.56717): 100%|██████████| 185/185 [02:27<00:00,  1.25it/s]\n",
      "Validate (8695 / 10 Steps): 100%|██████████| 40/40 [00:55<00:00,  1.39s/it]<02:08,  1.40it/s]\n",
      "Training (8700 / 18000 Steps) (loss=0.56090):   3%|▎         | 6/185 [01:01<58:14, 19.52s/it]"
     ]
    },
    {
     "name": "stdout",
     "output_type": "stream",
     "text": [
      "Model Was Not Saved ! Current Best Avg. Dice: 0.3802095651626587 Current Avg. Dice: 0.3726857900619507 Current Avg. tumor Dice: 0.3631623089313507 Current Avg. lymph Dice: 0.39317286014556885\n"
     ]
    },
    {
     "name": "stderr",
     "output_type": "stream",
     "text": [
      "Validate (8695 / 10 Steps): 100%|██████████| 40/40 [00:56<00:00,  1.40s/it]49<00:38,  2.09it/s]\n",
      "Training (8800 / 18000 Steps) (loss=0.57400):  57%|█████▋    | 106/185 [02:45<22:47, 17.30s/it]"
     ]
    },
    {
     "name": "stdout",
     "output_type": "stream",
     "text": [
      "Model Was Not Saved ! Current Best Avg. Dice: 0.3802095651626587 Current Avg. Dice: 0.3627080023288727 Current Avg. tumor Dice: 0.37038955092430115 Current Avg. lymph Dice: 0.3559589385986328\n"
     ]
    },
    {
     "name": "stderr",
     "output_type": "stream",
     "text": [
      "Training (8879 / 18000 Steps) (loss=0.52990): 100%|██████████| 185/185 [03:24<00:00,  1.11s/it]\n",
      "Validate (8880 / 10 Steps): 100%|██████████| 40/40 [00:55<00:00,  1.38s/it]3<01:23,  1.99it/s]\n",
      "Training (8900 / 18000 Steps) (loss=0.57998):  11%|█▏        | 21/185 [01:08<46:34, 17.04s/it]"
     ]
    },
    {
     "name": "stdout",
     "output_type": "stream",
     "text": [
      "Model Was Not Saved ! Current Best Avg. Dice: 0.3802095651626587 Current Avg. Dice: 0.3751508295536041 Current Avg. tumor Dice: 0.36907216906547546 Current Avg. lymph Dice: 0.3911117911338806\n"
     ]
    },
    {
     "name": "stderr",
     "output_type": "stream",
     "text": [
      "Validate (8880 / 10 Steps): 100%|██████████| 40/40 [00:55<00:00,  1.39s/it]58<00:30,  2.15it/s]\n",
      "Training (9000 / 18000 Steps) (loss=0.69487):  65%|██████▌   | 121/185 [02:53<18:17, 17.14s/it]"
     ]
    },
    {
     "name": "stdout",
     "output_type": "stream",
     "text": [
      "Model Was Not Saved ! Current Best Avg. Dice: 0.3802095651626587 Current Avg. Dice: 0.34819868206977844 Current Avg. tumor Dice: 0.33849000930786133 Current Avg. lymph Dice: 0.36557212471961975\n"
     ]
    },
    {
     "name": "stderr",
     "output_type": "stream",
     "text": [
      "Training (9064 / 18000 Steps) (loss=0.59120): 100%|██████████| 185/185 [03:25<00:00,  1.11s/it]\n",
      "Validate (9065 / 10 Steps): 100%|██████████| 40/40 [00:56<00:00,  1.40s/it]0<01:10,  2.14it/s]\n",
      "Training (9100 / 18000 Steps) (loss=0.59313):  19%|█▉        | 36/185 [01:17<43:33, 17.54s/it]"
     ]
    },
    {
     "name": "stdout",
     "output_type": "stream",
     "text": [
      "Model Was Saved ! Current Best Avg. Dice: 0.39231404662132263 Current Avg. Dice: 0.39231404662132263 Current Avg. tumor Dice: 0.37786778807640076 Current Avg. lymph Dice: 0.4188949167728424\n"
     ]
    },
    {
     "name": "stderr",
     "output_type": "stream",
     "text": [
      "Validate (9065 / 10 Steps): 100%|██████████| 40/40 [00:56<00:00,  1.40s/it]07<00:24,  2.01it/s]\n",
      "Training (9200 / 18000 Steps) (loss=0.67164):  74%|███████▎  | 136/185 [03:03<14:10, 17.35s/it]"
     ]
    },
    {
     "name": "stdout",
     "output_type": "stream",
     "text": [
      "Model Was Not Saved ! Current Best Avg. Dice: 0.39231404662132263 Current Avg. Dice: 0.37915465235710144 Current Avg. tumor Dice: 0.35790956020355225 Current Avg. lymph Dice: 0.41118893027305603\n"
     ]
    },
    {
     "name": "stderr",
     "output_type": "stream",
     "text": [
      "Training (9249 / 18000 Steps) (loss=0.56372): 100%|██████████| 185/185 [03:28<00:00,  1.13s/it]\n",
      "Validate (9250 / 10 Steps): 100%|██████████| 40/40 [00:55<00:00,  1.38s/it]7<01:06,  2.02it/s]\n",
      "Training (9300 / 18000 Steps) (loss=0.56220):  28%|██▊       | 51/185 [01:22<37:59, 17.01s/it]"
     ]
    },
    {
     "name": "stdout",
     "output_type": "stream",
     "text": [
      "Model Was Not Saved ! Current Best Avg. Dice: 0.39231404662132263 Current Avg. Dice: 0.38465964794158936 Current Avg. tumor Dice: 0.37051987648010254 Current Avg. lymph Dice: 0.41249215602874756\n"
     ]
    },
    {
     "name": "stderr",
     "output_type": "stream",
     "text": [
      "Validate (9250 / 10 Steps): 100%|██████████| 40/40 [00:56<00:00,  1.41s/it]12<00:16,  2.08it/s]\n",
      "Training (9400 / 18000 Steps) (loss=0.42045):  82%|████████▏ | 151/185 [03:08<09:51, 17.38s/it]"
     ]
    },
    {
     "name": "stdout",
     "output_type": "stream",
     "text": [
      "Model Was Not Saved ! Current Best Avg. Dice: 0.39231404662132263 Current Avg. Dice: 0.3698863387107849 Current Avg. tumor Dice: 0.354785293340683 Current Avg. lymph Dice: 0.39634189009666443\n"
     ]
    },
    {
     "name": "stderr",
     "output_type": "stream",
     "text": [
      "Training (9434 / 18000 Steps) (loss=0.60889): 100%|██████████| 185/185 [03:25<00:00,  1.11s/it]\n",
      "Validate (9435 / 10 Steps): 100%|██████████| 40/40 [00:55<00:00,  1.39s/it]5<00:56,  2.12it/s]\n",
      "Training (9500 / 18000 Steps) (loss=0.50657):  36%|███▌      | 66/185 [01:31<34:06, 17.20s/it]"
     ]
    },
    {
     "name": "stdout",
     "output_type": "stream",
     "text": [
      "Model Was Not Saved ! Current Best Avg. Dice: 0.39231404662132263 Current Avg. Dice: 0.37442079186439514 Current Avg. tumor Dice: 0.34775570034980774 Current Avg. lymph Dice: 0.4146718680858612\n"
     ]
    },
    {
     "name": "stderr",
     "output_type": "stream",
     "text": [
      "Validate (9435 / 10 Steps): 100%|██████████| 40/40 [00:53<00:00,  1.35s/it]21<00:09,  2.05it/s]\n",
      "Training (9600 / 18000 Steps) (loss=0.61674):  90%|████████▉ | 166/185 [03:15<05:16, 16.66s/it]"
     ]
    },
    {
     "name": "stdout",
     "output_type": "stream",
     "text": [
      "Model Was Not Saved ! Current Best Avg. Dice: 0.39231404662132263 Current Avg. Dice: 0.3726159334182739 Current Avg. tumor Dice: 0.3633560836315155 Current Avg. lymph Dice: 0.3850555419921875\n"
     ]
    },
    {
     "name": "stderr",
     "output_type": "stream",
     "text": [
      "Training (9619 / 18000 Steps) (loss=0.55542): 100%|██████████| 185/185 [03:25<00:00,  1.11s/it]\n",
      "Validate (9620 / 10 Steps): 100%|██████████| 40/40 [00:55<00:00,  1.39s/it]3<01:01,  1.71it/s]\n",
      "Training (9700 / 18000 Steps) (loss=0.42785):  44%|████▍     | 81/185 [01:39<29:55, 17.26s/it]"
     ]
    },
    {
     "name": "stdout",
     "output_type": "stream",
     "text": [
      "Model Was Not Saved ! Current Best Avg. Dice: 0.39231404662132263 Current Avg. Dice: 0.37264689803123474 Current Avg. tumor Dice: 0.34839990735054016 Current Avg. lymph Dice: 0.4135117530822754\n"
     ]
    },
    {
     "name": "stderr",
     "output_type": "stream",
     "text": [
      "Validate (9620 / 10 Steps): 100%|██████████| 40/40 [00:55<00:00,  1.38s/it]29<00:02,  1.92it/s]\n",
      "Training (9800 / 18000 Steps) (loss=0.61842):  98%|█████████▊| 181/185 [03:24<01:08, 17.06s/it]"
     ]
    },
    {
     "name": "stdout",
     "output_type": "stream",
     "text": [
      "Model Was Not Saved ! Current Best Avg. Dice: 0.39231404662132263 Current Avg. Dice: 0.38947397470474243 Current Avg. tumor Dice: 0.38004371523857117 Current Avg. lymph Dice: 0.40635374188423157\n"
     ]
    },
    {
     "name": "stderr",
     "output_type": "stream",
     "text": [
      "Training (9804 / 18000 Steps) (loss=0.45718): 100%|██████████| 185/185 [03:26<00:00,  1.12s/it]\n",
      "Validate (9805 / 10 Steps): 100%|██████████| 40/40 [00:54<00:00,  1.37s/it]0<00:46,  1.94it/s]\n",
      "Training (9900 / 18000 Steps) (loss=0.58420):  52%|█████▏    | 96/185 [01:45<25:25, 17.14s/it]"
     ]
    },
    {
     "name": "stdout",
     "output_type": "stream",
     "text": [
      "Model Was Saved ! Current Best Avg. Dice: 0.3938055634498596 Current Avg. Dice: 0.3938055634498596 Current Avg. tumor Dice: 0.3838474154472351 Current Avg. lymph Dice: 0.41513529419898987\n"
     ]
    },
    {
     "name": "stderr",
     "output_type": "stream",
     "text": [
      "Training (9989 / 18000 Steps) (loss=0.46178): 100%|██████████| 185/185 [02:29<00:00,  1.24it/s]\n",
      "Validate (9990 / 10 Steps): 100%|██████████| 40/40 [00:54<00:00,  1.37s/it]08<01:37,  1.80it/s]\n",
      "Training (10000 / 18000 Steps) (loss=0.53125):   6%|▌         | 11/185 [01:03<50:18, 17.35s/it]"
     ]
    },
    {
     "name": "stdout",
     "output_type": "stream",
     "text": [
      "Model Was Not Saved ! Current Best Avg. Dice: 0.3938055634498596 Current Avg. Dice: 0.3909166753292084 Current Avg. tumor Dice: 0.3790018558502197 Current Avg. lymph Dice: 0.41589850187301636\n"
     ]
    },
    {
     "name": "stderr",
     "output_type": "stream",
     "text": [
      "Validate (9990 / 10 Steps): 100%|██████████| 40/40 [00:55<00:00,  1.40s/it]:52<00:32,  2.30it/s]\n",
      "Training (10100 / 18000 Steps) (loss=0.60624):  60%|██████    | 111/185 [02:48<21:13, 17.21s/it]"
     ]
    },
    {
     "name": "stdout",
     "output_type": "stream",
     "text": [
      "Model Was Not Saved ! Current Best Avg. Dice: 0.3938055634498596 Current Avg. Dice: 0.37369856238365173 Current Avg. tumor Dice: 0.36407503485679626 Current Avg. lymph Dice: 0.397001177072525\n"
     ]
    },
    {
     "name": "stderr",
     "output_type": "stream",
     "text": [
      "Training (10174 / 18000 Steps) (loss=0.53177): 100%|██████████| 185/185 [03:25<00:00,  1.11s/it]\n",
      "Validate (10175 / 10 Steps): 100%|██████████| 40/40 [00:55<00:00,  1.38s/it]6<01:16,  2.10it/s]\n",
      "Training (10200 / 18000 Steps) (loss=0.42925):  14%|█▍        | 26/185 [01:11<45:17, 17.09s/it]"
     ]
    },
    {
     "name": "stdout",
     "output_type": "stream",
     "text": [
      "Model Was Not Saved ! Current Best Avg. Dice: 0.3938055634498596 Current Avg. Dice: 0.3922874331474304 Current Avg. tumor Dice: 0.37826675176620483 Current Avg. lymph Dice: 0.41701528429985046\n"
     ]
    },
    {
     "name": "stderr",
     "output_type": "stream",
     "text": [
      "Validate (10175 / 10 Steps): 100%|██████████| 40/40 [00:56<00:00,  1.41s/it]59<00:34,  1.76it/s]\n",
      "Training (10300 / 18000 Steps) (loss=0.55185):  68%|██████▊   | 126/185 [02:55<17:14, 17.53s/it]"
     ]
    },
    {
     "name": "stdout",
     "output_type": "stream",
     "text": [
      "Model Was Not Saved ! Current Best Avg. Dice: 0.3938055634498596 Current Avg. Dice: 0.38437771797180176 Current Avg. tumor Dice: 0.3787608742713928 Current Avg. lymph Dice: 0.4028141498565674\n"
     ]
    },
    {
     "name": "stderr",
     "output_type": "stream",
     "text": [
      "Training (10359 / 18000 Steps) (loss=0.54520): 100%|██████████| 185/185 [03:25<00:00,  1.11s/it]\n",
      "Validate (10360 / 10 Steps): 100%|██████████| 40/40 [00:55<00:00,  1.39s/it]2<01:04,  2.24it/s]\n",
      "Training (10400 / 18000 Steps) (loss=0.51847):  22%|██▏       | 41/185 [01:18<41:13, 17.18s/it]"
     ]
    },
    {
     "name": "stdout",
     "output_type": "stream",
     "text": [
      "Model Was Not Saved ! Current Best Avg. Dice: 0.3938055634498596 Current Avg. Dice: 0.36990249156951904 Current Avg. tumor Dice: 0.3470856547355652 Current Avg. lymph Dice: 0.40593019127845764\n"
     ]
    },
    {
     "name": "stderr",
     "output_type": "stream",
     "text": [
      "Validate (10360 / 10 Steps): 100%|██████████| 40/40 [00:47<00:00,  1.18s/it]07<00:19,  2.36it/s]\n",
      "Training (10500 / 18000 Steps) (loss=0.45511):  76%|███████▌  | 141/185 [02:54<10:40, 14.55s/it]"
     ]
    },
    {
     "name": "stdout",
     "output_type": "stream",
     "text": [
      "Model Was Not Saved ! Current Best Avg. Dice: 0.3938055634498596 Current Avg. Dice: 0.37812086939811707 Current Avg. tumor Dice: 0.35729870200157166 Current Avg. lymph Dice: 0.4036440849304199\n"
     ]
    },
    {
     "name": "stderr",
     "output_type": "stream",
     "text": [
      "Training (10544 / 18000 Steps) (loss=0.56896): 100%|██████████| 185/185 [03:13<00:00,  1.04s/it]\n",
      "Validate (10545 / 10 Steps): 100%|██████████| 40/40 [00:48<00:00,  1.20s/it]6<00:55,  2.36it/s]\n",
      "Training (10600 / 18000 Steps) (loss=0.47416):  30%|███       | 56/185 [01:15<32:22, 15.06s/it]"
     ]
    },
    {
     "name": "stdout",
     "output_type": "stream",
     "text": [
      "Model Was Saved ! Current Best Avg. Dice: 0.40715447068214417 Current Avg. Dice: 0.40715447068214417 Current Avg. tumor Dice: 0.4011934995651245 Current Avg. lymph Dice: 0.42436885833740234\n"
     ]
    },
    {
     "name": "stderr",
     "output_type": "stream",
     "text": [
      "Validate (10545 / 10 Steps): 100%|██████████| 40/40 [00:47<00:00,  1.19s/it]57<00:12,  2.35it/s]\n",
      "Training (10700 / 18000 Steps) (loss=0.51979):  84%|████████▍ | 156/185 [02:45<07:07, 14.73s/it]"
     ]
    },
    {
     "name": "stdout",
     "output_type": "stream",
     "text": [
      "Model Was Not Saved ! Current Best Avg. Dice: 0.40715447068214417 Current Avg. Dice: 0.39143434166908264 Current Avg. tumor Dice: 0.38042524456977844 Current Avg. lymph Dice: 0.41764703392982483\n"
     ]
    },
    {
     "name": "stderr",
     "output_type": "stream",
     "text": [
      "Training (10729 / 18000 Steps) (loss=0.58410): 100%|██████████| 185/185 [02:57<00:00,  1.04it/s]\n",
      "Validate (10730 / 10 Steps): 100%|██████████| 40/40 [00:47<00:00,  1.18s/it]2<00:48,  2.38it/s]\n",
      "Training (10800 / 18000 Steps) (loss=0.55833):  38%|███▊      | 71/185 [01:19<27:42, 14.58s/it]"
     ]
    },
    {
     "name": "stdout",
     "output_type": "stream",
     "text": [
      "Model Was Not Saved ! Current Best Avg. Dice: 0.40715447068214417 Current Avg. Dice: 0.3762662708759308 Current Avg. tumor Dice: 0.38157418370246887 Current Avg. lymph Dice: 0.3819162845611572\n"
     ]
    },
    {
     "name": "stderr",
     "output_type": "stream",
     "text": [
      "Validate (10730 / 10 Steps): 100%|██████████| 40/40 [00:47<00:00,  1.18s/it]01<00:06,  2.38it/s]\n",
      "Training (10900 / 18000 Steps) (loss=0.52384):  92%|█████████▏| 171/185 [02:48<03:24, 14.60s/it]"
     ]
    },
    {
     "name": "stdout",
     "output_type": "stream",
     "text": [
      "Model Was Not Saved ! Current Best Avg. Dice: 0.40715447068214417 Current Avg. Dice: 0.37241700291633606 Current Avg. tumor Dice: 0.3550722301006317 Current Avg. lymph Dice: 0.4026763439178467\n"
     ]
    },
    {
     "name": "stderr",
     "output_type": "stream",
     "text": [
      "Training (10914 / 18000 Steps) (loss=0.64369): 100%|██████████| 185/185 [02:54<00:00,  1.06it/s]\n",
      "Validate (10915 / 10 Steps): 100%|██████████| 40/40 [00:47<00:00,  1.19s/it]9<00:44,  2.26it/s]\n",
      "Training (11000 / 18000 Steps) (loss=0.62517):  46%|████▋     | 86/185 [01:26<24:15, 14.71s/it]"
     ]
    },
    {
     "name": "stdout",
     "output_type": "stream",
     "text": [
      "Model Was Not Saved ! Current Best Avg. Dice: 0.40715447068214417 Current Avg. Dice: 0.3779594898223877 Current Avg. tumor Dice: 0.40059685707092285 Current Avg. lymph Dice: 0.35861536860466003\n"
     ]
    },
    {
     "name": "stderr",
     "output_type": "stream",
     "text": [
      "Training (11099 / 18000 Steps) (loss=0.56596): 100%|██████████| 185/185 [02:08<00:00,  1.44it/s]\n",
      "Validate (11100 / 10 Steps): 100%|██████████| 40/40 [00:47<00:00,  1.18s/it]<?, ?it/s]\n",
      "Training (11100 / 18000 Steps) (loss=0.87156):   1%|          | 1/185 [00:50<2:35:10, 50.60s/it]"
     ]
    },
    {
     "name": "stdout",
     "output_type": "stream",
     "text": [
      "Model Was Not Saved ! Current Best Avg. Dice: 0.40715447068214417 Current Avg. Dice: 0.3832908272743225 Current Avg. tumor Dice: 0.38794076442718506 Current Avg. lymph Dice: 0.3788207173347473\n"
     ]
    },
    {
     "name": "stderr",
     "output_type": "stream",
     "text": [
      "Validate (11100 / 10 Steps): 100%|██████████| 40/40 [00:47<00:00,  1.18s/it]32<00:35,  2.38it/s]\n",
      "Training (11200 / 18000 Steps) (loss=0.50159):  55%|█████▍    | 101/185 [02:19<20:22, 14.55s/it]"
     ]
    },
    {
     "name": "stdout",
     "output_type": "stream",
     "text": [
      "Model Was Not Saved ! Current Best Avg. Dice: 0.40715447068214417 Current Avg. Dice: 0.3890949785709381 Current Avg. tumor Dice: 0.37313443422317505 Current Avg. lymph Dice: 0.41835689544677734\n"
     ]
    },
    {
     "name": "stderr",
     "output_type": "stream",
     "text": [
      "Training (11284 / 18000 Steps) (loss=0.43859): 100%|██████████| 185/185 [02:55<00:00,  1.06it/s]\n",
      "Validate (11285 / 10 Steps): 100%|██████████| 40/40 [00:47<00:00,  1.18s/it]9<01:12,  2.36it/s]\n",
      "Training (11300 / 18000 Steps) (loss=0.64698):   9%|▊         | 16/185 [00:57<41:52, 14.87s/it]"
     ]
    },
    {
     "name": "stdout",
     "output_type": "stream",
     "text": [
      "Model Was Saved ! Current Best Avg. Dice: 0.41418886184692383 Current Avg. Dice: 0.41418886184692383 Current Avg. tumor Dice: 0.4064229726791382 Current Avg. lymph Dice: 0.431655615568161\n"
     ]
    },
    {
     "name": "stderr",
     "output_type": "stream",
     "text": [
      "Validate (11285 / 10 Steps): 100%|██████████| 40/40 [00:47<00:00,  1.18s/it]39<00:29,  2.37it/s]\n",
      "Training (11400 / 18000 Steps) (loss=0.53452):  63%|██████▎   | 116/185 [02:26<16:48, 14.62s/it]"
     ]
    },
    {
     "name": "stdout",
     "output_type": "stream",
     "text": [
      "Model Was Not Saved ! Current Best Avg. Dice: 0.41418886184692383 Current Avg. Dice: 0.3956131041049957 Current Avg. tumor Dice: 0.3832390308380127 Current Avg. lymph Dice: 0.42068547010421753\n"
     ]
    },
    {
     "name": "stderr",
     "output_type": "stream",
     "text": [
      "Training (11469 / 18000 Steps) (loss=0.50890): 100%|██████████| 185/185 [02:55<00:00,  1.05it/s]\n",
      "Validate (11470 / 10 Steps): 100%|██████████| 40/40 [00:47<00:00,  1.18s/it]5<01:05,  2.38it/s]\n",
      "Training (11500 / 18000 Steps) (loss=0.52008):  17%|█▋        | 31/185 [01:02<37:26, 14.59s/it]"
     ]
    },
    {
     "name": "stdout",
     "output_type": "stream",
     "text": [
      "Model Was Not Saved ! Current Best Avg. Dice: 0.41418886184692383 Current Avg. Dice: 0.3985956311225891 Current Avg. tumor Dice: 0.3845019042491913 Current Avg. lymph Dice: 0.4237584173679352\n"
     ]
    },
    {
     "name": "stderr",
     "output_type": "stream",
     "text": [
      "Validate (11470 / 10 Steps): 100%|██████████| 40/40 [00:47<00:00,  1.19s/it]45<00:23,  2.38it/s]\n",
      "Training (11600 / 18000 Steps) (loss=0.52609):  71%|███████   | 131/185 [02:32<13:13, 14.69s/it]"
     ]
    },
    {
     "name": "stdout",
     "output_type": "stream",
     "text": [
      "Model Was Not Saved ! Current Best Avg. Dice: 0.41418886184692383 Current Avg. Dice: 0.4005878269672394 Current Avg. tumor Dice: 0.3889688551425934 Current Avg. lymph Dice: 0.42411261796951294\n"
     ]
    },
    {
     "name": "stderr",
     "output_type": "stream",
     "text": [
      "Training (11654 / 18000 Steps) (loss=0.35394): 100%|██████████| 185/185 [02:55<00:00,  1.05it/s]\n",
      "Validate (11655 / 10 Steps): 100%|██████████| 40/40 [00:47<00:00,  1.18s/it]1<00:59,  2.37it/s]\n",
      "Training (11700 / 18000 Steps) (loss=0.60254):  25%|██▍       | 46/185 [01:09<33:42, 14.55s/it]"
     ]
    },
    {
     "name": "stdout",
     "output_type": "stream",
     "text": [
      "Model Was Not Saved ! Current Best Avg. Dice: 0.41418886184692383 Current Avg. Dice: 0.3844600021839142 Current Avg. tumor Dice: 0.3716306686401367 Current Avg. lymph Dice: 0.4071911871433258\n"
     ]
    },
    {
     "name": "stderr",
     "output_type": "stream",
     "text": [
      "Validate (11655 / 10 Steps): 100%|██████████| 40/40 [00:47<00:00,  1.18s/it]51<00:16,  2.37it/s]\n",
      "Training (11800 / 18000 Steps) (loss=0.59402):  79%|███████▉  | 146/185 [02:38<09:30, 14.62s/it]"
     ]
    },
    {
     "name": "stdout",
     "output_type": "stream",
     "text": [
      "Model Was Not Saved ! Current Best Avg. Dice: 0.41418886184692383 Current Avg. Dice: 0.40838631987571716 Current Avg. tumor Dice: 0.39293310046195984 Current Avg. lymph Dice: 0.4313666820526123\n"
     ]
    },
    {
     "name": "stderr",
     "output_type": "stream",
     "text": [
      "Training (11839 / 18000 Steps) (loss=0.56887): 100%|██████████| 185/185 [02:55<00:00,  1.06it/s]\n",
      "Validate (11840 / 10 Steps): 100%|██████████| 40/40 [00:47<00:00,  1.18s/it]8<00:52,  2.36it/s]\n",
      "Training (11900 / 18000 Steps) (loss=0.59203):  33%|███▎      | 61/185 [01:15<30:02, 14.53s/it]"
     ]
    },
    {
     "name": "stdout",
     "output_type": "stream",
     "text": [
      "Model Was Not Saved ! Current Best Avg. Dice: 0.41418886184692383 Current Avg. Dice: 0.3814743757247925 Current Avg. tumor Dice: 0.39073416590690613 Current Avg. lymph Dice: 0.3757529556751251\n"
     ]
    },
    {
     "name": "stderr",
     "output_type": "stream",
     "text": [
      "Validate (11840 / 10 Steps): 100%|██████████| 40/40 [00:47<00:00,  1.18s/it]57<00:10,  2.38it/s]\n",
      "Training (12000 / 18000 Steps) (loss=0.62185):  87%|████████▋ | 161/185 [02:44<05:50, 14.60s/it]"
     ]
    },
    {
     "name": "stdout",
     "output_type": "stream",
     "text": [
      "Model Was Not Saved ! Current Best Avg. Dice: 0.41418886184692383 Current Avg. Dice: 0.4112388491630554 Current Avg. tumor Dice: 0.3845668435096741 Current Avg. lymph Dice: 0.44862470030784607\n"
     ]
    },
    {
     "name": "stderr",
     "output_type": "stream",
     "text": [
      "Training (12024 / 18000 Steps) (loss=0.44627): 100%|██████████| 185/185 [02:55<00:00,  1.06it/s]\n",
      "Validate (12025 / 10 Steps): 100%|██████████| 40/40 [00:47<00:00,  1.18s/it]4<00:46,  2.37it/s]\n",
      "Training (12100 / 18000 Steps) (loss=0.47310):  41%|████      | 76/185 [01:21<26:29, 14.58s/it]"
     ]
    },
    {
     "name": "stdout",
     "output_type": "stream",
     "text": [
      "Model Was Not Saved ! Current Best Avg. Dice: 0.41418886184692383 Current Avg. Dice: 0.39374348521232605 Current Avg. tumor Dice: 0.37266087532043457 Current Avg. lymph Dice: 0.43354639410972595\n"
     ]
    },
    {
     "name": "stderr",
     "output_type": "stream",
     "text": [
      "Validate (12025 / 10 Steps): 100%|██████████| 40/40 [00:47<00:00,  1.19s/it]04<00:04,  2.37it/s]\n",
      "Training (12200 / 18000 Steps) (loss=0.55959):  95%|█████████▌| 176/185 [02:51<02:12, 14.68s/it]"
     ]
    },
    {
     "name": "stdout",
     "output_type": "stream",
     "text": [
      "Model Was Not Saved ! Current Best Avg. Dice: 0.41418886184692383 Current Avg. Dice: 0.41028985381126404 Current Avg. tumor Dice: 0.4003806412220001 Current Avg. lymph Dice: 0.43431514501571655\n"
     ]
    },
    {
     "name": "stderr",
     "output_type": "stream",
     "text": [
      "Training (12209 / 18000 Steps) (loss=0.53431): 100%|██████████| 185/185 [02:55<00:00,  1.05it/s]\n",
      "Validate (12210 / 10 Steps): 100%|██████████| 40/40 [00:47<00:00,  1.18s/it]0<00:40,  2.37it/s]\n",
      "Training (12300 / 18000 Steps) (loss=0.49026):  49%|████▉     | 91/185 [01:28<23:09, 14.79s/it]"
     ]
    },
    {
     "name": "stdout",
     "output_type": "stream",
     "text": [
      "Model Was Saved ! Current Best Avg. Dice: 0.4150702953338623 Current Avg. Dice: 0.4150702953338623 Current Avg. tumor Dice: 0.4127955436706543 Current Avg. lymph Dice: 0.4254852831363678\n"
     ]
    },
    {
     "name": "stderr",
     "output_type": "stream",
     "text": [
      "Training (12394 / 18000 Steps) (loss=0.51765): 100%|██████████| 185/185 [02:08<00:00,  1.43it/s]\n",
      "Validate (12395 / 10 Steps): 100%|██████████| 40/40 [00:47<00:00,  1.19s/it]<01:54,  1.58it/s]\n",
      "Training (12400 / 18000 Steps) (loss=0.63879):   3%|▎         | 6/185 [00:52<49:55, 16.74s/it]"
     ]
    },
    {
     "name": "stdout",
     "output_type": "stream",
     "text": [
      "Model Was Not Saved ! Current Best Avg. Dice: 0.4150702953338623 Current Avg. Dice: 0.4075654447078705 Current Avg. tumor Dice: 0.38305360078811646 Current Avg. lymph Dice: 0.4469204545021057\n"
     ]
    },
    {
     "name": "stderr",
     "output_type": "stream",
     "text": [
      "Validate (12395 / 10 Steps): 100%|██████████| 40/40 [00:47<00:00,  1.18s/it]34<00:34,  2.35it/s]\n",
      "Training (12500 / 18000 Steps) (loss=0.64133):  57%|█████▋    | 106/185 [02:22<19:14, 14.62s/it]"
     ]
    },
    {
     "name": "stdout",
     "output_type": "stream",
     "text": [
      "Model Was Not Saved ! Current Best Avg. Dice: 0.4150702953338623 Current Avg. Dice: 0.3971715569496155 Current Avg. tumor Dice: 0.3752472698688507 Current Avg. lymph Dice: 0.4364025592803955\n"
     ]
    },
    {
     "name": "stderr",
     "output_type": "stream",
     "text": [
      "Training (12579 / 18000 Steps) (loss=0.52018): 100%|██████████| 185/185 [02:55<00:00,  1.06it/s]\n",
      "Validate (12580 / 10 Steps): 100%|██████████| 40/40 [00:47<00:00,  1.18s/it]1<01:09,  2.38it/s]\n",
      "Training (12600 / 18000 Steps) (loss=0.58187):  11%|█▏        | 21/185 [00:58<40:00, 14.64s/it]"
     ]
    },
    {
     "name": "stdout",
     "output_type": "stream",
     "text": [
      "Model Was Not Saved ! Current Best Avg. Dice: 0.4150702953338623 Current Avg. Dice: 0.4090653955936432 Current Avg. tumor Dice: 0.3974977731704712 Current Avg. lymph Dice: 0.4329899847507477\n"
     ]
    },
    {
     "name": "stderr",
     "output_type": "stream",
     "text": [
      "Validate (12580 / 10 Steps): 100%|██████████| 40/40 [00:48<00:00,  1.22s/it]41<00:27,  2.35it/s]\n",
      "Training (12700 / 18000 Steps) (loss=0.50473):  65%|██████▌   | 121/185 [02:29<16:02, 15.03s/it]"
     ]
    },
    {
     "name": "stdout",
     "output_type": "stream",
     "text": [
      "Model Was Not Saved ! Current Best Avg. Dice: 0.4150702953338623 Current Avg. Dice: 0.3186044692993164 Current Avg. tumor Dice: 0.30945128202438354 Current Avg. lymph Dice: 0.33554592728614807\n"
     ]
    },
    {
     "name": "stderr",
     "output_type": "stream",
     "text": [
      "Training (12764 / 18000 Steps) (loss=0.52029): 100%|██████████| 185/185 [02:57<00:00,  1.05it/s]\n",
      "Validate (12765 / 10 Steps): 100%|██████████| 40/40 [00:47<00:00,  1.20s/it]7<01:03,  2.37it/s]\n",
      "Training (12800 / 18000 Steps) (loss=0.55440):  19%|█▉        | 36/185 [01:05<36:48, 14.83s/it]"
     ]
    },
    {
     "name": "stdout",
     "output_type": "stream",
     "text": [
      "Model Was Not Saved ! Current Best Avg. Dice: 0.4150702953338623 Current Avg. Dice: 0.4129998981952667 Current Avg. tumor Dice: 0.40711158514022827 Current Avg. lymph Dice: 0.42624035477638245\n"
     ]
    },
    {
     "name": "stderr",
     "output_type": "stream",
     "text": [
      "Validate (12765 / 10 Steps): 100%|██████████| 40/40 [00:48<00:00,  1.21s/it]47<00:20,  2.38it/s]\n",
      "Training (12900 / 18000 Steps) (loss=0.55095):  74%|███████▎  | 136/185 [02:36<12:09, 14.90s/it]"
     ]
    },
    {
     "name": "stdout",
     "output_type": "stream",
     "text": [
      "Model Was Not Saved ! Current Best Avg. Dice: 0.4150702953338623 Current Avg. Dice: 0.4068028926849365 Current Avg. tumor Dice: 0.38802531361579895 Current Avg. lymph Dice: 0.4384535253047943\n"
     ]
    },
    {
     "name": "stderr",
     "output_type": "stream",
     "text": [
      "Training (12949 / 18000 Steps) (loss=0.45567): 100%|██████████| 185/185 [02:56<00:00,  1.05it/s]\n",
      "Validate (12950 / 10 Steps): 100%|██████████| 40/40 [00:48<00:00,  1.20s/it]3<00:56,  2.38it/s]\n",
      "Training (13000 / 18000 Steps) (loss=0.42863):  28%|██▊       | 51/185 [01:12<33:35, 15.04s/it]"
     ]
    },
    {
     "name": "stdout",
     "output_type": "stream",
     "text": [
      "Model Was Saved ! Current Best Avg. Dice: 0.41889750957489014 Current Avg. Dice: 0.41889750957489014 Current Avg. tumor Dice: 0.39633241295814514 Current Avg. lymph Dice: 0.4538007974624634\n"
     ]
    },
    {
     "name": "stderr",
     "output_type": "stream",
     "text": [
      "Validate (12950 / 10 Steps): 100%|██████████| 40/40 [00:48<00:00,  1.20s/it]54<00:14,  2.37it/s]\n",
      "Training (13100 / 18000 Steps) (loss=0.61283):  82%|████████▏ | 151/185 [02:43<08:24, 14.84s/it]"
     ]
    },
    {
     "name": "stdout",
     "output_type": "stream",
     "text": [
      "Model Was Not Saved ! Current Best Avg. Dice: 0.41889750957489014 Current Avg. Dice: 0.40371057391166687 Current Avg. tumor Dice: 0.39113205671310425 Current Avg. lymph Dice: 0.42633363604545593\n"
     ]
    },
    {
     "name": "stderr",
     "output_type": "stream",
     "text": [
      "Training (13134 / 18000 Steps) (loss=0.53800): 100%|██████████| 185/185 [02:57<00:00,  1.04it/s]\n",
      "Validate (13135 / 10 Steps): 100%|██████████| 40/40 [00:47<00:00,  1.18s/it]0<00:50,  2.39it/s]\n",
      "Training (13200 / 18000 Steps) (loss=0.51689):  36%|███▌      | 66/185 [01:18<29:20, 14.80s/it]"
     ]
    },
    {
     "name": "stdout",
     "output_type": "stream",
     "text": [
      "Model Was Saved ! Current Best Avg. Dice: 0.41999149322509766 Current Avg. Dice: 0.41999149322509766 Current Avg. tumor Dice: 0.4004550278186798 Current Avg. lymph Dice: 0.44875678420066833\n"
     ]
    },
    {
     "name": "stderr",
     "output_type": "stream",
     "text": [
      "Validate (13135 / 10 Steps): 100%|██████████| 40/40 [00:48<00:00,  1.21s/it]00<00:08,  2.37it/s]\n",
      "Training (13300 / 18000 Steps) (loss=0.55526):  90%|████████▉ | 166/185 [02:49<04:43, 14.93s/it]"
     ]
    },
    {
     "name": "stdout",
     "output_type": "stream",
     "text": [
      "Model Was Not Saved ! Current Best Avg. Dice: 0.41999149322509766 Current Avg. Dice: 0.4184098541736603 Current Avg. tumor Dice: 0.412506103515625 Current Avg. lymph Dice: 0.43170857429504395\n"
     ]
    },
    {
     "name": "stderr",
     "output_type": "stream",
     "text": [
      "Training (13319 / 18000 Steps) (loss=0.54637): 100%|██████████| 185/185 [02:57<00:00,  1.04it/s]\n",
      "Validate (13320 / 10 Steps): 100%|██████████| 40/40 [00:48<00:00,  1.20s/it]7<00:44,  2.38it/s]\n",
      "Training (13400 / 18000 Steps) (loss=0.57878):  44%|████▍     | 81/185 [01:25<25:47, 14.88s/it]"
     ]
    },
    {
     "name": "stdout",
     "output_type": "stream",
     "text": [
      "Model Was Not Saved ! Current Best Avg. Dice: 0.41999149322509766 Current Avg. Dice: 0.41679126024246216 Current Avg. tumor Dice: 0.401959627866745 Current Avg. lymph Dice: 0.44481515884399414\n"
     ]
    },
    {
     "name": "stderr",
     "output_type": "stream",
     "text": [
      "Validate (13320 / 10 Steps): 100%|██████████| 40/40 [00:47<00:00,  1.20s/it]07<00:02,  2.39it/s]\n",
      "Training (13500 / 18000 Steps) (loss=0.45538):  98%|█████████▊| 181/185 [02:55<00:59, 14.82s/it]"
     ]
    },
    {
     "name": "stdout",
     "output_type": "stream",
     "text": [
      "Model Was Not Saved ! Current Best Avg. Dice: 0.41999149322509766 Current Avg. Dice: 0.4024733006954193 Current Avg. tumor Dice: 0.3765002489089966 Current Avg. lymph Dice: 0.43567636609077454\n"
     ]
    },
    {
     "name": "stderr",
     "output_type": "stream",
     "text": [
      "Training (13504 / 18000 Steps) (loss=0.54487): 100%|██████████| 185/185 [02:57<00:00,  1.04it/s]\n",
      "Validate (13505 / 10 Steps): 100%|██████████| 40/40 [00:47<00:00,  1.20s/it]3<00:37,  2.38it/s]\n",
      "Training (13600 / 18000 Steps) (loss=0.47755):  52%|█████▏    | 96/185 [01:31<21:59, 14.83s/it]"
     ]
    },
    {
     "name": "stdout",
     "output_type": "stream",
     "text": [
      "Model Was Not Saved ! Current Best Avg. Dice: 0.41999149322509766 Current Avg. Dice: 0.40012991428375244 Current Avg. tumor Dice: 0.36330413818359375 Current Avg. lymph Dice: 0.4495556056499481\n"
     ]
    },
    {
     "name": "stderr",
     "output_type": "stream",
     "text": [
      "Training (13689 / 18000 Steps) (loss=0.41354): 100%|██████████| 185/185 [02:08<00:00,  1.44it/s]\n",
      "Validate (13690 / 10 Steps): 100%|██████████| 40/40 [00:47<00:00,  1.20s/it]7<01:19,  2.19it/s]\n",
      "Training (13700 / 18000 Steps) (loss=0.73636):   6%|▌         | 11/185 [00:55<43:54, 15.14s/it]"
     ]
    },
    {
     "name": "stdout",
     "output_type": "stream",
     "text": [
      "Model Was Not Saved ! Current Best Avg. Dice: 0.41999149322509766 Current Avg. Dice: 0.4104834794998169 Current Avg. tumor Dice: 0.38933104276657104 Current Avg. lymph Dice: 0.44323623180389404\n"
     ]
    },
    {
     "name": "stderr",
     "output_type": "stream",
     "text": [
      "Validate (13690 / 10 Steps): 100%|██████████| 40/40 [00:47<00:00,  1.20s/it]37<00:32,  2.34it/s]\n",
      "Training (13800 / 18000 Steps) (loss=0.63371):  60%|██████    | 111/185 [02:25<18:15, 14.81s/it]"
     ]
    },
    {
     "name": "stdout",
     "output_type": "stream",
     "text": [
      "Model Was Not Saved ! Current Best Avg. Dice: 0.41999149322509766 Current Avg. Dice: 0.4160821735858917 Current Avg. tumor Dice: 0.40146711468696594 Current Avg. lymph Dice: 0.4419792890548706\n"
     ]
    },
    {
     "name": "stderr",
     "output_type": "stream",
     "text": [
      "Training (13874 / 18000 Steps) (loss=0.44880): 100%|██████████| 185/185 [02:56<00:00,  1.05it/s]\n",
      "Validate (13875 / 10 Steps): 100%|██████████| 40/40 [00:47<00:00,  1.20s/it]3<01:07,  2.38it/s]\n",
      "Training (13900 / 18000 Steps) (loss=0.46875):  14%|█▍        | 26/185 [01:01<39:16, 14.82s/it]"
     ]
    },
    {
     "name": "stdout",
     "output_type": "stream",
     "text": [
      "Model Was Not Saved ! Current Best Avg. Dice: 0.41999149322509766 Current Avg. Dice: 0.3967113494873047 Current Avg. tumor Dice: 0.370281457901001 Current Avg. lymph Dice: 0.44183120131492615\n"
     ]
    },
    {
     "name": "stderr",
     "output_type": "stream",
     "text": [
      "Validate (13875 / 10 Steps): 100%|██████████| 40/40 [00:48<00:00,  1.21s/it]43<00:25,  2.36it/s]\n",
      "Training (14000 / 18000 Steps) (loss=0.57625):  68%|██████▊   | 126/185 [02:31<14:39, 14.91s/it]"
     ]
    },
    {
     "name": "stdout",
     "output_type": "stream",
     "text": [
      "Model Was Not Saved ! Current Best Avg. Dice: 0.41999149322509766 Current Avg. Dice: 0.39906880259513855 Current Avg. tumor Dice: 0.38419297337532043 Current Avg. lymph Dice: 0.42443543672561646\n"
     ]
    },
    {
     "name": "stderr",
     "output_type": "stream",
     "text": [
      "Training (14059 / 18000 Steps) (loss=0.54577): 100%|██████████| 185/185 [02:57<00:00,  1.05it/s]\n",
      "Validate (14060 / 10 Steps): 100%|██████████| 40/40 [00:47<00:00,  1.18s/it]9<01:01,  2.35it/s]\n",
      "Training (14100 / 18000 Steps) (loss=0.49513):  22%|██▏       | 41/185 [01:07<35:08, 14.64s/it]"
     ]
    },
    {
     "name": "stdout",
     "output_type": "stream",
     "text": [
      "Model Was Not Saved ! Current Best Avg. Dice: 0.41999149322509766 Current Avg. Dice: 0.40782538056373596 Current Avg. tumor Dice: 0.39199352264404297 Current Avg. lymph Dice: 0.43727609515190125\n"
     ]
    },
    {
     "name": "stderr",
     "output_type": "stream",
     "text": [
      "Validate (14060 / 10 Steps): 100%|██████████| 40/40 [00:47<00:00,  1.19s/it]49<00:19,  2.30it/s]\n",
      "Training (14200 / 18000 Steps) (loss=0.55162):  76%|███████▌  | 141/185 [02:37<10:49, 14.77s/it]"
     ]
    },
    {
     "name": "stdout",
     "output_type": "stream",
     "text": [
      "Model Was Not Saved ! Current Best Avg. Dice: 0.41999149322509766 Current Avg. Dice: 0.41931813955307007 Current Avg. tumor Dice: 0.39256224036216736 Current Avg. lymph Dice: 0.4605269432067871\n"
     ]
    },
    {
     "name": "stderr",
     "output_type": "stream",
     "text": [
      "Training (14244 / 18000 Steps) (loss=0.60581): 100%|██████████| 185/185 [02:56<00:00,  1.05it/s]\n",
      "Validate (14245 / 10 Steps): 100%|██████████| 40/40 [00:47<00:00,  1.19s/it]6<00:59,  2.20it/s]\n",
      "Training (14300 / 18000 Steps) (loss=0.39657):  30%|███       | 56/185 [01:14<31:36, 14.70s/it]"
     ]
    },
    {
     "name": "stdout",
     "output_type": "stream",
     "text": [
      "Model Was Not Saved ! Current Best Avg. Dice: 0.41999149322509766 Current Avg. Dice: 0.4167011082172394 Current Avg. tumor Dice: 0.4000720977783203 Current Avg. lymph Dice: 0.44872698187828064\n"
     ]
    },
    {
     "name": "stderr",
     "output_type": "stream",
     "text": [
      "Validate (14245 / 10 Steps): 100%|██████████| 40/40 [00:47<00:00,  1.19s/it]57<00:12,  2.35it/s]\n",
      "Training (14400 / 18000 Steps) (loss=0.52588):  84%|████████▍ | 156/185 [02:44<07:06, 14.71s/it]"
     ]
    },
    {
     "name": "stdout",
     "output_type": "stream",
     "text": [
      "Model Was Not Saved ! Current Best Avg. Dice: 0.41999149322509766 Current Avg. Dice: 0.39500692486763 Current Avg. tumor Dice: 0.3770308494567871 Current Avg. lymph Dice: 0.4220910668373108\n"
     ]
    },
    {
     "name": "stderr",
     "output_type": "stream",
     "text": [
      "Training (14429 / 18000 Steps) (loss=0.48163): 100%|██████████| 185/185 [02:57<00:00,  1.04it/s]\n",
      "Validate (14430 / 10 Steps): 100%|██████████| 40/40 [00:47<00:00,  1.19s/it]3<00:49,  2.34it/s]\n",
      "Training (14500 / 18000 Steps) (loss=0.44703):  38%|███▊      | 71/185 [01:20<27:59, 14.73s/it]"
     ]
    },
    {
     "name": "stdout",
     "output_type": "stream",
     "text": [
      "Model Was Not Saved ! Current Best Avg. Dice: 0.41999149322509766 Current Avg. Dice: 0.40588417649269104 Current Avg. tumor Dice: 0.38053956627845764 Current Avg. lymph Dice: 0.44555142521858215\n"
     ]
    },
    {
     "name": "stderr",
     "output_type": "stream",
     "text": [
      "Validate (14430 / 10 Steps): 100%|██████████| 40/40 [00:47<00:00,  1.19s/it]03<00:06,  2.33it/s]\n",
      "Training (14600 / 18000 Steps) (loss=0.55461):  92%|█████████▏| 171/185 [02:51<03:26, 14.73s/it]"
     ]
    },
    {
     "name": "stdout",
     "output_type": "stream",
     "text": [
      "Model Was Not Saved ! Current Best Avg. Dice: 0.41999149322509766 Current Avg. Dice: 0.3817733824253082 Current Avg. tumor Dice: 0.3680307865142822 Current Avg. lymph Dice: 0.4013371467590332\n"
     ]
    },
    {
     "name": "stderr",
     "output_type": "stream",
     "text": [
      "Training (14614 / 18000 Steps) (loss=0.49627): 100%|██████████| 185/185 [02:57<00:00,  1.04it/s]\n",
      "Validate (14615 / 10 Steps): 100%|██████████| 40/40 [00:48<00:00,  1.21s/it]9<00:42,  2.34it/s]\n",
      "Training (14700 / 18000 Steps) (loss=0.58415):  46%|████▋     | 86/185 [01:27<24:39, 14.95s/it]"
     ]
    },
    {
     "name": "stdout",
     "output_type": "stream",
     "text": [
      "Model Was Not Saved ! Current Best Avg. Dice: 0.41999149322509766 Current Avg. Dice: 0.41416317224502563 Current Avg. tumor Dice: 0.3887784779071808 Current Avg. lymph Dice: 0.4525294005870819\n"
     ]
    },
    {
     "name": "stderr",
     "output_type": "stream",
     "text": [
      "Training (14799 / 18000 Steps) (loss=0.56605): 100%|██████████| 185/185 [02:10<00:00,  1.42it/s]\n",
      "Validate (14800 / 10 Steps): 100%|██████████| 40/40 [00:48<00:00,  1.21s/it]<?, ?it/s]\n",
      "Training (14800 / 18000 Steps) (loss=0.56577):   1%|          | 1/185 [00:51<2:37:49, 51.47s/it]"
     ]
    },
    {
     "name": "stdout",
     "output_type": "stream",
     "text": [
      "Model Was Not Saved ! Current Best Avg. Dice: 0.41999149322509766 Current Avg. Dice: 0.3731050491333008 Current Avg. tumor Dice: 0.3836786150932312 Current Avg. lymph Dice: 0.3657466471195221\n"
     ]
    },
    {
     "name": "stderr",
     "output_type": "stream",
     "text": [
      "Validate (14800 / 10 Steps): 100%|██████████| 40/40 [00:47<00:00,  1.18s/it]34<00:36,  2.34it/s]\n",
      "Training (14900 / 18000 Steps) (loss=0.54973):  55%|█████▍    | 101/185 [02:21<20:28, 14.63s/it]"
     ]
    },
    {
     "name": "stdout",
     "output_type": "stream",
     "text": [
      "Model Was Not Saved ! Current Best Avg. Dice: 0.41999149322509766 Current Avg. Dice: 0.3926152288913727 Current Avg. tumor Dice: 0.38164031505584717 Current Avg. lymph Dice: 0.4152315855026245\n"
     ]
    },
    {
     "name": "stderr",
     "output_type": "stream",
     "text": [
      "Training (14984 / 18000 Steps) (loss=0.58916): 100%|██████████| 185/185 [02:57<00:00,  1.04it/s]\n",
      "Validate (14985 / 10 Steps): 100%|██████████| 40/40 [00:47<00:00,  1.18s/it]9<01:12,  2.34it/s]\n",
      "Training (15000 / 18000 Steps) (loss=0.50596):   9%|▊         | 16/185 [00:57<42:00, 14.92s/it]"
     ]
    },
    {
     "name": "stdout",
     "output_type": "stream",
     "text": [
      "Model Was Saved ! Current Best Avg. Dice: 0.42042261362075806 Current Avg. Dice: 0.42042261362075806 Current Avg. tumor Dice: 0.4081757366657257 Current Avg. lymph Dice: 0.4454212486743927\n"
     ]
    },
    {
     "name": "stderr",
     "output_type": "stream",
     "text": [
      "Validate (14985 / 10 Steps): 100%|██████████| 40/40 [00:48<00:00,  1.21s/it]40<00:30,  2.32it/s]\n",
      "Training (15100 / 18000 Steps) (loss=0.55108):  63%|██████▎   | 116/185 [02:29<17:23, 15.12s/it]"
     ]
    },
    {
     "name": "stdout",
     "output_type": "stream",
     "text": [
      "Model Was Saved ! Current Best Avg. Dice: 0.42474231123924255 Current Avg. Dice: 0.42474231123924255 Current Avg. tumor Dice: 0.40135449171066284 Current Avg. lymph Dice: 0.45935362577438354\n"
     ]
    },
    {
     "name": "stderr",
     "output_type": "stream",
     "text": [
      "Training (15169 / 18000 Steps) (loss=0.52659): 100%|██████████| 185/185 [02:58<00:00,  1.04it/s]\n",
      "Validate (15170 / 10 Steps): 100%|██████████| 40/40 [00:48<00:00,  1.20s/it]5<01:05,  2.37it/s]\n",
      "Training (15200 / 18000 Steps) (loss=0.60448):  17%|█▋        | 31/185 [01:03<38:10, 14.87s/it]"
     ]
    },
    {
     "name": "stdout",
     "output_type": "stream",
     "text": [
      "Model Was Not Saved ! Current Best Avg. Dice: 0.42474231123924255 Current Avg. Dice: 0.41158467531204224 Current Avg. tumor Dice: 0.3871888816356659 Current Avg. lymph Dice: 0.44616901874542236\n"
     ]
    },
    {
     "name": "stderr",
     "output_type": "stream",
     "text": [
      "Validate (15170 / 10 Steps): 100%|██████████| 40/40 [00:48<00:00,  1.22s/it]46<00:23,  2.36it/s]\n",
      "Training (15300 / 18000 Steps) (loss=0.51906):  71%|███████   | 131/185 [02:35<13:34, 15.09s/it]"
     ]
    },
    {
     "name": "stdout",
     "output_type": "stream",
     "text": [
      "Model Was Not Saved ! Current Best Avg. Dice: 0.42474231123924255 Current Avg. Dice: 0.4035852253437042 Current Avg. tumor Dice: 0.3837594985961914 Current Avg. lymph Dice: 0.4353405237197876\n"
     ]
    },
    {
     "name": "stderr",
     "output_type": "stream",
     "text": [
      "Training (15354 / 18000 Steps) (loss=0.58318): 100%|██████████| 185/185 [02:58<00:00,  1.04it/s]\n",
      "Validate (15355 / 10 Steps): 100%|██████████| 40/40 [00:47<00:00,  1.20s/it]1<00:59,  2.36it/s]\n",
      "Training (15400 / 18000 Steps) (loss=0.57017):  25%|██▍       | 46/185 [01:09<34:19, 14.82s/it]"
     ]
    },
    {
     "name": "stdout",
     "output_type": "stream",
     "text": [
      "Model Was Not Saved ! Current Best Avg. Dice: 0.42474231123924255 Current Avg. Dice: 0.42015379667282104 Current Avg. tumor Dice: 0.39241328835487366 Current Avg. lymph Dice: 0.4590068757534027\n"
     ]
    },
    {
     "name": "stderr",
     "output_type": "stream",
     "text": [
      "Validate (15355 / 10 Steps): 100%|██████████| 40/40 [00:48<00:00,  1.21s/it]52<00:17,  2.32it/s]\n",
      "Training (15500 / 18000 Steps) (loss=0.57057):  79%|███████▉  | 146/185 [02:41<09:41, 14.90s/it]"
     ]
    },
    {
     "name": "stdout",
     "output_type": "stream",
     "text": [
      "Model Was Not Saved ! Current Best Avg. Dice: 0.42474231123924255 Current Avg. Dice: 0.41550782322883606 Current Avg. tumor Dice: 0.39302533864974976 Current Avg. lymph Dice: 0.4473843276500702\n"
     ]
    },
    {
     "name": "stderr",
     "output_type": "stream",
     "text": [
      "Training (15539 / 18000 Steps) (loss=0.53728): 100%|██████████| 185/185 [02:57<00:00,  1.04it/s]\n",
      "Validate (15540 / 10 Steps): 100%|██████████| 40/40 [00:48<00:00,  1.21s/it]8<00:52,  2.37it/s]\n",
      "Training (15600 / 18000 Steps) (loss=0.58786):  33%|███▎      | 61/185 [01:16<30:51, 14.93s/it]"
     ]
    },
    {
     "name": "stdout",
     "output_type": "stream",
     "text": [
      "Model Was Not Saved ! Current Best Avg. Dice: 0.42474231123924255 Current Avg. Dice: 0.4040088653564453 Current Avg. tumor Dice: 0.3720209300518036 Current Avg. lymph Dice: 0.45122969150543213\n"
     ]
    },
    {
     "name": "stderr",
     "output_type": "stream",
     "text": [
      "Validate (15540 / 10 Steps): 100%|██████████| 40/40 [00:48<00:00,  1.20s/it]59<00:10,  2.32it/s]\n",
      "Training (15700 / 18000 Steps) (loss=0.53547):  87%|████████▋ | 161/185 [02:47<05:57, 14.90s/it]"
     ]
    },
    {
     "name": "stdout",
     "output_type": "stream",
     "text": [
      "Model Was Not Saved ! Current Best Avg. Dice: 0.42474231123924255 Current Avg. Dice: 0.42377814650535583 Current Avg. tumor Dice: 0.40404534339904785 Current Avg. lymph Dice: 0.4555070102214813\n"
     ]
    },
    {
     "name": "stderr",
     "output_type": "stream",
     "text": [
      "Training (15724 / 18000 Steps) (loss=0.54824): 100%|██████████| 185/185 [02:57<00:00,  1.04it/s]\n",
      "Validate (15725 / 10 Steps): 100%|██████████| 40/40 [00:47<00:00,  1.20s/it]4<00:46,  2.34it/s]\n",
      "Training (15800 / 18000 Steps) (loss=0.56177):  41%|████      | 76/185 [01:23<27:14, 15.00s/it]"
     ]
    },
    {
     "name": "stdout",
     "output_type": "stream",
     "text": [
      "Model Was Saved ! Current Best Avg. Dice: 0.43174052238464355 Current Avg. Dice: 0.43174052238464355 Current Avg. tumor Dice: 0.40448978543281555 Current Avg. lymph Dice: 0.4719723165035248\n"
     ]
    },
    {
     "name": "stderr",
     "output_type": "stream",
     "text": [
      "Validate (15725 / 10 Steps): 100%|██████████| 40/40 [00:48<00:00,  1.21s/it]05<00:04,  2.35it/s]\n",
      "Training (15900 / 18000 Steps) (loss=0.57457):  95%|█████████▌| 176/185 [02:54<02:15, 15.01s/it]"
     ]
    },
    {
     "name": "stdout",
     "output_type": "stream",
     "text": [
      "Model Was Not Saved ! Current Best Avg. Dice: 0.43174052238464355 Current Avg. Dice: 0.4149162173271179 Current Avg. tumor Dice: 0.38192540407180786 Current Avg. lymph Dice: 0.46056267619132996\n"
     ]
    },
    {
     "name": "stderr",
     "output_type": "stream",
     "text": [
      "Training (15909 / 18000 Steps) (loss=0.48096): 100%|██████████| 185/185 [02:58<00:00,  1.04it/s]\n",
      "Validate (15910 / 10 Steps): 100%|██████████| 40/40 [00:48<00:00,  1.21s/it]1<00:40,  2.32it/s]\n",
      "Training (16000 / 18000 Steps) (loss=0.53815):  49%|████▉     | 91/185 [01:29<23:22, 14.92s/it]"
     ]
    },
    {
     "name": "stdout",
     "output_type": "stream",
     "text": [
      "Model Was Not Saved ! Current Best Avg. Dice: 0.43174052238464355 Current Avg. Dice: 0.4031502306461334 Current Avg. tumor Dice: 0.37447184324264526 Current Avg. lymph Dice: 0.44787701964378357\n"
     ]
    },
    {
     "name": "stderr",
     "output_type": "stream",
     "text": [
      "Training (16094 / 18000 Steps) (loss=0.41672): 100%|██████████| 185/185 [02:09<00:00,  1.42it/s]\n",
      "Validate (16095 / 10 Steps): 100%|██████████| 40/40 [00:47<00:00,  1.18s/it]<01:52,  1.60it/s]\n",
      "Training (16100 / 18000 Steps) (loss=0.43075):   3%|▎         | 6/185 [00:52<49:43, 16.67s/it]"
     ]
    },
    {
     "name": "stdout",
     "output_type": "stream",
     "text": [
      "Model Was Not Saved ! Current Best Avg. Dice: 0.43174052238464355 Current Avg. Dice: 0.416899710893631 Current Avg. tumor Dice: 0.3871515691280365 Current Avg. lymph Dice: 0.46367600560188293\n"
     ]
    },
    {
     "name": "stderr",
     "output_type": "stream",
     "text": [
      "Validate (16095 / 10 Steps): 100%|██████████| 40/40 [00:47<00:00,  1.20s/it]34<00:33,  2.35it/s]\n",
      "Training (16200 / 18000 Steps) (loss=0.54861):  57%|█████▋    | 106/185 [02:22<19:30, 14.82s/it]"
     ]
    },
    {
     "name": "stdout",
     "output_type": "stream",
     "text": [
      "Model Was Not Saved ! Current Best Avg. Dice: 0.43174052238464355 Current Avg. Dice: 0.4252702295780182 Current Avg. tumor Dice: 0.40202096104621887 Current Avg. lymph Dice: 0.4586424231529236\n"
     ]
    },
    {
     "name": "stderr",
     "output_type": "stream",
     "text": [
      "Training (16279 / 18000 Steps) (loss=0.42606): 100%|██████████| 185/185 [02:56<00:00,  1.05it/s]\n",
      "Validate (16280 / 10 Steps): 100%|██████████| 40/40 [00:47<00:00,  1.19s/it]1<01:09,  2.37it/s]\n",
      "Training (16300 / 18000 Steps) (loss=0.49894):  11%|█▏        | 21/185 [00:58<40:13, 14.71s/it]"
     ]
    },
    {
     "name": "stdout",
     "output_type": "stream",
     "text": [
      "Model Was Not Saved ! Current Best Avg. Dice: 0.43174052238464355 Current Avg. Dice: 0.4126032590866089 Current Avg. tumor Dice: 0.37699541449546814 Current Avg. lymph Dice: 0.45968976616859436\n"
     ]
    },
    {
     "name": "stderr",
     "output_type": "stream",
     "text": [
      "Validate (16280 / 10 Steps): 100%|██████████| 40/40 [00:48<00:00,  1.20s/it]41<00:27,  2.35it/s]\n",
      "Training (16400 / 18000 Steps) (loss=0.54037):  65%|██████▌   | 121/185 [02:29<15:49, 14.84s/it]"
     ]
    },
    {
     "name": "stdout",
     "output_type": "stream",
     "text": [
      "Model Was Not Saved ! Current Best Avg. Dice: 0.43174052238464355 Current Avg. Dice: 0.4192718267440796 Current Avg. tumor Dice: 0.402401864528656 Current Avg. lymph Dice: 0.4490463137626648\n"
     ]
    },
    {
     "name": "stderr",
     "output_type": "stream",
     "text": [
      "Training (16464 / 18000 Steps) (loss=0.56114): 100%|██████████| 185/185 [02:56<00:00,  1.05it/s]\n",
      "Validate (16465 / 10 Steps): 100%|██████████| 40/40 [00:47<00:00,  1.19s/it]7<01:04,  2.34it/s]\n",
      "Training (16500 / 18000 Steps) (loss=0.52514):  19%|█▉        | 36/185 [01:05<36:36, 14.74s/it]"
     ]
    },
    {
     "name": "stdout",
     "output_type": "stream",
     "text": [
      "Model Was Not Saved ! Current Best Avg. Dice: 0.43174052238464355 Current Avg. Dice: 0.36477479338645935 Current Avg. tumor Dice: 0.35149866342544556 Current Avg. lymph Dice: 0.38574591279029846\n"
     ]
    },
    {
     "name": "stderr",
     "output_type": "stream",
     "text": [
      "Validate (16465 / 10 Steps): 100%|██████████| 40/40 [00:47<00:00,  1.20s/it]48<00:21,  2.32it/s]\n",
      "Training (16600 / 18000 Steps) (loss=0.58511):  74%|███████▎  | 136/185 [02:36<12:07, 14.84s/it]"
     ]
    },
    {
     "name": "stdout",
     "output_type": "stream",
     "text": [
      "Model Was Not Saved ! Current Best Avg. Dice: 0.43174052238464355 Current Avg. Dice: 0.41663312911987305 Current Avg. tumor Dice: 0.3946749269962311 Current Avg. lymph Dice: 0.451296865940094\n"
     ]
    },
    {
     "name": "stderr",
     "output_type": "stream",
     "text": [
      "Training (16649 / 18000 Steps) (loss=0.56151): 100%|██████████| 185/185 [02:57<00:00,  1.04it/s]\n",
      "Validate (16650 / 10 Steps): 100%|██████████| 40/40 [00:47<00:00,  1.20s/it]4<00:56,  2.37it/s]\n",
      "Training (16700 / 18000 Steps) (loss=0.41114):  28%|██▊       | 51/185 [01:12<33:06, 14.82s/it]"
     ]
    },
    {
     "name": "stdout",
     "output_type": "stream",
     "text": [
      "Model Was Not Saved ! Current Best Avg. Dice: 0.43174052238464355 Current Avg. Dice: 0.4309713542461395 Current Avg. tumor Dice: 0.40414679050445557 Current Avg. lymph Dice: 0.46626532077789307\n"
     ]
    },
    {
     "name": "stderr",
     "output_type": "stream",
     "text": [
      "Validate (16650 / 10 Steps): 100%|██████████| 40/40 [00:48<00:00,  1.22s/it]55<00:15,  2.32it/s]\n",
      "Training (16800 / 18000 Steps) (loss=0.54178):  82%|████████▏ | 151/185 [02:45<08:39, 15.29s/it]"
     ]
    },
    {
     "name": "stdout",
     "output_type": "stream",
     "text": [
      "Model Was Saved ! Current Best Avg. Dice: 0.4387235641479492 Current Avg. Dice: 0.4387235641479492 Current Avg. tumor Dice: 0.4102080762386322 Current Avg. lymph Dice: 0.47881942987442017\n"
     ]
    },
    {
     "name": "stderr",
     "output_type": "stream",
     "text": [
      "Training (16834 / 18000 Steps) (loss=0.44758): 100%|██████████| 185/185 [02:59<00:00,  1.03it/s]\n",
      "Validate (16835 / 10 Steps): 100%|██████████| 40/40 [00:48<00:00,  1.20s/it]0<00:51,  2.35it/s]\n",
      "Training (16900 / 18000 Steps) (loss=0.52264):  36%|███▌      | 66/185 [01:18<29:27, 14.85s/it]"
     ]
    },
    {
     "name": "stdout",
     "output_type": "stream",
     "text": [
      "Model Was Not Saved ! Current Best Avg. Dice: 0.4387235641479492 Current Avg. Dice: 0.42039597034454346 Current Avg. tumor Dice: 0.38281795382499695 Current Avg. lymph Dice: 0.47366029024124146\n"
     ]
    },
    {
     "name": "stderr",
     "output_type": "stream",
     "text": [
      "Validate (16835 / 10 Steps): 100%|██████████| 40/40 [00:48<00:00,  1.21s/it]01<00:08,  2.33it/s]\n",
      "Training (17000 / 18000 Steps) (loss=0.58251):  90%|████████▉ | 166/185 [02:50<04:43, 14.91s/it]"
     ]
    },
    {
     "name": "stdout",
     "output_type": "stream",
     "text": [
      "Model Was Not Saved ! Current Best Avg. Dice: 0.4387235641479492 Current Avg. Dice: 0.42097607254981995 Current Avg. tumor Dice: 0.39260390400886536 Current Avg. lymph Dice: 0.4613117277622223\n"
     ]
    },
    {
     "name": "stderr",
     "output_type": "stream",
     "text": [
      "Training (17019 / 18000 Steps) (loss=0.52376): 100%|██████████| 185/185 [02:58<00:00,  1.04it/s]\n",
      "Validate (17020 / 10 Steps): 100%|██████████| 40/40 [00:48<00:00,  1.22s/it]7<00:44,  2.35it/s]\n",
      "Training (17100 / 18000 Steps) (loss=0.62962):  44%|████▍     | 81/185 [01:26<26:24, 15.24s/it]"
     ]
    },
    {
     "name": "stdout",
     "output_type": "stream",
     "text": [
      "Model Was Saved ! Current Best Avg. Dice: 0.4392798840999603 Current Avg. Dice: 0.4392798840999603 Current Avg. tumor Dice: 0.4214227497577667 Current Avg. lymph Dice: 0.46822085976600647\n"
     ]
    },
    {
     "name": "stderr",
     "output_type": "stream",
     "text": [
      "Validate (17020 / 10 Steps): 100%|██████████| 40/40 [00:48<00:00,  1.22s/it]09<00:02,  2.37it/s]\n",
      "Training (17200 / 18000 Steps) (loss=0.56771):  98%|█████████▊| 181/185 [02:58<01:00, 15.04s/it]"
     ]
    },
    {
     "name": "stdout",
     "output_type": "stream",
     "text": [
      "Model Was Not Saved ! Current Best Avg. Dice: 0.4392798840999603 Current Avg. Dice: 0.42560920119285583 Current Avg. tumor Dice: 0.4129762053489685 Current Avg. lymph Dice: 0.45125502347946167\n"
     ]
    },
    {
     "name": "stderr",
     "output_type": "stream",
     "text": [
      "Training (17204 / 18000 Steps) (loss=0.44367): 100%|██████████| 185/185 [03:00<00:00,  1.03it/s]\n",
      "Validate (17205 / 10 Steps): 100%|██████████| 40/40 [00:47<00:00,  1.20s/it]2<00:38,  2.35it/s]\n",
      "Training (17300 / 18000 Steps) (loss=0.62701):  52%|█████▏    | 96/185 [01:30<21:59, 14.82s/it]"
     ]
    },
    {
     "name": "stdout",
     "output_type": "stream",
     "text": [
      "Model Was Not Saved ! Current Best Avg. Dice: 0.4392798840999603 Current Avg. Dice: 0.4237121343612671 Current Avg. tumor Dice: 0.39573508501052856 Current Avg. lymph Dice: 0.4664672911167145\n"
     ]
    },
    {
     "name": "stderr",
     "output_type": "stream",
     "text": [
      "Training (17389 / 18000 Steps) (loss=0.45770): 100%|██████████| 185/185 [02:08<00:00,  1.44it/s]\n",
      "Validate (17390 / 10 Steps): 100%|██████████| 40/40 [00:48<00:00,  1.20s/it]7<01:19,  2.20it/s]\n",
      "Training (17400 / 18000 Steps) (loss=0.52533):   6%|▌         | 11/185 [00:55<44:03, 15.19s/it]"
     ]
    },
    {
     "name": "stdout",
     "output_type": "stream",
     "text": [
      "Model Was Not Saved ! Current Best Avg. Dice: 0.4392798840999603 Current Avg. Dice: 0.43018215894699097 Current Avg. tumor Dice: 0.40013742446899414 Current Avg. lymph Dice: 0.47088828682899475\n"
     ]
    },
    {
     "name": "stderr",
     "output_type": "stream",
     "text": [
      "Validate (17390 / 10 Steps): 100%|██████████| 40/40 [00:47<00:00,  1.19s/it]38<00:31,  2.36it/s]\n",
      "Training (17500 / 18000 Steps) (loss=0.56163):  60%|██████    | 111/185 [02:25<18:12, 14.77s/it]"
     ]
    },
    {
     "name": "stdout",
     "output_type": "stream",
     "text": [
      "Model Was Not Saved ! Current Best Avg. Dice: 0.4392798840999603 Current Avg. Dice: 0.4112094044685364 Current Avg. tumor Dice: 0.3716416358947754 Current Avg. lymph Dice: 0.46960726380348206\n"
     ]
    },
    {
     "name": "stderr",
     "output_type": "stream",
     "text": [
      "Training (17574 / 18000 Steps) (loss=0.42827): 100%|██████████| 185/185 [02:57<00:00,  1.04it/s]\n",
      "Validate (17575 / 10 Steps): 100%|██████████| 40/40 [00:47<00:00,  1.18s/it]3<01:07,  2.36it/s]\n",
      "Training (17600 / 18000 Steps) (loss=0.50523):  14%|█▍        | 26/185 [01:00<38:46, 14.63s/it]"
     ]
    },
    {
     "name": "stdout",
     "output_type": "stream",
     "text": [
      "Model Was Not Saved ! Current Best Avg. Dice: 0.4392798840999603 Current Avg. Dice: 0.4324975311756134 Current Avg. tumor Dice: 0.4084482789039612 Current Avg. lymph Dice: 0.46310123801231384\n"
     ]
    },
    {
     "name": "stderr",
     "output_type": "stream",
     "text": [
      "Validate (17575 / 10 Steps): 100%|██████████| 40/40 [00:47<00:00,  1.19s/it]43<00:25,  2.35it/s]\n",
      "Training (17700 / 18000 Steps) (loss=0.56516):  68%|██████▊   | 126/185 [02:31<14:26, 14.69s/it]"
     ]
    },
    {
     "name": "stdout",
     "output_type": "stream",
     "text": [
      "Model Was Not Saved ! Current Best Avg. Dice: 0.4392798840999603 Current Avg. Dice: 0.4248661994934082 Current Avg. tumor Dice: 0.39412713050842285 Current Avg. lymph Dice: 0.472307413816452\n"
     ]
    },
    {
     "name": "stderr",
     "output_type": "stream",
     "text": [
      "Training (17759 / 18000 Steps) (loss=0.54109): 100%|██████████| 185/185 [02:56<00:00,  1.05it/s]\n",
      "Validate (17760 / 10 Steps): 100%|██████████| 40/40 [00:47<00:00,  1.18s/it]0<01:01,  2.37it/s]\n",
      "Training (17800 / 18000 Steps) (loss=0.54868):  22%|██▏       | 41/185 [01:07<35:05, 14.62s/it]"
     ]
    },
    {
     "name": "stdout",
     "output_type": "stream",
     "text": [
      "Model Was Not Saved ! Current Best Avg. Dice: 0.4392798840999603 Current Avg. Dice: 0.43167394399642944 Current Avg. tumor Dice: 0.3988443613052368 Current Avg. lymph Dice: 0.4725712239742279\n"
     ]
    },
    {
     "name": "stderr",
     "output_type": "stream",
     "text": [
      "Validate (17760 / 10 Steps): 100%|██████████| 40/40 [00:47<00:00,  1.19s/it]50<00:19,  2.34it/s]\n",
      "Training (17900 / 18000 Steps) (loss=0.48260):  76%|███████▌  | 141/185 [02:37<10:49, 14.75s/it]"
     ]
    },
    {
     "name": "stdout",
     "output_type": "stream",
     "text": [
      "Model Was Not Saved ! Current Best Avg. Dice: 0.4392798840999603 Current Avg. Dice: 0.40273135900497437 Current Avg. tumor Dice: 0.3747388422489166 Current Avg. lymph Dice: 0.4421286880970001\n"
     ]
    },
    {
     "name": "stderr",
     "output_type": "stream",
     "text": [
      "Training (17944 / 18000 Steps) (loss=0.63951): 100%|██████████| 185/185 [02:56<00:00,  1.05it/s]\n",
      "Validate (17945 / 10 Steps): 100%|██████████| 40/40 [00:48<00:00,  1.20s/it]6<00:55,  2.33it/s]\n",
      "Training (18000 / 18000 Steps) (loss=0.49138):  30%|███       | 56/185 [01:14<31:56, 14.86s/it]"
     ]
    },
    {
     "name": "stdout",
     "output_type": "stream",
     "text": [
      "Model Was Not Saved ! Current Best Avg. Dice: 0.4392798840999603 Current Avg. Dice: 0.4294072985649109 Current Avg. tumor Dice: 0.40335556864738464 Current Avg. lymph Dice: 0.4705875813961029\n"
     ]
    },
    {
     "name": "stderr",
     "output_type": "stream",
     "text": [
      "Validate (17945 / 10 Steps): 100%|██████████| 40/40 [00:48<00:00,  1.20s/it]57<00:12,  2.34it/s]\n",
      "Training (18100 / 18000 Steps) (loss=0.50376):  84%|████████▍ | 156/185 [02:45<07:12, 14.90s/it]"
     ]
    },
    {
     "name": "stdout",
     "output_type": "stream",
     "text": [
      "Model Was Not Saved ! Current Best Avg. Dice: 0.4392798840999603 Current Avg. Dice: 0.41742953658103943 Current Avg. tumor Dice: 0.4133160412311554 Current Avg. lymph Dice: 0.426857590675354\n"
     ]
    },
    {
     "name": "stderr",
     "output_type": "stream",
     "text": [
      "Training (18129 / 18000 Steps) (loss=0.58543): 100%|██████████| 185/185 [02:58<00:00,  1.04it/s]\n"
     ]
    }
   ],
   "source": [
    "model_dir = '/home/nada.saadi/CTPET/hecktor2022_cropped/upperboundct'\n",
    "\n",
    "def validation(epoch_iterator_val):\n",
    "    model.eval()\n",
    "    with torch.no_grad():\n",
    "        for step, batch in enumerate(epoch_iterator_val):\n",
    "            val_inputs, val_labels = (batch[\"ct\"].cuda(), batch[\"seg\"].cuda())\n",
    "            val_outputs = sliding_window_inference(val_inputs, (96, 96, 96), 4, model)\n",
    "            val_labels_list = decollate_batch(val_labels)\n",
    "            val_labels_convert = [\n",
    "                post_label(val_label_tensor) for val_label_tensor in val_labels_list\n",
    "            ]\n",
    "            val_outputs_list = decollate_batch(val_outputs)\n",
    "            val_output_convert = [\n",
    "                post_pred(val_pred_tensor) for val_pred_tensor in val_outputs_list\n",
    "            ]\n",
    "            dice_metric(y_pred=val_output_convert, y=val_labels_convert)\n",
    "            dice_metric_batch(y_pred=val_output_convert, y=val_labels_convert)\n",
    "            epoch_iterator_val.set_description(\n",
    "                \"Validate (%d / %d Steps)\" % (global_step, 10.0)\n",
    "            )\n",
    "        mean_dice_val = dice_metric.aggregate().item()\n",
    "        metric_batch_val = dice_metric_batch.aggregate()\n",
    "\n",
    "        metric_tumor = metric_batch_val[0].item()\n",
    "        metric_lymph = metric_batch_val[1].item()\n",
    "\n",
    "        dice_metric.reset()\n",
    "        dice_metric_batch.reset()\n",
    "    return mean_dice_val, metric_tumor, metric_lymph\n",
    "\n",
    "\n",
    "def train(global_step, train_loader, dice_val_best, global_step_best):\n",
    "    model.train()\n",
    "    epoch_loss = 0\n",
    "    step = 0\n",
    "    epoch_iterator = tqdm(\n",
    "        train_loader, desc=\"Training (X / X Steps) (loss=X.X)\", dynamic_ncols=True\n",
    "    )\n",
    "    for step, batch in enumerate(epoch_iterator):\n",
    "        step += 1\n",
    "        x, y = (batch[\"ct\"].cuda(), batch[\"seg\"].cuda())\n",
    "        logit_map = model(x)\n",
    "        loss = loss_function(logit_map, y)\n",
    "        loss.backward()\n",
    "        epoch_loss += loss.item()\n",
    "        optimizer.step()\n",
    "        optimizer.zero_grad()\n",
    "        epoch_iterator.set_description(\n",
    "            \"Training (%d / %d Steps) (loss=%2.5f)\"\n",
    "            % (global_step, max_iterations, loss)\n",
    "        )\n",
    "        if (\n",
    "            global_step % eval_num == 0 and global_step != 0\n",
    "        ) or global_step == max_iterations:\n",
    "            epoch_iterator_val = tqdm(\n",
    "                val_loader, desc=\"Validate (X / X Steps) (dice=X.X)\", dynamic_ncols=True\n",
    "            )\n",
    "            dice_val, metric_tumor, metric_lymph = validation(epoch_iterator_val)\n",
    "            epoch_loss /= step\n",
    "            epoch_loss_values.append(epoch_loss)\n",
    "            metric_values.append(dice_val)\n",
    "            metric_values_tumor.append(metric_tumor)\n",
    "            metric_values_lymph.append(metric_lymph)\n",
    "            if dice_val > dice_val_best:\n",
    "                dice_val_best = dice_val\n",
    "                global_step_best = global_step\n",
    "                torch.save(\n",
    "                    model.state_dict(), os.path.join(model_dir, \"upperboundCT5centers.pth\")\n",
    "                )\n",
    "                print(\n",
    "                    \"Model Was Saved ! Current Best Avg. Dice: {} Current Avg. Dice: {} Current Avg. tumor Dice: {} Current Avg. lymph Dice: {}\".format(\n",
    "                        dice_val_best, dice_val, metric_tumor, metric_lymph\n",
    "                    )\n",
    "                )\n",
    "            else:\n",
    "                print(\n",
    "                    \"Model Was Not Saved ! Current Best Avg. Dice: {} Current Avg. Dice: {} Current Avg. tumor Dice: {} Current Avg. lymph Dice: {}\".format(\n",
    "                        dice_val_best, dice_val,  metric_tumor, metric_lymph\n",
    "                    )\n",
    "                )\n",
    "        global_step += 1\n",
    "    return global_step, dice_val_best, global_step_best\n",
    "\n",
    "\n",
    "max_iterations = 18000\n",
    "eval_num = 100\n",
    "\n",
    "post_label = AsDiscrete(to_onehot=3)\n",
    "post_pred = AsDiscrete(argmax=True, to_onehot=3)\n",
    "\n",
    "dice_metric = DiceMetric(include_background=False, reduction=\"mean\", get_not_nans=False)\n",
    "dice_metric_batch = DiceMetric(include_background=False, reduction=\"mean_batch\")\n",
    "\n",
    "epoch = 0\n",
    "max_num_epochs = 530\n",
    "\n",
    "global_step = 0\n",
    "dice_val_best = 0.0\n",
    "global_step_best = 0\n",
    "epoch_loss_values = []\n",
    "metric_values = []\n",
    "metric_values_tumor = []\n",
    "metric_values_lymph = []\n",
    "while global_step < max_iterations:\n",
    "    global_step, dice_val_best, global_step_best = train(\n",
    "        global_step, train_loader, dice_val_best, global_step_best\n",
    "    )\n",
    "    # wandb.log({'learning_rate': optimizer.param_groups[0]['lr']})\n",
    "    # wandb.log({'Best Dice': dice_val_best})\n",
    "    epoch += 1\n",
    "    #optimizer.param_groups[0]['lr'] = poly_lr(epoch, max_num_epochs, 0.005676 , 0.9)\n",
    "# model.load_state_dict(torch.load(os.path.join(model_dir, \"best_metric_luck_UNETr_prompt.pth\")))"
   ]
  },
  {
   "cell_type": "code",
   "execution_count": null,
   "metadata": {},
   "outputs": [],
   "source": [
    "upper_bound='/home/nada.saadi/CTPET/hecktor2022_cropped/upperboundct/upperboundCT5centers.pth'"
   ]
  },
  {
   "cell_type": "code",
   "execution_count": 25,
   "metadata": {},
   "outputs": [
    {
     "name": "stderr",
     "output_type": "stream",
     "text": [
      "100%|██████████| 44/44 [00:27<00:00,  1.60it/s]\n"
     ]
    },
    {
     "name": "stdout",
     "output_type": "stream",
     "text": [
      "Outputs saved at: /home/nada.saadi/CTPET/hecktor2022_cropped/test_outputupperbound_ct_saved.pt\n",
      "Testing - Avg Dice: 0.4246, Tumor Dice: 0.3987, Lymph Dice: 0.4688\n"
     ]
    },
    {
     "data": {
      "text/plain": [
       "(0.4245952367782593, 0.39874354004859924, 0.4688272476196289)"
      ]
     },
     "execution_count": 25,
     "metadata": {},
     "output_type": "execute_result"
    }
   ],
   "source": [
    "import io\n",
    "from monai.transforms import AsDiscrete\n",
    "from monai.data import DataLoader, Dataset, decollate_batch\n",
    "ct_data='/home/nada.saadi/CTPET/hecktor2022_cropped/test_ct_only_mda.json'\n",
    "with open(ct_data, 'r') as f:\n",
    "    test_data = json.load(f)\n",
    "\n",
    "test_loader = DataLoader(\n",
    "    dataset=Dataset(data=test_data, transform=val_transforms),\n",
    "    batch_size=1,  # Batch size for testing can be 1 since no backpropagation is required\n",
    "    shuffle=False,\n",
    "    num_workers=4\n",
    ")\n",
    "\n",
    "loss_function = DiceCELoss(to_onehot_y=True, softmax=True)\n",
    "optimizer = torch.optim.AdamW(model.parameters(), lr=1e-4, weight_decay=1e-5)\n",
    "\n",
    "post_label = AsDiscrete(to_onehot=3)\n",
    "post_pred = AsDiscrete(argmax=True, to_onehot=3)\n",
    "\n",
    "# Dice metric for evaluation\n",
    "dice_metric_fn = DiceMetric(include_background=False, reduction=\"mean\", get_not_nans=False)\n",
    "dice_metric_batch_fn = DiceMetric(include_background=False, reduction=\"mean_batch\")\n",
    "\n",
    "#upper_bound='/home/nada.saadi/CTPET/hecktor2022_cropped/upperboundct/upperboundCT5centers.pth'\n",
    "lower_bound='/home/nada.saadi/CTPET/hecktor2022_cropped/4centers-ctonly/4centers-ctonly.pth'\n",
    "model.load_state_dict(torch.load(lower_bound))\n",
    "\n",
    "\n",
    "def testing():\n",
    "    model.eval()\n",
    "    dice_metric_fn.reset()\n",
    "    dice_metric_batch_fn.reset()\n",
    "    with torch.no_grad():\n",
    "        for batch_data in tqdm(test_loader):\n",
    "            test_inputs, test_labels = batch_data[\"ct\"].cuda(), batch_data[\"seg\"].cuda()\n",
    "            \n",
    "            test_outputs_ct = sliding_window_inference(test_inputs, (96, 96, 96), 4, model)\n",
    "            \n",
    "            # Convert outputs and labels to one-hot format for DiceMetric calculation\n",
    "            test_outputs_ct = [AsDiscrete(argmax=True, to_onehot=3)(i) for i in decollate_batch(test_outputs_ct)]\n",
    "            test_labels = [AsDiscrete(to_onehot=3)(i) for i in decollate_batch(test_labels)]\n",
    "\n",
    "            dice_metric_fn(y_pred=test_outputs_ct, y=test_labels)\n",
    "            dice_metric_batch_fn(y_pred=test_outputs_ct, y=test_labels)\n",
    "            \n",
    "        # After processing all batches, save the outputs\n",
    "    ct_save_path = '/home/nada.saadi/CTPET/hecktor2022_cropped/test_outputupperbound_ct_saved.pt'\n",
    "    torch.save(test_outputs_ct, ct_save_path)\n",
    "    print(f\"Outputs saved at: {ct_save_path}\")\n",
    "    \n",
    "\n",
    "    mean_dice_test = dice_metric_fn.aggregate().item()\n",
    "    metric_batch_test = dice_metric_batch_fn.aggregate()\n",
    "    metric_tumor = metric_batch_test[0].item()\n",
    "    metric_lymph = metric_batch_test[1].item()\n",
    "\n",
    "    print(f\"Testing - Avg Dice: {mean_dice_test:.4f}, Tumor Dice: {metric_tumor:.4f}, Lymph Dice: {metric_lymph:.4f}\")\n",
    "    return mean_dice_test, metric_tumor, metric_lymph\n",
    "    # Save the weights\n",
    "testing()"
   ]
  }
 ],
 "metadata": {
  "kernelspec": {
   "display_name": "clam",
   "language": "python",
   "name": "python3"
  },
  "language_info": {
   "codemirror_mode": {
    "name": "ipython",
    "version": 3
   },
   "file_extension": ".py",
   "mimetype": "text/x-python",
   "name": "python",
   "nbconvert_exporter": "python",
   "pygments_lexer": "ipython3",
   "version": "3.8.0"
  }
 },
 "nbformat": 4,
 "nbformat_minor": 2
}
