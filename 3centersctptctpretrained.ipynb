{
 "cells": [
  {
   "cell_type": "code",
   "execution_count": 1,
   "metadata": {},
   "outputs": [
    {
     "data": {
      "text/plain": [
       "1"
      ]
     },
     "execution_count": 1,
     "metadata": {},
     "output_type": "execute_result"
    }
   ],
   "source": [
    "import os\n",
    "os.environ[\"CUDA_DEVICE_ORDER\"] = \"PCI_BUS_ID\"\n",
    "os.environ[\"CUDA_VISIBLE_DEVICES\"] = \"2\" \n",
    "import torch\n",
    "torch.cuda.device_count()"
   ]
  },
  {
   "cell_type": "code",
   "execution_count": 2,
   "metadata": {},
   "outputs": [],
   "source": [
    "import os\n",
    "import shutil\n",
    "import tempfile\n",
    "\n",
    "import matplotlib.pyplot as plt\n",
    "import numpy as np\n",
    "from tqdm import tqdm\n",
    "from glob import glob\n",
    "# import wandb\n",
    "\n",
    "import monai\n",
    "from monai.losses import DiceCELoss, DiceFocalLoss, FocalLoss\n",
    "from monai.inferers import sliding_window_inference\n",
    "from monai import transforms\n",
    "\n",
    "from monai.transforms import (\n",
    "    AsDiscrete,\n",
    "    Compose,\n",
    "    CropForegroundd,\n",
    "    LoadImaged,\n",
    "    Orientationd,\n",
    "    RandFlipd,\n",
    "    RandCropByPosNegLabeld,\n",
    "    RandShiftIntensityd,\n",
    "    ScaleIntensityRanged,\n",
    "    Spacingd,\n",
    "    RandRotate90d,\n",
    "    MapTransform,\n",
    "    ScaleIntensityd,\n",
    "    #AddChanneld,\n",
    "    SpatialPadd,\n",
    "    CenterSpatialCropd,\n",
    "    EnsureChannelFirstd,\n",
    "    ConcatItemsd,\n",
    "    AdjustContrastd, \n",
    "    Rand3DElasticd,\n",
    "    HistogramNormalized,\n",
    "    NormalizeIntensityd,\n",
    "    Invertd,\n",
    "    SaveImage,\n",
    "\n",
    ")\n",
    "\n",
    "from monai.config import print_config\n",
    "from monai.metrics import DiceMetric\n",
    "from monai.networks.nets import SwinUNETR, UNETR, SegResNet\n",
    "\n",
    "from monai.data import (\n",
    "    DataLoader,\n",
    "    CacheDataset,\n",
    "    load_decathlon_datalist,\n",
    "    decollate_batch,\n",
    ")\n",
    "from monai import data\n",
    "\n",
    "\n",
    "from monai.utils import first, set_determinism\n",
    "from sklearn.model_selection import train_test_split\n",
    "import json\n",
    "\n",
    "\n",
    "import torch"
   ]
  },
  {
   "cell_type": "code",
   "execution_count": 3,
   "metadata": {},
   "outputs": [],
   "source": [
    "set_determinism(seed=1024)"
   ]
  },
  {
   "cell_type": "code",
   "execution_count": 4,
   "metadata": {},
   "outputs": [],
   "source": [
    "data_dir = '/home/nada.saadi/MIS-FM/hecktor2022_cropped'\n",
    "json_dir = '/home/nada.saadi/CTPET/hecktor2022_cropped/3centers-CTPT.json'"
   ]
  },
  {
   "cell_type": "code",
   "execution_count": 5,
   "metadata": {},
   "outputs": [],
   "source": [
    "def datafold_read(datalist, basedir, fold=0, key=\"training\"):\n",
    "    with open(datalist) as f:\n",
    "        json_data = json.load(f)\n",
    "\n",
    "    json_data = json_data[key]\n",
    "\n",
    "    for d in json_data:\n",
    "        for k in d:\n",
    "            if isinstance(d[k], list):\n",
    "                d[k] = [os.path.join(basedir, iv) for iv in d[k]]\n",
    "            elif isinstance(d[k], str):\n",
    "                d[k] = os.path.join(basedir, d[k]) if len(d[k]) > 0 else d[k]\n",
    "\n",
    "    tr = []\n",
    "    val = []\n",
    "    for d in json_data:\n",
    "        if \"fold\" in d and d[\"fold\"] == fold:\n",
    "            val.append(d)\n",
    "        else:\n",
    "            tr.append(d)\n",
    "\n",
    "    return tr, val"
   ]
  },
  {
   "cell_type": "code",
   "execution_count": 6,
   "metadata": {},
   "outputs": [
    {
     "data": {
      "text/plain": [
       "(216, 51)"
      ]
     },
     "execution_count": 6,
     "metadata": {},
     "output_type": "execute_result"
    }
   ],
   "source": [
    "train_files, validation_files = datafold_read(datalist=json_dir, basedir=data_dir, fold=0)\n",
    "len(train_files), len(validation_files)"
   ]
  },
  {
   "cell_type": "code",
   "execution_count": 7,
   "metadata": {},
   "outputs": [],
   "source": [
    "class ClipCT(MapTransform):\n",
    "    \"\"\"\n",
    "    Convert labels to multi channels based on hecktor classes:\n",
    "    label 1 is the tumor\n",
    "    label 2 is the lymph node\n",
    "\n",
    "    \"\"\"\n",
    "\n",
    "    def __call__(self, data):\n",
    "        d = dict(data)\n",
    "        for key in self.keys:\n",
    "            if key == \"ct\":\n",
    "                d[key] = torch.clip(d[key], min=-200, max=200)\n",
    "            # elif key == \"pt\":\n",
    "            #     d[key] = torch.clip(d[key], d[key].min(), 5)\n",
    "        return d\n",
    "\n",
    "class MulPTFM(MapTransform):\n",
    "    \"\"\"\n",
    "    Mult PT and FM \n",
    "\n",
    "    \"\"\"\n",
    "\n",
    "    def __call__(self, data):\n",
    "        d = dict(data)\n",
    "\n",
    "        fm = d[\"ct\"] > 0\n",
    "        d[\"pt\"] = d[\"pt\"] * fm\n",
    "        return d\n",
    "\n",
    "class SelectClass(MapTransform):\n",
    "    \"\"\"\n",
    "    Select the class for which you want to fine tune the model \n",
    "\n",
    "    \"\"\"\n",
    "    # def __init__(self, keys, cls=1):\n",
    "    #     super(self).__init__(keys)\n",
    "    #     self.cls = cls\n",
    "\n",
    "    def __call__(self, data):\n",
    "        d = dict(data)\n",
    "        d[\"seg\"][d[\"seg\"] == 1] = 0\n",
    "        # d[\"seg\"][d[\"seg\"] == 2] = 1\n",
    "        \n",
    "        return d"
   ]
  },
  {
   "cell_type": "code",
   "execution_count": 8,
   "metadata": {},
   "outputs": [],
   "source": [
    "num_samples = 4\n",
    "\n",
    "train_transforms = Compose(\n",
    "    [\n",
    "        LoadImaged(keys=[\"ct\", \"pt\", \"seg\"], ensure_channel_first = True),\n",
    "        SpatialPadd(keys=[\"ct\", \"pt\", \"seg\"], spatial_size=(200, 200, 310), method='end'),\n",
    "        Orientationd(keys=[\"ct\", \"pt\", \"seg\"], axcodes=\"PLS\"),\n",
    "        NormalizeIntensityd(keys=[\"pt\"]),\n",
    "        ClipCT(keys=[\"ct\"]),\n",
    "        ScaleIntensityd(keys=[\"ct\"], minv=0, maxv=1),\n",
    "        #MulPTFM(keys=[\"ct\",\"pt\"]),\n",
    "        ConcatItemsd(keys=[\"pt\", \"ct\"], name=\"ctpt\"),\n",
    "        #NormalizeIntensityd(keys=[\"ctpt\"], channel_wise=True),\n",
    "        RandCropByPosNegLabeld(\n",
    "            keys=[\"ctpt\", \"seg\"],\n",
    "            label_key=\"seg\",\n",
    "            spatial_size=(96, 96, 96),\n",
    "            pos=1,\n",
    "            neg=1,\n",
    "            num_samples=num_samples,\n",
    "            image_key=\"ctpt\",\n",
    "            image_threshold=0,\n",
    "        ),\n",
    "        RandFlipd(\n",
    "            keys=[\"ctpt\", \"seg\"],\n",
    "            spatial_axis=[0],\n",
    "            prob=0.20,\n",
    "        ),\n",
    "        RandFlipd(\n",
    "            keys=[\"ctpt\", \"seg\"],\n",
    "            spatial_axis=[1],\n",
    "            prob=0.20,\n",
    "        ),\n",
    "        RandFlipd(\n",
    "            keys=[\"ctpt\", \"seg\"],\n",
    "            spatial_axis=[2],\n",
    "            prob=0.20,\n",
    "        ),\n",
    "        RandRotate90d(\n",
    "            keys=[\"ctpt\", \"seg\"],\n",
    "            prob=0.20,\n",
    "            max_k=3,\n",
    "        ),\n",
    "    ]\n",
    ")\n",
    "val_transforms = Compose(\n",
    "    [\n",
    "        LoadImaged(keys=[\"ct\", \"pt\", \"seg\"], ensure_channel_first = True),\n",
    "        SpatialPadd(keys=[\"ct\", \"pt\", \"seg\"], spatial_size=(200, 200, 310), method='end'),\n",
    "        Orientationd(keys=[\"ct\", \"pt\", \"seg\"], axcodes=\"PLS\"),\n",
    "        NormalizeIntensityd(keys=[\"pt\"]),\n",
    "        ClipCT(keys=[\"ct\"]),\n",
    "        ScaleIntensityd(keys=[\"ct\"], minv=0, maxv=1),\n",
    "        #MulPTFM(keys=[\"ct\",\"pt\"]),\n",
    "        ConcatItemsd(keys=[\"pt\", \"ct\"], name=\"ctpt\"),\n",
    "    ]\n",
    ")"
   ]
  },
  {
   "cell_type": "code",
   "execution_count": 9,
   "metadata": {},
   "outputs": [],
   "source": [
    "train_ds = monai.data.Dataset(data=train_files, transform=train_transforms)\n",
    "\n",
    "train_loader = DataLoader(\n",
    "    train_ds,\n",
    "    batch_size=2,\n",
    "    shuffle=True,\n",
    "    num_workers=8,\n",
    "    pin_memory=torch.cuda.is_available(),\n",
    "    )\n",
    "\n",
    "val_ds = monai.data.Dataset(data=validation_files, transform=val_transforms)\n",
    "\n",
    "val_loader = DataLoader(\n",
    "    val_ds, \n",
    "    batch_size=2, \n",
    "    num_workers=8, \n",
    "    shuffle= False)"
   ]
  },
  {
   "cell_type": "code",
   "execution_count": 11,
   "metadata": {},
   "outputs": [],
   "source": [
    "os.environ[\"CUDA_DEVICE_ORDER\"] = \"PCI_BUS_ID\"\n",
    "device = torch.device(\"cuda\" if torch.cuda.is_available() else \"cpu\")"
   ]
  },
  {
   "cell_type": "code",
   "execution_count": null,
   "metadata": {},
   "outputs": [],
   "source": []
  },
  {
   "cell_type": "code",
   "execution_count": 12,
   "metadata": {},
   "outputs": [],
   "source": [
    "# Load the pretrained weights\n",
    "pretrained_weights = torch.load('/home/nada.saadi/CTPET/hecktor2022_cropped/4centers-ctonly/4centers-ctonly.pth')\n",
    "\n",
    "# Instantiate the new model with 2 input channels\n",
    "new_model = UNETR(\n",
    "    in_channels=2, \n",
    "    out_channels=3,\n",
    "    img_size=(96, 96, 96),\n",
    "    feature_size=16,\n",
    "    hidden_size=768,\n",
    "    mlp_dim=3072,\n",
    "    num_heads=12,\n",
    "    pos_embed=\"perceptron\",\n",
    "    norm_name=\"instance\",\n",
    "    res_block=True,\n",
    "    dropout_rate=0.0,\n",
    ").to(device)\n",
    "\n",
    "# Manually load the weights for each layer except where mismatch occurs\n",
    "for name, param in new_model.named_parameters():\n",
    "    if \"patch_embedding.patch_embeddings.1.weight\" in name or \\\n",
    "       \"encoder1.layer.conv1.conv.weight\" in name or \\\n",
    "       \"encoder1.layer.conv3.conv.weight\" in name:\n",
    "        # Skip these layers as they have a size mismatch\n",
    "        continue\n",
    "    if name in pretrained_weights:\n",
    "        # Load weights for other layers\n",
    "        param.data.copy_(pretrained_weights[name])\n",
    "\n",
    "# The model is now partially initialized with pretrained weights\n",
    "# and can be further trained or used for inference\n"
   ]
  },
  {
   "cell_type": "code",
   "execution_count": 13,
   "metadata": {},
   "outputs": [],
   "source": [
    "torch.backends.cudnn.benchmark = True\n",
    "def poly_lr(epoch, max_epochs, initial_lr, exponent=0.9):\n",
    "    return initial_lr * (1 - epoch / max_epochs)**exponent\n",
    "\n",
    "loss_function = DiceCELoss(to_onehot_y=True, softmax=True)\n",
    "optimizer = torch.optim.AdamW(new_model.parameters(), lr=1e-4, weight_decay=1e-5)"
   ]
  },
  {
   "cell_type": "code",
   "execution_count": 14,
   "metadata": {},
   "outputs": [
    {
     "name": "stderr",
     "output_type": "stream",
     "text": [
      "Validate (0 / 10 Steps): 100%|██████████| 26/26 [01:46<00:00,  4.10s/it]3:00<00:10,  1.35s/it]\n",
      "Training (100 / 18000 Steps) (loss=0.62084):  94%|█████████▎| 101/108 [04:48<03:55, 33.68s/it]"
     ]
    },
    {
     "name": "stdout",
     "output_type": "stream",
     "text": [
      "Model Was Saved ! Current Best Avg. Dice: 0.41865816712379456 Current Avg. Dice: 0.41865816712379456 Current Avg. tumor Dice: 0.48115381598472595 Current Avg. lymph Dice: 0.3514740765094757\n"
     ]
    },
    {
     "name": "stderr",
     "output_type": "stream",
     "text": [
      "Training (107 / 18000 Steps) (loss=0.53374): 100%|██████████| 108/108 [04:58<00:00,  2.76s/it]\n",
      "Validate (108 / 10 Steps): 100%|██████████| 26/26 [01:40<00:00,  3.88s/it]9<00:21,  1.32s/it]\n",
      "Training (200 / 18000 Steps) (loss=0.53568):  86%|████████▌ | 93/108 [03:51<07:57, 31.83s/it]"
     ]
    },
    {
     "name": "stdout",
     "output_type": "stream",
     "text": [
      "Model Was Saved ! Current Best Avg. Dice: 0.49088943004608154 Current Avg. Dice: 0.49088943004608154 Current Avg. tumor Dice: 0.5742501020431519 Current Avg. lymph Dice: 0.3990519344806671\n"
     ]
    },
    {
     "name": "stderr",
     "output_type": "stream",
     "text": [
      "Training (215 / 18000 Steps) (loss=0.62898): 100%|██████████| 108/108 [04:11<00:00,  2.33s/it]\n",
      "Validate (216 / 10 Steps): 100%|██████████| 26/26 [01:40<00:00,  3.86s/it]9<00:31,  1.33s/it]\n",
      "Training (300 / 18000 Steps) (loss=0.37030):  79%|███████▊  | 85/108 [03:40<12:08, 31.65s/it]"
     ]
    },
    {
     "name": "stdout",
     "output_type": "stream",
     "text": [
      "Model Was Saved ! Current Best Avg. Dice: 0.5234948992729187 Current Avg. Dice: 0.5234948992729187 Current Avg. tumor Dice: 0.5894343256950378 Current Avg. lymph Dice: 0.4548571705818176\n"
     ]
    },
    {
     "name": "stderr",
     "output_type": "stream",
     "text": [
      "Training (323 / 18000 Steps) (loss=0.58116): 100%|██████████| 108/108 [04:10<00:00,  2.32s/it]\n",
      "Validate (324 / 10 Steps): 100%|██████████| 26/26 [01:39<00:00,  3.81s/it]9<00:40,  1.28s/it]\n",
      "Training (400 / 18000 Steps) (loss=0.32691):  71%|███████▏  | 77/108 [03:28<16:01, 31.02s/it]"
     ]
    },
    {
     "name": "stdout",
     "output_type": "stream",
     "text": [
      "Model Was Not Saved ! Current Best Avg. Dice: 0.5234948992729187 Current Avg. Dice: 0.5088791251182556 Current Avg. tumor Dice: 0.5897578001022339 Current Avg. lymph Dice: 0.41609466075897217\n"
     ]
    },
    {
     "name": "stderr",
     "output_type": "stream",
     "text": [
      "Training (431 / 18000 Steps) (loss=0.44632): 100%|██████████| 108/108 [04:09<00:00,  2.31s/it]\n",
      "Validate (432 / 10 Steps): 100%|██████████| 26/26 [01:39<00:00,  3.83s/it]1<00:52,  1.32s/it]\n",
      "Training (500 / 18000 Steps) (loss=0.52340):  64%|██████▍   | 69/108 [03:20<20:16, 31.20s/it]"
     ]
    },
    {
     "name": "stdout",
     "output_type": "stream",
     "text": [
      "Model Was Not Saved ! Current Best Avg. Dice: 0.5234948992729187 Current Avg. Dice: 0.5115605592727661 Current Avg. tumor Dice: 0.6240023970603943 Current Avg. lymph Dice: 0.38283050060272217\n"
     ]
    },
    {
     "name": "stderr",
     "output_type": "stream",
     "text": [
      "Training (539 / 18000 Steps) (loss=0.49526): 100%|██████████| 108/108 [04:12<00:00,  2.33s/it]\n",
      "Validate (540 / 10 Steps): 100%|██████████| 26/26 [01:39<00:00,  3.83s/it]5<01:02,  1.30s/it]\n",
      "Training (600 / 18000 Steps) (loss=0.50366):  56%|█████▋    | 61/108 [03:05<24:26, 31.21s/it]"
     ]
    },
    {
     "name": "stdout",
     "output_type": "stream",
     "text": [
      "Model Was Not Saved ! Current Best Avg. Dice: 0.5234948992729187 Current Avg. Dice: 0.46364083886146545 Current Avg. tumor Dice: 0.5450568199157715 Current Avg. lymph Dice: 0.3747529685497284\n"
     ]
    },
    {
     "name": "stderr",
     "output_type": "stream",
     "text": [
      "Training (647 / 18000 Steps) (loss=0.34011): 100%|██████████| 108/108 [04:07<00:00,  2.29s/it]\n",
      "Validate (648 / 10 Steps): 100%|██████████| 26/26 [01:39<00:00,  3.83s/it]6<01:13,  1.31s/it]\n",
      "Training (700 / 18000 Steps) (loss=0.61623):  49%|████▉     | 53/108 [02:57<28:51, 31.48s/it]"
     ]
    },
    {
     "name": "stdout",
     "output_type": "stream",
     "text": [
      "Model Was Saved ! Current Best Avg. Dice: 0.5332865715026855 Current Avg. Dice: 0.5332865715026855 Current Avg. tumor Dice: 0.5964974164962769 Current Avg. lymph Dice: 0.47008904814720154\n"
     ]
    },
    {
     "name": "stderr",
     "output_type": "stream",
     "text": [
      "Training (755 / 18000 Steps) (loss=0.59228): 100%|██████████| 108/108 [04:10<00:00,  2.32s/it]\n",
      "Validate (756 / 10 Steps): 100%|██████████| 26/26 [01:39<00:00,  3.84s/it]7<01:25,  1.33s/it]\n",
      "Training (800 / 18000 Steps) (loss=0.54386):  42%|████▏     | 45/108 [02:48<33:05, 31.51s/it]"
     ]
    },
    {
     "name": "stdout",
     "output_type": "stream",
     "text": [
      "Model Was Saved ! Current Best Avg. Dice: 0.5527583956718445 Current Avg. Dice: 0.5527583956718445 Current Avg. tumor Dice: 0.6244357824325562 Current Avg. lymph Dice: 0.4747626781463623\n"
     ]
    },
    {
     "name": "stderr",
     "output_type": "stream",
     "text": [
      "Training (863 / 18000 Steps) (loss=0.59213): 100%|██████████| 108/108 [04:11<00:00,  2.33s/it]\n",
      "Validate (864 / 10 Steps): 100%|██████████| 26/26 [01:40<00:00,  3.86s/it]6<01:33,  1.30s/it]\n",
      "Training (900 / 18000 Steps) (loss=0.33033):  34%|███▍      | 37/108 [02:37<37:25, 31.63s/it]"
     ]
    },
    {
     "name": "stdout",
     "output_type": "stream",
     "text": [
      "Model Was Saved ! Current Best Avg. Dice: 0.5549556612968445 Current Avg. Dice: 0.5549556612968445 Current Avg. tumor Dice: 0.6292663216590881 Current Avg. lymph Dice: 0.4771965742111206\n"
     ]
    },
    {
     "name": "stderr",
     "output_type": "stream",
     "text": [
      "Training (971 / 18000 Steps) (loss=0.44177): 100%|██████████| 108/108 [04:13<00:00,  2.34s/it]\n",
      "Validate (972 / 10 Steps): 100%|██████████| 26/26 [01:40<00:00,  3.88s/it]47<01:47,  1.35s/it]\n",
      "Training (1000 / 18000 Steps) (loss=0.47746):  27%|██▋       | 29/108 [02:28<41:39, 31.65s/it]"
     ]
    },
    {
     "name": "stdout",
     "output_type": "stream",
     "text": [
      "Model Was Not Saved ! Current Best Avg. Dice: 0.5549556612968445 Current Avg. Dice: 0.5421653985977173 Current Avg. tumor Dice: 0.6176567077636719 Current Avg. lymph Dice: 0.4573112428188324\n"
     ]
    },
    {
     "name": "stderr",
     "output_type": "stream",
     "text": [
      "Training (1079 / 18000 Steps) (loss=0.48835): 100%|██████████| 108/108 [04:14<00:00,  2.36s/it]\n",
      "Validate (1080 / 10 Steps): 100%|██████████| 26/26 [01:40<00:00,  3.88s/it]4<01:58,  1.35s/it]\n",
      "Training (1100 / 18000 Steps) (loss=0.49014):  19%|█▉        | 21/108 [02:15<45:53, 31.65s/it]"
     ]
    },
    {
     "name": "stdout",
     "output_type": "stream",
     "text": [
      "Model Was Not Saved ! Current Best Avg. Dice: 0.5549556612968445 Current Avg. Dice: 0.5528180003166199 Current Avg. tumor Dice: 0.6157614588737488 Current Avg. lymph Dice: 0.48477235436439514\n"
     ]
    },
    {
     "name": "stderr",
     "output_type": "stream",
     "text": [
      "Training (1187 / 18000 Steps) (loss=0.42856): 100%|██████████| 108/108 [04:13<00:00,  2.34s/it]\n",
      "Validate (1188 / 10 Steps): 100%|██████████| 26/26 [01:42<00:00,  3.92s/it]7<02:15,  1.41s/it]\n",
      "Training (1200 / 18000 Steps) (loss=0.44441):  12%|█▏        | 13/108 [02:09<51:31, 32.54s/it]"
     ]
    },
    {
     "name": "stdout",
     "output_type": "stream",
     "text": [
      "Model Was Saved ! Current Best Avg. Dice: 0.5638218522071838 Current Avg. Dice: 0.5638218522071838 Current Avg. tumor Dice: 0.6199973821640015 Current Avg. lymph Dice: 0.503227174282074\n"
     ]
    },
    {
     "name": "stderr",
     "output_type": "stream",
     "text": [
      "Training (1295 / 18000 Steps) (loss=0.47714): 100%|██████████| 108/108 [04:18<00:00,  2.39s/it]\n",
      "Validate (1296 / 10 Steps): 100%|██████████| 26/26 [01:41<00:00,  3.89s/it]<04:31,  2.61s/it]\n",
      "Training (1300 / 18000 Steps) (loss=0.58428):   5%|▍         | 5/108 [01:57<1:06:23, 38.67s/it]"
     ]
    },
    {
     "name": "stdout",
     "output_type": "stream",
     "text": [
      "Model Was Not Saved ! Current Best Avg. Dice: 0.5638218522071838 Current Avg. Dice: 0.5606247186660767 Current Avg. tumor Dice: 0.6297797560691833 Current Avg. lymph Dice: 0.48655182123184204\n"
     ]
    },
    {
     "name": "stderr",
     "output_type": "stream",
     "text": [
      "Validate (1296 / 10 Steps): 100%|██████████| 26/26 [01:40<00:00,  3.88s/it]12<00:05,  1.32s/it]\n",
      "Training (1400 / 18000 Steps) (loss=0.47176):  97%|█████████▋| 105/108 [05:52<01:34, 31.60s/it]"
     ]
    },
    {
     "name": "stdout",
     "output_type": "stream",
     "text": [
      "Model Was Not Saved ! Current Best Avg. Dice: 0.5638218522071838 Current Avg. Dice: 0.5494340658187866 Current Avg. tumor Dice: 0.6150341629981995 Current Avg. lymph Dice: 0.48110097646713257\n"
     ]
    },
    {
     "name": "stderr",
     "output_type": "stream",
     "text": [
      "Training (1403 / 18000 Steps) (loss=0.49779): 100%|██████████| 108/108 [05:57<00:00,  3.31s/it]\n",
      "Validate (1404 / 10 Steps): 100%|██████████| 26/26 [01:41<00:00,  3.91s/it]8<00:16,  1.35s/it]\n",
      "Training (1500 / 18000 Steps) (loss=0.52623):  90%|████████▉ | 97/108 [03:59<05:50, 31.85s/it]"
     ]
    },
    {
     "name": "stdout",
     "output_type": "stream",
     "text": [
      "Model Was Not Saved ! Current Best Avg. Dice: 0.5638218522071838 Current Avg. Dice: 0.5430271625518799 Current Avg. tumor Dice: 0.6041962504386902 Current Avg. lymph Dice: 0.48013126850128174\n"
     ]
    },
    {
     "name": "stderr",
     "output_type": "stream",
     "text": [
      "Training (1511 / 18000 Steps) (loss=0.44600): 100%|██████████| 108/108 [04:14<00:00,  2.36s/it]\n",
      "Validate (1512 / 10 Steps): 100%|██████████| 26/26 [01:41<00:00,  3.91s/it]9<00:27,  1.35s/it]\n",
      "Training (1600 / 18000 Steps) (loss=0.51465):  82%|████████▏ | 89/108 [03:50<10:05, 31.86s/it]"
     ]
    },
    {
     "name": "stdout",
     "output_type": "stream",
     "text": [
      "Model Was Not Saved ! Current Best Avg. Dice: 0.5638218522071838 Current Avg. Dice: 0.5317156314849854 Current Avg. tumor Dice: 0.5939407348632812 Current Avg. lymph Dice: 0.46410733461380005\n"
     ]
    },
    {
     "name": "stderr",
     "output_type": "stream",
     "text": [
      "Training (1619 / 18000 Steps) (loss=0.46836): 100%|██████████| 108/108 [04:16<00:00,  2.37s/it]\n",
      "Validate (1620 / 10 Steps): 100%|██████████| 26/26 [01:41<00:00,  3.91s/it]6<00:37,  1.35s/it]\n",
      "Training (1700 / 18000 Steps) (loss=0.25943):  75%|███████▌  | 81/108 [03:38<14:26, 32.10s/it]"
     ]
    },
    {
     "name": "stdout",
     "output_type": "stream",
     "text": [
      "Model Was Saved ! Current Best Avg. Dice: 0.5820028781890869 Current Avg. Dice: 0.5820028781890869 Current Avg. tumor Dice: 0.6583107113838196 Current Avg. lymph Dice: 0.49940016865730286\n"
     ]
    },
    {
     "name": "stderr",
     "output_type": "stream",
     "text": [
      "Training (1727 / 18000 Steps) (loss=0.39848): 100%|██████████| 108/108 [04:15<00:00,  2.36s/it]\n",
      "Validate (1728 / 10 Steps): 100%|██████████| 26/26 [01:41<00:00,  3.91s/it]4<00:48,  1.35s/it]\n",
      "Training (1800 / 18000 Steps) (loss=0.36795):  68%|██████▊   | 73/108 [03:26<18:36, 31.89s/it]"
     ]
    },
    {
     "name": "stdout",
     "output_type": "stream",
     "text": [
      "Model Was Not Saved ! Current Best Avg. Dice: 0.5820028781890869 Current Avg. Dice: 0.561059296131134 Current Avg. tumor Dice: 0.6278765797615051 Current Avg. lymph Dice: 0.4881017804145813\n"
     ]
    },
    {
     "name": "stderr",
     "output_type": "stream",
     "text": [
      "Training (1835 / 18000 Steps) (loss=0.55623): 100%|██████████| 108/108 [04:13<00:00,  2.35s/it]\n",
      "Validate (1836 / 10 Steps): 100%|██████████| 26/26 [01:41<00:00,  3.90s/it]4<00:59,  1.34s/it]\n",
      "Training (1900 / 18000 Steps) (loss=0.34104):  60%|██████    | 65/108 [03:15<22:46, 31.78s/it]"
     ]
    },
    {
     "name": "stdout",
     "output_type": "stream",
     "text": [
      "Model Was Not Saved ! Current Best Avg. Dice: 0.5820028781890869 Current Avg. Dice: 0.5778724551200867 Current Avg. tumor Dice: 0.6549298167228699 Current Avg. lymph Dice: 0.4962824881076813\n"
     ]
    },
    {
     "name": "stderr",
     "output_type": "stream",
     "text": [
      "Training (1943 / 18000 Steps) (loss=0.49795): 100%|██████████| 108/108 [04:13<00:00,  2.35s/it]\n",
      "Validate (1944 / 10 Steps): 100%|██████████| 26/26 [01:41<00:00,  3.89s/it]3<01:10,  1.35s/it]\n",
      "Training (2000 / 18000 Steps) (loss=0.47027):  53%|█████▎    | 57/108 [03:04<26:58, 31.74s/it]"
     ]
    },
    {
     "name": "stdout",
     "output_type": "stream",
     "text": [
      "Model Was Not Saved ! Current Best Avg. Dice: 0.5820028781890869 Current Avg. Dice: 0.5693319439888 Current Avg. tumor Dice: 0.6398555040359497 Current Avg. lymph Dice: 0.4943670928478241\n"
     ]
    },
    {
     "name": "stderr",
     "output_type": "stream",
     "text": [
      "Training (2051 / 18000 Steps) (loss=0.59085): 100%|██████████| 108/108 [04:13<00:00,  2.35s/it]\n",
      "Validate (2052 / 10 Steps): 100%|██████████| 26/26 [01:41<00:00,  3.89s/it]3<01:20,  1.35s/it]\n",
      "Training (2100 / 18000 Steps) (loss=0.36789):  45%|████▌     | 49/108 [02:54<31:10, 31.71s/it]"
     ]
    },
    {
     "name": "stdout",
     "output_type": "stream",
     "text": [
      "Model Was Not Saved ! Current Best Avg. Dice: 0.5820028781890869 Current Avg. Dice: 0.5701653957366943 Current Avg. tumor Dice: 0.6474956274032593 Current Avg. lymph Dice: 0.4900055229663849\n"
     ]
    },
    {
     "name": "stderr",
     "output_type": "stream",
     "text": [
      "Training (2159 / 18000 Steps) (loss=0.45153): 100%|██████████| 108/108 [04:14<00:00,  2.35s/it]\n",
      "Validate (2160 / 10 Steps): 100%|██████████| 26/26 [01:40<00:00,  3.87s/it]2<01:31,  1.34s/it]\n",
      "Training (2200 / 18000 Steps) (loss=0.40998):  38%|███▊      | 41/108 [02:43<35:29, 31.78s/it]"
     ]
    },
    {
     "name": "stdout",
     "output_type": "stream",
     "text": [
      "Model Was Saved ! Current Best Avg. Dice: 0.5833735466003418 Current Avg. Dice: 0.5833735466003418 Current Avg. tumor Dice: 0.6586726903915405 Current Avg. lymph Dice: 0.5029888153076172\n"
     ]
    },
    {
     "name": "stderr",
     "output_type": "stream",
     "text": [
      "Training (2267 / 18000 Steps) (loss=0.57297): 100%|██████████| 108/108 [04:14<00:00,  2.35s/it]\n",
      "Validate (2268 / 10 Steps): 100%|██████████| 26/26 [01:41<00:00,  3.89s/it]2<01:42,  1.35s/it]\n",
      "Training (2300 / 18000 Steps) (loss=0.42284):  31%|███       | 33/108 [02:34<39:35, 31.67s/it]"
     ]
    },
    {
     "name": "stdout",
     "output_type": "stream",
     "text": [
      "Model Was Not Saved ! Current Best Avg. Dice: 0.5833735466003418 Current Avg. Dice: 0.578073263168335 Current Avg. tumor Dice: 0.6501139998435974 Current Avg. lymph Dice: 0.5028128027915955\n"
     ]
    },
    {
     "name": "stderr",
     "output_type": "stream",
     "text": [
      "Training (2375 / 18000 Steps) (loss=0.42289): 100%|██████████| 108/108 [04:15<00:00,  2.36s/it]\n",
      "Validate (2376 / 10 Steps): 100%|██████████| 26/26 [01:41<00:00,  3.89s/it]2<01:53,  1.35s/it]\n",
      "Training (2400 / 18000 Steps) (loss=0.53547):  23%|██▎       | 25/108 [02:23<43:54, 31.74s/it]"
     ]
    },
    {
     "name": "stdout",
     "output_type": "stream",
     "text": [
      "Model Was Not Saved ! Current Best Avg. Dice: 0.5833735466003418 Current Avg. Dice: 0.565574049949646 Current Avg. tumor Dice: 0.6473037600517273 Current Avg. lymph Dice: 0.4763281047344208\n"
     ]
    },
    {
     "name": "stderr",
     "output_type": "stream",
     "text": [
      "Training (2483 / 18000 Steps) (loss=0.46258): 100%|██████████| 108/108 [04:15<00:00,  2.36s/it]\n",
      "Validate (2484 / 10 Steps): 100%|██████████| 26/26 [01:40<00:00,  3.87s/it]0<02:04,  1.36s/it]\n",
      "Training (2500 / 18000 Steps) (loss=0.45264):  16%|█▌        | 17/108 [02:12<48:20, 31.87s/it]"
     ]
    },
    {
     "name": "stdout",
     "output_type": "stream",
     "text": [
      "Model Was Saved ! Current Best Avg. Dice: 0.5874055624008179 Current Avg. Dice: 0.5874055624008179 Current Avg. tumor Dice: 0.6613436937332153 Current Avg. lymph Dice: 0.505771815776825\n"
     ]
    },
    {
     "name": "stderr",
     "output_type": "stream",
     "text": [
      "Training (2591 / 18000 Steps) (loss=0.36439): 100%|██████████| 108/108 [04:06<00:00,  2.28s/it]\n",
      "Validate (2592 / 10 Steps): 100%|██████████| 26/26 [01:31<00:00,  3.51s/it]<02:25,  1.45s/it]\n",
      "Training (2600 / 18000 Steps) (loss=0.42698):   8%|▊         | 9/108 [01:50<49:19, 29.89s/it]"
     ]
    },
    {
     "name": "stdout",
     "output_type": "stream",
     "text": [
      "Model Was Not Saved ! Current Best Avg. Dice: 0.5874055624008179 Current Avg. Dice: 0.5753050446510315 Current Avg. tumor Dice: 0.6325472593307495 Current Avg. lymph Dice: 0.515224277973175\n"
     ]
    },
    {
     "name": "stderr",
     "output_type": "stream",
     "text": [
      "Training (2699 / 18000 Steps) (loss=0.39134): 100%|██████████| 108/108 [03:53<00:00,  2.16s/it]\n",
      "Validate (2700 / 10 Steps): 100%|██████████| 26/26 [01:34<00:00,  3.62s/it]<?, ?it/s]\n",
      "Training (2700 / 18000 Steps) (loss=0.53340):   1%|          | 1/108 [01:41<3:00:47, 101.38s/it]"
     ]
    },
    {
     "name": "stdout",
     "output_type": "stream",
     "text": [
      "Model Was Saved ! Current Best Avg. Dice: 0.5954434275627136 Current Avg. Dice: 0.5954434275627136 Current Avg. tumor Dice: 0.6695359349250793 Current Avg. lymph Dice: 0.5168569087982178\n"
     ]
    },
    {
     "name": "stderr",
     "output_type": "stream",
     "text": [
      "Validate (2700 / 10 Steps): 100%|██████████| 26/26 [01:33<00:00,  3.60s/it]45<00:09,  1.24s/it] \n",
      "Training (2800 / 18000 Steps) (loss=0.19477):  94%|█████████▎| 101/108 [05:19<03:25, 29.33s/it]"
     ]
    },
    {
     "name": "stdout",
     "output_type": "stream",
     "text": [
      "Model Was Not Saved ! Current Best Avg. Dice: 0.5954434275627136 Current Avg. Dice: 0.5831145644187927 Current Avg. tumor Dice: 0.6586273908615112 Current Avg. lymph Dice: 0.5034165978431702\n"
     ]
    },
    {
     "name": "stderr",
     "output_type": "stream",
     "text": [
      "Training (2807 / 18000 Steps) (loss=0.47913): 100%|██████████| 108/108 [05:28<00:00,  3.04s/it]\n",
      "Validate (2808 / 10 Steps): 100%|██████████| 26/26 [01:33<00:00,  3.59s/it]2<00:19,  1.22s/it]\n",
      "Training (2900 / 18000 Steps) (loss=0.41123):  86%|████████▌ | 93/108 [03:36<07:21, 29.46s/it]"
     ]
    },
    {
     "name": "stdout",
     "output_type": "stream",
     "text": [
      "Model Was Saved ! Current Best Avg. Dice: 0.6033996939659119 Current Avg. Dice: 0.6033996939659119 Current Avg. tumor Dice: 0.6736660599708557 Current Avg. lymph Dice: 0.5311051607131958\n"
     ]
    },
    {
     "name": "stderr",
     "output_type": "stream",
     "text": [
      "Training (2915 / 18000 Steps) (loss=0.43579): 100%|██████████| 108/108 [03:54<00:00,  2.17s/it]\n",
      "Validate (2916 / 10 Steps): 100%|██████████| 26/26 [01:33<00:00,  3.59s/it]2<00:29,  1.22s/it]\n",
      "Training (3000 / 18000 Steps) (loss=0.42940):  79%|███████▊  | 85/108 [03:25<11:12, 29.23s/it]"
     ]
    },
    {
     "name": "stdout",
     "output_type": "stream",
     "text": [
      "Model Was Not Saved ! Current Best Avg. Dice: 0.6033996939659119 Current Avg. Dice: 0.5381503105163574 Current Avg. tumor Dice: 0.5661700963973999 Current Avg. lymph Dice: 0.5067898035049438\n"
     ]
    },
    {
     "name": "stderr",
     "output_type": "stream",
     "text": [
      "Training (3023 / 18000 Steps) (loss=0.35516): 100%|██████████| 108/108 [03:54<00:00,  2.17s/it]\n",
      "Validate (3024 / 10 Steps): 100%|██████████| 26/26 [01:32<00:00,  3.55s/it]2<00:38,  1.21s/it]\n",
      "Training (3100 / 18000 Steps) (loss=0.37960):  71%|███████▏  | 77/108 [03:14<14:57, 28.95s/it]"
     ]
    },
    {
     "name": "stdout",
     "output_type": "stream",
     "text": [
      "Model Was Not Saved ! Current Best Avg. Dice: 0.6033996939659119 Current Avg. Dice: 0.5894781351089478 Current Avg. tumor Dice: 0.6665431261062622 Current Avg. lymph Dice: 0.5066303014755249\n"
     ]
    },
    {
     "name": "stderr",
     "output_type": "stream",
     "text": [
      "Training (3131 / 18000 Steps) (loss=0.57757): 100%|██████████| 108/108 [03:52<00:00,  2.15s/it]\n",
      "Validate (3132 / 10 Steps): 100%|██████████| 26/26 [01:34<00:00,  3.64s/it]2<00:49,  1.23s/it]\n",
      "Training (3200 / 18000 Steps) (loss=0.50154):  64%|██████▍   | 69/108 [03:07<19:16, 29.65s/it]"
     ]
    },
    {
     "name": "stdout",
     "output_type": "stream",
     "text": [
      "Model Was Not Saved ! Current Best Avg. Dice: 0.6033996939659119 Current Avg. Dice: 0.5905382037162781 Current Avg. tumor Dice: 0.6578313708305359 Current Avg. lymph Dice: 0.5217971801757812\n"
     ]
    },
    {
     "name": "stderr",
     "output_type": "stream",
     "text": [
      "Training (3239 / 18000 Steps) (loss=0.33764): 100%|██████████| 108/108 [03:54<00:00,  2.18s/it]\n",
      "Validate (3240 / 10 Steps): 100%|██████████| 26/26 [01:34<00:00,  3.62s/it]3<00:59,  1.24s/it]\n",
      "Training (3300 / 18000 Steps) (loss=0.63112):  56%|█████▋    | 61/108 [02:57<23:07, 29.52s/it]"
     ]
    },
    {
     "name": "stdout",
     "output_type": "stream",
     "text": [
      "Model Was Not Saved ! Current Best Avg. Dice: 0.6033996939659119 Current Avg. Dice: 0.5638620853424072 Current Avg. tumor Dice: 0.6146252155303955 Current Avg. lymph Dice: 0.5110604166984558\n"
     ]
    },
    {
     "name": "stderr",
     "output_type": "stream",
     "text": [
      "Training (3347 / 18000 Steps) (loss=0.34347): 100%|██████████| 108/108 [03:54<00:00,  2.17s/it]\n",
      "Validate (3348 / 10 Steps): 100%|██████████| 26/26 [01:33<00:00,  3.60s/it]1<01:08,  1.23s/it]\n",
      "Training (3400 / 18000 Steps) (loss=0.43155):  49%|████▉     | 53/108 [02:45<26:52, 29.31s/it]"
     ]
    },
    {
     "name": "stdout",
     "output_type": "stream",
     "text": [
      "Model Was Not Saved ! Current Best Avg. Dice: 0.6033996939659119 Current Avg. Dice: 0.592138409614563 Current Avg. tumor Dice: 0.6677607893943787 Current Avg. lymph Dice: 0.5100939273834229\n"
     ]
    },
    {
     "name": "stderr",
     "output_type": "stream",
     "text": [
      "Training (3455 / 18000 Steps) (loss=0.38973): 100%|██████████| 108/108 [03:51<00:00,  2.15s/it]\n",
      "Validate (3456 / 10 Steps): 100%|██████████| 26/26 [01:32<00:00,  3.56s/it]3<01:17,  1.21s/it]\n",
      "Training (3500 / 18000 Steps) (loss=0.35178):  42%|████▏     | 45/108 [02:36<30:24, 28.96s/it]"
     ]
    },
    {
     "name": "stdout",
     "output_type": "stream",
     "text": [
      "Model Was Not Saved ! Current Best Avg. Dice: 0.6033996939659119 Current Avg. Dice: 0.5827152132987976 Current Avg. tumor Dice: 0.6587972640991211 Current Avg. lymph Dice: 0.4995243549346924\n"
     ]
    },
    {
     "name": "stderr",
     "output_type": "stream",
     "text": [
      "Training (3563 / 18000 Steps) (loss=0.52324): 100%|██████████| 108/108 [03:53<00:00,  2.16s/it]\n",
      "Validate (3564 / 10 Steps): 100%|██████████| 26/26 [01:34<00:00,  3.62s/it]4<01:27,  1.22s/it]\n",
      "Training (3600 / 18000 Steps) (loss=0.23426):  34%|███▍      | 37/108 [02:28<34:50, 29.44s/it]"
     ]
    },
    {
     "name": "stdout",
     "output_type": "stream",
     "text": [
      "Model Was Not Saved ! Current Best Avg. Dice: 0.6033996939659119 Current Avg. Dice: 0.5782273411750793 Current Avg. tumor Dice: 0.6603347063064575 Current Avg. lymph Dice: 0.48491913080215454\n"
     ]
    },
    {
     "name": "stderr",
     "output_type": "stream",
     "text": [
      "Training (3671 / 18000 Steps) (loss=0.59320): 100%|██████████| 108/108 [03:55<00:00,  2.18s/it]\n",
      "Validate (3672 / 10 Steps): 100%|██████████| 26/26 [01:41<00:00,  3.92s/it]4<01:44,  1.31s/it]\n",
      "Training (3700 / 18000 Steps) (loss=0.37945):  27%|██▋       | 29/108 [02:26<42:01, 31.92s/it]"
     ]
    },
    {
     "name": "stdout",
     "output_type": "stream",
     "text": [
      "Model Was Not Saved ! Current Best Avg. Dice: 0.6033996939659119 Current Avg. Dice: 0.5853523015975952 Current Avg. tumor Dice: 0.6647432446479797 Current Avg. lymph Dice: 0.5009117722511292\n"
     ]
    },
    {
     "name": "stderr",
     "output_type": "stream",
     "text": [
      "Training (3779 / 18000 Steps) (loss=0.49131): 100%|██████████| 108/108 [04:11<00:00,  2.33s/it]\n",
      "Validate (3780 / 10 Steps): 100%|██████████| 26/26 [01:43<00:00,  3.98s/it]8<01:59,  1.36s/it]\n",
      "Training (3800 / 18000 Steps) (loss=0.49575):  19%|█▉        | 21/108 [02:22<47:05, 32.48s/it]"
     ]
    },
    {
     "name": "stdout",
     "output_type": "stream",
     "text": [
      "Model Was Not Saved ! Current Best Avg. Dice: 0.6033996939659119 Current Avg. Dice: 0.5357078313827515 Current Avg. tumor Dice: 0.5892271399497986 Current Avg. lymph Dice: 0.47656047344207764\n"
     ]
    },
    {
     "name": "stderr",
     "output_type": "stream",
     "text": [
      "Training (3887 / 18000 Steps) (loss=0.46807): 100%|██████████| 108/108 [04:20<00:00,  2.41s/it]\n",
      "Validate (3888 / 10 Steps): 100%|██████████| 26/26 [01:42<00:00,  3.95s/it]5<02:15,  1.41s/it]\n",
      "Training (3900 / 18000 Steps) (loss=0.51851):  12%|█▏        | 13/108 [02:08<51:31, 32.54s/it]"
     ]
    },
    {
     "name": "stdout",
     "output_type": "stream",
     "text": [
      "Model Was Not Saved ! Current Best Avg. Dice: 0.6033996939659119 Current Avg. Dice: 0.5880110859870911 Current Avg. tumor Dice: 0.6664724946022034 Current Avg. lymph Dice: 0.5022545456886292\n"
     ]
    },
    {
     "name": "stderr",
     "output_type": "stream",
     "text": [
      "Training (3995 / 18000 Steps) (loss=0.43292): 100%|██████████| 108/108 [04:17<00:00,  2.38s/it]\n",
      "Validate (3996 / 10 Steps): 100%|██████████| 26/26 [01:44<00:00,  4.01s/it]<04:43,  2.72s/it]\n",
      "Training (4000 / 18000 Steps) (loss=0.53269):   5%|▍         | 5/108 [02:00<1:08:52, 40.12s/it]"
     ]
    },
    {
     "name": "stdout",
     "output_type": "stream",
     "text": [
      "Model Was Saved ! Current Best Avg. Dice: 0.6042762398719788 Current Avg. Dice: 0.6042762398719788 Current Avg. tumor Dice: 0.6798454523086548 Current Avg. lymph Dice: 0.5262277722358704\n"
     ]
    },
    {
     "name": "stderr",
     "output_type": "stream",
     "text": [
      "Validate (3996 / 10 Steps): 100%|██████████| 26/26 [01:42<00:00,  3.96s/it]16<00:05,  1.36s/it]\n",
      "Training (4100 / 18000 Steps) (loss=0.47714):  97%|█████████▋| 105/108 [05:59<01:36, 32.26s/it]"
     ]
    },
    {
     "name": "stdout",
     "output_type": "stream",
     "text": [
      "Model Was Not Saved ! Current Best Avg. Dice: 0.6042762398719788 Current Avg. Dice: 0.5675660371780396 Current Avg. tumor Dice: 0.6201305985450745 Current Avg. lymph Dice: 0.5120793581008911\n"
     ]
    },
    {
     "name": "stderr",
     "output_type": "stream",
     "text": [
      "Training (4103 / 18000 Steps) (loss=0.43719): 100%|██████████| 108/108 [06:03<00:00,  3.37s/it]\n",
      "Validate (4104 / 10 Steps): 100%|██████████| 26/26 [01:41<00:00,  3.90s/it]3<00:16,  1.36s/it]\n",
      "Training (4200 / 18000 Steps) (loss=0.48996):  90%|████████▉ | 97/108 [04:04<05:50, 31.83s/it]"
     ]
    },
    {
     "name": "stdout",
     "output_type": "stream",
     "text": [
      "Model Was Not Saved ! Current Best Avg. Dice: 0.6042762398719788 Current Avg. Dice: 0.596154510974884 Current Avg. tumor Dice: 0.6792464852333069 Current Avg. lymph Dice: 0.5056150555610657\n"
     ]
    },
    {
     "name": "stderr",
     "output_type": "stream",
     "text": [
      "Training (4211 / 18000 Steps) (loss=0.43625): 100%|██████████| 108/108 [04:19<00:00,  2.41s/it]\n",
      "Validate (4212 / 10 Steps): 100%|██████████| 26/26 [01:41<00:00,  3.92s/it]7<00:27,  1.36s/it]\n",
      "Training (4300 / 18000 Steps) (loss=0.29704):  82%|████████▏ | 89/108 [03:49<10:07, 31.97s/it]"
     ]
    },
    {
     "name": "stdout",
     "output_type": "stream",
     "text": [
      "Model Was Not Saved ! Current Best Avg. Dice: 0.6042762398719788 Current Avg. Dice: 0.5909875631332397 Current Avg. tumor Dice: 0.6516042947769165 Current Avg. lymph Dice: 0.5287417769432068\n"
     ]
    },
    {
     "name": "stderr",
     "output_type": "stream",
     "text": [
      "Training (4319 / 18000 Steps) (loss=0.41543): 100%|██████████| 108/108 [04:15<00:00,  2.37s/it]\n",
      "Validate (4320 / 10 Steps): 100%|██████████| 26/26 [01:42<00:00,  3.96s/it]6<00:38,  1.36s/it]\n",
      "Training (4400 / 18000 Steps) (loss=0.39818):  75%|███████▌  | 81/108 [03:39<14:30, 32.25s/it]"
     ]
    },
    {
     "name": "stdout",
     "output_type": "stream",
     "text": [
      "Model Was Not Saved ! Current Best Avg. Dice: 0.6042762398719788 Current Avg. Dice: 0.591670036315918 Current Avg. tumor Dice: 0.6540268659591675 Current Avg. lymph Dice: 0.5294079184532166\n"
     ]
    },
    {
     "name": "stderr",
     "output_type": "stream",
     "text": [
      "Training (4427 / 18000 Steps) (loss=0.45834): 100%|██████████| 108/108 [04:16<00:00,  2.37s/it]\n",
      "Validate (4428 / 10 Steps): 100%|██████████| 26/26 [01:43<00:00,  3.97s/it]8<00:48,  1.36s/it]\n",
      "Training (4500 / 18000 Steps) (loss=0.31871):  68%|██████▊   | 73/108 [03:31<18:52, 32.36s/it]"
     ]
    },
    {
     "name": "stdout",
     "output_type": "stream",
     "text": [
      "Model Was Not Saved ! Current Best Avg. Dice: 0.6042762398719788 Current Avg. Dice: 0.5714035034179688 Current Avg. tumor Dice: 0.6559191942214966 Current Avg. lymph Dice: 0.48131459951400757\n"
     ]
    },
    {
     "name": "stderr",
     "output_type": "stream",
     "text": [
      "Training (4535 / 18000 Steps) (loss=0.50227): 100%|██████████| 108/108 [04:19<00:00,  2.40s/it]\n",
      "Validate (4536 / 10 Steps): 100%|██████████| 26/26 [01:42<00:00,  3.95s/it]5<00:59,  1.36s/it]\n",
      "Training (4600 / 18000 Steps) (loss=0.45521):  60%|██████    | 65/108 [03:18<23:04, 32.19s/it]"
     ]
    },
    {
     "name": "stdout",
     "output_type": "stream",
     "text": [
      "Model Was Not Saved ! Current Best Avg. Dice: 0.6042762398719788 Current Avg. Dice: 0.583122730255127 Current Avg. tumor Dice: 0.6374226212501526 Current Avg. lymph Dice: 0.5268496870994568\n"
     ]
    },
    {
     "name": "stderr",
     "output_type": "stream",
     "text": [
      "Training (4643 / 18000 Steps) (loss=0.52695): 100%|██████████| 108/108 [04:16<00:00,  2.38s/it]\n",
      "Validate (4644 / 10 Steps): 100%|██████████| 26/26 [01:42<00:00,  3.95s/it]6<01:10,  1.36s/it]\n",
      "Training (4700 / 18000 Steps) (loss=0.41566):  53%|█████▎    | 57/108 [03:08<27:20, 32.16s/it]"
     ]
    },
    {
     "name": "stdout",
     "output_type": "stream",
     "text": [
      "Model Was Not Saved ! Current Best Avg. Dice: 0.6042762398719788 Current Avg. Dice: 0.5969480872154236 Current Avg. tumor Dice: 0.6633142828941345 Current Avg. lymph Dice: 0.5276374816894531\n"
     ]
    },
    {
     "name": "stderr",
     "output_type": "stream",
     "text": [
      "Training (4751 / 18000 Steps) (loss=0.45491): 100%|██████████| 108/108 [04:18<00:00,  2.39s/it]\n",
      "Validate (4752 / 10 Steps): 100%|██████████| 26/26 [01:42<00:00,  3.95s/it]3<01:21,  1.35s/it]\n",
      "Training (4800 / 18000 Steps) (loss=0.36666):  45%|████▌     | 49/108 [02:56<31:40, 32.21s/it]"
     ]
    },
    {
     "name": "stdout",
     "output_type": "stream",
     "text": [
      "Model Was Not Saved ! Current Best Avg. Dice: 0.6042762398719788 Current Avg. Dice: 0.6040566563606262 Current Avg. tumor Dice: 0.6731777787208557 Current Avg. lymph Dice: 0.5313661694526672\n"
     ]
    },
    {
     "name": "stderr",
     "output_type": "stream",
     "text": [
      "Training (4859 / 18000 Steps) (loss=0.53598): 100%|██████████| 108/108 [04:16<00:00,  2.38s/it]\n",
      "Validate (4860 / 10 Steps): 100%|██████████| 26/26 [01:42<00:00,  3.94s/it]3<01:32,  1.36s/it]\n",
      "Training (4900 / 18000 Steps) (loss=0.48658):  38%|███▊      | 41/108 [02:45<35:50, 32.10s/it]"
     ]
    },
    {
     "name": "stdout",
     "output_type": "stream",
     "text": [
      "Model Was Not Saved ! Current Best Avg. Dice: 0.6042762398719788 Current Avg. Dice: 0.5921601057052612 Current Avg. tumor Dice: 0.6691038012504578 Current Avg. lymph Dice: 0.5098239183425903\n"
     ]
    },
    {
     "name": "stderr",
     "output_type": "stream",
     "text": [
      "Training (4967 / 18000 Steps) (loss=0.39549): 100%|██████████| 108/108 [04:16<00:00,  2.38s/it]\n",
      "Validate (4968 / 10 Steps): 100%|██████████| 26/26 [01:42<00:00,  3.94s/it]2<01:43,  1.36s/it]\n",
      "Training (5000 / 18000 Steps) (loss=0.43376):  31%|███       | 33/108 [02:34<40:05, 32.08s/it]"
     ]
    },
    {
     "name": "stdout",
     "output_type": "stream",
     "text": [
      "Model Was Not Saved ! Current Best Avg. Dice: 0.6042762398719788 Current Avg. Dice: 0.5922107100486755 Current Avg. tumor Dice: 0.6623022556304932 Current Avg. lymph Dice: 0.5195097327232361\n"
     ]
    },
    {
     "name": "stderr",
     "output_type": "stream",
     "text": [
      "Training (5075 / 18000 Steps) (loss=0.51735): 100%|██████████| 108/108 [04:16<00:00,  2.38s/it]\n",
      "Validate (5076 / 10 Steps): 100%|██████████| 26/26 [01:42<00:00,  3.95s/it]1<01:54,  1.36s/it]\n",
      "Training (5100 / 18000 Steps) (loss=0.42557):  23%|██▎       | 25/108 [02:25<44:51, 32.43s/it]"
     ]
    },
    {
     "name": "stdout",
     "output_type": "stream",
     "text": [
      "Model Was Saved ! Current Best Avg. Dice: 0.6077004075050354 Current Avg. Dice: 0.6077004075050354 Current Avg. tumor Dice: 0.6707972884178162 Current Avg. lymph Dice: 0.5426338911056519\n"
     ]
    },
    {
     "name": "stderr",
     "output_type": "stream",
     "text": [
      "Training (5183 / 18000 Steps) (loss=0.38126): 100%|██████████| 108/108 [04:17<00:00,  2.39s/it]\n",
      "Validate (5184 / 10 Steps): 100%|██████████| 26/26 [01:42<00:00,  3.96s/it]2<02:06,  1.38s/it]\n",
      "Training (5200 / 18000 Steps) (loss=0.42870):  16%|█▌        | 17/108 [02:16<49:25, 32.58s/it]"
     ]
    },
    {
     "name": "stdout",
     "output_type": "stream",
     "text": [
      "Model Was Saved ! Current Best Avg. Dice: 0.610582172870636 Current Avg. Dice: 0.610582172870636 Current Avg. tumor Dice: 0.6850164532661438 Current Avg. lymph Dice: 0.5312216281890869\n"
     ]
    },
    {
     "name": "stderr",
     "output_type": "stream",
     "text": [
      "Training (5291 / 18000 Steps) (loss=0.57995): 100%|██████████| 108/108 [04:19<00:00,  2.40s/it]\n",
      "Validate (5292 / 10 Steps): 100%|██████████| 26/26 [01:42<00:00,  3.94s/it]<02:38,  1.59s/it]\n",
      "Training (5300 / 18000 Steps) (loss=0.42937):   8%|▊         | 9/108 [02:03<55:19, 33.53s/it]"
     ]
    },
    {
     "name": "stdout",
     "output_type": "stream",
     "text": [
      "Model Was Not Saved ! Current Best Avg. Dice: 0.610582172870636 Current Avg. Dice: 0.5965709090232849 Current Avg. tumor Dice: 0.6748034954071045 Current Avg. lymph Dice: 0.514134407043457\n"
     ]
    },
    {
     "name": "stderr",
     "output_type": "stream",
     "text": [
      "Training (5399 / 18000 Steps) (loss=0.48507): 100%|██████████| 108/108 [03:50<00:00,  2.13s/it]\n",
      "Validate (5400 / 10 Steps): 100%|██████████| 26/26 [00:38<00:00,  1.47s/it]<?, ?it/s]\n",
      "Training (5400 / 18000 Steps) (loss=0.35388):   1%|          | 1/108 [00:45<1:20:38, 45.22s/it]"
     ]
    },
    {
     "name": "stdout",
     "output_type": "stream",
     "text": [
      "Model Was Not Saved ! Current Best Avg. Dice: 0.610582172870636 Current Avg. Dice: 0.5979037284851074 Current Avg. tumor Dice: 0.67169189453125 Current Avg. lymph Dice: 0.5198778510093689\n"
     ]
    },
    {
     "name": "stderr",
     "output_type": "stream",
     "text": [
      "Validate (5400 / 10 Steps): 100%|██████████| 26/26 [00:37<00:00,  1.43s/it]39<00:03,  2.03it/s]\n",
      "Training (5500 / 18000 Steps) (loss=0.59868):  94%|█████████▎| 101/108 [02:16<01:22, 11.75s/it]"
     ]
    },
    {
     "name": "stdout",
     "output_type": "stream",
     "text": [
      "Model Was Not Saved ! Current Best Avg. Dice: 0.610582172870636 Current Avg. Dice: 0.5967420935630798 Current Avg. tumor Dice: 0.6611069440841675 Current Avg. lymph Dice: 0.5295293927192688\n"
     ]
    },
    {
     "name": "stderr",
     "output_type": "stream",
     "text": [
      "Training (5507 / 18000 Steps) (loss=0.49046): 100%|██████████| 108/108 [02:19<00:00,  1.29s/it]\n",
      "Validate (5508 / 10 Steps): 100%|██████████| 26/26 [00:38<00:00,  1.48s/it]2<00:09,  1.67it/s]\n",
      "Training (5600 / 18000 Steps) (loss=0.45501):  86%|████████▌ | 93/108 [01:40<03:01, 12.11s/it]"
     ]
    },
    {
     "name": "stdout",
     "output_type": "stream",
     "text": [
      "Model Was Not Saved ! Current Best Avg. Dice: 0.610582172870636 Current Avg. Dice: 0.6085904240608215 Current Avg. tumor Dice: 0.682309627532959 Current Avg. lymph Dice: 0.5264686346054077\n"
     ]
    },
    {
     "name": "stderr",
     "output_type": "stream",
     "text": [
      "Training (5615 / 18000 Steps) (loss=0.44611): 100%|██████████| 108/108 [01:47<00:00,  1.01it/s]\n",
      "Validate (5616 / 10 Steps): 100%|██████████| 26/26 [00:37<00:00,  1.43s/it]8<00:15,  1.57it/s]\n",
      "Training (5700 / 18000 Steps) (loss=0.56566):  79%|███████▊  | 85/108 [01:35<04:31, 11.78s/it]"
     ]
    },
    {
     "name": "stdout",
     "output_type": "stream",
     "text": [
      "Model Was Not Saved ! Current Best Avg. Dice: 0.610582172870636 Current Avg. Dice: 0.6052699089050293 Current Avg. tumor Dice: 0.6828769445419312 Current Avg. lymph Dice: 0.5215727090835571\n"
     ]
    },
    {
     "name": "stderr",
     "output_type": "stream",
     "text": [
      "Training (5723 / 18000 Steps) (loss=0.43658): 100%|██████████| 108/108 [01:45<00:00,  1.02it/s]\n",
      "Validate (5724 / 10 Steps): 100%|██████████| 26/26 [00:37<00:00,  1.44s/it]1<00:18,  1.75it/s]\n",
      "Training (5800 / 18000 Steps) (loss=0.35117):  71%|███████▏  | 77/108 [01:29<06:05, 11.79s/it]"
     ]
    },
    {
     "name": "stdout",
     "output_type": "stream",
     "text": [
      "Model Was Not Saved ! Current Best Avg. Dice: 0.610582172870636 Current Avg. Dice: 0.6059481501579285 Current Avg. tumor Dice: 0.6788666844367981 Current Avg. lymph Dice: 0.5264900922775269\n"
     ]
    },
    {
     "name": "stderr",
     "output_type": "stream",
     "text": [
      "Training (5831 / 18000 Steps) (loss=0.44567): 100%|██████████| 108/108 [01:42<00:00,  1.05it/s]\n",
      "Validate (5832 / 10 Steps): 100%|██████████| 26/26 [00:37<00:00,  1.44s/it]5<00:20,  1.96it/s]\n",
      "Training (5900 / 18000 Steps) (loss=0.34399):  64%|██████▍   | 69/108 [01:23<07:39, 11.79s/it]"
     ]
    },
    {
     "name": "stdout",
     "output_type": "stream",
     "text": [
      "Model Was Not Saved ! Current Best Avg. Dice: 0.610582172870636 Current Avg. Dice: 0.5996919274330139 Current Avg. tumor Dice: 0.6674559116363525 Current Avg. lymph Dice: 0.5257648229598999\n"
     ]
    },
    {
     "name": "stderr",
     "output_type": "stream",
     "text": [
      "Training (5939 / 18000 Steps) (loss=0.37542): 100%|██████████| 108/108 [01:41<00:00,  1.06it/s]\n",
      "Validate (5940 / 10 Steps): 100%|██████████| 26/26 [00:37<00:00,  1.46s/it]3<00:30,  1.57it/s]\n",
      "Training (6000 / 18000 Steps) (loss=0.41849):  56%|█████▋    | 61/108 [01:21<09:21, 11.95s/it]"
     ]
    },
    {
     "name": "stdout",
     "output_type": "stream",
     "text": [
      "Model Was Not Saved ! Current Best Avg. Dice: 0.610582172870636 Current Avg. Dice: 0.5986862778663635 Current Avg. tumor Dice: 0.6691319942474365 Current Avg. lymph Dice: 0.5237633585929871\n"
     ]
    },
    {
     "name": "stderr",
     "output_type": "stream",
     "text": [
      "Training (6047 / 18000 Steps) (loss=0.46559): 100%|██████████| 108/108 [01:44<00:00,  1.03it/s]\n",
      "Validate (6048 / 10 Steps): 100%|██████████| 26/26 [00:37<00:00,  1.43s/it]5<00:31,  1.78it/s]\n",
      "Training (6100 / 18000 Steps) (loss=0.28674):  49%|████▉     | 53/108 [01:13<10:46, 11.75s/it]"
     ]
    },
    {
     "name": "stdout",
     "output_type": "stream",
     "text": [
      "Model Was Not Saved ! Current Best Avg. Dice: 0.610582172870636 Current Avg. Dice: 0.582287073135376 Current Avg. tumor Dice: 0.6261922717094421 Current Avg. lymph Dice: 0.5406714081764221\n"
     ]
    },
    {
     "name": "stderr",
     "output_type": "stream",
     "text": [
      "Training (6155 / 18000 Steps) (loss=0.46086): 100%|██████████| 108/108 [01:40<00:00,  1.07it/s]\n",
      "Validate (6156 / 10 Steps): 100%|██████████| 26/26 [00:37<00:00,  1.44s/it]2<00:36,  1.76it/s]\n",
      "Training (6200 / 18000 Steps) (loss=0.32501):  42%|████▏     | 45/108 [01:09<12:19, 11.74s/it]"
     ]
    },
    {
     "name": "stdout",
     "output_type": "stream",
     "text": [
      "Model Was Not Saved ! Current Best Avg. Dice: 0.610582172870636 Current Avg. Dice: 0.5980365872383118 Current Avg. tumor Dice: 0.6600584387779236 Current Avg. lymph Dice: 0.5326135754585266\n"
     ]
    },
    {
     "name": "stderr",
     "output_type": "stream",
     "text": [
      "Training (6263 / 18000 Steps) (loss=0.28567): 100%|██████████| 108/108 [01:41<00:00,  1.06it/s]\n",
      "Validate (6264 / 10 Steps): 100%|██████████| 26/26 [00:37<00:00,  1.43s/it]8<00:40,  1.76it/s]\n",
      "Training (6300 / 18000 Steps) (loss=0.46514):  34%|███▍      | 37/108 [01:05<13:53, 11.74s/it]"
     ]
    },
    {
     "name": "stdout",
     "output_type": "stream",
     "text": [
      "Model Was Not Saved ! Current Best Avg. Dice: 0.610582172870636 Current Avg. Dice: 0.5798170566558838 Current Avg. tumor Dice: 0.6512845158576965 Current Avg. lymph Dice: 0.4988650977611542\n"
     ]
    },
    {
     "name": "stderr",
     "output_type": "stream",
     "text": [
      "Training (6371 / 18000 Steps) (loss=0.49809): 100%|██████████| 108/108 [01:41<00:00,  1.06it/s]\n",
      "Validate (6372 / 10 Steps): 100%|██████████| 26/26 [00:37<00:00,  1.43s/it]3<00:35,  2.25it/s]\n",
      "Training (6400 / 18000 Steps) (loss=0.44476):  27%|██▋       | 29/108 [01:01<15:15, 11.58s/it]"
     ]
    },
    {
     "name": "stdout",
     "output_type": "stream",
     "text": [
      "Model Was Not Saved ! Current Best Avg. Dice: 0.610582172870636 Current Avg. Dice: 0.6076688766479492 Current Avg. tumor Dice: 0.67464679479599 Current Avg. lymph Dice: 0.5370502471923828\n"
     ]
    },
    {
     "name": "stderr",
     "output_type": "stream",
     "text": [
      "Training (6479 / 18000 Steps) (loss=0.24640): 100%|██████████| 108/108 [01:42<00:00,  1.05it/s]\n",
      "Validate (6480 / 10 Steps): 100%|██████████| 26/26 [00:37<00:00,  1.45s/it]9<00:49,  1.77it/s]\n",
      "Training (6500 / 18000 Steps) (loss=0.57114):  19%|█▉        | 21/108 [00:56<17:11, 11.86s/it]"
     ]
    },
    {
     "name": "stdout",
     "output_type": "stream",
     "text": [
      "Model Was Not Saved ! Current Best Avg. Dice: 0.610582172870636 Current Avg. Dice: 0.5815720558166504 Current Avg. tumor Dice: 0.6388310194015503 Current Avg. lymph Dice: 0.5218249559402466\n"
     ]
    },
    {
     "name": "stderr",
     "output_type": "stream",
     "text": [
      "Training (6587 / 18000 Steps) (loss=0.49462): 100%|██████████| 108/108 [01:42<00:00,  1.05it/s]\n",
      "Validate (6588 / 10 Steps): 100%|██████████| 26/26 [00:37<00:00,  1.46s/it]5<00:59,  1.60it/s]\n",
      "Training (6600 / 18000 Steps) (loss=0.55449):  12%|█▏        | 13/108 [00:53<19:07, 12.08s/it]"
     ]
    },
    {
     "name": "stdout",
     "output_type": "stream",
     "text": [
      "Model Was Not Saved ! Current Best Avg. Dice: 0.610582172870636 Current Avg. Dice: 0.5994846820831299 Current Avg. tumor Dice: 0.67296302318573 Current Avg. lymph Dice: 0.5174779891967773\n"
     ]
    },
    {
     "name": "stderr",
     "output_type": "stream",
     "text": [
      "Training (6695 / 18000 Steps) (loss=0.56795): 100%|██████████| 108/108 [01:46<00:00,  1.02it/s]\n",
      "Validate (6696 / 10 Steps): 100%|██████████| 26/26 [00:38<00:00,  1.48s/it]<02:45,  1.59s/it]\n",
      "Training (6700 / 18000 Steps) (loss=0.49659):   5%|▍         | 5/108 [00:48<25:47, 15.02s/it]"
     ]
    },
    {
     "name": "stdout",
     "output_type": "stream",
     "text": [
      "Model Was Not Saved ! Current Best Avg. Dice: 0.610582172870636 Current Avg. Dice: 0.5606429576873779 Current Avg. tumor Dice: 0.640898585319519 Current Avg. lymph Dice: 0.47039633989334106\n"
     ]
    },
    {
     "name": "stderr",
     "output_type": "stream",
     "text": [
      "Validate (6696 / 10 Steps): 100%|██████████| 26/26 [00:37<00:00,  1.43s/it]42<00:01,  2.07it/s]\n",
      "Training (6800 / 18000 Steps) (loss=0.49212):  97%|█████████▋| 105/108 [02:19<00:34, 11.64s/it]"
     ]
    },
    {
     "name": "stdout",
     "output_type": "stream",
     "text": [
      "Model Was Not Saved ! Current Best Avg. Dice: 0.610582172870636 Current Avg. Dice: 0.5973316431045532 Current Avg. tumor Dice: 0.653856098651886 Current Avg. lymph Dice: 0.5394049882888794\n"
     ]
    },
    {
     "name": "stderr",
     "output_type": "stream",
     "text": [
      "Training (6803 / 18000 Steps) (loss=0.32920): 100%|██████████| 108/108 [02:20<00:00,  1.30s/it]\n",
      "Validate (6804 / 10 Steps): 100%|██████████| 26/26 [00:37<00:00,  1.43s/it]4<00:05,  2.31it/s]\n",
      "Training (6900 / 18000 Steps) (loss=0.34792):  90%|████████▉ | 97/108 [01:41<02:07, 11.59s/it]"
     ]
    },
    {
     "name": "stdout",
     "output_type": "stream",
     "text": [
      "Model Was Not Saved ! Current Best Avg. Dice: 0.610582172870636 Current Avg. Dice: 0.6019999384880066 Current Avg. tumor Dice: 0.6676984429359436 Current Avg. lymph Dice: 0.5343261957168579\n"
     ]
    },
    {
     "name": "stderr",
     "output_type": "stream",
     "text": [
      "Training (6911 / 18000 Steps) (loss=0.56674): 100%|██████████| 108/108 [01:46<00:00,  1.01it/s]\n",
      "Validate (6912 / 10 Steps): 100%|██████████| 26/26 [00:38<00:00,  1.46s/it]8<00:10,  1.85it/s]\n",
      "Training (7000 / 18000 Steps) (loss=0.53905):  82%|████████▏ | 89/108 [01:36<03:47, 11.95s/it]"
     ]
    },
    {
     "name": "stdout",
     "output_type": "stream",
     "text": [
      "Model Was Not Saved ! Current Best Avg. Dice: 0.610582172870636 Current Avg. Dice: 0.6068426966667175 Current Avg. tumor Dice: 0.6689451336860657 Current Avg. lymph Dice: 0.5429776310920715\n"
     ]
    },
    {
     "name": "stderr",
     "output_type": "stream",
     "text": [
      "Training (7019 / 18000 Steps) (loss=0.48100): 100%|██████████| 108/108 [01:44<00:00,  1.03it/s]\n",
      "Validate (7020 / 10 Steps): 100%|██████████| 26/26 [00:37<00:00,  1.46s/it]2<00:13,  2.09it/s]\n",
      "Training (7100 / 18000 Steps) (loss=0.41115):  75%|███████▌  | 81/108 [01:30<05:26, 12.08s/it]"
     ]
    },
    {
     "name": "stdout",
     "output_type": "stream",
     "text": [
      "Model Was Saved ! Current Best Avg. Dice: 0.6117132306098938 Current Avg. Dice: 0.6117132306098938 Current Avg. tumor Dice: 0.6806854605674744 Current Avg. lymph Dice: 0.5365554690361023\n"
     ]
    },
    {
     "name": "stderr",
     "output_type": "stream",
     "text": [
      "Training (7127 / 18000 Steps) (loss=0.42114): 100%|██████████| 108/108 [01:42<00:00,  1.05it/s]\n",
      "Validate (7128 / 10 Steps): 100%|██████████| 26/26 [00:38<00:00,  1.47s/it]8<00:20,  1.75it/s]\n",
      "Training (7200 / 18000 Steps) (loss=0.46652):  68%|██████▊   | 73/108 [01:26<07:00, 12.00s/it]"
     ]
    },
    {
     "name": "stdout",
     "output_type": "stream",
     "text": [
      "Model Was Not Saved ! Current Best Avg. Dice: 0.6117132306098938 Current Avg. Dice: 0.6085403561592102 Current Avg. tumor Dice: 0.6788538098335266 Current Avg. lymph Dice: 0.534468412399292\n"
     ]
    },
    {
     "name": "stderr",
     "output_type": "stream",
     "text": [
      "Training (7235 / 18000 Steps) (loss=0.33093): 100%|██████████| 108/108 [01:42<00:00,  1.05it/s]\n",
      "Validate (7236 / 10 Steps): 100%|██████████| 26/26 [00:38<00:00,  1.47s/it]6<00:21,  2.07it/s]\n",
      "Training (7300 / 18000 Steps) (loss=0.53438):  60%|██████    | 65/108 [01:24<08:33, 11.95s/it]"
     ]
    },
    {
     "name": "stdout",
     "output_type": "stream",
     "text": [
      "Model Was Not Saved ! Current Best Avg. Dice: 0.6117132306098938 Current Avg. Dice: 0.6110178828239441 Current Avg. tumor Dice: 0.6819738745689392 Current Avg. lymph Dice: 0.5345925688743591\n"
     ]
    },
    {
     "name": "stderr",
     "output_type": "stream",
     "text": [
      "Training (7343 / 18000 Steps) (loss=0.39934): 100%|██████████| 108/108 [01:44<00:00,  1.03it/s]\n",
      "Validate (7344 / 10 Steps): 100%|██████████| 26/26 [00:37<00:00,  1.46s/it]8<00:27,  1.91it/s]\n",
      "Training (7400 / 18000 Steps) (loss=0.45304):  53%|█████▎    | 57/108 [01:16<10:09, 11.95s/it]"
     ]
    },
    {
     "name": "stdout",
     "output_type": "stream",
     "text": [
      "Model Was Not Saved ! Current Best Avg. Dice: 0.6117132306098938 Current Avg. Dice: 0.5997380018234253 Current Avg. tumor Dice: 0.6625020503997803 Current Avg. lymph Dice: 0.5344296097755432\n"
     ]
    },
    {
     "name": "stderr",
     "output_type": "stream",
     "text": [
      "Training (7451 / 18000 Steps) (loss=0.45636): 100%|██████████| 108/108 [01:43<00:00,  1.05it/s]\n",
      "Validate (7452 / 10 Steps): 100%|██████████| 26/26 [00:37<00:00,  1.45s/it]6<00:27,  2.20it/s]\n",
      "Training (7500 / 18000 Steps) (loss=0.40252):  45%|████▌     | 49/108 [01:14<12:10, 12.38s/it]"
     ]
    },
    {
     "name": "stdout",
     "output_type": "stream",
     "text": [
      "Model Was Saved ! Current Best Avg. Dice: 0.6175979375839233 Current Avg. Dice: 0.6175979375839233 Current Avg. tumor Dice: 0.6851142644882202 Current Avg. lymph Dice: 0.5433363914489746\n"
     ]
    },
    {
     "name": "stderr",
     "output_type": "stream",
     "text": [
      "Training (7559 / 18000 Steps) (loss=0.48847): 100%|██████████| 108/108 [01:45<00:00,  1.02it/s]\n",
      "Validate (7560 / 10 Steps): 100%|██████████| 26/26 [00:38<00:00,  1.48s/it]0<00:31,  2.16it/s]\n",
      "Training (7600 / 18000 Steps) (loss=0.46161):  38%|███▊      | 41/108 [01:08<13:43, 12.29s/it]"
     ]
    },
    {
     "name": "stdout",
     "output_type": "stream",
     "text": [
      "Model Was Not Saved ! Current Best Avg. Dice: 0.6175979375839233 Current Avg. Dice: 0.6042608618736267 Current Avg. tumor Dice: 0.6723905205726624 Current Avg. lymph Dice: 0.531972348690033\n"
     ]
    },
    {
     "name": "stderr",
     "output_type": "stream",
     "text": [
      "Training (7667 / 18000 Steps) (loss=0.37422): 100%|██████████| 108/108 [01:44<00:00,  1.03it/s]\n",
      "Validate (7668 / 10 Steps): 100%|██████████| 26/26 [00:37<00:00,  1.46s/it]3<00:34,  2.19it/s]\n",
      "Training (7700 / 18000 Steps) (loss=0.39567):  31%|███       | 33/108 [01:01<14:47, 11.83s/it]"
     ]
    },
    {
     "name": "stdout",
     "output_type": "stream",
     "text": [
      "Model Was Not Saved ! Current Best Avg. Dice: 0.6175979375839233 Current Avg. Dice: 0.6021519303321838 Current Avg. tumor Dice: 0.6687143445014954 Current Avg. lymph Dice: 0.5306654572486877\n"
     ]
    },
    {
     "name": "stderr",
     "output_type": "stream",
     "text": [
      "Training (7775 / 18000 Steps) (loss=0.44256): 100%|██████████| 108/108 [01:42<00:00,  1.05it/s]\n",
      "Validate (7776 / 10 Steps): 100%|██████████| 26/26 [00:38<00:00,  1.47s/it]0<00:36,  2.33it/s]\n",
      "Training (7800 / 18000 Steps) (loss=0.52443):  23%|██▎       | 25/108 [00:58<16:47, 12.14s/it]"
     ]
    },
    {
     "name": "stdout",
     "output_type": "stream",
     "text": [
      "Model Was Not Saved ! Current Best Avg. Dice: 0.6175979375839233 Current Avg. Dice: 0.5966740846633911 Current Avg. tumor Dice: 0.6510165333747864 Current Avg. lymph Dice: 0.543371856212616\n"
     ]
    },
    {
     "name": "stderr",
     "output_type": "stream",
     "text": [
      "Training (7883 / 18000 Steps) (loss=0.46791): 100%|██████████| 108/108 [01:43<00:00,  1.05it/s]\n",
      "Validate (7884 / 10 Steps): 100%|██████████| 26/26 [00:38<00:00,  1.48s/it]5<00:43,  2.10it/s]\n",
      "Training (7900 / 18000 Steps) (loss=0.48975):  16%|█▌        | 17/108 [00:54<18:15, 12.04s/it]"
     ]
    },
    {
     "name": "stdout",
     "output_type": "stream",
     "text": [
      "Model Was Not Saved ! Current Best Avg. Dice: 0.6175979375839233 Current Avg. Dice: 0.6108676195144653 Current Avg. tumor Dice: 0.6783934235572815 Current Avg. lymph Dice: 0.5401763319969177\n"
     ]
    },
    {
     "name": "stderr",
     "output_type": "stream",
     "text": [
      "Training (7991 / 18000 Steps) (loss=0.33645): 100%|██████████| 108/108 [01:42<00:00,  1.05it/s]\n",
      "Validate (7992 / 10 Steps): 100%|██████████| 26/26 [00:37<00:00,  1.45s/it]<01:02,  1.60it/s]\n",
      "Training (8000 / 18000 Steps) (loss=0.38727):   8%|▊         | 9/108 [00:49<20:51, 12.65s/it]"
     ]
    },
    {
     "name": "stdout",
     "output_type": "stream",
     "text": [
      "Model Was Saved ! Current Best Avg. Dice: 0.6194348335266113 Current Avg. Dice: 0.6194348335266113 Current Avg. tumor Dice: 0.6856324672698975 Current Avg. lymph Dice: 0.5501034259796143\n"
     ]
    },
    {
     "name": "stderr",
     "output_type": "stream",
     "text": [
      "Training (8099 / 18000 Steps) (loss=0.49868): 100%|██████████| 108/108 [01:42<00:00,  1.05it/s]\n",
      "Validate (8100 / 10 Steps): 100%|██████████| 26/26 [00:38<00:00,  1.49s/it]<?, ?it/s]\n",
      "Training (8100 / 18000 Steps) (loss=0.35361):   1%|          | 1/108 [00:45<1:21:17, 45.59s/it]"
     ]
    },
    {
     "name": "stdout",
     "output_type": "stream",
     "text": [
      "Model Was Not Saved ! Current Best Avg. Dice: 0.6194348335266113 Current Avg. Dice: 0.6070439219474792 Current Avg. tumor Dice: 0.671699047088623 Current Avg. lymph Dice: 0.537049412727356\n"
     ]
    },
    {
     "name": "stderr",
     "output_type": "stream",
     "text": [
      "Validate (8100 / 10 Steps): 100%|██████████| 26/26 [00:37<00:00,  1.43s/it]40<00:04,  1.73it/s]\n",
      "Training (8200 / 18000 Steps) (loss=0.40088):  94%|█████████▎| 101/108 [02:18<01:21, 11.69s/it]"
     ]
    },
    {
     "name": "stdout",
     "output_type": "stream",
     "text": [
      "Model Was Not Saved ! Current Best Avg. Dice: 0.6194348335266113 Current Avg. Dice: 0.5826475620269775 Current Avg. tumor Dice: 0.6554498672485352 Current Avg. lymph Dice: 0.5018916726112366\n"
     ]
    },
    {
     "name": "stderr",
     "output_type": "stream",
     "text": [
      "Training (8207 / 18000 Steps) (loss=0.37548): 100%|██████████| 108/108 [02:21<00:00,  1.31s/it]\n",
      "Validate (8208 / 10 Steps): 100%|██████████| 26/26 [00:37<00:00,  1.44s/it]0<00:10,  1.50it/s]\n",
      "Training (8300 / 18000 Steps) (loss=0.42150):  86%|████████▌ | 93/108 [01:38<02:57, 11.82s/it]"
     ]
    },
    {
     "name": "stdout",
     "output_type": "stream",
     "text": [
      "Model Was Not Saved ! Current Best Avg. Dice: 0.6194348335266113 Current Avg. Dice: 0.6025850772857666 Current Avg. tumor Dice: 0.6616847515106201 Current Avg. lymph Dice: 0.5384809970855713\n"
     ]
    },
    {
     "name": "stderr",
     "output_type": "stream",
     "text": [
      "Training (8315 / 18000 Steps) (loss=0.22050): 100%|██████████| 108/108 [01:44<00:00,  1.03it/s]\n",
      "Validate (8316 / 10 Steps): 100%|██████████| 26/26 [00:38<00:00,  1.46s/it]2<00:10,  2.22it/s]\n",
      "Training (8400 / 18000 Steps) (loss=0.41973):  79%|███████▊  | 85/108 [01:30<04:33, 11.87s/it]"
     ]
    },
    {
     "name": "stdout",
     "output_type": "stream",
     "text": [
      "Model Was Not Saved ! Current Best Avg. Dice: 0.6194348335266113 Current Avg. Dice: 0.5812630653381348 Current Avg. tumor Dice: 0.6307005882263184 Current Avg. lymph Dice: 0.5300219655036926\n"
     ]
    },
    {
     "name": "stderr",
     "output_type": "stream",
     "text": [
      "Training (8423 / 18000 Steps) (loss=0.42380): 100%|██████████| 108/108 [01:40<00:00,  1.07it/s]\n",
      "Validate (8424 / 10 Steps): 100%|██████████| 26/26 [00:38<00:00,  1.47s/it]1<00:21,  1.49it/s]\n",
      "Training (8500 / 18000 Steps) (loss=0.48526):  71%|███████▏  | 77/108 [01:29<06:14, 12.09s/it]"
     ]
    },
    {
     "name": "stdout",
     "output_type": "stream",
     "text": [
      "Model Was Not Saved ! Current Best Avg. Dice: 0.6194348335266113 Current Avg. Dice: 0.5602354407310486 Current Avg. tumor Dice: 0.6216991543769836 Current Avg. lymph Dice: 0.4874921143054962\n"
     ]
    },
    {
     "name": "stderr",
     "output_type": "stream",
     "text": [
      "Training (8531 / 18000 Steps) (loss=0.32658): 100%|██████████| 108/108 [01:43<00:00,  1.05it/s]\n",
      "Validate (8532 / 10 Steps): 100%|██████████| 26/26 [00:38<00:00,  1.47s/it]6<00:22,  1.80it/s]\n",
      "Training (8600 / 18000 Steps) (loss=0.33057):  64%|██████▍   | 69/108 [01:24<07:49, 12.03s/it]"
     ]
    },
    {
     "name": "stdout",
     "output_type": "stream",
     "text": [
      "Model Was Not Saved ! Current Best Avg. Dice: 0.6194348335266113 Current Avg. Dice: 0.609324038028717 Current Avg. tumor Dice: 0.6801954507827759 Current Avg. lymph Dice: 0.5323514342308044\n"
     ]
    },
    {
     "name": "stderr",
     "output_type": "stream",
     "text": [
      "Training (8639 / 18000 Steps) (loss=0.38788): 100%|██████████| 108/108 [01:43<00:00,  1.05it/s]\n",
      "Validate (8640 / 10 Steps): 100%|██████████| 26/26 [00:39<00:00,  1.51s/it]0<00:28,  1.70it/s]\n",
      "Training (8700 / 18000 Steps) (loss=0.57322):  56%|█████▋    | 61/108 [01:19<09:38, 12.32s/it]"
     ]
    },
    {
     "name": "stdout",
     "output_type": "stream",
     "text": [
      "Model Was Not Saved ! Current Best Avg. Dice: 0.6194348335266113 Current Avg. Dice: 0.6161432266235352 Current Avg. tumor Dice: 0.6765804886817932 Current Avg. lymph Dice: 0.5518167018890381\n"
     ]
    },
    {
     "name": "stderr",
     "output_type": "stream",
     "text": [
      "Training (8747 / 18000 Steps) (loss=0.49902): 100%|██████████| 108/108 [01:42<00:00,  1.05it/s]\n",
      "Validate (8748 / 10 Steps): 100%|██████████| 26/26 [00:39<00:00,  1.51s/it]7<00:36,  1.52it/s]\n",
      "Training (8800 / 18000 Steps) (loss=0.32821):  49%|████▉     | 53/108 [01:17<11:31, 12.57s/it]"
     ]
    },
    {
     "name": "stdout",
     "output_type": "stream",
     "text": [
      "Model Was Saved ! Current Best Avg. Dice: 0.6214590072631836 Current Avg. Dice: 0.6214590072631836 Current Avg. tumor Dice: 0.6881024241447449 Current Avg. lymph Dice: 0.5504915714263916\n"
     ]
    },
    {
     "name": "stderr",
     "output_type": "stream",
     "text": [
      "Training (8855 / 18000 Steps) (loss=0.39408): 100%|██████████| 108/108 [01:46<00:00,  1.01it/s]\n",
      "Validate (8856 / 10 Steps): 100%|██████████| 26/26 [00:38<00:00,  1.50s/it]0<00:35,  1.78it/s]\n",
      "Training (8900 / 18000 Steps) (loss=0.39513):  42%|████▏     | 45/108 [01:09<12:49, 12.22s/it]"
     ]
    },
    {
     "name": "stdout",
     "output_type": "stream",
     "text": [
      "Model Was Not Saved ! Current Best Avg. Dice: 0.6214590072631836 Current Avg. Dice: 0.6142714023590088 Current Avg. tumor Dice: 0.6793014407157898 Current Avg. lymph Dice: 0.5409760475158691\n"
     ]
    },
    {
     "name": "stderr",
     "output_type": "stream",
     "text": [
      "Training (8963 / 18000 Steps) (loss=0.46786): 100%|██████████| 108/108 [01:41<00:00,  1.07it/s]\n",
      "Validate (8964 / 10 Steps): 100%|██████████| 26/26 [00:38<00:00,  1.49s/it]5<00:30,  2.33it/s]\n",
      "Training (9000 / 18000 Steps) (loss=0.44032):  34%|███▍      | 37/108 [01:03<14:15, 12.05s/it]"
     ]
    },
    {
     "name": "stdout",
     "output_type": "stream",
     "text": [
      "Model Was Not Saved ! Current Best Avg. Dice: 0.6214590072631836 Current Avg. Dice: 0.6067657470703125 Current Avg. tumor Dice: 0.6730872988700867 Current Avg. lymph Dice: 0.5363854169845581\n"
     ]
    },
    {
     "name": "stderr",
     "output_type": "stream",
     "text": [
      "Training (9071 / 18000 Steps) (loss=0.45000): 100%|██████████| 108/108 [01:40<00:00,  1.07it/s]\n",
      "Validate (9072 / 10 Steps): 100%|██████████| 26/26 [00:37<00:00,  1.45s/it]3<00:59,  1.34it/s]\n",
      "Training (9100 / 18000 Steps) (loss=0.58880):  27%|██▋       | 29/108 [01:00<15:44, 11.95s/it]"
     ]
    },
    {
     "name": "stdout",
     "output_type": "stream",
     "text": [
      "Model Was Not Saved ! Current Best Avg. Dice: 0.6214590072631836 Current Avg. Dice: 0.5941253304481506 Current Avg. tumor Dice: 0.6630507707595825 Current Avg. lymph Dice: 0.5203101634979248\n"
     ]
    },
    {
     "name": "stderr",
     "output_type": "stream",
     "text": [
      "Training (9179 / 18000 Steps) (loss=0.50282): 100%|██████████| 108/108 [01:42<00:00,  1.06it/s]\n",
      "Validate (9180 / 10 Steps): 100%|██████████| 26/26 [00:38<00:00,  1.49s/it]6<00:38,  2.26it/s]\n",
      "Training (9200 / 18000 Steps) (loss=0.46633):  19%|█▉        | 21/108 [00:55<17:32, 12.09s/it]"
     ]
    },
    {
     "name": "stdout",
     "output_type": "stream",
     "text": [
      "Model Was Not Saved ! Current Best Avg. Dice: 0.6214590072631836 Current Avg. Dice: 0.6012957096099854 Current Avg. tumor Dice: 0.6674548387527466 Current Avg. lymph Dice: 0.5337015986442566\n"
     ]
    },
    {
     "name": "stderr",
     "output_type": "stream",
     "text": [
      "Training (9287 / 18000 Steps) (loss=0.33938): 100%|██████████| 108/108 [01:40<00:00,  1.08it/s]\n",
      "Validate (9288 / 10 Steps): 100%|██████████| 26/26 [00:37<00:00,  1.46s/it]3<00:56,  1.71it/s]\n",
      "Training (9300 / 18000 Steps) (loss=0.47163):  12%|█▏        | 13/108 [00:51<19:14, 12.16s/it]"
     ]
    },
    {
     "name": "stdout",
     "output_type": "stream",
     "text": [
      "Model Was Not Saved ! Current Best Avg. Dice: 0.6214590072631836 Current Avg. Dice: 0.6038581132888794 Current Avg. tumor Dice: 0.6730136275291443 Current Avg. lymph Dice: 0.5296886563301086\n"
     ]
    },
    {
     "name": "stderr",
     "output_type": "stream",
     "text": [
      "Training (9395 / 18000 Steps) (loss=0.36007): 100%|██████████| 108/108 [01:40<00:00,  1.07it/s]\n",
      "Validate (9396 / 10 Steps): 100%|██████████| 26/26 [00:38<00:00,  1.47s/it]<02:22,  1.37s/it]\n",
      "Training (9400 / 18000 Steps) (loss=0.32948):   5%|▍         | 5/108 [00:46<25:30, 14.86s/it]"
     ]
    },
    {
     "name": "stdout",
     "output_type": "stream",
     "text": [
      "Model Was Not Saved ! Current Best Avg. Dice: 0.6214590072631836 Current Avg. Dice: 0.6096901297569275 Current Avg. tumor Dice: 0.6716442704200745 Current Avg. lymph Dice: 0.547595202922821\n"
     ]
    },
    {
     "name": "stderr",
     "output_type": "stream",
     "text": [
      "Validate (9396 / 10 Steps): 100%|██████████| 26/26 [00:38<00:00,  1.47s/it]39<00:01,  2.16it/s]\n",
      "Training (9500 / 18000 Steps) (loss=0.57248):  97%|█████████▋| 105/108 [02:17<00:35, 11.90s/it]"
     ]
    },
    {
     "name": "stdout",
     "output_type": "stream",
     "text": [
      "Model Was Not Saved ! Current Best Avg. Dice: 0.6214590072631836 Current Avg. Dice: 0.5970482230186462 Current Avg. tumor Dice: 0.6552438139915466 Current Avg. lymph Dice: 0.5357380509376526\n"
     ]
    },
    {
     "name": "stderr",
     "output_type": "stream",
     "text": [
      "Training (9503 / 18000 Steps) (loss=0.50315): 100%|██████████| 108/108 [02:18<00:00,  1.28s/it]\n",
      "Validate (9504 / 10 Steps): 100%|██████████| 26/26 [00:38<00:00,  1.48s/it]8<00:05,  2.13it/s]\n",
      "Training (9600 / 18000 Steps) (loss=0.48176):  90%|████████▉ | 97/108 [01:37<02:12, 12.07s/it]"
     ]
    },
    {
     "name": "stdout",
     "output_type": "stream",
     "text": [
      "Model Was Not Saved ! Current Best Avg. Dice: 0.6214590072631836 Current Avg. Dice: 0.6122463345527649 Current Avg. tumor Dice: 0.6807101368904114 Current Avg. lymph Dice: 0.5412729978561401\n"
     ]
    },
    {
     "name": "stderr",
     "output_type": "stream",
     "text": [
      "Training (9611 / 18000 Steps) (loss=0.51992): 100%|██████████| 108/108 [01:41<00:00,  1.06it/s]\n",
      "Validate (9612 / 10 Steps): 100%|██████████| 26/26 [00:39<00:00,  1.51s/it]8<00:11,  1.71it/s]\n",
      "Training (9700 / 18000 Steps) (loss=0.43311):  82%|████████▏ | 89/108 [01:38<04:00, 12.67s/it]"
     ]
    },
    {
     "name": "stdout",
     "output_type": "stream",
     "text": [
      "Model Was Saved ! Current Best Avg. Dice: 0.6229392290115356 Current Avg. Dice: 0.6229392290115356 Current Avg. tumor Dice: 0.6827664375305176 Current Avg. lymph Dice: 0.5617942214012146\n"
     ]
    },
    {
     "name": "stderr",
     "output_type": "stream",
     "text": [
      "Training (9719 / 18000 Steps) (loss=0.43127): 100%|██████████| 108/108 [01:47<00:00,  1.01it/s]\n",
      "Validate (9720 / 10 Steps): 100%|██████████| 26/26 [00:38<00:00,  1.49s/it]1<00:15,  1.77it/s]\n",
      "Training (9800 / 18000 Steps) (loss=0.35918):  75%|███████▌  | 81/108 [01:30<05:27, 12.14s/it]"
     ]
    },
    {
     "name": "stdout",
     "output_type": "stream",
     "text": [
      "Model Was Not Saved ! Current Best Avg. Dice: 0.6229392290115356 Current Avg. Dice: 0.6177632808685303 Current Avg. tumor Dice: 0.6710173487663269 Current Avg. lymph Dice: 0.563788115978241\n"
     ]
    },
    {
     "name": "stderr",
     "output_type": "stream",
     "text": [
      "Training (9827 / 18000 Steps) (loss=0.20779): 100%|██████████| 108/108 [01:42<00:00,  1.05it/s]\n",
      "Validate (9828 / 10 Steps): 100%|██████████| 26/26 [00:37<00:00,  1.46s/it]6<00:16,  2.12it/s]\n",
      "Training (9900 / 18000 Steps) (loss=0.44409):  68%|██████▊   | 73/108 [01:24<07:08, 12.23s/it]"
     ]
    },
    {
     "name": "stdout",
     "output_type": "stream",
     "text": [
      "Model Was Not Saved ! Current Best Avg. Dice: 0.6229392290115356 Current Avg. Dice: 0.6155365705490112 Current Avg. tumor Dice: 0.6844000220298767 Current Avg. lymph Dice: 0.5425277948379517\n"
     ]
    },
    {
     "name": "stderr",
     "output_type": "stream",
     "text": [
      "Training (9935 / 18000 Steps) (loss=0.39907): 100%|██████████| 108/108 [01:40<00:00,  1.07it/s]\n",
      "Validate (9936 / 10 Steps): 100%|██████████| 26/26 [00:39<00:00,  1.51s/it]42<00:24,  1.78it/s]\n",
      "Training (10000 / 18000 Steps) (loss=0.46709):  60%|██████    | 65/108 [01:21<08:48, 12.29s/it]"
     ]
    },
    {
     "name": "stdout",
     "output_type": "stream",
     "text": [
      "Model Was Not Saved ! Current Best Avg. Dice: 0.6229392290115356 Current Avg. Dice: 0.617272675037384 Current Avg. tumor Dice: 0.6892439723014832 Current Avg. lymph Dice: 0.5382063388824463\n"
     ]
    },
    {
     "name": "stderr",
     "output_type": "stream",
     "text": [
      "Training (10043 / 18000 Steps) (loss=0.59291): 100%|██████████| 108/108 [01:42<00:00,  1.06it/s]\n",
      "Validate (10044 / 10 Steps): 100%|██████████| 26/26 [00:37<00:00,  1.43s/it]9<00:23,  2.18it/s]\n",
      "Training (10100 / 18000 Steps) (loss=0.31218):  53%|█████▎    | 57/108 [01:16<10:03, 11.83s/it]"
     ]
    },
    {
     "name": "stdout",
     "output_type": "stream",
     "text": [
      "Model Was Not Saved ! Current Best Avg. Dice: 0.6229392290115356 Current Avg. Dice: 0.6169726848602295 Current Avg. tumor Dice: 0.6763054132461548 Current Avg. lymph Dice: 0.5552202463150024\n"
     ]
    },
    {
     "name": "stderr",
     "output_type": "stream",
     "text": [
      "Training (10151 / 18000 Steps) (loss=0.47233): 100%|██████████| 108/108 [01:41<00:00,  1.06it/s]\n",
      "Validate (10152 / 10 Steps): 100%|██████████| 26/26 [00:38<00:00,  1.46s/it]4<00:28,  2.09it/s]\n",
      "Training (10200 / 18000 Steps) (loss=0.45001):  45%|████▌     | 49/108 [01:13<12:18, 12.52s/it]"
     ]
    },
    {
     "name": "stdout",
     "output_type": "stream",
     "text": [
      "Model Was Saved ! Current Best Avg. Dice: 0.6242684721946716 Current Avg. Dice: 0.6242684721946716 Current Avg. tumor Dice: 0.6834778785705566 Current Avg. lymph Dice: 0.5616691708564758\n"
     ]
    },
    {
     "name": "stderr",
     "output_type": "stream",
     "text": [
      "Training (10259 / 18000 Steps) (loss=0.33524): 100%|██████████| 108/108 [01:42<00:00,  1.06it/s]\n",
      "Validate (10260 / 10 Steps): 100%|██████████| 26/26 [00:38<00:00,  1.48s/it]9<00:35,  1.94it/s]\n",
      "Training (10300 / 18000 Steps) (loss=0.27471):  38%|███▊      | 41/108 [01:07<13:27, 12.05s/it]"
     ]
    },
    {
     "name": "stdout",
     "output_type": "stream",
     "text": [
      "Model Was Not Saved ! Current Best Avg. Dice: 0.6242684721946716 Current Avg. Dice: 0.6175061464309692 Current Avg. tumor Dice: 0.6840259432792664 Current Avg. lymph Dice: 0.5480531454086304\n"
     ]
    },
    {
     "name": "stderr",
     "output_type": "stream",
     "text": [
      "Training (10367 / 18000 Steps) (loss=0.41184): 100%|██████████| 108/108 [01:40<00:00,  1.08it/s]\n",
      "Validate (10368 / 10 Steps): 100%|██████████| 26/26 [00:38<00:00,  1.49s/it]5<00:35,  2.15it/s]\n",
      "Training (10400 / 18000 Steps) (loss=0.60442):  31%|███       | 33/108 [01:04<15:28, 12.38s/it]"
     ]
    },
    {
     "name": "stdout",
     "output_type": "stream",
     "text": [
      "Model Was Not Saved ! Current Best Avg. Dice: 0.6242684721946716 Current Avg. Dice: 0.6185609698295593 Current Avg. tumor Dice: 0.6857107281684875 Current Avg. lymph Dice: 0.5489919185638428\n"
     ]
    },
    {
     "name": "stderr",
     "output_type": "stream",
     "text": [
      "Training (10475 / 18000 Steps) (loss=0.23640): 100%|██████████| 108/108 [01:41<00:00,  1.07it/s]\n",
      "Validate (10476 / 10 Steps): 100%|██████████| 26/26 [00:38<00:00,  1.48s/it]9<00:40,  2.10it/s]\n",
      "Training (10500 / 18000 Steps) (loss=0.48773):  23%|██▎       | 25/108 [00:58<16:40, 12.06s/it]"
     ]
    },
    {
     "name": "stdout",
     "output_type": "stream",
     "text": [
      "Model Was Not Saved ! Current Best Avg. Dice: 0.6242684721946716 Current Avg. Dice: 0.6213303208351135 Current Avg. tumor Dice: 0.6930940747261047 Current Avg. lymph Dice: 0.5441147685050964\n"
     ]
    },
    {
     "name": "stderr",
     "output_type": "stream",
     "text": [
      "Training (10583 / 18000 Steps) (loss=0.45050): 100%|██████████| 108/108 [01:40<00:00,  1.08it/s]\n",
      "Validate (10584 / 10 Steps): 100%|██████████| 26/26 [00:38<00:00,  1.48s/it]7<00:43,  2.11it/s]\n",
      "Training (10600 / 18000 Steps) (loss=0.46323):  16%|█▌        | 17/108 [00:55<18:19, 12.08s/it]"
     ]
    },
    {
     "name": "stdout",
     "output_type": "stream",
     "text": [
      "Model Was Not Saved ! Current Best Avg. Dice: 0.6242684721946716 Current Avg. Dice: 0.600758969783783 Current Avg. tumor Dice: 0.65700364112854 Current Avg. lymph Dice: 0.5440831780433655\n"
     ]
    },
    {
     "name": "stderr",
     "output_type": "stream",
     "text": [
      "Training (10691 / 18000 Steps) (loss=0.48197): 100%|██████████| 108/108 [01:43<00:00,  1.04it/s]\n",
      "Validate (10692 / 10 Steps): 100%|██████████| 26/26 [00:38<00:00,  1.48s/it]<01:09,  1.44it/s]\n",
      "Training (10700 / 18000 Steps) (loss=0.51365):   8%|▊         | 9/108 [00:51<21:05, 12.78s/it]"
     ]
    },
    {
     "name": "stdout",
     "output_type": "stream",
     "text": [
      "Model Was Not Saved ! Current Best Avg. Dice: 0.6242684721946716 Current Avg. Dice: 0.6234068870544434 Current Avg. tumor Dice: 0.6883031725883484 Current Avg. lymph Dice: 0.5574957132339478\n"
     ]
    },
    {
     "name": "stderr",
     "output_type": "stream",
     "text": [
      "Training (10799 / 18000 Steps) (loss=0.48636): 100%|██████████| 108/108 [01:41<00:00,  1.07it/s]\n",
      "Validate (10800 / 10 Steps): 100%|██████████| 26/26 [00:38<00:00,  1.49s/it]<?, ?it/s]\n",
      "Training (10800 / 18000 Steps) (loss=0.35877):   1%|          | 1/108 [00:47<1:24:38, 47.46s/it]"
     ]
    },
    {
     "name": "stdout",
     "output_type": "stream",
     "text": [
      "Model Was Not Saved ! Current Best Avg. Dice: 0.6242684721946716 Current Avg. Dice: 0.5874136090278625 Current Avg. tumor Dice: 0.6511921882629395 Current Avg. lymph Dice: 0.5175846815109253\n"
     ]
    },
    {
     "name": "stderr",
     "output_type": "stream",
     "text": [
      "Validate (10800 / 10 Steps): 100%|██████████| 26/26 [00:37<00:00,  1.44s/it]39<00:04,  1.92it/s]\n",
      "Training (10900 / 18000 Steps) (loss=0.39708):  94%|█████████▎| 101/108 [02:17<01:22, 11.81s/it]"
     ]
    },
    {
     "name": "stdout",
     "output_type": "stream",
     "text": [
      "Model Was Not Saved ! Current Best Avg. Dice: 0.6242684721946716 Current Avg. Dice: 0.6192938685417175 Current Avg. tumor Dice: 0.6881728768348694 Current Avg. lymph Dice: 0.5475313663482666\n"
     ]
    },
    {
     "name": "stderr",
     "output_type": "stream",
     "text": [
      "Training (10907 / 18000 Steps) (loss=0.45420): 100%|██████████| 108/108 [02:20<00:00,  1.30s/it]\n",
      "Validate (10908 / 10 Steps): 100%|██████████| 26/26 [00:37<00:00,  1.46s/it]6<00:09,  1.68it/s]\n",
      "Training (11000 / 18000 Steps) (loss=0.38429):  86%|████████▌ | 93/108 [01:34<02:59, 11.94s/it]"
     ]
    },
    {
     "name": "stdout",
     "output_type": "stream",
     "text": [
      "Model Was Not Saved ! Current Best Avg. Dice: 0.6242684721946716 Current Avg. Dice: 0.6222653985023499 Current Avg. tumor Dice: 0.6899688839912415 Current Avg. lymph Dice: 0.5509239435195923\n"
     ]
    },
    {
     "name": "stderr",
     "output_type": "stream",
     "text": [
      "Training (11015 / 18000 Steps) (loss=0.51584): 100%|██████████| 108/108 [01:41<00:00,  1.07it/s]\n",
      "Validate (11016 / 10 Steps): 100%|██████████| 26/26 [00:37<00:00,  1.45s/it]3<00:13,  1.74it/s]\n",
      "Training (11100 / 18000 Steps) (loss=0.57718):  79%|███████▊  | 85/108 [01:30<04:32, 11.85s/it]"
     ]
    },
    {
     "name": "stdout",
     "output_type": "stream",
     "text": [
      "Model Was Not Saved ! Current Best Avg. Dice: 0.6242684721946716 Current Avg. Dice: 0.6069191694259644 Current Avg. tumor Dice: 0.663420557975769 Current Avg. lymph Dice: 0.5480301976203918\n"
     ]
    },
    {
     "name": "stderr",
     "output_type": "stream",
     "text": [
      "Training (11123 / 18000 Steps) (loss=0.34336): 100%|██████████| 108/108 [01:41<00:00,  1.07it/s]\n",
      "Validate (11124 / 10 Steps): 100%|██████████| 26/26 [00:37<00:00,  1.46s/it]9<00:21,  1.50it/s]\n",
      "Training (11200 / 18000 Steps) (loss=0.39507):  71%|███████▏  | 77/108 [01:27<06:11, 11.99s/it]"
     ]
    },
    {
     "name": "stdout",
     "output_type": "stream",
     "text": [
      "Model Was Not Saved ! Current Best Avg. Dice: 0.6242684721946716 Current Avg. Dice: 0.6124392747879028 Current Avg. tumor Dice: 0.6677091717720032 Current Avg. lymph Dice: 0.5550519227981567\n"
     ]
    },
    {
     "name": "stderr",
     "output_type": "stream",
     "text": [
      "Training (11231 / 18000 Steps) (loss=0.33950): 100%|██████████| 108/108 [01:40<00:00,  1.07it/s]\n",
      "Validate (11232 / 10 Steps): 100%|██████████| 26/26 [00:38<00:00,  1.48s/it]4<00:30,  1.33it/s]\n",
      "Training (11300 / 18000 Steps) (loss=0.54104):  64%|██████▍   | 69/108 [01:23<07:56, 12.22s/it]"
     ]
    },
    {
     "name": "stdout",
     "output_type": "stream",
     "text": [
      "Model Was Not Saved ! Current Best Avg. Dice: 0.6242684721946716 Current Avg. Dice: 0.6129412055015564 Current Avg. tumor Dice: 0.6732639074325562 Current Avg. lymph Dice: 0.5541526675224304\n"
     ]
    },
    {
     "name": "stderr",
     "output_type": "stream",
     "text": [
      "Training (11339 / 18000 Steps) (loss=0.34889): 100%|██████████| 108/108 [01:40<00:00,  1.07it/s]\n",
      "Validate (11340 / 10 Steps): 100%|██████████| 26/26 [00:38<00:00,  1.49s/it]8<00:33,  1.44it/s]\n",
      "Training (11400 / 18000 Steps) (loss=0.34812):  56%|█████▋    | 61/108 [01:17<09:36, 12.27s/it]"
     ]
    },
    {
     "name": "stdout",
     "output_type": "stream",
     "text": [
      "Model Was Not Saved ! Current Best Avg. Dice: 0.6242684721946716 Current Avg. Dice: 0.5960586667060852 Current Avg. tumor Dice: 0.6631827354431152 Current Avg. lymph Dice: 0.5249962210655212\n"
     ]
    },
    {
     "name": "stderr",
     "output_type": "stream",
     "text": [
      "Training (11447 / 18000 Steps) (loss=0.34765): 100%|██████████| 108/108 [01:38<00:00,  1.09it/s]\n",
      "Validate (11448 / 10 Steps): 100%|██████████| 26/26 [00:37<00:00,  1.44s/it]4<00:28,  1.95it/s]\n",
      "Training (11500 / 18000 Steps) (loss=0.37422):  49%|████▉     | 53/108 [01:11<10:43, 11.71s/it]"
     ]
    },
    {
     "name": "stdout",
     "output_type": "stream",
     "text": [
      "Model Was Not Saved ! Current Best Avg. Dice: 0.6242684721946716 Current Avg. Dice: 0.5690462589263916 Current Avg. tumor Dice: 0.6424325704574585 Current Avg. lymph Dice: 0.4897558093070984\n"
     ]
    },
    {
     "name": "stderr",
     "output_type": "stream",
     "text": [
      "Training (11555 / 18000 Steps) (loss=0.35461): 100%|██████████| 108/108 [01:35<00:00,  1.13it/s]\n",
      "Validate (11556 / 10 Steps): 100%|██████████| 26/26 [00:37<00:00,  1.44s/it]0<00:34,  1.85it/s]\n",
      "Training (11600 / 18000 Steps) (loss=0.28958):  42%|████▏     | 45/108 [01:08<12:44, 12.13s/it]"
     ]
    },
    {
     "name": "stdout",
     "output_type": "stream",
     "text": [
      "Model Was Saved ! Current Best Avg. Dice: 0.6246364712715149 Current Avg. Dice: 0.6246364712715149 Current Avg. tumor Dice: 0.6886829137802124 Current Avg. lymph Dice: 0.5554358959197998\n"
     ]
    },
    {
     "name": "stderr",
     "output_type": "stream",
     "text": [
      "Training (11663 / 18000 Steps) (loss=0.46050): 100%|██████████| 108/108 [01:37<00:00,  1.11it/s]\n",
      "Validate (11664 / 10 Steps): 100%|██████████| 26/26 [00:37<00:00,  1.43s/it]5<00:36,  1.98it/s]\n",
      "Training (11700 / 18000 Steps) (loss=0.48316):  34%|███▍      | 37/108 [01:02<13:48, 11.67s/it]"
     ]
    },
    {
     "name": "stdout",
     "output_type": "stream",
     "text": [
      "Model Was Not Saved ! Current Best Avg. Dice: 0.6246364712715149 Current Avg. Dice: 0.6153891086578369 Current Avg. tumor Dice: 0.6838350296020508 Current Avg. lymph Dice: 0.5415215492248535\n"
     ]
    },
    {
     "name": "stderr",
     "output_type": "stream",
     "text": [
      "Training (11771 / 18000 Steps) (loss=0.38131): 100%|██████████| 108/108 [01:35<00:00,  1.13it/s]\n",
      "Validate (11772 / 10 Steps): 100%|██████████| 26/26 [00:37<00:00,  1.44s/it]0<00:40,  2.00it/s]\n",
      "Training (11800 / 18000 Steps) (loss=0.49020):  27%|██▋       | 29/108 [00:58<15:29, 11.76s/it]"
     ]
    },
    {
     "name": "stdout",
     "output_type": "stream",
     "text": [
      "Model Was Not Saved ! Current Best Avg. Dice: 0.6246364712715149 Current Avg. Dice: 0.6055129766464233 Current Avg. tumor Dice: 0.675791323184967 Current Avg. lymph Dice: 0.5293822288513184\n"
     ]
    },
    {
     "name": "stderr",
     "output_type": "stream",
     "text": [
      "Training (11879 / 18000 Steps) (loss=0.22471): 100%|██████████| 108/108 [01:35<00:00,  1.13it/s]\n",
      "Validate (11880 / 10 Steps): 100%|██████████| 26/26 [00:38<00:00,  1.47s/it]6<00:48,  1.80it/s]\n",
      "Training (11900 / 18000 Steps) (loss=0.29855):  19%|█▉        | 21/108 [00:55<17:21, 11.97s/it]"
     ]
    },
    {
     "name": "stdout",
     "output_type": "stream",
     "text": [
      "Model Was Not Saved ! Current Best Avg. Dice: 0.6246364712715149 Current Avg. Dice: 0.6241047382354736 Current Avg. tumor Dice: 0.6871386766433716 Current Avg. lymph Dice: 0.5605132579803467\n"
     ]
    },
    {
     "name": "stderr",
     "output_type": "stream",
     "text": [
      "Training (11987 / 18000 Steps) (loss=0.47620): 100%|██████████| 108/108 [01:37<00:00,  1.11it/s]\n",
      "Validate (11988 / 10 Steps): 100%|██████████| 26/26 [00:36<00:00,  1.42s/it]2<00:51,  1.87it/s]\n",
      "Training (12000 / 18000 Steps) (loss=0.46029):  12%|█▏        | 13/108 [00:49<18:33, 11.73s/it]"
     ]
    },
    {
     "name": "stdout",
     "output_type": "stream",
     "text": [
      "Model Was Not Saved ! Current Best Avg. Dice: 0.6246364712715149 Current Avg. Dice: 0.6226025819778442 Current Avg. tumor Dice: 0.6891784071922302 Current Avg. lymph Dice: 0.5545614361763\n"
     ]
    },
    {
     "name": "stderr",
     "output_type": "stream",
     "text": [
      "Training (12095 / 18000 Steps) (loss=0.31847): 100%|██████████| 108/108 [01:34<00:00,  1.15it/s]\n",
      "Validate (12096 / 10 Steps): 100%|██████████| 26/26 [00:37<00:00,  1.45s/it]<02:55,  1.69s/it]\n",
      "Training (12100 / 18000 Steps) (loss=0.31982):   5%|▍         | 5/108 [00:47<25:25, 14.82s/it]"
     ]
    },
    {
     "name": "stdout",
     "output_type": "stream",
     "text": [
      "Model Was Not Saved ! Current Best Avg. Dice: 0.6246364712715149 Current Avg. Dice: 0.6221240758895874 Current Avg. tumor Dice: 0.6898816227912903 Current Avg. lymph Dice: 0.5492134690284729\n"
     ]
    },
    {
     "name": "stderr",
     "output_type": "stream",
     "text": [
      "Validate (12096 / 10 Steps): 100%|██████████| 26/26 [00:36<00:00,  1.41s/it]35<00:01,  2.29it/s]\n",
      "Training (12200 / 18000 Steps) (loss=0.45850):  97%|█████████▋| 105/108 [02:12<00:34, 11.64s/it]"
     ]
    },
    {
     "name": "stdout",
     "output_type": "stream",
     "text": [
      "Model Was Saved ! Current Best Avg. Dice: 0.6287205815315247 Current Avg. Dice: 0.6287205815315247 Current Avg. tumor Dice: 0.6962745785713196 Current Avg. lymph Dice: 0.5560007095336914\n"
     ]
    },
    {
     "name": "stderr",
     "output_type": "stream",
     "text": [
      "Training (12203 / 18000 Steps) (loss=0.44830): 100%|██████████| 108/108 [02:14<00:00,  1.24s/it]\n",
      "Validate (12204 / 10 Steps): 100%|██████████| 26/26 [00:36<00:00,  1.42s/it]4<00:05,  2.33it/s]\n",
      "Training (12300 / 18000 Steps) (loss=0.37642):  90%|████████▉ | 97/108 [01:31<02:07, 11.56s/it]"
     ]
    },
    {
     "name": "stdout",
     "output_type": "stream",
     "text": [
      "Model Was Not Saved ! Current Best Avg. Dice: 0.6287205815315247 Current Avg. Dice: 0.6100116968154907 Current Avg. tumor Dice: 0.6735690832138062 Current Avg. lymph Dice: 0.5451511144638062\n"
     ]
    },
    {
     "name": "stderr",
     "output_type": "stream",
     "text": [
      "Training (12311 / 18000 Steps) (loss=0.45651): 100%|██████████| 108/108 [01:36<00:00,  1.12it/s]\n",
      "Validate (12312 / 10 Steps): 100%|██████████| 26/26 [00:37<00:00,  1.44s/it]2<00:08,  2.25it/s]\n",
      "Training (12400 / 18000 Steps) (loss=0.52458):  82%|████████▏ | 89/108 [01:30<03:46, 11.90s/it]"
     ]
    },
    {
     "name": "stdout",
     "output_type": "stream",
     "text": [
      "Model Was Not Saved ! Current Best Avg. Dice: 0.6287205815315247 Current Avg. Dice: 0.6217406988143921 Current Avg. tumor Dice: 0.6886250972747803 Current Avg. lymph Dice: 0.5534685850143433\n"
     ]
    },
    {
     "name": "stderr",
     "output_type": "stream",
     "text": [
      "Training (12419 / 18000 Steps) (loss=0.50753): 100%|██████████| 108/108 [01:38<00:00,  1.10it/s]\n",
      "Validate (12420 / 10 Steps): 100%|██████████| 26/26 [00:37<00:00,  1.43s/it]9<00:12,  2.29it/s]\n",
      "Training (12500 / 18000 Steps) (loss=0.58358):  75%|███████▌  | 81/108 [01:27<05:19, 11.84s/it]"
     ]
    },
    {
     "name": "stdout",
     "output_type": "stream",
     "text": [
      "Model Was Not Saved ! Current Best Avg. Dice: 0.6287205815315247 Current Avg. Dice: 0.6208216547966003 Current Avg. tumor Dice: 0.6850085258483887 Current Avg. lymph Dice: 0.5534403324127197\n"
     ]
    },
    {
     "name": "stderr",
     "output_type": "stream",
     "text": [
      "Training (12527 / 18000 Steps) (loss=0.50546): 100%|██████████| 108/108 [01:38<00:00,  1.10it/s]\n",
      "Validate (12528 / 10 Steps): 100%|██████████| 26/26 [00:37<00:00,  1.45s/it]4<00:15,  2.31it/s]\n",
      "Training (12600 / 18000 Steps) (loss=0.43503):  68%|██████▊   | 73/108 [01:22<07:08, 12.23s/it]"
     ]
    },
    {
     "name": "stdout",
     "output_type": "stream",
     "text": [
      "Model Was Not Saved ! Current Best Avg. Dice: 0.6287205815315247 Current Avg. Dice: 0.6218422055244446 Current Avg. tumor Dice: 0.6839156746864319 Current Avg. lymph Dice: 0.5556831955909729\n"
     ]
    },
    {
     "name": "stderr",
     "output_type": "stream",
     "text": [
      "Training (12635 / 18000 Steps) (loss=0.37101): 100%|██████████| 108/108 [01:37<00:00,  1.11it/s]\n",
      "Validate (12636 / 10 Steps): 100%|██████████| 26/26 [00:37<00:00,  1.45s/it]0<00:19,  2.23it/s]\n",
      "Training (12700 / 18000 Steps) (loss=0.28056):  60%|██████    | 65/108 [01:18<08:35, 11.98s/it]"
     ]
    },
    {
     "name": "stdout",
     "output_type": "stream",
     "text": [
      "Model Was Not Saved ! Current Best Avg. Dice: 0.6287205815315247 Current Avg. Dice: 0.6178841590881348 Current Avg. tumor Dice: 0.6841899752616882 Current Avg. lymph Dice: 0.5474628210067749\n"
     ]
    },
    {
     "name": "stderr",
     "output_type": "stream",
     "text": [
      "Training (12743 / 18000 Steps) (loss=0.44489): 100%|██████████| 108/108 [01:37<00:00,  1.11it/s]\n",
      "Validate (12744 / 10 Steps): 100%|██████████| 26/26 [00:36<00:00,  1.40s/it]5<00:23,  2.21it/s]\n",
      "Training (12800 / 18000 Steps) (loss=0.35675):  53%|█████▎    | 57/108 [01:12<09:43, 11.43s/it]"
     ]
    },
    {
     "name": "stdout",
     "output_type": "stream",
     "text": [
      "Model Was Not Saved ! Current Best Avg. Dice: 0.6287205815315247 Current Avg. Dice: 0.6264234781265259 Current Avg. tumor Dice: 0.6888465881347656 Current Avg. lymph Dice: 0.5580005049705505\n"
     ]
    },
    {
     "name": "stderr",
     "output_type": "stream",
     "text": [
      "Training (12851 / 18000 Steps) (loss=0.29132): 100%|██████████| 108/108 [01:35<00:00,  1.13it/s]\n",
      "Validate (12852 / 10 Steps): 100%|██████████| 26/26 [00:37<00:00,  1.45s/it]0<00:28,  2.11it/s]\n",
      "Training (12900 / 18000 Steps) (loss=0.47159):  45%|████▌     | 49/108 [01:08<11:35, 11.78s/it]"
     ]
    },
    {
     "name": "stdout",
     "output_type": "stream",
     "text": [
      "Model Was Not Saved ! Current Best Avg. Dice: 0.6287205815315247 Current Avg. Dice: 0.6280816793441772 Current Avg. tumor Dice: 0.6898146867752075 Current Avg. lymph Dice: 0.5672690272331238\n"
     ]
    },
    {
     "name": "stderr",
     "output_type": "stream",
     "text": [
      "Training (12959 / 18000 Steps) (loss=0.48560): 100%|██████████| 108/108 [01:35<00:00,  1.13it/s]\n",
      "Validate (12960 / 10 Steps): 100%|██████████| 26/26 [00:37<00:00,  1.45s/it]7<00:30,  2.22it/s]\n",
      "Training (13000 / 18000 Steps) (loss=0.53779):  38%|███▊      | 41/108 [01:05<13:07, 11.76s/it]"
     ]
    },
    {
     "name": "stdout",
     "output_type": "stream",
     "text": [
      "Model Was Not Saved ! Current Best Avg. Dice: 0.6287205815315247 Current Avg. Dice: 0.620798647403717 Current Avg. tumor Dice: 0.6849388480186462 Current Avg. lymph Dice: 0.5529561638832092\n"
     ]
    },
    {
     "name": "stderr",
     "output_type": "stream",
     "text": [
      "Training (13067 / 18000 Steps) (loss=0.43402): 100%|██████████| 108/108 [01:36<00:00,  1.12it/s]\n",
      "Validate (13068 / 10 Steps): 100%|██████████| 26/26 [00:37<00:00,  1.46s/it]1<00:32,  2.32it/s]\n",
      "Training (13100 / 18000 Steps) (loss=0.36118):  31%|███       | 33/108 [00:59<14:47, 11.83s/it]"
     ]
    },
    {
     "name": "stdout",
     "output_type": "stream",
     "text": [
      "Model Was Not Saved ! Current Best Avg. Dice: 0.6287205815315247 Current Avg. Dice: 0.6256076097488403 Current Avg. tumor Dice: 0.6952534914016724 Current Avg. lymph Dice: 0.5506218671798706\n"
     ]
    },
    {
     "name": "stderr",
     "output_type": "stream",
     "text": [
      "Training (13175 / 18000 Steps) (loss=0.49466): 100%|██████████| 108/108 [01:34<00:00,  1.15it/s]\n",
      "Validate (13176 / 10 Steps): 100%|██████████| 26/26 [00:37<00:00,  1.43s/it]0<00:39,  2.13it/s]\n",
      "Training (13200 / 18000 Steps) (loss=0.34773):  23%|██▎       | 25/108 [00:57<16:32, 11.96s/it]"
     ]
    },
    {
     "name": "stdout",
     "output_type": "stream",
     "text": [
      "Model Was Not Saved ! Current Best Avg. Dice: 0.6287205815315247 Current Avg. Dice: 0.6197390556335449 Current Avg. tumor Dice: 0.684744119644165 Current Avg. lymph Dice: 0.5519179701805115\n"
     ]
    },
    {
     "name": "stderr",
     "output_type": "stream",
     "text": [
      "Training (13283 / 18000 Steps) (loss=0.52665): 100%|██████████| 108/108 [01:37<00:00,  1.11it/s]\n",
      "Validate (13284 / 10 Steps): 100%|██████████| 26/26 [00:37<00:00,  1.43s/it]5<00:43,  2.10it/s]\n",
      "Training (13300 / 18000 Steps) (loss=0.42297):  16%|█▌        | 17/108 [00:52<17:41, 11.67s/it]"
     ]
    },
    {
     "name": "stdout",
     "output_type": "stream",
     "text": [
      "Model Was Not Saved ! Current Best Avg. Dice: 0.6287205815315247 Current Avg. Dice: 0.613848865032196 Current Avg. tumor Dice: 0.6805827617645264 Current Avg. lymph Dice: 0.544205367565155\n"
     ]
    },
    {
     "name": "stderr",
     "output_type": "stream",
     "text": [
      "Training (13391 / 18000 Steps) (loss=0.43333): 100%|██████████| 108/108 [01:35<00:00,  1.13it/s]\n",
      "Validate (13392 / 10 Steps): 100%|██████████| 26/26 [00:36<00:00,  1.41s/it]<01:01,  1.63it/s]\n",
      "Training (13400 / 18000 Steps) (loss=0.47803):   8%|▊         | 9/108 [00:49<20:44, 12.57s/it]"
     ]
    },
    {
     "name": "stdout",
     "output_type": "stream",
     "text": [
      "Model Was Not Saved ! Current Best Avg. Dice: 0.6287205815315247 Current Avg. Dice: 0.6195924282073975 Current Avg. tumor Dice: 0.6790120005607605 Current Avg. lymph Dice: 0.5585631728172302\n"
     ]
    },
    {
     "name": "stderr",
     "output_type": "stream",
     "text": [
      "Training (13499 / 18000 Steps) (loss=0.44417): 100%|██████████| 108/108 [01:36<00:00,  1.12it/s]\n",
      "Validate (13500 / 10 Steps): 100%|██████████| 26/26 [00:37<00:00,  1.45s/it]<?, ?it/s]\n",
      "Training (13500 / 18000 Steps) (loss=0.34461):   1%|          | 1/108 [00:43<1:17:52, 43.66s/it]"
     ]
    },
    {
     "name": "stdout",
     "output_type": "stream",
     "text": [
      "Model Was Not Saved ! Current Best Avg. Dice: 0.6287205815315247 Current Avg. Dice: 0.6262006759643555 Current Avg. tumor Dice: 0.6937025189399719 Current Avg. lymph Dice: 0.5543266534805298\n"
     ]
    },
    {
     "name": "stderr",
     "output_type": "stream",
     "text": [
      "Validate (13500 / 10 Steps): 100%|██████████| 26/26 [00:37<00:00,  1.43s/it]32<00:03,  2.10it/s]\n",
      "Training (13600 / 18000 Steps) (loss=0.31882):  94%|█████████▎| 101/108 [02:09<01:21, 11.62s/it]"
     ]
    },
    {
     "name": "stdout",
     "output_type": "stream",
     "text": [
      "Model Was Not Saved ! Current Best Avg. Dice: 0.6287205815315247 Current Avg. Dice: 0.6207181811332703 Current Avg. tumor Dice: 0.6898632645606995 Current Avg. lymph Dice: 0.5464537739753723\n"
     ]
    },
    {
     "name": "stderr",
     "output_type": "stream",
     "text": [
      "Training (13607 / 18000 Steps) (loss=0.40491): 100%|██████████| 108/108 [02:12<00:00,  1.23s/it]\n",
      "Validate (13608 / 10 Steps): 100%|██████████| 26/26 [00:37<00:00,  1.43s/it]4<00:08,  1.85it/s]\n",
      "Training (13700 / 18000 Steps) (loss=0.36638):  86%|████████▌ | 93/108 [01:31<02:55, 11.68s/it]"
     ]
    },
    {
     "name": "stdout",
     "output_type": "stream",
     "text": [
      "Model Was Not Saved ! Current Best Avg. Dice: 0.6287205815315247 Current Avg. Dice: 0.6262063980102539 Current Avg. tumor Dice: 0.6902216672897339 Current Avg. lymph Dice: 0.5579286813735962\n"
     ]
    },
    {
     "name": "stderr",
     "output_type": "stream",
     "text": [
      "Training (13715 / 18000 Steps) (loss=0.50644): 100%|██████████| 108/108 [01:38<00:00,  1.10it/s]\n",
      "Validate (13716 / 10 Steps): 100%|██████████| 26/26 [00:37<00:00,  1.44s/it]1<00:11,  2.15it/s]\n",
      "Training (13800 / 18000 Steps) (loss=0.41205):  79%|███████▊  | 85/108 [01:29<04:28, 11.69s/it]"
     ]
    },
    {
     "name": "stdout",
     "output_type": "stream",
     "text": [
      "Model Was Not Saved ! Current Best Avg. Dice: 0.6287205815315247 Current Avg. Dice: 0.6229125261306763 Current Avg. tumor Dice: 0.6934266686439514 Current Avg. lymph Dice: 0.5478079319000244\n"
     ]
    },
    {
     "name": "stderr",
     "output_type": "stream",
     "text": [
      "Training (13823 / 18000 Steps) (loss=0.40906): 100%|██████████| 108/108 [01:39<00:00,  1.09it/s]\n",
      "Validate (13824 / 10 Steps): 100%|██████████| 26/26 [00:37<00:00,  1.44s/it]6<00:18,  1.73it/s]\n",
      "Training (13900 / 18000 Steps) (loss=0.48903):  71%|███████▏  | 77/108 [01:24<06:06, 11.82s/it]"
     ]
    },
    {
     "name": "stdout",
     "output_type": "stream",
     "text": [
      "Model Was Not Saved ! Current Best Avg. Dice: 0.6287205815315247 Current Avg. Dice: 0.6126371622085571 Current Avg. tumor Dice: 0.6831758618354797 Current Avg. lymph Dice: 0.537438690662384\n"
     ]
    },
    {
     "name": "stderr",
     "output_type": "stream",
     "text": [
      "Training (13931 / 18000 Steps) (loss=0.38796): 100%|██████████| 108/108 [01:37<00:00,  1.10it/s]\n",
      "Validate (13932 / 10 Steps): 100%|██████████| 26/26 [00:36<00:00,  1.42s/it]2<00:27,  1.45it/s]\n",
      "Training (14000 / 18000 Steps) (loss=0.37817):  64%|██████▍   | 69/108 [01:19<07:37, 11.73s/it]"
     ]
    },
    {
     "name": "stdout",
     "output_type": "stream",
     "text": [
      "Model Was Not Saved ! Current Best Avg. Dice: 0.6287205815315247 Current Avg. Dice: 0.6131983995437622 Current Avg. tumor Dice: 0.6763070225715637 Current Avg. lymph Dice: 0.5453284978866577\n"
     ]
    },
    {
     "name": "stderr",
     "output_type": "stream",
     "text": [
      "Training (14039 / 18000 Steps) (loss=0.44884): 100%|██████████| 108/108 [01:36<00:00,  1.12it/s]\n",
      "Validate (14040 / 10 Steps): 100%|██████████| 26/26 [00:37<00:00,  1.43s/it]8<00:26,  1.83it/s]\n",
      "Training (14100 / 18000 Steps) (loss=0.45821):  56%|█████▋    | 61/108 [01:15<09:10, 11.72s/it]"
     ]
    },
    {
     "name": "stdout",
     "output_type": "stream",
     "text": [
      "Model Was Not Saved ! Current Best Avg. Dice: 0.6287205815315247 Current Avg. Dice: 0.625190258026123 Current Avg. tumor Dice: 0.6929526329040527 Current Avg. lymph Dice: 0.5499233603477478\n"
     ]
    },
    {
     "name": "stderr",
     "output_type": "stream",
     "text": [
      "Training (14147 / 18000 Steps) (loss=0.39423): 100%|██████████| 108/108 [01:36<00:00,  1.12it/s]\n",
      "Validate (14148 / 10 Steps): 100%|██████████| 26/26 [00:37<00:00,  1.45s/it]4<00:27,  2.02it/s]\n",
      "Training (14200 / 18000 Steps) (loss=0.51717):  49%|████▉     | 53/108 [01:11<10:47, 11.78s/it]"
     ]
    },
    {
     "name": "stdout",
     "output_type": "stream",
     "text": [
      "Model Was Not Saved ! Current Best Avg. Dice: 0.6287205815315247 Current Avg. Dice: 0.6195944547653198 Current Avg. tumor Dice: 0.6810770034790039 Current Avg. lymph Dice: 0.5504525303840637\n"
     ]
    },
    {
     "name": "stderr",
     "output_type": "stream",
     "text": [
      "Training (14255 / 18000 Steps) (loss=0.35519): 100%|██████████| 108/108 [01:36<00:00,  1.12it/s]\n",
      "Validate (14256 / 10 Steps): 100%|██████████| 26/26 [00:37<00:00,  1.45s/it]8<00:30,  2.11it/s]\n",
      "Training (14300 / 18000 Steps) (loss=0.42778):  42%|████▏     | 45/108 [01:06<12:20, 11.76s/it]"
     ]
    },
    {
     "name": "stdout",
     "output_type": "stream",
     "text": [
      "Model Was Not Saved ! Current Best Avg. Dice: 0.6287205815315247 Current Avg. Dice: 0.6258746981620789 Current Avg. tumor Dice: 0.6930984854698181 Current Avg. lymph Dice: 0.5542865991592407\n"
     ]
    },
    {
     "name": "stderr",
     "output_type": "stream",
     "text": [
      "Training (14363 / 18000 Steps) (loss=0.45147): 100%|██████████| 108/108 [01:35<00:00,  1.13it/s]\n",
      "Validate (14364 / 10 Steps): 100%|██████████| 26/26 [00:37<00:00,  1.45s/it]4<00:37,  1.90it/s]\n",
      "Training (14400 / 18000 Steps) (loss=0.33193):  34%|███▍      | 37/108 [01:02<13:58, 11.81s/it]"
     ]
    },
    {
     "name": "stdout",
     "output_type": "stream",
     "text": [
      "Model Was Not Saved ! Current Best Avg. Dice: 0.6287205815315247 Current Avg. Dice: 0.6249711513519287 Current Avg. tumor Dice: 0.6867058873176575 Current Avg. lymph Dice: 0.5562288761138916\n"
     ]
    },
    {
     "name": "stderr",
     "output_type": "stream",
     "text": [
      "Training (14471 / 18000 Steps) (loss=0.25887): 100%|██████████| 108/108 [01:34<00:00,  1.14it/s]\n",
      "Validate (14472 / 10 Steps): 100%|██████████| 26/26 [00:37<00:00,  1.44s/it]0<00:38,  2.10it/s]\n",
      "Training (14500 / 18000 Steps) (loss=0.52417):  27%|██▋       | 29/108 [00:58<15:25, 11.71s/it]"
     ]
    },
    {
     "name": "stdout",
     "output_type": "stream",
     "text": [
      "Model Was Not Saved ! Current Best Avg. Dice: 0.6287205815315247 Current Avg. Dice: 0.6049153804779053 Current Avg. tumor Dice: 0.6525605916976929 Current Avg. lymph Dice: 0.5572752356529236\n"
     ]
    },
    {
     "name": "stderr",
     "output_type": "stream",
     "text": [
      "Training (14579 / 18000 Steps) (loss=0.26993): 100%|██████████| 108/108 [01:35<00:00,  1.13it/s]\n",
      "Validate (14580 / 10 Steps): 100%|██████████| 26/26 [00:36<00:00,  1.42s/it]7<00:38,  2.27it/s]\n",
      "Training (14600 / 18000 Steps) (loss=0.52852):  19%|█▉        | 21/108 [00:54<16:45, 11.56s/it]"
     ]
    },
    {
     "name": "stdout",
     "output_type": "stream",
     "text": [
      "Model Was Not Saved ! Current Best Avg. Dice: 0.6287205815315247 Current Avg. Dice: 0.6189286708831787 Current Avg. tumor Dice: 0.6737198829650879 Current Avg. lymph Dice: 0.5620889663696289\n"
     ]
    },
    {
     "name": "stderr",
     "output_type": "stream",
     "text": [
      "Training (14687 / 18000 Steps) (loss=0.31950): 100%|██████████| 108/108 [01:35<00:00,  1.13it/s]\n",
      "Validate (14688 / 10 Steps): 100%|██████████| 26/26 [00:37<00:00,  1.45s/it]3<00:51,  1.88it/s]\n",
      "Training (14700 / 18000 Steps) (loss=0.51565):  12%|█▏        | 13/108 [00:50<18:53, 11.93s/it]"
     ]
    },
    {
     "name": "stdout",
     "output_type": "stream",
     "text": [
      "Model Was Not Saved ! Current Best Avg. Dice: 0.6287205815315247 Current Avg. Dice: 0.6208791732788086 Current Avg. tumor Dice: 0.6923359036445618 Current Avg. lymph Dice: 0.5460060834884644\n"
     ]
    },
    {
     "name": "stderr",
     "output_type": "stream",
     "text": [
      "Training (14795 / 18000 Steps) (loss=0.51557): 100%|██████████| 108/108 [01:36<00:00,  1.12it/s]\n",
      "Validate (14796 / 10 Steps): 100%|██████████| 26/26 [00:37<00:00,  1.44s/it]<02:31,  1.46s/it]\n",
      "Training (14800 / 18000 Steps) (loss=0.53785):   5%|▍         | 5/108 [00:46<25:04, 14.61s/it]"
     ]
    },
    {
     "name": "stdout",
     "output_type": "stream",
     "text": [
      "Model Was Not Saved ! Current Best Avg. Dice: 0.6287205815315247 Current Avg. Dice: 0.626848578453064 Current Avg. tumor Dice: 0.6923630833625793 Current Avg. lymph Dice: 0.5567498803138733\n"
     ]
    },
    {
     "name": "stderr",
     "output_type": "stream",
     "text": [
      "Validate (14796 / 10 Steps): 100%|██████████| 26/26 [00:36<00:00,  1.40s/it]34<00:02,  1.97it/s]\n",
      "Training (14900 / 18000 Steps) (loss=0.35794):  97%|█████████▋| 105/108 [02:10<00:34, 11.42s/it]"
     ]
    },
    {
     "name": "stdout",
     "output_type": "stream",
     "text": [
      "Model Was Not Saved ! Current Best Avg. Dice: 0.6287205815315247 Current Avg. Dice: 0.6116935014724731 Current Avg. tumor Dice: 0.6647084355354309 Current Avg. lymph Dice: 0.5580901503562927\n"
     ]
    },
    {
     "name": "stderr",
     "output_type": "stream",
     "text": [
      "Training (14903 / 18000 Steps) (loss=0.37801): 100%|██████████| 108/108 [02:12<00:00,  1.22s/it]\n",
      "Validate (14904 / 10 Steps): 100%|██████████| 26/26 [00:36<00:00,  1.42s/it]5<00:05,  2.27it/s]\n",
      "Training (15000 / 18000 Steps) (loss=0.46080):  90%|████████▉ | 97/108 [01:33<02:10, 11.89s/it]"
     ]
    },
    {
     "name": "stdout",
     "output_type": "stream",
     "text": [
      "Model Was Saved ! Current Best Avg. Dice: 0.6308992505073547 Current Avg. Dice: 0.6308992505073547 Current Avg. tumor Dice: 0.6993868947029114 Current Avg. lymph Dice: 0.5588545203208923\n"
     ]
    },
    {
     "name": "stderr",
     "output_type": "stream",
     "text": [
      "Training (15011 / 18000 Steps) (loss=0.32554): 100%|██████████| 108/108 [01:38<00:00,  1.10it/s]\n",
      "Validate (15012 / 10 Steps): 100%|██████████| 26/26 [00:37<00:00,  1.45s/it]9<00:09,  2.01it/s]\n",
      "Training (15100 / 18000 Steps) (loss=0.34262):  82%|████████▏ | 89/108 [01:27<03:43, 11.77s/it]"
     ]
    },
    {
     "name": "stdout",
     "output_type": "stream",
     "text": [
      "Model Was Not Saved ! Current Best Avg. Dice: 0.6308992505073547 Current Avg. Dice: 0.6287524700164795 Current Avg. tumor Dice: 0.6929360032081604 Current Avg. lymph Dice: 0.5648908615112305\n"
     ]
    },
    {
     "name": "stderr",
     "output_type": "stream",
     "text": [
      "Training (15119 / 18000 Steps) (loss=0.36398): 100%|██████████| 108/108 [01:35<00:00,  1.13it/s]\n",
      "Validate (15120 / 10 Steps): 100%|██████████| 26/26 [00:37<00:00,  1.43s/it]7<00:12,  2.22it/s]\n",
      "Training (15200 / 18000 Steps) (loss=0.48426):  75%|███████▌  | 81/108 [01:24<05:19, 11.84s/it]"
     ]
    },
    {
     "name": "stdout",
     "output_type": "stream",
     "text": [
      "Model Was Not Saved ! Current Best Avg. Dice: 0.6308992505073547 Current Avg. Dice: 0.6165600419044495 Current Avg. tumor Dice: 0.6746261715888977 Current Avg. lymph Dice: 0.5595711469650269\n"
     ]
    },
    {
     "name": "stderr",
     "output_type": "stream",
     "text": [
      "Training (15227 / 18000 Steps) (loss=0.37003): 100%|██████████| 108/108 [01:36<00:00,  1.12it/s]\n",
      "Validate (15228 / 10 Steps): 100%|██████████| 26/26 [00:36<00:00,  1.39s/it]5<00:17,  2.01it/s]\n",
      "Training (15300 / 18000 Steps) (loss=0.59958):  68%|██████▊   | 73/108 [01:22<06:50, 11.72s/it]"
     ]
    },
    {
     "name": "stdout",
     "output_type": "stream",
     "text": [
      "Model Was Not Saved ! Current Best Avg. Dice: 0.6308992505073547 Current Avg. Dice: 0.6288371086120605 Current Avg. tumor Dice: 0.6949814558029175 Current Avg. lymph Dice: 0.5584436058998108\n"
     ]
    },
    {
     "name": "stderr",
     "output_type": "stream",
     "text": [
      "Training (15335 / 18000 Steps) (loss=0.43593): 100%|██████████| 108/108 [01:37<00:00,  1.11it/s]\n",
      "Validate (15336 / 10 Steps): 100%|██████████| 26/26 [00:36<00:00,  1.41s/it]8<00:21,  2.07it/s]\n",
      "Training (15400 / 18000 Steps) (loss=0.43757):  60%|██████    | 65/108 [01:15<08:15, 11.52s/it]"
     ]
    },
    {
     "name": "stdout",
     "output_type": "stream",
     "text": [
      "Model Was Not Saved ! Current Best Avg. Dice: 0.6308992505073547 Current Avg. Dice: 0.6307311058044434 Current Avg. tumor Dice: 0.697321355342865 Current Avg. lymph Dice: 0.5597420930862427\n"
     ]
    },
    {
     "name": "stderr",
     "output_type": "stream",
     "text": [
      "Training (15443 / 18000 Steps) (loss=0.32010): 100%|██████████| 108/108 [01:34<00:00,  1.15it/s]\n",
      "Validate (15444 / 10 Steps): 100%|██████████| 26/26 [00:37<00:00,  1.43s/it]4<00:24,  2.09it/s]\n",
      "Training (15500 / 18000 Steps) (loss=0.39893):  53%|█████▎    | 57/108 [01:12<09:55, 11.68s/it]"
     ]
    },
    {
     "name": "stdout",
     "output_type": "stream",
     "text": [
      "Model Was Not Saved ! Current Best Avg. Dice: 0.6308992505073547 Current Avg. Dice: 0.6300163865089417 Current Avg. tumor Dice: 0.6938559412956238 Current Avg. lymph Dice: 0.5629704594612122\n"
     ]
    },
    {
     "name": "stderr",
     "output_type": "stream",
     "text": [
      "Training (15551 / 18000 Steps) (loss=0.50822): 100%|██████████| 108/108 [01:34<00:00,  1.14it/s]\n",
      "Validate (15552 / 10 Steps): 100%|██████████| 26/26 [00:36<00:00,  1.42s/it]2<00:27,  2.20it/s]\n",
      "Training (15600 / 18000 Steps) (loss=0.43583):  45%|████▌     | 49/108 [01:09<11:45, 11.95s/it]"
     ]
    },
    {
     "name": "stdout",
     "output_type": "stream",
     "text": [
      "Model Was Not Saved ! Current Best Avg. Dice: 0.6308992505073547 Current Avg. Dice: 0.6140292882919312 Current Avg. tumor Dice: 0.6842852830886841 Current Avg. lymph Dice: 0.5385947227478027\n"
     ]
    },
    {
     "name": "stderr",
     "output_type": "stream",
     "text": [
      "Training (15659 / 18000 Steps) (loss=0.42614): 100%|██████████| 108/108 [01:36<00:00,  1.12it/s]\n",
      "Validate (15660 / 10 Steps): 100%|██████████| 26/26 [00:37<00:00,  1.43s/it]7<00:31,  2.19it/s]\n",
      "Training (15700 / 18000 Steps) (loss=0.43322):  38%|███▊      | 41/108 [01:04<13:10, 11.80s/it]"
     ]
    },
    {
     "name": "stdout",
     "output_type": "stream",
     "text": [
      "Model Was Not Saved ! Current Best Avg. Dice: 0.6308992505073547 Current Avg. Dice: 0.626253604888916 Current Avg. tumor Dice: 0.6918390393257141 Current Avg. lymph Dice: 0.5577247738838196\n"
     ]
    },
    {
     "name": "stderr",
     "output_type": "stream",
     "text": [
      "Training (15767 / 18000 Steps) (loss=0.54557): 100%|██████████| 108/108 [01:35<00:00,  1.13it/s]\n",
      "Validate (15768 / 10 Steps): 100%|██████████| 26/26 [00:37<00:00,  1.43s/it]2<00:35,  2.13it/s]\n",
      "Training (15800 / 18000 Steps) (loss=0.30536):  31%|███       | 33/108 [00:59<14:35, 11.67s/it]"
     ]
    },
    {
     "name": "stdout",
     "output_type": "stream",
     "text": [
      "Model Was Not Saved ! Current Best Avg. Dice: 0.6308992505073547 Current Avg. Dice: 0.6278325319290161 Current Avg. tumor Dice: 0.6914929151535034 Current Avg. lymph Dice: 0.5620526075363159\n"
     ]
    },
    {
     "name": "stderr",
     "output_type": "stream",
     "text": [
      "Training (15875 / 18000 Steps) (loss=0.42232): 100%|██████████| 108/108 [01:36<00:00,  1.12it/s]\n",
      "Validate (15876 / 10 Steps): 100%|██████████| 26/26 [00:37<00:00,  1.44s/it]9<00:37,  2.27it/s]\n",
      "Training (15900 / 18000 Steps) (loss=0.36021):  23%|██▎       | 25/108 [00:56<16:11, 11.70s/it]"
     ]
    },
    {
     "name": "stdout",
     "output_type": "stream",
     "text": [
      "Model Was Not Saved ! Current Best Avg. Dice: 0.6308992505073547 Current Avg. Dice: 0.6229095458984375 Current Avg. tumor Dice: 0.6877086758613586 Current Avg. lymph Dice: 0.5604878067970276\n"
     ]
    },
    {
     "name": "stderr",
     "output_type": "stream",
     "text": [
      "Training (15983 / 18000 Steps) (loss=0.47611): 100%|██████████| 108/108 [01:36<00:00,  1.12it/s]\n",
      "Validate (15984 / 10 Steps): 100%|██████████| 26/26 [00:37<00:00,  1.44s/it]4<00:48,  1.89it/s]\n",
      "Training (16000 / 18000 Steps) (loss=0.41994):  16%|█▌        | 17/108 [00:52<17:49, 11.75s/it]"
     ]
    },
    {
     "name": "stdout",
     "output_type": "stream",
     "text": [
      "Model Was Not Saved ! Current Best Avg. Dice: 0.6308992505073547 Current Avg. Dice: 0.6172410845756531 Current Avg. tumor Dice: 0.6777417659759521 Current Avg. lymph Dice: 0.556175172328949\n"
     ]
    },
    {
     "name": "stderr",
     "output_type": "stream",
     "text": [
      "Training (16091 / 18000 Steps) (loss=0.28339): 100%|██████████| 108/108 [01:35<00:00,  1.13it/s]\n",
      "Validate (16092 / 10 Steps): 100%|██████████| 26/26 [00:37<00:00,  1.43s/it]<01:04,  1.54it/s]\n",
      "Training (16100 / 18000 Steps) (loss=0.50074):   8%|▊         | 9/108 [00:48<20:11, 12.24s/it]"
     ]
    },
    {
     "name": "stdout",
     "output_type": "stream",
     "text": [
      "Model Was Not Saved ! Current Best Avg. Dice: 0.6308992505073547 Current Avg. Dice: 0.6283433437347412 Current Avg. tumor Dice: 0.6848058700561523 Current Avg. lymph Dice: 0.5698353052139282\n"
     ]
    },
    {
     "name": "stderr",
     "output_type": "stream",
     "text": [
      "Training (16199 / 18000 Steps) (loss=0.42219): 100%|██████████| 108/108 [01:36<00:00,  1.12it/s]\n",
      "Validate (16200 / 10 Steps): 100%|██████████| 26/26 [00:37<00:00,  1.44s/it]<?, ?it/s]\n",
      "Training (16200 / 18000 Steps) (loss=0.37593):   1%|          | 1/108 [00:46<1:22:18, 46.15s/it]"
     ]
    },
    {
     "name": "stdout",
     "output_type": "stream",
     "text": [
      "Model Was Not Saved ! Current Best Avg. Dice: 0.6308992505073547 Current Avg. Dice: 0.622565507888794 Current Avg. tumor Dice: 0.6791494488716125 Current Avg. lymph Dice: 0.5650874376296997\n"
     ]
    },
    {
     "name": "stderr",
     "output_type": "stream",
     "text": [
      "Validate (16200 / 10 Steps): 100%|██████████| 26/26 [00:37<00:00,  1.43s/it]36<00:04,  1.92it/s]\n",
      "Training (16300 / 18000 Steps) (loss=0.36887):  94%|█████████▎| 101/108 [02:13<01:21, 11.66s/it]"
     ]
    },
    {
     "name": "stdout",
     "output_type": "stream",
     "text": [
      "Model Was Not Saved ! Current Best Avg. Dice: 0.6308992505073547 Current Avg. Dice: 0.6254615187644958 Current Avg. tumor Dice: 0.6896482706069946 Current Avg. lymph Dice: 0.5584267973899841\n"
     ]
    },
    {
     "name": "stderr",
     "output_type": "stream",
     "text": [
      "Training (16307 / 18000 Steps) (loss=0.43244): 100%|██████████| 108/108 [02:16<00:00,  1.27s/it]\n",
      "Validate (16308 / 10 Steps): 100%|██████████| 26/26 [00:36<00:00,  1.42s/it]3<00:10,  1.51it/s]\n",
      "Training (16400 / 18000 Steps) (loss=0.39774):  86%|████████▌ | 93/108 [01:30<02:55, 11.71s/it]"
     ]
    },
    {
     "name": "stdout",
     "output_type": "stream",
     "text": [
      "Model Was Not Saved ! Current Best Avg. Dice: 0.6308992505073547 Current Avg. Dice: 0.6293014883995056 Current Avg. tumor Dice: 0.6921664476394653 Current Avg. lymph Dice: 0.5631548762321472\n"
     ]
    },
    {
     "name": "stderr",
     "output_type": "stream",
     "text": [
      "Training (16415 / 18000 Steps) (loss=0.38878): 100%|██████████| 108/108 [01:37<00:00,  1.11it/s]\n",
      "Validate (16416 / 10 Steps): 100%|██████████| 26/26 [00:37<00:00,  1.45s/it]8<00:11,  2.07it/s]\n",
      "Training (16500 / 18000 Steps) (loss=0.30695):  79%|███████▊  | 85/108 [01:25<04:30, 11.78s/it]"
     ]
    },
    {
     "name": "stdout",
     "output_type": "stream",
     "text": [
      "Model Was Not Saved ! Current Best Avg. Dice: 0.6308992505073547 Current Avg. Dice: 0.6284934878349304 Current Avg. tumor Dice: 0.695578932762146 Current Avg. lymph Dice: 0.5570493936538696\n"
     ]
    },
    {
     "name": "stderr",
     "output_type": "stream",
     "text": [
      "Training (16523 / 18000 Steps) (loss=0.41056): 100%|██████████| 108/108 [01:35<00:00,  1.13it/s]\n",
      "Validate (16524 / 10 Steps): 100%|██████████| 26/26 [00:37<00:00,  1.44s/it]7<00:19,  1.61it/s]\n",
      "Training (16600 / 18000 Steps) (loss=0.48778):  71%|███████▏  | 77/108 [01:24<06:07, 11.84s/it]"
     ]
    },
    {
     "name": "stdout",
     "output_type": "stream",
     "text": [
      "Model Was Not Saved ! Current Best Avg. Dice: 0.6308992505073547 Current Avg. Dice: 0.6245347857475281 Current Avg. tumor Dice: 0.6927879452705383 Current Avg. lymph Dice: 0.5511938333511353\n"
     ]
    },
    {
     "name": "stderr",
     "output_type": "stream",
     "text": [
      "Training (16631 / 18000 Steps) (loss=0.55574): 100%|██████████| 108/108 [01:38<00:00,  1.10it/s]\n",
      "Validate (16632 / 10 Steps): 100%|██████████| 26/26 [00:37<00:00,  1.45s/it]0<00:20,  1.97it/s]\n",
      "Training (16700 / 18000 Steps) (loss=0.35106):  64%|██████▍   | 69/108 [01:18<07:40, 11.82s/it]"
     ]
    },
    {
     "name": "stdout",
     "output_type": "stream",
     "text": [
      "Model Was Not Saved ! Current Best Avg. Dice: 0.6308992505073547 Current Avg. Dice: 0.6195188164710999 Current Avg. tumor Dice: 0.6824316382408142 Current Avg. lymph Dice: 0.5553441643714905\n"
     ]
    },
    {
     "name": "stderr",
     "output_type": "stream",
     "text": [
      "Training (16739 / 18000 Steps) (loss=0.37791): 100%|██████████| 108/108 [01:35<00:00,  1.13it/s]\n",
      "Validate (16740 / 10 Steps): 100%|██████████| 26/26 [00:37<00:00,  1.44s/it]8<00:27,  1.75it/s]\n",
      "Training (16800 / 18000 Steps) (loss=0.29256):  56%|█████▋    | 61/108 [01:15<09:13, 11.78s/it]"
     ]
    },
    {
     "name": "stdout",
     "output_type": "stream",
     "text": [
      "Model Was Not Saved ! Current Best Avg. Dice: 0.6308992505073547 Current Avg. Dice: 0.630571186542511 Current Avg. tumor Dice: 0.6972790956497192 Current Avg. lymph Dice: 0.5621638298034668\n"
     ]
    },
    {
     "name": "stderr",
     "output_type": "stream",
     "text": [
      "Training (16847 / 18000 Steps) (loss=0.33706): 100%|██████████| 108/108 [01:36<00:00,  1.12it/s]\n",
      "Validate (16848 / 10 Steps): 100%|██████████| 26/26 [00:37<00:00,  1.46s/it]3<00:29,  1.92it/s]\n",
      "Training (16900 / 18000 Steps) (loss=0.62803):  49%|████▉     | 53/108 [01:11<10:53, 11.89s/it]"
     ]
    },
    {
     "name": "stdout",
     "output_type": "stream",
     "text": [
      "Model Was Not Saved ! Current Best Avg. Dice: 0.6308992505073547 Current Avg. Dice: 0.6252118945121765 Current Avg. tumor Dice: 0.6819578409194946 Current Avg. lymph Dice: 0.5665339827537537\n"
     ]
    },
    {
     "name": "stderr",
     "output_type": "stream",
     "text": [
      "Training (16955 / 18000 Steps) (loss=0.49101): 100%|██████████| 108/108 [01:35<00:00,  1.13it/s]\n",
      "Validate (16956 / 10 Steps): 100%|██████████| 26/26 [00:37<00:00,  1.46s/it]8<00:29,  2.16it/s]\n",
      "Training (17000 / 18000 Steps) (loss=0.47733):  42%|████▏     | 45/108 [01:06<12:26, 11.85s/it]"
     ]
    },
    {
     "name": "stdout",
     "output_type": "stream",
     "text": [
      "Model Was Not Saved ! Current Best Avg. Dice: 0.6308992505073547 Current Avg. Dice: 0.6305896639823914 Current Avg. tumor Dice: 0.6990731954574585 Current Avg. lymph Dice: 0.5580480098724365\n"
     ]
    },
    {
     "name": "stderr",
     "output_type": "stream",
     "text": [
      "Training (17063 / 18000 Steps) (loss=0.48027): 100%|██████████| 108/108 [01:35<00:00,  1.13it/s]\n",
      "Validate (17064 / 10 Steps): 100%|██████████| 26/26 [00:37<00:00,  1.43s/it]3<00:30,  2.32it/s]\n",
      "Training (17100 / 18000 Steps) (loss=0.37679):  34%|███▍      | 37/108 [01:01<14:00, 11.84s/it]"
     ]
    },
    {
     "name": "stdout",
     "output_type": "stream",
     "text": [
      "Model Was Saved ! Current Best Avg. Dice: 0.6319325566291809 Current Avg. Dice: 0.6319325566291809 Current Avg. tumor Dice: 0.6909534335136414 Current Avg. lymph Dice: 0.5720300674438477\n"
     ]
    },
    {
     "name": "stderr",
     "output_type": "stream",
     "text": [
      "Training (17171 / 18000 Steps) (loss=0.50505): 100%|██████████| 108/108 [01:34<00:00,  1.15it/s]\n",
      "Validate (17172 / 10 Steps): 100%|██████████| 26/26 [00:36<00:00,  1.42s/it]0<00:34,  2.32it/s]\n",
      "Training (17200 / 18000 Steps) (loss=0.43965):  27%|██▋       | 29/108 [00:57<15:09, 11.52s/it]"
     ]
    },
    {
     "name": "stdout",
     "output_type": "stream",
     "text": [
      "Model Was Not Saved ! Current Best Avg. Dice: 0.6319325566291809 Current Avg. Dice: 0.6215395927429199 Current Avg. tumor Dice: 0.6764097213745117 Current Avg. lymph Dice: 0.568987250328064\n"
     ]
    },
    {
     "name": "stderr",
     "output_type": "stream",
     "text": [
      "Training (17279 / 18000 Steps) (loss=0.45211): 100%|██████████| 108/108 [01:35<00:00,  1.13it/s]\n",
      "Validate (17280 / 10 Steps): 100%|██████████| 26/26 [00:36<00:00,  1.42s/it]7<00:43,  2.00it/s]\n",
      "Training (17300 / 18000 Steps) (loss=0.23444):  19%|█▉        | 21/108 [00:54<16:48, 11.59s/it]"
     ]
    },
    {
     "name": "stdout",
     "output_type": "stream",
     "text": [
      "Model Was Not Saved ! Current Best Avg. Dice: 0.6319325566291809 Current Avg. Dice: 0.626060962677002 Current Avg. tumor Dice: 0.6848083138465881 Current Avg. lymph Dice: 0.5609610080718994\n"
     ]
    },
    {
     "name": "stderr",
     "output_type": "stream",
     "text": [
      "Training (17387 / 18000 Steps) (loss=0.46850): 100%|██████████| 108/108 [01:35<00:00,  1.13it/s]\n",
      "Validate (17388 / 10 Steps): 100%|██████████| 26/26 [00:37<00:00,  1.43s/it]3<00:58,  1.64it/s]\n",
      "Training (17400 / 18000 Steps) (loss=0.41460):  12%|█▏        | 13/108 [00:50<18:46, 11.85s/it]"
     ]
    },
    {
     "name": "stdout",
     "output_type": "stream",
     "text": [
      "Model Was Not Saved ! Current Best Avg. Dice: 0.6319325566291809 Current Avg. Dice: 0.621805727481842 Current Avg. tumor Dice: 0.6808856129646301 Current Avg. lymph Dice: 0.5593809485435486\n"
     ]
    },
    {
     "name": "stderr",
     "output_type": "stream",
     "text": [
      "Training (17495 / 18000 Steps) (loss=0.53020): 100%|██████████| 108/108 [01:36<00:00,  1.12it/s]\n",
      "Validate (17496 / 10 Steps): 100%|██████████| 26/26 [00:37<00:00,  1.43s/it]<02:28,  1.43s/it]\n",
      "Training (17500 / 18000 Steps) (loss=0.37077):   5%|▍         | 5/108 [00:45<24:57, 14.54s/it]"
     ]
    },
    {
     "name": "stdout",
     "output_type": "stream",
     "text": [
      "Model Was Not Saved ! Current Best Avg. Dice: 0.6319325566291809 Current Avg. Dice: 0.6300439238548279 Current Avg. tumor Dice: 0.689176619052887 Current Avg. lymph Dice: 0.5683701634407043\n"
     ]
    },
    {
     "name": "stderr",
     "output_type": "stream",
     "text": [
      "Validate (17496 / 10 Steps): 100%|██████████| 26/26 [00:36<00:00,  1.42s/it]33<00:01,  2.18it/s]\n",
      "Training (17600 / 18000 Steps) (loss=0.29793):  97%|█████████▋| 105/108 [02:10<00:34, 11.55s/it]"
     ]
    },
    {
     "name": "stdout",
     "output_type": "stream",
     "text": [
      "Model Was Not Saved ! Current Best Avg. Dice: 0.6319325566291809 Current Avg. Dice: 0.6073208451271057 Current Avg. tumor Dice: 0.6611897945404053 Current Avg. lymph Dice: 0.552178680896759\n"
     ]
    },
    {
     "name": "stderr",
     "output_type": "stream",
     "text": [
      "Training (17603 / 18000 Steps) (loss=0.61599): 100%|██████████| 108/108 [02:11<00:00,  1.22s/it]\n",
      "Validate (17604 / 10 Steps): 100%|██████████| 26/26 [00:37<00:00,  1.43s/it]5<00:05,  2.34it/s]\n",
      "Training (17700 / 18000 Steps) (loss=0.33129):  90%|████████▉ | 97/108 [01:33<02:10, 11.84s/it]"
     ]
    },
    {
     "name": "stdout",
     "output_type": "stream",
     "text": [
      "Model Was Not Saved ! Current Best Avg. Dice: 0.6319325566291809 Current Avg. Dice: 0.6117873191833496 Current Avg. tumor Dice: 0.6741546392440796 Current Avg. lymph Dice: 0.5447887182235718\n"
     ]
    },
    {
     "name": "stderr",
     "output_type": "stream",
     "text": [
      "Training (17711 / 18000 Steps) (loss=0.49440): 100%|██████████| 108/108 [01:37<00:00,  1.10it/s]\n",
      "Validate (17712 / 10 Steps): 100%|██████████| 26/26 [00:36<00:00,  1.42s/it]2<00:08,  2.24it/s]\n",
      "Training (17800 / 18000 Steps) (loss=0.42954):  82%|████████▏ | 89/108 [01:29<03:43, 11.76s/it]"
     ]
    },
    {
     "name": "stdout",
     "output_type": "stream",
     "text": [
      "Model Was Not Saved ! Current Best Avg. Dice: 0.6319325566291809 Current Avg. Dice: 0.5915671586990356 Current Avg. tumor Dice: 0.6700639128684998 Current Avg. lymph Dice: 0.5076040029525757\n"
     ]
    },
    {
     "name": "stderr",
     "output_type": "stream",
     "text": [
      "Training (17819 / 18000 Steps) (loss=0.45242): 100%|██████████| 108/108 [01:37<00:00,  1.10it/s]\n",
      "Validate (17820 / 10 Steps): 100%|██████████| 26/26 [00:37<00:00,  1.44s/it]7<00:12,  2.17it/s]\n",
      "Training (17900 / 18000 Steps) (loss=0.38580):  75%|███████▌  | 81/108 [01:24<05:15, 11.70s/it]"
     ]
    },
    {
     "name": "stdout",
     "output_type": "stream",
     "text": [
      "Model Was Not Saved ! Current Best Avg. Dice: 0.6319325566291809 Current Avg. Dice: 0.6230934858322144 Current Avg. tumor Dice: 0.6898515820503235 Current Avg. lymph Dice: 0.5543447136878967\n"
     ]
    },
    {
     "name": "stderr",
     "output_type": "stream",
     "text": [
      "Training (17927 / 18000 Steps) (loss=0.44943): 100%|██████████| 108/108 [01:36<00:00,  1.12it/s]\n",
      "Validate (17928 / 10 Steps): 100%|██████████| 26/26 [00:37<00:00,  1.46s/it]2<00:17,  2.00it/s]\n",
      "Training (18000 / 18000 Steps) (loss=0.55855):  68%|██████▊   | 73/108 [01:20<06:56, 11.90s/it]"
     ]
    },
    {
     "name": "stdout",
     "output_type": "stream",
     "text": [
      "Model Was Not Saved ! Current Best Avg. Dice: 0.6319325566291809 Current Avg. Dice: 0.6215593218803406 Current Avg. tumor Dice: 0.6901670694351196 Current Avg. lymph Dice: 0.5475747585296631\n"
     ]
    },
    {
     "name": "stderr",
     "output_type": "stream",
     "text": [
      "Training (18035 / 18000 Steps) (loss=0.46216): 100%|██████████| 108/108 [01:35<00:00,  1.13it/s]\n"
     ]
    }
   ],
   "source": [
    "model_dir = '/home/nada.saadi/CTPET/hecktor2022_cropped/3centersctptpretrained'\n",
    "\n",
    "def validation(epoch_iterator_val):\n",
    "        new_model.eval()\n",
    "        with torch.no_grad():\n",
    "            for step, batch in enumerate(epoch_iterator_val):\n",
    "                val_inputs, val_labels = (batch[\"ctpt\"].cuda(), batch[\"seg\"].cuda())\n",
    "                val_outputs = sliding_window_inference(val_inputs, (96, 96, 96), 4, new_model)\n",
    "                val_labels_list = decollate_batch(val_labels)\n",
    "                val_labels_convert = [\n",
    "                    post_label(val_label_tensor) for val_label_tensor in val_labels_list\n",
    "                ]\n",
    "                val_outputs_list = decollate_batch(val_outputs)\n",
    "                val_output_convert = [\n",
    "                    post_pred(val_pred_tensor) for val_pred_tensor in val_outputs_list\n",
    "                ]\n",
    "                dice_metric(y_pred=val_output_convert, y=val_labels_convert)\n",
    "                dice_metric_batch(y_pred=val_output_convert, y=val_labels_convert)\n",
    "                epoch_iterator_val.set_description(\n",
    "                    \"Validate (%d / %d Steps)\" % (global_step, 10.0)\n",
    "                )\n",
    "            mean_dice_val = dice_metric.aggregate().item()\n",
    "            metric_batch_val = dice_metric_batch.aggregate()\n",
    "\n",
    "            metric_tumor = metric_batch_val[0].item()\n",
    "            metric_lymph = metric_batch_val[1].item()\n",
    "\n",
    "            dice_metric.reset()\n",
    "            dice_metric_batch.reset()\n",
    "        return mean_dice_val, metric_tumor, metric_lymph\n",
    "\n",
    "\n",
    "def train(global_step, train_loader, dice_val_best, global_step_best):\n",
    "        new_model.train()\n",
    "        epoch_loss = 0\n",
    "        step = 0\n",
    "        epoch_iterator = tqdm(\n",
    "            train_loader, desc=\"Training (X / X Steps) (loss=X.X)\", dynamic_ncols=True\n",
    "        )\n",
    "        \n",
    "        for step, batch in enumerate(epoch_iterator):\n",
    "            step += 1\n",
    "            x, y = (batch[\"ctpt\"].cuda(), batch[\"seg\"].cuda())\n",
    "            logit_map = new_model(x)\n",
    "            loss = loss_function(logit_map, y)\n",
    "            loss.backward()\n",
    "            epoch_loss += loss.item()\n",
    "            optimizer.step()\n",
    "            optimizer.zero_grad()\n",
    "            epoch_iterator.set_description(\n",
    "                \"Training (%d / %d Steps) (loss=%2.5f)\"\n",
    "                % (global_step, max_iterations, loss)\n",
    "            )\n",
    "            \n",
    "            if (\n",
    "                global_step % eval_num == 0 and global_step != 0\n",
    "            ) or global_step == max_iterations:\n",
    "                epoch_iterator_val = tqdm(\n",
    "                    val_loader, desc=\"Validate (X / X Steps) (dice=X.X)\", dynamic_ncols=True\n",
    "                )\n",
    "                dice_val, metric_tumor, metric_lymph = validation(epoch_iterator_val)\n",
    "                epoch_loss /= step\n",
    "                epoch_loss_values.append(epoch_loss)\n",
    "                metric_values.append(dice_val)\n",
    "                metric_values_tumor.append(metric_tumor)\n",
    "                metric_values_lymph.append(metric_lymph)\n",
    "                if dice_val > dice_val_best:\n",
    "                    dice_val_best = dice_val\n",
    "                    global_step_best = global_step\n",
    "                    torch.save(\n",
    "                        new_model.state_dict(), os.path.join(model_dir, \"3centersctptPT-weights.pth\")\n",
    "                    )\n",
    "                    print(\n",
    "                        \"Model Was Saved ! Current Best Avg. Dice: {} Current Avg. Dice: {} Current Avg. tumor Dice: {} Current Avg. lymph Dice: {}\".format(\n",
    "                            dice_val_best, dice_val, metric_tumor, metric_lymph\n",
    "                        )\n",
    "                    )\n",
    "                else:\n",
    "                    print(\n",
    "                        \"Model Was Not Saved ! Current Best Avg. Dice: {} Current Avg. Dice: {} Current Avg. tumor Dice: {} Current Avg. lymph Dice: {}\".format(\n",
    "                            dice_val_best, dice_val,  metric_tumor, metric_lymph\n",
    "                        )\n",
    "                    )\n",
    "            global_step += 1\n",
    "        return global_step, dice_val_best, global_step_best\n",
    "\n",
    "       \n",
    "\n",
    "max_iterations = 18000\n",
    "eval_num = 100\n",
    "\n",
    "post_label = AsDiscrete(to_onehot=3)\n",
    "post_pred = AsDiscrete(argmax=True, to_onehot=3)\n",
    "\n",
    "dice_metric = DiceMetric(include_background=False, reduction=\"mean\", get_not_nans=False)\n",
    "dice_metric_batch = DiceMetric(include_background=False, reduction=\"mean_batch\")\n",
    "\n",
    "epoch = 0\n",
    "max_num_epochs = 530\n",
    "\n",
    "global_step = 0\n",
    "dice_val_best = 0.0\n",
    "global_step_best = 0\n",
    "epoch_loss_values = []\n",
    "metric_values = []\n",
    "metric_values_tumor = []\n",
    "metric_values_lymph = []\n",
    "while global_step < max_iterations:\n",
    "    global_step, dice_val_best, global_step_best = train(\n",
    "        global_step, train_loader, dice_val_best, global_step_best\n",
    "    )\n",
    "    # wandb.log({'learning_rate': optimizer.param_groups[0]['lr']})\n",
    "    # wandb.log({'Best Dice': dice_val_best})\n",
    "    epoch += 1 \n",
    "    #optimizer.param_groups[0]['lr'] = poly_lr(epoch, max_num_epochs, 0.005676 , 0.9)\n",
    "# model.load_state_dict(torch.load(os.path.join(model_dir, \"best_metric_luck_UNETr_prompt.pth\")))"
   ]
  }
 ],
 "metadata": {
  "kernelspec": {
   "display_name": "clam",
   "language": "python",
   "name": "python3"
  },
  "language_info": {
   "codemirror_mode": {
    "name": "ipython",
    "version": 3
   },
   "file_extension": ".py",
   "mimetype": "text/x-python",
   "name": "python",
   "nbconvert_exporter": "python",
   "pygments_lexer": "ipython3",
   "version": "3.8.0"
  }
 },
 "nbformat": 4,
 "nbformat_minor": 2
}
