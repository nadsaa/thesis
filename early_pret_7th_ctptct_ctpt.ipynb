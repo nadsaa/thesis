{
 "cells": [
  {
   "cell_type": "code",
   "execution_count": 1,
   "metadata": {},
   "outputs": [
    {
     "data": {
      "text/plain": [
       "1"
      ]
     },
     "execution_count": 1,
     "metadata": {},
     "output_type": "execute_result"
    }
   ],
   "source": [
    "import os\n",
    "os.environ[\"CUDA_DEVICE_ORDER\"] = \"PCI_BUS_ID\"\n",
    "os.environ[\"CUDA_VISIBLE_DEVICES\"] = \"2\" \n",
    "import torch\n",
    "torch.cuda.device_count()"
   ]
  },
  {
   "cell_type": "code",
   "execution_count": 2,
   "metadata": {},
   "outputs": [],
   "source": [
    "import os\n",
    "import shutil\n",
    "import tempfile\n",
    "\n",
    "import matplotlib.pyplot as plt\n",
    "import numpy as np\n",
    "from tqdm import tqdm\n",
    "from glob import glob\n",
    "# import wandb\n",
    "\n",
    "import monai\n",
    "from monai.losses import DiceCELoss, DiceFocalLoss, FocalLoss\n",
    "from monai.inferers import sliding_window_inference\n",
    "from monai import transforms\n",
    "\n",
    "from monai.transforms import (\n",
    "       AsDiscrete,\n",
    "    Compose,\n",
    "    CropForegroundd,\n",
    "    LoadImaged,\n",
    "    Orientationd,\n",
    "    RandFlipd,\n",
    "    RandCropByPosNegLabeld,\n",
    "    RandShiftIntensityd,\n",
    "    ScaleIntensityRanged,\n",
    "    Spacingd,\n",
    "    RandRotate90d,\n",
    "    MapTransform,\n",
    "    ScaleIntensityd,\n",
    "    #AddChanneld,\n",
    "    SpatialPadd,\n",
    "    CenterSpatialCropd,\n",
    "    EnsureChannelFirstd,\n",
    "    ConcatItemsd,\n",
    "    AdjustContrastd, \n",
    "    Rand3DElasticd,\n",
    "    HistogramNormalized,\n",
    "    NormalizeIntensityd,\n",
    "    Invertd,\n",
    "    SaveImage,\n",
    "\n",
    ")\n",
    "\n",
    "from monai.config import print_config\n",
    "from monai.metrics import DiceMetric\n",
    "from monai.networks.nets import SwinUNETR, UNETR, SegResNet\n",
    "from monai.data import (\n",
    "    DataLoader,\n",
    "    CacheDataset,\n",
    "    load_decathlon_datalist,\n",
    "    decollate_batch,\n",
    ")\n",
    "from monai import data\n",
    "\n",
    "\n",
    "from monai.utils import first, set_determinism\n",
    "from sklearn.model_selection import train_test_split\n",
    "import json\n",
    "\n",
    "\n",
    "import torch"
   ]
  },
  {
   "cell_type": "code",
   "execution_count": 3,
   "metadata": {},
   "outputs": [],
   "source": [
    "set_determinism(seed=1024)"
   ]
  },
  {
   "cell_type": "code",
   "execution_count": 4,
   "metadata": {},
   "outputs": [],
   "source": [
    "data_dir = '/home/nada.saadi/MIS-FM/hecktor2022_cropped'\n",
    "json_dir = \"/home/nada.saadi/CTPET/hecktor2022_cropped/HMR_ctpt_train_new.json\""
   ]
  },
  {
   "cell_type": "code",
   "execution_count": 5,
   "metadata": {},
   "outputs": [],
   "source": [
    "def datafold_read(datalist, basedir, fold=0, key=\"training\"):\n",
    "    with open(datalist) as f:\n",
    "        json_data = json.load(f)\n",
    "\n",
    "    json_data = json_data[key]\n",
    "\n",
    "    for d in json_data:\n",
    "        for k in d:\n",
    "            if isinstance(d[k], list):\n",
    "                d[k] = [os.path.join(basedir, iv) for iv in d[k]]\n",
    "            elif isinstance(d[k], str):\n",
    "                d[k] = os.path.join(basedir, d[k]) if len(d[k]) > 0 else d[k]\n",
    "\n",
    "    tr = []\n",
    "    val = []\n",
    "    for d in json_data:\n",
    "        if \"fold\" in d and d[\"fold\"] == fold:\n",
    "            val.append(d)\n",
    "        else:\n",
    "            tr.append(d)\n",
    "\n",
    "    return tr, val"
   ]
  },
  {
   "cell_type": "code",
   "execution_count": 7,
   "metadata": {},
   "outputs": [
    {
     "data": {
      "text/plain": [
       "(13, 4)"
      ]
     },
     "execution_count": 7,
     "metadata": {},
     "output_type": "execute_result"
    }
   ],
   "source": [
    "train_files, validation_files = datafold_read(datalist=json_dir, basedir=data_dir, fold=1)\n",
    "len(train_files), len(validation_files)"
   ]
  },
  {
   "cell_type": "code",
   "execution_count": 8,
   "metadata": {},
   "outputs": [],
   "source": [
    "class ClipCT(MapTransform):\n",
    "    \"\"\"\n",
    "    Convert labels to multi channels based on hecktor classes:\n",
    "    label 1 is the tumor\n",
    "    label 2 is the lymph node\n",
    "\n",
    "    \"\"\"\n",
    "\n",
    "    def __call__(self, data):\n",
    "        d = dict(data)\n",
    "        for key in self.keys:\n",
    "            if key == \"ct\":\n",
    "                d[key] = torch.clip(d[key], min=-200, max=200)\n",
    "            # elif key == \"pt\":\n",
    "            #     d[key] = torch.clip(d[key], d[key].min(), 5)\n",
    "        return d\n",
    "\n",
    "class MulPTFM(MapTransform):\n",
    "    \"\"\"\n",
    "    Mult PT and FM \n",
    "\n",
    "    \"\"\"\n",
    "\n",
    "    def __call__(self, data):\n",
    "        d = dict(data)\n",
    "\n",
    "        fm = d[\"ct\"] > 0\n",
    "        d[\"pt\"] = d[\"pt\"] * fm\n",
    "        return d\n",
    "\n",
    "class SelectClass(MapTransform):\n",
    "    \"\"\"\n",
    "    Select the class for which you want to fine tune the model \n",
    "\n",
    "    \"\"\"\n",
    "    # def __init__(self, keys, cls=1):\n",
    "    #     super(self).__init__(keys)\n",
    "    #     self.cls = cls\n",
    "\n",
    "    def __call__(self, data):\n",
    "        d = dict(data)\n",
    "        d[\"seg\"][d[\"seg\"] == 1] = 0\n",
    "        # d[\"seg\"][d[\"seg\"] == 2] = 1\n",
    "        \n",
    "        return d"
   ]
  },
  {
   "cell_type": "code",
   "execution_count": 9,
   "metadata": {},
   "outputs": [],
   "source": [
    "num_samples = 4\n",
    "\n",
    "train_transforms = Compose(\n",
    "    [\n",
    "        LoadImaged(keys=[\"ct\", \"pt\", \"seg\"], ensure_channel_first = True),\n",
    "        SpatialPadd(keys=[\"ct\", \"pt\", \"seg\"], spatial_size=(200, 200, 310), method='end'),\n",
    "        Orientationd(keys=[\"ct\", \"pt\", \"seg\"], axcodes=\"PLS\"),\n",
    "        NormalizeIntensityd(keys=[\"pt\"]),\n",
    "        ClipCT(keys=[\"ct\"]),\n",
    "        ScaleIntensityd(keys=[\"ct\"], minv=0, maxv=1),\n",
    "        #MulPTFM(keys=[\"ct\",\"pt\"]),\n",
    "        ConcatItemsd(keys=[\"pt\", \"ct\"], name=\"ctpt\"),\n",
    "        #NormalizeIntensityd(keys=[\"ctpt\"], channel_wise=True),\n",
    "        RandCropByPosNegLabeld(\n",
    "            keys=[\"ctpt\", \"seg\"],\n",
    "            label_key=\"seg\",\n",
    "            spatial_size=(96, 96, 96),\n",
    "            pos=1,\n",
    "            neg=1,\n",
    "            num_samples=num_samples,\n",
    "            image_key=\"ctpt\",\n",
    "            image_threshold=0,\n",
    "        ),\n",
    "        RandFlipd(\n",
    "            keys=[\"ctpt\", \"seg\"],\n",
    "            spatial_axis=[0],\n",
    "            prob=0.20,\n",
    "        ),\n",
    "        RandFlipd(\n",
    "            keys=[\"ctpt\", \"seg\"],\n",
    "            spatial_axis=[1],\n",
    "            prob=0.20,\n",
    "        ),\n",
    "        RandFlipd(\n",
    "            keys=[\"ctpt\", \"seg\"],\n",
    "            spatial_axis=[2],\n",
    "            prob=0.20,\n",
    "        ),\n",
    "        RandRotate90d(\n",
    "            keys=[\"ctpt\", \"seg\"],\n",
    "            prob=0.20,\n",
    "            max_k=3,\n",
    "        ),\n",
    "    ]\n",
    ")\n",
    "val_transforms = Compose(\n",
    "    [\n",
    "        LoadImaged(keys=[\"ct\", \"pt\", \"seg\"], ensure_channel_first = True),\n",
    "        SpatialPadd(keys=[\"ct\", \"pt\", \"seg\"], spatial_size=(200, 200, 310), method='end'),\n",
    "        Orientationd(keys=[\"ct\", \"pt\", \"seg\"], axcodes=\"PLS\"),\n",
    "        NormalizeIntensityd(keys=[\"pt\"]),\n",
    "        ClipCT(keys=[\"ct\"]),\n",
    "        ScaleIntensityd(keys=[\"ct\"], minv=0, maxv=1),\n",
    "        #MulPTFM(keys=[\"ct\",\"pt\"]),\n",
    "        ConcatItemsd(keys=[\"pt\", \"ct\"], name=\"ctpt\"),\n",
    "    ]\n",
    ")"
   ]
  },
  {
   "cell_type": "code",
   "execution_count": 10,
   "metadata": {},
   "outputs": [],
   "source": [
    "train_ds = monai.data.Dataset(data=train_files, transform=train_transforms)\n",
    "\n",
    "train_loader = DataLoader(\n",
    "    train_ds,\n",
    "    batch_size=2,\n",
    "    shuffle=True,\n",
    "    num_workers=8,\n",
    "    pin_memory=torch.cuda.is_available(),\n",
    "    )\n",
    "\n",
    "val_ds = monai.data.Dataset(data=validation_files, transform=val_transforms)\n",
    "\n",
    "val_loader = DataLoader(\n",
    "    val_ds, \n",
    "    batch_size=2, \n",
    "    num_workers=8, \n",
    "    shuffle= False)"
   ]
  },
  {
   "cell_type": "code",
   "execution_count": 11,
   "metadata": {},
   "outputs": [
    {
     "name": "stderr",
     "output_type": "stream",
     "text": [
      "/home/nada.saadi/miniconda3/envs/clam/lib/python3.8/site-packages/monai/utils/deprecate_utils.py:221: FutureWarning: monai.networks.nets.unetr UNETR.__init__:pos_embed: Argument `pos_embed` has been deprecated since version 1.2. It will be removed in version 1.4. please use `proj_type` instead.\n",
      "  warn_deprecated(argname, msg, warning_category)\n"
     ]
    },
    {
     "data": {
      "text/plain": [
       "<All keys matched successfully>"
      ]
     },
     "execution_count": 11,
     "metadata": {},
     "output_type": "execute_result"
    }
   ],
   "source": [
    "os.environ[\"CUDA_DEVICE_ORDER\"] = \"PCI_BUS_ID\"\n",
    "device = torch.device(\"cuda\" if torch.cuda.is_available() else \"cpu\")\n",
    "model = UNETR(\n",
    "    in_channels=2,\n",
    "    out_channels=3,\n",
    "    img_size=(96, 96, 96),\n",
    "    feature_size=16, #16\n",
    "    hidden_size= 768, #768,\n",
    "    mlp_dim=3072, #3072,\n",
    "    num_heads=12,\n",
    "    pos_embed=\"perceptron\",\n",
    "    norm_name=\"instance\",\n",
    "    res_block=True,\n",
    "    dropout_rate=0.0,\n",
    ").to(device)\n",
    "\n",
    "rt7 = '/home/nada.saadi/CTPET/hecktor2022_cropped/b_7th/b_7th_ctptct.pth'\n",
    "\n",
    "# Ignore layers with size mismatch\n",
    "state_dict = torch.load(rt7)\n",
    "model_state_dict = model.state_dict()\n",
    "for name, param in state_dict.items():\n",
    "    if name in model_state_dict:\n",
    "        if param.shape == model_state_dict[name].shape:\n",
    "            model_state_dict[name] = param\n",
    "\n",
    "model.load_state_dict(model_state_dict)"
   ]
  },
  {
   "cell_type": "code",
   "execution_count": 12,
   "metadata": {},
   "outputs": [],
   "source": [
    "torch.backends.cudnn.benchmark = True\n",
    "def poly_lr(epoch, max_epochs, initial_lr, exponent=0.9):\n",
    "    return initial_lr * (1 - epoch / max_epochs)**exponent\n",
    "\n",
    "loss_function = DiceCELoss(to_onehot_y=True, softmax=True)\n",
    "optimizer = torch.optim.AdamW(model.parameters(), lr=1e-4, weight_decay=1e-5)"
   ]
  },
  {
   "cell_type": "code",
   "execution_count": 13,
   "metadata": {},
   "outputs": [
    {
     "name": "stderr",
     "output_type": "stream",
     "text": [
      "Training (6 / 18000 Steps) (loss=1.68379): 100%|██████████| 7/7 [00:26<00:00,  3.74s/it]\n",
      "Training (13 / 18000 Steps) (loss=1.61852): 100%|██████████| 7/7 [00:09<00:00,  1.36s/it]\n",
      "Training (20 / 18000 Steps) (loss=1.54761): 100%|██████████| 7/7 [00:09<00:00,  1.42s/it]\n",
      "Training (27 / 18000 Steps) (loss=1.55366): 100%|██████████| 7/7 [00:08<00:00,  1.27s/it]\n",
      "Training (34 / 18000 Steps) (loss=1.53240): 100%|██████████| 7/7 [00:10<00:00,  1.52s/it]\n",
      "Training (41 / 18000 Steps) (loss=1.49275): 100%|██████████| 7/7 [00:10<00:00,  1.45s/it]\n",
      "Training (48 / 18000 Steps) (loss=1.45452): 100%|██████████| 7/7 [00:08<00:00,  1.21s/it]\n",
      "Training (55 / 18000 Steps) (loss=1.46382): 100%|██████████| 7/7 [00:09<00:00,  1.32s/it]\n",
      "Training (62 / 18000 Steps) (loss=1.44699): 100%|██████████| 7/7 [00:10<00:00,  1.45s/it]\n",
      "Training (69 / 18000 Steps) (loss=1.44517): 100%|██████████| 7/7 [00:09<00:00,  1.40s/it]\n",
      "Training (76 / 18000 Steps) (loss=1.40093): 100%|██████████| 7/7 [00:09<00:00,  1.33s/it]\n",
      "Training (83 / 18000 Steps) (loss=1.40517): 100%|██████████| 7/7 [00:09<00:00,  1.29s/it]\n",
      "Training (90 / 18000 Steps) (loss=1.40840): 100%|██████████| 7/7 [00:09<00:00,  1.39s/it]\n",
      "Training (97 / 18000 Steps) (loss=1.36106): 100%|██████████| 7/7 [00:10<00:00,  1.52s/it]\n",
      "Validate (98 / 10 Steps): 100%|██████████| 2/2 [00:06<00:00,  3.42s/it]7<00:15,  3.07s/it]\n",
      "Training (100 / 18000 Steps) (loss=1.34831):  43%|████▎     | 3/7 [00:15<00:22,  5.53s/it]"
     ]
    },
    {
     "name": "stdout",
     "output_type": "stream",
     "text": [
      "Model Was Saved ! Current Best Avg. Dice: 0.16303221881389618 Current Avg. Dice: 0.16303221881389618 Current Avg. tumor Dice: 0.3130519986152649 Current Avg. lymph Dice: 0.013012437149882317\n"
     ]
    },
    {
     "name": "stderr",
     "output_type": "stream",
     "text": [
      "Training (104 / 18000 Steps) (loss=1.36625): 100%|██████████| 7/7 [00:16<00:00,  2.43s/it]\n",
      "Training (111 / 18000 Steps) (loss=1.36804): 100%|██████████| 7/7 [00:08<00:00,  1.27s/it]\n",
      "Training (118 / 18000 Steps) (loss=1.30233): 100%|██████████| 7/7 [00:09<00:00,  1.40s/it]\n",
      "Training (125 / 18000 Steps) (loss=1.34795): 100%|██████████| 7/7 [00:08<00:00,  1.28s/it]\n",
      "Training (132 / 18000 Steps) (loss=1.35842): 100%|██████████| 7/7 [00:09<00:00,  1.42s/it]\n",
      "Training (139 / 18000 Steps) (loss=1.30895): 100%|██████████| 7/7 [00:10<00:00,  1.51s/it]\n",
      "Training (146 / 18000 Steps) (loss=1.32187): 100%|██████████| 7/7 [00:10<00:00,  1.46s/it]\n",
      "Training (153 / 18000 Steps) (loss=1.31451): 100%|██████████| 7/7 [00:09<00:00,  1.34s/it]\n",
      "Training (160 / 18000 Steps) (loss=1.30011): 100%|██████████| 7/7 [00:10<00:00,  1.45s/it]\n",
      "Training (167 / 18000 Steps) (loss=1.26168): 100%|██████████| 7/7 [00:10<00:00,  1.56s/it]\n",
      "Training (174 / 18000 Steps) (loss=1.25825): 100%|██████████| 7/7 [00:09<00:00,  1.36s/it]\n",
      "Training (181 / 18000 Steps) (loss=1.28280): 100%|██████████| 7/7 [00:10<00:00,  1.44s/it]\n",
      "Training (188 / 18000 Steps) (loss=1.26629): 100%|██████████| 7/7 [00:09<00:00,  1.40s/it]\n",
      "Training (195 / 18000 Steps) (loss=1.26071): 100%|██████████| 7/7 [00:09<00:00,  1.36s/it]\n",
      "Validate (196 / 10 Steps): 100%|██████████| 2/2 [00:06<00:00,  3.08s/it]<00:04,  1.41s/it]\n",
      "Training (200 / 18000 Steps) (loss=1.26914):  71%|███████▏  | 5/7 [00:16<00:07,  3.58s/it]"
     ]
    },
    {
     "name": "stdout",
     "output_type": "stream",
     "text": [
      "Model Was Saved ! Current Best Avg. Dice: 0.28268951177597046 Current Avg. Dice: 0.28268951177597046 Current Avg. tumor Dice: 0.5083159804344177 Current Avg. lymph Dice: 0.057063028216362\n"
     ]
    },
    {
     "name": "stderr",
     "output_type": "stream",
     "text": [
      "Training (202 / 18000 Steps) (loss=1.25446): 100%|██████████| 7/7 [00:17<00:00,  2.46s/it]\n",
      "Training (209 / 18000 Steps) (loss=1.15425): 100%|██████████| 7/7 [00:10<00:00,  1.49s/it]\n",
      "Training (216 / 18000 Steps) (loss=1.26727): 100%|██████████| 7/7 [00:09<00:00,  1.39s/it]\n",
      "Training (223 / 18000 Steps) (loss=1.23945): 100%|██████████| 7/7 [00:09<00:00,  1.33s/it]\n",
      "Training (230 / 18000 Steps) (loss=1.22466): 100%|██████████| 7/7 [00:10<00:00,  1.45s/it]\n",
      "Training (237 / 18000 Steps) (loss=1.23874): 100%|██████████| 7/7 [00:08<00:00,  1.27s/it]\n",
      "Training (244 / 18000 Steps) (loss=1.23906): 100%|██████████| 7/7 [00:08<00:00,  1.27s/it]\n",
      "Training (251 / 18000 Steps) (loss=1.19830): 100%|██████████| 7/7 [00:10<00:00,  1.45s/it]\n",
      "Training (258 / 18000 Steps) (loss=1.20243): 100%|██████████| 7/7 [00:09<00:00,  1.43s/it]\n",
      "Training (265 / 18000 Steps) (loss=1.20354): 100%|██████████| 7/7 [00:09<00:00,  1.38s/it]\n",
      "Training (272 / 18000 Steps) (loss=1.19943): 100%|██████████| 7/7 [00:09<00:00,  1.31s/it]\n",
      "Training (279 / 18000 Steps) (loss=1.16457): 100%|██████████| 7/7 [00:09<00:00,  1.29s/it]\n",
      "Training (286 / 18000 Steps) (loss=1.21849): 100%|██████████| 7/7 [00:10<00:00,  1.48s/it]\n",
      "Training (293 / 18000 Steps) (loss=1.11539): 100%|██████████| 7/7 [00:10<00:00,  1.49s/it]\n",
      "Validate (294 / 10 Steps): 100%|██████████| 2/2 [00:06<00:00,  3.31s/it]<00:00,  1.17it/s]\n",
      "Training (300 / 18000 Steps) (loss=1.16294): 100%|██████████| 7/7 [00:15<00:00,  2.27s/it]\n"
     ]
    },
    {
     "name": "stdout",
     "output_type": "stream",
     "text": [
      "Model Was Not Saved ! Current Best Avg. Dice: 0.28268951177597046 Current Avg. Dice: 0.26322129368782043 Current Avg. tumor Dice: 0.5246474146842957 Current Avg. lymph Dice: 0.0017952007474377751\n"
     ]
    },
    {
     "name": "stderr",
     "output_type": "stream",
     "text": [
      "Training (307 / 18000 Steps) (loss=1.17981): 100%|██████████| 7/7 [00:10<00:00,  1.54s/it]\n",
      "Training (314 / 18000 Steps) (loss=1.09634): 100%|██████████| 7/7 [00:08<00:00,  1.25s/it]\n",
      "Training (321 / 18000 Steps) (loss=1.15021): 100%|██████████| 7/7 [00:09<00:00,  1.36s/it]\n",
      "Training (328 / 18000 Steps) (loss=1.14430): 100%|██████████| 7/7 [00:09<00:00,  1.31s/it]\n",
      "Training (335 / 18000 Steps) (loss=1.15107): 100%|██████████| 7/7 [00:10<00:00,  1.47s/it]\n",
      "Training (342 / 18000 Steps) (loss=1.13455): 100%|██████████| 7/7 [00:09<00:00,  1.34s/it]\n",
      "Training (349 / 18000 Steps) (loss=1.13165): 100%|██████████| 7/7 [00:09<00:00,  1.40s/it]\n",
      "Training (356 / 18000 Steps) (loss=1.12188): 100%|██████████| 7/7 [00:10<00:00,  1.43s/it]\n",
      "Training (363 / 18000 Steps) (loss=1.08920): 100%|██████████| 7/7 [00:09<00:00,  1.42s/it]\n",
      "Training (370 / 18000 Steps) (loss=1.11573): 100%|██████████| 7/7 [00:09<00:00,  1.32s/it]\n",
      "Training (377 / 18000 Steps) (loss=1.10591): 100%|██████████| 7/7 [00:10<00:00,  1.45s/it]\n",
      "Training (384 / 18000 Steps) (loss=1.11434): 100%|██████████| 7/7 [00:09<00:00,  1.30s/it]\n",
      "Training (391 / 18000 Steps) (loss=1.06815): 100%|██████████| 7/7 [00:09<00:00,  1.37s/it]\n",
      "Training (398 / 18000 Steps) (loss=1.06080): 100%|██████████| 7/7 [00:09<00:00,  1.36s/it]\n",
      "Validate (399 / 10 Steps): 100%|██████████| 2/2 [00:06<00:00,  3.32s/it]<00:39,  6.63s/it]\n",
      "Training (400 / 18000 Steps) (loss=1.09894):  29%|██▊       | 2/7 [00:13<00:34,  6.97s/it]"
     ]
    },
    {
     "name": "stdout",
     "output_type": "stream",
     "text": [
      "Model Was Not Saved ! Current Best Avg. Dice: 0.28268951177597046 Current Avg. Dice: 0.2306542992591858 Current Avg. tumor Dice: 0.4613085985183716 Current Avg. lymph Dice: 0.0\n"
     ]
    },
    {
     "name": "stderr",
     "output_type": "stream",
     "text": [
      "Training (405 / 18000 Steps) (loss=1.06883): 100%|██████████| 7/7 [00:15<00:00,  2.27s/it]\n",
      "Training (412 / 18000 Steps) (loss=1.08224): 100%|██████████| 7/7 [00:09<00:00,  1.39s/it]\n",
      "Training (419 / 18000 Steps) (loss=1.03764): 100%|██████████| 7/7 [00:09<00:00,  1.38s/it]\n",
      "Training (426 / 18000 Steps) (loss=1.08556): 100%|██████████| 7/7 [00:09<00:00,  1.30s/it]\n",
      "Training (433 / 18000 Steps) (loss=1.02676): 100%|██████████| 7/7 [00:10<00:00,  1.49s/it]\n",
      "Training (440 / 18000 Steps) (loss=1.06003): 100%|██████████| 7/7 [00:09<00:00,  1.43s/it]\n",
      "Training (447 / 18000 Steps) (loss=1.01208): 100%|██████████| 7/7 [00:10<00:00,  1.48s/it]\n",
      "Training (454 / 18000 Steps) (loss=1.04776): 100%|██████████| 7/7 [00:09<00:00,  1.39s/it]\n",
      "Training (461 / 18000 Steps) (loss=1.02818): 100%|██████████| 7/7 [00:10<00:00,  1.48s/it]\n",
      "Training (468 / 18000 Steps) (loss=1.06275): 100%|██████████| 7/7 [00:09<00:00,  1.31s/it]\n",
      "Training (475 / 18000 Steps) (loss=1.03984): 100%|██████████| 7/7 [00:09<00:00,  1.31s/it]\n",
      "Training (482 / 18000 Steps) (loss=1.06800): 100%|██████████| 7/7 [00:10<00:00,  1.45s/it]\n",
      "Training (489 / 18000 Steps) (loss=0.92355): 100%|██████████| 7/7 [00:09<00:00,  1.40s/it]\n",
      "Training (496 / 18000 Steps) (loss=1.01906): 100%|██████████| 7/7 [00:09<00:00,  1.33s/it]\n",
      "Validate (497 / 10 Steps): 100%|██████████| 2/2 [00:06<00:00,  3.08s/it]<00:07,  1.93s/it]\n",
      "Training (500 / 18000 Steps) (loss=0.97106):  57%|█████▋    | 4/7 [00:15<00:12,  4.13s/it]"
     ]
    },
    {
     "name": "stdout",
     "output_type": "stream",
     "text": [
      "Model Was Saved ! Current Best Avg. Dice: 0.345949649810791 Current Avg. Dice: 0.345949649810791 Current Avg. tumor Dice: 0.6918992400169373 Current Avg. lymph Dice: 0.0\n"
     ]
    },
    {
     "name": "stderr",
     "output_type": "stream",
     "text": [
      "Training (503 / 18000 Steps) (loss=1.01952): 100%|██████████| 7/7 [00:16<00:00,  2.38s/it]\n",
      "Training (510 / 18000 Steps) (loss=1.03630): 100%|██████████| 7/7 [00:09<00:00,  1.41s/it]\n",
      "Training (517 / 18000 Steps) (loss=0.95217): 100%|██████████| 7/7 [00:10<00:00,  1.49s/it]\n",
      "Training (524 / 18000 Steps) (loss=0.99617): 100%|██████████| 7/7 [00:10<00:00,  1.43s/it]\n",
      "Training (531 / 18000 Steps) (loss=1.01031): 100%|██████████| 7/7 [00:09<00:00,  1.43s/it]\n",
      "Training (538 / 18000 Steps) (loss=0.98392): 100%|██████████| 7/7 [00:09<00:00,  1.41s/it]\n",
      "Training (545 / 18000 Steps) (loss=0.92404): 100%|██████████| 7/7 [00:09<00:00,  1.43s/it]\n",
      "Training (552 / 18000 Steps) (loss=1.01623): 100%|██████████| 7/7 [00:10<00:00,  1.49s/it]\n",
      "Training (559 / 18000 Steps) (loss=0.98746): 100%|██████████| 7/7 [00:09<00:00,  1.37s/it]\n",
      "Training (566 / 18000 Steps) (loss=0.98256): 100%|██████████| 7/7 [00:09<00:00,  1.35s/it]\n",
      "Training (573 / 18000 Steps) (loss=0.94704): 100%|██████████| 7/7 [00:09<00:00,  1.41s/it]\n",
      "Training (580 / 18000 Steps) (loss=0.96173): 100%|██████████| 7/7 [00:08<00:00,  1.27s/it]\n",
      "Training (587 / 18000 Steps) (loss=0.97644): 100%|██████████| 7/7 [00:09<00:00,  1.40s/it]\n",
      "Training (594 / 18000 Steps) (loss=0.95389): 100%|██████████| 7/7 [00:09<00:00,  1.36s/it]\n",
      "Validate (595 / 10 Steps): 100%|██████████| 2/2 [00:06<00:00,  3.12s/it]<00:02,  1.07s/it]\n",
      "Training (600 / 18000 Steps) (loss=0.93570):  86%|████████▌ | 6/7 [00:15<00:03,  3.02s/it]"
     ]
    },
    {
     "name": "stdout",
     "output_type": "stream",
     "text": [
      "Model Was Not Saved ! Current Best Avg. Dice: 0.345949649810791 Current Avg. Dice: 0.31278467178344727 Current Avg. tumor Dice: 0.6255693435668945 Current Avg. lymph Dice: 0.0\n"
     ]
    },
    {
     "name": "stderr",
     "output_type": "stream",
     "text": [
      "Training (601 / 18000 Steps) (loss=0.95020): 100%|██████████| 7/7 [00:15<00:00,  2.28s/it]\n",
      "Training (608 / 18000 Steps) (loss=0.91292): 100%|██████████| 7/7 [00:08<00:00,  1.26s/it]\n",
      "Training (615 / 18000 Steps) (loss=0.96398): 100%|██████████| 7/7 [00:09<00:00,  1.36s/it]\n",
      "Training (622 / 18000 Steps) (loss=0.81645): 100%|██████████| 7/7 [00:09<00:00,  1.34s/it]\n",
      "Training (629 / 18000 Steps) (loss=0.97901): 100%|██████████| 7/7 [00:09<00:00,  1.41s/it]\n",
      "Training (636 / 18000 Steps) (loss=0.92498): 100%|██████████| 7/7 [00:09<00:00,  1.38s/it]\n",
      "Training (643 / 18000 Steps) (loss=0.82343): 100%|██████████| 7/7 [00:09<00:00,  1.36s/it]\n",
      "Training (650 / 18000 Steps) (loss=0.92964): 100%|██████████| 7/7 [00:10<00:00,  1.49s/it]\n",
      "Training (657 / 18000 Steps) (loss=0.94936): 100%|██████████| 7/7 [00:09<00:00,  1.32s/it]\n",
      "Training (664 / 18000 Steps) (loss=0.87319): 100%|██████████| 7/7 [00:09<00:00,  1.42s/it]\n",
      "Training (671 / 18000 Steps) (loss=0.94459): 100%|██████████| 7/7 [00:11<00:00,  1.60s/it]\n",
      "Training (678 / 18000 Steps) (loss=0.87222): 100%|██████████| 7/7 [00:09<00:00,  1.38s/it]\n",
      "Training (685 / 18000 Steps) (loss=0.83081): 100%|██████████| 7/7 [00:10<00:00,  1.47s/it]\n",
      "Training (692 / 18000 Steps) (loss=0.88326): 100%|██████████| 7/7 [00:09<00:00,  1.32s/it]\n",
      "Training (699 / 18000 Steps) (loss=0.88285): 100%|██████████| 7/7 [00:10<00:00,  1.49s/it]\n",
      "Validate (700 / 10 Steps): 100%|██████████| 2/2 [00:06<00:00,  3.17s/it]<?, ?it/s]\n",
      "Training (700 / 18000 Steps) (loss=0.89312):  14%|█▍        | 1/7 [00:13<01:20, 13.39s/it]"
     ]
    },
    {
     "name": "stdout",
     "output_type": "stream",
     "text": [
      "Model Was Not Saved ! Current Best Avg. Dice: 0.345949649810791 Current Avg. Dice: 0.34159988164901733 Current Avg. tumor Dice: 0.6831998229026794 Current Avg. lymph Dice: 0.0\n"
     ]
    },
    {
     "name": "stderr",
     "output_type": "stream",
     "text": [
      "Training (706 / 18000 Steps) (loss=0.87231): 100%|██████████| 7/7 [00:15<00:00,  2.27s/it]\n",
      "Training (713 / 18000 Steps) (loss=0.81397): 100%|██████████| 7/7 [00:10<00:00,  1.44s/it]\n",
      "Training (720 / 18000 Steps) (loss=0.87972): 100%|██████████| 7/7 [00:10<00:00,  1.47s/it]\n",
      "Training (727 / 18000 Steps) (loss=0.85935): 100%|██████████| 7/7 [00:10<00:00,  1.43s/it]\n",
      "Training (734 / 18000 Steps) (loss=0.84046): 100%|██████████| 7/7 [00:09<00:00,  1.30s/it]\n",
      "Training (741 / 18000 Steps) (loss=0.86119): 100%|██████████| 7/7 [00:10<00:00,  1.45s/it]\n",
      "Training (748 / 18000 Steps) (loss=0.72640): 100%|██████████| 7/7 [00:09<00:00,  1.38s/it]\n",
      "Training (755 / 18000 Steps) (loss=0.84219): 100%|██████████| 7/7 [00:09<00:00,  1.30s/it]\n",
      "Training (762 / 18000 Steps) (loss=0.90123): 100%|██████████| 7/7 [00:10<00:00,  1.45s/it]\n",
      "Training (769 / 18000 Steps) (loss=0.86871): 100%|██████████| 7/7 [00:09<00:00,  1.41s/it]\n",
      "Training (776 / 18000 Steps) (loss=0.71183): 100%|██████████| 7/7 [00:10<00:00,  1.43s/it]\n",
      "Training (783 / 18000 Steps) (loss=0.86205): 100%|██████████| 7/7 [00:10<00:00,  1.45s/it]\n",
      "Training (790 / 18000 Steps) (loss=0.86519): 100%|██████████| 7/7 [00:10<00:00,  1.51s/it]\n",
      "Training (797 / 18000 Steps) (loss=0.86446): 100%|██████████| 7/7 [00:10<00:00,  1.45s/it]\n",
      "Validate (798 / 10 Steps): 100%|██████████| 2/2 [00:06<00:00,  3.15s/it]<00:13,  2.73s/it]\n",
      "Training (800 / 18000 Steps) (loss=0.86962):  43%|████▎     | 3/7 [00:13<00:19,  4.90s/it]"
     ]
    },
    {
     "name": "stdout",
     "output_type": "stream",
     "text": [
      "Model Was Saved ! Current Best Avg. Dice: 0.3560687005519867 Current Avg. Dice: 0.3560687005519867 Current Avg. tumor Dice: 0.7121374011039734 Current Avg. lymph Dice: 0.0\n"
     ]
    },
    {
     "name": "stderr",
     "output_type": "stream",
     "text": [
      "Training (804 / 18000 Steps) (loss=0.80376): 100%|██████████| 7/7 [00:15<00:00,  2.21s/it]\n",
      "Training (811 / 18000 Steps) (loss=0.71924): 100%|██████████| 7/7 [00:10<00:00,  1.47s/it]\n",
      "Training (818 / 18000 Steps) (loss=0.73807): 100%|██████████| 7/7 [00:09<00:00,  1.36s/it]\n",
      "Training (825 / 18000 Steps) (loss=0.85488): 100%|██████████| 7/7 [00:10<00:00,  1.47s/it]\n",
      "Training (832 / 18000 Steps) (loss=0.74904): 100%|██████████| 7/7 [00:09<00:00,  1.43s/it]\n",
      "Training (839 / 18000 Steps) (loss=0.74665): 100%|██████████| 7/7 [00:09<00:00,  1.40s/it]\n",
      "Training (846 / 18000 Steps) (loss=0.70090): 100%|██████████| 7/7 [00:09<00:00,  1.38s/it]\n",
      "Training (853 / 18000 Steps) (loss=0.79540): 100%|██████████| 7/7 [00:08<00:00,  1.22s/it]\n",
      "Training (860 / 18000 Steps) (loss=0.82299): 100%|██████████| 7/7 [00:10<00:00,  1.45s/it]\n",
      "Training (867 / 18000 Steps) (loss=0.79507): 100%|██████████| 7/7 [00:09<00:00,  1.43s/it]\n",
      "Training (874 / 18000 Steps) (loss=0.87923): 100%|██████████| 7/7 [00:09<00:00,  1.42s/it]\n",
      "Training (881 / 18000 Steps) (loss=0.81695): 100%|██████████| 7/7 [00:09<00:00,  1.36s/it]\n",
      "Training (888 / 18000 Steps) (loss=0.82337): 100%|██████████| 7/7 [00:10<00:00,  1.48s/it]\n",
      "Training (895 / 18000 Steps) (loss=0.84466): 100%|██████████| 7/7 [00:10<00:00,  1.44s/it]\n",
      "Validate (896 / 10 Steps): 100%|██████████| 2/2 [00:06<00:00,  3.06s/it]<00:04,  1.48s/it]\n",
      "Training (900 / 18000 Steps) (loss=0.80592):  71%|███████▏  | 5/7 [00:15<00:06,  3.34s/it]"
     ]
    },
    {
     "name": "stdout",
     "output_type": "stream",
     "text": [
      "Model Was Not Saved ! Current Best Avg. Dice: 0.3560687005519867 Current Avg. Dice: 0.28955596685409546 Current Avg. tumor Dice: 0.5791119337081909 Current Avg. lymph Dice: 0.0\n"
     ]
    },
    {
     "name": "stderr",
     "output_type": "stream",
     "text": [
      "Training (902 / 18000 Steps) (loss=0.69679): 100%|██████████| 7/7 [00:16<00:00,  2.32s/it]\n",
      "Training (909 / 18000 Steps) (loss=0.82777): 100%|██████████| 7/7 [00:10<00:00,  1.46s/it]\n",
      "Training (916 / 18000 Steps) (loss=0.84873): 100%|██████████| 7/7 [00:09<00:00,  1.37s/it]\n",
      "Training (923 / 18000 Steps) (loss=0.84084): 100%|██████████| 7/7 [00:09<00:00,  1.41s/it]\n",
      "Training (930 / 18000 Steps) (loss=0.74101): 100%|██████████| 7/7 [00:11<00:00,  1.61s/it]\n",
      "Training (937 / 18000 Steps) (loss=0.83084): 100%|██████████| 7/7 [00:09<00:00,  1.29s/it]\n",
      "Training (944 / 18000 Steps) (loss=0.79025): 100%|██████████| 7/7 [00:09<00:00,  1.37s/it]\n",
      "Training (951 / 18000 Steps) (loss=0.79410): 100%|██████████| 7/7 [00:09<00:00,  1.39s/it]\n",
      "Training (958 / 18000 Steps) (loss=0.80164): 100%|██████████| 7/7 [00:10<00:00,  1.55s/it]\n",
      "Training (965 / 18000 Steps) (loss=0.77237): 100%|██████████| 7/7 [00:09<00:00,  1.31s/it]\n",
      "Training (972 / 18000 Steps) (loss=0.82147): 100%|██████████| 7/7 [00:09<00:00,  1.36s/it]\n",
      "Training (979 / 18000 Steps) (loss=0.80437): 100%|██████████| 7/7 [00:09<00:00,  1.41s/it]\n",
      "Training (986 / 18000 Steps) (loss=0.82074): 100%|██████████| 7/7 [00:10<00:00,  1.46s/it]\n",
      "Training (993 / 18000 Steps) (loss=0.73129): 100%|██████████| 7/7 [00:09<00:00,  1.41s/it]\n",
      "Validate (994 / 10 Steps): 100%|██████████| 2/2 [00:06<00:00,  3.19s/it]8<00:00,  1.31it/s]\n",
      "Training (1000 / 18000 Steps) (loss=0.79021): 100%|██████████| 7/7 [00:15<00:00,  2.20s/it]\n"
     ]
    },
    {
     "name": "stdout",
     "output_type": "stream",
     "text": [
      "Model Was Not Saved ! Current Best Avg. Dice: 0.3560687005519867 Current Avg. Dice: 0.3065761923789978 Current Avg. tumor Dice: 0.6131523847579956 Current Avg. lymph Dice: 0.0\n"
     ]
    },
    {
     "name": "stderr",
     "output_type": "stream",
     "text": [
      "Training (1007 / 18000 Steps) (loss=0.63481): 100%|██████████| 7/7 [00:09<00:00,  1.42s/it]\n",
      "Training (1014 / 18000 Steps) (loss=0.79768): 100%|██████████| 7/7 [00:09<00:00,  1.34s/it]\n",
      "Training (1021 / 18000 Steps) (loss=0.64046): 100%|██████████| 7/7 [00:09<00:00,  1.40s/it]\n",
      "Training (1028 / 18000 Steps) (loss=0.78986): 100%|██████████| 7/7 [00:09<00:00,  1.31s/it]\n",
      "Training (1035 / 18000 Steps) (loss=0.63332): 100%|██████████| 7/7 [00:09<00:00,  1.35s/it]\n",
      "Training (1042 / 18000 Steps) (loss=0.75811): 100%|██████████| 7/7 [00:10<00:00,  1.44s/it]\n",
      "Training (1049 / 18000 Steps) (loss=0.65798): 100%|██████████| 7/7 [00:09<00:00,  1.40s/it]\n",
      "Training (1056 / 18000 Steps) (loss=0.77343): 100%|██████████| 7/7 [00:10<00:00,  1.43s/it]\n",
      "Training (1063 / 18000 Steps) (loss=0.76265): 100%|██████████| 7/7 [00:09<00:00,  1.31s/it]\n",
      "Training (1070 / 18000 Steps) (loss=0.61855): 100%|██████████| 7/7 [00:09<00:00,  1.32s/it]\n",
      "Training (1077 / 18000 Steps) (loss=0.75006): 100%|██████████| 7/7 [00:09<00:00,  1.32s/it]\n",
      "Training (1084 / 18000 Steps) (loss=0.64983): 100%|██████████| 7/7 [00:10<00:00,  1.53s/it]\n",
      "Training (1091 / 18000 Steps) (loss=0.62690): 100%|██████████| 7/7 [00:09<00:00,  1.33s/it]\n",
      "Training (1098 / 18000 Steps) (loss=0.69990): 100%|██████████| 7/7 [00:08<00:00,  1.26s/it]\n",
      "Validate (1099 / 10 Steps): 100%|██████████| 2/2 [00:06<00:00,  3.21s/it]<00:49,  8.31s/it]\n",
      "Training (1100 / 18000 Steps) (loss=0.73514):  29%|██▊       | 2/7 [00:15<00:37,  7.52s/it]"
     ]
    },
    {
     "name": "stdout",
     "output_type": "stream",
     "text": [
      "Model Was Not Saved ! Current Best Avg. Dice: 0.3560687005519867 Current Avg. Dice: 0.3379015326499939 Current Avg. tumor Dice: 0.6758030652999878 Current Avg. lymph Dice: 0.0\n"
     ]
    },
    {
     "name": "stderr",
     "output_type": "stream",
     "text": [
      "Training (1105 / 18000 Steps) (loss=0.76475): 100%|██████████| 7/7 [00:17<00:00,  2.47s/it]\n",
      "Training (1112 / 18000 Steps) (loss=0.67702): 100%|██████████| 7/7 [00:09<00:00,  1.36s/it]\n",
      "Training (1119 / 18000 Steps) (loss=0.76533): 100%|██████████| 7/7 [00:10<00:00,  1.47s/it]\n",
      "Training (1126 / 18000 Steps) (loss=0.73592): 100%|██████████| 7/7 [00:10<00:00,  1.48s/it]\n",
      "Training (1133 / 18000 Steps) (loss=0.70972): 100%|██████████| 7/7 [00:10<00:00,  1.53s/it]\n",
      "Training (1140 / 18000 Steps) (loss=0.71011): 100%|██████████| 7/7 [00:09<00:00,  1.31s/it]\n",
      "Training (1147 / 18000 Steps) (loss=0.65645): 100%|██████████| 7/7 [00:10<00:00,  1.44s/it]\n",
      "Training (1154 / 18000 Steps) (loss=0.70226): 100%|██████████| 7/7 [00:09<00:00,  1.39s/it]\n",
      "Training (1161 / 18000 Steps) (loss=0.66222): 100%|██████████| 7/7 [00:09<00:00,  1.40s/it]\n",
      "Training (1168 / 18000 Steps) (loss=0.70239): 100%|██████████| 7/7 [00:10<00:00,  1.45s/it]\n",
      "Training (1175 / 18000 Steps) (loss=0.72748): 100%|██████████| 7/7 [00:10<00:00,  1.47s/it]\n",
      "Training (1182 / 18000 Steps) (loss=0.70582): 100%|██████████| 7/7 [00:09<00:00,  1.35s/it]\n",
      "Training (1189 / 18000 Steps) (loss=0.71559): 100%|██████████| 7/7 [00:09<00:00,  1.39s/it]\n",
      "Training (1196 / 18000 Steps) (loss=0.66442): 100%|██████████| 7/7 [00:08<00:00,  1.25s/it]\n",
      "Validate (1197 / 10 Steps): 100%|██████████| 2/2 [00:06<00:00,  3.18s/it]<00:09,  2.28s/it]\n",
      "Training (1200 / 18000 Steps) (loss=0.66793):  57%|█████▋    | 4/7 [00:17<00:13,  4.38s/it]"
     ]
    },
    {
     "name": "stdout",
     "output_type": "stream",
     "text": [
      "Model Was Saved ! Current Best Avg. Dice: 0.3738817572593689 Current Avg. Dice: 0.3738817572593689 Current Avg. tumor Dice: 0.7477635145187378 Current Avg. lymph Dice: 0.0\n"
     ]
    },
    {
     "name": "stderr",
     "output_type": "stream",
     "text": [
      "Training (1203 / 18000 Steps) (loss=0.70550): 100%|██████████| 7/7 [00:18<00:00,  2.62s/it]\n",
      "Training (1210 / 18000 Steps) (loss=0.73561): 100%|██████████| 7/7 [00:10<00:00,  1.44s/it]\n",
      "Training (1217 / 18000 Steps) (loss=0.76414): 100%|██████████| 7/7 [00:09<00:00,  1.36s/it]\n",
      "Training (1224 / 18000 Steps) (loss=0.61658): 100%|██████████| 7/7 [00:10<00:00,  1.44s/it]\n",
      "Training (1231 / 18000 Steps) (loss=0.72973): 100%|██████████| 7/7 [00:09<00:00,  1.38s/it]\n",
      "Training (1238 / 18000 Steps) (loss=0.70339): 100%|██████████| 7/7 [00:09<00:00,  1.31s/it]\n",
      "Training (1245 / 18000 Steps) (loss=0.70560): 100%|██████████| 7/7 [00:10<00:00,  1.46s/it]\n",
      "Training (1252 / 18000 Steps) (loss=0.74079): 100%|██████████| 7/7 [00:10<00:00,  1.57s/it]\n",
      "Training (1259 / 18000 Steps) (loss=0.70721): 100%|██████████| 7/7 [00:09<00:00,  1.37s/it]\n",
      "Training (1266 / 18000 Steps) (loss=0.54521): 100%|██████████| 7/7 [00:09<00:00,  1.40s/it]\n",
      "Training (1273 / 18000 Steps) (loss=0.70407): 100%|██████████| 7/7 [00:10<00:00,  1.53s/it]\n",
      "Training (1280 / 18000 Steps) (loss=0.72471): 100%|██████████| 7/7 [00:10<00:00,  1.51s/it]\n",
      "Training (1287 / 18000 Steps) (loss=0.74827): 100%|██████████| 7/7 [00:09<00:00,  1.32s/it]\n",
      "Training (1294 / 18000 Steps) (loss=0.65830): 100%|██████████| 7/7 [00:08<00:00,  1.28s/it]\n",
      "Validate (1295 / 10 Steps): 100%|██████████| 2/2 [00:06<00:00,  3.01s/it]<00:02,  1.12s/it]\n",
      "Training (1300 / 18000 Steps) (loss=0.65890):  86%|████████▌ | 6/7 [00:16<00:02,  2.95s/it]"
     ]
    },
    {
     "name": "stdout",
     "output_type": "stream",
     "text": [
      "Model Was Not Saved ! Current Best Avg. Dice: 0.3738817572593689 Current Avg. Dice: 0.3701621890068054 Current Avg. tumor Dice: 0.7403243780136108 Current Avg. lymph Dice: 0.0\n"
     ]
    },
    {
     "name": "stderr",
     "output_type": "stream",
     "text": [
      "Training (1301 / 18000 Steps) (loss=0.69395): 100%|██████████| 7/7 [00:16<00:00,  2.42s/it]\n",
      "Training (1308 / 18000 Steps) (loss=0.66011): 100%|██████████| 7/7 [00:09<00:00,  1.35s/it]\n",
      "Training (1315 / 18000 Steps) (loss=0.70323): 100%|██████████| 7/7 [00:10<00:00,  1.44s/it]\n",
      "Training (1322 / 18000 Steps) (loss=0.73353): 100%|██████████| 7/7 [00:10<00:00,  1.55s/it]\n",
      "Training (1329 / 18000 Steps) (loss=0.74059): 100%|██████████| 7/7 [00:09<00:00,  1.34s/it]\n",
      "Training (1336 / 18000 Steps) (loss=0.77378): 100%|██████████| 7/7 [00:09<00:00,  1.32s/it]\n",
      "Training (1343 / 18000 Steps) (loss=0.75269): 100%|██████████| 7/7 [00:10<00:00,  1.53s/it]\n",
      "Training (1350 / 18000 Steps) (loss=0.69878): 100%|██████████| 7/7 [00:10<00:00,  1.46s/it]\n",
      "Training (1357 / 18000 Steps) (loss=0.66526): 100%|██████████| 7/7 [00:08<00:00,  1.26s/it]\n",
      "Training (1364 / 18000 Steps) (loss=0.59644): 100%|██████████| 7/7 [00:09<00:00,  1.35s/it]\n",
      "Training (1371 / 18000 Steps) (loss=0.74451): 100%|██████████| 7/7 [00:09<00:00,  1.40s/it]\n",
      "Training (1378 / 18000 Steps) (loss=0.67426): 100%|██████████| 7/7 [00:10<00:00,  1.46s/it]\n",
      "Training (1385 / 18000 Steps) (loss=0.62092): 100%|██████████| 7/7 [00:09<00:00,  1.35s/it]\n",
      "Training (1392 / 18000 Steps) (loss=0.65993): 100%|██████████| 7/7 [00:10<00:00,  1.52s/it]\n",
      "Training (1399 / 18000 Steps) (loss=0.60746): 100%|██████████| 7/7 [00:09<00:00,  1.38s/it]\n",
      "Validate (1400 / 10 Steps): 100%|██████████| 2/2 [00:06<00:00,  3.23s/it]<?, ?it/s]\n",
      "Training (1400 / 18000 Steps) (loss=0.64317):  14%|█▍        | 1/7 [00:12<01:15, 12.51s/it]"
     ]
    },
    {
     "name": "stdout",
     "output_type": "stream",
     "text": [
      "Model Was Not Saved ! Current Best Avg. Dice: 0.3738817572593689 Current Avg. Dice: 0.35670557618141174 Current Avg. tumor Dice: 0.7134111523628235 Current Avg. lymph Dice: 0.0\n"
     ]
    },
    {
     "name": "stderr",
     "output_type": "stream",
     "text": [
      "Training (1406 / 18000 Steps) (loss=0.60505): 100%|██████████| 7/7 [00:14<00:00,  2.14s/it]\n",
      "Training (1413 / 18000 Steps) (loss=0.66937): 100%|██████████| 7/7 [00:09<00:00,  1.38s/it]\n",
      "Training (1420 / 18000 Steps) (loss=0.61080): 100%|██████████| 7/7 [00:10<00:00,  1.45s/it]\n",
      "Training (1427 / 18000 Steps) (loss=0.58867): 100%|██████████| 7/7 [00:10<00:00,  1.46s/it]\n",
      "Training (1434 / 18000 Steps) (loss=0.62886): 100%|██████████| 7/7 [00:09<00:00,  1.31s/it]\n",
      "Training (1441 / 18000 Steps) (loss=0.53070): 100%|██████████| 7/7 [00:09<00:00,  1.41s/it]\n",
      "Training (1448 / 18000 Steps) (loss=0.70103): 100%|██████████| 7/7 [00:09<00:00,  1.43s/it]\n",
      "Training (1455 / 18000 Steps) (loss=0.71651): 100%|██████████| 7/7 [00:09<00:00,  1.32s/it]\n",
      "Training (1462 / 18000 Steps) (loss=0.59323): 100%|██████████| 7/7 [00:09<00:00,  1.35s/it]\n",
      "Training (1469 / 18000 Steps) (loss=0.71268): 100%|██████████| 7/7 [00:09<00:00,  1.39s/it]\n",
      "Training (1476 / 18000 Steps) (loss=0.72927): 100%|██████████| 7/7 [00:09<00:00,  1.38s/it]\n",
      "Training (1483 / 18000 Steps) (loss=0.60727): 100%|██████████| 7/7 [00:09<00:00,  1.35s/it]\n",
      "Training (1490 / 18000 Steps) (loss=0.61412): 100%|██████████| 7/7 [00:09<00:00,  1.40s/it]\n",
      "Training (1497 / 18000 Steps) (loss=0.54031): 100%|██████████| 7/7 [00:11<00:00,  1.60s/it]\n",
      "Validate (1498 / 10 Steps): 100%|██████████| 2/2 [00:06<00:00,  3.21s/it]<00:17,  3.58s/it]\n",
      "Training (1500 / 18000 Steps) (loss=0.62918):  43%|████▎     | 3/7 [00:15<00:20,  5.12s/it]"
     ]
    },
    {
     "name": "stdout",
     "output_type": "stream",
     "text": [
      "Model Was Not Saved ! Current Best Avg. Dice: 0.3738817572593689 Current Avg. Dice: 0.35316962003707886 Current Avg. tumor Dice: 0.7063392400741577 Current Avg. lymph Dice: 0.0\n"
     ]
    },
    {
     "name": "stderr",
     "output_type": "stream",
     "text": [
      "Training (1504 / 18000 Steps) (loss=0.48078): 100%|██████████| 7/7 [00:17<00:00,  2.44s/it]\n",
      "Training (1511 / 18000 Steps) (loss=0.53439): 100%|██████████| 7/7 [00:09<00:00,  1.42s/it]\n",
      "Training (1518 / 18000 Steps) (loss=0.71521): 100%|██████████| 7/7 [00:10<00:00,  1.50s/it]\n",
      "Training (1525 / 18000 Steps) (loss=0.68170): 100%|██████████| 7/7 [00:09<00:00,  1.36s/it]\n",
      "Training (1532 / 18000 Steps) (loss=0.67583): 100%|██████████| 7/7 [00:10<00:00,  1.47s/it]\n",
      "Training (1539 / 18000 Steps) (loss=0.68434): 100%|██████████| 7/7 [00:09<00:00,  1.38s/it]\n",
      "Training (1546 / 18000 Steps) (loss=0.63008): 100%|██████████| 7/7 [00:10<00:00,  1.54s/it]\n",
      "Training (1553 / 18000 Steps) (loss=0.67983): 100%|██████████| 7/7 [00:09<00:00,  1.29s/it]\n",
      "Training (1560 / 18000 Steps) (loss=0.68237): 100%|██████████| 7/7 [00:09<00:00,  1.42s/it]\n",
      "Training (1567 / 18000 Steps) (loss=0.59753): 100%|██████████| 7/7 [00:10<00:00,  1.54s/it]\n",
      "Training (1574 / 18000 Steps) (loss=0.56989): 100%|██████████| 7/7 [00:09<00:00,  1.32s/it]\n",
      "Training (1581 / 18000 Steps) (loss=0.71178): 100%|██████████| 7/7 [00:09<00:00,  1.40s/it]\n",
      "Training (1588 / 18000 Steps) (loss=0.58869): 100%|██████████| 7/7 [00:10<00:00,  1.47s/it]\n",
      "Training (1595 / 18000 Steps) (loss=0.67938): 100%|██████████| 7/7 [00:09<00:00,  1.35s/it]\n",
      "Validate (1596 / 10 Steps): 100%|██████████| 2/2 [00:06<00:00,  3.15s/it]<00:04,  1.42s/it]\n",
      "Training (1600 / 18000 Steps) (loss=0.61787):  71%|███████▏  | 5/7 [00:16<00:07,  3.69s/it]"
     ]
    },
    {
     "name": "stdout",
     "output_type": "stream",
     "text": [
      "Model Was Saved ! Current Best Avg. Dice: 0.4542023539543152 Current Avg. Dice: 0.4542023539543152 Current Avg. tumor Dice: 0.6164597272872925 Current Avg. lymph Dice: 0.2919449210166931\n"
     ]
    },
    {
     "name": "stderr",
     "output_type": "stream",
     "text": [
      "Training (1602 / 18000 Steps) (loss=0.56460): 100%|██████████| 7/7 [00:17<00:00,  2.45s/it]\n",
      "Training (1609 / 18000 Steps) (loss=0.63454): 100%|██████████| 7/7 [00:09<00:00,  1.39s/it]\n",
      "Training (1616 / 18000 Steps) (loss=0.52822): 100%|██████████| 7/7 [00:10<00:00,  1.43s/it]\n",
      "Training (1623 / 18000 Steps) (loss=0.58330): 100%|██████████| 7/7 [00:10<00:00,  1.47s/it]\n",
      "Training (1630 / 18000 Steps) (loss=0.59625): 100%|██████████| 7/7 [00:10<00:00,  1.55s/it]\n",
      "Training (1637 / 18000 Steps) (loss=0.53755): 100%|██████████| 7/7 [00:10<00:00,  1.54s/it]\n",
      "Training (1644 / 18000 Steps) (loss=0.57924): 100%|██████████| 7/7 [00:09<00:00,  1.31s/it]\n",
      "Training (1651 / 18000 Steps) (loss=0.66741): 100%|██████████| 7/7 [00:09<00:00,  1.39s/it]\n",
      "Training (1658 / 18000 Steps) (loss=0.59406): 100%|██████████| 7/7 [00:08<00:00,  1.29s/it]\n",
      "Training (1665 / 18000 Steps) (loss=0.53288): 100%|██████████| 7/7 [00:10<00:00,  1.55s/it]\n",
      "Training (1672 / 18000 Steps) (loss=0.64927): 100%|██████████| 7/7 [00:09<00:00,  1.33s/it]\n",
      "Training (1679 / 18000 Steps) (loss=0.50670): 100%|██████████| 7/7 [00:09<00:00,  1.35s/it]\n",
      "Training (1686 / 18000 Steps) (loss=0.66582): 100%|██████████| 7/7 [00:11<00:00,  1.63s/it]\n",
      "Training (1693 / 18000 Steps) (loss=0.41036): 100%|██████████| 7/7 [00:10<00:00,  1.47s/it]\n",
      "Validate (1694 / 10 Steps): 100%|██████████| 2/2 [00:06<00:00,  3.14s/it]<00:00,  1.22it/s]\n",
      "Training (1700 / 18000 Steps) (loss=0.57558): 100%|██████████| 7/7 [00:16<00:00,  2.36s/it]\n"
     ]
    },
    {
     "name": "stdout",
     "output_type": "stream",
     "text": [
      "Model Was Saved ! Current Best Avg. Dice: 0.569252610206604 Current Avg. Dice: 0.569252610206604 Current Avg. tumor Dice: 0.7019259929656982 Current Avg. lymph Dice: 0.43657925724983215\n"
     ]
    },
    {
     "name": "stderr",
     "output_type": "stream",
     "text": [
      "Training (1707 / 18000 Steps) (loss=0.62275): 100%|██████████| 7/7 [00:09<00:00,  1.33s/it]\n",
      "Training (1714 / 18000 Steps) (loss=0.65088): 100%|██████████| 7/7 [00:08<00:00,  1.28s/it]\n",
      "Training (1721 / 18000 Steps) (loss=0.65524): 100%|██████████| 7/7 [00:10<00:00,  1.47s/it]\n",
      "Training (1728 / 18000 Steps) (loss=0.59108): 100%|██████████| 7/7 [00:10<00:00,  1.45s/it]\n",
      "Training (1735 / 18000 Steps) (loss=0.57320): 100%|██████████| 7/7 [00:09<00:00,  1.32s/it]\n",
      "Training (1742 / 18000 Steps) (loss=0.52522): 100%|██████████| 7/7 [00:10<00:00,  1.47s/it]\n",
      "Training (1749 / 18000 Steps) (loss=0.57593): 100%|██████████| 7/7 [00:09<00:00,  1.34s/it]\n",
      "Training (1756 / 18000 Steps) (loss=0.70817): 100%|██████████| 7/7 [00:08<00:00,  1.25s/it]\n",
      "Training (1763 / 18000 Steps) (loss=0.61578): 100%|██████████| 7/7 [00:10<00:00,  1.44s/it]\n",
      "Training (1770 / 18000 Steps) (loss=0.62514): 100%|██████████| 7/7 [00:09<00:00,  1.32s/it]\n",
      "Training (1777 / 18000 Steps) (loss=0.62877): 100%|██████████| 7/7 [00:08<00:00,  1.28s/it]\n",
      "Training (1784 / 18000 Steps) (loss=0.66499): 100%|██████████| 7/7 [00:10<00:00,  1.44s/it]\n",
      "Training (1791 / 18000 Steps) (loss=0.65138): 100%|██████████| 7/7 [00:08<00:00,  1.24s/it]\n",
      "Training (1798 / 18000 Steps) (loss=0.51432): 100%|██████████| 7/7 [00:10<00:00,  1.43s/it]\n",
      "Validate (1799 / 10 Steps): 100%|██████████| 2/2 [00:06<00:00,  3.31s/it]<00:40,  6.75s/it]\n",
      "Training (1800 / 18000 Steps) (loss=0.47335):  29%|██▊       | 2/7 [00:14<00:36,  7.30s/it]"
     ]
    },
    {
     "name": "stdout",
     "output_type": "stream",
     "text": [
      "Model Was Not Saved ! Current Best Avg. Dice: 0.569252610206604 Current Avg. Dice: 0.4957161247730255 Current Avg. tumor Dice: 0.7002328038215637 Current Avg. lymph Dice: 0.2911994755268097\n"
     ]
    },
    {
     "name": "stderr",
     "output_type": "stream",
     "text": [
      "Training (1805 / 18000 Steps) (loss=0.62301): 100%|██████████| 7/7 [00:16<00:00,  2.35s/it]\n",
      "Training (1812 / 18000 Steps) (loss=0.63788): 100%|██████████| 7/7 [00:09<00:00,  1.33s/it]\n",
      "Training (1819 / 18000 Steps) (loss=0.69387): 100%|██████████| 7/7 [00:10<00:00,  1.44s/it]\n",
      "Training (1826 / 18000 Steps) (loss=0.64228): 100%|██████████| 7/7 [00:09<00:00,  1.40s/it]\n",
      "Training (1833 / 18000 Steps) (loss=0.51521): 100%|██████████| 7/7 [00:09<00:00,  1.40s/it]\n",
      "Training (1840 / 18000 Steps) (loss=0.53857): 100%|██████████| 7/7 [00:09<00:00,  1.31s/it]\n",
      "Training (1847 / 18000 Steps) (loss=0.55464): 100%|██████████| 7/7 [00:08<00:00,  1.24s/it]\n",
      "Training (1854 / 18000 Steps) (loss=0.57734): 100%|██████████| 7/7 [00:09<00:00,  1.39s/it]\n",
      "Training (1861 / 18000 Steps) (loss=0.57970): 100%|██████████| 7/7 [00:09<00:00,  1.33s/it]\n",
      "Training (1868 / 18000 Steps) (loss=0.64135): 100%|██████████| 7/7 [00:09<00:00,  1.32s/it]\n",
      "Training (1875 / 18000 Steps) (loss=0.49024): 100%|██████████| 7/7 [00:08<00:00,  1.27s/it]\n",
      "Training (1882 / 18000 Steps) (loss=0.57547): 100%|██████████| 7/7 [00:10<00:00,  1.46s/it]\n",
      "Training (1889 / 18000 Steps) (loss=0.52693): 100%|██████████| 7/7 [00:09<00:00,  1.29s/it]\n",
      "Training (1896 / 18000 Steps) (loss=0.58515): 100%|██████████| 7/7 [00:09<00:00,  1.38s/it]\n",
      "Validate (1897 / 10 Steps): 100%|██████████| 2/2 [00:06<00:00,  3.23s/it]<00:07,  1.88s/it]\n",
      "Training (1900 / 18000 Steps) (loss=0.60242):  57%|█████▋    | 4/7 [00:15<00:12,  4.22s/it]"
     ]
    },
    {
     "name": "stdout",
     "output_type": "stream",
     "text": [
      "Model Was Saved ! Current Best Avg. Dice: 0.624803900718689 Current Avg. Dice: 0.624803900718689 Current Avg. tumor Dice: 0.7779395580291748 Current Avg. lymph Dice: 0.4716683030128479\n"
     ]
    },
    {
     "name": "stderr",
     "output_type": "stream",
     "text": [
      "Training (1903 / 18000 Steps) (loss=0.63468): 100%|██████████| 7/7 [00:16<00:00,  2.40s/it]\n",
      "Training (1910 / 18000 Steps) (loss=0.58062): 100%|██████████| 7/7 [00:09<00:00,  1.37s/it]\n",
      "Training (1917 / 18000 Steps) (loss=0.55673): 100%|██████████| 7/7 [00:09<00:00,  1.31s/it]\n",
      "Training (1924 / 18000 Steps) (loss=0.55416): 100%|██████████| 7/7 [00:09<00:00,  1.40s/it]\n",
      "Training (1931 / 18000 Steps) (loss=0.52933): 100%|██████████| 7/7 [00:09<00:00,  1.36s/it]\n",
      "Training (1938 / 18000 Steps) (loss=0.58277): 100%|██████████| 7/7 [00:09<00:00,  1.31s/it]\n",
      "Training (1945 / 18000 Steps) (loss=0.64216): 100%|██████████| 7/7 [00:09<00:00,  1.35s/it]\n",
      "Training (1952 / 18000 Steps) (loss=0.57199): 100%|██████████| 7/7 [00:09<00:00,  1.39s/it]\n",
      "Training (1959 / 18000 Steps) (loss=0.59290): 100%|██████████| 7/7 [00:10<00:00,  1.52s/it]\n",
      "Training (1966 / 18000 Steps) (loss=0.53044): 100%|██████████| 7/7 [00:08<00:00,  1.23s/it]\n",
      "Training (1973 / 18000 Steps) (loss=0.55088): 100%|██████████| 7/7 [00:10<00:00,  1.50s/it]\n",
      "Training (1980 / 18000 Steps) (loss=0.54997): 100%|██████████| 7/7 [00:09<00:00,  1.40s/it]\n",
      "Training (1987 / 18000 Steps) (loss=0.63018): 100%|██████████| 7/7 [00:08<00:00,  1.28s/it]\n",
      "Training (1994 / 18000 Steps) (loss=0.56344): 100%|██████████| 7/7 [00:09<00:00,  1.42s/it]\n",
      "Validate (1995 / 10 Steps): 100%|██████████| 2/2 [00:06<00:00,  3.12s/it]<00:02,  1.05s/it]\n",
      "Training (2000 / 18000 Steps) (loss=0.56826):  86%|████████▌ | 6/7 [00:15<00:02,  3.00s/it]"
     ]
    },
    {
     "name": "stdout",
     "output_type": "stream",
     "text": [
      "Model Was Not Saved ! Current Best Avg. Dice: 0.624803900718689 Current Avg. Dice: 0.5387925505638123 Current Avg. tumor Dice: 0.6773894429206848 Current Avg. lymph Dice: 0.4001956582069397\n"
     ]
    },
    {
     "name": "stderr",
     "output_type": "stream",
     "text": [
      "Training (2001 / 18000 Steps) (loss=0.48219): 100%|██████████| 7/7 [00:16<00:00,  2.32s/it]\n",
      "Training (2008 / 18000 Steps) (loss=0.63682): 100%|██████████| 7/7 [00:09<00:00,  1.33s/it]\n",
      "Training (2015 / 18000 Steps) (loss=0.44363): 100%|██████████| 7/7 [00:08<00:00,  1.28s/it]\n",
      "Training (2022 / 18000 Steps) (loss=0.59297): 100%|██████████| 7/7 [00:09<00:00,  1.41s/it]\n",
      "Training (2029 / 18000 Steps) (loss=0.56290): 100%|██████████| 7/7 [00:09<00:00,  1.35s/it]\n",
      "Training (2036 / 18000 Steps) (loss=0.45138): 100%|██████████| 7/7 [00:08<00:00,  1.24s/it]\n",
      "Training (2043 / 18000 Steps) (loss=0.48918): 100%|██████████| 7/7 [00:10<00:00,  1.49s/it]\n",
      "Training (2050 / 18000 Steps) (loss=0.52372): 100%|██████████| 7/7 [00:11<00:00,  1.63s/it]\n",
      "Training (2057 / 18000 Steps) (loss=0.64639): 100%|██████████| 7/7 [00:10<00:00,  1.46s/it]\n",
      "Training (2064 / 18000 Steps) (loss=0.49676): 100%|██████████| 7/7 [00:08<00:00,  1.27s/it]\n",
      "Training (2071 / 18000 Steps) (loss=0.55058): 100%|██████████| 7/7 [00:08<00:00,  1.23s/it]\n",
      "Training (2078 / 18000 Steps) (loss=0.61327): 100%|██████████| 7/7 [00:09<00:00,  1.39s/it]\n",
      "Training (2085 / 18000 Steps) (loss=0.60171): 100%|██████████| 7/7 [00:10<00:00,  1.52s/it]\n",
      "Training (2092 / 18000 Steps) (loss=0.45487): 100%|██████████| 7/7 [00:08<00:00,  1.27s/it]\n",
      "Training (2099 / 18000 Steps) (loss=0.63627): 100%|██████████| 7/7 [00:09<00:00,  1.38s/it]\n",
      "Validate (2100 / 10 Steps): 100%|██████████| 2/2 [00:06<00:00,  3.49s/it]<?, ?it/s]\n",
      "Training (2100 / 18000 Steps) (loss=0.56642):  14%|█▍        | 1/7 [00:13<01:23, 13.95s/it]"
     ]
    },
    {
     "name": "stdout",
     "output_type": "stream",
     "text": [
      "Model Was Not Saved ! Current Best Avg. Dice: 0.624803900718689 Current Avg. Dice: 0.6054390668869019 Current Avg. tumor Dice: 0.7711412906646729 Current Avg. lymph Dice: 0.43973687291145325\n"
     ]
    },
    {
     "name": "stderr",
     "output_type": "stream",
     "text": [
      "Training (2106 / 18000 Steps) (loss=0.56210): 100%|██████████| 7/7 [00:16<00:00,  2.35s/it]\n",
      "Training (2113 / 18000 Steps) (loss=0.40390): 100%|██████████| 7/7 [00:10<00:00,  1.44s/it]\n",
      "Training (2120 / 18000 Steps) (loss=0.50256): 100%|██████████| 7/7 [00:09<00:00,  1.34s/it]\n",
      "Training (2127 / 18000 Steps) (loss=0.60030): 100%|██████████| 7/7 [00:09<00:00,  1.34s/it]\n",
      "Training (2134 / 18000 Steps) (loss=0.45288): 100%|██████████| 7/7 [00:08<00:00,  1.28s/it]\n",
      "Training (2141 / 18000 Steps) (loss=0.55003): 100%|██████████| 7/7 [00:10<00:00,  1.44s/it]\n",
      "Training (2148 / 18000 Steps) (loss=0.54173): 100%|██████████| 7/7 [00:10<00:00,  1.49s/it]\n",
      "Training (2155 / 18000 Steps) (loss=0.51531): 100%|██████████| 7/7 [00:09<00:00,  1.35s/it]\n",
      "Training (2162 / 18000 Steps) (loss=0.41389): 100%|██████████| 7/7 [00:10<00:00,  1.44s/it]\n",
      "Training (2169 / 18000 Steps) (loss=0.50159): 100%|██████████| 7/7 [00:10<00:00,  1.45s/it]\n",
      "Training (2176 / 18000 Steps) (loss=0.44147): 100%|██████████| 7/7 [00:10<00:00,  1.57s/it]\n",
      "Training (2183 / 18000 Steps) (loss=0.52540): 100%|██████████| 7/7 [00:10<00:00,  1.46s/it]\n",
      "Training (2190 / 18000 Steps) (loss=0.52877): 100%|██████████| 7/7 [00:09<00:00,  1.39s/it]\n",
      "Training (2197 / 18000 Steps) (loss=0.38169): 100%|██████████| 7/7 [00:10<00:00,  1.54s/it]\n",
      "Validate (2198 / 10 Steps): 100%|██████████| 2/2 [00:06<00:00,  3.16s/it]<00:17,  3.57s/it]\n",
      "Training (2200 / 18000 Steps) (loss=0.50088):  43%|████▎     | 3/7 [00:14<00:20,  5.07s/it]"
     ]
    },
    {
     "name": "stdout",
     "output_type": "stream",
     "text": [
      "Model Was Not Saved ! Current Best Avg. Dice: 0.624803900718689 Current Avg. Dice: 0.5443060398101807 Current Avg. tumor Dice: 0.6647456884384155 Current Avg. lymph Dice: 0.4238663911819458\n"
     ]
    },
    {
     "name": "stderr",
     "output_type": "stream",
     "text": [
      "Training (2204 / 18000 Steps) (loss=0.59739): 100%|██████████| 7/7 [00:16<00:00,  2.34s/it]\n",
      "Training (2211 / 18000 Steps) (loss=0.29223): 100%|██████████| 7/7 [00:09<00:00,  1.37s/it]\n",
      "Training (2218 / 18000 Steps) (loss=0.61437): 100%|██████████| 7/7 [00:09<00:00,  1.42s/it]\n",
      "Training (2225 / 18000 Steps) (loss=0.61897): 100%|██████████| 7/7 [00:09<00:00,  1.36s/it]\n",
      "Training (2232 / 18000 Steps) (loss=0.60433): 100%|██████████| 7/7 [00:10<00:00,  1.54s/it]\n",
      "Training (2239 / 18000 Steps) (loss=0.53905): 100%|██████████| 7/7 [00:09<00:00,  1.37s/it]\n",
      "Training (2246 / 18000 Steps) (loss=0.47114): 100%|██████████| 7/7 [00:09<00:00,  1.36s/it]\n",
      "Training (2253 / 18000 Steps) (loss=0.61119): 100%|██████████| 7/7 [00:09<00:00,  1.38s/it]\n",
      "Training (2260 / 18000 Steps) (loss=0.39743): 100%|██████████| 7/7 [00:09<00:00,  1.36s/it]\n",
      "Training (2267 / 18000 Steps) (loss=0.52464): 100%|██████████| 7/7 [00:09<00:00,  1.41s/it]\n",
      "Training (2274 / 18000 Steps) (loss=0.44641): 100%|██████████| 7/7 [00:09<00:00,  1.30s/it]\n",
      "Training (2281 / 18000 Steps) (loss=0.43184): 100%|██████████| 7/7 [00:08<00:00,  1.23s/it]\n",
      "Training (2288 / 18000 Steps) (loss=0.55600): 100%|██████████| 7/7 [00:10<00:00,  1.49s/it]\n",
      "Training (2295 / 18000 Steps) (loss=0.59725): 100%|██████████| 7/7 [00:10<00:00,  1.56s/it]\n",
      "Validate (2296 / 10 Steps): 100%|██████████| 2/2 [00:06<00:00,  3.14s/it]<00:03,  1.32s/it]\n",
      "Training (2300 / 18000 Steps) (loss=0.55255):  71%|███████▏  | 5/7 [00:14<00:06,  3.30s/it]"
     ]
    },
    {
     "name": "stdout",
     "output_type": "stream",
     "text": [
      "Model Was Not Saved ! Current Best Avg. Dice: 0.624803900718689 Current Avg. Dice: 0.5840647220611572 Current Avg. tumor Dice: 0.7581862807273865 Current Avg. lymph Dice: 0.409943163394928\n"
     ]
    },
    {
     "name": "stderr",
     "output_type": "stream",
     "text": [
      "Training (2302 / 18000 Steps) (loss=0.55397): 100%|██████████| 7/7 [00:15<00:00,  2.24s/it]\n",
      "Training (2309 / 18000 Steps) (loss=0.41970): 100%|██████████| 7/7 [00:10<00:00,  1.44s/it]\n",
      "Training (2316 / 18000 Steps) (loss=0.55090): 100%|██████████| 7/7 [00:10<00:00,  1.49s/it]\n",
      "Training (2323 / 18000 Steps) (loss=0.51775): 100%|██████████| 7/7 [00:10<00:00,  1.45s/it]\n",
      "Training (2330 / 18000 Steps) (loss=0.50817): 100%|██████████| 7/7 [00:09<00:00,  1.36s/it]\n",
      "Training (2337 / 18000 Steps) (loss=0.64278): 100%|██████████| 7/7 [00:09<00:00,  1.39s/it]\n",
      "Training (2344 / 18000 Steps) (loss=0.48043): 100%|██████████| 7/7 [00:09<00:00,  1.35s/it]\n",
      "Training (2351 / 18000 Steps) (loss=0.49644): 100%|██████████| 7/7 [00:09<00:00,  1.39s/it]\n",
      "Training (2358 / 18000 Steps) (loss=0.33835): 100%|██████████| 7/7 [00:09<00:00,  1.37s/it]\n",
      "Training (2365 / 18000 Steps) (loss=0.62611): 100%|██████████| 7/7 [00:09<00:00,  1.35s/it]\n",
      "Training (2372 / 18000 Steps) (loss=0.33212): 100%|██████████| 7/7 [00:10<00:00,  1.47s/it]\n",
      "Training (2379 / 18000 Steps) (loss=0.56092): 100%|██████████| 7/7 [00:09<00:00,  1.34s/it]\n",
      "Training (2386 / 18000 Steps) (loss=0.47899): 100%|██████████| 7/7 [00:08<00:00,  1.21s/it]\n",
      "Training (2393 / 18000 Steps) (loss=0.51023): 100%|██████████| 7/7 [00:09<00:00,  1.41s/it]\n",
      "Validate (2394 / 10 Steps): 100%|██████████| 2/2 [00:06<00:00,  3.03s/it]<00:00,  1.27it/s]\n",
      "Training (2400 / 18000 Steps) (loss=0.63396): 100%|██████████| 7/7 [00:16<00:00,  2.31s/it]\n"
     ]
    },
    {
     "name": "stdout",
     "output_type": "stream",
     "text": [
      "Model Was Saved ! Current Best Avg. Dice: 0.6343972086906433 Current Avg. Dice: 0.6343972086906433 Current Avg. tumor Dice: 0.7921886444091797 Current Avg. lymph Dice: 0.4766058325767517\n"
     ]
    },
    {
     "name": "stderr",
     "output_type": "stream",
     "text": [
      "Training (2407 / 18000 Steps) (loss=0.64228): 100%|██████████| 7/7 [00:09<00:00,  1.34s/it]\n",
      "Training (2414 / 18000 Steps) (loss=0.41245): 100%|██████████| 7/7 [00:09<00:00,  1.41s/it]\n",
      "Training (2421 / 18000 Steps) (loss=0.50380): 100%|██████████| 7/7 [00:10<00:00,  1.43s/it]\n",
      "Training (2428 / 18000 Steps) (loss=0.65733): 100%|██████████| 7/7 [00:09<00:00,  1.36s/it]\n",
      "Training (2435 / 18000 Steps) (loss=0.40827): 100%|██████████| 7/7 [00:09<00:00,  1.32s/it]\n",
      "Training (2442 / 18000 Steps) (loss=0.57713): 100%|██████████| 7/7 [00:10<00:00,  1.45s/it]\n",
      "Training (2449 / 18000 Steps) (loss=0.42765): 100%|██████████| 7/7 [00:09<00:00,  1.30s/it]\n",
      "Training (2456 / 18000 Steps) (loss=0.49646): 100%|██████████| 7/7 [00:09<00:00,  1.40s/it]\n",
      "Training (2463 / 18000 Steps) (loss=0.52901): 100%|██████████| 7/7 [00:08<00:00,  1.28s/it]\n",
      "Training (2470 / 18000 Steps) (loss=0.57548): 100%|██████████| 7/7 [00:10<00:00,  1.49s/it]\n",
      "Training (2477 / 18000 Steps) (loss=0.52592): 100%|██████████| 7/7 [00:09<00:00,  1.32s/it]\n",
      "Training (2484 / 18000 Steps) (loss=0.52709): 100%|██████████| 7/7 [00:09<00:00,  1.29s/it]\n",
      "Training (2491 / 18000 Steps) (loss=0.50957): 100%|██████████| 7/7 [00:09<00:00,  1.34s/it]\n",
      "Training (2498 / 18000 Steps) (loss=0.51364): 100%|██████████| 7/7 [00:09<00:00,  1.36s/it]\n",
      "Validate (2499 / 10 Steps): 100%|██████████| 2/2 [00:06<00:00,  3.10s/it]<00:44,  7.36s/it]\n",
      "Training (2500 / 18000 Steps) (loss=0.51280):  29%|██▊       | 2/7 [00:14<00:34,  6.99s/it]"
     ]
    },
    {
     "name": "stdout",
     "output_type": "stream",
     "text": [
      "Model Was Not Saved ! Current Best Avg. Dice: 0.6343972086906433 Current Avg. Dice: 0.5681876540184021 Current Avg. tumor Dice: 0.7099323272705078 Current Avg. lymph Dice: 0.4264429807662964\n"
     ]
    },
    {
     "name": "stderr",
     "output_type": "stream",
     "text": [
      "Training (2505 / 18000 Steps) (loss=0.47962): 100%|██████████| 7/7 [00:16<00:00,  2.31s/it]\n",
      "Training (2512 / 18000 Steps) (loss=0.64049): 100%|██████████| 7/7 [00:10<00:00,  1.46s/it]\n",
      "Training (2519 / 18000 Steps) (loss=0.57073): 100%|██████████| 7/7 [00:08<00:00,  1.25s/it]\n",
      "Training (2526 / 18000 Steps) (loss=0.59971): 100%|██████████| 7/7 [00:08<00:00,  1.24s/it]\n",
      "Training (2533 / 18000 Steps) (loss=0.45881): 100%|██████████| 7/7 [00:09<00:00,  1.41s/it]\n",
      "Training (2540 / 18000 Steps) (loss=0.56162): 100%|██████████| 7/7 [00:09<00:00,  1.42s/it]\n",
      "Training (2547 / 18000 Steps) (loss=0.64078): 100%|██████████| 7/7 [00:09<00:00,  1.34s/it]\n",
      "Training (2554 / 18000 Steps) (loss=0.42231): 100%|██████████| 7/7 [00:10<00:00,  1.50s/it]\n",
      "Training (2561 / 18000 Steps) (loss=0.58654): 100%|██████████| 7/7 [00:10<00:00,  1.54s/it]\n",
      "Training (2568 / 18000 Steps) (loss=0.45554): 100%|██████████| 7/7 [00:10<00:00,  1.50s/it]\n",
      "Training (2575 / 18000 Steps) (loss=0.49212): 100%|██████████| 7/7 [00:09<00:00,  1.38s/it]\n",
      "Training (2582 / 18000 Steps) (loss=0.33735): 100%|██████████| 7/7 [00:09<00:00,  1.39s/it]\n",
      "Training (2589 / 18000 Steps) (loss=0.57092): 100%|██████████| 7/7 [00:10<00:00,  1.52s/it]\n",
      "Training (2596 / 18000 Steps) (loss=0.24836): 100%|██████████| 7/7 [00:08<00:00,  1.24s/it]\n",
      "Validate (2597 / 10 Steps): 100%|██████████| 2/2 [00:06<00:00,  3.16s/it]<00:07,  1.89s/it]\n",
      "Training (2600 / 18000 Steps) (loss=0.41449):  57%|█████▋    | 4/7 [00:14<00:11,  3.84s/it]"
     ]
    },
    {
     "name": "stdout",
     "output_type": "stream",
     "text": [
      "Model Was Not Saved ! Current Best Avg. Dice: 0.6343972086906433 Current Avg. Dice: 0.5630800127983093 Current Avg. tumor Dice: 0.6929078102111816 Current Avg. lymph Dice: 0.4332522451877594\n"
     ]
    },
    {
     "name": "stderr",
     "output_type": "stream",
     "text": [
      "Training (2603 / 18000 Steps) (loss=0.64918): 100%|██████████| 7/7 [00:15<00:00,  2.26s/it]\n",
      "Training (2610 / 18000 Steps) (loss=0.49513): 100%|██████████| 7/7 [00:10<00:00,  1.46s/it]\n",
      "Training (2617 / 18000 Steps) (loss=0.45542): 100%|██████████| 7/7 [00:09<00:00,  1.34s/it]\n",
      "Training (2624 / 18000 Steps) (loss=0.43563): 100%|██████████| 7/7 [00:09<00:00,  1.32s/it]\n",
      "Training (2631 / 18000 Steps) (loss=0.38128): 100%|██████████| 7/7 [00:10<00:00,  1.46s/it]\n",
      "Training (2638 / 18000 Steps) (loss=0.48538): 100%|██████████| 7/7 [00:10<00:00,  1.45s/it]\n",
      "Training (2645 / 18000 Steps) (loss=0.38021): 100%|██████████| 7/7 [00:09<00:00,  1.40s/it]\n",
      "Training (2652 / 18000 Steps) (loss=0.42736): 100%|██████████| 7/7 [00:08<00:00,  1.25s/it]\n",
      "Training (2659 / 18000 Steps) (loss=0.31159): 100%|██████████| 7/7 [00:09<00:00,  1.34s/it]\n",
      "Training (2666 / 18000 Steps) (loss=0.46808): 100%|██████████| 7/7 [00:09<00:00,  1.36s/it]\n",
      "Training (2673 / 18000 Steps) (loss=0.44543): 100%|██████████| 7/7 [00:09<00:00,  1.29s/it]\n",
      "Training (2680 / 18000 Steps) (loss=0.60619): 100%|██████████| 7/7 [00:09<00:00,  1.32s/it]\n",
      "Training (2687 / 18000 Steps) (loss=0.54794): 100%|██████████| 7/7 [00:10<00:00,  1.47s/it]\n",
      "Training (2694 / 18000 Steps) (loss=0.49895): 100%|██████████| 7/7 [00:09<00:00,  1.32s/it]\n",
      "Validate (2695 / 10 Steps): 100%|██████████| 2/2 [00:06<00:00,  3.21s/it]<00:02,  1.02s/it]\n",
      "Training (2700 / 18000 Steps) (loss=0.50794):  86%|████████▌ | 6/7 [00:15<00:03,  3.03s/it]"
     ]
    },
    {
     "name": "stdout",
     "output_type": "stream",
     "text": [
      "Model Was Not Saved ! Current Best Avg. Dice: 0.6343972086906433 Current Avg. Dice: 0.623266339302063 Current Avg. tumor Dice: 0.7918102741241455 Current Avg. lymph Dice: 0.4547223448753357\n"
     ]
    },
    {
     "name": "stderr",
     "output_type": "stream",
     "text": [
      "Training (2701 / 18000 Steps) (loss=0.59259): 100%|██████████| 7/7 [00:16<00:00,  2.33s/it]\n",
      "Training (2708 / 18000 Steps) (loss=0.59052): 100%|██████████| 7/7 [00:10<00:00,  1.47s/it]\n",
      "Training (2715 / 18000 Steps) (loss=0.28151): 100%|██████████| 7/7 [00:09<00:00,  1.34s/it]\n",
      "Training (2722 / 18000 Steps) (loss=0.34368): 100%|██████████| 7/7 [00:09<00:00,  1.39s/it]\n",
      "Training (2729 / 18000 Steps) (loss=0.63511): 100%|██████████| 7/7 [00:09<00:00,  1.40s/it]\n",
      "Training (2736 / 18000 Steps) (loss=0.39659): 100%|██████████| 7/7 [00:09<00:00,  1.37s/it]\n",
      "Training (2743 / 18000 Steps) (loss=0.42058): 100%|██████████| 7/7 [00:09<00:00,  1.39s/it]\n",
      "Training (2750 / 18000 Steps) (loss=0.45822): 100%|██████████| 7/7 [00:09<00:00,  1.29s/it]\n",
      "Training (2757 / 18000 Steps) (loss=0.39132): 100%|██████████| 7/7 [00:10<00:00,  1.52s/it]\n",
      "Training (2764 / 18000 Steps) (loss=0.42299): 100%|██████████| 7/7 [00:09<00:00,  1.34s/it]\n",
      "Training (2771 / 18000 Steps) (loss=0.37901): 100%|██████████| 7/7 [00:09<00:00,  1.40s/it]\n",
      "Training (2778 / 18000 Steps) (loss=0.48215): 100%|██████████| 7/7 [00:09<00:00,  1.36s/it]\n",
      "Training (2785 / 18000 Steps) (loss=0.51950): 100%|██████████| 7/7 [00:10<00:00,  1.43s/it]\n",
      "Training (2792 / 18000 Steps) (loss=0.59443): 100%|██████████| 7/7 [00:09<00:00,  1.36s/it]\n",
      "Training (2799 / 18000 Steps) (loss=0.56883): 100%|██████████| 7/7 [00:09<00:00,  1.34s/it]\n",
      "Validate (2800 / 10 Steps): 100%|██████████| 2/2 [00:06<00:00,  3.06s/it]<?, ?it/s]\n",
      "Training (2800 / 18000 Steps) (loss=0.35647):  14%|█▍        | 1/7 [00:13<01:22, 13.76s/it]"
     ]
    },
    {
     "name": "stdout",
     "output_type": "stream",
     "text": [
      "Model Was Not Saved ! Current Best Avg. Dice: 0.6343972086906433 Current Avg. Dice: 0.6278605461120605 Current Avg. tumor Dice: 0.7786092162132263 Current Avg. lymph Dice: 0.47711190581321716\n"
     ]
    },
    {
     "name": "stderr",
     "output_type": "stream",
     "text": [
      "Training (2806 / 18000 Steps) (loss=0.43131): 100%|██████████| 7/7 [00:16<00:00,  2.31s/it]\n",
      "Training (2813 / 18000 Steps) (loss=0.42352): 100%|██████████| 7/7 [00:10<00:00,  1.45s/it]\n",
      "Training (2820 / 18000 Steps) (loss=0.47313): 100%|██████████| 7/7 [00:08<00:00,  1.26s/it]\n",
      "Training (2827 / 18000 Steps) (loss=0.58063): 100%|██████████| 7/7 [00:09<00:00,  1.42s/it]\n",
      "Training (2834 / 18000 Steps) (loss=0.61985): 100%|██████████| 7/7 [00:09<00:00,  1.42s/it]\n",
      "Training (2841 / 18000 Steps) (loss=0.43197): 100%|██████████| 7/7 [00:09<00:00,  1.32s/it]\n",
      "Training (2848 / 18000 Steps) (loss=0.49225): 100%|██████████| 7/7 [00:09<00:00,  1.37s/it]\n",
      "Training (2855 / 18000 Steps) (loss=0.57759): 100%|██████████| 7/7 [00:10<00:00,  1.46s/it]\n",
      "Training (2862 / 18000 Steps) (loss=0.40132): 100%|██████████| 7/7 [00:09<00:00,  1.39s/it]\n",
      "Training (2869 / 18000 Steps) (loss=0.56572): 100%|██████████| 7/7 [00:08<00:00,  1.24s/it]\n",
      "Training (2876 / 18000 Steps) (loss=0.21432): 100%|██████████| 7/7 [00:10<00:00,  1.47s/it]\n",
      "Training (2883 / 18000 Steps) (loss=0.47681): 100%|██████████| 7/7 [00:09<00:00,  1.33s/it]\n",
      "Training (2890 / 18000 Steps) (loss=0.32618): 100%|██████████| 7/7 [00:08<00:00,  1.26s/it]\n",
      "Training (2897 / 18000 Steps) (loss=0.26903): 100%|██████████| 7/7 [00:08<00:00,  1.23s/it]\n",
      "Validate (2898 / 10 Steps): 100%|██████████| 2/2 [00:06<00:00,  3.31s/it]<00:17,  3.54s/it]\n",
      "Training (2900 / 18000 Steps) (loss=0.53487):  43%|████▎     | 3/7 [00:15<00:20,  5.18s/it]"
     ]
    },
    {
     "name": "stdout",
     "output_type": "stream",
     "text": [
      "Model Was Not Saved ! Current Best Avg. Dice: 0.6343972086906433 Current Avg. Dice: 0.6048393845558167 Current Avg. tumor Dice: 0.7756096124649048 Current Avg. lymph Dice: 0.4340691566467285\n"
     ]
    },
    {
     "name": "stderr",
     "output_type": "stream",
     "text": [
      "Training (2904 / 18000 Steps) (loss=0.55881): 100%|██████████| 7/7 [00:17<00:00,  2.45s/it]\n",
      "Training (2911 / 18000 Steps) (loss=0.49444): 100%|██████████| 7/7 [00:10<00:00,  1.55s/it]\n",
      "Training (2918 / 18000 Steps) (loss=0.54735): 100%|██████████| 7/7 [00:10<00:00,  1.46s/it]\n",
      "Training (2925 / 18000 Steps) (loss=0.41071): 100%|██████████| 7/7 [00:09<00:00,  1.34s/it]\n",
      "Training (2932 / 18000 Steps) (loss=0.45684): 100%|██████████| 7/7 [00:09<00:00,  1.33s/it]\n",
      "Training (2939 / 18000 Steps) (loss=0.37458): 100%|██████████| 7/7 [00:09<00:00,  1.42s/it]\n",
      "Training (2946 / 18000 Steps) (loss=0.49473): 100%|██████████| 7/7 [00:09<00:00,  1.31s/it]\n",
      "Training (2953 / 18000 Steps) (loss=0.49848): 100%|██████████| 7/7 [00:09<00:00,  1.33s/it]\n",
      "Training (2960 / 18000 Steps) (loss=0.45393): 100%|██████████| 7/7 [00:09<00:00,  1.31s/it]\n",
      "Training (2967 / 18000 Steps) (loss=0.37540): 100%|██████████| 7/7 [00:08<00:00,  1.26s/it]\n",
      "Training (2974 / 18000 Steps) (loss=0.50148): 100%|██████████| 7/7 [00:09<00:00,  1.32s/it]\n",
      "Training (2981 / 18000 Steps) (loss=0.48484): 100%|██████████| 7/7 [00:10<00:00,  1.43s/it]\n",
      "Training (2988 / 18000 Steps) (loss=0.24585): 100%|██████████| 7/7 [00:10<00:00,  1.44s/it]\n",
      "Training (2995 / 18000 Steps) (loss=0.21804): 100%|██████████| 7/7 [00:09<00:00,  1.33s/it]\n",
      "Validate (2996 / 10 Steps): 100%|██████████| 2/2 [00:06<00:00,  3.23s/it]<00:04,  1.34s/it]\n",
      "Training (3000 / 18000 Steps) (loss=0.39951):  71%|███████▏  | 5/7 [00:15<00:06,  3.36s/it]"
     ]
    },
    {
     "name": "stdout",
     "output_type": "stream",
     "text": [
      "Model Was Not Saved ! Current Best Avg. Dice: 0.6343972086906433 Current Avg. Dice: 0.5951619744300842 Current Avg. tumor Dice: 0.7602604627609253 Current Avg. lymph Dice: 0.43006348609924316\n"
     ]
    },
    {
     "name": "stderr",
     "output_type": "stream",
     "text": [
      "Training (3002 / 18000 Steps) (loss=0.50036): 100%|██████████| 7/7 [00:16<00:00,  2.31s/it]\n",
      "Training (3009 / 18000 Steps) (loss=0.67552): 100%|██████████| 7/7 [00:08<00:00,  1.28s/it]\n",
      "Training (3016 / 18000 Steps) (loss=0.55406): 100%|██████████| 7/7 [00:09<00:00,  1.38s/it]\n",
      "Training (3023 / 18000 Steps) (loss=0.40152): 100%|██████████| 7/7 [00:10<00:00,  1.50s/it]\n",
      "Training (3030 / 18000 Steps) (loss=0.32231): 100%|██████████| 7/7 [00:10<00:00,  1.46s/it]\n",
      "Training (3037 / 18000 Steps) (loss=0.61562): 100%|██████████| 7/7 [00:10<00:00,  1.51s/it]\n",
      "Training (3044 / 18000 Steps) (loss=0.51276): 100%|██████████| 7/7 [00:08<00:00,  1.27s/it]\n",
      "Training (3051 / 18000 Steps) (loss=0.55122): 100%|██████████| 7/7 [00:09<00:00,  1.36s/it]\n",
      "Training (3058 / 18000 Steps) (loss=0.59004): 100%|██████████| 7/7 [00:09<00:00,  1.40s/it]\n",
      "Training (3065 / 18000 Steps) (loss=0.45412): 100%|██████████| 7/7 [00:09<00:00,  1.42s/it]\n",
      "Training (3072 / 18000 Steps) (loss=0.41654): 100%|██████████| 7/7 [00:08<00:00,  1.24s/it]\n",
      "Training (3079 / 18000 Steps) (loss=0.43029): 100%|██████████| 7/7 [00:08<00:00,  1.28s/it]\n",
      "Training (3086 / 18000 Steps) (loss=0.28417): 100%|██████████| 7/7 [00:09<00:00,  1.29s/it]\n",
      "Training (3093 / 18000 Steps) (loss=0.48812): 100%|██████████| 7/7 [00:10<00:00,  1.47s/it]\n",
      "Validate (3094 / 10 Steps): 100%|██████████| 2/2 [00:06<00:00,  3.00s/it]<00:00,  1.19it/s]\n",
      "Training (3100 / 18000 Steps) (loss=0.53986): 100%|██████████| 7/7 [00:16<00:00,  2.33s/it]\n"
     ]
    },
    {
     "name": "stdout",
     "output_type": "stream",
     "text": [
      "Model Was Not Saved ! Current Best Avg. Dice: 0.6343972086906433 Current Avg. Dice: 0.6126996278762817 Current Avg. tumor Dice: 0.7076971530914307 Current Avg. lymph Dice: 0.517702043056488\n"
     ]
    },
    {
     "name": "stderr",
     "output_type": "stream",
     "text": [
      "Training (3107 / 18000 Steps) (loss=0.41818): 100%|██████████| 7/7 [00:10<00:00,  1.45s/it]\n",
      "Training (3114 / 18000 Steps) (loss=0.42612): 100%|██████████| 7/7 [00:09<00:00,  1.31s/it]\n",
      "Training (3121 / 18000 Steps) (loss=0.61991): 100%|██████████| 7/7 [00:10<00:00,  1.47s/it]\n",
      "Training (3128 / 18000 Steps) (loss=0.60043): 100%|██████████| 7/7 [00:08<00:00,  1.25s/it]\n",
      "Training (3135 / 18000 Steps) (loss=0.59294): 100%|██████████| 7/7 [00:08<00:00,  1.21s/it]\n",
      "Training (3142 / 18000 Steps) (loss=0.46830): 100%|██████████| 7/7 [00:09<00:00,  1.40s/it]\n",
      "Training (3149 / 18000 Steps) (loss=0.51666): 100%|██████████| 7/7 [00:09<00:00,  1.37s/it]\n",
      "Training (3156 / 18000 Steps) (loss=0.45894): 100%|██████████| 7/7 [00:10<00:00,  1.45s/it]\n",
      "Training (3163 / 18000 Steps) (loss=0.46833): 100%|██████████| 7/7 [00:08<00:00,  1.26s/it]\n",
      "Training (3170 / 18000 Steps) (loss=0.53753): 100%|██████████| 7/7 [00:10<00:00,  1.47s/it]\n",
      "Training (3177 / 18000 Steps) (loss=0.36003): 100%|██████████| 7/7 [00:09<00:00,  1.32s/it]\n",
      "Training (3184 / 18000 Steps) (loss=0.63471): 100%|██████████| 7/7 [00:09<00:00,  1.39s/it]\n",
      "Training (3191 / 18000 Steps) (loss=0.30432): 100%|██████████| 7/7 [00:09<00:00,  1.40s/it]\n",
      "Training (3198 / 18000 Steps) (loss=0.39225): 100%|██████████| 7/7 [00:09<00:00,  1.43s/it]\n",
      "Validate (3199 / 10 Steps): 100%|██████████| 2/2 [00:06<00:00,  3.08s/it]<00:34,  5.78s/it]\n",
      "Training (3200 / 18000 Steps) (loss=0.56089):  29%|██▊       | 2/7 [00:14<00:36,  7.34s/it]"
     ]
    },
    {
     "name": "stdout",
     "output_type": "stream",
     "text": [
      "Model Was Not Saved ! Current Best Avg. Dice: 0.6343972086906433 Current Avg. Dice: 0.5486007332801819 Current Avg. tumor Dice: 0.6666429042816162 Current Avg. lymph Dice: 0.43055853247642517\n"
     ]
    },
    {
     "name": "stderr",
     "output_type": "stream",
     "text": [
      "Training (3205 / 18000 Steps) (loss=0.52889): 100%|██████████| 7/7 [00:16<00:00,  2.32s/it]\n",
      "Training (3212 / 18000 Steps) (loss=0.21918): 100%|██████████| 7/7 [00:08<00:00,  1.26s/it]\n",
      "Training (3219 / 18000 Steps) (loss=0.46931): 100%|██████████| 7/7 [00:10<00:00,  1.49s/it]\n",
      "Training (3226 / 18000 Steps) (loss=0.48563): 100%|██████████| 7/7 [00:10<00:00,  1.44s/it]\n",
      "Training (3233 / 18000 Steps) (loss=0.27313): 100%|██████████| 7/7 [00:09<00:00,  1.41s/it]\n",
      "Training (3240 / 18000 Steps) (loss=0.42933): 100%|██████████| 7/7 [00:09<00:00,  1.41s/it]\n",
      "Training (3247 / 18000 Steps) (loss=0.51744): 100%|██████████| 7/7 [00:10<00:00,  1.44s/it]\n",
      "Training (3254 / 18000 Steps) (loss=0.34322): 100%|██████████| 7/7 [00:09<00:00,  1.37s/it]\n",
      "Training (3261 / 18000 Steps) (loss=0.44089): 100%|██████████| 7/7 [00:08<00:00,  1.23s/it]\n",
      "Training (3268 / 18000 Steps) (loss=0.58710): 100%|██████████| 7/7 [00:09<00:00,  1.36s/it]\n",
      "Training (3275 / 18000 Steps) (loss=0.49488): 100%|██████████| 7/7 [00:09<00:00,  1.37s/it]\n",
      "Training (3282 / 18000 Steps) (loss=0.26559): 100%|██████████| 7/7 [00:08<00:00,  1.23s/it]\n",
      "Training (3289 / 18000 Steps) (loss=0.46670): 100%|██████████| 7/7 [00:09<00:00,  1.42s/it]\n",
      "Training (3296 / 18000 Steps) (loss=0.37303): 100%|██████████| 7/7 [00:10<00:00,  1.48s/it]\n",
      "Validate (3297 / 10 Steps): 100%|██████████| 2/2 [00:06<00:00,  3.04s/it]<00:08,  2.02s/it]\n",
      "Training (3300 / 18000 Steps) (loss=0.48479):  57%|█████▋    | 4/7 [00:14<00:11,  3.82s/it]"
     ]
    },
    {
     "name": "stdout",
     "output_type": "stream",
     "text": [
      "Model Was Not Saved ! Current Best Avg. Dice: 0.6343972086906433 Current Avg. Dice: 0.5524225831031799 Current Avg. tumor Dice: 0.697262167930603 Current Avg. lymph Dice: 0.4075830578804016\n"
     ]
    },
    {
     "name": "stderr",
     "output_type": "stream",
     "text": [
      "Training (3303 / 18000 Steps) (loss=0.37805): 100%|██████████| 7/7 [00:16<00:00,  2.31s/it]\n",
      "Training (3310 / 18000 Steps) (loss=0.48345): 100%|██████████| 7/7 [00:09<00:00,  1.39s/it]\n",
      "Training (3317 / 18000 Steps) (loss=0.47509): 100%|██████████| 7/7 [00:11<00:00,  1.57s/it]\n",
      "Training (3324 / 18000 Steps) (loss=0.41395): 100%|██████████| 7/7 [00:10<00:00,  1.45s/it]\n",
      "Training (3331 / 18000 Steps) (loss=0.54714): 100%|██████████| 7/7 [00:10<00:00,  1.45s/it]\n",
      "Training (3338 / 18000 Steps) (loss=0.37793): 100%|██████████| 7/7 [00:09<00:00,  1.41s/it]\n",
      "Training (3345 / 18000 Steps) (loss=0.44739): 100%|██████████| 7/7 [00:09<00:00,  1.30s/it]\n",
      "Training (3352 / 18000 Steps) (loss=0.27077): 100%|██████████| 7/7 [00:10<00:00,  1.46s/it]\n",
      "Training (3359 / 18000 Steps) (loss=0.27755): 100%|██████████| 7/7 [00:09<00:00,  1.39s/it]\n",
      "Training (3366 / 18000 Steps) (loss=0.46439): 100%|██████████| 7/7 [00:10<00:00,  1.44s/it]\n",
      "Training (3373 / 18000 Steps) (loss=0.37849): 100%|██████████| 7/7 [00:09<00:00,  1.36s/it]\n",
      "Training (3380 / 18000 Steps) (loss=0.52041): 100%|██████████| 7/7 [00:08<00:00,  1.24s/it]\n",
      "Training (3387 / 18000 Steps) (loss=0.32110): 100%|██████████| 7/7 [00:10<00:00,  1.45s/it]\n",
      "Training (3394 / 18000 Steps) (loss=0.57419): 100%|██████████| 7/7 [00:09<00:00,  1.33s/it]\n",
      "Validate (3395 / 10 Steps): 100%|██████████| 2/2 [00:05<00:00,  3.00s/it]<00:02,  1.06s/it]\n",
      "Training (3400 / 18000 Steps) (loss=0.53566):  86%|████████▌ | 6/7 [00:16<00:02,  2.92s/it]"
     ]
    },
    {
     "name": "stdout",
     "output_type": "stream",
     "text": [
      "Model Was Not Saved ! Current Best Avg. Dice: 0.6343972086906433 Current Avg. Dice: 0.5742608308792114 Current Avg. tumor Dice: 0.7342026233673096 Current Avg. lymph Dice: 0.4143190085887909\n"
     ]
    },
    {
     "name": "stderr",
     "output_type": "stream",
     "text": [
      "Training (3401 / 18000 Steps) (loss=0.59663): 100%|██████████| 7/7 [00:16<00:00,  2.34s/it]\n",
      "Training (3408 / 18000 Steps) (loss=0.51175): 100%|██████████| 7/7 [00:10<00:00,  1.44s/it]\n",
      "Training (3415 / 18000 Steps) (loss=0.45170): 100%|██████████| 7/7 [00:09<00:00,  1.42s/it]\n",
      "Training (3422 / 18000 Steps) (loss=0.25266): 100%|██████████| 7/7 [00:09<00:00,  1.41s/it]\n",
      "Training (3429 / 18000 Steps) (loss=0.27209): 100%|██████████| 7/7 [00:09<00:00,  1.31s/it]\n",
      "Training (3436 / 18000 Steps) (loss=0.57823): 100%|██████████| 7/7 [00:10<00:00,  1.47s/it]\n",
      "Training (3443 / 18000 Steps) (loss=0.33437): 100%|██████████| 7/7 [00:09<00:00,  1.41s/it]\n",
      "Training (3450 / 18000 Steps) (loss=0.31327): 100%|██████████| 7/7 [00:10<00:00,  1.46s/it]\n",
      "Training (3457 / 18000 Steps) (loss=0.24580): 100%|██████████| 7/7 [00:09<00:00,  1.37s/it]\n",
      "Training (3464 / 18000 Steps) (loss=0.41896): 100%|██████████| 7/7 [00:10<00:00,  1.51s/it]\n",
      "Training (3471 / 18000 Steps) (loss=0.44948): 100%|██████████| 7/7 [00:09<00:00,  1.34s/it]\n",
      "Training (3478 / 18000 Steps) (loss=0.67218): 100%|██████████| 7/7 [00:09<00:00,  1.34s/it]\n",
      "Training (3485 / 18000 Steps) (loss=0.56860): 100%|██████████| 7/7 [00:10<00:00,  1.51s/it]\n",
      "Training (3492 / 18000 Steps) (loss=0.41510): 100%|██████████| 7/7 [00:10<00:00,  1.45s/it]\n",
      "Training (3499 / 18000 Steps) (loss=0.67204): 100%|██████████| 7/7 [00:09<00:00,  1.31s/it]\n",
      "Validate (3500 / 10 Steps): 100%|██████████| 2/2 [00:06<00:00,  3.24s/it]<?, ?it/s]\n",
      "Training (3500 / 18000 Steps) (loss=0.31716):  14%|█▍        | 1/7 [00:13<01:19, 13.22s/it]"
     ]
    },
    {
     "name": "stdout",
     "output_type": "stream",
     "text": [
      "Model Was Not Saved ! Current Best Avg. Dice: 0.6343972086906433 Current Avg. Dice: 0.6034576892852783 Current Avg. tumor Dice: 0.7364793419837952 Current Avg. lymph Dice: 0.4704359769821167\n"
     ]
    },
    {
     "name": "stderr",
     "output_type": "stream",
     "text": [
      "Training (3506 / 18000 Steps) (loss=0.62513): 100%|██████████| 7/7 [00:15<00:00,  2.24s/it]\n",
      "Training (3513 / 18000 Steps) (loss=0.50825): 100%|██████████| 7/7 [00:09<00:00,  1.41s/it]\n",
      "Training (3520 / 18000 Steps) (loss=0.58201): 100%|██████████| 7/7 [00:09<00:00,  1.38s/it]\n",
      "Training (3527 / 18000 Steps) (loss=0.22318): 100%|██████████| 7/7 [00:09<00:00,  1.40s/it]\n",
      "Training (3534 / 18000 Steps) (loss=0.49954): 100%|██████████| 7/7 [00:09<00:00,  1.35s/it]\n",
      "Training (3541 / 18000 Steps) (loss=0.45379): 100%|██████████| 7/7 [00:10<00:00,  1.46s/it]\n",
      "Training (3548 / 18000 Steps) (loss=0.54610): 100%|██████████| 7/7 [00:09<00:00,  1.29s/it]\n",
      "Training (3555 / 18000 Steps) (loss=0.56478): 100%|██████████| 7/7 [00:10<00:00,  1.54s/it]\n",
      "Training (3562 / 18000 Steps) (loss=0.55905): 100%|██████████| 7/7 [00:09<00:00,  1.36s/it]\n",
      "Training (3569 / 18000 Steps) (loss=0.23990): 100%|██████████| 7/7 [00:09<00:00,  1.34s/it]\n",
      "Training (3576 / 18000 Steps) (loss=0.46007): 100%|██████████| 7/7 [00:10<00:00,  1.44s/it]\n",
      "Training (3583 / 18000 Steps) (loss=0.32488): 100%|██████████| 7/7 [00:09<00:00,  1.33s/it]\n",
      "Training (3590 / 18000 Steps) (loss=0.37462): 100%|██████████| 7/7 [00:09<00:00,  1.31s/it]\n",
      "Training (3597 / 18000 Steps) (loss=0.45061): 100%|██████████| 7/7 [00:10<00:00,  1.44s/it]\n",
      "Validate (3598 / 10 Steps): 100%|██████████| 2/2 [00:06<00:00,  3.20s/it]<00:18,  3.60s/it]\n",
      "Training (3600 / 18000 Steps) (loss=0.39078):  43%|████▎     | 3/7 [00:14<00:20,  5.11s/it]"
     ]
    },
    {
     "name": "stdout",
     "output_type": "stream",
     "text": [
      "Model Was Not Saved ! Current Best Avg. Dice: 0.6343972086906433 Current Avg. Dice: 0.528388261795044 Current Avg. tumor Dice: 0.6209308505058289 Current Avg. lymph Dice: 0.43584567308425903\n"
     ]
    },
    {
     "name": "stderr",
     "output_type": "stream",
     "text": [
      "Training (3604 / 18000 Steps) (loss=0.62174): 100%|██████████| 7/7 [00:16<00:00,  2.33s/it]\n",
      "Training (3611 / 18000 Steps) (loss=0.33892): 100%|██████████| 7/7 [00:09<00:00,  1.31s/it]\n",
      "Training (3618 / 18000 Steps) (loss=0.46243): 100%|██████████| 7/7 [00:09<00:00,  1.39s/it]\n",
      "Training (3625 / 18000 Steps) (loss=0.44288): 100%|██████████| 7/7 [00:10<00:00,  1.51s/it]\n",
      "Training (3632 / 18000 Steps) (loss=0.33176): 100%|██████████| 7/7 [00:10<00:00,  1.46s/it]\n",
      "Training (3639 / 18000 Steps) (loss=0.58431): 100%|██████████| 7/7 [00:09<00:00,  1.30s/it]\n",
      "Training (3646 / 18000 Steps) (loss=0.50597): 100%|██████████| 7/7 [00:09<00:00,  1.37s/it]\n",
      "Training (3653 / 18000 Steps) (loss=0.51301): 100%|██████████| 7/7 [00:10<00:00,  1.44s/it]\n",
      "Training (3660 / 18000 Steps) (loss=0.34142): 100%|██████████| 7/7 [00:09<00:00,  1.40s/it]\n",
      "Training (3667 / 18000 Steps) (loss=0.45415): 100%|██████████| 7/7 [00:09<00:00,  1.29s/it]\n",
      "Training (3674 / 18000 Steps) (loss=0.37692): 100%|██████████| 7/7 [00:09<00:00,  1.40s/it]\n",
      "Training (3681 / 18000 Steps) (loss=0.33274): 100%|██████████| 7/7 [00:10<00:00,  1.50s/it]\n",
      "Training (3688 / 18000 Steps) (loss=0.43687): 100%|██████████| 7/7 [00:09<00:00,  1.38s/it]\n",
      "Training (3695 / 18000 Steps) (loss=0.52741): 100%|██████████| 7/7 [00:09<00:00,  1.42s/it]\n",
      "Validate (3696 / 10 Steps): 100%|██████████| 2/2 [00:06<00:00,  3.34s/it]<00:03,  1.30s/it]\n",
      "Training (3700 / 18000 Steps) (loss=0.36906):  71%|███████▏  | 5/7 [00:15<00:06,  3.44s/it]"
     ]
    },
    {
     "name": "stdout",
     "output_type": "stream",
     "text": [
      "Model Was Not Saved ! Current Best Avg. Dice: 0.6343972086906433 Current Avg. Dice: 0.6095792055130005 Current Avg. tumor Dice: 0.7742879986763 Current Avg. lymph Dice: 0.44487035274505615\n"
     ]
    },
    {
     "name": "stderr",
     "output_type": "stream",
     "text": [
      "Training (3702 / 18000 Steps) (loss=0.37216): 100%|██████████| 7/7 [00:15<00:00,  2.27s/it]\n",
      "Training (3709 / 18000 Steps) (loss=0.29655): 100%|██████████| 7/7 [00:10<00:00,  1.44s/it]\n",
      "Training (3716 / 18000 Steps) (loss=0.40397): 100%|██████████| 7/7 [00:09<00:00,  1.31s/it]\n",
      "Training (3723 / 18000 Steps) (loss=0.41672): 100%|██████████| 7/7 [00:09<00:00,  1.38s/it]\n",
      "Training (3730 / 18000 Steps) (loss=0.25452): 100%|██████████| 7/7 [00:09<00:00,  1.31s/it]\n",
      "Training (3737 / 18000 Steps) (loss=0.19385): 100%|██████████| 7/7 [00:09<00:00,  1.30s/it]\n",
      "Training (3744 / 18000 Steps) (loss=0.38312): 100%|██████████| 7/7 [00:09<00:00,  1.36s/it]\n",
      "Training (3751 / 18000 Steps) (loss=0.34591): 100%|██████████| 7/7 [00:10<00:00,  1.45s/it]\n",
      "Training (3758 / 18000 Steps) (loss=0.36815): 100%|██████████| 7/7 [00:10<00:00,  1.48s/it]\n",
      "Training (3765 / 18000 Steps) (loss=0.43311): 100%|██████████| 7/7 [00:10<00:00,  1.50s/it]\n",
      "Training (3772 / 18000 Steps) (loss=0.30543): 100%|██████████| 7/7 [00:09<00:00,  1.32s/it]\n",
      "Training (3779 / 18000 Steps) (loss=0.36903): 100%|██████████| 7/7 [00:10<00:00,  1.44s/it]\n",
      "Training (3786 / 18000 Steps) (loss=0.20925): 100%|██████████| 7/7 [00:09<00:00,  1.37s/it]\n",
      "Training (3793 / 18000 Steps) (loss=0.61555): 100%|██████████| 7/7 [00:08<00:00,  1.22s/it]\n",
      "Validate (3794 / 10 Steps): 100%|██████████| 2/2 [00:06<00:00,  3.16s/it]<00:00,  1.26it/s]\n",
      "Training (3800 / 18000 Steps) (loss=0.51828): 100%|██████████| 7/7 [00:15<00:00,  2.20s/it]\n"
     ]
    },
    {
     "name": "stdout",
     "output_type": "stream",
     "text": [
      "Model Was Not Saved ! Current Best Avg. Dice: 0.6343972086906433 Current Avg. Dice: 0.6102943420410156 Current Avg. tumor Dice: 0.7650890350341797 Current Avg. lymph Dice: 0.45549970865249634\n"
     ]
    },
    {
     "name": "stderr",
     "output_type": "stream",
     "text": [
      "Training (3807 / 18000 Steps) (loss=0.51560): 100%|██████████| 7/7 [00:09<00:00,  1.39s/it]\n",
      "Training (3814 / 18000 Steps) (loss=0.47583): 100%|██████████| 7/7 [00:10<00:00,  1.48s/it]\n",
      "Training (3821 / 18000 Steps) (loss=0.53312): 100%|██████████| 7/7 [00:10<00:00,  1.45s/it]\n",
      "Training (3828 / 18000 Steps) (loss=0.44779): 100%|██████████| 7/7 [00:09<00:00,  1.31s/it]\n",
      "Training (3835 / 18000 Steps) (loss=0.36183): 100%|██████████| 7/7 [00:10<00:00,  1.43s/it]\n",
      "Training (3842 / 18000 Steps) (loss=0.29393): 100%|██████████| 7/7 [00:08<00:00,  1.26s/it]\n",
      "Training (3849 / 18000 Steps) (loss=0.47926): 100%|██████████| 7/7 [00:09<00:00,  1.36s/it]\n",
      "Training (3856 / 18000 Steps) (loss=0.55776): 100%|██████████| 7/7 [00:09<00:00,  1.31s/it]\n",
      "Training (3863 / 18000 Steps) (loss=0.28627): 100%|██████████| 7/7 [00:09<00:00,  1.33s/it]\n",
      "Training (3870 / 18000 Steps) (loss=0.56908): 100%|██████████| 7/7 [00:09<00:00,  1.38s/it]\n",
      "Training (3877 / 18000 Steps) (loss=0.51176): 100%|██████████| 7/7 [00:10<00:00,  1.43s/it]\n",
      "Training (3884 / 18000 Steps) (loss=0.43664): 100%|██████████| 7/7 [00:10<00:00,  1.55s/it]\n",
      "Training (3891 / 18000 Steps) (loss=0.57998): 100%|██████████| 7/7 [00:09<00:00,  1.38s/it]\n",
      "Training (3898 / 18000 Steps) (loss=0.40937): 100%|██████████| 7/7 [00:09<00:00,  1.35s/it]\n",
      "Validate (3899 / 10 Steps): 100%|██████████| 2/2 [00:06<00:00,  3.12s/it]<00:34,  5.67s/it]\n",
      "Training (3900 / 18000 Steps) (loss=0.27317):  29%|██▊       | 2/7 [00:13<00:35,  7.00s/it]"
     ]
    },
    {
     "name": "stdout",
     "output_type": "stream",
     "text": [
      "Model Was Saved ! Current Best Avg. Dice: 0.6630563139915466 Current Avg. Dice: 0.6630563139915466 Current Avg. tumor Dice: 0.8003779053688049 Current Avg. lymph Dice: 0.5257347226142883\n"
     ]
    },
    {
     "name": "stderr",
     "output_type": "stream",
     "text": [
      "Training (3905 / 18000 Steps) (loss=0.45085): 100%|██████████| 7/7 [00:15<00:00,  2.24s/it]\n",
      "Training (3912 / 18000 Steps) (loss=0.32897): 100%|██████████| 7/7 [00:10<00:00,  1.47s/it]\n",
      "Training (3919 / 18000 Steps) (loss=0.40581): 100%|██████████| 7/7 [00:09<00:00,  1.32s/it]\n",
      "Training (3926 / 18000 Steps) (loss=0.20137): 100%|██████████| 7/7 [00:09<00:00,  1.39s/it]\n",
      "Training (3933 / 18000 Steps) (loss=0.22127): 100%|██████████| 7/7 [00:09<00:00,  1.34s/it]\n",
      "Training (3940 / 18000 Steps) (loss=0.44669): 100%|██████████| 7/7 [00:10<00:00,  1.52s/it]\n",
      "Training (3947 / 18000 Steps) (loss=0.39636): 100%|██████████| 7/7 [00:10<00:00,  1.54s/it]\n",
      "Training (3954 / 18000 Steps) (loss=0.44494): 100%|██████████| 7/7 [00:09<00:00,  1.30s/it]\n",
      "Training (3961 / 18000 Steps) (loss=0.50656): 100%|██████████| 7/7 [00:09<00:00,  1.41s/it]\n",
      "Training (3968 / 18000 Steps) (loss=0.49383): 100%|██████████| 7/7 [00:10<00:00,  1.44s/it]\n",
      "Training (3975 / 18000 Steps) (loss=0.42783): 100%|██████████| 7/7 [00:09<00:00,  1.32s/it]\n",
      "Training (3982 / 18000 Steps) (loss=0.53456): 100%|██████████| 7/7 [00:09<00:00,  1.39s/it]\n",
      "Training (3989 / 18000 Steps) (loss=0.32814): 100%|██████████| 7/7 [00:08<00:00,  1.24s/it]\n",
      "Training (3996 / 18000 Steps) (loss=0.45382): 100%|██████████| 7/7 [00:10<00:00,  1.45s/it]\n",
      "Validate (3997 / 10 Steps): 100%|██████████| 2/2 [00:06<00:00,  3.11s/it]<00:08,  2.08s/it]\n",
      "Training (4000 / 18000 Steps) (loss=0.37232):  57%|█████▋    | 4/7 [00:14<00:11,  3.92s/it]"
     ]
    },
    {
     "name": "stdout",
     "output_type": "stream",
     "text": [
      "Model Was Not Saved ! Current Best Avg. Dice: 0.6630563139915466 Current Avg. Dice: 0.6484019756317139 Current Avg. tumor Dice: 0.7498505115509033 Current Avg. lymph Dice: 0.5469534397125244\n"
     ]
    },
    {
     "name": "stderr",
     "output_type": "stream",
     "text": [
      "Training (4003 / 18000 Steps) (loss=0.35845): 100%|██████████| 7/7 [00:16<00:00,  2.31s/it]\n",
      "Training (4010 / 18000 Steps) (loss=0.44664): 100%|██████████| 7/7 [00:09<00:00,  1.39s/it]\n",
      "Training (4017 / 18000 Steps) (loss=0.39230): 100%|██████████| 7/7 [00:10<00:00,  1.43s/it]\n",
      "Training (4024 / 18000 Steps) (loss=0.43871): 100%|██████████| 7/7 [00:09<00:00,  1.33s/it]\n",
      "Training (4031 / 18000 Steps) (loss=0.32469): 100%|██████████| 7/7 [00:10<00:00,  1.45s/it]\n",
      "Training (4038 / 18000 Steps) (loss=0.30256): 100%|██████████| 7/7 [00:10<00:00,  1.52s/it]\n",
      "Training (4045 / 18000 Steps) (loss=0.51210): 100%|██████████| 7/7 [00:09<00:00,  1.30s/it]\n",
      "Training (4052 / 18000 Steps) (loss=0.33189): 100%|██████████| 7/7 [00:09<00:00,  1.38s/it]\n",
      "Training (4059 / 18000 Steps) (loss=0.22775): 100%|██████████| 7/7 [00:10<00:00,  1.47s/it]\n",
      "Training (4066 / 18000 Steps) (loss=0.32638): 100%|██████████| 7/7 [00:09<00:00,  1.39s/it]\n",
      "Training (4073 / 18000 Steps) (loss=0.47114): 100%|██████████| 7/7 [00:09<00:00,  1.32s/it]\n",
      "Training (4080 / 18000 Steps) (loss=0.22962): 100%|██████████| 7/7 [00:10<00:00,  1.47s/it]\n",
      "Training (4087 / 18000 Steps) (loss=0.43069): 100%|██████████| 7/7 [00:09<00:00,  1.40s/it]\n",
      "Training (4094 / 18000 Steps) (loss=0.32417): 100%|██████████| 7/7 [00:09<00:00,  1.42s/it]\n",
      "Validate (4095 / 10 Steps): 100%|██████████| 2/2 [00:05<00:00,  2.95s/it]<00:01,  1.02it/s]\n",
      "Training (4100 / 18000 Steps) (loss=0.55256):  86%|████████▌ | 6/7 [00:14<00:02,  2.82s/it]"
     ]
    },
    {
     "name": "stdout",
     "output_type": "stream",
     "text": [
      "Model Was Not Saved ! Current Best Avg. Dice: 0.6630563139915466 Current Avg. Dice: 0.6414104700088501 Current Avg. tumor Dice: 0.7576916217803955 Current Avg. lymph Dice: 0.5251293182373047\n"
     ]
    },
    {
     "name": "stderr",
     "output_type": "stream",
     "text": [
      "Training (4101 / 18000 Steps) (loss=0.21347): 100%|██████████| 7/7 [00:14<00:00,  2.11s/it]\n",
      "Training (4108 / 18000 Steps) (loss=0.32768): 100%|██████████| 7/7 [00:09<00:00,  1.40s/it]\n",
      "Training (4115 / 18000 Steps) (loss=0.41784): 100%|██████████| 7/7 [00:10<00:00,  1.45s/it]\n",
      "Training (4122 / 18000 Steps) (loss=0.27706): 100%|██████████| 7/7 [00:10<00:00,  1.43s/it]\n",
      "Training (4129 / 18000 Steps) (loss=0.45117): 100%|██████████| 7/7 [00:09<00:00,  1.33s/it]\n",
      "Training (4136 / 18000 Steps) (loss=0.41375): 100%|██████████| 7/7 [00:08<00:00,  1.28s/it]\n",
      "Training (4143 / 18000 Steps) (loss=0.34762): 100%|██████████| 7/7 [00:09<00:00,  1.29s/it]\n",
      "Training (4150 / 18000 Steps) (loss=0.37726): 100%|██████████| 7/7 [00:08<00:00,  1.27s/it]\n",
      "Training (4157 / 18000 Steps) (loss=0.23217): 100%|██████████| 7/7 [00:10<00:00,  1.48s/it]\n",
      "Training (4164 / 18000 Steps) (loss=0.17865): 100%|██████████| 7/7 [00:10<00:00,  1.43s/it]\n",
      "Training (4171 / 18000 Steps) (loss=0.43038): 100%|██████████| 7/7 [00:09<00:00,  1.36s/it]\n",
      "Training (4178 / 18000 Steps) (loss=0.56635): 100%|██████████| 7/7 [00:09<00:00,  1.38s/it]\n",
      "Training (4185 / 18000 Steps) (loss=0.40330): 100%|██████████| 7/7 [00:09<00:00,  1.35s/it]\n",
      "Training (4192 / 18000 Steps) (loss=0.33901): 100%|██████████| 7/7 [00:09<00:00,  1.38s/it]\n",
      "Training (4199 / 18000 Steps) (loss=0.33110): 100%|██████████| 7/7 [00:09<00:00,  1.40s/it]\n",
      "Validate (4200 / 10 Steps): 100%|██████████| 2/2 [00:06<00:00,  3.31s/it]<?, ?it/s]\n",
      "Training (4200 / 18000 Steps) (loss=0.48720):  14%|█▍        | 1/7 [00:13<01:20, 13.34s/it]"
     ]
    },
    {
     "name": "stdout",
     "output_type": "stream",
     "text": [
      "Model Was Not Saved ! Current Best Avg. Dice: 0.6630563139915466 Current Avg. Dice: 0.6440051794052124 Current Avg. tumor Dice: 0.7908515334129333 Current Avg. lymph Dice: 0.49715879559516907\n"
     ]
    },
    {
     "name": "stderr",
     "output_type": "stream",
     "text": [
      "Training (4206 / 18000 Steps) (loss=0.43831): 100%|██████████| 7/7 [00:15<00:00,  2.26s/it]\n",
      "Training (4213 / 18000 Steps) (loss=0.38086): 100%|██████████| 7/7 [00:10<00:00,  1.45s/it]\n",
      "Training (4220 / 18000 Steps) (loss=0.33678): 100%|██████████| 7/7 [00:09<00:00,  1.30s/it]\n",
      "Training (4227 / 18000 Steps) (loss=0.50177): 100%|██████████| 7/7 [00:09<00:00,  1.40s/it]\n",
      "Training (4234 / 18000 Steps) (loss=0.20864): 100%|██████████| 7/7 [00:08<00:00,  1.28s/it]\n",
      "Training (4241 / 18000 Steps) (loss=0.61374): 100%|██████████| 7/7 [00:09<00:00,  1.39s/it]\n",
      "Training (4248 / 18000 Steps) (loss=0.29440): 100%|██████████| 7/7 [00:09<00:00,  1.34s/it]\n",
      "Training (4255 / 18000 Steps) (loss=0.37393): 100%|██████████| 7/7 [00:09<00:00,  1.37s/it]\n",
      "Training (4262 / 18000 Steps) (loss=0.16889): 100%|██████████| 7/7 [00:10<00:00,  1.45s/it]\n",
      "Training (4269 / 18000 Steps) (loss=0.55983): 100%|██████████| 7/7 [00:09<00:00,  1.37s/it]\n",
      "Training (4276 / 18000 Steps) (loss=0.58059): 100%|██████████| 7/7 [00:08<00:00,  1.26s/it]\n",
      "Training (4283 / 18000 Steps) (loss=0.58315): 100%|██████████| 7/7 [00:09<00:00,  1.32s/it]\n",
      "Training (4290 / 18000 Steps) (loss=0.31180): 100%|██████████| 7/7 [00:10<00:00,  1.44s/it]\n",
      "Training (4297 / 18000 Steps) (loss=0.32870): 100%|██████████| 7/7 [00:09<00:00,  1.35s/it]\n",
      "Validate (4298 / 10 Steps): 100%|██████████| 2/2 [00:06<00:00,  3.20s/it]<00:13,  2.75s/it]\n",
      "Training (4300 / 18000 Steps) (loss=0.43343):  43%|████▎     | 3/7 [00:13<00:19,  4.86s/it]"
     ]
    },
    {
     "name": "stdout",
     "output_type": "stream",
     "text": [
      "Model Was Not Saved ! Current Best Avg. Dice: 0.6630563139915466 Current Avg. Dice: 0.6012303829193115 Current Avg. tumor Dice: 0.7211068868637085 Current Avg. lymph Dice: 0.48135384917259216\n"
     ]
    },
    {
     "name": "stderr",
     "output_type": "stream",
     "text": [
      "Training (4304 / 18000 Steps) (loss=0.33148): 100%|██████████| 7/7 [00:15<00:00,  2.21s/it]\n",
      "Training (4311 / 18000 Steps) (loss=0.66829): 100%|██████████| 7/7 [00:09<00:00,  1.33s/it]\n",
      "Training (4318 / 18000 Steps) (loss=0.45708): 100%|██████████| 7/7 [00:09<00:00,  1.40s/it]\n",
      "Training (4325 / 18000 Steps) (loss=0.39407): 100%|██████████| 7/7 [00:09<00:00,  1.33s/it]\n",
      "Training (4332 / 18000 Steps) (loss=0.32182): 100%|██████████| 7/7 [00:10<00:00,  1.46s/it]\n",
      "Training (4339 / 18000 Steps) (loss=0.50474): 100%|██████████| 7/7 [00:09<00:00,  1.35s/it]\n",
      "Training (4346 / 18000 Steps) (loss=0.34988): 100%|██████████| 7/7 [00:10<00:00,  1.48s/it]\n",
      "Training (4353 / 18000 Steps) (loss=0.22014): 100%|██████████| 7/7 [00:09<00:00,  1.29s/it]\n",
      "Training (4360 / 18000 Steps) (loss=0.29310): 100%|██████████| 7/7 [00:09<00:00,  1.31s/it]\n",
      "Training (4367 / 18000 Steps) (loss=0.55907): 100%|██████████| 7/7 [00:10<00:00,  1.51s/it]\n",
      "Training (4374 / 18000 Steps) (loss=0.20675): 100%|██████████| 7/7 [00:09<00:00,  1.35s/it]\n",
      "Training (4381 / 18000 Steps) (loss=0.51554): 100%|██████████| 7/7 [00:10<00:00,  1.44s/it]\n",
      "Training (4388 / 18000 Steps) (loss=0.43861): 100%|██████████| 7/7 [00:10<00:00,  1.48s/it]\n",
      "Training (4395 / 18000 Steps) (loss=0.63437): 100%|██████████| 7/7 [00:09<00:00,  1.32s/it]\n",
      "Validate (4396 / 10 Steps): 100%|██████████| 2/2 [00:06<00:00,  3.01s/it]<00:04,  1.55s/it]\n",
      "Training (4400 / 18000 Steps) (loss=0.32600):  71%|███████▏  | 5/7 [00:15<00:06,  3.35s/it]"
     ]
    },
    {
     "name": "stdout",
     "output_type": "stream",
     "text": [
      "Model Was Not Saved ! Current Best Avg. Dice: 0.6630563139915466 Current Avg. Dice: 0.5731338262557983 Current Avg. tumor Dice: 0.7021320462226868 Current Avg. lymph Dice: 0.44413554668426514\n"
     ]
    },
    {
     "name": "stderr",
     "output_type": "stream",
     "text": [
      "Training (4402 / 18000 Steps) (loss=0.40277): 100%|██████████| 7/7 [00:15<00:00,  2.28s/it]\n",
      "Training (4409 / 18000 Steps) (loss=0.42522): 100%|██████████| 7/7 [00:09<00:00,  1.35s/it]\n",
      "Training (4416 / 18000 Steps) (loss=0.26421): 100%|██████████| 7/7 [00:09<00:00,  1.34s/it]\n",
      "Training (4423 / 18000 Steps) (loss=0.55832): 100%|██████████| 7/7 [00:09<00:00,  1.42s/it]\n",
      "Training (4430 / 18000 Steps) (loss=0.17639): 100%|██████████| 7/7 [00:09<00:00,  1.33s/it]\n",
      "Training (4437 / 18000 Steps) (loss=0.34897): 100%|██████████| 7/7 [00:10<00:00,  1.44s/it]\n",
      "Training (4444 / 18000 Steps) (loss=0.28237): 100%|██████████| 7/7 [00:09<00:00,  1.29s/it]\n",
      "Training (4451 / 18000 Steps) (loss=0.31174): 100%|██████████| 7/7 [00:09<00:00,  1.39s/it]\n",
      "Training (4458 / 18000 Steps) (loss=0.41000): 100%|██████████| 7/7 [00:09<00:00,  1.35s/it]\n",
      "Training (4465 / 18000 Steps) (loss=0.41949): 100%|██████████| 7/7 [00:09<00:00,  1.34s/it]\n",
      "Training (4472 / 18000 Steps) (loss=0.42911): 100%|██████████| 7/7 [00:10<00:00,  1.43s/it]\n",
      "Training (4479 / 18000 Steps) (loss=0.50969): 100%|██████████| 7/7 [00:09<00:00,  1.42s/it]\n",
      "Training (4486 / 18000 Steps) (loss=0.27571): 100%|██████████| 7/7 [00:09<00:00,  1.36s/it]\n",
      "Training (4493 / 18000 Steps) (loss=0.55360): 100%|██████████| 7/7 [00:09<00:00,  1.34s/it]\n",
      "Validate (4494 / 10 Steps): 100%|██████████| 2/2 [00:06<00:00,  3.29s/it]<00:00,  1.23it/s]\n",
      "Training (4500 / 18000 Steps) (loss=0.48459): 100%|██████████| 7/7 [00:16<00:00,  2.35s/it]\n"
     ]
    },
    {
     "name": "stdout",
     "output_type": "stream",
     "text": [
      "Model Was Not Saved ! Current Best Avg. Dice: 0.6630563139915466 Current Avg. Dice: 0.6275536417961121 Current Avg. tumor Dice: 0.7475279569625854 Current Avg. lymph Dice: 0.5075793266296387\n"
     ]
    },
    {
     "name": "stderr",
     "output_type": "stream",
     "text": [
      "Training (4507 / 18000 Steps) (loss=0.37644): 100%|██████████| 7/7 [00:10<00:00,  1.47s/it]\n",
      "Training (4514 / 18000 Steps) (loss=0.51095): 100%|██████████| 7/7 [00:09<00:00,  1.35s/it]\n",
      "Training (4521 / 18000 Steps) (loss=0.21258): 100%|██████████| 7/7 [00:08<00:00,  1.25s/it]\n",
      "Training (4528 / 18000 Steps) (loss=0.17883): 100%|██████████| 7/7 [00:10<00:00,  1.46s/it]\n",
      "Training (4535 / 18000 Steps) (loss=0.17894): 100%|██████████| 7/7 [00:10<00:00,  1.52s/it]\n",
      "Training (4542 / 18000 Steps) (loss=0.37161): 100%|██████████| 7/7 [00:10<00:00,  1.49s/it]\n",
      "Training (4549 / 18000 Steps) (loss=0.25330): 100%|██████████| 7/7 [00:09<00:00,  1.40s/it]\n",
      "Training (4556 / 18000 Steps) (loss=0.47862): 100%|██████████| 7/7 [00:09<00:00,  1.39s/it]\n",
      "Training (4563 / 18000 Steps) (loss=0.55181): 100%|██████████| 7/7 [00:10<00:00,  1.45s/it]\n",
      "Training (4570 / 18000 Steps) (loss=0.37093): 100%|██████████| 7/7 [00:09<00:00,  1.36s/it]\n",
      "Training (4577 / 18000 Steps) (loss=0.52183): 100%|██████████| 7/7 [00:09<00:00,  1.39s/it]\n",
      "Training (4584 / 18000 Steps) (loss=0.19661): 100%|██████████| 7/7 [00:08<00:00,  1.25s/it]\n",
      "Training (4591 / 18000 Steps) (loss=0.25182): 100%|██████████| 7/7 [00:08<00:00,  1.26s/it]\n",
      "Training (4598 / 18000 Steps) (loss=0.24747): 100%|██████████| 7/7 [00:09<00:00,  1.34s/it]\n",
      "Validate (4599 / 10 Steps): 100%|██████████| 2/2 [00:06<00:00,  3.14s/it]<00:41,  6.94s/it]\n",
      "Training (4600 / 18000 Steps) (loss=0.31107):  29%|██▊       | 2/7 [00:13<00:34,  6.87s/it]"
     ]
    },
    {
     "name": "stdout",
     "output_type": "stream",
     "text": [
      "Model Was Not Saved ! Current Best Avg. Dice: 0.6630563139915466 Current Avg. Dice: 0.592872142791748 Current Avg. tumor Dice: 0.7168800234794617 Current Avg. lymph Dice: 0.46886423230171204\n"
     ]
    },
    {
     "name": "stderr",
     "output_type": "stream",
     "text": [
      "Training (4605 / 18000 Steps) (loss=0.25582): 100%|██████████| 7/7 [00:15<00:00,  2.26s/it]\n",
      "Training (4612 / 18000 Steps) (loss=0.33925): 100%|██████████| 7/7 [00:09<00:00,  1.36s/it]\n",
      "Training (4619 / 18000 Steps) (loss=0.41321): 100%|██████████| 7/7 [00:10<00:00,  1.44s/it]\n",
      "Training (4626 / 18000 Steps) (loss=0.36005): 100%|██████████| 7/7 [00:09<00:00,  1.37s/it]\n",
      "Training (4633 / 18000 Steps) (loss=0.32777): 100%|██████████| 7/7 [00:09<00:00,  1.30s/it]\n",
      "Training (4640 / 18000 Steps) (loss=0.41236): 100%|██████████| 7/7 [00:08<00:00,  1.26s/it]\n",
      "Training (4647 / 18000 Steps) (loss=0.66930): 100%|██████████| 7/7 [00:09<00:00,  1.36s/it]\n",
      "Training (4654 / 18000 Steps) (loss=0.50092): 100%|██████████| 7/7 [00:10<00:00,  1.48s/it]\n",
      "Training (4661 / 18000 Steps) (loss=0.27686): 100%|██████████| 7/7 [00:08<00:00,  1.20s/it]\n",
      "Training (4668 / 18000 Steps) (loss=0.33528): 100%|██████████| 7/7 [00:09<00:00,  1.32s/it]\n",
      "Training (4675 / 18000 Steps) (loss=0.44129): 100%|██████████| 7/7 [00:08<00:00,  1.26s/it]\n",
      "Training (4682 / 18000 Steps) (loss=0.57236): 100%|██████████| 7/7 [00:09<00:00,  1.32s/it]\n",
      "Training (4689 / 18000 Steps) (loss=0.38757): 100%|██████████| 7/7 [00:10<00:00,  1.44s/it]\n",
      "Training (4696 / 18000 Steps) (loss=0.25926): 100%|██████████| 7/7 [00:10<00:00,  1.46s/it]\n",
      "Validate (4697 / 10 Steps): 100%|██████████| 2/2 [00:06<00:00,  3.06s/it]<00:08,  2.17s/it]\n",
      "Training (4700 / 18000 Steps) (loss=0.47907):  57%|█████▋    | 4/7 [00:15<00:11,  3.93s/it]"
     ]
    },
    {
     "name": "stdout",
     "output_type": "stream",
     "text": [
      "Model Was Not Saved ! Current Best Avg. Dice: 0.6630563139915466 Current Avg. Dice: 0.6469048857688904 Current Avg. tumor Dice: 0.8008788228034973 Current Avg. lymph Dice: 0.49293094873428345\n"
     ]
    },
    {
     "name": "stderr",
     "output_type": "stream",
     "text": [
      "Training (4703 / 18000 Steps) (loss=0.46761): 100%|██████████| 7/7 [00:16<00:00,  2.33s/it]\n",
      "Training (4710 / 18000 Steps) (loss=0.29486): 100%|██████████| 7/7 [00:09<00:00,  1.31s/it]\n",
      "Training (4717 / 18000 Steps) (loss=0.35416): 100%|██████████| 7/7 [00:10<00:00,  1.56s/it]\n",
      "Training (4724 / 18000 Steps) (loss=0.45992): 100%|██████████| 7/7 [00:10<00:00,  1.49s/it]\n",
      "Training (4731 / 18000 Steps) (loss=0.44896): 100%|██████████| 7/7 [00:09<00:00,  1.37s/it]\n",
      "Training (4738 / 18000 Steps) (loss=0.39830): 100%|██████████| 7/7 [00:09<00:00,  1.32s/it]\n",
      "Training (4745 / 18000 Steps) (loss=0.29089): 100%|██████████| 7/7 [00:10<00:00,  1.45s/it]\n",
      "Training (4752 / 18000 Steps) (loss=0.57426): 100%|██████████| 7/7 [00:08<00:00,  1.25s/it]\n",
      "Training (4759 / 18000 Steps) (loss=0.46311): 100%|██████████| 7/7 [00:09<00:00,  1.31s/it]\n",
      "Training (4766 / 18000 Steps) (loss=0.56294): 100%|██████████| 7/7 [00:09<00:00,  1.35s/it]\n",
      "Training (4773 / 18000 Steps) (loss=0.29710): 100%|██████████| 7/7 [00:09<00:00,  1.40s/it]\n",
      "Training (4780 / 18000 Steps) (loss=0.45970): 100%|██████████| 7/7 [00:09<00:00,  1.40s/it]\n",
      "Training (4787 / 18000 Steps) (loss=0.32937): 100%|██████████| 7/7 [00:10<00:00,  1.43s/it]\n",
      "Training (4794 / 18000 Steps) (loss=0.32007): 100%|██████████| 7/7 [00:09<00:00,  1.34s/it]\n",
      "Validate (4795 / 10 Steps): 100%|██████████| 2/2 [00:06<00:00,  3.13s/it]<00:02,  1.00s/it]\n",
      "Training (4800 / 18000 Steps) (loss=0.41673):  86%|████████▌ | 6/7 [00:15<00:02,  2.96s/it]"
     ]
    },
    {
     "name": "stdout",
     "output_type": "stream",
     "text": [
      "Model Was Not Saved ! Current Best Avg. Dice: 0.6630563139915466 Current Avg. Dice: 0.6083481311798096 Current Avg. tumor Dice: 0.711140513420105 Current Avg. lymph Dice: 0.5055558085441589\n"
     ]
    },
    {
     "name": "stderr",
     "output_type": "stream",
     "text": [
      "Training (4801 / 18000 Steps) (loss=0.44159): 100%|██████████| 7/7 [00:15<00:00,  2.28s/it]\n",
      "Training (4808 / 18000 Steps) (loss=0.54152): 100%|██████████| 7/7 [00:09<00:00,  1.29s/it]\n",
      "Training (4815 / 18000 Steps) (loss=0.47438): 100%|██████████| 7/7 [00:09<00:00,  1.42s/it]\n",
      "Training (4822 / 18000 Steps) (loss=0.31543): 100%|██████████| 7/7 [00:09<00:00,  1.38s/it]\n",
      "Training (4829 / 18000 Steps) (loss=0.54362): 100%|██████████| 7/7 [00:09<00:00,  1.37s/it]\n",
      "Training (4836 / 18000 Steps) (loss=0.33506): 100%|██████████| 7/7 [00:09<00:00,  1.33s/it]\n",
      "Training (4843 / 18000 Steps) (loss=0.29690): 100%|██████████| 7/7 [00:09<00:00,  1.36s/it]\n",
      "Training (4850 / 18000 Steps) (loss=0.35952): 100%|██████████| 7/7 [00:10<00:00,  1.50s/it]\n",
      "Training (4857 / 18000 Steps) (loss=0.34671): 100%|██████████| 7/7 [00:09<00:00,  1.39s/it]\n",
      "Training (4864 / 18000 Steps) (loss=0.46200): 100%|██████████| 7/7 [00:09<00:00,  1.31s/it]\n",
      "Training (4871 / 18000 Steps) (loss=0.66146): 100%|██████████| 7/7 [00:11<00:00,  1.57s/it]\n",
      "Training (4878 / 18000 Steps) (loss=0.43588): 100%|██████████| 7/7 [00:10<00:00,  1.44s/it]\n",
      "Training (4885 / 18000 Steps) (loss=0.31233): 100%|██████████| 7/7 [00:09<00:00,  1.38s/it]\n",
      "Training (4892 / 18000 Steps) (loss=0.12304): 100%|██████████| 7/7 [00:09<00:00,  1.29s/it]\n",
      "Training (4899 / 18000 Steps) (loss=0.56794): 100%|██████████| 7/7 [00:10<00:00,  1.49s/it]\n",
      "Validate (4900 / 10 Steps): 100%|██████████| 2/2 [00:06<00:00,  3.17s/it]<?, ?it/s]\n",
      "Training (4900 / 18000 Steps) (loss=0.47733):  14%|█▍        | 1/7 [00:12<01:16, 12.80s/it]"
     ]
    },
    {
     "name": "stdout",
     "output_type": "stream",
     "text": [
      "Model Was Not Saved ! Current Best Avg. Dice: 0.6630563139915466 Current Avg. Dice: 0.6240686178207397 Current Avg. tumor Dice: 0.7784805297851562 Current Avg. lymph Dice: 0.46965670585632324\n"
     ]
    },
    {
     "name": "stderr",
     "output_type": "stream",
     "text": [
      "Training (4906 / 18000 Steps) (loss=0.34868): 100%|██████████| 7/7 [00:15<00:00,  2.18s/it]\n",
      "Training (4913 / 18000 Steps) (loss=0.62277): 100%|██████████| 7/7 [00:09<00:00,  1.38s/it]\n",
      "Training (4920 / 18000 Steps) (loss=0.25517): 100%|██████████| 7/7 [00:10<00:00,  1.53s/it]\n",
      "Training (4927 / 18000 Steps) (loss=0.27321): 100%|██████████| 7/7 [00:10<00:00,  1.45s/it]\n",
      "Training (4934 / 18000 Steps) (loss=0.35182): 100%|██████████| 7/7 [00:10<00:00,  1.50s/it]\n",
      "Training (4941 / 18000 Steps) (loss=0.27309): 100%|██████████| 7/7 [00:10<00:00,  1.46s/it]\n",
      "Training (4948 / 18000 Steps) (loss=0.50042): 100%|██████████| 7/7 [00:09<00:00,  1.34s/it]\n",
      "Training (4955 / 18000 Steps) (loss=0.36413): 100%|██████████| 7/7 [00:09<00:00,  1.29s/it]\n",
      "Training (4962 / 18000 Steps) (loss=0.34365): 100%|██████████| 7/7 [00:09<00:00,  1.33s/it]\n",
      "Training (4969 / 18000 Steps) (loss=0.32070): 100%|██████████| 7/7 [00:09<00:00,  1.35s/it]\n",
      "Training (4976 / 18000 Steps) (loss=0.50996): 100%|██████████| 7/7 [00:10<00:00,  1.45s/it]\n",
      "Training (4983 / 18000 Steps) (loss=0.60731): 100%|██████████| 7/7 [00:09<00:00,  1.40s/it]\n",
      "Training (4990 / 18000 Steps) (loss=0.47198): 100%|██████████| 7/7 [00:09<00:00,  1.41s/it]\n",
      "Training (4997 / 18000 Steps) (loss=0.23179): 100%|██████████| 7/7 [00:10<00:00,  1.44s/it]\n",
      "Validate (4998 / 10 Steps): 100%|██████████| 2/2 [00:05<00:00,  2.96s/it]<00:16,  3.32s/it]\n",
      "Training (5000 / 18000 Steps) (loss=0.34000):  43%|████▎     | 3/7 [00:15<00:20,  5.08s/it]"
     ]
    },
    {
     "name": "stdout",
     "output_type": "stream",
     "text": [
      "Model Was Saved ! Current Best Avg. Dice: 0.6824020147323608 Current Avg. Dice: 0.6824020147323608 Current Avg. tumor Dice: 0.8224279284477234 Current Avg. lymph Dice: 0.5423761606216431\n"
     ]
    },
    {
     "name": "stderr",
     "output_type": "stream",
     "text": [
      "Training (5004 / 18000 Steps) (loss=0.36950): 100%|██████████| 7/7 [00:16<00:00,  2.38s/it]\n",
      "Training (5011 / 18000 Steps) (loss=0.41654): 100%|██████████| 7/7 [00:10<00:00,  1.44s/it]\n",
      "Training (5018 / 18000 Steps) (loss=0.54584): 100%|██████████| 7/7 [00:10<00:00,  1.43s/it]\n",
      "Training (5025 / 18000 Steps) (loss=0.48997): 100%|██████████| 7/7 [00:10<00:00,  1.45s/it]\n",
      "Training (5032 / 18000 Steps) (loss=0.43284): 100%|██████████| 7/7 [00:09<00:00,  1.38s/it]\n",
      "Training (5039 / 18000 Steps) (loss=0.41834): 100%|██████████| 7/7 [00:09<00:00,  1.42s/it]\n",
      "Training (5046 / 18000 Steps) (loss=0.50688): 100%|██████████| 7/7 [00:09<00:00,  1.29s/it]\n",
      "Training (5053 / 18000 Steps) (loss=0.47804): 100%|██████████| 7/7 [00:09<00:00,  1.42s/it]\n",
      "Training (5060 / 18000 Steps) (loss=0.30236): 100%|██████████| 7/7 [00:09<00:00,  1.42s/it]\n",
      "Training (5067 / 18000 Steps) (loss=0.18230): 100%|██████████| 7/7 [00:09<00:00,  1.38s/it]\n",
      "Training (5074 / 18000 Steps) (loss=0.28534): 100%|██████████| 7/7 [00:10<00:00,  1.43s/it]\n",
      "Training (5081 / 18000 Steps) (loss=0.29313): 100%|██████████| 7/7 [00:09<00:00,  1.37s/it]\n",
      "Training (5088 / 18000 Steps) (loss=0.47136): 100%|██████████| 7/7 [00:09<00:00,  1.39s/it]\n",
      "Training (5095 / 18000 Steps) (loss=0.36218): 100%|██████████| 7/7 [00:09<00:00,  1.31s/it]\n",
      "Validate (5096 / 10 Steps): 100%|██████████| 2/2 [00:06<00:00,  3.20s/it]<00:04,  1.34s/it]\n",
      "Training (5100 / 18000 Steps) (loss=0.39348):  71%|███████▏  | 5/7 [00:15<00:06,  3.35s/it]"
     ]
    },
    {
     "name": "stdout",
     "output_type": "stream",
     "text": [
      "Model Was Not Saved ! Current Best Avg. Dice: 0.6824020147323608 Current Avg. Dice: 0.6306508183479309 Current Avg. tumor Dice: 0.7364529967308044 Current Avg. lymph Dice: 0.5248486399650574\n"
     ]
    },
    {
     "name": "stderr",
     "output_type": "stream",
     "text": [
      "Training (5102 / 18000 Steps) (loss=0.25149): 100%|██████████| 7/7 [00:16<00:00,  2.30s/it]\n",
      "Training (5109 / 18000 Steps) (loss=0.27415): 100%|██████████| 7/7 [00:11<00:00,  1.62s/it]\n",
      "Training (5116 / 18000 Steps) (loss=0.60899): 100%|██████████| 7/7 [00:10<00:00,  1.44s/it]\n",
      "Training (5123 / 18000 Steps) (loss=0.43838): 100%|██████████| 7/7 [00:09<00:00,  1.29s/it]\n",
      "Training (5130 / 18000 Steps) (loss=0.46113): 100%|██████████| 7/7 [00:09<00:00,  1.36s/it]\n",
      "Training (5137 / 18000 Steps) (loss=0.46824): 100%|██████████| 7/7 [00:09<00:00,  1.39s/it]\n",
      "Training (5144 / 18000 Steps) (loss=0.44249): 100%|██████████| 7/7 [00:10<00:00,  1.51s/it]\n",
      "Training (5151 / 18000 Steps) (loss=0.41950): 100%|██████████| 7/7 [00:09<00:00,  1.35s/it]\n",
      "Training (5158 / 18000 Steps) (loss=0.54541): 100%|██████████| 7/7 [00:10<00:00,  1.45s/it]\n",
      "Training (5165 / 18000 Steps) (loss=0.44754): 100%|██████████| 7/7 [00:09<00:00,  1.42s/it]\n",
      "Training (5172 / 18000 Steps) (loss=0.18258): 100%|██████████| 7/7 [00:09<00:00,  1.39s/it]\n",
      "Training (5179 / 18000 Steps) (loss=0.28794): 100%|██████████| 7/7 [00:08<00:00,  1.23s/it]\n",
      "Training (5186 / 18000 Steps) (loss=0.48444): 100%|██████████| 7/7 [00:09<00:00,  1.39s/it]\n",
      "Training (5193 / 18000 Steps) (loss=0.48499): 100%|██████████| 7/7 [00:09<00:00,  1.37s/it]\n",
      "Validate (5194 / 10 Steps): 100%|██████████| 2/2 [00:06<00:00,  3.07s/it]<00:00,  1.27it/s]\n",
      "Training (5200 / 18000 Steps) (loss=0.35496): 100%|██████████| 7/7 [00:14<00:00,  2.11s/it]\n"
     ]
    },
    {
     "name": "stdout",
     "output_type": "stream",
     "text": [
      "Model Was Not Saved ! Current Best Avg. Dice: 0.6824020147323608 Current Avg. Dice: 0.6237533092498779 Current Avg. tumor Dice: 0.7656358480453491 Current Avg. lymph Dice: 0.48187071084976196\n"
     ]
    },
    {
     "name": "stderr",
     "output_type": "stream",
     "text": [
      "Training (5207 / 18000 Steps) (loss=0.43953): 100%|██████████| 7/7 [00:10<00:00,  1.43s/it]\n",
      "Training (5214 / 18000 Steps) (loss=0.34245): 100%|██████████| 7/7 [00:09<00:00,  1.34s/it]\n",
      "Training (5221 / 18000 Steps) (loss=0.40933): 100%|██████████| 7/7 [00:09<00:00,  1.43s/it]\n",
      "Training (5228 / 18000 Steps) (loss=0.31849): 100%|██████████| 7/7 [00:10<00:00,  1.51s/it]\n",
      "Training (5235 / 18000 Steps) (loss=0.43482): 100%|██████████| 7/7 [00:09<00:00,  1.36s/it]\n",
      "Training (5242 / 18000 Steps) (loss=0.41789): 100%|██████████| 7/7 [00:09<00:00,  1.32s/it]\n",
      "Training (5249 / 18000 Steps) (loss=0.31800): 100%|██████████| 7/7 [00:09<00:00,  1.36s/it]\n",
      "Training (5256 / 18000 Steps) (loss=0.47618): 100%|██████████| 7/7 [00:09<00:00,  1.38s/it]\n",
      "Training (5263 / 18000 Steps) (loss=0.42889): 100%|██████████| 7/7 [00:10<00:00,  1.46s/it]\n",
      "Training (5270 / 18000 Steps) (loss=0.30859): 100%|██████████| 7/7 [00:09<00:00,  1.39s/it]\n",
      "Training (5277 / 18000 Steps) (loss=0.47988): 100%|██████████| 7/7 [00:10<00:00,  1.45s/it]\n",
      "Training (5284 / 18000 Steps) (loss=0.27813): 100%|██████████| 7/7 [00:10<00:00,  1.53s/it]\n",
      "Training (5291 / 18000 Steps) (loss=0.44015): 100%|██████████| 7/7 [00:08<00:00,  1.24s/it]\n",
      "Training (5298 / 18000 Steps) (loss=0.22020): 100%|██████████| 7/7 [00:10<00:00,  1.48s/it]\n",
      "Validate (5299 / 10 Steps): 100%|██████████| 2/2 [00:06<00:00,  3.31s/it]<00:39,  6.54s/it]\n",
      "Training (5300 / 18000 Steps) (loss=0.41315):  29%|██▊       | 2/7 [00:14<00:38,  7.62s/it]"
     ]
    },
    {
     "name": "stdout",
     "output_type": "stream",
     "text": [
      "Model Was Not Saved ! Current Best Avg. Dice: 0.6824020147323608 Current Avg. Dice: 0.6271176338195801 Current Avg. tumor Dice: 0.7613428235054016 Current Avg. lymph Dice: 0.49289241433143616\n"
     ]
    },
    {
     "name": "stderr",
     "output_type": "stream",
     "text": [
      "Training (5305 / 18000 Steps) (loss=0.40818): 100%|██████████| 7/7 [00:16<00:00,  2.42s/it]\n",
      "Training (5312 / 18000 Steps) (loss=0.51210): 100%|██████████| 7/7 [00:09<00:00,  1.34s/it]\n",
      "Training (5319 / 18000 Steps) (loss=0.40864): 100%|██████████| 7/7 [00:09<00:00,  1.33s/it]\n",
      "Training (5326 / 18000 Steps) (loss=0.54237): 100%|██████████| 7/7 [00:08<00:00,  1.28s/it]\n",
      "Training (5333 / 18000 Steps) (loss=0.44005): 100%|██████████| 7/7 [00:09<00:00,  1.31s/it]\n",
      "Training (5340 / 18000 Steps) (loss=0.29904): 100%|██████████| 7/7 [00:10<00:00,  1.46s/it]\n",
      "Training (5347 / 18000 Steps) (loss=0.52346): 100%|██████████| 7/7 [00:08<00:00,  1.28s/it]\n",
      "Training (5354 / 18000 Steps) (loss=0.27600): 100%|██████████| 7/7 [00:09<00:00,  1.34s/it]\n",
      "Training (5361 / 18000 Steps) (loss=0.36561): 100%|██████████| 7/7 [00:10<00:00,  1.47s/it]\n",
      "Training (5368 / 18000 Steps) (loss=0.54726): 100%|██████████| 7/7 [00:09<00:00,  1.37s/it]\n",
      "Training (5375 / 18000 Steps) (loss=0.45702): 100%|██████████| 7/7 [00:09<00:00,  1.40s/it]\n",
      "Training (5382 / 18000 Steps) (loss=0.23467): 100%|██████████| 7/7 [00:09<00:00,  1.33s/it]\n",
      "Training (5389 / 18000 Steps) (loss=0.37035): 100%|██████████| 7/7 [00:09<00:00,  1.31s/it]\n",
      "Training (5396 / 18000 Steps) (loss=0.35279): 100%|██████████| 7/7 [00:08<00:00,  1.27s/it]\n",
      "Validate (5397 / 10 Steps): 100%|██████████| 2/2 [00:06<00:00,  3.16s/it]<00:09,  2.27s/it]\n",
      "Training (5400 / 18000 Steps) (loss=0.38530):  57%|█████▋    | 4/7 [00:15<00:12,  4.08s/it]"
     ]
    },
    {
     "name": "stdout",
     "output_type": "stream",
     "text": [
      "Model Was Not Saved ! Current Best Avg. Dice: 0.6824020147323608 Current Avg. Dice: 0.6336097717285156 Current Avg. tumor Dice: 0.7851983308792114 Current Avg. lymph Dice: 0.4820212125778198\n"
     ]
    },
    {
     "name": "stderr",
     "output_type": "stream",
     "text": [
      "Training (5403 / 18000 Steps) (loss=0.37456): 100%|██████████| 7/7 [00:17<00:00,  2.44s/it]\n",
      "Training (5410 / 18000 Steps) (loss=0.46889): 100%|██████████| 7/7 [00:08<00:00,  1.25s/it]\n",
      "Training (5417 / 18000 Steps) (loss=0.39283): 100%|██████████| 7/7 [00:08<00:00,  1.28s/it]\n",
      "Training (5424 / 18000 Steps) (loss=0.31335): 100%|██████████| 7/7 [00:10<00:00,  1.44s/it]\n",
      "Training (5431 / 18000 Steps) (loss=0.50843): 100%|██████████| 7/7 [00:10<00:00,  1.44s/it]\n",
      "Training (5438 / 18000 Steps) (loss=0.36692): 100%|██████████| 7/7 [00:09<00:00,  1.32s/it]\n",
      "Training (5445 / 18000 Steps) (loss=0.40025): 100%|██████████| 7/7 [00:09<00:00,  1.37s/it]\n",
      "Training (5452 / 18000 Steps) (loss=0.34809): 100%|██████████| 7/7 [00:10<00:00,  1.54s/it]\n",
      "Training (5459 / 18000 Steps) (loss=0.37618): 100%|██████████| 7/7 [00:08<00:00,  1.23s/it]\n",
      "Training (5466 / 18000 Steps) (loss=0.34792): 100%|██████████| 7/7 [00:09<00:00,  1.29s/it]\n",
      "Training (5473 / 18000 Steps) (loss=0.54365): 100%|██████████| 7/7 [00:09<00:00,  1.37s/it]\n",
      "Training (5480 / 18000 Steps) (loss=0.45549): 100%|██████████| 7/7 [00:09<00:00,  1.37s/it]\n",
      "Training (5487 / 18000 Steps) (loss=0.26770): 100%|██████████| 7/7 [00:09<00:00,  1.35s/it]\n",
      "Training (5494 / 18000 Steps) (loss=0.45886): 100%|██████████| 7/7 [00:09<00:00,  1.42s/it]\n",
      "Validate (5495 / 10 Steps): 100%|██████████| 2/2 [00:06<00:00,  3.03s/it]<00:01,  1.02it/s]\n",
      "Training (5500 / 18000 Steps) (loss=0.34245):  86%|████████▌ | 6/7 [00:15<00:03,  3.14s/it]"
     ]
    },
    {
     "name": "stdout",
     "output_type": "stream",
     "text": [
      "Model Was Saved ! Current Best Avg. Dice: 0.6869075894355774 Current Avg. Dice: 0.6869075894355774 Current Avg. tumor Dice: 0.8278414011001587 Current Avg. lymph Dice: 0.5459736585617065\n"
     ]
    },
    {
     "name": "stderr",
     "output_type": "stream",
     "text": [
      "Training (5501 / 18000 Steps) (loss=0.55882): 100%|██████████| 7/7 [00:16<00:00,  2.33s/it]\n",
      "Training (5508 / 18000 Steps) (loss=0.29869): 100%|██████████| 7/7 [00:09<00:00,  1.33s/it]\n",
      "Training (5515 / 18000 Steps) (loss=0.15842): 100%|██████████| 7/7 [00:09<00:00,  1.43s/it]\n",
      "Training (5522 / 18000 Steps) (loss=0.27566): 100%|██████████| 7/7 [00:09<00:00,  1.35s/it]\n",
      "Training (5529 / 18000 Steps) (loss=0.54011): 100%|██████████| 7/7 [00:08<00:00,  1.26s/it]\n",
      "Training (5536 / 18000 Steps) (loss=0.37086): 100%|██████████| 7/7 [00:09<00:00,  1.37s/it]\n",
      "Training (5543 / 18000 Steps) (loss=0.27947): 100%|██████████| 7/7 [00:09<00:00,  1.40s/it]\n",
      "Training (5550 / 18000 Steps) (loss=0.51003): 100%|██████████| 7/7 [00:10<00:00,  1.44s/it]\n",
      "Training (5557 / 18000 Steps) (loss=0.35805): 100%|██████████| 7/7 [00:09<00:00,  1.39s/it]\n",
      "Training (5564 / 18000 Steps) (loss=0.26113): 100%|██████████| 7/7 [00:09<00:00,  1.29s/it]\n",
      "Training (5571 / 18000 Steps) (loss=0.40361): 100%|██████████| 7/7 [00:10<00:00,  1.53s/it]\n",
      "Training (5578 / 18000 Steps) (loss=0.43815): 100%|██████████| 7/7 [00:09<00:00,  1.34s/it]\n",
      "Training (5585 / 18000 Steps) (loss=0.31916): 100%|██████████| 7/7 [00:08<00:00,  1.21s/it]\n",
      "Training (5592 / 18000 Steps) (loss=0.48435): 100%|██████████| 7/7 [00:09<00:00,  1.30s/it]\n",
      "Training (5599 / 18000 Steps) (loss=0.43540): 100%|██████████| 7/7 [00:10<00:00,  1.51s/it]\n",
      "Validate (5600 / 10 Steps): 100%|██████████| 2/2 [00:06<00:00,  3.11s/it]<?, ?it/s]\n",
      "Training (5600 / 18000 Steps) (loss=0.42205):  14%|█▍        | 1/7 [00:14<01:28, 14.69s/it]"
     ]
    },
    {
     "name": "stdout",
     "output_type": "stream",
     "text": [
      "Model Was Not Saved ! Current Best Avg. Dice: 0.6869075894355774 Current Avg. Dice: 0.6593613028526306 Current Avg. tumor Dice: 0.8173618316650391 Current Avg. lymph Dice: 0.5013608336448669\n"
     ]
    },
    {
     "name": "stderr",
     "output_type": "stream",
     "text": [
      "Training (5606 / 18000 Steps) (loss=0.49675): 100%|██████████| 7/7 [00:17<00:00,  2.45s/it]\n",
      "Training (5613 / 18000 Steps) (loss=0.39947): 100%|██████████| 7/7 [00:10<00:00,  1.44s/it]\n",
      "Training (5620 / 18000 Steps) (loss=0.35226): 100%|██████████| 7/7 [00:09<00:00,  1.38s/it]\n",
      "Training (5627 / 18000 Steps) (loss=0.57236): 100%|██████████| 7/7 [00:09<00:00,  1.36s/it]\n",
      "Training (5634 / 18000 Steps) (loss=0.17624): 100%|██████████| 7/7 [00:08<00:00,  1.22s/it]\n",
      "Training (5641 / 18000 Steps) (loss=0.32204): 100%|██████████| 7/7 [00:11<00:00,  1.58s/it]\n",
      "Training (5648 / 18000 Steps) (loss=0.43598): 100%|██████████| 7/7 [00:09<00:00,  1.30s/it]\n",
      "Training (5655 / 18000 Steps) (loss=0.37366): 100%|██████████| 7/7 [00:09<00:00,  1.32s/it]\n",
      "Training (5662 / 18000 Steps) (loss=0.32232): 100%|██████████| 7/7 [00:09<00:00,  1.30s/it]\n",
      "Training (5669 / 18000 Steps) (loss=0.60438): 100%|██████████| 7/7 [00:10<00:00,  1.48s/it]\n",
      "Training (5676 / 18000 Steps) (loss=0.54039): 100%|██████████| 7/7 [00:08<00:00,  1.21s/it]\n",
      "Training (5683 / 18000 Steps) (loss=0.46456): 100%|██████████| 7/7 [00:09<00:00,  1.29s/it]\n",
      "Training (5690 / 18000 Steps) (loss=0.26443): 100%|██████████| 7/7 [00:09<00:00,  1.35s/it]\n",
      "Training (5697 / 18000 Steps) (loss=0.44348): 100%|██████████| 7/7 [00:10<00:00,  1.47s/it]\n",
      "Validate (5698 / 10 Steps): 100%|██████████| 2/2 [00:05<00:00,  2.99s/it]<00:16,  3.36s/it]\n",
      "Training (5700 / 18000 Steps) (loss=0.27913):  43%|████▎     | 3/7 [00:14<00:19,  4.79s/it]"
     ]
    },
    {
     "name": "stdout",
     "output_type": "stream",
     "text": [
      "Model Was Not Saved ! Current Best Avg. Dice: 0.6869075894355774 Current Avg. Dice: 0.6566258668899536 Current Avg. tumor Dice: 0.7733989953994751 Current Avg. lymph Dice: 0.5398526787757874\n"
     ]
    },
    {
     "name": "stderr",
     "output_type": "stream",
     "text": [
      "Training (5704 / 18000 Steps) (loss=0.59989): 100%|██████████| 7/7 [00:16<00:00,  2.29s/it]\n",
      "Training (5711 / 18000 Steps) (loss=0.40619): 100%|██████████| 7/7 [00:09<00:00,  1.36s/it]\n",
      "Training (5718 / 18000 Steps) (loss=0.31338): 100%|██████████| 7/7 [00:09<00:00,  1.36s/it]\n",
      "Training (5725 / 18000 Steps) (loss=0.51805): 100%|██████████| 7/7 [00:09<00:00,  1.29s/it]\n",
      "Training (5732 / 18000 Steps) (loss=0.34478): 100%|██████████| 7/7 [00:09<00:00,  1.34s/it]\n",
      "Training (5739 / 18000 Steps) (loss=0.21140): 100%|██████████| 7/7 [00:10<00:00,  1.45s/it]\n",
      "Training (5746 / 18000 Steps) (loss=0.42549): 100%|██████████| 7/7 [00:10<00:00,  1.55s/it]\n",
      "Training (5753 / 18000 Steps) (loss=0.39291): 100%|██████████| 7/7 [00:09<00:00,  1.31s/it]\n",
      "Training (5760 / 18000 Steps) (loss=0.21774): 100%|██████████| 7/7 [00:08<00:00,  1.28s/it]\n",
      "Training (5767 / 18000 Steps) (loss=0.54077): 100%|██████████| 7/7 [00:10<00:00,  1.49s/it]\n",
      "Training (5774 / 18000 Steps) (loss=0.31877): 100%|██████████| 7/7 [00:09<00:00,  1.34s/it]\n",
      "Training (5781 / 18000 Steps) (loss=0.39485): 100%|██████████| 7/7 [00:09<00:00,  1.32s/it]\n",
      "Training (5788 / 18000 Steps) (loss=0.31479): 100%|██████████| 7/7 [00:10<00:00,  1.49s/it]\n",
      "Training (5795 / 18000 Steps) (loss=0.49855): 100%|██████████| 7/7 [00:09<00:00,  1.37s/it]\n",
      "Validate (5796 / 10 Steps): 100%|██████████| 2/2 [00:06<00:00,  3.04s/it]<00:03,  1.24s/it]\n",
      "Training (5800 / 18000 Steps) (loss=0.34576):  71%|███████▏  | 5/7 [00:14<00:06,  3.17s/it]"
     ]
    },
    {
     "name": "stdout",
     "output_type": "stream",
     "text": [
      "Model Was Not Saved ! Current Best Avg. Dice: 0.6869075894355774 Current Avg. Dice: 0.6182601451873779 Current Avg. tumor Dice: 0.7665094137191772 Current Avg. lymph Dice: 0.4700108468532562\n"
     ]
    },
    {
     "name": "stderr",
     "output_type": "stream",
     "text": [
      "Training (5802 / 18000 Steps) (loss=0.37697): 100%|██████████| 7/7 [00:15<00:00,  2.15s/it]\n",
      "Training (5809 / 18000 Steps) (loss=0.33099): 100%|██████████| 7/7 [00:08<00:00,  1.27s/it]\n",
      "Training (5816 / 18000 Steps) (loss=0.56849): 100%|██████████| 7/7 [00:10<00:00,  1.45s/it]\n",
      "Training (5823 / 18000 Steps) (loss=0.39221): 100%|██████████| 7/7 [00:08<00:00,  1.26s/it]\n",
      "Training (5830 / 18000 Steps) (loss=0.54258): 100%|██████████| 7/7 [00:09<00:00,  1.37s/it]\n",
      "Training (5837 / 18000 Steps) (loss=0.31093): 100%|██████████| 7/7 [00:10<00:00,  1.46s/it]\n",
      "Training (5844 / 18000 Steps) (loss=0.27718): 100%|██████████| 7/7 [00:09<00:00,  1.41s/it]\n",
      "Training (5851 / 18000 Steps) (loss=0.54631): 100%|██████████| 7/7 [00:09<00:00,  1.30s/it]\n",
      "Training (5858 / 18000 Steps) (loss=0.20386): 100%|██████████| 7/7 [00:09<00:00,  1.34s/it]\n",
      "Training (5865 / 18000 Steps) (loss=0.63219): 100%|██████████| 7/7 [00:10<00:00,  1.53s/it]\n",
      "Training (5872 / 18000 Steps) (loss=0.34416): 100%|██████████| 7/7 [00:09<00:00,  1.39s/it]\n",
      "Training (5879 / 18000 Steps) (loss=0.29043): 100%|██████████| 7/7 [00:09<00:00,  1.36s/it]\n",
      "Training (5886 / 18000 Steps) (loss=0.42842): 100%|██████████| 7/7 [00:08<00:00,  1.28s/it]\n",
      "Training (5893 / 18000 Steps) (loss=0.29291): 100%|██████████| 7/7 [00:08<00:00,  1.27s/it]\n",
      "Validate (5894 / 10 Steps): 100%|██████████| 2/2 [00:06<00:00,  3.12s/it]<00:00,  1.25it/s]\n",
      "Training (5900 / 18000 Steps) (loss=0.41355): 100%|██████████| 7/7 [00:15<00:00,  2.20s/it]\n"
     ]
    },
    {
     "name": "stdout",
     "output_type": "stream",
     "text": [
      "Model Was Not Saved ! Current Best Avg. Dice: 0.6869075894355774 Current Avg. Dice: 0.6368489265441895 Current Avg. tumor Dice: 0.7840837836265564 Current Avg. lymph Dice: 0.4896140694618225\n"
     ]
    },
    {
     "name": "stderr",
     "output_type": "stream",
     "text": [
      "Training (5907 / 18000 Steps) (loss=0.55268): 100%|██████████| 7/7 [00:09<00:00,  1.33s/it]\n",
      "Training (5914 / 18000 Steps) (loss=0.16978): 100%|██████████| 7/7 [00:10<00:00,  1.46s/it]\n",
      "Training (5921 / 18000 Steps) (loss=0.40282): 100%|██████████| 7/7 [00:10<00:00,  1.45s/it]\n",
      "Training (5928 / 18000 Steps) (loss=0.30074): 100%|██████████| 7/7 [00:09<00:00,  1.34s/it]\n",
      "Training (5935 / 18000 Steps) (loss=0.51128): 100%|██████████| 7/7 [00:09<00:00,  1.42s/it]\n",
      "Training (5942 / 18000 Steps) (loss=0.54243): 100%|██████████| 7/7 [00:09<00:00,  1.33s/it]\n",
      "Training (5949 / 18000 Steps) (loss=0.37853): 100%|██████████| 7/7 [00:08<00:00,  1.24s/it]\n",
      "Training (5956 / 18000 Steps) (loss=0.54645): 100%|██████████| 7/7 [00:09<00:00,  1.30s/it]\n",
      "Training (5963 / 18000 Steps) (loss=0.30405): 100%|██████████| 7/7 [00:08<00:00,  1.28s/it]\n",
      "Training (5970 / 18000 Steps) (loss=0.35904): 100%|██████████| 7/7 [00:09<00:00,  1.30s/it]\n",
      "Training (5977 / 18000 Steps) (loss=0.27170): 100%|██████████| 7/7 [00:09<00:00,  1.42s/it]\n",
      "Training (5984 / 18000 Steps) (loss=0.47811): 100%|██████████| 7/7 [00:09<00:00,  1.31s/it]\n",
      "Training (5991 / 18000 Steps) (loss=0.21384): 100%|██████████| 7/7 [00:10<00:00,  1.48s/it]\n",
      "Training (5998 / 18000 Steps) (loss=0.48791): 100%|██████████| 7/7 [00:09<00:00,  1.41s/it]\n",
      "Validate (5999 / 10 Steps): 100%|██████████| 2/2 [00:06<00:00,  3.08s/it]<00:40,  6.75s/it]\n",
      "Training (6000 / 18000 Steps) (loss=0.52649):  29%|██▊       | 2/7 [00:13<00:33,  6.71s/it]"
     ]
    },
    {
     "name": "stdout",
     "output_type": "stream",
     "text": [
      "Model Was Not Saved ! Current Best Avg. Dice: 0.6869075894355774 Current Avg. Dice: 0.6343628168106079 Current Avg. tumor Dice: 0.7900150418281555 Current Avg. lymph Dice: 0.4787106215953827\n"
     ]
    },
    {
     "name": "stderr",
     "output_type": "stream",
     "text": [
      "Training (6005 / 18000 Steps) (loss=0.26282): 100%|██████████| 7/7 [00:15<00:00,  2.21s/it]\n",
      "Training (6012 / 18000 Steps) (loss=0.45182): 100%|██████████| 7/7 [00:10<00:00,  1.48s/it]\n",
      "Training (6019 / 18000 Steps) (loss=0.36738): 100%|██████████| 7/7 [00:09<00:00,  1.41s/it]\n",
      "Training (6026 / 18000 Steps) (loss=0.27840): 100%|██████████| 7/7 [00:09<00:00,  1.41s/it]\n",
      "Training (6033 / 18000 Steps) (loss=0.47097): 100%|██████████| 7/7 [00:09<00:00,  1.31s/it]\n",
      "Training (6040 / 18000 Steps) (loss=0.33007): 100%|██████████| 7/7 [00:09<00:00,  1.34s/it]\n",
      "Training (6047 / 18000 Steps) (loss=0.46292): 100%|██████████| 7/7 [00:09<00:00,  1.36s/it]\n",
      "Training (6054 / 18000 Steps) (loss=0.39606): 100%|██████████| 7/7 [00:09<00:00,  1.37s/it]\n",
      "Training (6061 / 18000 Steps) (loss=0.34591): 100%|██████████| 7/7 [00:08<00:00,  1.24s/it]\n",
      "Training (6068 / 18000 Steps) (loss=0.54437): 100%|██████████| 7/7 [00:08<00:00,  1.21s/it]\n",
      "Training (6075 / 18000 Steps) (loss=0.15077): 100%|██████████| 7/7 [00:09<00:00,  1.34s/it]\n",
      "Training (6082 / 18000 Steps) (loss=0.60184): 100%|██████████| 7/7 [00:09<00:00,  1.35s/it]\n",
      "Training (6089 / 18000 Steps) (loss=0.34551): 100%|██████████| 7/7 [00:09<00:00,  1.33s/it]\n",
      "Training (6096 / 18000 Steps) (loss=0.43433): 100%|██████████| 7/7 [00:09<00:00,  1.32s/it]\n",
      "Validate (6097 / 10 Steps): 100%|██████████| 2/2 [00:05<00:00,  2.97s/it]<00:07,  1.82s/it]\n",
      "Training (6100 / 18000 Steps) (loss=0.50683):  57%|█████▋    | 4/7 [00:13<00:10,  3.65s/it]"
     ]
    },
    {
     "name": "stdout",
     "output_type": "stream",
     "text": [
      "Model Was Not Saved ! Current Best Avg. Dice: 0.6869075894355774 Current Avg. Dice: 0.6087037324905396 Current Avg. tumor Dice: 0.7428882122039795 Current Avg. lymph Dice: 0.47451916337013245\n"
     ]
    },
    {
     "name": "stderr",
     "output_type": "stream",
     "text": [
      "Training (6103 / 18000 Steps) (loss=0.50116): 100%|██████████| 7/7 [00:15<00:00,  2.15s/it]\n",
      "Training (6110 / 18000 Steps) (loss=0.43590): 100%|██████████| 7/7 [00:08<00:00,  1.21s/it]\n",
      "Training (6117 / 18000 Steps) (loss=0.29990): 100%|██████████| 7/7 [00:09<00:00,  1.42s/it]\n",
      "Training (6124 / 18000 Steps) (loss=0.46522): 100%|██████████| 7/7 [00:08<00:00,  1.28s/it]\n",
      "Training (6131 / 18000 Steps) (loss=0.60405): 100%|██████████| 7/7 [00:10<00:00,  1.43s/it]\n",
      "Training (6138 / 18000 Steps) (loss=0.44867): 100%|██████████| 7/7 [00:09<00:00,  1.41s/it]\n",
      "Training (6145 / 18000 Steps) (loss=0.39424): 100%|██████████| 7/7 [00:08<00:00,  1.26s/it]\n",
      "Training (6152 / 18000 Steps) (loss=0.55315): 100%|██████████| 7/7 [00:09<00:00,  1.33s/it]\n",
      "Training (6159 / 18000 Steps) (loss=0.36241): 100%|██████████| 7/7 [00:09<00:00,  1.32s/it]\n",
      "Training (6166 / 18000 Steps) (loss=0.24419): 100%|██████████| 7/7 [00:09<00:00,  1.37s/it]\n",
      "Training (6173 / 18000 Steps) (loss=0.28439): 100%|██████████| 7/7 [00:10<00:00,  1.44s/it]\n",
      "Training (6180 / 18000 Steps) (loss=0.41092): 100%|██████████| 7/7 [00:09<00:00,  1.31s/it]\n",
      "Training (6187 / 18000 Steps) (loss=0.25961): 100%|██████████| 7/7 [00:09<00:00,  1.35s/it]\n",
      "Training (6194 / 18000 Steps) (loss=0.49971): 100%|██████████| 7/7 [00:09<00:00,  1.35s/it]\n",
      "Validate (6195 / 10 Steps): 100%|██████████| 2/2 [00:06<00:00,  3.09s/it]<00:01,  1.07it/s]\n",
      "Training (6200 / 18000 Steps) (loss=0.31829):  86%|████████▌ | 6/7 [00:14<00:02,  2.89s/it]"
     ]
    },
    {
     "name": "stdout",
     "output_type": "stream",
     "text": [
      "Model Was Not Saved ! Current Best Avg. Dice: 0.6869075894355774 Current Avg. Dice: 0.6583070755004883 Current Avg. tumor Dice: 0.7877433896064758 Current Avg. lymph Dice: 0.5288706421852112\n"
     ]
    },
    {
     "name": "stderr",
     "output_type": "stream",
     "text": [
      "Training (6201 / 18000 Steps) (loss=0.51350): 100%|██████████| 7/7 [00:15<00:00,  2.14s/it]\n",
      "Training (6208 / 18000 Steps) (loss=0.45054): 100%|██████████| 7/7 [00:09<00:00,  1.41s/it]\n",
      "Training (6215 / 18000 Steps) (loss=0.39784): 100%|██████████| 7/7 [00:09<00:00,  1.41s/it]\n",
      "Training (6222 / 18000 Steps) (loss=0.40442): 100%|██████████| 7/7 [00:09<00:00,  1.32s/it]\n",
      "Training (6229 / 18000 Steps) (loss=0.60197): 100%|██████████| 7/7 [00:09<00:00,  1.37s/it]\n",
      "Training (6236 / 18000 Steps) (loss=0.46788): 100%|██████████| 7/7 [00:09<00:00,  1.40s/it]\n",
      "Training (6243 / 18000 Steps) (loss=0.35077): 100%|██████████| 7/7 [00:08<00:00,  1.27s/it]\n",
      "Training (6250 / 18000 Steps) (loss=0.17228): 100%|██████████| 7/7 [00:09<00:00,  1.41s/it]\n",
      "Training (6257 / 18000 Steps) (loss=0.41514): 100%|██████████| 7/7 [00:09<00:00,  1.29s/it]\n",
      "Training (6264 / 18000 Steps) (loss=0.39651): 100%|██████████| 7/7 [00:08<00:00,  1.28s/it]\n",
      "Training (6271 / 18000 Steps) (loss=0.37356): 100%|██████████| 7/7 [00:09<00:00,  1.40s/it]\n",
      "Training (6278 / 18000 Steps) (loss=0.26434): 100%|██████████| 7/7 [00:08<00:00,  1.25s/it]\n",
      "Training (6285 / 18000 Steps) (loss=0.27780): 100%|██████████| 7/7 [00:09<00:00,  1.30s/it]\n",
      "Training (6292 / 18000 Steps) (loss=0.53964): 100%|██████████| 7/7 [00:09<00:00,  1.33s/it]\n",
      "Training (6299 / 18000 Steps) (loss=0.17016): 100%|██████████| 7/7 [00:08<00:00,  1.23s/it]\n",
      "Validate (6300 / 10 Steps): 100%|██████████| 2/2 [00:06<00:00,  3.03s/it]<?, ?it/s]\n",
      "Training (6300 / 18000 Steps) (loss=0.27457):  14%|█▍        | 1/7 [00:13<01:19, 13.31s/it]"
     ]
    },
    {
     "name": "stdout",
     "output_type": "stream",
     "text": [
      "Model Was Not Saved ! Current Best Avg. Dice: 0.6869075894355774 Current Avg. Dice: 0.6289235353469849 Current Avg. tumor Dice: 0.7761024236679077 Current Avg. lymph Dice: 0.48174458742141724\n"
     ]
    },
    {
     "name": "stderr",
     "output_type": "stream",
     "text": [
      "Training (6306 / 18000 Steps) (loss=0.42352): 100%|██████████| 7/7 [00:15<00:00,  2.25s/it]\n",
      "Training (6313 / 18000 Steps) (loss=0.50192): 100%|██████████| 7/7 [00:08<00:00,  1.27s/it]\n",
      "Training (6320 / 18000 Steps) (loss=0.48470): 100%|██████████| 7/7 [00:08<00:00,  1.27s/it]\n",
      "Training (6327 / 18000 Steps) (loss=0.46286): 100%|██████████| 7/7 [00:08<00:00,  1.28s/it]\n",
      "Training (6334 / 18000 Steps) (loss=0.34912): 100%|██████████| 7/7 [00:09<00:00,  1.32s/it]\n",
      "Training (6341 / 18000 Steps) (loss=0.25947): 100%|██████████| 7/7 [00:09<00:00,  1.33s/it]\n",
      "Training (6348 / 18000 Steps) (loss=0.54745): 100%|██████████| 7/7 [00:09<00:00,  1.36s/it]\n",
      "Training (6355 / 18000 Steps) (loss=0.42086): 100%|██████████| 7/7 [00:09<00:00,  1.31s/it]\n",
      "Training (6362 / 18000 Steps) (loss=0.30314): 100%|██████████| 7/7 [00:09<00:00,  1.41s/it]\n",
      "Training (6369 / 18000 Steps) (loss=0.39277): 100%|██████████| 7/7 [00:09<00:00,  1.35s/it]\n",
      "Training (6376 / 18000 Steps) (loss=0.28789): 100%|██████████| 7/7 [00:09<00:00,  1.35s/it]\n",
      "Training (6383 / 18000 Steps) (loss=0.61565): 100%|██████████| 7/7 [00:09<00:00,  1.35s/it]\n",
      "Training (6390 / 18000 Steps) (loss=0.42376): 100%|██████████| 7/7 [00:09<00:00,  1.31s/it]\n",
      "Training (6397 / 18000 Steps) (loss=0.41804): 100%|██████████| 7/7 [00:08<00:00,  1.22s/it]\n",
      "Validate (6398 / 10 Steps): 100%|██████████| 2/2 [00:05<00:00,  2.95s/it]<00:16,  3.29s/it]\n",
      "Training (6400 / 18000 Steps) (loss=0.41386):  43%|████▎     | 3/7 [00:14<00:18,  4.71s/it]"
     ]
    },
    {
     "name": "stdout",
     "output_type": "stream",
     "text": [
      "Model Was Not Saved ! Current Best Avg. Dice: 0.6869075894355774 Current Avg. Dice: 0.6293708086013794 Current Avg. tumor Dice: 0.7162407636642456 Current Avg. lymph Dice: 0.5425007939338684\n"
     ]
    },
    {
     "name": "stderr",
     "output_type": "stream",
     "text": [
      "Training (6404 / 18000 Steps) (loss=0.21946): 100%|██████████| 7/7 [00:15<00:00,  2.26s/it]\n",
      "Training (6411 / 18000 Steps) (loss=0.44324): 100%|██████████| 7/7 [00:09<00:00,  1.31s/it]\n",
      "Training (6418 / 18000 Steps) (loss=0.29948): 100%|██████████| 7/7 [00:08<00:00,  1.26s/it]\n",
      "Training (6425 / 18000 Steps) (loss=0.15466): 100%|██████████| 7/7 [00:09<00:00,  1.31s/it]\n",
      "Training (6432 / 18000 Steps) (loss=0.35013): 100%|██████████| 7/7 [00:08<00:00,  1.23s/it]\n",
      "Training (6439 / 18000 Steps) (loss=0.46607): 100%|██████████| 7/7 [00:09<00:00,  1.36s/it]\n",
      "Training (6446 / 18000 Steps) (loss=0.40689): 100%|██████████| 7/7 [00:09<00:00,  1.40s/it]\n",
      "Training (6453 / 18000 Steps) (loss=0.17798): 100%|██████████| 7/7 [00:09<00:00,  1.39s/it]\n",
      "Training (6460 / 18000 Steps) (loss=0.30133): 100%|██████████| 7/7 [00:09<00:00,  1.35s/it]\n",
      "Training (6467 / 18000 Steps) (loss=0.18235): 100%|██████████| 7/7 [00:08<00:00,  1.22s/it]\n",
      "Training (6474 / 18000 Steps) (loss=0.30227): 100%|██████████| 7/7 [00:09<00:00,  1.37s/it]\n",
      "Training (6481 / 18000 Steps) (loss=0.30395): 100%|██████████| 7/7 [00:08<00:00,  1.18s/it]\n",
      "Training (6488 / 18000 Steps) (loss=0.29816): 100%|██████████| 7/7 [00:08<00:00,  1.22s/it]\n",
      "Training (6495 / 18000 Steps) (loss=0.16825): 100%|██████████| 7/7 [00:08<00:00,  1.23s/it]\n",
      "Validate (6496 / 10 Steps): 100%|██████████| 2/2 [00:06<00:00,  3.02s/it]<00:04,  1.43s/it]\n",
      "Training (6500 / 18000 Steps) (loss=0.36564):  71%|███████▏  | 5/7 [00:14<00:06,  3.28s/it]"
     ]
    },
    {
     "name": "stdout",
     "output_type": "stream",
     "text": [
      "Model Was Not Saved ! Current Best Avg. Dice: 0.6869075894355774 Current Avg. Dice: 0.6748210191726685 Current Avg. tumor Dice: 0.8034318685531616 Current Avg. lymph Dice: 0.5462101697921753\n"
     ]
    },
    {
     "name": "stderr",
     "output_type": "stream",
     "text": [
      "Training (6502 / 18000 Steps) (loss=0.41693): 100%|██████████| 7/7 [00:15<00:00,  2.24s/it]\n",
      "Training (6509 / 18000 Steps) (loss=0.53539): 100%|██████████| 7/7 [00:09<00:00,  1.31s/it]\n",
      "Training (6516 / 18000 Steps) (loss=0.31740): 100%|██████████| 7/7 [00:09<00:00,  1.29s/it]\n",
      "Training (6523 / 18000 Steps) (loss=0.54066): 100%|██████████| 7/7 [00:08<00:00,  1.26s/it]\n",
      "Training (6530 / 18000 Steps) (loss=0.53825): 100%|██████████| 7/7 [00:08<00:00,  1.23s/it]\n",
      "Training (6537 / 18000 Steps) (loss=0.53753): 100%|██████████| 7/7 [00:09<00:00,  1.34s/it]\n",
      "Training (6544 / 18000 Steps) (loss=0.34050): 100%|██████████| 7/7 [00:08<00:00,  1.22s/it]\n",
      "Training (6551 / 18000 Steps) (loss=0.35843): 100%|██████████| 7/7 [00:09<00:00,  1.34s/it]\n",
      "Training (6558 / 18000 Steps) (loss=0.27589): 100%|██████████| 7/7 [00:11<00:00,  1.63s/it]\n",
      "Training (6565 / 18000 Steps) (loss=0.35098): 100%|██████████| 7/7 [00:08<00:00,  1.27s/it]\n",
      "Training (6572 / 18000 Steps) (loss=0.29033): 100%|██████████| 7/7 [00:09<00:00,  1.31s/it]\n",
      "Training (6579 / 18000 Steps) (loss=0.42126): 100%|██████████| 7/7 [00:09<00:00,  1.38s/it]\n",
      "Training (6586 / 18000 Steps) (loss=0.27328): 100%|██████████| 7/7 [00:09<00:00,  1.29s/it]\n",
      "Training (6593 / 18000 Steps) (loss=0.34420): 100%|██████████| 7/7 [00:09<00:00,  1.30s/it]\n",
      "Validate (6594 / 10 Steps): 100%|██████████| 2/2 [00:05<00:00,  2.88s/it]<00:00,  1.22it/s]\n",
      "Training (6600 / 18000 Steps) (loss=0.20220): 100%|██████████| 7/7 [00:14<00:00,  2.08s/it]\n"
     ]
    },
    {
     "name": "stdout",
     "output_type": "stream",
     "text": [
      "Model Was Not Saved ! Current Best Avg. Dice: 0.6869075894355774 Current Avg. Dice: 0.6479719281196594 Current Avg. tumor Dice: 0.783714771270752 Current Avg. lymph Dice: 0.5122290849685669\n"
     ]
    },
    {
     "name": "stderr",
     "output_type": "stream",
     "text": [
      "Training (6607 / 18000 Steps) (loss=0.42787): 100%|██████████| 7/7 [00:08<00:00,  1.18s/it]\n",
      "Training (6614 / 18000 Steps) (loss=0.61354): 100%|██████████| 7/7 [00:09<00:00,  1.33s/it]\n",
      "Training (6621 / 18000 Steps) (loss=0.47909): 100%|██████████| 7/7 [00:08<00:00,  1.17s/it]\n",
      "Training (6628 / 18000 Steps) (loss=0.53242): 100%|██████████| 7/7 [00:08<00:00,  1.28s/it]\n",
      "Training (6635 / 18000 Steps) (loss=0.29497): 100%|██████████| 7/7 [00:08<00:00,  1.25s/it]\n",
      "Training (6642 / 18000 Steps) (loss=0.53448): 100%|██████████| 7/7 [00:08<00:00,  1.20s/it]\n",
      "Training (6649 / 18000 Steps) (loss=0.53487): 100%|██████████| 7/7 [00:08<00:00,  1.23s/it]\n",
      "Training (6656 / 18000 Steps) (loss=0.40785): 100%|██████████| 7/7 [00:10<00:00,  1.44s/it]\n",
      "Training (6663 / 18000 Steps) (loss=0.43012): 100%|██████████| 7/7 [00:09<00:00,  1.33s/it]\n",
      "Training (6670 / 18000 Steps) (loss=0.41255): 100%|██████████| 7/7 [00:08<00:00,  1.15s/it]\n",
      "Training (6677 / 18000 Steps) (loss=0.33840): 100%|██████████| 7/7 [00:08<00:00,  1.23s/it]\n",
      "Training (6684 / 18000 Steps) (loss=0.53646): 100%|██████████| 7/7 [00:09<00:00,  1.32s/it]\n",
      "Training (6691 / 18000 Steps) (loss=0.19184): 100%|██████████| 7/7 [00:08<00:00,  1.15s/it]\n",
      "Training (6698 / 18000 Steps) (loss=0.29553): 100%|██████████| 7/7 [00:08<00:00,  1.19s/it]\n",
      "Validate (6699 / 10 Steps): 100%|██████████| 2/2 [00:06<00:00,  3.05s/it]<00:31,  5.32s/it]\n",
      "Training (6700 / 18000 Steps) (loss=0.37640):  29%|██▊       | 2/7 [00:12<00:31,  6.38s/it]"
     ]
    },
    {
     "name": "stdout",
     "output_type": "stream",
     "text": [
      "Model Was Not Saved ! Current Best Avg. Dice: 0.6869075894355774 Current Avg. Dice: 0.572403073310852 Current Avg. tumor Dice: 0.6800540089607239 Current Avg. lymph Dice: 0.4647521376609802\n"
     ]
    },
    {
     "name": "stderr",
     "output_type": "stream",
     "text": [
      "Training (6705 / 18000 Steps) (loss=0.37785): 100%|██████████| 7/7 [00:14<00:00,  2.06s/it]\n",
      "Training (6712 / 18000 Steps) (loss=0.31428): 100%|██████████| 7/7 [00:08<00:00,  1.19s/it]\n",
      "Training (6719 / 18000 Steps) (loss=0.15625): 100%|██████████| 7/7 [00:09<00:00,  1.40s/it]\n",
      "Training (6726 / 18000 Steps) (loss=0.30092): 100%|██████████| 7/7 [00:09<00:00,  1.33s/it]\n",
      "Training (6733 / 18000 Steps) (loss=0.44802): 100%|██████████| 7/7 [00:08<00:00,  1.24s/it]\n",
      "Training (6740 / 18000 Steps) (loss=0.45202): 100%|██████████| 7/7 [00:09<00:00,  1.29s/it]\n",
      "Training (6747 / 18000 Steps) (loss=0.31429): 100%|██████████| 7/7 [00:09<00:00,  1.29s/it]\n",
      "Training (6754 / 18000 Steps) (loss=0.26753): 100%|██████████| 7/7 [00:09<00:00,  1.32s/it]\n",
      "Training (6761 / 18000 Steps) (loss=0.17162): 100%|██████████| 7/7 [00:08<00:00,  1.25s/it]\n",
      "Training (6768 / 18000 Steps) (loss=0.44658): 100%|██████████| 7/7 [00:09<00:00,  1.31s/it]\n",
      "Training (6775 / 18000 Steps) (loss=0.53627): 100%|██████████| 7/7 [00:08<00:00,  1.29s/it]\n",
      "Training (6782 / 18000 Steps) (loss=0.36875): 100%|██████████| 7/7 [00:08<00:00,  1.24s/it]\n",
      "Training (6789 / 18000 Steps) (loss=0.28070): 100%|██████████| 7/7 [00:09<00:00,  1.31s/it]\n",
      "Training (6796 / 18000 Steps) (loss=0.47271): 100%|██████████| 7/7 [00:08<00:00,  1.23s/it]\n",
      "Validate (6797 / 10 Steps): 100%|██████████| 2/2 [00:05<00:00,  2.91s/it]<00:07,  1.90s/it]\n",
      "Training (6800 / 18000 Steps) (loss=0.34677):  57%|█████▋    | 4/7 [00:14<00:10,  3.65s/it]"
     ]
    },
    {
     "name": "stdout",
     "output_type": "stream",
     "text": [
      "Model Was Not Saved ! Current Best Avg. Dice: 0.6869075894355774 Current Avg. Dice: 0.6717967987060547 Current Avg. tumor Dice: 0.8109742999076843 Current Avg. lymph Dice: 0.532619297504425\n"
     ]
    },
    {
     "name": "stderr",
     "output_type": "stream",
     "text": [
      "Training (6803 / 18000 Steps) (loss=0.39328): 100%|██████████| 7/7 [00:15<00:00,  2.20s/it]\n",
      "Training (6810 / 18000 Steps) (loss=0.31203): 100%|██████████| 7/7 [00:08<00:00,  1.21s/it]\n",
      "Training (6817 / 18000 Steps) (loss=0.44521): 100%|██████████| 7/7 [00:08<00:00,  1.24s/it]\n",
      "Training (6824 / 18000 Steps) (loss=0.48367): 100%|██████████| 7/7 [00:09<00:00,  1.37s/it]\n",
      "Training (6831 / 18000 Steps) (loss=0.36141): 100%|██████████| 7/7 [00:08<00:00,  1.21s/it]\n",
      "Training (6838 / 18000 Steps) (loss=0.42302): 100%|██████████| 7/7 [00:08<00:00,  1.23s/it]\n",
      "Training (6845 / 18000 Steps) (loss=0.40684): 100%|██████████| 7/7 [00:08<00:00,  1.28s/it]\n",
      "Training (6852 / 18000 Steps) (loss=0.41616): 100%|██████████| 7/7 [00:10<00:00,  1.43s/it]\n",
      "Training (6859 / 18000 Steps) (loss=0.28086): 100%|██████████| 7/7 [00:08<00:00,  1.26s/it]\n",
      "Training (6866 / 18000 Steps) (loss=0.28620): 100%|██████████| 7/7 [00:09<00:00,  1.30s/it]\n",
      "Training (6873 / 18000 Steps) (loss=0.48345): 100%|██████████| 7/7 [00:09<00:00,  1.34s/it]\n",
      "Training (6880 / 18000 Steps) (loss=0.48371): 100%|██████████| 7/7 [00:08<00:00,  1.17s/it]\n",
      "Training (6887 / 18000 Steps) (loss=0.28711): 100%|██████████| 7/7 [00:08<00:00,  1.23s/it]\n",
      "Training (6894 / 18000 Steps) (loss=0.30073): 100%|██████████| 7/7 [00:09<00:00,  1.33s/it]\n",
      "Validate (6895 / 10 Steps): 100%|██████████| 2/2 [00:05<00:00,  2.85s/it]<00:01,  1.11it/s]\n",
      "Training (6900 / 18000 Steps) (loss=0.27070):  86%|████████▌ | 6/7 [00:13<00:02,  2.70s/it]"
     ]
    },
    {
     "name": "stdout",
     "output_type": "stream",
     "text": [
      "Model Was Not Saved ! Current Best Avg. Dice: 0.6869075894355774 Current Avg. Dice: 0.5957303643226624 Current Avg. tumor Dice: 0.6881659030914307 Current Avg. lymph Dice: 0.5032947659492493\n"
     ]
    },
    {
     "name": "stderr",
     "output_type": "stream",
     "text": [
      "Training (6901 / 18000 Steps) (loss=0.39651): 100%|██████████| 7/7 [00:14<00:00,  2.02s/it]\n",
      "Training (6908 / 18000 Steps) (loss=0.42824): 100%|██████████| 7/7 [00:08<00:00,  1.22s/it]\n",
      "Training (6915 / 18000 Steps) (loss=0.55728): 100%|██████████| 7/7 [00:08<00:00,  1.28s/it]\n",
      "Training (6922 / 18000 Steps) (loss=0.60053): 100%|██████████| 7/7 [00:09<00:00,  1.31s/it]\n",
      "Training (6929 / 18000 Steps) (loss=0.19507): 100%|██████████| 7/7 [00:08<00:00,  1.25s/it]\n",
      "Training (6936 / 18000 Steps) (loss=0.48239): 100%|██████████| 7/7 [00:09<00:00,  1.37s/it]\n",
      "Training (6943 / 18000 Steps) (loss=0.38987): 100%|██████████| 7/7 [00:08<00:00,  1.27s/it]\n",
      "Training (6950 / 18000 Steps) (loss=0.21007): 100%|██████████| 7/7 [00:08<00:00,  1.20s/it]\n",
      "Training (6957 / 18000 Steps) (loss=0.41235): 100%|██████████| 7/7 [00:09<00:00,  1.32s/it]\n",
      "Training (6964 / 18000 Steps) (loss=0.44319): 100%|██████████| 7/7 [00:08<00:00,  1.26s/it]\n",
      "Training (6971 / 18000 Steps) (loss=0.52580): 100%|██████████| 7/7 [00:08<00:00,  1.21s/it]\n",
      "Training (6978 / 18000 Steps) (loss=0.24690): 100%|██████████| 7/7 [00:08<00:00,  1.26s/it]\n",
      "Training (6985 / 18000 Steps) (loss=0.46355): 100%|██████████| 7/7 [00:09<00:00,  1.35s/it]\n",
      "Training (6992 / 18000 Steps) (loss=0.39160): 100%|██████████| 7/7 [00:08<00:00,  1.27s/it]\n",
      "Training (6999 / 18000 Steps) (loss=0.55937): 100%|██████████| 7/7 [00:09<00:00,  1.34s/it]\n",
      "Validate (7000 / 10 Steps): 100%|██████████| 2/2 [00:05<00:00,  2.93s/it]<?, ?it/s]\n",
      "Training (7000 / 18000 Steps) (loss=0.35842):  14%|█▍        | 1/7 [00:11<01:07, 11.30s/it]"
     ]
    },
    {
     "name": "stdout",
     "output_type": "stream",
     "text": [
      "Model Was Not Saved ! Current Best Avg. Dice: 0.6869075894355774 Current Avg. Dice: 0.6419085264205933 Current Avg. tumor Dice: 0.7748260498046875 Current Avg. lymph Dice: 0.5089910626411438\n"
     ]
    },
    {
     "name": "stderr",
     "output_type": "stream",
     "text": [
      "Training (7006 / 18000 Steps) (loss=0.43707): 100%|██████████| 7/7 [00:13<00:00,  1.96s/it]\n",
      "Training (7013 / 18000 Steps) (loss=0.35937): 100%|██████████| 7/7 [00:08<00:00,  1.19s/it]\n",
      "Training (7020 / 18000 Steps) (loss=0.41216): 100%|██████████| 7/7 [00:09<00:00,  1.35s/it]\n",
      "Training (7027 / 18000 Steps) (loss=0.42333): 100%|██████████| 7/7 [00:08<00:00,  1.27s/it]\n",
      "Training (7034 / 18000 Steps) (loss=0.31070): 100%|██████████| 7/7 [00:09<00:00,  1.39s/it]\n",
      "Training (7041 / 18000 Steps) (loss=0.39425): 100%|██████████| 7/7 [00:09<00:00,  1.30s/it]\n",
      "Training (7048 / 18000 Steps) (loss=0.53013): 100%|██████████| 7/7 [00:08<00:00,  1.25s/it]\n",
      "Training (7055 / 18000 Steps) (loss=0.32111): 100%|██████████| 7/7 [00:09<00:00,  1.35s/it]\n",
      "Training (7062 / 18000 Steps) (loss=0.45839): 100%|██████████| 7/7 [00:09<00:00,  1.29s/it]\n",
      "Training (7069 / 18000 Steps) (loss=0.33642): 100%|██████████| 7/7 [00:08<00:00,  1.28s/it]\n",
      "Training (7076 / 18000 Steps) (loss=0.45711): 100%|██████████| 7/7 [00:08<00:00,  1.22s/it]\n",
      "Training (7083 / 18000 Steps) (loss=0.25722): 100%|██████████| 7/7 [00:08<00:00,  1.24s/it]\n",
      "Training (7090 / 18000 Steps) (loss=0.28496): 100%|██████████| 7/7 [00:09<00:00,  1.32s/it]\n",
      "Training (7097 / 18000 Steps) (loss=0.49203): 100%|██████████| 7/7 [00:08<00:00,  1.15s/it]\n",
      "Validate (7098 / 10 Steps): 100%|██████████| 2/2 [00:05<00:00,  2.86s/it]<00:15,  3.07s/it]\n",
      "Training (7100 / 18000 Steps) (loss=0.23473):  43%|████▎     | 3/7 [00:14<00:19,  4.94s/it]"
     ]
    },
    {
     "name": "stdout",
     "output_type": "stream",
     "text": [
      "Model Was Saved ! Current Best Avg. Dice: 0.6977691650390625 Current Avg. Dice: 0.6977691650390625 Current Avg. tumor Dice: 0.8376261591911316 Current Avg. lymph Dice: 0.5579120516777039\n"
     ]
    },
    {
     "name": "stderr",
     "output_type": "stream",
     "text": [
      "Training (7104 / 18000 Steps) (loss=0.29258): 100%|██████████| 7/7 [00:16<00:00,  2.29s/it]\n",
      "Training (7111 / 18000 Steps) (loss=0.46348): 100%|██████████| 7/7 [00:08<00:00,  1.22s/it]\n",
      "Training (7118 / 18000 Steps) (loss=0.37898): 100%|██████████| 7/7 [00:08<00:00,  1.16s/it]\n",
      "Training (7125 / 18000 Steps) (loss=0.39973): 100%|██████████| 7/7 [00:08<00:00,  1.26s/it]\n",
      "Training (7132 / 18000 Steps) (loss=0.34975): 100%|██████████| 7/7 [00:08<00:00,  1.23s/it]\n",
      "Training (7139 / 18000 Steps) (loss=0.42833): 100%|██████████| 7/7 [00:08<00:00,  1.23s/it]\n",
      "Training (7146 / 18000 Steps) (loss=0.28764): 100%|██████████| 7/7 [00:08<00:00,  1.22s/it]\n",
      "Training (7153 / 18000 Steps) (loss=0.21512): 100%|██████████| 7/7 [00:09<00:00,  1.33s/it]\n",
      "Training (7160 / 18000 Steps) (loss=0.51978): 100%|██████████| 7/7 [00:08<00:00,  1.27s/it]\n",
      "Training (7167 / 18000 Steps) (loss=0.58817): 100%|██████████| 7/7 [00:08<00:00,  1.17s/it]\n",
      "Training (7174 / 18000 Steps) (loss=0.45343): 100%|██████████| 7/7 [00:08<00:00,  1.27s/it]\n",
      "Training (7181 / 18000 Steps) (loss=0.44729): 100%|██████████| 7/7 [00:08<00:00,  1.28s/it]\n",
      "Training (7188 / 18000 Steps) (loss=0.27849): 100%|██████████| 7/7 [00:09<00:00,  1.38s/it]\n",
      "Training (7195 / 18000 Steps) (loss=0.56625): 100%|██████████| 7/7 [00:09<00:00,  1.32s/it]\n",
      "Validate (7196 / 10 Steps): 100%|██████████| 2/2 [00:05<00:00,  2.82s/it]<00:04,  1.36s/it]\n",
      "Training (7200 / 18000 Steps) (loss=0.30513):  71%|███████▏  | 5/7 [00:14<00:06,  3.08s/it]"
     ]
    },
    {
     "name": "stdout",
     "output_type": "stream",
     "text": [
      "Model Was Not Saved ! Current Best Avg. Dice: 0.6977691650390625 Current Avg. Dice: 0.6602727770805359 Current Avg. tumor Dice: 0.8024992346763611 Current Avg. lymph Dice: 0.5180462598800659\n"
     ]
    },
    {
     "name": "stderr",
     "output_type": "stream",
     "text": [
      "Training (7202 / 18000 Steps) (loss=0.29518): 100%|██████████| 7/7 [00:15<00:00,  2.20s/it]\n",
      "Training (7209 / 18000 Steps) (loss=0.16313): 100%|██████████| 7/7 [00:08<00:00,  1.25s/it]\n",
      "Training (7216 / 18000 Steps) (loss=0.43861): 100%|██████████| 7/7 [00:08<00:00,  1.27s/it]\n",
      "Training (7223 / 18000 Steps) (loss=0.24133): 100%|██████████| 7/7 [00:09<00:00,  1.33s/it]\n",
      "Training (7230 / 18000 Steps) (loss=0.43012): 100%|██████████| 7/7 [00:09<00:00,  1.32s/it]\n",
      "Training (7237 / 18000 Steps) (loss=0.29158): 100%|██████████| 7/7 [00:09<00:00,  1.29s/it]\n",
      "Training (7244 / 18000 Steps) (loss=0.47173): 100%|██████████| 7/7 [00:08<00:00,  1.23s/it]\n",
      "Training (7251 / 18000 Steps) (loss=0.33732): 100%|██████████| 7/7 [00:10<00:00,  1.45s/it]\n",
      "Training (7258 / 18000 Steps) (loss=0.56876): 100%|██████████| 7/7 [00:08<00:00,  1.22s/it]\n",
      "Training (7265 / 18000 Steps) (loss=0.42467): 100%|██████████| 7/7 [00:09<00:00,  1.37s/it]\n",
      "Training (7272 / 18000 Steps) (loss=0.29898): 100%|██████████| 7/7 [00:08<00:00,  1.17s/it]\n",
      "Training (7279 / 18000 Steps) (loss=0.35177): 100%|██████████| 7/7 [00:09<00:00,  1.33s/it]\n",
      "Training (7286 / 18000 Steps) (loss=0.48164): 100%|██████████| 7/7 [00:08<00:00,  1.24s/it]\n",
      "Training (7293 / 18000 Steps) (loss=0.42831): 100%|██████████| 7/7 [00:09<00:00,  1.42s/it]\n",
      "Validate (7294 / 10 Steps): 100%|██████████| 2/2 [00:05<00:00,  2.94s/it]<00:00,  1.29it/s]\n",
      "Training (7300 / 18000 Steps) (loss=0.44136): 100%|██████████| 7/7 [00:15<00:00,  2.15s/it]\n"
     ]
    },
    {
     "name": "stdout",
     "output_type": "stream",
     "text": [
      "Model Was Not Saved ! Current Best Avg. Dice: 0.6977691650390625 Current Avg. Dice: 0.5706888437271118 Current Avg. tumor Dice: 0.6796290874481201 Current Avg. lymph Dice: 0.46174877882003784\n"
     ]
    },
    {
     "name": "stderr",
     "output_type": "stream",
     "text": [
      "Training (7307 / 18000 Steps) (loss=0.53767): 100%|██████████| 7/7 [00:08<00:00,  1.28s/it]\n",
      "Training (7314 / 18000 Steps) (loss=0.38727): 100%|██████████| 7/7 [00:08<00:00,  1.24s/it]\n",
      "Training (7321 / 18000 Steps) (loss=0.38288): 100%|██████████| 7/7 [00:08<00:00,  1.25s/it]\n",
      "Training (7328 / 18000 Steps) (loss=0.43514): 100%|██████████| 7/7 [00:08<00:00,  1.22s/it]\n",
      "Training (7335 / 18000 Steps) (loss=0.60934): 100%|██████████| 7/7 [00:09<00:00,  1.34s/it]\n",
      "Training (7342 / 18000 Steps) (loss=0.18926): 100%|██████████| 7/7 [00:09<00:00,  1.32s/it]\n",
      "Training (7349 / 18000 Steps) (loss=0.14828): 100%|██████████| 7/7 [00:08<00:00,  1.16s/it]\n",
      "Training (7356 / 18000 Steps) (loss=0.39685): 100%|██████████| 7/7 [00:09<00:00,  1.29s/it]\n",
      "Training (7363 / 18000 Steps) (loss=0.34153): 100%|██████████| 7/7 [00:08<00:00,  1.15s/it]\n",
      "Training (7370 / 18000 Steps) (loss=0.29031): 100%|██████████| 7/7 [00:08<00:00,  1.23s/it]\n",
      "Training (7377 / 18000 Steps) (loss=0.39607): 100%|██████████| 7/7 [00:09<00:00,  1.37s/it]\n",
      "Training (7384 / 18000 Steps) (loss=0.34827): 100%|██████████| 7/7 [00:08<00:00,  1.19s/it]\n",
      "Training (7391 / 18000 Steps) (loss=0.46398): 100%|██████████| 7/7 [00:08<00:00,  1.20s/it]\n",
      "Training (7398 / 18000 Steps) (loss=0.47167): 100%|██████████| 7/7 [00:09<00:00,  1.39s/it]\n",
      "Validate (7399 / 10 Steps): 100%|██████████| 2/2 [00:06<00:00,  3.19s/it]<00:32,  5.36s/it]\n",
      "Training (7400 / 18000 Steps) (loss=0.41386):  29%|██▊       | 2/7 [00:12<00:31,  6.30s/it]"
     ]
    },
    {
     "name": "stdout",
     "output_type": "stream",
     "text": [
      "Model Was Not Saved ! Current Best Avg. Dice: 0.6977691650390625 Current Avg. Dice: 0.6113221645355225 Current Avg. tumor Dice: 0.7207199931144714 Current Avg. lymph Dice: 0.5019243359565735\n"
     ]
    },
    {
     "name": "stderr",
     "output_type": "stream",
     "text": [
      "Training (7405 / 18000 Steps) (loss=0.21007): 100%|██████████| 7/7 [00:14<00:00,  2.05s/it]\n",
      "Training (7412 / 18000 Steps) (loss=0.66742): 100%|██████████| 7/7 [00:09<00:00,  1.29s/it]\n",
      "Training (7419 / 18000 Steps) (loss=0.54725): 100%|██████████| 7/7 [00:09<00:00,  1.31s/it]\n",
      "Training (7426 / 18000 Steps) (loss=0.24941): 100%|██████████| 7/7 [00:08<00:00,  1.24s/it]\n",
      "Training (7433 / 18000 Steps) (loss=0.66700): 100%|██████████| 7/7 [00:08<00:00,  1.22s/it]\n",
      "Training (7440 / 18000 Steps) (loss=0.62427): 100%|██████████| 7/7 [00:09<00:00,  1.34s/it]\n",
      "Training (7447 / 18000 Steps) (loss=0.32890): 100%|██████████| 7/7 [00:09<00:00,  1.40s/it]\n",
      "Training (7454 / 18000 Steps) (loss=0.35061): 100%|██████████| 7/7 [00:08<00:00,  1.25s/it]\n",
      "Training (7461 / 18000 Steps) (loss=0.32095): 100%|██████████| 7/7 [00:08<00:00,  1.22s/it]\n",
      "Training (7468 / 18000 Steps) (loss=0.56343): 100%|██████████| 7/7 [00:08<00:00,  1.24s/it]\n",
      "Training (7475 / 18000 Steps) (loss=0.50748): 100%|██████████| 7/7 [00:09<00:00,  1.37s/it]\n",
      "Training (7482 / 18000 Steps) (loss=0.33468): 100%|██████████| 7/7 [00:08<00:00,  1.29s/it]\n",
      "Training (7489 / 18000 Steps) (loss=0.13198): 100%|██████████| 7/7 [00:08<00:00,  1.25s/it]\n",
      "Training (7496 / 18000 Steps) (loss=0.46881): 100%|██████████| 7/7 [00:08<00:00,  1.27s/it]\n",
      "Validate (7497 / 10 Steps): 100%|██████████| 2/2 [00:05<00:00,  2.85s/it]<00:07,  1.90s/it]\n",
      "Training (7500 / 18000 Steps) (loss=0.45535):  57%|█████▋    | 4/7 [00:13<00:10,  3.60s/it]"
     ]
    },
    {
     "name": "stdout",
     "output_type": "stream",
     "text": [
      "Model Was Not Saved ! Current Best Avg. Dice: 0.6977691650390625 Current Avg. Dice: 0.666293203830719 Current Avg. tumor Dice: 0.8121767044067383 Current Avg. lymph Dice: 0.5204096436500549\n"
     ]
    },
    {
     "name": "stderr",
     "output_type": "stream",
     "text": [
      "Training (7503 / 18000 Steps) (loss=0.15393): 100%|██████████| 7/7 [00:14<00:00,  2.14s/it]\n",
      "Training (7510 / 18000 Steps) (loss=0.30697): 100%|██████████| 7/7 [00:08<00:00,  1.23s/it]\n",
      "Training (7517 / 18000 Steps) (loss=0.17800): 100%|██████████| 7/7 [00:09<00:00,  1.38s/it]\n",
      "Training (7524 / 18000 Steps) (loss=0.42866): 100%|██████████| 7/7 [00:08<00:00,  1.25s/it]\n",
      "Training (7531 / 18000 Steps) (loss=0.45823): 100%|██████████| 7/7 [00:08<00:00,  1.22s/it]\n",
      "Training (7538 / 18000 Steps) (loss=0.43045): 100%|██████████| 7/7 [00:08<00:00,  1.18s/it]\n",
      "Training (7545 / 18000 Steps) (loss=0.47597): 100%|██████████| 7/7 [00:10<00:00,  1.43s/it]\n",
      "Training (7552 / 18000 Steps) (loss=0.44435): 100%|██████████| 7/7 [00:08<00:00,  1.28s/it]\n",
      "Training (7559 / 18000 Steps) (loss=0.39890): 100%|██████████| 7/7 [00:09<00:00,  1.41s/it]\n",
      "Training (7566 / 18000 Steps) (loss=0.45192): 100%|██████████| 7/7 [00:08<00:00,  1.20s/it]\n",
      "Training (7573 / 18000 Steps) (loss=0.53227): 100%|██████████| 7/7 [00:09<00:00,  1.33s/it]\n",
      "Training (7580 / 18000 Steps) (loss=0.36787): 100%|██████████| 7/7 [00:08<00:00,  1.23s/it]\n",
      "Training (7587 / 18000 Steps) (loss=0.34914): 100%|██████████| 7/7 [00:09<00:00,  1.38s/it]\n",
      "Training (7594 / 18000 Steps) (loss=0.18583): 100%|██████████| 7/7 [00:08<00:00,  1.25s/it]\n",
      "Validate (7595 / 10 Steps): 100%|██████████| 2/2 [00:06<00:00,  3.06s/it]<00:01,  1.03it/s]\n",
      "Training (7600 / 18000 Steps) (loss=0.36959):  86%|████████▌ | 6/7 [00:15<00:02,  2.90s/it]"
     ]
    },
    {
     "name": "stdout",
     "output_type": "stream",
     "text": [
      "Model Was Not Saved ! Current Best Avg. Dice: 0.6977691650390625 Current Avg. Dice: 0.6394202709197998 Current Avg. tumor Dice: 0.786220133304596 Current Avg. lymph Dice: 0.4926203489303589\n"
     ]
    },
    {
     "name": "stderr",
     "output_type": "stream",
     "text": [
      "Training (7601 / 18000 Steps) (loss=0.28541): 100%|██████████| 7/7 [00:15<00:00,  2.20s/it]\n",
      "Training (7608 / 18000 Steps) (loss=0.23300): 100%|██████████| 7/7 [00:09<00:00,  1.34s/it]\n",
      "Training (7615 / 18000 Steps) (loss=0.42845): 100%|██████████| 7/7 [00:08<00:00,  1.28s/it]\n",
      "Training (7622 / 18000 Steps) (loss=0.54594): 100%|██████████| 7/7 [00:09<00:00,  1.33s/it]\n",
      "Training (7629 / 18000 Steps) (loss=0.50483): 100%|██████████| 7/7 [00:09<00:00,  1.35s/it]\n",
      "Training (7636 / 18000 Steps) (loss=0.40703): 100%|██████████| 7/7 [00:09<00:00,  1.40s/it]\n",
      "Training (7643 / 18000 Steps) (loss=0.27301): 100%|██████████| 7/7 [00:10<00:00,  1.47s/it]\n",
      "Training (7650 / 18000 Steps) (loss=0.17266): 100%|██████████| 7/7 [00:08<00:00,  1.25s/it]\n",
      "Training (7657 / 18000 Steps) (loss=0.18225): 100%|██████████| 7/7 [00:09<00:00,  1.31s/it]\n",
      "Training (7664 / 18000 Steps) (loss=0.26316): 100%|██████████| 7/7 [00:09<00:00,  1.31s/it]\n",
      "Training (7671 / 18000 Steps) (loss=0.44179): 100%|██████████| 7/7 [00:08<00:00,  1.25s/it]\n",
      "Training (7678 / 18000 Steps) (loss=0.26232): 100%|██████████| 7/7 [00:08<00:00,  1.22s/it]\n",
      "Training (7685 / 18000 Steps) (loss=0.40565): 100%|██████████| 7/7 [00:08<00:00,  1.23s/it]\n",
      "Training (7692 / 18000 Steps) (loss=0.18957): 100%|██████████| 7/7 [00:09<00:00,  1.29s/it]\n",
      "Training (7699 / 18000 Steps) (loss=0.14476): 100%|██████████| 7/7 [00:08<00:00,  1.27s/it]\n",
      "Validate (7700 / 10 Steps): 100%|██████████| 2/2 [00:05<00:00,  2.98s/it]<?, ?it/s]\n",
      "Training (7700 / 18000 Steps) (loss=0.49324):  14%|█▍        | 1/7 [00:11<01:10, 11.72s/it]"
     ]
    },
    {
     "name": "stdout",
     "output_type": "stream",
     "text": [
      "Model Was Not Saved ! Current Best Avg. Dice: 0.6977691650390625 Current Avg. Dice: 0.6032389998435974 Current Avg. tumor Dice: 0.705290675163269 Current Avg. lymph Dice: 0.5011873245239258\n"
     ]
    },
    {
     "name": "stderr",
     "output_type": "stream",
     "text": [
      "Training (7706 / 18000 Steps) (loss=0.34513): 100%|██████████| 7/7 [00:14<00:00,  2.02s/it]\n",
      "Training (7713 / 18000 Steps) (loss=0.25104): 100%|██████████| 7/7 [00:08<00:00,  1.22s/it]\n",
      "Training (7720 / 18000 Steps) (loss=0.41343): 100%|██████████| 7/7 [00:08<00:00,  1.22s/it]\n",
      "Training (7727 / 18000 Steps) (loss=0.34109): 100%|██████████| 7/7 [00:09<00:00,  1.29s/it]\n",
      "Training (7734 / 18000 Steps) (loss=0.32494): 100%|██████████| 7/7 [00:08<00:00,  1.19s/it]\n",
      "Training (7741 / 18000 Steps) (loss=0.39159): 100%|██████████| 7/7 [00:08<00:00,  1.21s/it]\n",
      "Training (7748 / 18000 Steps) (loss=0.41598): 100%|██████████| 7/7 [00:08<00:00,  1.19s/it]\n",
      "Training (7755 / 18000 Steps) (loss=0.40630): 100%|██████████| 7/7 [00:08<00:00,  1.22s/it]\n",
      "Training (7762 / 18000 Steps) (loss=0.44306): 100%|██████████| 7/7 [00:09<00:00,  1.37s/it]\n",
      "Training (7769 / 18000 Steps) (loss=0.32291): 100%|██████████| 7/7 [00:09<00:00,  1.34s/it]\n",
      "Training (7776 / 18000 Steps) (loss=0.29529): 100%|██████████| 7/7 [00:09<00:00,  1.38s/it]\n",
      "Training (7783 / 18000 Steps) (loss=0.41778): 100%|██████████| 7/7 [00:08<00:00,  1.20s/it]\n",
      "Training (7790 / 18000 Steps) (loss=0.33860): 100%|██████████| 7/7 [00:08<00:00,  1.26s/it]\n",
      "Training (7797 / 18000 Steps) (loss=0.33986): 100%|██████████| 7/7 [00:09<00:00,  1.32s/it]\n",
      "Validate (7798 / 10 Steps): 100%|██████████| 2/2 [00:06<00:00,  3.04s/it]<00:13,  2.69s/it]\n",
      "Training (7800 / 18000 Steps) (loss=0.42217):  43%|████▎     | 3/7 [00:12<00:17,  4.47s/it]"
     ]
    },
    {
     "name": "stdout",
     "output_type": "stream",
     "text": [
      "Model Was Not Saved ! Current Best Avg. Dice: 0.6977691650390625 Current Avg. Dice: 0.6807939410209656 Current Avg. tumor Dice: 0.8250884413719177 Current Avg. lymph Dice: 0.5364995002746582\n"
     ]
    },
    {
     "name": "stderr",
     "output_type": "stream",
     "text": [
      "Training (7804 / 18000 Steps) (loss=0.47709): 100%|██████████| 7/7 [00:14<00:00,  2.05s/it]\n",
      "Training (7811 / 18000 Steps) (loss=0.42413): 100%|██████████| 7/7 [00:09<00:00,  1.34s/it]\n",
      "Training (7818 / 18000 Steps) (loss=0.41449): 100%|██████████| 7/7 [00:09<00:00,  1.41s/it]\n",
      "Training (7825 / 18000 Steps) (loss=0.54532): 100%|██████████| 7/7 [00:09<00:00,  1.38s/it]\n",
      "Training (7832 / 18000 Steps) (loss=0.28541): 100%|██████████| 7/7 [00:08<00:00,  1.23s/it]\n",
      "Training (7839 / 18000 Steps) (loss=0.39920): 100%|██████████| 7/7 [00:08<00:00,  1.23s/it]\n",
      "Training (7846 / 18000 Steps) (loss=0.15446): 100%|██████████| 7/7 [00:09<00:00,  1.32s/it]\n",
      "Training (7853 / 18000 Steps) (loss=0.27138): 100%|██████████| 7/7 [00:09<00:00,  1.33s/it]\n",
      "Training (7860 / 18000 Steps) (loss=0.38921): 100%|██████████| 7/7 [00:09<00:00,  1.33s/it]\n",
      "Training (7867 / 18000 Steps) (loss=0.41482): 100%|██████████| 7/7 [00:07<00:00,  1.12s/it]\n",
      "Training (7874 / 18000 Steps) (loss=0.10236): 100%|██████████| 7/7 [00:09<00:00,  1.30s/it]\n",
      "Training (7881 / 18000 Steps) (loss=0.28682): 100%|██████████| 7/7 [00:08<00:00,  1.24s/it]\n",
      "Training (7888 / 18000 Steps) (loss=0.42489): 100%|██████████| 7/7 [00:09<00:00,  1.39s/it]\n",
      "Training (7895 / 18000 Steps) (loss=0.54121): 100%|██████████| 7/7 [00:08<00:00,  1.22s/it]\n",
      "Validate (7896 / 10 Steps): 100%|██████████| 2/2 [00:05<00:00,  2.90s/it]<00:03,  1.26s/it]\n",
      "Training (7900 / 18000 Steps) (loss=0.29413):  71%|███████▏  | 5/7 [00:14<00:06,  3.08s/it]"
     ]
    },
    {
     "name": "stdout",
     "output_type": "stream",
     "text": [
      "Model Was Not Saved ! Current Best Avg. Dice: 0.6977691650390625 Current Avg. Dice: 0.6055640578269958 Current Avg. tumor Dice: 0.751520574092865 Current Avg. lymph Dice: 0.4596076011657715\n"
     ]
    },
    {
     "name": "stderr",
     "output_type": "stream",
     "text": [
      "Training (7902 / 18000 Steps) (loss=0.36948): 100%|██████████| 7/7 [00:14<00:00,  2.13s/it]\n",
      "Training (7909 / 18000 Steps) (loss=0.53061): 100%|██████████| 7/7 [00:08<00:00,  1.22s/it]\n",
      "Training (7916 / 18000 Steps) (loss=0.27328): 100%|██████████| 7/7 [00:08<00:00,  1.27s/it]\n",
      "Training (7923 / 18000 Steps) (loss=0.51786): 100%|██████████| 7/7 [00:08<00:00,  1.21s/it]\n",
      "Training (7930 / 18000 Steps) (loss=0.38158): 100%|██████████| 7/7 [00:08<00:00,  1.22s/it]\n",
      "Training (7937 / 18000 Steps) (loss=0.22564): 100%|██████████| 7/7 [00:09<00:00,  1.32s/it]\n",
      "Training (7944 / 18000 Steps) (loss=0.26563): 100%|██████████| 7/7 [00:08<00:00,  1.19s/it]\n",
      "Training (7951 / 18000 Steps) (loss=0.35515): 100%|██████████| 7/7 [00:09<00:00,  1.30s/it]\n",
      "Training (7958 / 18000 Steps) (loss=0.42091): 100%|██████████| 7/7 [00:08<00:00,  1.18s/it]\n",
      "Training (7965 / 18000 Steps) (loss=0.60491): 100%|██████████| 7/7 [00:09<00:00,  1.30s/it]\n",
      "Training (7972 / 18000 Steps) (loss=0.19962): 100%|██████████| 7/7 [00:09<00:00,  1.30s/it]\n",
      "Training (7979 / 18000 Steps) (loss=0.29939): 100%|██████████| 7/7 [00:08<00:00,  1.26s/it]\n",
      "Training (7986 / 18000 Steps) (loss=0.59974): 100%|██████████| 7/7 [00:09<00:00,  1.29s/it]\n",
      "Training (7993 / 18000 Steps) (loss=0.56185): 100%|██████████| 7/7 [00:10<00:00,  1.44s/it]\n",
      "Validate (7994 / 10 Steps): 100%|██████████| 2/2 [00:05<00:00,  2.93s/it]<00:00,  1.31it/s]\n",
      "Training (8000 / 18000 Steps) (loss=0.48923): 100%|██████████| 7/7 [00:14<00:00,  2.12s/it]\n"
     ]
    },
    {
     "name": "stdout",
     "output_type": "stream",
     "text": [
      "Model Was Not Saved ! Current Best Avg. Dice: 0.6977691650390625 Current Avg. Dice: 0.6570757627487183 Current Avg. tumor Dice: 0.8023994565010071 Current Avg. lymph Dice: 0.5117520093917847\n"
     ]
    },
    {
     "name": "stderr",
     "output_type": "stream",
     "text": [
      "Training (8007 / 18000 Steps) (loss=0.54492): 100%|██████████| 7/7 [00:09<00:00,  1.36s/it]\n",
      "Training (8014 / 18000 Steps) (loss=0.40436): 100%|██████████| 7/7 [00:08<00:00,  1.26s/it]\n",
      "Training (8021 / 18000 Steps) (loss=0.66699): 100%|██████████| 7/7 [00:08<00:00,  1.23s/it]\n",
      "Training (8028 / 18000 Steps) (loss=0.53532): 100%|██████████| 7/7 [00:09<00:00,  1.38s/it]\n",
      "Training (8035 / 18000 Steps) (loss=0.52327): 100%|██████████| 7/7 [00:09<00:00,  1.29s/it]\n",
      "Training (8042 / 18000 Steps) (loss=0.53675): 100%|██████████| 7/7 [00:09<00:00,  1.35s/it]\n",
      "Training (8049 / 18000 Steps) (loss=0.28924): 100%|██████████| 7/7 [00:07<00:00,  1.13s/it]\n",
      "Training (8056 / 18000 Steps) (loss=0.16100): 100%|██████████| 7/7 [00:09<00:00,  1.35s/it]\n",
      "Training (8063 / 18000 Steps) (loss=0.47379): 100%|██████████| 7/7 [00:08<00:00,  1.24s/it]\n",
      "Training (8070 / 18000 Steps) (loss=0.42286): 100%|██████████| 7/7 [00:09<00:00,  1.40s/it]\n",
      "Training (8077 / 18000 Steps) (loss=0.61219): 100%|██████████| 7/7 [00:09<00:00,  1.29s/it]\n",
      "Training (8084 / 18000 Steps) (loss=0.11010): 100%|██████████| 7/7 [00:09<00:00,  1.36s/it]\n",
      "Training (8091 / 18000 Steps) (loss=0.28325): 100%|██████████| 7/7 [00:09<00:00,  1.29s/it]\n",
      "Training (8098 / 18000 Steps) (loss=0.28826): 100%|██████████| 7/7 [00:08<00:00,  1.25s/it]\n",
      "Validate (8099 / 10 Steps): 100%|██████████| 2/2 [00:06<00:00,  3.01s/it]<00:33,  5.59s/it]\n",
      "Training (8100 / 18000 Steps) (loss=0.36438):  29%|██▊       | 2/7 [00:13<00:35,  7.09s/it]"
     ]
    },
    {
     "name": "stdout",
     "output_type": "stream",
     "text": [
      "Model Was Not Saved ! Current Best Avg. Dice: 0.6977691650390625 Current Avg. Dice: 0.6440896987915039 Current Avg. tumor Dice: 0.7695379257202148 Current Avg. lymph Dice: 0.5186413526535034\n"
     ]
    },
    {
     "name": "stderr",
     "output_type": "stream",
     "text": [
      "Training (8105 / 18000 Steps) (loss=0.37497): 100%|██████████| 7/7 [00:15<00:00,  2.25s/it]\n",
      "Training (8112 / 18000 Steps) (loss=0.39329): 100%|██████████| 7/7 [00:08<00:00,  1.26s/it]\n",
      "Training (8119 / 18000 Steps) (loss=0.42392): 100%|██████████| 7/7 [00:08<00:00,  1.22s/it]\n",
      "Training (8126 / 18000 Steps) (loss=0.20981): 100%|██████████| 7/7 [00:09<00:00,  1.36s/it]\n",
      "Training (8133 / 18000 Steps) (loss=0.33230): 100%|██████████| 7/7 [00:09<00:00,  1.39s/it]\n",
      "Training (8140 / 18000 Steps) (loss=0.32389): 100%|██████████| 7/7 [00:08<00:00,  1.27s/it]\n",
      "Training (8147 / 18000 Steps) (loss=0.27197): 100%|██████████| 7/7 [00:09<00:00,  1.34s/it]\n",
      "Training (8154 / 18000 Steps) (loss=0.16080): 100%|██████████| 7/7 [00:09<00:00,  1.34s/it]\n",
      "Training (8161 / 18000 Steps) (loss=0.20883): 100%|██████████| 7/7 [00:09<00:00,  1.29s/it]\n",
      "Training (8168 / 18000 Steps) (loss=0.24764): 100%|██████████| 7/7 [00:09<00:00,  1.31s/it]\n",
      "Training (8175 / 18000 Steps) (loss=0.24991): 100%|██████████| 7/7 [00:09<00:00,  1.40s/it]\n",
      "Training (8182 / 18000 Steps) (loss=0.38326): 100%|██████████| 7/7 [00:08<00:00,  1.27s/it]\n",
      "Training (8189 / 18000 Steps) (loss=0.15647): 100%|██████████| 7/7 [00:09<00:00,  1.30s/it]\n",
      "Training (8196 / 18000 Steps) (loss=0.19989): 100%|██████████| 7/7 [00:08<00:00,  1.27s/it]\n",
      "Validate (8197 / 10 Steps): 100%|██████████| 2/2 [00:06<00:00,  3.03s/it]<00:08,  2.01s/it]\n",
      "Training (8200 / 18000 Steps) (loss=0.44600):  57%|█████▋    | 4/7 [00:14<00:11,  3.82s/it]"
     ]
    },
    {
     "name": "stdout",
     "output_type": "stream",
     "text": [
      "Model Was Not Saved ! Current Best Avg. Dice: 0.6977691650390625 Current Avg. Dice: 0.6758112907409668 Current Avg. tumor Dice: 0.8088160753250122 Current Avg. lymph Dice: 0.5428065061569214\n"
     ]
    },
    {
     "name": "stderr",
     "output_type": "stream",
     "text": [
      "Training (8203 / 18000 Steps) (loss=0.48121): 100%|██████████| 7/7 [00:15<00:00,  2.23s/it]\n",
      "Training (8210 / 18000 Steps) (loss=0.52474): 100%|██████████| 7/7 [00:08<00:00,  1.22s/it]\n",
      "Training (8217 / 18000 Steps) (loss=0.29300): 100%|██████████| 7/7 [00:08<00:00,  1.25s/it]\n",
      "Training (8224 / 18000 Steps) (loss=0.43504): 100%|██████████| 7/7 [00:08<00:00,  1.25s/it]\n",
      "Training (8231 / 18000 Steps) (loss=0.35485): 100%|██████████| 7/7 [00:08<00:00,  1.27s/it]\n",
      "Training (8238 / 18000 Steps) (loss=0.36869): 100%|██████████| 7/7 [00:09<00:00,  1.37s/it]\n",
      "Training (8245 / 18000 Steps) (loss=0.35141): 100%|██████████| 7/7 [00:09<00:00,  1.37s/it]\n",
      "Training (8252 / 18000 Steps) (loss=0.34664): 100%|██████████| 7/7 [00:09<00:00,  1.30s/it]\n",
      "Training (8259 / 18000 Steps) (loss=0.34542): 100%|██████████| 7/7 [00:09<00:00,  1.38s/it]\n",
      "Training (8266 / 18000 Steps) (loss=0.26423): 100%|██████████| 7/7 [00:08<00:00,  1.21s/it]\n",
      "Training (8273 / 18000 Steps) (loss=0.31431): 100%|██████████| 7/7 [00:09<00:00,  1.30s/it]\n",
      "Training (8280 / 18000 Steps) (loss=0.39064): 100%|██████████| 7/7 [00:08<00:00,  1.25s/it]\n",
      "Training (8287 / 18000 Steps) (loss=0.40406): 100%|██████████| 7/7 [00:09<00:00,  1.31s/it]\n",
      "Training (8294 / 18000 Steps) (loss=0.33653): 100%|██████████| 7/7 [00:08<00:00,  1.28s/it]\n",
      "Validate (8295 / 10 Steps): 100%|██████████| 2/2 [00:05<00:00,  2.98s/it]<00:01,  1.03it/s]\n",
      "Training (8300 / 18000 Steps) (loss=0.38615):  86%|████████▌ | 6/7 [00:14<00:02,  2.84s/it]"
     ]
    },
    {
     "name": "stdout",
     "output_type": "stream",
     "text": [
      "Model Was Not Saved ! Current Best Avg. Dice: 0.6977691650390625 Current Avg. Dice: 0.5932273864746094 Current Avg. tumor Dice: 0.6849184632301331 Current Avg. lymph Dice: 0.5015362501144409\n"
     ]
    },
    {
     "name": "stderr",
     "output_type": "stream",
     "text": [
      "Training (8301 / 18000 Steps) (loss=0.53920): 100%|██████████| 7/7 [00:15<00:00,  2.16s/it]\n",
      "Training (8308 / 18000 Steps) (loss=0.43419): 100%|██████████| 7/7 [00:08<00:00,  1.28s/it]\n",
      "Training (8315 / 18000 Steps) (loss=0.34158): 100%|██████████| 7/7 [00:08<00:00,  1.25s/it]\n",
      "Training (8322 / 18000 Steps) (loss=0.28750): 100%|██████████| 7/7 [00:09<00:00,  1.35s/it]\n",
      "Training (8329 / 18000 Steps) (loss=0.41886): 100%|██████████| 7/7 [00:09<00:00,  1.29s/it]\n",
      "Training (8336 / 18000 Steps) (loss=0.15443): 100%|██████████| 7/7 [00:09<00:00,  1.35s/it]\n",
      "Training (8343 / 18000 Steps) (loss=0.26682): 100%|██████████| 7/7 [00:08<00:00,  1.19s/it]\n",
      "Training (8350 / 18000 Steps) (loss=0.23544): 100%|██████████| 7/7 [00:08<00:00,  1.23s/it]\n",
      "Training (8357 / 18000 Steps) (loss=0.26422): 100%|██████████| 7/7 [00:08<00:00,  1.26s/it]\n",
      "Training (8364 / 18000 Steps) (loss=0.41600): 100%|██████████| 7/7 [00:08<00:00,  1.17s/it]\n",
      "Training (8371 / 18000 Steps) (loss=0.23855): 100%|██████████| 7/7 [00:08<00:00,  1.28s/it]\n",
      "Training (8378 / 18000 Steps) (loss=0.20636): 100%|██████████| 7/7 [00:09<00:00,  1.37s/it]\n",
      "Training (8385 / 18000 Steps) (loss=0.29999): 100%|██████████| 7/7 [00:08<00:00,  1.25s/it]\n",
      "Training (8392 / 18000 Steps) (loss=0.35247): 100%|██████████| 7/7 [00:08<00:00,  1.16s/it]\n",
      "Training (8399 / 18000 Steps) (loss=0.18793): 100%|██████████| 7/7 [00:09<00:00,  1.31s/it]\n",
      "Validate (8400 / 10 Steps): 100%|██████████| 2/2 [00:06<00:00,  3.01s/it]<?, ?it/s]\n",
      "Training (8400 / 18000 Steps) (loss=0.35455):  14%|█▍        | 1/7 [00:11<01:11, 11.93s/it]"
     ]
    },
    {
     "name": "stdout",
     "output_type": "stream",
     "text": [
      "Model Was Not Saved ! Current Best Avg. Dice: 0.6977691650390625 Current Avg. Dice: 0.669086217880249 Current Avg. tumor Dice: 0.7966352105140686 Current Avg. lymph Dice: 0.5415372848510742\n"
     ]
    },
    {
     "name": "stderr",
     "output_type": "stream",
     "text": [
      "Training (8406 / 18000 Steps) (loss=0.14413): 100%|██████████| 7/7 [00:14<00:00,  2.05s/it]\n",
      "Training (8413 / 18000 Steps) (loss=0.45461): 100%|██████████| 7/7 [00:08<00:00,  1.28s/it]\n",
      "Training (8420 / 18000 Steps) (loss=0.15905): 100%|██████████| 7/7 [00:08<00:00,  1.27s/it]\n",
      "Training (8427 / 18000 Steps) (loss=0.28565): 100%|██████████| 7/7 [00:09<00:00,  1.38s/it]\n",
      "Training (8434 / 18000 Steps) (loss=0.41663): 100%|██████████| 7/7 [00:09<00:00,  1.32s/it]\n",
      "Training (8441 / 18000 Steps) (loss=0.33053): 100%|██████████| 7/7 [00:08<00:00,  1.18s/it]\n",
      "Training (8448 / 18000 Steps) (loss=0.32607): 100%|██████████| 7/7 [00:08<00:00,  1.25s/it]\n",
      "Training (8455 / 18000 Steps) (loss=0.46866): 100%|██████████| 7/7 [00:08<00:00,  1.26s/it]\n",
      "Training (8462 / 18000 Steps) (loss=0.46583): 100%|██████████| 7/7 [00:09<00:00,  1.35s/it]\n",
      "Training (8469 / 18000 Steps) (loss=0.48892): 100%|██████████| 7/7 [00:09<00:00,  1.35s/it]\n",
      "Training (8476 / 18000 Steps) (loss=0.35707): 100%|██████████| 7/7 [00:08<00:00,  1.26s/it]\n",
      "Training (8483 / 18000 Steps) (loss=0.24963): 100%|██████████| 7/7 [00:08<00:00,  1.20s/it]\n",
      "Training (8490 / 18000 Steps) (loss=0.35026): 100%|██████████| 7/7 [00:09<00:00,  1.35s/it]\n",
      "Training (8497 / 18000 Steps) (loss=0.28614): 100%|██████████| 7/7 [00:09<00:00,  1.33s/it]\n",
      "Validate (8498 / 10 Steps): 100%|██████████| 2/2 [00:05<00:00,  2.99s/it]<00:15,  3.12s/it]\n",
      "Training (8500 / 18000 Steps) (loss=0.36964):  43%|████▎     | 3/7 [00:13<00:18,  4.65s/it]"
     ]
    },
    {
     "name": "stdout",
     "output_type": "stream",
     "text": [
      "Model Was Not Saved ! Current Best Avg. Dice: 0.6977691650390625 Current Avg. Dice: 0.6310950517654419 Current Avg. tumor Dice: 0.7832499742507935 Current Avg. lymph Dice: 0.4789401590824127\n"
     ]
    },
    {
     "name": "stderr",
     "output_type": "stream",
     "text": [
      "Training (8504 / 18000 Steps) (loss=0.40053): 100%|██████████| 7/7 [00:15<00:00,  2.21s/it]\n",
      "Training (8511 / 18000 Steps) (loss=0.27451): 100%|██████████| 7/7 [00:08<00:00,  1.23s/it]\n",
      "Training (8518 / 18000 Steps) (loss=0.41160): 100%|██████████| 7/7 [00:09<00:00,  1.32s/it]\n",
      "Training (8525 / 18000 Steps) (loss=0.53407): 100%|██████████| 7/7 [00:08<00:00,  1.25s/it]\n",
      "Training (8532 / 18000 Steps) (loss=0.67004): 100%|██████████| 7/7 [00:08<00:00,  1.21s/it]\n",
      "Training (8539 / 18000 Steps) (loss=0.40018): 100%|██████████| 7/7 [00:08<00:00,  1.24s/it]\n",
      "Training (8546 / 18000 Steps) (loss=0.28825): 100%|██████████| 7/7 [00:08<00:00,  1.24s/it]\n",
      "Training (8553 / 18000 Steps) (loss=0.35173): 100%|██████████| 7/7 [00:09<00:00,  1.33s/it]\n",
      "Training (8560 / 18000 Steps) (loss=0.53529): 100%|██████████| 7/7 [00:08<00:00,  1.17s/it]\n",
      "Training (8567 / 18000 Steps) (loss=0.33694): 100%|██████████| 7/7 [00:08<00:00,  1.28s/it]\n",
      "Training (8574 / 18000 Steps) (loss=0.22985): 100%|██████████| 7/7 [00:08<00:00,  1.22s/it]\n",
      "Training (8581 / 18000 Steps) (loss=0.42953): 100%|██████████| 7/7 [00:08<00:00,  1.22s/it]\n",
      "Training (8588 / 18000 Steps) (loss=0.31359): 100%|██████████| 7/7 [00:10<00:00,  1.45s/it]\n",
      "Training (8595 / 18000 Steps) (loss=0.39931): 100%|██████████| 7/7 [00:09<00:00,  1.30s/it]\n",
      "Validate (8596 / 10 Steps): 100%|██████████| 2/2 [00:06<00:00,  3.02s/it]<00:03,  1.23s/it]\n",
      "Training (8600 / 18000 Steps) (loss=0.26932):  71%|███████▏  | 5/7 [00:13<00:06,  3.14s/it]"
     ]
    },
    {
     "name": "stdout",
     "output_type": "stream",
     "text": [
      "Model Was Not Saved ! Current Best Avg. Dice: 0.6977691650390625 Current Avg. Dice: 0.6199536919593811 Current Avg. tumor Dice: 0.7806425094604492 Current Avg. lymph Dice: 0.459264874458313\n"
     ]
    },
    {
     "name": "stderr",
     "output_type": "stream",
     "text": [
      "Training (8602 / 18000 Steps) (loss=0.39644): 100%|██████████| 7/7 [00:14<00:00,  2.07s/it]\n",
      "Training (8609 / 18000 Steps) (loss=0.33615): 100%|██████████| 7/7 [00:08<00:00,  1.27s/it]\n",
      "Training (8616 / 18000 Steps) (loss=0.34604): 100%|██████████| 7/7 [00:09<00:00,  1.38s/it]\n",
      "Training (8623 / 18000 Steps) (loss=0.32905): 100%|██████████| 7/7 [00:08<00:00,  1.20s/it]\n",
      "Training (8630 / 18000 Steps) (loss=0.15781): 100%|██████████| 7/7 [00:08<00:00,  1.23s/it]\n",
      "Training (8637 / 18000 Steps) (loss=0.60265): 100%|██████████| 7/7 [00:08<00:00,  1.19s/it]\n",
      "Training (8644 / 18000 Steps) (loss=0.29056): 100%|██████████| 7/7 [00:08<00:00,  1.26s/it]\n",
      "Training (8651 / 18000 Steps) (loss=0.19882): 100%|██████████| 7/7 [00:07<00:00,  1.13s/it]\n",
      "Training (8658 / 18000 Steps) (loss=0.16806): 100%|██████████| 7/7 [00:09<00:00,  1.38s/it]\n",
      "Training (8665 / 18000 Steps) (loss=0.52015): 100%|██████████| 7/7 [00:08<00:00,  1.23s/it]\n",
      "Training (8672 / 18000 Steps) (loss=0.17561): 100%|██████████| 7/7 [00:08<00:00,  1.26s/it]\n",
      "Training (8679 / 18000 Steps) (loss=0.60194): 100%|██████████| 7/7 [00:08<00:00,  1.27s/it]\n",
      "Training (8686 / 18000 Steps) (loss=0.35047): 100%|██████████| 7/7 [00:09<00:00,  1.35s/it]\n",
      "Training (8693 / 18000 Steps) (loss=0.33883): 100%|██████████| 7/7 [00:09<00:00,  1.37s/it]\n",
      "Validate (8694 / 10 Steps): 100%|██████████| 2/2 [00:05<00:00,  2.97s/it]<00:00,  1.25it/s]\n",
      "Training (8700 / 18000 Steps) (loss=0.49929): 100%|██████████| 7/7 [00:15<00:00,  2.19s/it]\n"
     ]
    },
    {
     "name": "stdout",
     "output_type": "stream",
     "text": [
      "Model Was Not Saved ! Current Best Avg. Dice: 0.6977691650390625 Current Avg. Dice: 0.6907532215118408 Current Avg. tumor Dice: 0.8258498907089233 Current Avg. lymph Dice: 0.5556566715240479\n"
     ]
    },
    {
     "name": "stderr",
     "output_type": "stream",
     "text": [
      "Training (8707 / 18000 Steps) (loss=0.27195): 100%|██████████| 7/7 [00:09<00:00,  1.36s/it]\n",
      "Training (8714 / 18000 Steps) (loss=0.66752): 100%|██████████| 7/7 [00:08<00:00,  1.15s/it]\n",
      "Training (8721 / 18000 Steps) (loss=0.55135): 100%|██████████| 7/7 [00:08<00:00,  1.20s/it]\n",
      "Training (8728 / 18000 Steps) (loss=0.51076): 100%|██████████| 7/7 [00:08<00:00,  1.28s/it]\n",
      "Training (8735 / 18000 Steps) (loss=0.38588): 100%|██████████| 7/7 [00:08<00:00,  1.27s/it]\n",
      "Training (8742 / 18000 Steps) (loss=0.50795): 100%|██████████| 7/7 [00:09<00:00,  1.30s/it]\n",
      "Training (8749 / 18000 Steps) (loss=0.39649): 100%|██████████| 7/7 [00:08<00:00,  1.27s/it]\n",
      "Training (8756 / 18000 Steps) (loss=0.54144): 100%|██████████| 7/7 [00:09<00:00,  1.41s/it]\n",
      "Training (8763 / 18000 Steps) (loss=0.27609): 100%|██████████| 7/7 [00:08<00:00,  1.27s/it]\n",
      "Training (8770 / 18000 Steps) (loss=0.33590): 100%|██████████| 7/7 [00:09<00:00,  1.32s/it]\n",
      "Training (8777 / 18000 Steps) (loss=0.26216): 100%|██████████| 7/7 [00:09<00:00,  1.37s/it]\n",
      "Training (8784 / 18000 Steps) (loss=0.26079): 100%|██████████| 7/7 [00:08<00:00,  1.28s/it]\n",
      "Training (8791 / 18000 Steps) (loss=0.44581): 100%|██████████| 7/7 [00:08<00:00,  1.18s/it]\n",
      "Training (8798 / 18000 Steps) (loss=0.40927): 100%|██████████| 7/7 [00:09<00:00,  1.35s/it]\n",
      "Validate (8799 / 10 Steps): 100%|██████████| 2/2 [00:05<00:00,  2.93s/it]<00:37,  6.17s/it]\n",
      "Training (8800 / 18000 Steps) (loss=0.22613):  29%|██▊       | 2/7 [00:12<00:31,  6.30s/it]"
     ]
    },
    {
     "name": "stdout",
     "output_type": "stream",
     "text": [
      "Model Was Not Saved ! Current Best Avg. Dice: 0.6977691650390625 Current Avg. Dice: 0.6442761421203613 Current Avg. tumor Dice: 0.7883217930793762 Current Avg. lymph Dice: 0.5002305507659912\n"
     ]
    },
    {
     "name": "stderr",
     "output_type": "stream",
     "text": [
      "Training (8805 / 18000 Steps) (loss=0.53315): 100%|██████████| 7/7 [00:14<00:00,  2.08s/it]\n",
      "Training (8812 / 18000 Steps) (loss=0.49742): 100%|██████████| 7/7 [00:08<00:00,  1.28s/it]\n",
      "Training (8819 / 18000 Steps) (loss=0.18913): 100%|██████████| 7/7 [00:09<00:00,  1.37s/it]\n",
      "Training (8826 / 18000 Steps) (loss=0.33321): 100%|██████████| 7/7 [00:09<00:00,  1.29s/it]\n",
      "Training (8833 / 18000 Steps) (loss=0.38906): 100%|██████████| 7/7 [00:09<00:00,  1.34s/it]\n",
      "Training (8840 / 18000 Steps) (loss=0.39969): 100%|██████████| 7/7 [00:09<00:00,  1.31s/it]\n",
      "Training (8847 / 18000 Steps) (loss=0.40705): 100%|██████████| 7/7 [00:07<00:00,  1.13s/it]\n",
      "Training (8854 / 18000 Steps) (loss=0.66682): 100%|██████████| 7/7 [00:09<00:00,  1.30s/it]\n",
      "Training (8861 / 18000 Steps) (loss=0.35441): 100%|██████████| 7/7 [00:09<00:00,  1.30s/it]\n",
      "Training (8868 / 18000 Steps) (loss=0.53907): 100%|██████████| 7/7 [00:08<00:00,  1.28s/it]\n",
      "Training (8875 / 18000 Steps) (loss=0.46414): 100%|██████████| 7/7 [00:08<00:00,  1.25s/it]\n",
      "Training (8882 / 18000 Steps) (loss=0.26794): 100%|██████████| 7/7 [00:08<00:00,  1.21s/it]\n",
      "Training (8889 / 18000 Steps) (loss=0.53510): 100%|██████████| 7/7 [00:08<00:00,  1.19s/it]\n",
      "Training (8896 / 18000 Steps) (loss=0.12040): 100%|██████████| 7/7 [00:09<00:00,  1.32s/it]\n",
      "Validate (8897 / 10 Steps): 100%|██████████| 2/2 [00:05<00:00,  2.93s/it]<00:08,  2.03s/it]\n",
      "Training (8900 / 18000 Steps) (loss=0.31112):  57%|█████▋    | 4/7 [00:14<00:11,  3.73s/it]"
     ]
    },
    {
     "name": "stdout",
     "output_type": "stream",
     "text": [
      "Model Was Not Saved ! Current Best Avg. Dice: 0.6977691650390625 Current Avg. Dice: 0.6850478649139404 Current Avg. tumor Dice: 0.8174710273742676 Current Avg. lymph Dice: 0.5526247024536133\n"
     ]
    },
    {
     "name": "stderr",
     "output_type": "stream",
     "text": [
      "Training (8903 / 18000 Steps) (loss=0.41446): 100%|██████████| 7/7 [00:15<00:00,  2.28s/it]\n",
      "Training (8910 / 18000 Steps) (loss=0.34343): 100%|██████████| 7/7 [00:08<00:00,  1.22s/it]\n",
      "Training (8917 / 18000 Steps) (loss=0.33113): 100%|██████████| 7/7 [00:09<00:00,  1.37s/it]\n",
      "Training (8924 / 18000 Steps) (loss=0.47051): 100%|██████████| 7/7 [00:08<00:00,  1.24s/it]\n",
      "Training (8931 / 18000 Steps) (loss=0.38256): 100%|██████████| 7/7 [00:09<00:00,  1.33s/it]\n",
      "Training (8938 / 18000 Steps) (loss=0.31210): 100%|██████████| 7/7 [00:09<00:00,  1.34s/it]\n",
      "Training (8945 / 18000 Steps) (loss=0.17323): 100%|██████████| 7/7 [00:09<00:00,  1.31s/it]\n",
      "Training (8952 / 18000 Steps) (loss=0.14690): 100%|██████████| 7/7 [00:10<00:00,  1.48s/it]\n",
      "Training (8959 / 18000 Steps) (loss=0.46787): 100%|██████████| 7/7 [00:09<00:00,  1.29s/it]\n",
      "Training (8966 / 18000 Steps) (loss=0.30001): 100%|██████████| 7/7 [00:08<00:00,  1.28s/it]\n",
      "Training (8973 / 18000 Steps) (loss=0.16242): 100%|██████████| 7/7 [00:09<00:00,  1.34s/it]\n",
      "Training (8980 / 18000 Steps) (loss=0.33721): 100%|██████████| 7/7 [00:08<00:00,  1.28s/it]\n",
      "Training (8987 / 18000 Steps) (loss=0.36984): 100%|██████████| 7/7 [00:09<00:00,  1.40s/it]\n",
      "Training (8994 / 18000 Steps) (loss=0.45258): 100%|██████████| 7/7 [00:09<00:00,  1.40s/it]\n",
      "Validate (8995 / 10 Steps): 100%|██████████| 2/2 [00:06<00:00,  3.12s/it]<00:01,  1.01it/s]\n",
      "Training (9000 / 18000 Steps) (loss=0.28419):  86%|████████▌ | 6/7 [00:15<00:02,  2.95s/it]"
     ]
    },
    {
     "name": "stdout",
     "output_type": "stream",
     "text": [
      "Model Was Not Saved ! Current Best Avg. Dice: 0.6977691650390625 Current Avg. Dice: 0.6722075939178467 Current Avg. tumor Dice: 0.8094741106033325 Current Avg. lymph Dice: 0.5349411368370056\n"
     ]
    },
    {
     "name": "stderr",
     "output_type": "stream",
     "text": [
      "Training (9001 / 18000 Steps) (loss=0.40793): 100%|██████████| 7/7 [00:15<00:00,  2.25s/it]\n",
      "Training (9008 / 18000 Steps) (loss=0.29514): 100%|██████████| 7/7 [00:08<00:00,  1.28s/it]\n",
      "Training (9015 / 18000 Steps) (loss=0.30018): 100%|██████████| 7/7 [00:10<00:00,  1.47s/it]\n",
      "Training (9022 / 18000 Steps) (loss=0.40643): 100%|██████████| 7/7 [00:09<00:00,  1.40s/it]\n",
      "Training (9029 / 18000 Steps) (loss=0.26012): 100%|██████████| 7/7 [00:09<00:00,  1.30s/it]\n",
      "Training (9036 / 18000 Steps) (loss=0.14960): 100%|██████████| 7/7 [00:09<00:00,  1.38s/it]\n",
      "Training (9043 / 18000 Steps) (loss=0.14375): 100%|██████████| 7/7 [00:09<00:00,  1.36s/it]\n",
      "Training (9050 / 18000 Steps) (loss=0.37290): 100%|██████████| 7/7 [00:09<00:00,  1.30s/it]\n",
      "Training (9057 / 18000 Steps) (loss=0.26408): 100%|██████████| 7/7 [00:08<00:00,  1.24s/it]\n",
      "Training (9064 / 18000 Steps) (loss=0.25578): 100%|██████████| 7/7 [00:09<00:00,  1.33s/it]\n",
      "Training (9071 / 18000 Steps) (loss=0.33982): 100%|██████████| 7/7 [00:09<00:00,  1.35s/it]\n",
      "Training (9078 / 18000 Steps) (loss=0.24621): 100%|██████████| 7/7 [00:09<00:00,  1.39s/it]\n",
      "Training (9085 / 18000 Steps) (loss=0.40027): 100%|██████████| 7/7 [00:10<00:00,  1.46s/it]\n",
      "Training (9092 / 18000 Steps) (loss=0.44478): 100%|██████████| 7/7 [00:09<00:00,  1.42s/it]\n",
      "Training (9099 / 18000 Steps) (loss=0.43429): 100%|██████████| 7/7 [00:10<00:00,  1.52s/it]\n",
      "Validate (9100 / 10 Steps): 100%|██████████| 2/2 [00:06<00:00,  3.24s/it]<?, ?it/s]\n",
      "Training (9100 / 18000 Steps) (loss=0.45118):  14%|█▍        | 1/7 [00:12<01:16, 12.71s/it]"
     ]
    },
    {
     "name": "stdout",
     "output_type": "stream",
     "text": [
      "Model Was Not Saved ! Current Best Avg. Dice: 0.6977691650390625 Current Avg. Dice: 0.66871178150177 Current Avg. tumor Dice: 0.8086029887199402 Current Avg. lymph Dice: 0.5288205742835999\n"
     ]
    },
    {
     "name": "stderr",
     "output_type": "stream",
     "text": [
      "Training (9106 / 18000 Steps) (loss=0.28608): 100%|██████████| 7/7 [00:15<00:00,  2.16s/it]\n",
      "Training (9113 / 18000 Steps) (loss=0.35295): 100%|██████████| 7/7 [00:10<00:00,  1.45s/it]\n",
      "Training (9120 / 18000 Steps) (loss=0.47474): 100%|██████████| 7/7 [00:09<00:00,  1.38s/it]\n",
      "Training (9127 / 18000 Steps) (loss=0.41922): 100%|██████████| 7/7 [00:09<00:00,  1.38s/it]\n",
      "Training (9134 / 18000 Steps) (loss=0.40483): 100%|██████████| 7/7 [00:09<00:00,  1.42s/it]\n",
      "Training (9141 / 18000 Steps) (loss=0.32615): 100%|██████████| 7/7 [00:08<00:00,  1.26s/it]\n",
      "Training (9148 / 18000 Steps) (loss=0.41872): 100%|██████████| 7/7 [00:08<00:00,  1.29s/it]\n",
      "Training (9155 / 18000 Steps) (loss=0.62522): 100%|██████████| 7/7 [00:09<00:00,  1.41s/it]\n",
      "Training (9162 / 18000 Steps) (loss=0.42760): 100%|██████████| 7/7 [00:09<00:00,  1.36s/it]\n",
      "Training (9169 / 18000 Steps) (loss=0.42101): 100%|██████████| 7/7 [00:09<00:00,  1.36s/it]\n",
      "Training (9176 / 18000 Steps) (loss=0.29223): 100%|██████████| 7/7 [00:10<00:00,  1.51s/it]\n",
      "Training (9183 / 18000 Steps) (loss=0.27445): 100%|██████████| 7/7 [00:09<00:00,  1.29s/it]\n",
      "Training (9190 / 18000 Steps) (loss=0.26525): 100%|██████████| 7/7 [00:09<00:00,  1.36s/it]\n",
      "Training (9197 / 18000 Steps) (loss=0.54021): 100%|██████████| 7/7 [00:09<00:00,  1.37s/it]\n",
      "Validate (9198 / 10 Steps): 100%|██████████| 2/2 [00:06<00:00,  3.11s/it]<00:15,  3.00s/it]\n",
      "Training (9200 / 18000 Steps) (loss=0.19373):  43%|████▎     | 3/7 [00:13<00:18,  4.72s/it]"
     ]
    },
    {
     "name": "stdout",
     "output_type": "stream",
     "text": [
      "Model Was Not Saved ! Current Best Avg. Dice: 0.6977691650390625 Current Avg. Dice: 0.6718595623970032 Current Avg. tumor Dice: 0.8065316677093506 Current Avg. lymph Dice: 0.5371875166893005\n"
     ]
    },
    {
     "name": "stderr",
     "output_type": "stream",
     "text": [
      "Training (9204 / 18000 Steps) (loss=0.29004): 100%|██████████| 7/7 [00:15<00:00,  2.21s/it]\n",
      "Training (9211 / 18000 Steps) (loss=0.62191): 100%|██████████| 7/7 [00:09<00:00,  1.42s/it]\n",
      "Training (9218 / 18000 Steps) (loss=0.30897): 100%|██████████| 7/7 [00:08<00:00,  1.24s/it]\n",
      "Training (9225 / 18000 Steps) (loss=0.55591): 100%|██████████| 7/7 [00:08<00:00,  1.22s/it]\n",
      "Training (9232 / 18000 Steps) (loss=0.42586): 100%|██████████| 7/7 [00:08<00:00,  1.23s/it]\n",
      "Training (9239 / 18000 Steps) (loss=0.20976): 100%|██████████| 7/7 [00:09<00:00,  1.41s/it]\n",
      "Training (9246 / 18000 Steps) (loss=0.58920): 100%|██████████| 7/7 [00:08<00:00,  1.28s/it]\n",
      "Training (9253 / 18000 Steps) (loss=0.61119): 100%|██████████| 7/7 [00:08<00:00,  1.27s/it]\n",
      "Training (9260 / 18000 Steps) (loss=0.66841): 100%|██████████| 7/7 [00:09<00:00,  1.40s/it]\n",
      "Training (9267 / 18000 Steps) (loss=0.25247): 100%|██████████| 7/7 [00:09<00:00,  1.36s/it]\n",
      "Training (9274 / 18000 Steps) (loss=0.29528): 100%|██████████| 7/7 [00:08<00:00,  1.21s/it]\n",
      "Training (9281 / 18000 Steps) (loss=0.40541): 100%|██████████| 7/7 [00:09<00:00,  1.34s/it]\n",
      "Training (9288 / 18000 Steps) (loss=0.26848): 100%|██████████| 7/7 [00:09<00:00,  1.37s/it]\n",
      "Training (9295 / 18000 Steps) (loss=0.28896): 100%|██████████| 7/7 [00:08<00:00,  1.28s/it]\n",
      "Validate (9296 / 10 Steps): 100%|██████████| 2/2 [00:06<00:00,  3.06s/it]<00:03,  1.26s/it]\n",
      "Training (9300 / 18000 Steps) (loss=0.40414):  71%|███████▏  | 5/7 [00:14<00:06,  3.20s/it]"
     ]
    },
    {
     "name": "stdout",
     "output_type": "stream",
     "text": [
      "Model Was Not Saved ! Current Best Avg. Dice: 0.6977691650390625 Current Avg. Dice: 0.670279860496521 Current Avg. tumor Dice: 0.7829191088676453 Current Avg. lymph Dice: 0.557640552520752\n"
     ]
    },
    {
     "name": "stderr",
     "output_type": "stream",
     "text": [
      "Training (9302 / 18000 Steps) (loss=0.23184): 100%|██████████| 7/7 [00:15<00:00,  2.16s/it]\n",
      "Training (9309 / 18000 Steps) (loss=0.54439): 100%|██████████| 7/7 [00:08<00:00,  1.24s/it]\n",
      "Training (9316 / 18000 Steps) (loss=0.29324): 100%|██████████| 7/7 [00:09<00:00,  1.37s/it]\n",
      "Training (9323 / 18000 Steps) (loss=0.34496): 100%|██████████| 7/7 [00:09<00:00,  1.35s/it]\n",
      "Training (9330 / 18000 Steps) (loss=0.36163): 100%|██████████| 7/7 [00:08<00:00,  1.29s/it]\n",
      "Training (9337 / 18000 Steps) (loss=0.46097): 100%|██████████| 7/7 [00:08<00:00,  1.25s/it]\n",
      "Training (9344 / 18000 Steps) (loss=0.31280): 100%|██████████| 7/7 [00:09<00:00,  1.35s/it]\n",
      "Training (9351 / 18000 Steps) (loss=0.40684): 100%|██████████| 7/7 [00:09<00:00,  1.37s/it]\n",
      "Training (9358 / 18000 Steps) (loss=0.25147): 100%|██████████| 7/7 [00:09<00:00,  1.39s/it]\n",
      "Training (9365 / 18000 Steps) (loss=0.53669): 100%|██████████| 7/7 [00:09<00:00,  1.37s/it]\n",
      "Training (9372 / 18000 Steps) (loss=0.14326): 100%|██████████| 7/7 [00:09<00:00,  1.43s/it]\n",
      "Training (9379 / 18000 Steps) (loss=0.33376): 100%|██████████| 7/7 [00:09<00:00,  1.35s/it]\n",
      "Training (9386 / 18000 Steps) (loss=0.53866): 100%|██████████| 7/7 [00:08<00:00,  1.23s/it]\n",
      "Training (9393 / 18000 Steps) (loss=0.40383): 100%|██████████| 7/7 [00:09<00:00,  1.30s/it]\n",
      "Validate (9394 / 10 Steps): 100%|██████████| 2/2 [00:06<00:00,  3.04s/it]<00:00,  1.24it/s]\n",
      "Training (9400 / 18000 Steps) (loss=0.23551): 100%|██████████| 7/7 [00:15<00:00,  2.24s/it]\n"
     ]
    },
    {
     "name": "stdout",
     "output_type": "stream",
     "text": [
      "Model Was Not Saved ! Current Best Avg. Dice: 0.6977691650390625 Current Avg. Dice: 0.6595661640167236 Current Avg. tumor Dice: 0.8077242374420166 Current Avg. lymph Dice: 0.5114080905914307\n"
     ]
    },
    {
     "name": "stderr",
     "output_type": "stream",
     "text": [
      "Training (9407 / 18000 Steps) (loss=0.39562): 100%|██████████| 7/7 [00:09<00:00,  1.33s/it]\n",
      "Training (9414 / 18000 Steps) (loss=0.31354): 100%|██████████| 7/7 [00:08<00:00,  1.28s/it]\n",
      "Training (9421 / 18000 Steps) (loss=0.43368): 100%|██████████| 7/7 [00:08<00:00,  1.21s/it]\n",
      "Training (9428 / 18000 Steps) (loss=0.21779): 100%|██████████| 7/7 [00:09<00:00,  1.29s/it]\n",
      "Training (9435 / 18000 Steps) (loss=0.40362): 100%|██████████| 7/7 [00:08<00:00,  1.18s/it]\n",
      "Training (9442 / 18000 Steps) (loss=0.54117): 100%|██████████| 7/7 [00:09<00:00,  1.30s/it]\n",
      "Training (9449 / 18000 Steps) (loss=0.29692): 100%|██████████| 7/7 [00:09<00:00,  1.37s/it]\n",
      "Training (9456 / 18000 Steps) (loss=0.25964): 100%|██████████| 7/7 [00:08<00:00,  1.23s/it]\n",
      "Training (9463 / 18000 Steps) (loss=0.29364): 100%|██████████| 7/7 [00:09<00:00,  1.37s/it]\n",
      "Training (9470 / 18000 Steps) (loss=0.35518): 100%|██████████| 7/7 [00:09<00:00,  1.29s/it]\n",
      "Training (9477 / 18000 Steps) (loss=0.25534): 100%|██████████| 7/7 [00:09<00:00,  1.30s/it]\n",
      "Training (9484 / 18000 Steps) (loss=0.28250): 100%|██████████| 7/7 [00:09<00:00,  1.32s/it]\n",
      "Training (9491 / 18000 Steps) (loss=0.47548): 100%|██████████| 7/7 [00:10<00:00,  1.44s/it]\n",
      "Training (9498 / 18000 Steps) (loss=0.28503): 100%|██████████| 7/7 [00:08<00:00,  1.19s/it]\n",
      "Validate (9499 / 10 Steps): 100%|██████████| 2/2 [00:05<00:00,  2.93s/it]<00:40,  6.68s/it]\n",
      "Training (9500 / 18000 Steps) (loss=0.39799):  29%|██▊       | 2/7 [00:13<00:32,  6.50s/it]"
     ]
    },
    {
     "name": "stdout",
     "output_type": "stream",
     "text": [
      "Model Was Not Saved ! Current Best Avg. Dice: 0.6977691650390625 Current Avg. Dice: 0.6183062195777893 Current Avg. tumor Dice: 0.7384758591651917 Current Avg. lymph Dice: 0.4981365501880646\n"
     ]
    },
    {
     "name": "stderr",
     "output_type": "stream",
     "text": [
      "Training (9505 / 18000 Steps) (loss=0.30234): 100%|██████████| 7/7 [00:15<00:00,  2.15s/it]\n",
      "Training (9512 / 18000 Steps) (loss=0.30166): 100%|██████████| 7/7 [00:09<00:00,  1.34s/it]\n",
      "Training (9519 / 18000 Steps) (loss=0.39235): 100%|██████████| 7/7 [00:10<00:00,  1.50s/it]\n",
      "Training (9526 / 18000 Steps) (loss=0.59855): 100%|██████████| 7/7 [00:09<00:00,  1.41s/it]\n",
      "Training (9533 / 18000 Steps) (loss=0.36462): 100%|██████████| 7/7 [00:09<00:00,  1.33s/it]\n",
      "Training (9540 / 18000 Steps) (loss=0.48058): 100%|██████████| 7/7 [00:09<00:00,  1.40s/it]\n",
      "Training (9547 / 18000 Steps) (loss=0.19810): 100%|██████████| 7/7 [00:08<00:00,  1.24s/it]\n",
      "Training (9554 / 18000 Steps) (loss=0.39434): 100%|██████████| 7/7 [00:09<00:00,  1.35s/it]\n",
      "Training (9561 / 18000 Steps) (loss=0.39624): 100%|██████████| 7/7 [00:09<00:00,  1.35s/it]\n",
      "Training (9568 / 18000 Steps) (loss=0.18313): 100%|██████████| 7/7 [00:09<00:00,  1.37s/it]\n",
      "Training (9575 / 18000 Steps) (loss=0.19215): 100%|██████████| 7/7 [00:08<00:00,  1.23s/it]\n",
      "Training (9582 / 18000 Steps) (loss=0.36093): 100%|██████████| 7/7 [00:10<00:00,  1.43s/it]\n",
      "Training (9589 / 18000 Steps) (loss=0.40882): 100%|██████████| 7/7 [00:10<00:00,  1.49s/it]\n",
      "Training (9596 / 18000 Steps) (loss=0.13943): 100%|██████████| 7/7 [00:09<00:00,  1.33s/it]\n",
      "Validate (9597 / 10 Steps): 100%|██████████| 2/2 [00:05<00:00,  2.97s/it]<00:08,  2.04s/it]\n",
      "Training (9600 / 18000 Steps) (loss=0.37371):  57%|█████▋    | 4/7 [00:14<00:11,  3.78s/it]"
     ]
    },
    {
     "name": "stdout",
     "output_type": "stream",
     "text": [
      "Model Was Not Saved ! Current Best Avg. Dice: 0.6977691650390625 Current Avg. Dice: 0.6353049278259277 Current Avg. tumor Dice: 0.772318959236145 Current Avg. lymph Dice: 0.4982908368110657\n"
     ]
    },
    {
     "name": "stderr",
     "output_type": "stream",
     "text": [
      "Training (9603 / 18000 Steps) (loss=0.20252): 100%|██████████| 7/7 [00:16<00:00,  2.30s/it]\n",
      "Training (9610 / 18000 Steps) (loss=0.29378): 100%|██████████| 7/7 [00:08<00:00,  1.18s/it]\n",
      "Training (9617 / 18000 Steps) (loss=0.38670): 100%|██████████| 7/7 [00:08<00:00,  1.28s/it]\n",
      "Training (9624 / 18000 Steps) (loss=0.53341): 100%|██████████| 7/7 [00:09<00:00,  1.36s/it]\n",
      "Training (9631 / 18000 Steps) (loss=0.39938): 100%|██████████| 7/7 [00:09<00:00,  1.39s/it]\n",
      "Training (9638 / 18000 Steps) (loss=0.45679): 100%|██████████| 7/7 [00:08<00:00,  1.25s/it]\n",
      "Training (9645 / 18000 Steps) (loss=0.40778): 100%|██████████| 7/7 [00:10<00:00,  1.45s/it]\n",
      "Training (9652 / 18000 Steps) (loss=0.37045): 100%|██████████| 7/7 [00:08<00:00,  1.27s/it]\n",
      "Training (9659 / 18000 Steps) (loss=0.33430): 100%|██████████| 7/7 [00:10<00:00,  1.46s/it]\n",
      "Training (9666 / 18000 Steps) (loss=0.46535): 100%|██████████| 7/7 [00:09<00:00,  1.33s/it]\n",
      "Training (9673 / 18000 Steps) (loss=0.17924): 100%|██████████| 7/7 [00:09<00:00,  1.42s/it]\n",
      "Training (9680 / 18000 Steps) (loss=0.42516): 100%|██████████| 7/7 [00:09<00:00,  1.33s/it]\n",
      "Training (9687 / 18000 Steps) (loss=0.50328): 100%|██████████| 7/7 [00:09<00:00,  1.32s/it]\n",
      "Training (9694 / 18000 Steps) (loss=0.30133): 100%|██████████| 7/7 [00:09<00:00,  1.36s/it]\n",
      "Validate (9695 / 10 Steps): 100%|██████████| 2/2 [00:06<00:00,  3.07s/it]<00:02,  1.05s/it]\n",
      "Training (9700 / 18000 Steps) (loss=0.32360):  86%|████████▌ | 6/7 [00:15<00:02,  2.95s/it]"
     ]
    },
    {
     "name": "stdout",
     "output_type": "stream",
     "text": [
      "Model Was Not Saved ! Current Best Avg. Dice: 0.6977691650390625 Current Avg. Dice: 0.6767920851707458 Current Avg. tumor Dice: 0.8190208673477173 Current Avg. lymph Dice: 0.5345633029937744\n"
     ]
    },
    {
     "name": "stderr",
     "output_type": "stream",
     "text": [
      "Training (9701 / 18000 Steps) (loss=0.43084): 100%|██████████| 7/7 [00:15<00:00,  2.26s/it]\n",
      "Training (9708 / 18000 Steps) (loss=0.14233): 100%|██████████| 7/7 [00:09<00:00,  1.29s/it]\n",
      "Training (9715 / 18000 Steps) (loss=0.28930): 100%|██████████| 7/7 [00:09<00:00,  1.33s/it]\n",
      "Training (9722 / 18000 Steps) (loss=0.30179): 100%|██████████| 7/7 [00:09<00:00,  1.31s/it]\n",
      "Training (9729 / 18000 Steps) (loss=0.34510): 100%|██████████| 7/7 [00:09<00:00,  1.30s/it]\n",
      "Training (9736 / 18000 Steps) (loss=0.28072): 100%|██████████| 7/7 [00:08<00:00,  1.28s/it]\n",
      "Training (9743 / 18000 Steps) (loss=0.48363): 100%|██████████| 7/7 [00:09<00:00,  1.32s/it]\n",
      "Training (9750 / 18000 Steps) (loss=0.29332): 100%|██████████| 7/7 [00:08<00:00,  1.28s/it]\n",
      "Training (9757 / 18000 Steps) (loss=0.17380): 100%|██████████| 7/7 [00:09<00:00,  1.41s/it]\n",
      "Training (9764 / 18000 Steps) (loss=0.52786): 100%|██████████| 7/7 [00:09<00:00,  1.33s/it]\n",
      "Training (9771 / 18000 Steps) (loss=0.28322): 100%|██████████| 7/7 [00:09<00:00,  1.35s/it]\n",
      "Training (9778 / 18000 Steps) (loss=0.40646): 100%|██████████| 7/7 [00:08<00:00,  1.23s/it]\n",
      "Training (9785 / 18000 Steps) (loss=0.34099): 100%|██████████| 7/7 [00:08<00:00,  1.26s/it]\n",
      "Training (9792 / 18000 Steps) (loss=0.54887): 100%|██████████| 7/7 [00:09<00:00,  1.32s/it]\n",
      "Training (9799 / 18000 Steps) (loss=0.13140): 100%|██████████| 7/7 [00:09<00:00,  1.39s/it]\n",
      "Validate (9800 / 10 Steps): 100%|██████████| 2/2 [00:06<00:00,  3.18s/it]<?, ?it/s]\n",
      "Training (9800 / 18000 Steps) (loss=0.40865):  14%|█▍        | 1/7 [00:12<01:14, 12.47s/it]"
     ]
    },
    {
     "name": "stdout",
     "output_type": "stream",
     "text": [
      "Model Was Not Saved ! Current Best Avg. Dice: 0.6977691650390625 Current Avg. Dice: 0.6730086803436279 Current Avg. tumor Dice: 0.7835790514945984 Current Avg. lymph Dice: 0.5624382495880127\n"
     ]
    },
    {
     "name": "stderr",
     "output_type": "stream",
     "text": [
      "Training (9806 / 18000 Steps) (loss=0.60536): 100%|██████████| 7/7 [00:14<00:00,  2.13s/it]\n",
      "Training (9813 / 18000 Steps) (loss=0.28684): 100%|██████████| 7/7 [00:09<00:00,  1.33s/it]\n",
      "Training (9820 / 18000 Steps) (loss=0.35323): 100%|██████████| 7/7 [00:09<00:00,  1.37s/it]\n",
      "Training (9827 / 18000 Steps) (loss=0.28172): 100%|██████████| 7/7 [00:09<00:00,  1.30s/it]\n",
      "Training (9834 / 18000 Steps) (loss=0.29854): 100%|██████████| 7/7 [00:08<00:00,  1.24s/it]\n",
      "Training (9841 / 18000 Steps) (loss=0.25279): 100%|██████████| 7/7 [00:09<00:00,  1.42s/it]\n",
      "Training (9848 / 18000 Steps) (loss=0.29274): 100%|██████████| 7/7 [00:08<00:00,  1.26s/it]\n",
      "Training (9855 / 18000 Steps) (loss=0.40776): 100%|██████████| 7/7 [00:08<00:00,  1.27s/it]\n",
      "Training (9862 / 18000 Steps) (loss=0.28018): 100%|██████████| 7/7 [00:09<00:00,  1.34s/it]\n",
      "Training (9869 / 18000 Steps) (loss=0.35303): 100%|██████████| 7/7 [00:09<00:00,  1.32s/it]\n",
      "Training (9876 / 18000 Steps) (loss=0.53589): 100%|██████████| 7/7 [00:09<00:00,  1.32s/it]\n",
      "Training (9883 / 18000 Steps) (loss=0.35638): 100%|██████████| 7/7 [00:09<00:00,  1.30s/it]\n",
      "Training (9890 / 18000 Steps) (loss=0.16805): 100%|██████████| 7/7 [00:08<00:00,  1.27s/it]\n",
      "Training (9897 / 18000 Steps) (loss=0.34268): 100%|██████████| 7/7 [00:09<00:00,  1.41s/it]\n",
      "Validate (9898 / 10 Steps): 100%|██████████| 2/2 [00:06<00:00,  3.11s/it]<00:16,  3.30s/it]\n",
      "Training (9900 / 18000 Steps) (loss=0.21381):  43%|████▎     | 3/7 [00:14<00:19,  4.88s/it]"
     ]
    },
    {
     "name": "stdout",
     "output_type": "stream",
     "text": [
      "Model Was Not Saved ! Current Best Avg. Dice: 0.6977691650390625 Current Avg. Dice: 0.6709076166152954 Current Avg. tumor Dice: 0.8091105222702026 Current Avg. lymph Dice: 0.5327047109603882\n"
     ]
    },
    {
     "name": "stderr",
     "output_type": "stream",
     "text": [
      "Training (9904 / 18000 Steps) (loss=0.25930): 100%|██████████| 7/7 [00:16<00:00,  2.31s/it]\n",
      "Training (9911 / 18000 Steps) (loss=0.13024): 100%|██████████| 7/7 [00:08<00:00,  1.22s/it]\n",
      "Training (9918 / 18000 Steps) (loss=0.48401): 100%|██████████| 7/7 [00:08<00:00,  1.27s/it]\n",
      "Training (9925 / 18000 Steps) (loss=0.43440): 100%|██████████| 7/7 [00:08<00:00,  1.22s/it]\n",
      "Training (9932 / 18000 Steps) (loss=0.30906): 100%|██████████| 7/7 [00:09<00:00,  1.32s/it]\n",
      "Training (9939 / 18000 Steps) (loss=0.27398): 100%|██████████| 7/7 [00:09<00:00,  1.42s/it]\n",
      "Training (9946 / 18000 Steps) (loss=0.38994): 100%|██████████| 7/7 [00:08<00:00,  1.24s/it]\n",
      "Training (9953 / 18000 Steps) (loss=0.66700): 100%|██████████| 7/7 [00:09<00:00,  1.35s/it]\n",
      "Training (9960 / 18000 Steps) (loss=0.32263): 100%|██████████| 7/7 [00:09<00:00,  1.35s/it]\n",
      "Training (9967 / 18000 Steps) (loss=0.31719): 100%|██████████| 7/7 [00:09<00:00,  1.32s/it]\n",
      "Training (9974 / 18000 Steps) (loss=0.29754): 100%|██████████| 7/7 [00:09<00:00,  1.30s/it]\n",
      "Training (9981 / 18000 Steps) (loss=0.60604): 100%|██████████| 7/7 [00:09<00:00,  1.29s/it]\n",
      "Training (9988 / 18000 Steps) (loss=0.60002): 100%|██████████| 7/7 [00:08<00:00,  1.24s/it]\n",
      "Training (9995 / 18000 Steps) (loss=0.54824): 100%|██████████| 7/7 [00:10<00:00,  1.44s/it]\n",
      "Validate (9996 / 10 Steps): 100%|██████████| 2/2 [00:05<00:00,  2.97s/it]8<00:03,  1.33s/it]\n",
      "Training (10000 / 18000 Steps) (loss=0.43727):  71%|███████▏  | 5/7 [00:14<00:06,  3.17s/it]"
     ]
    },
    {
     "name": "stdout",
     "output_type": "stream",
     "text": [
      "Model Was Not Saved ! Current Best Avg. Dice: 0.6977691650390625 Current Avg. Dice: 0.6888005137443542 Current Avg. tumor Dice: 0.8241460919380188 Current Avg. lymph Dice: 0.5534549355506897\n"
     ]
    },
    {
     "name": "stderr",
     "output_type": "stream",
     "text": [
      "Training (10002 / 18000 Steps) (loss=0.18794): 100%|██████████| 7/7 [00:15<00:00,  2.22s/it]\n",
      "Training (10009 / 18000 Steps) (loss=0.29854): 100%|██████████| 7/7 [00:10<00:00,  1.49s/it]\n",
      "Training (10016 / 18000 Steps) (loss=0.13365): 100%|██████████| 7/7 [00:09<00:00,  1.33s/it]\n",
      "Training (10023 / 18000 Steps) (loss=0.17422): 100%|██████████| 7/7 [00:09<00:00,  1.29s/it]\n",
      "Training (10030 / 18000 Steps) (loss=0.38308): 100%|██████████| 7/7 [00:10<00:00,  1.46s/it]\n",
      "Training (10037 / 18000 Steps) (loss=0.28952): 100%|██████████| 7/7 [00:09<00:00,  1.37s/it]\n",
      "Training (10044 / 18000 Steps) (loss=0.37870): 100%|██████████| 7/7 [00:09<00:00,  1.29s/it]\n",
      "Training (10051 / 18000 Steps) (loss=0.22675): 100%|██████████| 7/7 [00:09<00:00,  1.40s/it]\n",
      "Training (10058 / 18000 Steps) (loss=0.13123): 100%|██████████| 7/7 [00:08<00:00,  1.27s/it]\n",
      "Training (10065 / 18000 Steps) (loss=0.46416): 100%|██████████| 7/7 [00:09<00:00,  1.29s/it]\n",
      "Training (10072 / 18000 Steps) (loss=0.21277): 100%|██████████| 7/7 [00:09<00:00,  1.33s/it]\n",
      "Training (10079 / 18000 Steps) (loss=0.11945): 100%|██████████| 7/7 [00:09<00:00,  1.30s/it]\n",
      "Training (10086 / 18000 Steps) (loss=0.39370): 100%|██████████| 7/7 [00:09<00:00,  1.39s/it]\n",
      "Training (10093 / 18000 Steps) (loss=0.53037): 100%|██████████| 7/7 [00:08<00:00,  1.28s/it]\n",
      "Validate (10094 / 10 Steps): 100%|██████████| 2/2 [00:06<00:00,  3.04s/it]<00:00,  1.28it/s]\n",
      "Training (10100 / 18000 Steps) (loss=0.38660): 100%|██████████| 7/7 [00:15<00:00,  2.17s/it]\n"
     ]
    },
    {
     "name": "stdout",
     "output_type": "stream",
     "text": [
      "Model Was Not Saved ! Current Best Avg. Dice: 0.6977691650390625 Current Avg. Dice: 0.6826300621032715 Current Avg. tumor Dice: 0.8229013085365295 Current Avg. lymph Dice: 0.5423587560653687\n"
     ]
    },
    {
     "name": "stderr",
     "output_type": "stream",
     "text": [
      "Training (10107 / 18000 Steps) (loss=0.19964): 100%|██████████| 7/7 [00:09<00:00,  1.34s/it]\n",
      "Training (10114 / 18000 Steps) (loss=0.43338): 100%|██████████| 7/7 [00:09<00:00,  1.39s/it]\n",
      "Training (10121 / 18000 Steps) (loss=0.28651): 100%|██████████| 7/7 [00:08<00:00,  1.24s/it]\n",
      "Training (10128 / 18000 Steps) (loss=0.40991): 100%|██████████| 7/7 [00:08<00:00,  1.22s/it]\n",
      "Training (10135 / 18000 Steps) (loss=0.42243): 100%|██████████| 7/7 [00:09<00:00,  1.31s/it]\n",
      "Training (10142 / 18000 Steps) (loss=0.45990): 100%|██████████| 7/7 [00:09<00:00,  1.40s/it]\n",
      "Training (10149 / 18000 Steps) (loss=0.53442): 100%|██████████| 7/7 [00:09<00:00,  1.40s/it]\n",
      "Training (10156 / 18000 Steps) (loss=0.31496): 100%|██████████| 7/7 [00:09<00:00,  1.30s/it]\n",
      "Training (10163 / 18000 Steps) (loss=0.45751): 100%|██████████| 7/7 [00:09<00:00,  1.30s/it]\n",
      "Training (10170 / 18000 Steps) (loss=0.41170): 100%|██████████| 7/7 [00:09<00:00,  1.32s/it]\n",
      "Training (10177 / 18000 Steps) (loss=0.54863): 100%|██████████| 7/7 [00:10<00:00,  1.44s/it]\n",
      "Training (10184 / 18000 Steps) (loss=0.53038): 100%|██████████| 7/7 [00:09<00:00,  1.35s/it]\n",
      "Training (10191 / 18000 Steps) (loss=0.26716): 100%|██████████| 7/7 [00:09<00:00,  1.42s/it]\n",
      "Training (10198 / 18000 Steps) (loss=0.55391): 100%|██████████| 7/7 [00:09<00:00,  1.38s/it]\n",
      "Validate (10199 / 10 Steps): 100%|██████████| 2/2 [00:06<00:00,  3.01s/it]<00:45,  7.57s/it]\n",
      "Training (10200 / 18000 Steps) (loss=0.27306):  29%|██▊       | 2/7 [00:14<00:34,  6.97s/it]"
     ]
    },
    {
     "name": "stdout",
     "output_type": "stream",
     "text": [
      "Model Was Not Saved ! Current Best Avg. Dice: 0.6977691650390625 Current Avg. Dice: 0.6660562753677368 Current Avg. tumor Dice: 0.7980192303657532 Current Avg. lymph Dice: 0.5340933799743652\n"
     ]
    },
    {
     "name": "stderr",
     "output_type": "stream",
     "text": [
      "Training (10205 / 18000 Steps) (loss=0.45673): 100%|██████████| 7/7 [00:16<00:00,  2.30s/it]\n",
      "Training (10212 / 18000 Steps) (loss=0.28002): 100%|██████████| 7/7 [00:08<00:00,  1.26s/it]\n",
      "Training (10219 / 18000 Steps) (loss=0.43788): 100%|██████████| 7/7 [00:10<00:00,  1.45s/it]\n",
      "Training (10226 / 18000 Steps) (loss=0.61055): 100%|██████████| 7/7 [00:10<00:00,  1.43s/it]\n",
      "Training (10233 / 18000 Steps) (loss=0.22095): 100%|██████████| 7/7 [00:08<00:00,  1.27s/it]\n",
      "Training (10240 / 18000 Steps) (loss=0.13148): 100%|██████████| 7/7 [00:09<00:00,  1.36s/it]\n",
      "Training (10247 / 18000 Steps) (loss=0.24873): 100%|██████████| 7/7 [00:08<00:00,  1.27s/it]\n",
      "Training (10254 / 18000 Steps) (loss=0.33623): 100%|██████████| 7/7 [00:09<00:00,  1.36s/it]\n",
      "Training (10261 / 18000 Steps) (loss=0.34492): 100%|██████████| 7/7 [00:09<00:00,  1.33s/it]\n",
      "Training (10268 / 18000 Steps) (loss=0.19019): 100%|██████████| 7/7 [00:09<00:00,  1.41s/it]\n",
      "Training (10275 / 18000 Steps) (loss=0.46300): 100%|██████████| 7/7 [00:10<00:00,  1.44s/it]\n",
      "Training (10282 / 18000 Steps) (loss=0.28807): 100%|██████████| 7/7 [00:09<00:00,  1.35s/it]\n",
      "Training (10289 / 18000 Steps) (loss=0.24125): 100%|██████████| 7/7 [00:09<00:00,  1.35s/it]\n",
      "Training (10296 / 18000 Steps) (loss=0.25930): 100%|██████████| 7/7 [00:09<00:00,  1.42s/it]\n",
      "Validate (10297 / 10 Steps): 100%|██████████| 2/2 [00:06<00:00,  3.06s/it]<00:07,  1.86s/it]\n",
      "Training (10300 / 18000 Steps) (loss=0.35662):  57%|█████▋    | 4/7 [00:14<00:12,  4.06s/it]"
     ]
    },
    {
     "name": "stdout",
     "output_type": "stream",
     "text": [
      "Model Was Saved ! Current Best Avg. Dice: 0.7033514976501465 Current Avg. Dice: 0.7033514976501465 Current Avg. tumor Dice: 0.829715371131897 Current Avg. lymph Dice: 0.5769875049591064\n"
     ]
    },
    {
     "name": "stderr",
     "output_type": "stream",
     "text": [
      "Training (10303 / 18000 Steps) (loss=0.27593): 100%|██████████| 7/7 [00:16<00:00,  2.31s/it]\n",
      "Training (10310 / 18000 Steps) (loss=0.25521): 100%|██████████| 7/7 [00:08<00:00,  1.26s/it]\n",
      "Training (10317 / 18000 Steps) (loss=0.32883): 100%|██████████| 7/7 [00:09<00:00,  1.36s/it]\n",
      "Training (10324 / 18000 Steps) (loss=0.39066): 100%|██████████| 7/7 [00:10<00:00,  1.43s/it]\n",
      "Training (10331 / 18000 Steps) (loss=0.24032): 100%|██████████| 7/7 [00:09<00:00,  1.35s/it]\n",
      "Training (10338 / 18000 Steps) (loss=0.14945): 100%|██████████| 7/7 [00:08<00:00,  1.23s/it]\n",
      "Training (10345 / 18000 Steps) (loss=0.43920): 100%|██████████| 7/7 [00:08<00:00,  1.23s/it]\n",
      "Training (10352 / 18000 Steps) (loss=0.40211): 100%|██████████| 7/7 [00:09<00:00,  1.32s/it]\n",
      "Training (10359 / 18000 Steps) (loss=0.24756): 100%|██████████| 7/7 [00:09<00:00,  1.31s/it]\n",
      "Training (10366 / 18000 Steps) (loss=0.20320): 100%|██████████| 7/7 [00:09<00:00,  1.31s/it]\n",
      "Training (10373 / 18000 Steps) (loss=0.31050): 100%|██████████| 7/7 [00:09<00:00,  1.41s/it]\n",
      "Training (10380 / 18000 Steps) (loss=0.12272): 100%|██████████| 7/7 [00:09<00:00,  1.29s/it]\n",
      "Training (10387 / 18000 Steps) (loss=0.52325): 100%|██████████| 7/7 [00:08<00:00,  1.28s/it]\n",
      "Training (10394 / 18000 Steps) (loss=0.32538): 100%|██████████| 7/7 [00:09<00:00,  1.32s/it]\n",
      "Validate (10395 / 10 Steps): 100%|██████████| 2/2 [00:06<00:00,  3.20s/it]<00:01,  1.00it/s]\n",
      "Training (10400 / 18000 Steps) (loss=0.29827):  86%|████████▌ | 6/7 [00:14<00:03,  3.01s/it]"
     ]
    },
    {
     "name": "stdout",
     "output_type": "stream",
     "text": [
      "Model Was Not Saved ! Current Best Avg. Dice: 0.7033514976501465 Current Avg. Dice: 0.675625741481781 Current Avg. tumor Dice: 0.8118147850036621 Current Avg. lymph Dice: 0.5394366979598999\n"
     ]
    },
    {
     "name": "stderr",
     "output_type": "stream",
     "text": [
      "Training (10401 / 18000 Steps) (loss=0.27708): 100%|██████████| 7/7 [00:15<00:00,  2.16s/it]\n",
      "Training (10408 / 18000 Steps) (loss=0.13510): 100%|██████████| 7/7 [00:08<00:00,  1.22s/it]\n",
      "Training (10415 / 18000 Steps) (loss=0.40628): 100%|██████████| 7/7 [00:09<00:00,  1.30s/it]\n",
      "Training (10422 / 18000 Steps) (loss=0.30727): 100%|██████████| 7/7 [00:09<00:00,  1.33s/it]\n",
      "Training (10429 / 18000 Steps) (loss=0.10852): 100%|██████████| 7/7 [00:09<00:00,  1.39s/it]\n",
      "Training (10436 / 18000 Steps) (loss=0.16445): 100%|██████████| 7/7 [00:08<00:00,  1.21s/it]\n",
      "Training (10443 / 18000 Steps) (loss=0.26054): 100%|██████████| 7/7 [00:08<00:00,  1.28s/it]\n",
      "Training (10450 / 18000 Steps) (loss=0.17254): 100%|██████████| 7/7 [00:08<00:00,  1.25s/it]\n",
      "Training (10457 / 18000 Steps) (loss=0.53317): 100%|██████████| 7/7 [00:08<00:00,  1.24s/it]\n",
      "Training (10464 / 18000 Steps) (loss=0.39895): 100%|██████████| 7/7 [00:09<00:00,  1.33s/it]\n",
      "Training (10471 / 18000 Steps) (loss=0.26844): 100%|██████████| 7/7 [00:08<00:00,  1.28s/it]\n",
      "Training (10478 / 18000 Steps) (loss=0.40802): 100%|██████████| 7/7 [00:09<00:00,  1.38s/it]\n",
      "Training (10485 / 18000 Steps) (loss=0.27329): 100%|██████████| 7/7 [00:09<00:00,  1.41s/it]\n",
      "Training (10492 / 18000 Steps) (loss=0.55014): 100%|██████████| 7/7 [00:09<00:00,  1.34s/it]\n",
      "Training (10499 / 18000 Steps) (loss=0.62521): 100%|██████████| 7/7 [00:09<00:00,  1.42s/it]\n",
      "Validate (10500 / 10 Steps): 100%|██████████| 2/2 [00:06<00:00,  3.18s/it]<?, ?it/s]\n",
      "Training (10500 / 18000 Steps) (loss=0.29805):  14%|█▍        | 1/7 [00:12<01:14, 12.49s/it]"
     ]
    },
    {
     "name": "stdout",
     "output_type": "stream",
     "text": [
      "Model Was Not Saved ! Current Best Avg. Dice: 0.7033514976501465 Current Avg. Dice: 0.6599990725517273 Current Avg. tumor Dice: 0.8045765161514282 Current Avg. lymph Dice: 0.5154216289520264\n"
     ]
    },
    {
     "name": "stderr",
     "output_type": "stream",
     "text": [
      "Training (10506 / 18000 Steps) (loss=0.45779): 100%|██████████| 7/7 [00:14<00:00,  2.13s/it]\n",
      "Training (10513 / 18000 Steps) (loss=0.24200): 100%|██████████| 7/7 [00:10<00:00,  1.48s/it]\n",
      "Training (10520 / 18000 Steps) (loss=0.39825): 100%|██████████| 7/7 [00:09<00:00,  1.29s/it]\n",
      "Training (10527 / 18000 Steps) (loss=0.26494): 100%|██████████| 7/7 [00:08<00:00,  1.27s/it]\n",
      "Training (10534 / 18000 Steps) (loss=0.26600): 100%|██████████| 7/7 [00:09<00:00,  1.30s/it]\n",
      "Training (10541 / 18000 Steps) (loss=0.24193): 100%|██████████| 7/7 [00:08<00:00,  1.27s/it]\n",
      "Training (10548 / 18000 Steps) (loss=0.28628): 100%|██████████| 7/7 [00:09<00:00,  1.37s/it]\n",
      "Training (10555 / 18000 Steps) (loss=0.50380): 100%|██████████| 7/7 [00:09<00:00,  1.40s/it]\n",
      "Training (10562 / 18000 Steps) (loss=0.39607): 100%|██████████| 7/7 [00:10<00:00,  1.47s/it]\n",
      "Training (10569 / 18000 Steps) (loss=0.47827): 100%|██████████| 7/7 [00:09<00:00,  1.30s/it]\n",
      "Training (10576 / 18000 Steps) (loss=0.26953): 100%|██████████| 7/7 [00:09<00:00,  1.41s/it]\n",
      "Training (10583 / 18000 Steps) (loss=0.31749): 100%|██████████| 7/7 [00:08<00:00,  1.27s/it]\n",
      "Training (10590 / 18000 Steps) (loss=0.15171): 100%|██████████| 7/7 [00:09<00:00,  1.40s/it]\n",
      "Training (10597 / 18000 Steps) (loss=0.52696): 100%|██████████| 7/7 [00:09<00:00,  1.39s/it]\n",
      "Validate (10598 / 10 Steps): 100%|██████████| 2/2 [00:06<00:00,  3.01s/it]<00:15,  3.03s/it]\n",
      "Training (10600 / 18000 Steps) (loss=0.31985):  43%|████▎     | 3/7 [00:13<00:18,  4.64s/it]"
     ]
    },
    {
     "name": "stdout",
     "output_type": "stream",
     "text": [
      "Model Was Not Saved ! Current Best Avg. Dice: 0.7033514976501465 Current Avg. Dice: 0.671573281288147 Current Avg. tumor Dice: 0.8062397241592407 Current Avg. lymph Dice: 0.536906898021698\n"
     ]
    },
    {
     "name": "stderr",
     "output_type": "stream",
     "text": [
      "Training (10604 / 18000 Steps) (loss=0.23992): 100%|██████████| 7/7 [00:15<00:00,  2.19s/it]\n",
      "Training (10611 / 18000 Steps) (loss=0.19244): 100%|██████████| 7/7 [00:08<00:00,  1.27s/it]\n",
      "Training (10618 / 18000 Steps) (loss=0.35921): 100%|██████████| 7/7 [00:09<00:00,  1.30s/it]\n",
      "Training (10625 / 18000 Steps) (loss=0.33880): 100%|██████████| 7/7 [00:08<00:00,  1.22s/it]\n",
      "Training (10632 / 18000 Steps) (loss=0.42375): 100%|██████████| 7/7 [00:09<00:00,  1.29s/it]\n",
      "Training (10639 / 18000 Steps) (loss=0.39293): 100%|██████████| 7/7 [00:09<00:00,  1.43s/it]\n",
      "Training (10646 / 18000 Steps) (loss=0.28371): 100%|██████████| 7/7 [00:09<00:00,  1.29s/it]\n",
      "Training (10653 / 18000 Steps) (loss=0.40755): 100%|██████████| 7/7 [00:09<00:00,  1.42s/it]\n",
      "Training (10660 / 18000 Steps) (loss=0.18651): 100%|██████████| 7/7 [00:09<00:00,  1.40s/it]\n",
      "Training (10667 / 18000 Steps) (loss=0.14371): 100%|██████████| 7/7 [00:10<00:00,  1.46s/it]\n",
      "Training (10674 / 18000 Steps) (loss=0.29760): 100%|██████████| 7/7 [00:08<00:00,  1.25s/it]\n",
      "Training (10681 / 18000 Steps) (loss=0.40316): 100%|██████████| 7/7 [00:09<00:00,  1.37s/it]\n",
      "Training (10688 / 18000 Steps) (loss=0.41178): 100%|██████████| 7/7 [00:09<00:00,  1.29s/it]\n",
      "Training (10695 / 18000 Steps) (loss=0.41486): 100%|██████████| 7/7 [00:09<00:00,  1.35s/it]\n",
      "Validate (10696 / 10 Steps): 100%|██████████| 2/2 [00:06<00:00,  3.03s/it]<00:04,  1.34s/it]\n",
      "Training (10700 / 18000 Steps) (loss=0.32315):  71%|███████▏  | 5/7 [00:15<00:06,  3.22s/it]"
     ]
    },
    {
     "name": "stdout",
     "output_type": "stream",
     "text": [
      "Model Was Not Saved ! Current Best Avg. Dice: 0.7033514976501465 Current Avg. Dice: 0.5077285170555115 Current Avg. tumor Dice: 0.5847188234329224 Current Avg. lymph Dice: 0.4307381510734558\n"
     ]
    },
    {
     "name": "stderr",
     "output_type": "stream",
     "text": [
      "Training (10702 / 18000 Steps) (loss=0.20725): 100%|██████████| 7/7 [00:15<00:00,  2.26s/it]\n",
      "Training (10709 / 18000 Steps) (loss=0.46316): 100%|██████████| 7/7 [00:09<00:00,  1.29s/it]\n",
      "Training (10716 / 18000 Steps) (loss=0.40939): 100%|██████████| 7/7 [00:08<00:00,  1.24s/it]\n",
      "Training (10723 / 18000 Steps) (loss=0.52299): 100%|██████████| 7/7 [00:09<00:00,  1.29s/it]\n",
      "Training (10730 / 18000 Steps) (loss=0.20082): 100%|██████████| 7/7 [00:08<00:00,  1.23s/it]\n",
      "Training (10737 / 18000 Steps) (loss=0.12630): 100%|██████████| 7/7 [00:08<00:00,  1.27s/it]\n",
      "Training (10744 / 18000 Steps) (loss=0.42100): 100%|██████████| 7/7 [00:09<00:00,  1.36s/it]\n",
      "Training (10751 / 18000 Steps) (loss=0.40357): 100%|██████████| 7/7 [00:09<00:00,  1.38s/it]\n",
      "Training (10758 / 18000 Steps) (loss=0.38781): 100%|██████████| 7/7 [00:09<00:00,  1.33s/it]\n",
      "Training (10765 / 18000 Steps) (loss=0.20326): 100%|██████████| 7/7 [00:10<00:00,  1.47s/it]\n",
      "Training (10772 / 18000 Steps) (loss=0.14168): 100%|██████████| 7/7 [00:08<00:00,  1.27s/it]\n",
      "Training (10779 / 18000 Steps) (loss=0.52758): 100%|██████████| 7/7 [00:09<00:00,  1.30s/it]\n",
      "Training (10786 / 18000 Steps) (loss=0.60890): 100%|██████████| 7/7 [00:10<00:00,  1.43s/it]\n",
      "Training (10793 / 18000 Steps) (loss=0.19502): 100%|██████████| 7/7 [00:09<00:00,  1.43s/it]\n",
      "Validate (10794 / 10 Steps): 100%|██████████| 2/2 [00:06<00:00,  3.04s/it]<00:00,  1.22it/s]\n",
      "Training (10800 / 18000 Steps) (loss=0.41169): 100%|██████████| 7/7 [00:16<00:00,  2.30s/it]\n"
     ]
    },
    {
     "name": "stdout",
     "output_type": "stream",
     "text": [
      "Model Was Not Saved ! Current Best Avg. Dice: 0.7033514976501465 Current Avg. Dice: 0.6764758825302124 Current Avg. tumor Dice: 0.8299204707145691 Current Avg. lymph Dice: 0.5230313539505005\n"
     ]
    },
    {
     "name": "stderr",
     "output_type": "stream",
     "text": [
      "Training (10807 / 18000 Steps) (loss=0.29349): 100%|██████████| 7/7 [00:09<00:00,  1.35s/it]\n",
      "Training (10814 / 18000 Steps) (loss=0.44673): 100%|██████████| 7/7 [00:08<00:00,  1.24s/it]\n",
      "Training (10821 / 18000 Steps) (loss=0.37794): 100%|██████████| 7/7 [00:09<00:00,  1.39s/it]\n",
      "Training (10828 / 18000 Steps) (loss=0.29075): 100%|██████████| 7/7 [00:10<00:00,  1.51s/it]\n",
      "Training (10835 / 18000 Steps) (loss=0.39232): 100%|██████████| 7/7 [00:08<00:00,  1.21s/it]\n",
      "Training (10842 / 18000 Steps) (loss=0.14194): 100%|██████████| 7/7 [00:08<00:00,  1.28s/it]\n",
      "Training (10849 / 18000 Steps) (loss=0.25102): 100%|██████████| 7/7 [00:08<00:00,  1.26s/it]\n",
      "Training (10856 / 18000 Steps) (loss=0.30404): 100%|██████████| 7/7 [00:09<00:00,  1.33s/it]\n",
      "Training (10863 / 18000 Steps) (loss=0.54011): 100%|██████████| 7/7 [00:09<00:00,  1.40s/it]\n",
      "Training (10870 / 18000 Steps) (loss=0.39505): 100%|██████████| 7/7 [00:09<00:00,  1.36s/it]\n",
      "Training (10877 / 18000 Steps) (loss=0.25619): 100%|██████████| 7/7 [00:08<00:00,  1.23s/it]\n",
      "Training (10884 / 18000 Steps) (loss=0.45364): 100%|██████████| 7/7 [00:09<00:00,  1.42s/it]\n",
      "Training (10891 / 18000 Steps) (loss=0.42404): 100%|██████████| 7/7 [00:09<00:00,  1.29s/it]\n",
      "Training (10898 / 18000 Steps) (loss=0.18019): 100%|██████████| 7/7 [00:09<00:00,  1.33s/it]\n",
      "Validate (10899 / 10 Steps): 100%|██████████| 2/2 [00:06<00:00,  3.03s/it]<00:46,  7.76s/it]\n",
      "Training (10900 / 18000 Steps) (loss=0.32374):  29%|██▊       | 2/7 [00:15<00:37,  7.53s/it]"
     ]
    },
    {
     "name": "stdout",
     "output_type": "stream",
     "text": [
      "Model Was Saved ! Current Best Avg. Dice: 0.7036870718002319 Current Avg. Dice: 0.7036870718002319 Current Avg. tumor Dice: 0.8326462507247925 Current Avg. lymph Dice: 0.5747278928756714\n"
     ]
    },
    {
     "name": "stderr",
     "output_type": "stream",
     "text": [
      "Training (10905 / 18000 Steps) (loss=0.52749): 100%|██████████| 7/7 [00:17<00:00,  2.45s/it]\n",
      "Training (10912 / 18000 Steps) (loss=0.22085): 100%|██████████| 7/7 [00:09<00:00,  1.32s/it]\n",
      "Training (10919 / 18000 Steps) (loss=0.13198): 100%|██████████| 7/7 [00:10<00:00,  1.43s/it]\n",
      "Training (10926 / 18000 Steps) (loss=0.39990): 100%|██████████| 7/7 [00:10<00:00,  1.46s/it]\n",
      "Training (X / X Steps) (loss=X.X):   0%|          | 0/7 [00:01<?, ?it/s]\n"
     ]
    },
    {
     "ename": "KeyboardInterrupt",
     "evalue": "",
     "output_type": "error",
     "traceback": [
      "\u001b[0;31m---------------------------------------------------------------------------\u001b[0m",
      "\u001b[0;31mKeyboardInterrupt\u001b[0m                         Traceback (most recent call last)",
      "Cell \u001b[0;32mIn[13], line 109\u001b[0m\n\u001b[1;32m    107\u001b[0m metric_values_lymph \u001b[38;5;241m=\u001b[39m []\n\u001b[1;32m    108\u001b[0m \u001b[38;5;28;01mwhile\u001b[39;00m global_step \u001b[38;5;241m<\u001b[39m max_iterations:\n\u001b[0;32m--> 109\u001b[0m     global_step, dice_val_best, global_step_best \u001b[38;5;241m=\u001b[39m \u001b[43mtrain\u001b[49m\u001b[43m(\u001b[49m\n\u001b[1;32m    110\u001b[0m \u001b[43m        \u001b[49m\u001b[43mglobal_step\u001b[49m\u001b[43m,\u001b[49m\u001b[43m \u001b[49m\u001b[43mtrain_loader\u001b[49m\u001b[43m,\u001b[49m\u001b[43m \u001b[49m\u001b[43mdice_val_best\u001b[49m\u001b[43m,\u001b[49m\u001b[43m \u001b[49m\u001b[43mglobal_step_best\u001b[49m\n\u001b[1;32m    111\u001b[0m \u001b[43m    \u001b[49m\u001b[43m)\u001b[49m\n\u001b[1;32m    112\u001b[0m     \u001b[38;5;66;03m# wandb.log({'learning_rate': optimizer.param_groups[0]['lr']})\u001b[39;00m\n\u001b[1;32m    113\u001b[0m     \u001b[38;5;66;03m# wandb.log({'Best Dice': dice_val_best})\u001b[39;00m\n\u001b[1;32m    114\u001b[0m     epoch \u001b[38;5;241m+\u001b[39m\u001b[38;5;241m=\u001b[39m \u001b[38;5;241m1\u001b[39m \n",
      "Cell \u001b[0;32mIn[13], line 40\u001b[0m, in \u001b[0;36mtrain\u001b[0;34m(global_step, train_loader, dice_val_best, global_step_best)\u001b[0m\n\u001b[1;32m     35\u001b[0m step \u001b[38;5;241m=\u001b[39m \u001b[38;5;241m0\u001b[39m\n\u001b[1;32m     36\u001b[0m epoch_iterator \u001b[38;5;241m=\u001b[39m tqdm(\n\u001b[1;32m     37\u001b[0m     train_loader, desc\u001b[38;5;241m=\u001b[39m\u001b[38;5;124m\"\u001b[39m\u001b[38;5;124mTraining (X / X Steps) (loss=X.X)\u001b[39m\u001b[38;5;124m\"\u001b[39m, dynamic_ncols\u001b[38;5;241m=\u001b[39m\u001b[38;5;28;01mTrue\u001b[39;00m\n\u001b[1;32m     38\u001b[0m )\n\u001b[0;32m---> 40\u001b[0m \u001b[38;5;28;01mfor\u001b[39;00m step, batch \u001b[38;5;129;01min\u001b[39;00m \u001b[38;5;28menumerate\u001b[39m(epoch_iterator):\n\u001b[1;32m     41\u001b[0m     step \u001b[38;5;241m+\u001b[39m\u001b[38;5;241m=\u001b[39m \u001b[38;5;241m1\u001b[39m\n\u001b[1;32m     42\u001b[0m     x, y \u001b[38;5;241m=\u001b[39m (batch[\u001b[38;5;124m\"\u001b[39m\u001b[38;5;124mctpt\u001b[39m\u001b[38;5;124m\"\u001b[39m]\u001b[38;5;241m.\u001b[39mcuda(), batch[\u001b[38;5;124m\"\u001b[39m\u001b[38;5;124mseg\u001b[39m\u001b[38;5;124m\"\u001b[39m]\u001b[38;5;241m.\u001b[39mcuda())\n",
      "File \u001b[0;32m~/miniconda3/envs/clam/lib/python3.8/site-packages/tqdm/std.py:1182\u001b[0m, in \u001b[0;36mtqdm.__iter__\u001b[0;34m(self)\u001b[0m\n\u001b[1;32m   1179\u001b[0m time \u001b[38;5;241m=\u001b[39m \u001b[38;5;28mself\u001b[39m\u001b[38;5;241m.\u001b[39m_time\n\u001b[1;32m   1181\u001b[0m \u001b[38;5;28;01mtry\u001b[39;00m:\n\u001b[0;32m-> 1182\u001b[0m     \u001b[38;5;28;01mfor\u001b[39;00m obj \u001b[38;5;129;01min\u001b[39;00m iterable:\n\u001b[1;32m   1183\u001b[0m         \u001b[38;5;28;01myield\u001b[39;00m obj\n\u001b[1;32m   1184\u001b[0m         \u001b[38;5;66;03m# Update and possibly print the progressbar.\u001b[39;00m\n\u001b[1;32m   1185\u001b[0m         \u001b[38;5;66;03m# Note: does not call self.update(1) for speed optimisation.\u001b[39;00m\n",
      "File \u001b[0;32m~/miniconda3/envs/clam/lib/python3.8/site-packages/torch/utils/data/dataloader.py:630\u001b[0m, in \u001b[0;36m_BaseDataLoaderIter.__next__\u001b[0;34m(self)\u001b[0m\n\u001b[1;32m    627\u001b[0m \u001b[38;5;28;01mif\u001b[39;00m \u001b[38;5;28mself\u001b[39m\u001b[38;5;241m.\u001b[39m_sampler_iter \u001b[38;5;129;01mis\u001b[39;00m \u001b[38;5;28;01mNone\u001b[39;00m:\n\u001b[1;32m    628\u001b[0m     \u001b[38;5;66;03m# TODO(https://github.com/pytorch/pytorch/issues/76750)\u001b[39;00m\n\u001b[1;32m    629\u001b[0m     \u001b[38;5;28mself\u001b[39m\u001b[38;5;241m.\u001b[39m_reset()  \u001b[38;5;66;03m# type: ignore[call-arg]\u001b[39;00m\n\u001b[0;32m--> 630\u001b[0m data \u001b[38;5;241m=\u001b[39m \u001b[38;5;28;43mself\u001b[39;49m\u001b[38;5;241;43m.\u001b[39;49m\u001b[43m_next_data\u001b[49m\u001b[43m(\u001b[49m\u001b[43m)\u001b[49m\n\u001b[1;32m    631\u001b[0m \u001b[38;5;28mself\u001b[39m\u001b[38;5;241m.\u001b[39m_num_yielded \u001b[38;5;241m+\u001b[39m\u001b[38;5;241m=\u001b[39m \u001b[38;5;241m1\u001b[39m\n\u001b[1;32m    632\u001b[0m \u001b[38;5;28;01mif\u001b[39;00m \u001b[38;5;28mself\u001b[39m\u001b[38;5;241m.\u001b[39m_dataset_kind \u001b[38;5;241m==\u001b[39m _DatasetKind\u001b[38;5;241m.\u001b[39mIterable \u001b[38;5;129;01mand\u001b[39;00m \\\n\u001b[1;32m    633\u001b[0m         \u001b[38;5;28mself\u001b[39m\u001b[38;5;241m.\u001b[39m_IterableDataset_len_called \u001b[38;5;129;01mis\u001b[39;00m \u001b[38;5;129;01mnot\u001b[39;00m \u001b[38;5;28;01mNone\u001b[39;00m \u001b[38;5;129;01mand\u001b[39;00m \\\n\u001b[1;32m    634\u001b[0m         \u001b[38;5;28mself\u001b[39m\u001b[38;5;241m.\u001b[39m_num_yielded \u001b[38;5;241m>\u001b[39m \u001b[38;5;28mself\u001b[39m\u001b[38;5;241m.\u001b[39m_IterableDataset_len_called:\n",
      "File \u001b[0;32m~/miniconda3/envs/clam/lib/python3.8/site-packages/torch/utils/data/dataloader.py:1328\u001b[0m, in \u001b[0;36m_MultiProcessingDataLoaderIter._next_data\u001b[0;34m(self)\u001b[0m\n\u001b[1;32m   1325\u001b[0m     \u001b[38;5;28;01mreturn\u001b[39;00m \u001b[38;5;28mself\u001b[39m\u001b[38;5;241m.\u001b[39m_process_data(data)\n\u001b[1;32m   1327\u001b[0m \u001b[38;5;28;01massert\u001b[39;00m \u001b[38;5;129;01mnot\u001b[39;00m \u001b[38;5;28mself\u001b[39m\u001b[38;5;241m.\u001b[39m_shutdown \u001b[38;5;129;01mand\u001b[39;00m \u001b[38;5;28mself\u001b[39m\u001b[38;5;241m.\u001b[39m_tasks_outstanding \u001b[38;5;241m>\u001b[39m \u001b[38;5;241m0\u001b[39m\n\u001b[0;32m-> 1328\u001b[0m idx, data \u001b[38;5;241m=\u001b[39m \u001b[38;5;28;43mself\u001b[39;49m\u001b[38;5;241;43m.\u001b[39;49m\u001b[43m_get_data\u001b[49m\u001b[43m(\u001b[49m\u001b[43m)\u001b[49m\n\u001b[1;32m   1329\u001b[0m \u001b[38;5;28mself\u001b[39m\u001b[38;5;241m.\u001b[39m_tasks_outstanding \u001b[38;5;241m-\u001b[39m\u001b[38;5;241m=\u001b[39m \u001b[38;5;241m1\u001b[39m\n\u001b[1;32m   1330\u001b[0m \u001b[38;5;28;01mif\u001b[39;00m \u001b[38;5;28mself\u001b[39m\u001b[38;5;241m.\u001b[39m_dataset_kind \u001b[38;5;241m==\u001b[39m _DatasetKind\u001b[38;5;241m.\u001b[39mIterable:\n\u001b[1;32m   1331\u001b[0m     \u001b[38;5;66;03m# Check for _IterableDatasetStopIteration\u001b[39;00m\n",
      "File \u001b[0;32m~/miniconda3/envs/clam/lib/python3.8/site-packages/torch/utils/data/dataloader.py:1284\u001b[0m, in \u001b[0;36m_MultiProcessingDataLoaderIter._get_data\u001b[0;34m(self)\u001b[0m\n\u001b[1;32m   1282\u001b[0m \u001b[38;5;28;01melif\u001b[39;00m \u001b[38;5;28mself\u001b[39m\u001b[38;5;241m.\u001b[39m_pin_memory:\n\u001b[1;32m   1283\u001b[0m     \u001b[38;5;28;01mwhile\u001b[39;00m \u001b[38;5;28mself\u001b[39m\u001b[38;5;241m.\u001b[39m_pin_memory_thread\u001b[38;5;241m.\u001b[39mis_alive():\n\u001b[0;32m-> 1284\u001b[0m         success, data \u001b[38;5;241m=\u001b[39m \u001b[38;5;28;43mself\u001b[39;49m\u001b[38;5;241;43m.\u001b[39;49m\u001b[43m_try_get_data\u001b[49m\u001b[43m(\u001b[49m\u001b[43m)\u001b[49m\n\u001b[1;32m   1285\u001b[0m         \u001b[38;5;28;01mif\u001b[39;00m success:\n\u001b[1;32m   1286\u001b[0m             \u001b[38;5;28;01mreturn\u001b[39;00m data\n",
      "File \u001b[0;32m~/miniconda3/envs/clam/lib/python3.8/site-packages/torch/utils/data/dataloader.py:1132\u001b[0m, in \u001b[0;36m_MultiProcessingDataLoaderIter._try_get_data\u001b[0;34m(self, timeout)\u001b[0m\n\u001b[1;32m   1119\u001b[0m \u001b[38;5;28;01mdef\u001b[39;00m \u001b[38;5;21m_try_get_data\u001b[39m(\u001b[38;5;28mself\u001b[39m, timeout\u001b[38;5;241m=\u001b[39m_utils\u001b[38;5;241m.\u001b[39mMP_STATUS_CHECK_INTERVAL):\n\u001b[1;32m   1120\u001b[0m     \u001b[38;5;66;03m# Tries to fetch data from `self._data_queue` once for a given timeout.\u001b[39;00m\n\u001b[1;32m   1121\u001b[0m     \u001b[38;5;66;03m# This can also be used as inner loop of fetching without timeout, with\u001b[39;00m\n\u001b[0;32m   (...)\u001b[0m\n\u001b[1;32m   1129\u001b[0m     \u001b[38;5;66;03m# Returns a 2-tuple:\u001b[39;00m\n\u001b[1;32m   1130\u001b[0m     \u001b[38;5;66;03m#   (bool: whether successfully get data, any: data if successful else None)\u001b[39;00m\n\u001b[1;32m   1131\u001b[0m     \u001b[38;5;28;01mtry\u001b[39;00m:\n\u001b[0;32m-> 1132\u001b[0m         data \u001b[38;5;241m=\u001b[39m \u001b[38;5;28;43mself\u001b[39;49m\u001b[38;5;241;43m.\u001b[39;49m\u001b[43m_data_queue\u001b[49m\u001b[38;5;241;43m.\u001b[39;49m\u001b[43mget\u001b[49m\u001b[43m(\u001b[49m\u001b[43mtimeout\u001b[49m\u001b[38;5;241;43m=\u001b[39;49m\u001b[43mtimeout\u001b[49m\u001b[43m)\u001b[49m\n\u001b[1;32m   1133\u001b[0m         \u001b[38;5;28;01mreturn\u001b[39;00m (\u001b[38;5;28;01mTrue\u001b[39;00m, data)\n\u001b[1;32m   1134\u001b[0m     \u001b[38;5;28;01mexcept\u001b[39;00m \u001b[38;5;167;01mException\u001b[39;00m \u001b[38;5;28;01mas\u001b[39;00m e:\n\u001b[1;32m   1135\u001b[0m         \u001b[38;5;66;03m# At timeout and error, we manually check whether any worker has\u001b[39;00m\n\u001b[1;32m   1136\u001b[0m         \u001b[38;5;66;03m# failed. Note that this is the only mechanism for Windows to detect\u001b[39;00m\n\u001b[1;32m   1137\u001b[0m         \u001b[38;5;66;03m# worker failures.\u001b[39;00m\n",
      "File \u001b[0;32m~/miniconda3/envs/clam/lib/python3.8/queue.py:179\u001b[0m, in \u001b[0;36mQueue.get\u001b[0;34m(self, block, timeout)\u001b[0m\n\u001b[1;32m    177\u001b[0m         \u001b[38;5;28;01mif\u001b[39;00m remaining \u001b[38;5;241m<\u001b[39m\u001b[38;5;241m=\u001b[39m \u001b[38;5;241m0.0\u001b[39m:\n\u001b[1;32m    178\u001b[0m             \u001b[38;5;28;01mraise\u001b[39;00m Empty\n\u001b[0;32m--> 179\u001b[0m         \u001b[38;5;28;43mself\u001b[39;49m\u001b[38;5;241;43m.\u001b[39;49m\u001b[43mnot_empty\u001b[49m\u001b[38;5;241;43m.\u001b[39;49m\u001b[43mwait\u001b[49m\u001b[43m(\u001b[49m\u001b[43mremaining\u001b[49m\u001b[43m)\u001b[49m\n\u001b[1;32m    180\u001b[0m item \u001b[38;5;241m=\u001b[39m \u001b[38;5;28mself\u001b[39m\u001b[38;5;241m.\u001b[39m_get()\n\u001b[1;32m    181\u001b[0m \u001b[38;5;28mself\u001b[39m\u001b[38;5;241m.\u001b[39mnot_full\u001b[38;5;241m.\u001b[39mnotify()\n",
      "File \u001b[0;32m~/miniconda3/envs/clam/lib/python3.8/threading.py:306\u001b[0m, in \u001b[0;36mCondition.wait\u001b[0;34m(self, timeout)\u001b[0m\n\u001b[1;32m    304\u001b[0m \u001b[38;5;28;01melse\u001b[39;00m:\n\u001b[1;32m    305\u001b[0m     \u001b[38;5;28;01mif\u001b[39;00m timeout \u001b[38;5;241m>\u001b[39m \u001b[38;5;241m0\u001b[39m:\n\u001b[0;32m--> 306\u001b[0m         gotit \u001b[38;5;241m=\u001b[39m \u001b[43mwaiter\u001b[49m\u001b[38;5;241;43m.\u001b[39;49m\u001b[43macquire\u001b[49m\u001b[43m(\u001b[49m\u001b[38;5;28;43;01mTrue\u001b[39;49;00m\u001b[43m,\u001b[49m\u001b[43m \u001b[49m\u001b[43mtimeout\u001b[49m\u001b[43m)\u001b[49m\n\u001b[1;32m    307\u001b[0m     \u001b[38;5;28;01melse\u001b[39;00m:\n\u001b[1;32m    308\u001b[0m         gotit \u001b[38;5;241m=\u001b[39m waiter\u001b[38;5;241m.\u001b[39macquire(\u001b[38;5;28;01mFalse\u001b[39;00m)\n",
      "\u001b[0;31mKeyboardInterrupt\u001b[0m: "
     ]
    }
   ],
   "source": [
    "model_dir = '/home/nada.saadi/CTPET/hecktor2022_cropped/early_pret_7thctptct_ctpt'\n",
    "def validation(epoch_iterator_val):\n",
    "        model.eval()\n",
    "        with torch.no_grad():\n",
    "            for step, batch in enumerate(epoch_iterator_val):\n",
    "                val_inputs, val_labels = (batch[\"ctpt\"].cuda(), batch[\"seg\"].cuda())\n",
    "                val_outputs = sliding_window_inference(val_inputs, (96, 96, 96), 4, model)\n",
    "                val_labels_list = decollate_batch(val_labels)\n",
    "                val_labels_convert = [\n",
    "                    post_label(val_label_tensor) for val_label_tensor in val_labels_list\n",
    "                ]\n",
    "                val_outputs_list = decollate_batch(val_outputs)\n",
    "                val_output_convert = [\n",
    "                    post_pred(val_pred_tensor) for val_pred_tensor in val_outputs_list\n",
    "                ]\n",
    "                dice_metric(y_pred=val_output_convert, y=val_labels_convert)\n",
    "                dice_metric_batch(y_pred=val_output_convert, y=val_labels_convert)\n",
    "                epoch_iterator_val.set_description(\n",
    "                    \"Validate (%d / %d Steps)\" % (global_step, 10.0)\n",
    "                )\n",
    "            mean_dice_val = dice_metric.aggregate().item()\n",
    "            metric_batch_val = dice_metric_batch.aggregate()\n",
    "\n",
    "            metric_tumor = metric_batch_val[0].item()\n",
    "            metric_lymph = metric_batch_val[1].item()\n",
    "\n",
    "            dice_metric.reset()\n",
    "            dice_metric_batch.reset()\n",
    "        return mean_dice_val, metric_tumor, metric_lymph\n",
    "\n",
    "\n",
    "def train(global_step, train_loader, dice_val_best, global_step_best):\n",
    "        model.train()\n",
    "        epoch_loss = 0\n",
    "        step = 0\n",
    "        epoch_iterator = tqdm(\n",
    "            train_loader, desc=\"Training (X / X Steps) (loss=X.X)\", dynamic_ncols=True\n",
    "        )\n",
    "        \n",
    "        for step, batch in enumerate(epoch_iterator):\n",
    "            step += 1\n",
    "            x, y = (batch[\"ctpt\"].cuda(), batch[\"seg\"].cuda())\n",
    "            logit_map = model(x)\n",
    "            \n",
    "            loss = loss_function(logit_map, y)\n",
    "            loss.backward()\n",
    "            epoch_loss += loss.item()\n",
    "            optimizer.step()\n",
    "            optimizer.zero_grad()\n",
    "            epoch_iterator.set_description(\n",
    "                \"Training (%d / %d Steps) (loss=%2.5f)\"\n",
    "                % (global_step, max_iterations, loss)\n",
    "            )\n",
    "            \n",
    "            if (\n",
    "                global_step % eval_num == 0 and global_step != 0\n",
    "            ) or global_step == max_iterations:\n",
    "                epoch_iterator_val = tqdm(\n",
    "                    val_loader, desc=\"Validate (X / X Steps) (dice=X.X)\", dynamic_ncols=True\n",
    "                )\n",
    "                dice_val, metric_tumor, metric_lymph = validation(epoch_iterator_val)\n",
    "                epoch_loss /= step\n",
    "                epoch_loss_values.append(epoch_loss)\n",
    "                metric_values.append(dice_val)\n",
    "                metric_values_tumor.append(metric_tumor)\n",
    "                metric_values_lymph.append(metric_lymph)\n",
    "                if dice_val > dice_val_best:\n",
    "                    dice_val_best = dice_val\n",
    "                    global_step_best = global_step\n",
    "                    torch.save(\n",
    "                        model.state_dict(), os.path.join(model_dir, \"early_pret_7thctptct_ctpt.pth\")\n",
    "                    )\n",
    "                    print(\n",
    "                        \"Model Was Saved ! Current Best Avg. Dice: {} Current Avg. Dice: {} Current Avg. tumor Dice: {} Current Avg. lymph Dice: {}\".format(\n",
    "                            dice_val_best, dice_val, metric_tumor, metric_lymph\n",
    "                        )\n",
    "                    )\n",
    "                else:\n",
    "                    print(\n",
    "                        \"Model Was Not Saved ! Current Best Avg. Dice: {} Current Avg. Dice: {} Current Avg. tumor Dice: {} Current Avg. lymph Dice: {}\".format(\n",
    "                            dice_val_best, dice_val,  metric_tumor, metric_lymph\n",
    "                        )\n",
    "                    )\n",
    "            global_step += 1\n",
    "        return global_step, dice_val_best, global_step_best\n",
    "\n",
    "       \n",
    "\n",
    "max_iterations = 18000\n",
    "eval_num = 100\n",
    "\n",
    "post_label = AsDiscrete(to_onehot=3)\n",
    "post_pred = AsDiscrete(argmax=True, to_onehot=3)\n",
    "\n",
    "dice_metric = DiceMetric(include_background=False, reduction=\"mean\", get_not_nans=False)\n",
    "dice_metric_batch = DiceMetric(include_background=False, reduction=\"mean_batch\")\n",
    "\n",
    "epoch = 0\n",
    "max_num_epochs = 530\n",
    "\n",
    "global_step = 0\n",
    "dice_val_best = 0.0\n",
    "global_step_best = 0\n",
    "epoch_loss_values = []\n",
    "metric_values = []\n",
    "metric_values_tumor = []\n",
    "metric_values_lymph = []\n",
    "while global_step < max_iterations:\n",
    "    global_step, dice_val_best, global_step_best = train(\n",
    "        global_step, train_loader, dice_val_best, global_step_best\n",
    "    )\n",
    "    # wandb.log({'learning_rate': optimizer.param_groups[0]['lr']})\n",
    "    # wandb.log({'Best Dice': dice_val_best})\n",
    "    epoch += 1 \n",
    "    #optimizer.param_groups[0]['lr'] = poly_lr(epoch, max_num_epochs, 0.005676 , 0.9)\n",
    "# model.load_state_dict(torch.load(os.path.join(model_dir, \"best_metric_luck_UNETr_prompt.pth\")))"
   ]
  }
 ],
 "metadata": {
  "kernelspec": {
   "display_name": "clam",
   "language": "python",
   "name": "python3"
  },
  "language_info": {
   "codemirror_mode": {
    "name": "ipython",
    "version": 3
   },
   "file_extension": ".py",
   "mimetype": "text/x-python",
   "name": "python",
   "nbconvert_exporter": "python",
   "pygments_lexer": "ipython3",
   "version": "3.8.0"
  }
 },
 "nbformat": 4,
 "nbformat_minor": 2
}
