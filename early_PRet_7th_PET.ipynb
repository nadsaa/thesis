{
 "cells": [
  {
   "cell_type": "code",
   "execution_count": 2,
   "metadata": {},
   "outputs": [
    {
     "data": {
      "text/plain": [
       "1"
      ]
     },
     "execution_count": 2,
     "metadata": {},
     "output_type": "execute_result"
    }
   ],
   "source": [
    "import os\n",
    "os.environ[\"CUDA_DEVICE_ORDER\"] = \"PCI_BUS_ID\"\n",
    "os.environ[\"CUDA_VISIBLE_DEVICES\"] = \"1\" \n",
    "import torch\n",
    "torch.cuda.device_count()"
   ]
  },
  {
   "cell_type": "code",
   "execution_count": 3,
   "metadata": {},
   "outputs": [],
   "source": [
    "import os\n",
    "import shutil\n",
    "import tempfile\n",
    "\n",
    "import matplotlib.pyplot as plt\n",
    "import numpy as np\n",
    "from tqdm import tqdm\n",
    "from glob import glob\n",
    "# import wandb\n",
    "\n",
    "import monai\n",
    "from monai.losses import DiceCELoss, DiceFocalLoss, FocalLoss\n",
    "from monai.inferers import sliding_window_inference\n",
    "from monai import transforms\n",
    "\n",
    "from monai.transforms import (\n",
    "       AsDiscrete,\n",
    "    Compose,\n",
    "    CropForegroundd,\n",
    "    LoadImaged,\n",
    "    Orientationd,\n",
    "    RandFlipd,\n",
    "    RandCropByPosNegLabeld,\n",
    "    RandShiftIntensityd,\n",
    "    ScaleIntensityRanged,\n",
    "    Spacingd,\n",
    "    RandRotate90d,\n",
    "    MapTransform,\n",
    "    ScaleIntensityd,\n",
    "    #AddChanneld,\n",
    "    SpatialPadd,\n",
    "    CenterSpatialCropd,\n",
    "    EnsureChannelFirstd,\n",
    "    ConcatItemsd,\n",
    "    AdjustContrastd, \n",
    "    Rand3DElasticd,\n",
    "    HistogramNormalized,\n",
    "    NormalizeIntensityd,\n",
    "    Invertd,\n",
    "    SaveImage,\n",
    "\n",
    ")\n",
    "\n",
    "from monai.config import print_config\n",
    "from monai.metrics import DiceMetric\n",
    "from monai.networks.nets import SwinUNETR, UNETR, SegResNet\n",
    "from monai.data import (\n",
    "    DataLoader,\n",
    "    CacheDataset,\n",
    "    load_decathlon_datalist,\n",
    "    decollate_batch,\n",
    ")\n",
    "from monai import data\n",
    "\n",
    "\n",
    "from monai.utils import first, set_determinism\n",
    "from sklearn.model_selection import train_test_split\n",
    "import json\n",
    "\n",
    "\n",
    "import torch"
   ]
  },
  {
   "cell_type": "code",
   "execution_count": 4,
   "metadata": {},
   "outputs": [],
   "source": [
    "set_determinism(seed=1024)"
   ]
  },
  {
   "cell_type": "code",
   "execution_count": 5,
   "metadata": {},
   "outputs": [],
   "source": [
    "data_dir = '/home/nada.saadi/MIS-FM/hecktor2022_cropped'\n",
    "json_dir = \"/home/nada.saadi/CTPET/hecktor2022_cropped/HMR_pt_train_new.json\""
   ]
  },
  {
   "cell_type": "code",
   "execution_count": 6,
   "metadata": {},
   "outputs": [],
   "source": [
    "def datafold_read(datalist, basedir, fold=0, key=\"training\"):\n",
    "    with open(datalist) as f:\n",
    "        json_data = json.load(f)\n",
    "\n",
    "    json_data = json_data[key]\n",
    "\n",
    "    for d in json_data:\n",
    "        for k in d:\n",
    "            if isinstance(d[k], list):\n",
    "                d[k] = [os.path.join(basedir, iv) for iv in d[k]]\n",
    "            elif isinstance(d[k], str):\n",
    "                d[k] = os.path.join(basedir, d[k]) if len(d[k]) > 0 else d[k]\n",
    "\n",
    "    tr = []\n",
    "    val = []\n",
    "    for d in json_data:\n",
    "        if \"fold\" in d and d[\"fold\"] == fold:\n",
    "            val.append(d)\n",
    "        else:\n",
    "            tr.append(d)\n",
    "\n",
    "    return tr, val"
   ]
  },
  {
   "cell_type": "code",
   "execution_count": 7,
   "metadata": {},
   "outputs": [
    {
     "data": {
      "text/plain": [
       "(13, 4)"
      ]
     },
     "execution_count": 7,
     "metadata": {},
     "output_type": "execute_result"
    }
   ],
   "source": [
    "train_files, validation_files = datafold_read(datalist=json_dir, basedir=data_dir, fold=0)\n",
    "len(train_files), len(validation_files)"
   ]
  },
  {
   "cell_type": "code",
   "execution_count": 8,
   "metadata": {},
   "outputs": [],
   "source": [
    "class ClipCT(MapTransform):\n",
    "    \"\"\"\n",
    "    Convert labels to multi channels based on hecktor classes:\n",
    "    label 1 is the tumor\n",
    "    label 2 is the lymph node\n",
    "\n",
    "    \"\"\"\n",
    "\n",
    "    def __call__(self, data):\n",
    "        d = dict(data)\n",
    "        for key in self.keys:\n",
    "            if key == \"ct\":\n",
    "                d[key] = torch.clip(d[key], min=-200, max=200)\n",
    "            # elif key == \"pt\":\n",
    "            #     d[key] = torch.clip(d[key], d[key].min(), 5)\n",
    "        return d\n",
    "\n",
    "class MulPTFM(MapTransform):\n",
    "    \"\"\"\n",
    "    Mult PT and FM \n",
    "\n",
    "    \"\"\"\n",
    "\n",
    "    def __call__(self, data):\n",
    "        d = dict(data)\n",
    "\n",
    "        fm = d[\"ct\"] > 0\n",
    "        d[\"pt\"] = d[\"pt\"] * fm\n",
    "        return d\n",
    "\n",
    "class SelectClass(MapTransform):\n",
    "    \"\"\"\n",
    "    Select the class for which you want to fine tune the model \n",
    "\n",
    "    \"\"\"\n",
    "    # def __init__(self, keys, cls=1):\n",
    "    #     super(self).__init__(keys)\n",
    "    #     self.cls = cls\n",
    "\n",
    "    def __call__(self, data):\n",
    "        d = dict(data)\n",
    "        d[\"seg\"][d[\"seg\"] == 1] = 0\n",
    "        # d[\"seg\"][d[\"seg\"] == 2] = 1\n",
    "        \n",
    "        return d"
   ]
  },
  {
   "cell_type": "code",
   "execution_count": 9,
   "metadata": {},
   "outputs": [],
   "source": [
    "num_samples = 4\n",
    "\n",
    "train_transforms = Compose(\n",
    "    [\n",
    "        LoadImaged(keys=[\"pt\", \"seg\"], ensure_channel_first = True),\n",
    "        SpatialPadd(keys=[\"pt\",  \"seg\"], spatial_size=(200, 200, 310), method='end'),\n",
    "        Orientationd(keys=[\"pt\",  \"seg\"], axcodes=\"PLS\"),\n",
    "        #NormalizeIntensityd(keys=[\"pt\"]),\n",
    "        ClipCT(keys=[\"pt\"]),\n",
    "        ScaleIntensityd(keys=[\"pt\"], minv=0, maxv=1),\n",
    "        #MulPTFM(keys=[\"ct\",\"pt\"]),\n",
    "        #ConcatItemsd(keys=[\"pt\", \"ct\"], name=\"ctpt\"),\n",
    "        #NormalizeIntensityd(keys=[\"ctpt\"], channel_wise=True),\n",
    "        RandCropByPosNegLabeld(\n",
    "            keys=[\"pt\", \"seg\"],\n",
    "            label_key=\"seg\",\n",
    "            spatial_size=(96, 96, 96),\n",
    "            pos=1,\n",
    "            neg=1,\n",
    "            num_samples=num_samples,\n",
    "            image_key=\"pt\",\n",
    "            image_threshold=0,\n",
    "        ),\n",
    "        RandFlipd(\n",
    "            keys=[\"pt\", \"seg\"],\n",
    "            spatial_axis=[0],\n",
    "            prob=0.20,\n",
    "        ),\n",
    "        RandFlipd(\n",
    "            keys=[\"pt\", \"seg\"],\n",
    "            spatial_axis=[1],\n",
    "            prob=0.20,\n",
    "        ),\n",
    "        RandFlipd(\n",
    "            keys=[\"pt\", \"seg\"],\n",
    "            spatial_axis=[2],\n",
    "            prob=0.20,\n",
    "        ),\n",
    "        RandRotate90d(\n",
    "            keys=[\"pt\", \"seg\"],\n",
    "            prob=0.20,\n",
    "            max_k=3,\n",
    "        ),\n",
    "    ]\n",
    ")\n",
    "val_transforms = Compose(\n",
    "    [\n",
    "        LoadImaged(keys=[\"pt\", \"seg\"], ensure_channel_first = True),\n",
    "        SpatialPadd(keys=[\"pt\", \"seg\"], spatial_size=(200, 200, 310), method='end'),\n",
    "        Orientationd(keys=[\"pt\",  \"seg\"], axcodes=\"PLS\"),\n",
    "        #NormalizeIntensityd(keys=[\"pt\"]),\n",
    "        ClipCT(keys=[\"pt\"]),\n",
    "        ScaleIntensityd(keys=[\"pt\"], minv=0, maxv=1),\n",
    "        #MulPTFM(keys=[\"ct\",\"pt\"]),\n",
    "        #ConcatItemsd(keys=[\"pt\", \"ct\"], name=\"ctpt\"),\n",
    "    ]\n",
    ")"
   ]
  },
  {
   "cell_type": "code",
   "execution_count": 10,
   "metadata": {},
   "outputs": [],
   "source": [
    "train_ds = monai.data.Dataset(data=train_files, transform=train_transforms)\n",
    "\n",
    "train_loader = DataLoader(\n",
    "    train_ds,\n",
    "    batch_size=2,\n",
    "    shuffle=True,\n",
    "    num_workers=8,\n",
    "    pin_memory=torch.cuda.is_available(),\n",
    "    )\n",
    "\n",
    "val_ds = monai.data.Dataset(data=validation_files, transform=val_transforms)\n",
    "\n",
    "val_loader = DataLoader(\n",
    "    val_ds, \n",
    "    batch_size=2, \n",
    "    num_workers=8, \n",
    "    shuffle= False)"
   ]
  },
  {
   "cell_type": "code",
   "execution_count": 11,
   "metadata": {},
   "outputs": [
    {
     "name": "stderr",
     "output_type": "stream",
     "text": [
      "/home/nada.saadi/miniconda3/envs/clam/lib/python3.8/site-packages/monai/utils/deprecate_utils.py:221: FutureWarning: monai.networks.nets.unetr UNETR.__init__:pos_embed: Argument `pos_embed` has been deprecated since version 1.2. It will be removed in version 1.4. please use `proj_type` instead.\n",
      "  warn_deprecated(argname, msg, warning_category)\n"
     ]
    },
    {
     "data": {
      "text/plain": [
       "<All keys matched successfully>"
      ]
     },
     "execution_count": 11,
     "metadata": {},
     "output_type": "execute_result"
    }
   ],
   "source": [
    "os.environ[\"CUDA_DEVICE_ORDER\"] = \"PCI_BUS_ID\"\n",
    "device = torch.device(\"cuda\" if torch.cuda.is_available() else \"cpu\")\n",
    "model = UNETR(\n",
    "    in_channels=1,\n",
    "    out_channels=3,\n",
    "    img_size=(96, 96, 96),\n",
    "    feature_size=16,\n",
    "    hidden_size=768,\n",
    "    mlp_dim=3072, \n",
    "    num_heads=12,\n",
    "    pos_embed=\"perceptron\",\n",
    "    norm_name=\"instance\",\n",
    "    res_block=True,\n",
    "    dropout_rate=0.0,\n",
    ").to(device) \n",
    "\n",
    "rt7 = '/home/nada.saadi/CTPET/hecktor2022_cropped/b_7th/b_7th_ctptct.pth'\n",
    "\n",
    "# Ignore layers with size mismatch\n",
    "state_dict = torch.load(rt7)\n",
    "model_state_dict = model.state_dict()\n",
    "for name, param in state_dict.items():\n",
    "    if name in model_state_dict:\n",
    "        if param.shape == model_state_dict[name].shape:\n",
    "            model_state_dict[name] = param\n",
    "\n",
    "model.load_state_dict(model_state_dict)"
   ]
  },
  {
   "cell_type": "code",
   "execution_count": 12,
   "metadata": {},
   "outputs": [],
   "source": [
    "torch.backends.cudnn.benchmark = True\n",
    "def poly_lr(epoch, max_epochs, initial_lr, exponent=0.9):\n",
    "    return initial_lr * (1 - epoch / max_epochs)**exponent\n",
    "\n",
    "loss_function = DiceCELoss(to_onehot_y=True, softmax=True)\n",
    "optimizer = torch.optim.AdamW(model.parameters(), lr=1e-4, weight_decay=1e-5)"
   ]
  },
  {
   "cell_type": "code",
   "execution_count": 13,
   "metadata": {},
   "outputs": [
    {
     "name": "stderr",
     "output_type": "stream",
     "text": [
      "Training (6 / 18000 Steps) (loss=1.55189): 100%|██████████| 7/7 [00:19<00:00,  2.79s/it]\n",
      "Training (13 / 18000 Steps) (loss=1.43926): 100%|██████████| 7/7 [00:05<00:00,  1.26it/s]\n",
      "Training (20 / 18000 Steps) (loss=1.42320): 100%|██████████| 7/7 [00:05<00:00,  1.28it/s]\n",
      "Training (27 / 18000 Steps) (loss=1.40955): 100%|██████████| 7/7 [00:05<00:00,  1.18it/s]\n",
      "Training (34 / 18000 Steps) (loss=1.34600): 100%|██████████| 7/7 [00:05<00:00,  1.27it/s]\n",
      "Training (41 / 18000 Steps) (loss=1.30143): 100%|██████████| 7/7 [00:05<00:00,  1.35it/s]\n",
      "Training (48 / 18000 Steps) (loss=1.24163): 100%|██████████| 7/7 [00:05<00:00,  1.26it/s]\n",
      "Training (55 / 18000 Steps) (loss=1.34020): 100%|██████████| 7/7 [00:05<00:00,  1.30it/s]\n",
      "Training (62 / 18000 Steps) (loss=1.26746): 100%|██████████| 7/7 [00:05<00:00,  1.25it/s]\n",
      "Training (69 / 18000 Steps) (loss=1.23786): 100%|██████████| 7/7 [00:06<00:00,  1.15it/s]\n",
      "Training (76 / 18000 Steps) (loss=1.19059): 100%|██████████| 7/7 [00:05<00:00,  1.30it/s]\n",
      "Training (83 / 18000 Steps) (loss=1.19299): 100%|██████████| 7/7 [00:05<00:00,  1.21it/s]\n",
      "Training (90 / 18000 Steps) (loss=1.24836): 100%|██████████| 7/7 [00:05<00:00,  1.31it/s]\n",
      "Training (97 / 18000 Steps) (loss=1.25181): 100%|██████████| 7/7 [00:05<00:00,  1.30it/s]\n",
      "Validate (98 / 10 Steps): 100%|██████████| 2/2 [00:04<00:00,  2.20s/it]4<00:07,  1.58s/it]\n",
      "Training (100 / 18000 Steps) (loss=1.22736):  43%|████▎     | 3/7 [00:08<00:13,  3.29s/it]"
     ]
    },
    {
     "name": "stdout",
     "output_type": "stream",
     "text": [
      "Model Was Not Saved ! Current Best Avg. Dice: 0.0 Current Avg. Dice: 0.0 Current Avg. tumor Dice: 0.0 Current Avg. lymph Dice: 0.0\n"
     ]
    },
    {
     "name": "stderr",
     "output_type": "stream",
     "text": [
      "Training (104 / 18000 Steps) (loss=1.17268): 100%|██████████| 7/7 [00:10<00:00,  1.50s/it]\n",
      "Training (111 / 18000 Steps) (loss=1.18338): 100%|██████████| 7/7 [00:05<00:00,  1.23it/s]\n",
      "Training (118 / 18000 Steps) (loss=1.18253): 100%|██████████| 7/7 [00:05<00:00,  1.24it/s]\n",
      "Training (125 / 18000 Steps) (loss=1.21318): 100%|██████████| 7/7 [00:05<00:00,  1.25it/s]\n",
      "Training (132 / 18000 Steps) (loss=1.21618): 100%|██████████| 7/7 [00:05<00:00,  1.24it/s]\n",
      "Training (139 / 18000 Steps) (loss=1.17969): 100%|██████████| 7/7 [00:05<00:00,  1.21it/s]\n",
      "Training (146 / 18000 Steps) (loss=1.16285): 100%|██████████| 7/7 [00:05<00:00,  1.19it/s]\n",
      "Training (153 / 18000 Steps) (loss=1.20774): 100%|██████████| 7/7 [00:05<00:00,  1.27it/s]\n",
      "Training (160 / 18000 Steps) (loss=1.18131): 100%|██████████| 7/7 [00:05<00:00,  1.28it/s]\n",
      "Training (167 / 18000 Steps) (loss=1.15227): 100%|██████████| 7/7 [00:05<00:00,  1.31it/s]\n",
      "Training (174 / 18000 Steps) (loss=1.24044): 100%|██████████| 7/7 [00:05<00:00,  1.26it/s]\n",
      "Training (181 / 18000 Steps) (loss=1.19450): 100%|██████████| 7/7 [00:05<00:00,  1.30it/s]\n",
      "Training (188 / 18000 Steps) (loss=1.13756): 100%|██████████| 7/7 [00:05<00:00,  1.19it/s]\n",
      "Training (195 / 18000 Steps) (loss=1.11848): 100%|██████████| 7/7 [00:05<00:00,  1.17it/s]\n",
      "Validate (196 / 10 Steps): 100%|██████████| 2/2 [00:04<00:00,  2.24s/it]<00:02,  1.24it/s]\n",
      "Training (200 / 18000 Steps) (loss=1.11543):  71%|███████▏  | 5/7 [00:10<00:05,  2.54s/it]"
     ]
    },
    {
     "name": "stdout",
     "output_type": "stream",
     "text": [
      "Model Was Saved ! Current Best Avg. Dice: 0.0001373699342366308 Current Avg. Dice: 0.0001373699342366308 Current Avg. tumor Dice: 0.0002747398684732616 Current Avg. lymph Dice: 0.0\n"
     ]
    },
    {
     "name": "stderr",
     "output_type": "stream",
     "text": [
      "Training (202 / 18000 Steps) (loss=1.15673): 100%|██████████| 7/7 [00:10<00:00,  1.56s/it]\n",
      "Training (209 / 18000 Steps) (loss=1.21536): 100%|██████████| 7/7 [00:05<00:00,  1.25it/s]\n",
      "Training (216 / 18000 Steps) (loss=1.15403): 100%|██████████| 7/7 [00:05<00:00,  1.24it/s]\n",
      "Training (223 / 18000 Steps) (loss=1.12926): 100%|██████████| 7/7 [00:05<00:00,  1.28it/s]\n",
      "Training (230 / 18000 Steps) (loss=1.08923): 100%|██████████| 7/7 [00:05<00:00,  1.19it/s]\n",
      "Training (237 / 18000 Steps) (loss=1.14941): 100%|██████████| 7/7 [00:05<00:00,  1.19it/s]\n",
      "Training (244 / 18000 Steps) (loss=1.09982): 100%|██████████| 7/7 [00:05<00:00,  1.26it/s]\n",
      "Training (251 / 18000 Steps) (loss=1.12643): 100%|██████████| 7/7 [00:05<00:00,  1.34it/s]\n",
      "Training (258 / 18000 Steps) (loss=1.08432): 100%|██████████| 7/7 [00:05<00:00,  1.25it/s]\n",
      "Training (265 / 18000 Steps) (loss=1.03777): 100%|██████████| 7/7 [00:06<00:00,  1.15it/s]\n",
      "Training (272 / 18000 Steps) (loss=1.06799): 100%|██████████| 7/7 [00:05<00:00,  1.22it/s]\n",
      "Training (279 / 18000 Steps) (loss=1.06936): 100%|██████████| 7/7 [00:05<00:00,  1.23it/s]\n",
      "Training (286 / 18000 Steps) (loss=1.09077): 100%|██████████| 7/7 [00:05<00:00,  1.24it/s]\n",
      "Training (293 / 18000 Steps) (loss=1.05634): 100%|██████████| 7/7 [00:05<00:00,  1.27it/s]\n",
      "Validate (294 / 10 Steps): 100%|██████████| 2/2 [00:04<00:00,  2.18s/it]<00:00,  1.73it/s]\n",
      "Training (300 / 18000 Steps) (loss=1.10174): 100%|██████████| 7/7 [00:10<00:00,  1.53s/it]\n"
     ]
    },
    {
     "name": "stdout",
     "output_type": "stream",
     "text": [
      "Model Was Saved ! Current Best Avg. Dice: 0.00027184857754036784 Current Avg. Dice: 0.00027184857754036784 Current Avg. tumor Dice: 0.0005436971550807357 Current Avg. lymph Dice: 0.0\n"
     ]
    },
    {
     "name": "stderr",
     "output_type": "stream",
     "text": [
      "Training (307 / 18000 Steps) (loss=1.08607): 100%|██████████| 7/7 [00:05<00:00,  1.29it/s]\n",
      "Training (314 / 18000 Steps) (loss=1.05043): 100%|██████████| 7/7 [00:05<00:00,  1.23it/s]\n",
      "Training (321 / 18000 Steps) (loss=1.02962): 100%|██████████| 7/7 [00:05<00:00,  1.26it/s]\n",
      "Training (328 / 18000 Steps) (loss=1.05185): 100%|██████████| 7/7 [00:05<00:00,  1.24it/s]\n",
      "Training (335 / 18000 Steps) (loss=1.07072): 100%|██████████| 7/7 [00:05<00:00,  1.29it/s]\n",
      "Training (342 / 18000 Steps) (loss=1.02539): 100%|██████████| 7/7 [00:05<00:00,  1.27it/s]\n",
      "Training (349 / 18000 Steps) (loss=1.06560): 100%|██████████| 7/7 [00:05<00:00,  1.17it/s]\n",
      "Training (356 / 18000 Steps) (loss=1.07398): 100%|██████████| 7/7 [00:05<00:00,  1.24it/s]\n",
      "Training (363 / 18000 Steps) (loss=0.99535): 100%|██████████| 7/7 [00:05<00:00,  1.25it/s]\n",
      "Training (370 / 18000 Steps) (loss=0.99876): 100%|██████████| 7/7 [00:05<00:00,  1.25it/s]\n",
      "Training (377 / 18000 Steps) (loss=1.00881): 100%|██████████| 7/7 [00:05<00:00,  1.21it/s]\n",
      "Training (384 / 18000 Steps) (loss=1.04634): 100%|██████████| 7/7 [00:05<00:00,  1.25it/s]\n",
      "Training (391 / 18000 Steps) (loss=0.99000): 100%|██████████| 7/7 [00:05<00:00,  1.24it/s]\n",
      "Training (398 / 18000 Steps) (loss=1.05783): 100%|██████████| 7/7 [00:05<00:00,  1.22it/s]\n",
      "Validate (399 / 10 Steps): 100%|██████████| 2/2 [00:04<00:00,  2.14s/it]<00:21,  3.50s/it]\n",
      "Training (400 / 18000 Steps) (loss=1.01681):  29%|██▊       | 2/7 [00:08<00:21,  4.23s/it]"
     ]
    },
    {
     "name": "stdout",
     "output_type": "stream",
     "text": [
      "Model Was Not Saved ! Current Best Avg. Dice: 0.00027184857754036784 Current Avg. Dice: 0.0 Current Avg. tumor Dice: 0.0 Current Avg. lymph Dice: 0.0\n"
     ]
    },
    {
     "name": "stderr",
     "output_type": "stream",
     "text": [
      "Training (405 / 18000 Steps) (loss=0.97198): 100%|██████████| 7/7 [00:10<00:00,  1.46s/it]\n",
      "Training (412 / 18000 Steps) (loss=0.97391): 100%|██████████| 7/7 [00:05<00:00,  1.26it/s]\n",
      "Training (419 / 18000 Steps) (loss=0.98118): 100%|██████████| 7/7 [00:05<00:00,  1.29it/s]\n",
      "Training (426 / 18000 Steps) (loss=0.98134): 100%|██████████| 7/7 [00:05<00:00,  1.27it/s]\n",
      "Training (433 / 18000 Steps) (loss=0.96272): 100%|██████████| 7/7 [00:05<00:00,  1.18it/s]\n",
      "Training (440 / 18000 Steps) (loss=0.97494): 100%|██████████| 7/7 [00:05<00:00,  1.19it/s]\n",
      "Training (447 / 18000 Steps) (loss=0.95518): 100%|██████████| 7/7 [00:05<00:00,  1.28it/s]\n",
      "Training (454 / 18000 Steps) (loss=0.95058): 100%|██████████| 7/7 [00:05<00:00,  1.31it/s]\n",
      "Training (461 / 18000 Steps) (loss=0.95436): 100%|██████████| 7/7 [00:05<00:00,  1.27it/s]\n",
      "Training (468 / 18000 Steps) (loss=0.96978): 100%|██████████| 7/7 [00:05<00:00,  1.29it/s]\n",
      "Training (475 / 18000 Steps) (loss=0.99320): 100%|██████████| 7/7 [00:05<00:00,  1.22it/s]\n",
      "Training (482 / 18000 Steps) (loss=0.94268): 100%|██████████| 7/7 [00:05<00:00,  1.22it/s]\n",
      "Training (489 / 18000 Steps) (loss=0.92001): 100%|██████████| 7/7 [00:05<00:00,  1.18it/s]\n",
      "Training (496 / 18000 Steps) (loss=0.93290): 100%|██████████| 7/7 [00:05<00:00,  1.24it/s]\n",
      "Validate (497 / 10 Steps): 100%|██████████| 2/2 [00:04<00:00,  2.22s/it]<00:03,  1.02it/s]\n",
      "Training (500 / 18000 Steps) (loss=0.97189):  57%|█████▋    | 4/7 [00:09<00:08,  2.80s/it]"
     ]
    },
    {
     "name": "stdout",
     "output_type": "stream",
     "text": [
      "Model Was Saved ! Current Best Avg. Dice: 0.005702869035303593 Current Avg. Dice: 0.005702869035303593 Current Avg. tumor Dice: 0.011405738070607185 Current Avg. lymph Dice: 0.0\n"
     ]
    },
    {
     "name": "stderr",
     "output_type": "stream",
     "text": [
      "Training (503 / 18000 Steps) (loss=0.92724): 100%|██████████| 7/7 [00:10<00:00,  1.51s/it]\n",
      "Training (510 / 18000 Steps) (loss=0.92705): 100%|██████████| 7/7 [00:05<00:00,  1.32it/s]\n",
      "Training (517 / 18000 Steps) (loss=0.92271): 100%|██████████| 7/7 [00:05<00:00,  1.19it/s]\n",
      "Training (524 / 18000 Steps) (loss=0.99291): 100%|██████████| 7/7 [00:05<00:00,  1.17it/s]\n",
      "Training (531 / 18000 Steps) (loss=0.93336): 100%|██████████| 7/7 [00:05<00:00,  1.24it/s]\n",
      "Training (538 / 18000 Steps) (loss=0.91475): 100%|██████████| 7/7 [00:05<00:00,  1.18it/s]\n",
      "Training (545 / 18000 Steps) (loss=0.91776): 100%|██████████| 7/7 [00:05<00:00,  1.25it/s]\n",
      "Training (552 / 18000 Steps) (loss=0.91431): 100%|██████████| 7/7 [00:05<00:00,  1.23it/s]\n",
      "Training (559 / 18000 Steps) (loss=0.90240): 100%|██████████| 7/7 [00:05<00:00,  1.27it/s]\n",
      "Training (566 / 18000 Steps) (loss=0.90123): 100%|██████████| 7/7 [00:05<00:00,  1.31it/s]\n",
      "Training (573 / 18000 Steps) (loss=0.89200): 100%|██████████| 7/7 [00:05<00:00,  1.27it/s]\n",
      "Training (580 / 18000 Steps) (loss=0.89905): 100%|██████████| 7/7 [00:05<00:00,  1.24it/s]\n",
      "Training (587 / 18000 Steps) (loss=0.89679): 100%|██████████| 7/7 [00:05<00:00,  1.23it/s]\n",
      "Training (594 / 18000 Steps) (loss=0.91559): 100%|██████████| 7/7 [00:05<00:00,  1.22it/s]\n",
      "Validate (595 / 10 Steps): 100%|██████████| 2/2 [00:04<00:00,  2.17s/it]<00:01,  1.45it/s]\n",
      "Training (600 / 18000 Steps) (loss=0.93734):  86%|████████▌ | 6/7 [00:10<00:02,  2.34s/it]"
     ]
    },
    {
     "name": "stdout",
     "output_type": "stream",
     "text": [
      "Model Was Saved ! Current Best Avg. Dice: 0.011697107926011086 Current Avg. Dice: 0.011697107926011086 Current Avg. tumor Dice: 0.02339421585202217 Current Avg. lymph Dice: 0.0\n"
     ]
    },
    {
     "name": "stderr",
     "output_type": "stream",
     "text": [
      "Training (601 / 18000 Steps) (loss=0.89961): 100%|██████████| 7/7 [00:11<00:00,  1.57s/it]\n",
      "Training (608 / 18000 Steps) (loss=0.89854): 100%|██████████| 7/7 [00:05<00:00,  1.24it/s]\n",
      "Training (615 / 18000 Steps) (loss=0.88375): 100%|██████████| 7/7 [00:05<00:00,  1.28it/s]\n",
      "Training (622 / 18000 Steps) (loss=0.85496): 100%|██████████| 7/7 [00:05<00:00,  1.33it/s]\n",
      "Training (629 / 18000 Steps) (loss=0.88679): 100%|██████████| 7/7 [00:05<00:00,  1.26it/s]\n",
      "Training (636 / 18000 Steps) (loss=0.88442): 100%|██████████| 7/7 [00:05<00:00,  1.23it/s]\n",
      "Training (643 / 18000 Steps) (loss=0.88084): 100%|██████████| 7/7 [00:05<00:00,  1.21it/s]\n",
      "Training (650 / 18000 Steps) (loss=0.93992): 100%|██████████| 7/7 [00:05<00:00,  1.23it/s]\n",
      "Training (657 / 18000 Steps) (loss=0.88679): 100%|██████████| 7/7 [00:05<00:00,  1.25it/s]\n",
      "Training (664 / 18000 Steps) (loss=0.91954): 100%|██████████| 7/7 [00:05<00:00,  1.28it/s]\n",
      "Training (671 / 18000 Steps) (loss=0.89369): 100%|██████████| 7/7 [00:05<00:00,  1.27it/s]\n",
      "Training (678 / 18000 Steps) (loss=0.88474): 100%|██████████| 7/7 [00:05<00:00,  1.22it/s]\n",
      "Training (685 / 18000 Steps) (loss=0.87368): 100%|██████████| 7/7 [00:05<00:00,  1.25it/s]\n",
      "Training (692 / 18000 Steps) (loss=0.84604): 100%|██████████| 7/7 [00:05<00:00,  1.23it/s]\n",
      "Training (699 / 18000 Steps) (loss=0.88440): 100%|██████████| 7/7 [00:05<00:00,  1.33it/s]\n",
      "Validate (700 / 10 Steps): 100%|██████████| 2/2 [00:04<00:00,  2.13s/it]<?, ?it/s]\n",
      "Training (700 / 18000 Steps) (loss=0.86901):  14%|█▍        | 1/7 [00:07<00:43,  7.33s/it]"
     ]
    },
    {
     "name": "stdout",
     "output_type": "stream",
     "text": [
      "Model Was Not Saved ! Current Best Avg. Dice: 0.011697107926011086 Current Avg. Dice: 0.006109876558184624 Current Avg. tumor Dice: 0.012219753116369247 Current Avg. lymph Dice: 0.0\n"
     ]
    },
    {
     "name": "stderr",
     "output_type": "stream",
     "text": [
      "Training (706 / 18000 Steps) (loss=0.87029): 100%|██████████| 7/7 [00:09<00:00,  1.39s/it]\n",
      "Training (713 / 18000 Steps) (loss=0.92151): 100%|██████████| 7/7 [00:05<00:00,  1.30it/s]\n",
      "Training (720 / 18000 Steps) (loss=0.85324): 100%|██████████| 7/7 [00:05<00:00,  1.21it/s]\n",
      "Training (727 / 18000 Steps) (loss=0.84847): 100%|██████████| 7/7 [00:05<00:00,  1.20it/s]\n",
      "Training (734 / 18000 Steps) (loss=0.84327): 100%|██████████| 7/7 [00:05<00:00,  1.21it/s]\n",
      "Training (741 / 18000 Steps) (loss=0.92461): 100%|██████████| 7/7 [00:05<00:00,  1.29it/s]\n",
      "Training (748 / 18000 Steps) (loss=0.89159): 100%|██████████| 7/7 [00:05<00:00,  1.26it/s]\n",
      "Training (755 / 18000 Steps) (loss=0.93068): 100%|██████████| 7/7 [00:05<00:00,  1.23it/s]\n",
      "Training (762 / 18000 Steps) (loss=0.86675): 100%|██████████| 7/7 [00:05<00:00,  1.33it/s]\n",
      "Training (769 / 18000 Steps) (loss=0.84216): 100%|██████████| 7/7 [00:05<00:00,  1.29it/s]\n",
      "Training (776 / 18000 Steps) (loss=0.83510): 100%|██████████| 7/7 [00:05<00:00,  1.25it/s]\n",
      "Training (783 / 18000 Steps) (loss=0.87593): 100%|██████████| 7/7 [00:05<00:00,  1.31it/s]\n",
      "Training (790 / 18000 Steps) (loss=0.83922): 100%|██████████| 7/7 [00:05<00:00,  1.28it/s]\n",
      "Training (797 / 18000 Steps) (loss=0.84105): 100%|██████████| 7/7 [00:05<00:00,  1.30it/s]\n",
      "Validate (798 / 10 Steps): 100%|██████████| 2/2 [00:04<00:00,  2.25s/it]<00:08,  1.63s/it]\n",
      "Training (800 / 18000 Steps) (loss=0.85061):  43%|████▎     | 3/7 [00:09<00:13,  3.47s/it]"
     ]
    },
    {
     "name": "stdout",
     "output_type": "stream",
     "text": [
      "Model Was Saved ! Current Best Avg. Dice: 0.031240489333868027 Current Avg. Dice: 0.031240489333868027 Current Avg. tumor Dice: 0.06248097866773605 Current Avg. lymph Dice: 0.0\n"
     ]
    },
    {
     "name": "stderr",
     "output_type": "stream",
     "text": [
      "Training (804 / 18000 Steps) (loss=0.86764): 100%|██████████| 7/7 [00:11<00:00,  1.57s/it]\n",
      "Training (811 / 18000 Steps) (loss=0.80726): 100%|██████████| 7/7 [00:05<00:00,  1.28it/s]\n",
      "Training (818 / 18000 Steps) (loss=0.82896): 100%|██████████| 7/7 [00:05<00:00,  1.24it/s]\n",
      "Training (825 / 18000 Steps) (loss=0.89354): 100%|██████████| 7/7 [00:05<00:00,  1.25it/s]\n",
      "Training (832 / 18000 Steps) (loss=0.85167): 100%|██████████| 7/7 [00:05<00:00,  1.27it/s]\n",
      "Training (839 / 18000 Steps) (loss=0.83300): 100%|██████████| 7/7 [00:05<00:00,  1.18it/s]\n",
      "Training (846 / 18000 Steps) (loss=0.83178): 100%|██████████| 7/7 [00:05<00:00,  1.21it/s]\n",
      "Training (853 / 18000 Steps) (loss=0.82998): 100%|██████████| 7/7 [00:05<00:00,  1.22it/s]\n",
      "Training (860 / 18000 Steps) (loss=0.80904): 100%|██████████| 7/7 [00:05<00:00,  1.23it/s]\n",
      "Training (867 / 18000 Steps) (loss=0.82044): 100%|██████████| 7/7 [00:05<00:00,  1.27it/s]\n",
      "Training (874 / 18000 Steps) (loss=0.81504): 100%|██████████| 7/7 [00:05<00:00,  1.21it/s]\n",
      "Training (881 / 18000 Steps) (loss=0.81347): 100%|██████████| 7/7 [00:06<00:00,  1.16it/s]\n",
      "Training (888 / 18000 Steps) (loss=0.80977): 100%|██████████| 7/7 [00:05<00:00,  1.18it/s]\n",
      "Training (895 / 18000 Steps) (loss=0.81899): 100%|██████████| 7/7 [00:05<00:00,  1.18it/s]\n",
      "Validate (896 / 10 Steps): 100%|██████████| 2/2 [00:04<00:00,  2.12s/it]<00:02,  1.24it/s]\n",
      "Training (900 / 18000 Steps) (loss=0.83543):  71%|███████▏  | 5/7 [00:09<00:04,  2.48s/it]"
     ]
    },
    {
     "name": "stdout",
     "output_type": "stream",
     "text": [
      "Model Was Saved ! Current Best Avg. Dice: 0.06827352941036224 Current Avg. Dice: 0.06827352941036224 Current Avg. tumor Dice: 0.1365470439195633 Current Avg. lymph Dice: 0.0\n"
     ]
    },
    {
     "name": "stderr",
     "output_type": "stream",
     "text": [
      "Training (902 / 18000 Steps) (loss=0.81823): 100%|██████████| 7/7 [00:10<00:00,  1.53s/it]\n",
      "Training (909 / 18000 Steps) (loss=0.81396): 100%|██████████| 7/7 [00:05<00:00,  1.22it/s]\n",
      "Training (916 / 18000 Steps) (loss=0.80116): 100%|██████████| 7/7 [00:05<00:00,  1.30it/s]\n",
      "Training (923 / 18000 Steps) (loss=0.78860): 100%|██████████| 7/7 [00:05<00:00,  1.25it/s]\n",
      "Training (930 / 18000 Steps) (loss=0.81309): 100%|██████████| 7/7 [00:05<00:00,  1.23it/s]\n",
      "Training (937 / 18000 Steps) (loss=0.81504): 100%|██████████| 7/7 [00:05<00:00,  1.28it/s]\n",
      "Training (944 / 18000 Steps) (loss=0.79835): 100%|██████████| 7/7 [00:05<00:00,  1.24it/s]\n",
      "Training (951 / 18000 Steps) (loss=0.80372): 100%|██████████| 7/7 [00:05<00:00,  1.26it/s]\n",
      "Training (958 / 18000 Steps) (loss=0.80995): 100%|██████████| 7/7 [00:05<00:00,  1.26it/s]\n",
      "Training (965 / 18000 Steps) (loss=0.80365): 100%|██████████| 7/7 [00:05<00:00,  1.26it/s]\n",
      "Training (972 / 18000 Steps) (loss=0.79964): 100%|██████████| 7/7 [00:05<00:00,  1.19it/s]\n",
      "Training (979 / 18000 Steps) (loss=0.87657): 100%|██████████| 7/7 [00:05<00:00,  1.22it/s]\n",
      "Training (986 / 18000 Steps) (loss=0.78944): 100%|██████████| 7/7 [00:05<00:00,  1.29it/s]\n",
      "Training (993 / 18000 Steps) (loss=0.84640): 100%|██████████| 7/7 [00:05<00:00,  1.28it/s]\n",
      "Validate (994 / 10 Steps): 100%|██████████| 2/2 [00:04<00:00,  2.22s/it]5<00:00,  1.72it/s]\n",
      "Training (1000 / 18000 Steps) (loss=0.80671): 100%|██████████| 7/7 [00:10<00:00,  1.46s/it]\n"
     ]
    },
    {
     "name": "stdout",
     "output_type": "stream",
     "text": [
      "Model Was Not Saved ! Current Best Avg. Dice: 0.06827352941036224 Current Avg. Dice: 0.0655955970287323 Current Avg. tumor Dice: 0.1311911791563034 Current Avg. lymph Dice: 0.0\n"
     ]
    },
    {
     "name": "stderr",
     "output_type": "stream",
     "text": [
      "Training (1007 / 18000 Steps) (loss=0.78711): 100%|██████████| 7/7 [00:05<00:00,  1.26it/s]\n",
      "Training (1014 / 18000 Steps) (loss=0.74364): 100%|██████████| 7/7 [00:05<00:00,  1.30it/s]\n",
      "Training (1021 / 18000 Steps) (loss=0.78406): 100%|██████████| 7/7 [00:05<00:00,  1.25it/s]\n",
      "Training (1028 / 18000 Steps) (loss=0.85138): 100%|██████████| 7/7 [00:05<00:00,  1.25it/s]\n",
      "Training (1035 / 18000 Steps) (loss=0.83620): 100%|██████████| 7/7 [00:05<00:00,  1.22it/s]\n",
      "Training (1042 / 18000 Steps) (loss=0.79028): 100%|██████████| 7/7 [00:05<00:00,  1.23it/s]\n",
      "Training (1049 / 18000 Steps) (loss=0.80132): 100%|██████████| 7/7 [00:05<00:00,  1.22it/s]\n",
      "Training (1056 / 18000 Steps) (loss=0.76714): 100%|██████████| 7/7 [00:05<00:00,  1.29it/s]\n",
      "Training (1063 / 18000 Steps) (loss=0.72675): 100%|██████████| 7/7 [00:05<00:00,  1.24it/s]\n",
      "Training (1070 / 18000 Steps) (loss=0.78928): 100%|██████████| 7/7 [00:05<00:00,  1.25it/s]\n",
      "Training (1077 / 18000 Steps) (loss=0.83357): 100%|██████████| 7/7 [00:05<00:00,  1.23it/s]\n",
      "Training (1084 / 18000 Steps) (loss=0.78630): 100%|██████████| 7/7 [00:05<00:00,  1.18it/s]\n",
      "Training (1091 / 18000 Steps) (loss=0.76212): 100%|██████████| 7/7 [00:06<00:00,  1.07it/s]\n",
      "Training (1098 / 18000 Steps) (loss=0.87250): 100%|██████████| 7/7 [00:05<00:00,  1.25it/s]\n",
      "Validate (1099 / 10 Steps): 100%|██████████| 2/2 [00:04<00:00,  2.19s/it]<00:20,  3.33s/it]\n",
      "Training (1100 / 18000 Steps) (loss=0.75328):  29%|██▊       | 2/7 [00:08<00:23,  4.69s/it]"
     ]
    },
    {
     "name": "stdout",
     "output_type": "stream",
     "text": [
      "Model Was Saved ! Current Best Avg. Dice: 0.08486379683017731 Current Avg. Dice: 0.08486379683017731 Current Avg. tumor Dice: 0.16972759366035461 Current Avg. lymph Dice: 0.0\n"
     ]
    },
    {
     "name": "stderr",
     "output_type": "stream",
     "text": [
      "Training (1105 / 18000 Steps) (loss=0.78675): 100%|██████████| 7/7 [00:10<00:00,  1.56s/it]\n",
      "Training (1112 / 18000 Steps) (loss=0.92459): 100%|██████████| 7/7 [00:05<00:00,  1.20it/s]\n",
      "Training (1119 / 18000 Steps) (loss=0.81377): 100%|██████████| 7/7 [00:05<00:00,  1.26it/s]\n",
      "Training (1126 / 18000 Steps) (loss=0.77424): 100%|██████████| 7/7 [00:05<00:00,  1.30it/s]\n",
      "Training (1133 / 18000 Steps) (loss=0.78686): 100%|██████████| 7/7 [00:05<00:00,  1.18it/s]\n",
      "Training (1140 / 18000 Steps) (loss=0.77412): 100%|██████████| 7/7 [00:05<00:00,  1.30it/s]\n",
      "Training (1147 / 18000 Steps) (loss=0.82037): 100%|██████████| 7/7 [00:05<00:00,  1.23it/s]\n",
      "Training (1154 / 18000 Steps) (loss=0.76058): 100%|██████████| 7/7 [00:05<00:00,  1.24it/s]\n",
      "Training (1161 / 18000 Steps) (loss=0.82556): 100%|██████████| 7/7 [00:05<00:00,  1.25it/s]\n",
      "Training (1168 / 18000 Steps) (loss=0.77739): 100%|██████████| 7/7 [00:05<00:00,  1.24it/s]\n",
      "Training (1175 / 18000 Steps) (loss=0.78078): 100%|██████████| 7/7 [00:05<00:00,  1.28it/s]\n",
      "Training (1182 / 18000 Steps) (loss=0.81365): 100%|██████████| 7/7 [00:05<00:00,  1.21it/s]\n",
      "Training (1189 / 18000 Steps) (loss=0.81021): 100%|██████████| 7/7 [00:05<00:00,  1.23it/s]\n",
      "Training (1196 / 18000 Steps) (loss=0.77569): 100%|██████████| 7/7 [00:05<00:00,  1.31it/s]\n",
      "Validate (1197 / 10 Steps): 100%|██████████| 2/2 [00:04<00:00,  2.20s/it]<00:03,  1.04it/s]\n",
      "Training (1200 / 18000 Steps) (loss=0.77491):  57%|█████▋    | 4/7 [00:08<00:07,  2.51s/it]"
     ]
    },
    {
     "name": "stdout",
     "output_type": "stream",
     "text": [
      "Model Was Not Saved ! Current Best Avg. Dice: 0.08486379683017731 Current Avg. Dice: 0.05891290307044983 Current Avg. tumor Dice: 0.11782581359148026 Current Avg. lymph Dice: 0.0\n"
     ]
    },
    {
     "name": "stderr",
     "output_type": "stream",
     "text": [
      "Training (1203 / 18000 Steps) (loss=0.77180): 100%|██████████| 7/7 [00:09<00:00,  1.39s/it]\n",
      "Training (1210 / 18000 Steps) (loss=0.78697): 100%|██████████| 7/7 [00:05<00:00,  1.25it/s]\n",
      "Training (1217 / 18000 Steps) (loss=0.75848): 100%|██████████| 7/7 [00:05<00:00,  1.25it/s]\n",
      "Training (1224 / 18000 Steps) (loss=0.78074): 100%|██████████| 7/7 [00:05<00:00,  1.26it/s]\n",
      "Training (1231 / 18000 Steps) (loss=0.80712): 100%|██████████| 7/7 [00:05<00:00,  1.29it/s]\n",
      "Training (1238 / 18000 Steps) (loss=0.73608): 100%|██████████| 7/7 [00:05<00:00,  1.20it/s]\n",
      "Training (1245 / 18000 Steps) (loss=0.77709): 100%|██████████| 7/7 [00:05<00:00,  1.23it/s]\n",
      "Training (1252 / 18000 Steps) (loss=0.76575): 100%|██████████| 7/7 [00:05<00:00,  1.26it/s]\n",
      "Training (1259 / 18000 Steps) (loss=0.75726): 100%|██████████| 7/7 [00:05<00:00,  1.27it/s]\n",
      "Training (1266 / 18000 Steps) (loss=0.76129): 100%|██████████| 7/7 [00:05<00:00,  1.26it/s]\n",
      "Training (1273 / 18000 Steps) (loss=0.74340): 100%|██████████| 7/7 [00:05<00:00,  1.22it/s]\n",
      "Training (1280 / 18000 Steps) (loss=0.71885): 100%|██████████| 7/7 [00:05<00:00,  1.24it/s]\n",
      "Training (1287 / 18000 Steps) (loss=0.83356): 100%|██████████| 7/7 [00:05<00:00,  1.29it/s]\n",
      "Training (1294 / 18000 Steps) (loss=0.82153): 100%|██████████| 7/7 [00:05<00:00,  1.28it/s]\n",
      "Validate (1295 / 10 Steps): 100%|██████████| 2/2 [00:04<00:00,  2.21s/it]<00:01,  1.48it/s]\n",
      "Training (1300 / 18000 Steps) (loss=0.73006):  86%|████████▌ | 6/7 [00:10<00:02,  2.36s/it]"
     ]
    },
    {
     "name": "stdout",
     "output_type": "stream",
     "text": [
      "Model Was Saved ! Current Best Avg. Dice: 0.08878487348556519 Current Avg. Dice: 0.08878487348556519 Current Avg. tumor Dice: 0.17756974697113037 Current Avg. lymph Dice: 0.0\n"
     ]
    },
    {
     "name": "stderr",
     "output_type": "stream",
     "text": [
      "Training (1301 / 18000 Steps) (loss=0.72919): 100%|██████████| 7/7 [00:11<00:00,  1.57s/it]\n",
      "Training (1308 / 18000 Steps) (loss=0.74912): 100%|██████████| 7/7 [00:05<00:00,  1.28it/s]\n",
      "Training (1315 / 18000 Steps) (loss=0.78455): 100%|██████████| 7/7 [00:05<00:00,  1.25it/s]\n",
      "Training (1322 / 18000 Steps) (loss=0.74908): 100%|██████████| 7/7 [00:05<00:00,  1.29it/s]\n",
      "Training (1329 / 18000 Steps) (loss=0.79316): 100%|██████████| 7/7 [00:05<00:00,  1.27it/s]\n",
      "Training (1336 / 18000 Steps) (loss=0.72808): 100%|██████████| 7/7 [00:05<00:00,  1.20it/s]\n",
      "Training (1343 / 18000 Steps) (loss=0.76384): 100%|██████████| 7/7 [00:05<00:00,  1.23it/s]\n",
      "Training (1350 / 18000 Steps) (loss=0.83869): 100%|██████████| 7/7 [00:05<00:00,  1.23it/s]\n",
      "Training (1357 / 18000 Steps) (loss=0.75372): 100%|██████████| 7/7 [00:05<00:00,  1.30it/s]\n",
      "Training (1364 / 18000 Steps) (loss=0.73559): 100%|██████████| 7/7 [00:05<00:00,  1.27it/s]\n",
      "Training (1371 / 18000 Steps) (loss=0.74557): 100%|██████████| 7/7 [00:05<00:00,  1.23it/s]\n",
      "Training (1378 / 18000 Steps) (loss=0.71397): 100%|██████████| 7/7 [00:05<00:00,  1.29it/s]\n",
      "Training (1385 / 18000 Steps) (loss=0.75303): 100%|██████████| 7/7 [00:06<00:00,  1.15it/s]\n",
      "Training (1392 / 18000 Steps) (loss=0.81456): 100%|██████████| 7/7 [00:05<00:00,  1.28it/s]\n",
      "Training (1399 / 18000 Steps) (loss=0.71806): 100%|██████████| 7/7 [00:05<00:00,  1.27it/s]\n",
      "Validate (1400 / 10 Steps): 100%|██████████| 2/2 [00:04<00:00,  2.22s/it]<?, ?it/s]\n",
      "Training (1400 / 18000 Steps) (loss=0.75061):  14%|█▍        | 1/7 [00:07<00:46,  7.78s/it]"
     ]
    },
    {
     "name": "stdout",
     "output_type": "stream",
     "text": [
      "Model Was Not Saved ! Current Best Avg. Dice: 0.08878487348556519 Current Avg. Dice: 0.06955006718635559 Current Avg. tumor Dice: 0.13910014927387238 Current Avg. lymph Dice: 0.0\n"
     ]
    },
    {
     "name": "stderr",
     "output_type": "stream",
     "text": [
      "Training (1406 / 18000 Steps) (loss=0.68513): 100%|██████████| 7/7 [00:10<00:00,  1.46s/it]\n",
      "Training (1413 / 18000 Steps) (loss=0.80538): 100%|██████████| 7/7 [00:05<00:00,  1.28it/s]\n",
      "Training (1420 / 18000 Steps) (loss=0.84044): 100%|██████████| 7/7 [00:06<00:00,  1.16it/s]\n",
      "Training (1427 / 18000 Steps) (loss=0.75779): 100%|██████████| 7/7 [00:05<00:00,  1.28it/s]\n",
      "Training (1434 / 18000 Steps) (loss=0.75460): 100%|██████████| 7/7 [00:05<00:00,  1.21it/s]\n",
      "Training (1441 / 18000 Steps) (loss=0.72943): 100%|██████████| 7/7 [00:05<00:00,  1.25it/s]\n",
      "Training (1448 / 18000 Steps) (loss=0.70662): 100%|██████████| 7/7 [00:05<00:00,  1.21it/s]\n",
      "Training (1455 / 18000 Steps) (loss=0.71596): 100%|██████████| 7/7 [00:05<00:00,  1.24it/s]\n",
      "Training (1462 / 18000 Steps) (loss=0.78039): 100%|██████████| 7/7 [00:05<00:00,  1.18it/s]\n",
      "Training (1469 / 18000 Steps) (loss=0.75414): 100%|██████████| 7/7 [00:05<00:00,  1.29it/s]\n",
      "Training (1476 / 18000 Steps) (loss=0.72649): 100%|██████████| 7/7 [00:05<00:00,  1.31it/s]\n",
      "Training (1483 / 18000 Steps) (loss=0.70998): 100%|██████████| 7/7 [00:05<00:00,  1.27it/s]\n",
      "Training (1490 / 18000 Steps) (loss=0.76050): 100%|██████████| 7/7 [00:05<00:00,  1.24it/s]\n",
      "Training (1497 / 18000 Steps) (loss=0.64995): 100%|██████████| 7/7 [00:05<00:00,  1.20it/s]\n",
      "Validate (1498 / 10 Steps): 100%|██████████| 2/2 [00:04<00:00,  2.19s/it]<00:07,  1.60s/it]\n",
      "Training (1500 / 18000 Steps) (loss=0.70905):  43%|████▎     | 3/7 [00:08<00:12,  3.09s/it]"
     ]
    },
    {
     "name": "stdout",
     "output_type": "stream",
     "text": [
      "Model Was Not Saved ! Current Best Avg. Dice: 0.08878487348556519 Current Avg. Dice: 0.07603862881660461 Current Avg. tumor Dice: 0.1437797248363495 Current Avg. lymph Dice: 0.00829753652215004\n"
     ]
    },
    {
     "name": "stderr",
     "output_type": "stream",
     "text": [
      "Training (1504 / 18000 Steps) (loss=0.81313): 100%|██████████| 7/7 [00:10<00:00,  1.45s/it]\n",
      "Training (1511 / 18000 Steps) (loss=0.77057): 100%|██████████| 7/7 [00:05<00:00,  1.31it/s]\n",
      "Training (1518 / 18000 Steps) (loss=0.71945): 100%|██████████| 7/7 [00:05<00:00,  1.25it/s]\n",
      "Training (1525 / 18000 Steps) (loss=0.74997): 100%|██████████| 7/7 [00:05<00:00,  1.18it/s]\n",
      "Training (1532 / 18000 Steps) (loss=0.72181): 100%|██████████| 7/7 [00:05<00:00,  1.24it/s]\n",
      "Training (1539 / 18000 Steps) (loss=0.68024): 100%|██████████| 7/7 [00:06<00:00,  1.16it/s]\n",
      "Training (1546 / 18000 Steps) (loss=0.72481): 100%|██████████| 7/7 [00:05<00:00,  1.24it/s]\n",
      "Training (1553 / 18000 Steps) (loss=0.74596): 100%|██████████| 7/7 [00:05<00:00,  1.26it/s]\n",
      "Training (1560 / 18000 Steps) (loss=0.73870): 100%|██████████| 7/7 [00:05<00:00,  1.20it/s]\n",
      "Training (1567 / 18000 Steps) (loss=0.69281): 100%|██████████| 7/7 [00:05<00:00,  1.28it/s]\n",
      "Training (1574 / 18000 Steps) (loss=0.76146): 100%|██████████| 7/7 [00:05<00:00,  1.33it/s]\n",
      "Training (1581 / 18000 Steps) (loss=0.67329): 100%|██████████| 7/7 [00:05<00:00,  1.25it/s]\n",
      "Training (1588 / 18000 Steps) (loss=0.70924): 100%|██████████| 7/7 [00:05<00:00,  1.23it/s]\n",
      "Training (1595 / 18000 Steps) (loss=0.71612): 100%|██████████| 7/7 [00:06<00:00,  1.15it/s]\n",
      "Validate (1596 / 10 Steps): 100%|██████████| 2/2 [00:04<00:00,  2.22s/it]<00:02,  1.29it/s]\n",
      "Training (1600 / 18000 Steps) (loss=0.69877):  71%|███████▏  | 5/7 [00:09<00:04,  2.27s/it]"
     ]
    },
    {
     "name": "stdout",
     "output_type": "stream",
     "text": [
      "Model Was Not Saved ! Current Best Avg. Dice: 0.08878487348556519 Current Avg. Dice: 0.0699620172381401 Current Avg. tumor Dice: 0.1303420215845108 Current Avg. lymph Dice: 0.009582022204995155\n"
     ]
    },
    {
     "name": "stderr",
     "output_type": "stream",
     "text": [
      "Training (1602 / 18000 Steps) (loss=0.72280): 100%|██████████| 7/7 [00:09<00:00,  1.43s/it]\n",
      "Training (1609 / 18000 Steps) (loss=0.71743): 100%|██████████| 7/7 [00:05<00:00,  1.23it/s]\n",
      "Training (1616 / 18000 Steps) (loss=0.66630): 100%|██████████| 7/7 [00:05<00:00,  1.27it/s]\n",
      "Training (1623 / 18000 Steps) (loss=0.77586): 100%|██████████| 7/7 [00:05<00:00,  1.24it/s]\n",
      "Training (1630 / 18000 Steps) (loss=0.71274): 100%|██████████| 7/7 [00:05<00:00,  1.21it/s]\n",
      "Training (1637 / 18000 Steps) (loss=0.70275): 100%|██████████| 7/7 [00:06<00:00,  1.13it/s]\n",
      "Training (1644 / 18000 Steps) (loss=0.73633): 100%|██████████| 7/7 [00:05<00:00,  1.19it/s]\n",
      "Training (1651 / 18000 Steps) (loss=0.71577): 100%|██████████| 7/7 [00:05<00:00,  1.19it/s]\n",
      "Training (1658 / 18000 Steps) (loss=0.71783): 100%|██████████| 7/7 [00:05<00:00,  1.30it/s]\n",
      "Training (1665 / 18000 Steps) (loss=0.66411): 100%|██████████| 7/7 [00:05<00:00,  1.30it/s]\n",
      "Training (1672 / 18000 Steps) (loss=0.70883): 100%|██████████| 7/7 [00:06<00:00,  1.13it/s]\n",
      "Training (1679 / 18000 Steps) (loss=0.62295): 100%|██████████| 7/7 [00:05<00:00,  1.17it/s]\n",
      "Training (1686 / 18000 Steps) (loss=0.66399): 100%|██████████| 7/7 [00:05<00:00,  1.20it/s]\n",
      "Training (1693 / 18000 Steps) (loss=0.72256): 100%|██████████| 7/7 [00:05<00:00,  1.25it/s]\n",
      "Validate (1694 / 10 Steps): 100%|██████████| 2/2 [00:04<00:00,  2.19s/it]<00:00,  1.71it/s]\n",
      "Training (1700 / 18000 Steps) (loss=0.69498): 100%|██████████| 7/7 [00:10<00:00,  1.45s/it]\n"
     ]
    },
    {
     "name": "stdout",
     "output_type": "stream",
     "text": [
      "Model Was Not Saved ! Current Best Avg. Dice: 0.08878487348556519 Current Avg. Dice: 0.08415448665618896 Current Avg. tumor Dice: 0.13516123592853546 Current Avg. lymph Dice: 0.03314773738384247\n"
     ]
    },
    {
     "name": "stderr",
     "output_type": "stream",
     "text": [
      "Training (1707 / 18000 Steps) (loss=0.73532): 100%|██████████| 7/7 [00:05<00:00,  1.26it/s]\n",
      "Training (1714 / 18000 Steps) (loss=0.70957): 100%|██████████| 7/7 [00:05<00:00,  1.26it/s]\n",
      "Training (1721 / 18000 Steps) (loss=0.66410): 100%|██████████| 7/7 [00:05<00:00,  1.24it/s]\n",
      "Training (1728 / 18000 Steps) (loss=0.71010): 100%|██████████| 7/7 [00:05<00:00,  1.20it/s]\n",
      "Training (1735 / 18000 Steps) (loss=0.77528): 100%|██████████| 7/7 [00:05<00:00,  1.19it/s]\n",
      "Training (1742 / 18000 Steps) (loss=0.75079): 100%|██████████| 7/7 [00:05<00:00,  1.18it/s]\n",
      "Training (1749 / 18000 Steps) (loss=0.72875): 100%|██████████| 7/7 [00:05<00:00,  1.22it/s]\n",
      "Training (1756 / 18000 Steps) (loss=0.75842): 100%|██████████| 7/7 [00:05<00:00,  1.22it/s]\n",
      "Training (1763 / 18000 Steps) (loss=0.73068): 100%|██████████| 7/7 [00:05<00:00,  1.25it/s]\n",
      "Training (1770 / 18000 Steps) (loss=0.68676): 100%|██████████| 7/7 [00:05<00:00,  1.25it/s]\n",
      "Training (1777 / 18000 Steps) (loss=0.66954): 100%|██████████| 7/7 [00:05<00:00,  1.21it/s]\n",
      "Training (1784 / 18000 Steps) (loss=0.65379): 100%|██████████| 7/7 [00:05<00:00,  1.22it/s]\n",
      "Training (1791 / 18000 Steps) (loss=0.65249): 100%|██████████| 7/7 [00:05<00:00,  1.18it/s]\n",
      "Training (1798 / 18000 Steps) (loss=0.67515): 100%|██████████| 7/7 [00:05<00:00,  1.21it/s]\n",
      "Validate (1799 / 10 Steps): 100%|██████████| 2/2 [00:04<00:00,  2.27s/it]<00:19,  3.27s/it]\n",
      "Training (1800 / 18000 Steps) (loss=0.68802):  29%|██▊       | 2/7 [00:09<00:23,  4.75s/it]"
     ]
    },
    {
     "name": "stdout",
     "output_type": "stream",
     "text": [
      "Model Was Saved ! Current Best Avg. Dice: 0.09475012123584747 Current Avg. Dice: 0.09475012123584747 Current Avg. tumor Dice: 0.17434117197990417 Current Avg. lymph Dice: 0.01515906397253275\n"
     ]
    },
    {
     "name": "stderr",
     "output_type": "stream",
     "text": [
      "Training (1805 / 18000 Steps) (loss=0.71642): 100%|██████████| 7/7 [00:11<00:00,  1.58s/it]\n",
      "Training (1812 / 18000 Steps) (loss=0.68383): 100%|██████████| 7/7 [00:05<00:00,  1.24it/s]\n",
      "Training (1819 / 18000 Steps) (loss=0.63657): 100%|██████████| 7/7 [00:05<00:00,  1.21it/s]\n",
      "Training (1826 / 18000 Steps) (loss=0.74492): 100%|██████████| 7/7 [00:05<00:00,  1.19it/s]\n",
      "Training (1833 / 18000 Steps) (loss=0.70446): 100%|██████████| 7/7 [00:05<00:00,  1.18it/s]\n",
      "Training (1840 / 18000 Steps) (loss=0.75625): 100%|██████████| 7/7 [00:05<00:00,  1.19it/s]\n",
      "Training (1847 / 18000 Steps) (loss=0.69804): 100%|██████████| 7/7 [00:05<00:00,  1.23it/s]\n",
      "Training (1854 / 18000 Steps) (loss=0.74165): 100%|██████████| 7/7 [00:05<00:00,  1.24it/s]\n",
      "Training (1861 / 18000 Steps) (loss=0.63940): 100%|██████████| 7/7 [00:05<00:00,  1.21it/s]\n",
      "Training (1868 / 18000 Steps) (loss=0.65253): 100%|██████████| 7/7 [00:05<00:00,  1.19it/s]\n",
      "Training (1875 / 18000 Steps) (loss=0.63192): 100%|██████████| 7/7 [00:06<00:00,  1.15it/s]\n",
      "Training (1882 / 18000 Steps) (loss=0.65573): 100%|██████████| 7/7 [00:05<00:00,  1.22it/s]\n",
      "Training (1889 / 18000 Steps) (loss=0.63137): 100%|██████████| 7/7 [00:05<00:00,  1.20it/s]\n",
      "Training (1896 / 18000 Steps) (loss=0.69110): 100%|██████████| 7/7 [00:05<00:00,  1.19it/s]\n",
      "Validate (1897 / 10 Steps): 100%|██████████| 2/2 [00:04<00:00,  2.22s/it]<00:04,  1.08s/it]\n",
      "Training (1900 / 18000 Steps) (loss=0.71830):  57%|█████▋    | 4/7 [00:09<00:08,  2.84s/it]"
     ]
    },
    {
     "name": "stdout",
     "output_type": "stream",
     "text": [
      "Model Was Saved ! Current Best Avg. Dice: 0.159370556473732 Current Avg. Dice: 0.159370556473732 Current Avg. tumor Dice: 0.1842956393957138 Current Avg. lymph Dice: 0.13444547355175018\n"
     ]
    },
    {
     "name": "stderr",
     "output_type": "stream",
     "text": [
      "Training (1903 / 18000 Steps) (loss=0.68955): 100%|██████████| 7/7 [00:10<00:00,  1.56s/it]\n",
      "Training (1910 / 18000 Steps) (loss=0.67566): 100%|██████████| 7/7 [00:05<00:00,  1.24it/s]\n",
      "Training (1917 / 18000 Steps) (loss=0.63741): 100%|██████████| 7/7 [00:05<00:00,  1.19it/s]\n",
      "Training (1924 / 18000 Steps) (loss=0.71213): 100%|██████████| 7/7 [00:05<00:00,  1.22it/s]\n",
      "Training (1931 / 18000 Steps) (loss=0.71768): 100%|██████████| 7/7 [00:05<00:00,  1.19it/s]\n",
      "Training (1938 / 18000 Steps) (loss=0.73772): 100%|██████████| 7/7 [00:06<00:00,  1.14it/s]\n",
      "Training (1945 / 18000 Steps) (loss=0.79727): 100%|██████████| 7/7 [00:06<00:00,  1.04it/s]\n",
      "Training (1952 / 18000 Steps) (loss=0.69148): 100%|██████████| 7/7 [00:05<00:00,  1.26it/s]\n",
      "Training (1959 / 18000 Steps) (loss=0.70706): 100%|██████████| 7/7 [00:05<00:00,  1.20it/s]\n",
      "Training (1966 / 18000 Steps) (loss=0.67650): 100%|██████████| 7/7 [00:05<00:00,  1.22it/s]\n",
      "Training (1973 / 18000 Steps) (loss=0.68551): 100%|██████████| 7/7 [00:05<00:00,  1.27it/s]\n",
      "Training (1980 / 18000 Steps) (loss=0.77289): 100%|██████████| 7/7 [00:05<00:00,  1.20it/s]\n",
      "Training (1987 / 18000 Steps) (loss=0.75310): 100%|██████████| 7/7 [00:06<00:00,  1.14it/s]\n",
      "Training (1994 / 18000 Steps) (loss=0.70254): 100%|██████████| 7/7 [00:05<00:00,  1.24it/s]\n",
      "Validate (1995 / 10 Steps): 100%|██████████| 2/2 [00:04<00:00,  2.17s/it]<00:01,  1.51it/s]\n",
      "Training (2000 / 18000 Steps) (loss=0.70889):  86%|████████▌ | 6/7 [00:09<00:02,  2.07s/it]"
     ]
    },
    {
     "name": "stdout",
     "output_type": "stream",
     "text": [
      "Model Was Not Saved ! Current Best Avg. Dice: 0.159370556473732 Current Avg. Dice: 0.12793764472007751 Current Avg. tumor Dice: 0.14655102789402008 Current Avg. lymph Dice: 0.10932426154613495\n"
     ]
    },
    {
     "name": "stderr",
     "output_type": "stream",
     "text": [
      "Training (2001 / 18000 Steps) (loss=0.69489): 100%|██████████| 7/7 [00:10<00:00,  1.43s/it]\n",
      "Training (2008 / 18000 Steps) (loss=0.58077): 100%|██████████| 7/7 [00:05<00:00,  1.22it/s]\n",
      "Training (2015 / 18000 Steps) (loss=0.68341): 100%|██████████| 7/7 [00:06<00:00,  1.14it/s]\n",
      "Training (2022 / 18000 Steps) (loss=0.65388): 100%|██████████| 7/7 [00:05<00:00,  1.21it/s]\n",
      "Training (2029 / 18000 Steps) (loss=0.69508): 100%|██████████| 7/7 [00:05<00:00,  1.18it/s]\n",
      "Training (2036 / 18000 Steps) (loss=0.69882): 100%|██████████| 7/7 [00:05<00:00,  1.28it/s]\n",
      "Training (2043 / 18000 Steps) (loss=0.78468): 100%|██████████| 7/7 [00:05<00:00,  1.26it/s]\n",
      "Training (2050 / 18000 Steps) (loss=0.68164): 100%|██████████| 7/7 [00:05<00:00,  1.23it/s]\n",
      "Training (2057 / 18000 Steps) (loss=0.66847): 100%|██████████| 7/7 [00:05<00:00,  1.25it/s]\n",
      "Training (2064 / 18000 Steps) (loss=0.70871): 100%|██████████| 7/7 [00:05<00:00,  1.27it/s]\n",
      "Training (2071 / 18000 Steps) (loss=0.72466): 100%|██████████| 7/7 [00:05<00:00,  1.17it/s]\n",
      "Training (2078 / 18000 Steps) (loss=0.68693): 100%|██████████| 7/7 [00:05<00:00,  1.24it/s]\n",
      "Training (2085 / 18000 Steps) (loss=0.63608): 100%|██████████| 7/7 [00:05<00:00,  1.19it/s]\n",
      "Training (2092 / 18000 Steps) (loss=0.66498): 100%|██████████| 7/7 [00:05<00:00,  1.17it/s]\n",
      "Training (2099 / 18000 Steps) (loss=0.62324): 100%|██████████| 7/7 [00:05<00:00,  1.32it/s]\n",
      "Validate (2100 / 10 Steps): 100%|██████████| 2/2 [00:04<00:00,  2.20s/it]<?, ?it/s]\n",
      "Training (2100 / 18000 Steps) (loss=0.67598):  14%|█▍        | 1/7 [00:07<00:45,  7.60s/it]"
     ]
    },
    {
     "name": "stdout",
     "output_type": "stream",
     "text": [
      "Model Was Not Saved ! Current Best Avg. Dice: 0.159370556473732 Current Avg. Dice: 0.13344618678092957 Current Avg. tumor Dice: 0.18280647695064545 Current Avg. lymph Dice: 0.08408588916063309\n"
     ]
    },
    {
     "name": "stderr",
     "output_type": "stream",
     "text": [
      "Training (2106 / 18000 Steps) (loss=0.56908): 100%|██████████| 7/7 [00:09<00:00,  1.43s/it]\n",
      "Training (2113 / 18000 Steps) (loss=0.73758): 100%|██████████| 7/7 [00:05<00:00,  1.27it/s]\n",
      "Training (2120 / 18000 Steps) (loss=0.55509): 100%|██████████| 7/7 [00:05<00:00,  1.20it/s]\n",
      "Training (2127 / 18000 Steps) (loss=0.70036): 100%|██████████| 7/7 [00:05<00:00,  1.20it/s]\n",
      "Training (2134 / 18000 Steps) (loss=0.65020): 100%|██████████| 7/7 [00:05<00:00,  1.29it/s]\n",
      "Training (2141 / 18000 Steps) (loss=0.63168): 100%|██████████| 7/7 [00:05<00:00,  1.23it/s]\n",
      "Training (2148 / 18000 Steps) (loss=0.63973): 100%|██████████| 7/7 [00:05<00:00,  1.24it/s]\n",
      "Training (2155 / 18000 Steps) (loss=0.57331): 100%|██████████| 7/7 [00:05<00:00,  1.25it/s]\n",
      "Training (2162 / 18000 Steps) (loss=0.70407): 100%|██████████| 7/7 [00:05<00:00,  1.24it/s]\n",
      "Training (2169 / 18000 Steps) (loss=0.73305): 100%|██████████| 7/7 [00:05<00:00,  1.23it/s]\n",
      "Training (2176 / 18000 Steps) (loss=0.60232): 100%|██████████| 7/7 [00:05<00:00,  1.22it/s]\n",
      "Training (2183 / 18000 Steps) (loss=0.61864): 100%|██████████| 7/7 [00:05<00:00,  1.27it/s]\n",
      "Training (2190 / 18000 Steps) (loss=0.65874): 100%|██████████| 7/7 [00:05<00:00,  1.29it/s]\n",
      "Training (2197 / 18000 Steps) (loss=0.67074): 100%|██████████| 7/7 [00:05<00:00,  1.23it/s]\n",
      "Validate (2198 / 10 Steps): 100%|██████████| 2/2 [00:04<00:00,  2.12s/it]<00:08,  1.62s/it]\n",
      "Training (2200 / 18000 Steps) (loss=0.71489):  43%|████▎     | 3/7 [00:08<00:12,  3.03s/it]"
     ]
    },
    {
     "name": "stdout",
     "output_type": "stream",
     "text": [
      "Model Was Not Saved ! Current Best Avg. Dice: 0.159370556473732 Current Avg. Dice: 0.14511620998382568 Current Avg. tumor Dice: 0.15466924011707306 Current Avg. lymph Dice: 0.1355631947517395\n"
     ]
    },
    {
     "name": "stderr",
     "output_type": "stream",
     "text": [
      "Training (2204 / 18000 Steps) (loss=0.68293): 100%|██████████| 7/7 [00:10<00:00,  1.43s/it]\n",
      "Training (2211 / 18000 Steps) (loss=0.69689): 100%|██████████| 7/7 [00:05<00:00,  1.29it/s]\n",
      "Training (2218 / 18000 Steps) (loss=0.66073): 100%|██████████| 7/7 [00:05<00:00,  1.28it/s]\n",
      "Training (2225 / 18000 Steps) (loss=0.56147): 100%|██████████| 7/7 [00:05<00:00,  1.24it/s]\n",
      "Training (2232 / 18000 Steps) (loss=0.68718): 100%|██████████| 7/7 [00:05<00:00,  1.18it/s]\n",
      "Training (2239 / 18000 Steps) (loss=0.63898): 100%|██████████| 7/7 [00:05<00:00,  1.22it/s]\n",
      "Training (2246 / 18000 Steps) (loss=0.75389): 100%|██████████| 7/7 [00:05<00:00,  1.28it/s]\n",
      "Training (2253 / 18000 Steps) (loss=0.60038): 100%|██████████| 7/7 [00:05<00:00,  1.25it/s]\n",
      "Training (2260 / 18000 Steps) (loss=0.60490): 100%|██████████| 7/7 [00:05<00:00,  1.23it/s]\n",
      "Training (2267 / 18000 Steps) (loss=0.68773): 100%|██████████| 7/7 [00:05<00:00,  1.21it/s]\n",
      "Training (2274 / 18000 Steps) (loss=0.59901): 100%|██████████| 7/7 [00:06<00:00,  1.17it/s]\n",
      "Training (2281 / 18000 Steps) (loss=0.61041): 100%|██████████| 7/7 [00:05<00:00,  1.23it/s]\n",
      "Training (2288 / 18000 Steps) (loss=0.72372): 100%|██████████| 7/7 [00:05<00:00,  1.18it/s]\n",
      "Training (2295 / 18000 Steps) (loss=0.59791): 100%|██████████| 7/7 [00:05<00:00,  1.25it/s]\n",
      "Validate (2296 / 10 Steps): 100%|██████████| 2/2 [00:04<00:00,  2.12s/it]<00:02,  1.30it/s]\n",
      "Training (2300 / 18000 Steps) (loss=0.66775):  71%|███████▏  | 5/7 [00:08<00:04,  2.19s/it]"
     ]
    },
    {
     "name": "stdout",
     "output_type": "stream",
     "text": [
      "Model Was Not Saved ! Current Best Avg. Dice: 0.159370556473732 Current Avg. Dice: 0.11612830311059952 Current Avg. tumor Dice: 0.1407611072063446 Current Avg. lymph Dice: 0.09149549156427383\n"
     ]
    },
    {
     "name": "stderr",
     "output_type": "stream",
     "text": [
      "Training (2302 / 18000 Steps) (loss=0.75069): 100%|██████████| 7/7 [00:09<00:00,  1.39s/it]\n",
      "Training (2309 / 18000 Steps) (loss=0.69014): 100%|██████████| 7/7 [00:05<00:00,  1.24it/s]\n",
      "Training (2316 / 18000 Steps) (loss=0.63028): 100%|██████████| 7/7 [00:06<00:00,  1.16it/s]\n",
      "Training (2323 / 18000 Steps) (loss=0.69813): 100%|██████████| 7/7 [00:05<00:00,  1.30it/s]\n",
      "Training (2330 / 18000 Steps) (loss=0.64524): 100%|██████████| 7/7 [00:05<00:00,  1.24it/s]\n",
      "Training (2337 / 18000 Steps) (loss=0.63522): 100%|██████████| 7/7 [00:05<00:00,  1.26it/s]\n",
      "Training (2344 / 18000 Steps) (loss=0.67560): 100%|██████████| 7/7 [00:05<00:00,  1.25it/s]\n",
      "Training (2351 / 18000 Steps) (loss=0.59026): 100%|██████████| 7/7 [00:05<00:00,  1.23it/s]\n",
      "Training (2358 / 18000 Steps) (loss=0.67809): 100%|██████████| 7/7 [00:05<00:00,  1.24it/s]\n",
      "Training (2365 / 18000 Steps) (loss=0.64286): 100%|██████████| 7/7 [00:05<00:00,  1.23it/s]\n",
      "Training (2372 / 18000 Steps) (loss=0.59351): 100%|██████████| 7/7 [00:05<00:00,  1.23it/s]\n",
      "Training (2379 / 18000 Steps) (loss=0.70691): 100%|██████████| 7/7 [00:05<00:00,  1.24it/s]\n",
      "Training (2386 / 18000 Steps) (loss=0.59662): 100%|██████████| 7/7 [00:05<00:00,  1.30it/s]\n",
      "Training (2393 / 18000 Steps) (loss=0.63504): 100%|██████████| 7/7 [00:05<00:00,  1.27it/s]\n",
      "Validate (2394 / 10 Steps): 100%|██████████| 2/2 [00:04<00:00,  2.18s/it]<00:00,  1.68it/s]\n",
      "Training (2400 / 18000 Steps) (loss=0.75176): 100%|██████████| 7/7 [00:10<00:00,  1.45s/it]\n"
     ]
    },
    {
     "name": "stdout",
     "output_type": "stream",
     "text": [
      "Model Was Not Saved ! Current Best Avg. Dice: 0.159370556473732 Current Avg. Dice: 0.1376650631427765 Current Avg. tumor Dice: 0.17050987482070923 Current Avg. lymph Dice: 0.10482026636600494\n"
     ]
    },
    {
     "name": "stderr",
     "output_type": "stream",
     "text": [
      "Training (2407 / 18000 Steps) (loss=0.69052): 100%|██████████| 7/7 [00:05<00:00,  1.19it/s]\n",
      "Training (2414 / 18000 Steps) (loss=0.63917): 100%|██████████| 7/7 [00:05<00:00,  1.24it/s]\n",
      "Training (2421 / 18000 Steps) (loss=0.61546): 100%|██████████| 7/7 [00:05<00:00,  1.30it/s]\n",
      "Training (2428 / 18000 Steps) (loss=0.66982): 100%|██████████| 7/7 [00:05<00:00,  1.26it/s]\n",
      "Training (2435 / 18000 Steps) (loss=0.63215): 100%|██████████| 7/7 [00:06<00:00,  1.13it/s]\n",
      "Training (2442 / 18000 Steps) (loss=0.55711): 100%|██████████| 7/7 [00:06<00:00,  1.16it/s]\n",
      "Training (2449 / 18000 Steps) (loss=0.71624): 100%|██████████| 7/7 [00:05<00:00,  1.25it/s]\n",
      "Training (2456 / 18000 Steps) (loss=0.57343): 100%|██████████| 7/7 [00:05<00:00,  1.19it/s]\n",
      "Training (2463 / 18000 Steps) (loss=0.62196): 100%|██████████| 7/7 [00:05<00:00,  1.23it/s]\n",
      "Training (2470 / 18000 Steps) (loss=0.66305): 100%|██████████| 7/7 [00:05<00:00,  1.17it/s]\n",
      "Training (2477 / 18000 Steps) (loss=0.69187): 100%|██████████| 7/7 [00:06<00:00,  1.16it/s]\n",
      "Training (2484 / 18000 Steps) (loss=0.64665): 100%|██████████| 7/7 [00:05<00:00,  1.19it/s]\n",
      "Training (2491 / 18000 Steps) (loss=0.63903): 100%|██████████| 7/7 [00:05<00:00,  1.21it/s]\n",
      "Training (2498 / 18000 Steps) (loss=0.63473): 100%|██████████| 7/7 [00:05<00:00,  1.21it/s]\n",
      "Validate (2499 / 10 Steps): 100%|██████████| 2/2 [00:04<00:00,  2.23s/it]<00:19,  3.24s/it]\n",
      "Training (2500 / 18000 Steps) (loss=0.67424):  29%|██▊       | 2/7 [00:08<00:21,  4.23s/it]"
     ]
    },
    {
     "name": "stdout",
     "output_type": "stream",
     "text": [
      "Model Was Not Saved ! Current Best Avg. Dice: 0.159370556473732 Current Avg. Dice: 0.141264408826828 Current Avg. tumor Dice: 0.1969165802001953 Current Avg. lymph Dice: 0.0856122374534607\n"
     ]
    },
    {
     "name": "stderr",
     "output_type": "stream",
     "text": [
      "Training (2505 / 18000 Steps) (loss=0.66534): 100%|██████████| 7/7 [00:10<00:00,  1.45s/it]\n",
      "Training (2512 / 18000 Steps) (loss=0.61364): 100%|██████████| 7/7 [00:06<00:00,  1.12it/s]\n",
      "Training (2519 / 18000 Steps) (loss=0.58804): 100%|██████████| 7/7 [00:05<00:00,  1.17it/s]\n",
      "Training (2526 / 18000 Steps) (loss=0.63631): 100%|██████████| 7/7 [00:05<00:00,  1.21it/s]\n",
      "Training (2533 / 18000 Steps) (loss=0.62732): 100%|██████████| 7/7 [00:05<00:00,  1.23it/s]\n",
      "Training (2540 / 18000 Steps) (loss=0.60851): 100%|██████████| 7/7 [00:05<00:00,  1.24it/s]\n",
      "Training (2547 / 18000 Steps) (loss=0.55167): 100%|██████████| 7/7 [00:05<00:00,  1.28it/s]\n",
      "Training (2554 / 18000 Steps) (loss=0.68795): 100%|██████████| 7/7 [00:05<00:00,  1.19it/s]\n",
      "Training (2561 / 18000 Steps) (loss=0.70063): 100%|██████████| 7/7 [00:06<00:00,  1.16it/s]\n",
      "Training (2568 / 18000 Steps) (loss=0.64997): 100%|██████████| 7/7 [00:05<00:00,  1.20it/s]\n",
      "Training (2575 / 18000 Steps) (loss=0.68865): 100%|██████████| 7/7 [00:05<00:00,  1.20it/s]\n",
      "Training (2582 / 18000 Steps) (loss=0.58876): 100%|██████████| 7/7 [00:05<00:00,  1.26it/s]\n",
      "Training (2589 / 18000 Steps) (loss=0.66551): 100%|██████████| 7/7 [00:05<00:00,  1.23it/s]\n",
      "Training (2596 / 18000 Steps) (loss=0.76306): 100%|██████████| 7/7 [00:05<00:00,  1.20it/s]\n",
      "Validate (2597 / 10 Steps): 100%|██████████| 2/2 [00:04<00:00,  2.24s/it]<00:04,  1.05s/it]\n",
      "Training (2600 / 18000 Steps) (loss=0.64540):  57%|█████▋    | 4/7 [00:09<00:08,  2.88s/it]"
     ]
    },
    {
     "name": "stdout",
     "output_type": "stream",
     "text": [
      "Model Was Saved ! Current Best Avg. Dice: 0.18755507469177246 Current Avg. Dice: 0.18755507469177246 Current Avg. tumor Dice: 0.1819784939289093 Current Avg. lymph Dice: 0.19313165545463562\n"
     ]
    },
    {
     "name": "stderr",
     "output_type": "stream",
     "text": [
      "Training (2603 / 18000 Steps) (loss=0.58891): 100%|██████████| 7/7 [00:10<00:00,  1.56s/it]\n",
      "Training (2610 / 18000 Steps) (loss=0.62320): 100%|██████████| 7/7 [00:05<00:00,  1.20it/s]\n",
      "Training (2617 / 18000 Steps) (loss=0.61713): 100%|██████████| 7/7 [00:05<00:00,  1.27it/s]\n",
      "Training (2624 / 18000 Steps) (loss=0.68892): 100%|██████████| 7/7 [00:05<00:00,  1.21it/s]\n",
      "Training (2631 / 18000 Steps) (loss=0.64324): 100%|██████████| 7/7 [00:05<00:00,  1.21it/s]\n",
      "Training (2638 / 18000 Steps) (loss=0.66831): 100%|██████████| 7/7 [00:05<00:00,  1.19it/s]\n",
      "Training (2645 / 18000 Steps) (loss=0.59172): 100%|██████████| 7/7 [00:05<00:00,  1.24it/s]\n",
      "Training (2652 / 18000 Steps) (loss=0.63381): 100%|██████████| 7/7 [00:05<00:00,  1.22it/s]\n",
      "Training (2659 / 18000 Steps) (loss=0.61357): 100%|██████████| 7/7 [00:05<00:00,  1.20it/s]\n",
      "Training (2666 / 18000 Steps) (loss=0.59127): 100%|██████████| 7/7 [00:05<00:00,  1.20it/s]\n",
      "Training (2673 / 18000 Steps) (loss=0.72764): 100%|██████████| 7/7 [00:05<00:00,  1.26it/s]\n",
      "Training (2680 / 18000 Steps) (loss=0.55393): 100%|██████████| 7/7 [00:05<00:00,  1.19it/s]\n",
      "Training (2687 / 18000 Steps) (loss=0.64623): 100%|██████████| 7/7 [00:05<00:00,  1.19it/s]\n",
      "Training (2694 / 18000 Steps) (loss=0.44830): 100%|██████████| 7/7 [00:05<00:00,  1.23it/s]\n",
      "Validate (2695 / 10 Steps): 100%|██████████| 2/2 [00:04<00:00,  2.24s/it]<00:01,  1.47it/s]\n",
      "Training (2700 / 18000 Steps) (loss=0.60722):  86%|████████▌ | 6/7 [00:10<00:02,  2.13s/it]"
     ]
    },
    {
     "name": "stdout",
     "output_type": "stream",
     "text": [
      "Model Was Not Saved ! Current Best Avg. Dice: 0.18755507469177246 Current Avg. Dice: 0.13489726185798645 Current Avg. tumor Dice: 0.17829248309135437 Current Avg. lymph Dice: 0.09150201827287674\n"
     ]
    },
    {
     "name": "stderr",
     "output_type": "stream",
     "text": [
      "Training (2701 / 18000 Steps) (loss=0.55088): 100%|██████████| 7/7 [00:10<00:00,  1.49s/it]\n",
      "Training (2708 / 18000 Steps) (loss=0.65901): 100%|██████████| 7/7 [00:05<00:00,  1.23it/s]\n",
      "Training (2715 / 18000 Steps) (loss=0.50571): 100%|██████████| 7/7 [00:06<00:00,  1.09it/s]\n",
      "Training (2722 / 18000 Steps) (loss=0.66736): 100%|██████████| 7/7 [00:05<00:00,  1.17it/s]\n",
      "Training (2729 / 18000 Steps) (loss=0.67628): 100%|██████████| 7/7 [00:05<00:00,  1.22it/s]\n",
      "Training (2736 / 18000 Steps) (loss=0.62450): 100%|██████████| 7/7 [00:05<00:00,  1.25it/s]\n",
      "Training (2743 / 18000 Steps) (loss=0.73783): 100%|██████████| 7/7 [00:05<00:00,  1.27it/s]\n",
      "Training (2750 / 18000 Steps) (loss=0.62312): 100%|██████████| 7/7 [00:05<00:00,  1.20it/s]\n",
      "Training (2757 / 18000 Steps) (loss=0.68803): 100%|██████████| 7/7 [00:06<00:00,  1.15it/s]\n",
      "Training (2764 / 18000 Steps) (loss=0.50253): 100%|██████████| 7/7 [00:06<00:00,  1.10it/s]\n",
      "Training (2771 / 18000 Steps) (loss=0.59116): 100%|██████████| 7/7 [00:06<00:00,  1.12it/s]\n",
      "Training (2778 / 18000 Steps) (loss=0.63740): 100%|██████████| 7/7 [00:05<00:00,  1.17it/s]\n",
      "Training (2785 / 18000 Steps) (loss=0.65175): 100%|██████████| 7/7 [00:05<00:00,  1.23it/s]\n",
      "Training (2792 / 18000 Steps) (loss=0.65718): 100%|██████████| 7/7 [00:06<00:00,  1.15it/s]\n",
      "Training (2799 / 18000 Steps) (loss=0.62300): 100%|██████████| 7/7 [00:05<00:00,  1.29it/s]\n",
      "Validate (2800 / 10 Steps): 100%|██████████| 2/2 [00:04<00:00,  2.36s/it]<?, ?it/s]\n",
      "Training (2800 / 18000 Steps) (loss=0.62385):  14%|█▍        | 1/7 [00:07<00:47,  7.95s/it]"
     ]
    },
    {
     "name": "stdout",
     "output_type": "stream",
     "text": [
      "Model Was Not Saved ! Current Best Avg. Dice: 0.18755507469177246 Current Avg. Dice: 0.1759973168373108 Current Avg. tumor Dice: 0.1726837158203125 Current Avg. lymph Dice: 0.17931091785430908\n"
     ]
    },
    {
     "name": "stderr",
     "output_type": "stream",
     "text": [
      "Training (2806 / 18000 Steps) (loss=0.56078): 100%|██████████| 7/7 [00:10<00:00,  1.48s/it]\n",
      "Training (2813 / 18000 Steps) (loss=0.55536): 100%|██████████| 7/7 [00:05<00:00,  1.24it/s]\n",
      "Training (2820 / 18000 Steps) (loss=0.64475): 100%|██████████| 7/7 [00:05<00:00,  1.25it/s]\n",
      "Training (2827 / 18000 Steps) (loss=0.57974): 100%|██████████| 7/7 [00:05<00:00,  1.18it/s]\n",
      "Training (2834 / 18000 Steps) (loss=0.60986): 100%|██████████| 7/7 [00:05<00:00,  1.19it/s]\n",
      "Training (2841 / 18000 Steps) (loss=0.65928): 100%|██████████| 7/7 [00:06<00:00,  1.15it/s]\n",
      "Training (2848 / 18000 Steps) (loss=0.53894): 100%|██████████| 7/7 [00:05<00:00,  1.23it/s]\n",
      "Training (2855 / 18000 Steps) (loss=0.62354): 100%|██████████| 7/7 [00:05<00:00,  1.25it/s]\n",
      "Training (2862 / 18000 Steps) (loss=0.68096): 100%|██████████| 7/7 [00:05<00:00,  1.21it/s]\n",
      "Training (2869 / 18000 Steps) (loss=0.66497): 100%|██████████| 7/7 [00:05<00:00,  1.28it/s]\n",
      "Training (2876 / 18000 Steps) (loss=0.54953): 100%|██████████| 7/7 [00:05<00:00,  1.20it/s]\n",
      "Training (2883 / 18000 Steps) (loss=0.63909): 100%|██████████| 7/7 [00:05<00:00,  1.20it/s]\n",
      "Training (2890 / 18000 Steps) (loss=0.68360): 100%|██████████| 7/7 [00:06<00:00,  1.16it/s]\n",
      "Training (2897 / 18000 Steps) (loss=0.63755): 100%|██████████| 7/7 [00:05<00:00,  1.18it/s]\n",
      "Validate (2898 / 10 Steps): 100%|██████████| 2/2 [00:04<00:00,  2.28s/it]<00:07,  1.60s/it]\n",
      "Training (2900 / 18000 Steps) (loss=0.60358):  43%|████▎     | 3/7 [00:09<00:13,  3.48s/it]"
     ]
    },
    {
     "name": "stdout",
     "output_type": "stream",
     "text": [
      "Model Was Saved ! Current Best Avg. Dice: 0.2103942334651947 Current Avg. Dice: 0.2103942334651947 Current Avg. tumor Dice: 0.19729496538639069 Current Avg. lymph Dice: 0.2234935164451599\n"
     ]
    },
    {
     "name": "stderr",
     "output_type": "stream",
     "text": [
      "Training (2904 / 18000 Steps) (loss=0.55319): 100%|██████████| 7/7 [00:11<00:00,  1.57s/it]\n",
      "Training (2911 / 18000 Steps) (loss=0.61529): 100%|██████████| 7/7 [00:05<00:00,  1.26it/s]\n",
      "Training (2918 / 18000 Steps) (loss=0.63766): 100%|██████████| 7/7 [00:05<00:00,  1.17it/s]\n",
      "Training (2925 / 18000 Steps) (loss=0.66759): 100%|██████████| 7/7 [00:06<00:00,  1.06it/s]\n",
      "Training (2932 / 18000 Steps) (loss=0.57877): 100%|██████████| 7/7 [00:05<00:00,  1.18it/s]\n",
      "Training (2939 / 18000 Steps) (loss=0.56780): 100%|██████████| 7/7 [00:05<00:00,  1.19it/s]\n",
      "Training (2946 / 18000 Steps) (loss=0.66184): 100%|██████████| 7/7 [00:05<00:00,  1.24it/s]\n",
      "Training (2953 / 18000 Steps) (loss=0.62985): 100%|██████████| 7/7 [00:05<00:00,  1.21it/s]\n",
      "Training (2960 / 18000 Steps) (loss=0.58505): 100%|██████████| 7/7 [00:05<00:00,  1.24it/s]\n",
      "Training (2967 / 18000 Steps) (loss=0.66459): 100%|██████████| 7/7 [00:05<00:00,  1.17it/s]\n",
      "Training (2974 / 18000 Steps) (loss=0.63447): 100%|██████████| 7/7 [00:05<00:00,  1.20it/s]\n",
      "Training (2981 / 18000 Steps) (loss=0.65206): 100%|██████████| 7/7 [00:06<00:00,  1.16it/s]\n",
      "Training (2988 / 18000 Steps) (loss=0.66908): 100%|██████████| 7/7 [00:05<00:00,  1.23it/s]\n",
      "Training (2995 / 18000 Steps) (loss=0.52996): 100%|██████████| 7/7 [00:05<00:00,  1.21it/s]\n",
      "Validate (2996 / 10 Steps): 100%|██████████| 2/2 [00:04<00:00,  2.28s/it]<00:02,  1.19it/s]\n",
      "Training (3000 / 18000 Steps) (loss=0.59574):  71%|███████▏  | 5/7 [00:10<00:05,  2.57s/it]"
     ]
    },
    {
     "name": "stdout",
     "output_type": "stream",
     "text": [
      "Model Was Saved ! Current Best Avg. Dice: 0.2164841890335083 Current Avg. Dice: 0.2164841890335083 Current Avg. tumor Dice: 0.21876069903373718 Current Avg. lymph Dice: 0.2142077088356018\n"
     ]
    },
    {
     "name": "stderr",
     "output_type": "stream",
     "text": [
      "Training (3002 / 18000 Steps) (loss=0.65666): 100%|██████████| 7/7 [00:11<00:00,  1.60s/it]\n",
      "Training (3009 / 18000 Steps) (loss=0.63541): 100%|██████████| 7/7 [00:06<00:00,  1.14it/s]\n",
      "Training (3016 / 18000 Steps) (loss=0.59740): 100%|██████████| 7/7 [00:05<00:00,  1.19it/s]\n",
      "Training (3023 / 18000 Steps) (loss=0.71293): 100%|██████████| 7/7 [00:05<00:00,  1.22it/s]\n",
      "Training (3030 / 18000 Steps) (loss=0.79479): 100%|██████████| 7/7 [00:05<00:00,  1.22it/s]\n",
      "Training (3037 / 18000 Steps) (loss=0.64929): 100%|██████████| 7/7 [00:05<00:00,  1.21it/s]\n",
      "Training (3044 / 18000 Steps) (loss=0.61909): 100%|██████████| 7/7 [00:06<00:00,  1.16it/s]\n",
      "Training (3051 / 18000 Steps) (loss=0.63216): 100%|██████████| 7/7 [00:05<00:00,  1.25it/s]\n",
      "Training (3058 / 18000 Steps) (loss=0.62770): 100%|██████████| 7/7 [00:05<00:00,  1.24it/s]\n",
      "Training (3065 / 18000 Steps) (loss=0.56824): 100%|██████████| 7/7 [00:05<00:00,  1.19it/s]\n",
      "Training (3072 / 18000 Steps) (loss=0.61421): 100%|██████████| 7/7 [00:05<00:00,  1.21it/s]\n",
      "Training (3079 / 18000 Steps) (loss=0.62007): 100%|██████████| 7/7 [00:06<00:00,  1.13it/s]\n",
      "Training (3086 / 18000 Steps) (loss=0.56393): 100%|██████████| 7/7 [00:05<00:00,  1.21it/s]\n",
      "Training (3093 / 18000 Steps) (loss=0.55918): 100%|██████████| 7/7 [00:05<00:00,  1.20it/s]\n",
      "Validate (3094 / 10 Steps): 100%|██████████| 2/2 [00:04<00:00,  2.18s/it]<00:00,  1.72it/s]\n",
      "Training (3100 / 18000 Steps) (loss=0.57855): 100%|██████████| 7/7 [00:10<00:00,  1.55s/it]\n"
     ]
    },
    {
     "name": "stdout",
     "output_type": "stream",
     "text": [
      "Model Was Saved ! Current Best Avg. Dice: 0.22872549295425415 Current Avg. Dice: 0.22872549295425415 Current Avg. tumor Dice: 0.266105592250824 Current Avg. lymph Dice: 0.19134536385536194\n"
     ]
    },
    {
     "name": "stderr",
     "output_type": "stream",
     "text": [
      "Training (3107 / 18000 Steps) (loss=0.57980): 100%|██████████| 7/7 [00:05<00:00,  1.25it/s]\n",
      "Training (3114 / 18000 Steps) (loss=0.66212): 100%|██████████| 7/7 [00:05<00:00,  1.27it/s]\n",
      "Training (3121 / 18000 Steps) (loss=0.55516): 100%|██████████| 7/7 [00:05<00:00,  1.22it/s]\n",
      "Training (3128 / 18000 Steps) (loss=0.62109): 100%|██████████| 7/7 [00:05<00:00,  1.17it/s]\n",
      "Training (3135 / 18000 Steps) (loss=0.60532): 100%|██████████| 7/7 [00:05<00:00,  1.24it/s]\n",
      "Training (3142 / 18000 Steps) (loss=0.62675): 100%|██████████| 7/7 [00:05<00:00,  1.23it/s]\n",
      "Training (3149 / 18000 Steps) (loss=0.63083): 100%|██████████| 7/7 [00:05<00:00,  1.24it/s]\n",
      "Training (3156 / 18000 Steps) (loss=0.63203): 100%|██████████| 7/7 [00:05<00:00,  1.28it/s]\n",
      "Training (3163 / 18000 Steps) (loss=0.62218): 100%|██████████| 7/7 [00:05<00:00,  1.21it/s]\n",
      "Training (3170 / 18000 Steps) (loss=0.64215): 100%|██████████| 7/7 [00:06<00:00,  1.15it/s]\n",
      "Training (3177 / 18000 Steps) (loss=0.61754): 100%|██████████| 7/7 [00:05<00:00,  1.18it/s]\n",
      "Training (3184 / 18000 Steps) (loss=0.61428): 100%|██████████| 7/7 [00:05<00:00,  1.22it/s]\n",
      "Training (3191 / 18000 Steps) (loss=0.69198): 100%|██████████| 7/7 [00:05<00:00,  1.19it/s]\n",
      "Training (3198 / 18000 Steps) (loss=0.60720): 100%|██████████| 7/7 [00:05<00:00,  1.24it/s]\n",
      "Validate (3199 / 10 Steps): 100%|██████████| 2/2 [00:04<00:00,  2.34s/it]<00:22,  3.78s/it]\n",
      "Training (3200 / 18000 Steps) (loss=0.62631):  29%|██▊       | 2/7 [00:08<00:22,  4.58s/it]"
     ]
    },
    {
     "name": "stdout",
     "output_type": "stream",
     "text": [
      "Model Was Not Saved ! Current Best Avg. Dice: 0.22872549295425415 Current Avg. Dice: 0.21771347522735596 Current Avg. tumor Dice: 0.2526969015598297 Current Avg. lymph Dice: 0.182730033993721\n"
     ]
    },
    {
     "name": "stderr",
     "output_type": "stream",
     "text": [
      "Training (3205 / 18000 Steps) (loss=0.71277): 100%|██████████| 7/7 [00:10<00:00,  1.56s/it]\n",
      "Training (3212 / 18000 Steps) (loss=0.66690): 100%|██████████| 7/7 [00:05<00:00,  1.25it/s]\n",
      "Training (3219 / 18000 Steps) (loss=0.63508): 100%|██████████| 7/7 [00:05<00:00,  1.18it/s]\n",
      "Training (3226 / 18000 Steps) (loss=0.51265): 100%|██████████| 7/7 [00:05<00:00,  1.24it/s]\n",
      "Training (3233 / 18000 Steps) (loss=0.48969): 100%|██████████| 7/7 [00:05<00:00,  1.31it/s]\n",
      "Training (3240 / 18000 Steps) (loss=0.61035): 100%|██████████| 7/7 [00:05<00:00,  1.19it/s]\n",
      "Training (3247 / 18000 Steps) (loss=0.69867): 100%|██████████| 7/7 [00:05<00:00,  1.28it/s]\n",
      "Training (3254 / 18000 Steps) (loss=0.50904): 100%|██████████| 7/7 [00:05<00:00,  1.25it/s]\n",
      "Training (3261 / 18000 Steps) (loss=0.53827): 100%|██████████| 7/7 [00:05<00:00,  1.23it/s]\n",
      "Training (3268 / 18000 Steps) (loss=0.61677): 100%|██████████| 7/7 [00:05<00:00,  1.26it/s]\n",
      "Training (3275 / 18000 Steps) (loss=0.62415): 100%|██████████| 7/7 [00:05<00:00,  1.22it/s]\n",
      "Training (3282 / 18000 Steps) (loss=0.60207): 100%|██████████| 7/7 [00:05<00:00,  1.21it/s]\n",
      "Training (3289 / 18000 Steps) (loss=0.60452): 100%|██████████| 7/7 [00:06<00:00,  1.15it/s]\n",
      "Training (3296 / 18000 Steps) (loss=0.57757): 100%|██████████| 7/7 [00:05<00:00,  1.24it/s]\n",
      "Validate (3297 / 10 Steps): 100%|██████████| 2/2 [00:04<00:00,  2.16s/it]<00:03,  1.01it/s]\n",
      "Training (3300 / 18000 Steps) (loss=0.57681):  57%|█████▋    | 4/7 [00:08<00:07,  2.49s/it]"
     ]
    },
    {
     "name": "stdout",
     "output_type": "stream",
     "text": [
      "Model Was Not Saved ! Current Best Avg. Dice: 0.22872549295425415 Current Avg. Dice: 0.2116611897945404 Current Avg. tumor Dice: 0.25093019008636475 Current Avg. lymph Dice: 0.17239218950271606\n"
     ]
    },
    {
     "name": "stderr",
     "output_type": "stream",
     "text": [
      "Training (3303 / 18000 Steps) (loss=0.57652): 100%|██████████| 7/7 [00:09<00:00,  1.40s/it]\n",
      "Training (3310 / 18000 Steps) (loss=0.58407): 100%|██████████| 7/7 [00:05<00:00,  1.23it/s]\n",
      "Training (3317 / 18000 Steps) (loss=0.54777): 100%|██████████| 7/7 [00:05<00:00,  1.21it/s]\n",
      "Training (3324 / 18000 Steps) (loss=0.63523): 100%|██████████| 7/7 [00:06<00:00,  1.14it/s]\n",
      "Training (3331 / 18000 Steps) (loss=0.57084): 100%|██████████| 7/7 [00:05<00:00,  1.20it/s]\n",
      "Training (3338 / 18000 Steps) (loss=0.59084): 100%|██████████| 7/7 [00:05<00:00,  1.22it/s]\n",
      "Training (3345 / 18000 Steps) (loss=0.65943): 100%|██████████| 7/7 [00:05<00:00,  1.22it/s]\n",
      "Training (3352 / 18000 Steps) (loss=0.66256): 100%|██████████| 7/7 [00:05<00:00,  1.30it/s]\n",
      "Training (3359 / 18000 Steps) (loss=0.61730): 100%|██████████| 7/7 [00:05<00:00,  1.25it/s]\n",
      "Training (3366 / 18000 Steps) (loss=0.61545): 100%|██████████| 7/7 [00:05<00:00,  1.18it/s]\n",
      "Training (3373 / 18000 Steps) (loss=0.69173): 100%|██████████| 7/7 [00:05<00:00,  1.21it/s]\n",
      "Training (3380 / 18000 Steps) (loss=0.63757): 100%|██████████| 7/7 [00:05<00:00,  1.21it/s]\n",
      "Training (3387 / 18000 Steps) (loss=0.56564): 100%|██████████| 7/7 [00:05<00:00,  1.18it/s]\n",
      "Training (3394 / 18000 Steps) (loss=0.57799): 100%|██████████| 7/7 [00:05<00:00,  1.20it/s]\n",
      "Validate (3395 / 10 Steps): 100%|██████████| 2/2 [00:04<00:00,  2.19s/it]<00:01,  1.55it/s]\n",
      "Training (3400 / 18000 Steps) (loss=0.53633):  86%|████████▌ | 6/7 [00:09<00:02,  2.08s/it]"
     ]
    },
    {
     "name": "stdout",
     "output_type": "stream",
     "text": [
      "Model Was Not Saved ! Current Best Avg. Dice: 0.22872549295425415 Current Avg. Dice: 0.19256344437599182 Current Avg. tumor Dice: 0.212518110871315 Current Avg. lymph Dice: 0.17260876297950745\n"
     ]
    },
    {
     "name": "stderr",
     "output_type": "stream",
     "text": [
      "Training (3401 / 18000 Steps) (loss=0.52665): 100%|██████████| 7/7 [00:09<00:00,  1.42s/it]\n",
      "Training (3408 / 18000 Steps) (loss=0.58277): 100%|██████████| 7/7 [00:05<00:00,  1.19it/s]\n",
      "Training (3415 / 18000 Steps) (loss=0.54978): 100%|██████████| 7/7 [00:05<00:00,  1.21it/s]\n",
      "Training (3422 / 18000 Steps) (loss=0.50102): 100%|██████████| 7/7 [00:05<00:00,  1.27it/s]\n",
      "Training (3429 / 18000 Steps) (loss=0.65021): 100%|██████████| 7/7 [00:05<00:00,  1.23it/s]\n",
      "Training (3436 / 18000 Steps) (loss=0.56571): 100%|██████████| 7/7 [00:05<00:00,  1.23it/s]\n",
      "Training (3443 / 18000 Steps) (loss=0.56264): 100%|██████████| 7/7 [00:05<00:00,  1.23it/s]\n",
      "Training (3450 / 18000 Steps) (loss=0.62477): 100%|██████████| 7/7 [00:05<00:00,  1.19it/s]\n",
      "Training (3457 / 18000 Steps) (loss=0.60116): 100%|██████████| 7/7 [00:05<00:00,  1.17it/s]\n",
      "Training (3464 / 18000 Steps) (loss=0.56984): 100%|██████████| 7/7 [00:05<00:00,  1.19it/s]\n",
      "Training (3471 / 18000 Steps) (loss=0.52575): 100%|██████████| 7/7 [00:05<00:00,  1.25it/s]\n",
      "Training (3478 / 18000 Steps) (loss=0.71541): 100%|██████████| 7/7 [00:05<00:00,  1.26it/s]\n",
      "Training (3485 / 18000 Steps) (loss=0.57968): 100%|██████████| 7/7 [00:05<00:00,  1.22it/s]\n",
      "Training (3492 / 18000 Steps) (loss=0.55436): 100%|██████████| 7/7 [00:05<00:00,  1.25it/s]\n",
      "Training (3499 / 18000 Steps) (loss=0.54124): 100%|██████████| 7/7 [00:05<00:00,  1.27it/s]\n",
      "Validate (3500 / 10 Steps): 100%|██████████| 2/2 [00:04<00:00,  2.19s/it]<?, ?it/s]\n",
      "Training (3500 / 18000 Steps) (loss=0.53262):  14%|█▍        | 1/7 [00:07<00:45,  7.58s/it]"
     ]
    },
    {
     "name": "stdout",
     "output_type": "stream",
     "text": [
      "Model Was Not Saved ! Current Best Avg. Dice: 0.22872549295425415 Current Avg. Dice: 0.1490950584411621 Current Avg. tumor Dice: 0.18996843695640564 Current Avg. lymph Dice: 0.10822167992591858\n"
     ]
    },
    {
     "name": "stderr",
     "output_type": "stream",
     "text": [
      "Training (3506 / 18000 Steps) (loss=0.52138): 100%|██████████| 7/7 [00:09<00:00,  1.43s/it]\n",
      "Training (3513 / 18000 Steps) (loss=0.68338): 100%|██████████| 7/7 [00:05<00:00,  1.18it/s]\n",
      "Training (3520 / 18000 Steps) (loss=0.65988): 100%|██████████| 7/7 [00:05<00:00,  1.20it/s]\n",
      "Training (3527 / 18000 Steps) (loss=0.50966): 100%|██████████| 7/7 [00:05<00:00,  1.19it/s]\n",
      "Training (3534 / 18000 Steps) (loss=0.55355): 100%|██████████| 7/7 [00:05<00:00,  1.17it/s]\n",
      "Training (3541 / 18000 Steps) (loss=0.64738): 100%|██████████| 7/7 [00:05<00:00,  1.27it/s]\n",
      "Training (3548 / 18000 Steps) (loss=0.60454): 100%|██████████| 7/7 [00:05<00:00,  1.24it/s]\n",
      "Training (3555 / 18000 Steps) (loss=0.61051): 100%|██████████| 7/7 [00:05<00:00,  1.27it/s]\n",
      "Training (3562 / 18000 Steps) (loss=0.60418): 100%|██████████| 7/7 [00:05<00:00,  1.31it/s]\n",
      "Training (3569 / 18000 Steps) (loss=0.54586): 100%|██████████| 7/7 [00:06<00:00,  1.14it/s]\n",
      "Training (3576 / 18000 Steps) (loss=0.60993): 100%|██████████| 7/7 [00:05<00:00,  1.21it/s]\n",
      "Training (3583 / 18000 Steps) (loss=0.58372): 100%|██████████| 7/7 [00:06<00:00,  1.16it/s]\n",
      "Training (3590 / 18000 Steps) (loss=0.48502): 100%|██████████| 7/7 [00:05<00:00,  1.23it/s]\n",
      "Training (3597 / 18000 Steps) (loss=0.60131): 100%|██████████| 7/7 [00:05<00:00,  1.21it/s]\n",
      "Validate (3598 / 10 Steps): 100%|██████████| 2/2 [00:04<00:00,  2.21s/it]<00:08,  1.63s/it]\n",
      "Training (3600 / 18000 Steps) (loss=0.57398):  43%|████▎     | 3/7 [00:08<00:12,  3.11s/it]"
     ]
    },
    {
     "name": "stdout",
     "output_type": "stream",
     "text": [
      "Model Was Not Saved ! Current Best Avg. Dice: 0.22872549295425415 Current Avg. Dice: 0.19487953186035156 Current Avg. tumor Dice: 0.19651883840560913 Current Avg. lymph Dice: 0.193240225315094\n"
     ]
    },
    {
     "name": "stderr",
     "output_type": "stream",
     "text": [
      "Training (3604 / 18000 Steps) (loss=0.60300): 100%|██████████| 7/7 [00:10<00:00,  1.46s/it]\n",
      "Training (3611 / 18000 Steps) (loss=0.54767): 100%|██████████| 7/7 [00:05<00:00,  1.23it/s]\n",
      "Training (3618 / 18000 Steps) (loss=0.42233): 100%|██████████| 7/7 [00:06<00:00,  1.15it/s]\n",
      "Training (3625 / 18000 Steps) (loss=0.55223): 100%|██████████| 7/7 [00:05<00:00,  1.25it/s]\n",
      "Training (3632 / 18000 Steps) (loss=0.67562): 100%|██████████| 7/7 [00:05<00:00,  1.23it/s]\n",
      "Training (3639 / 18000 Steps) (loss=0.58706): 100%|██████████| 7/7 [00:05<00:00,  1.24it/s]\n",
      "Training (3646 / 18000 Steps) (loss=0.61692): 100%|██████████| 7/7 [00:05<00:00,  1.22it/s]\n",
      "Training (3653 / 18000 Steps) (loss=0.53006): 100%|██████████| 7/7 [00:05<00:00,  1.25it/s]\n",
      "Training (3660 / 18000 Steps) (loss=0.63768): 100%|██████████| 7/7 [00:05<00:00,  1.23it/s]\n",
      "Training (3667 / 18000 Steps) (loss=0.54543): 100%|██████████| 7/7 [00:06<00:00,  1.16it/s]\n",
      "Training (3674 / 18000 Steps) (loss=0.59884): 100%|██████████| 7/7 [00:05<00:00,  1.28it/s]\n",
      "Training (3681 / 18000 Steps) (loss=0.65647): 100%|██████████| 7/7 [00:05<00:00,  1.20it/s]\n",
      "Training (3688 / 18000 Steps) (loss=0.57371): 100%|██████████| 7/7 [00:05<00:00,  1.22it/s]\n",
      "Training (3695 / 18000 Steps) (loss=0.46795): 100%|██████████| 7/7 [00:05<00:00,  1.28it/s]\n",
      "Validate (3696 / 10 Steps): 100%|██████████| 2/2 [00:04<00:00,  2.24s/it]<00:02,  1.23it/s]\n",
      "Training (3700 / 18000 Steps) (loss=0.52013):  71%|███████▏  | 5/7 [00:10<00:05,  2.55s/it]"
     ]
    },
    {
     "name": "stdout",
     "output_type": "stream",
     "text": [
      "Model Was Saved ! Current Best Avg. Dice: 0.23343069851398468 Current Avg. Dice: 0.23343069851398468 Current Avg. tumor Dice: 0.25815829634666443 Current Avg. lymph Dice: 0.20870310068130493\n"
     ]
    },
    {
     "name": "stderr",
     "output_type": "stream",
     "text": [
      "Training (3702 / 18000 Steps) (loss=0.62767): 100%|██████████| 7/7 [00:10<00:00,  1.56s/it]\n",
      "Training (3709 / 18000 Steps) (loss=0.54384): 100%|██████████| 7/7 [00:05<00:00,  1.21it/s]\n",
      "Training (3716 / 18000 Steps) (loss=0.60165): 100%|██████████| 7/7 [00:05<00:00,  1.25it/s]\n",
      "Training (3723 / 18000 Steps) (loss=0.50787): 100%|██████████| 7/7 [00:05<00:00,  1.27it/s]\n",
      "Training (3730 / 18000 Steps) (loss=0.55288): 100%|██████████| 7/7 [00:05<00:00,  1.17it/s]\n",
      "Training (3737 / 18000 Steps) (loss=0.63561): 100%|██████████| 7/7 [00:06<00:00,  1.14it/s]\n",
      "Training (3744 / 18000 Steps) (loss=0.54001): 100%|██████████| 7/7 [00:05<00:00,  1.21it/s]\n",
      "Training (3751 / 18000 Steps) (loss=0.64472): 100%|██████████| 7/7 [00:05<00:00,  1.24it/s]\n",
      "Training (3758 / 18000 Steps) (loss=0.67610): 100%|██████████| 7/7 [00:05<00:00,  1.27it/s]\n",
      "Training (3765 / 18000 Steps) (loss=0.63150): 100%|██████████| 7/7 [00:05<00:00,  1.27it/s]\n",
      "Training (3772 / 18000 Steps) (loss=0.52535): 100%|██████████| 7/7 [00:05<00:00,  1.25it/s]\n",
      "Training (3779 / 18000 Steps) (loss=0.61335): 100%|██████████| 7/7 [00:05<00:00,  1.19it/s]\n",
      "Training (3786 / 18000 Steps) (loss=0.65322): 100%|██████████| 7/7 [00:05<00:00,  1.24it/s]\n",
      "Training (3793 / 18000 Steps) (loss=0.70381): 100%|██████████| 7/7 [00:05<00:00,  1.20it/s]\n",
      "Validate (3794 / 10 Steps): 100%|██████████| 2/2 [00:04<00:00,  2.16s/it]<00:00,  1.75it/s]\n",
      "Training (3800 / 18000 Steps) (loss=0.60369): 100%|██████████| 7/7 [00:09<00:00,  1.42s/it]\n"
     ]
    },
    {
     "name": "stdout",
     "output_type": "stream",
     "text": [
      "Model Was Not Saved ! Current Best Avg. Dice: 0.23343069851398468 Current Avg. Dice: 0.17236003279685974 Current Avg. tumor Dice: 0.1832057684659958 Current Avg. lymph Dice: 0.1615143120288849\n"
     ]
    },
    {
     "name": "stderr",
     "output_type": "stream",
     "text": [
      "Training (3807 / 18000 Steps) (loss=0.70283): 100%|██████████| 7/7 [00:05<00:00,  1.20it/s]\n",
      "Training (3814 / 18000 Steps) (loss=0.44562): 100%|██████████| 7/7 [00:05<00:00,  1.22it/s]\n",
      "Training (3821 / 18000 Steps) (loss=0.55565): 100%|██████████| 7/7 [00:06<00:00,  1.15it/s]\n",
      "Training (3828 / 18000 Steps) (loss=0.62695): 100%|██████████| 7/7 [00:05<00:00,  1.24it/s]\n",
      "Training (3835 / 18000 Steps) (loss=0.58452): 100%|██████████| 7/7 [00:05<00:00,  1.24it/s]\n",
      "Training (3842 / 18000 Steps) (loss=0.64670): 100%|██████████| 7/7 [00:05<00:00,  1.22it/s]\n",
      "Training (3849 / 18000 Steps) (loss=0.69739): 100%|██████████| 7/7 [00:05<00:00,  1.28it/s]\n",
      "Training (3856 / 18000 Steps) (loss=0.53843): 100%|██████████| 7/7 [00:05<00:00,  1.25it/s]\n",
      "Training (3863 / 18000 Steps) (loss=0.64698): 100%|██████████| 7/7 [00:05<00:00,  1.19it/s]\n",
      "Training (3870 / 18000 Steps) (loss=0.59639): 100%|██████████| 7/7 [00:05<00:00,  1.27it/s]\n",
      "Training (3877 / 18000 Steps) (loss=0.55486): 100%|██████████| 7/7 [00:05<00:00,  1.21it/s]\n",
      "Training (3884 / 18000 Steps) (loss=0.61331): 100%|██████████| 7/7 [00:05<00:00,  1.28it/s]\n",
      "Training (3891 / 18000 Steps) (loss=0.56391): 100%|██████████| 7/7 [00:05<00:00,  1.30it/s]\n",
      "Training (3898 / 18000 Steps) (loss=0.47373): 100%|██████████| 7/7 [00:05<00:00,  1.23it/s]\n",
      "Validate (3899 / 10 Steps): 100%|██████████| 2/2 [00:04<00:00,  2.32s/it]<00:21,  3.57s/it]\n",
      "Training (3900 / 18000 Steps) (loss=0.52201):  29%|██▊       | 2/7 [00:08<00:22,  4.46s/it]"
     ]
    },
    {
     "name": "stdout",
     "output_type": "stream",
     "text": [
      "Model Was Not Saved ! Current Best Avg. Dice: 0.23343069851398468 Current Avg. Dice: 0.18821795284748077 Current Avg. tumor Dice: 0.2095407098531723 Current Avg. lymph Dice: 0.16689521074295044\n"
     ]
    },
    {
     "name": "stderr",
     "output_type": "stream",
     "text": [
      "Training (3905 / 18000 Steps) (loss=0.64420): 100%|██████████| 7/7 [00:10<00:00,  1.52s/it]\n",
      "Training (3912 / 18000 Steps) (loss=0.54060): 100%|██████████| 7/7 [00:05<00:00,  1.20it/s]\n",
      "Training (3919 / 18000 Steps) (loss=0.54675): 100%|██████████| 7/7 [00:05<00:00,  1.21it/s]\n",
      "Training (3926 / 18000 Steps) (loss=0.60579): 100%|██████████| 7/7 [00:05<00:00,  1.29it/s]\n",
      "Training (3933 / 18000 Steps) (loss=0.71490): 100%|██████████| 7/7 [00:05<00:00,  1.28it/s]\n",
      "Training (3940 / 18000 Steps) (loss=0.68310): 100%|██████████| 7/7 [00:05<00:00,  1.30it/s]\n",
      "Training (3947 / 18000 Steps) (loss=0.49462): 100%|██████████| 7/7 [00:05<00:00,  1.32it/s]\n",
      "Training (3954 / 18000 Steps) (loss=0.62699): 100%|██████████| 7/7 [00:05<00:00,  1.26it/s]\n",
      "Training (3961 / 18000 Steps) (loss=0.55237): 100%|██████████| 7/7 [00:05<00:00,  1.26it/s]\n",
      "Training (3968 / 18000 Steps) (loss=0.57557): 100%|██████████| 7/7 [00:05<00:00,  1.26it/s]\n",
      "Training (3975 / 18000 Steps) (loss=0.49126): 100%|██████████| 7/7 [00:05<00:00,  1.26it/s]\n",
      "Training (3982 / 18000 Steps) (loss=0.58476): 100%|██████████| 7/7 [00:05<00:00,  1.20it/s]\n",
      "Training (3989 / 18000 Steps) (loss=0.62261): 100%|██████████| 7/7 [00:05<00:00,  1.25it/s]\n",
      "Training (3996 / 18000 Steps) (loss=0.35613): 100%|██████████| 7/7 [00:05<00:00,  1.27it/s]\n",
      "Validate (3997 / 10 Steps): 100%|██████████| 2/2 [00:04<00:00,  2.21s/it]<00:04,  1.05s/it]\n",
      "Training (4000 / 18000 Steps) (loss=0.58433):  57%|█████▋    | 4/7 [00:08<00:07,  2.56s/it]"
     ]
    },
    {
     "name": "stdout",
     "output_type": "stream",
     "text": [
      "Model Was Not Saved ! Current Best Avg. Dice: 0.23343069851398468 Current Avg. Dice: 0.15641632676124573 Current Avg. tumor Dice: 0.19219130277633667 Current Avg. lymph Dice: 0.12064135819673538\n"
     ]
    },
    {
     "name": "stderr",
     "output_type": "stream",
     "text": [
      "Training (4003 / 18000 Steps) (loss=0.62662): 100%|██████████| 7/7 [00:10<00:00,  1.44s/it]\n",
      "Training (4010 / 18000 Steps) (loss=0.58721): 100%|██████████| 7/7 [00:05<00:00,  1.20it/s]\n",
      "Training (4017 / 18000 Steps) (loss=0.58430): 100%|██████████| 7/7 [00:05<00:00,  1.22it/s]\n",
      "Training (4024 / 18000 Steps) (loss=0.58174): 100%|██████████| 7/7 [00:05<00:00,  1.23it/s]\n",
      "Training (4031 / 18000 Steps) (loss=0.62085): 100%|██████████| 7/7 [00:05<00:00,  1.28it/s]\n",
      "Training (4038 / 18000 Steps) (loss=0.68087): 100%|██████████| 7/7 [00:05<00:00,  1.30it/s]\n",
      "Training (4045 / 18000 Steps) (loss=0.64489): 100%|██████████| 7/7 [00:05<00:00,  1.31it/s]\n",
      "Training (4052 / 18000 Steps) (loss=0.52725): 100%|██████████| 7/7 [00:05<00:00,  1.28it/s]\n",
      "Training (4059 / 18000 Steps) (loss=0.52324): 100%|██████████| 7/7 [00:05<00:00,  1.29it/s]\n",
      "Training (4066 / 18000 Steps) (loss=0.57807): 100%|██████████| 7/7 [00:05<00:00,  1.24it/s]\n",
      "Training (4073 / 18000 Steps) (loss=0.56756): 100%|██████████| 7/7 [00:05<00:00,  1.23it/s]\n",
      "Training (4080 / 18000 Steps) (loss=0.57928): 100%|██████████| 7/7 [00:05<00:00,  1.34it/s]\n",
      "Training (4087 / 18000 Steps) (loss=0.56342): 100%|██████████| 7/7 [00:05<00:00,  1.23it/s]\n",
      "Training (4094 / 18000 Steps) (loss=0.55681): 100%|██████████| 7/7 [00:05<00:00,  1.30it/s]\n",
      "Validate (4095 / 10 Steps): 100%|██████████| 2/2 [00:04<00:00,  2.18s/it]<00:01,  1.59it/s]\n",
      "Training (4100 / 18000 Steps) (loss=0.59416):  86%|████████▌ | 6/7 [00:09<00:02,  2.05s/it]"
     ]
    },
    {
     "name": "stdout",
     "output_type": "stream",
     "text": [
      "Model Was Not Saved ! Current Best Avg. Dice: 0.23343069851398468 Current Avg. Dice: 0.20379379391670227 Current Avg. tumor Dice: 0.22373251616954803 Current Avg. lymph Dice: 0.1838550567626953\n"
     ]
    },
    {
     "name": "stderr",
     "output_type": "stream",
     "text": [
      "Training (4101 / 18000 Steps) (loss=0.53742): 100%|██████████| 7/7 [00:09<00:00,  1.38s/it]\n",
      "Training (4108 / 18000 Steps) (loss=0.52828): 100%|██████████| 7/7 [00:05<00:00,  1.24it/s]\n",
      "Training (4115 / 18000 Steps) (loss=0.43422): 100%|██████████| 7/7 [00:05<00:00,  1.24it/s]\n",
      "Training (4122 / 18000 Steps) (loss=0.62995): 100%|██████████| 7/7 [00:05<00:00,  1.21it/s]\n",
      "Training (4129 / 18000 Steps) (loss=0.51844): 100%|██████████| 7/7 [00:05<00:00,  1.30it/s]\n",
      "Training (4136 / 18000 Steps) (loss=0.57623): 100%|██████████| 7/7 [00:05<00:00,  1.32it/s]\n",
      "Training (4143 / 18000 Steps) (loss=0.42631): 100%|██████████| 7/7 [00:05<00:00,  1.32it/s]\n",
      "Training (4150 / 18000 Steps) (loss=0.55889): 100%|██████████| 7/7 [00:05<00:00,  1.27it/s]\n",
      "Training (4157 / 18000 Steps) (loss=0.45087): 100%|██████████| 7/7 [00:05<00:00,  1.21it/s]\n",
      "Training (4164 / 18000 Steps) (loss=0.61632): 100%|██████████| 7/7 [00:05<00:00,  1.27it/s]\n",
      "Training (4171 / 18000 Steps) (loss=0.68430): 100%|██████████| 7/7 [00:05<00:00,  1.30it/s]\n",
      "Training (4178 / 18000 Steps) (loss=0.57188): 100%|██████████| 7/7 [00:05<00:00,  1.26it/s]\n",
      "Training (4185 / 18000 Steps) (loss=0.60356): 100%|██████████| 7/7 [00:05<00:00,  1.25it/s]\n",
      "Training (4192 / 18000 Steps) (loss=0.69797): 100%|██████████| 7/7 [00:05<00:00,  1.24it/s]\n",
      "Training (4199 / 18000 Steps) (loss=0.57382): 100%|██████████| 7/7 [00:05<00:00,  1.23it/s]\n",
      "Validate (4200 / 10 Steps): 100%|██████████| 2/2 [00:04<00:00,  2.13s/it]<?, ?it/s]\n",
      "Training (4200 / 18000 Steps) (loss=0.51155):  14%|█▍        | 1/7 [00:07<00:43,  7.29s/it]"
     ]
    },
    {
     "name": "stdout",
     "output_type": "stream",
     "text": [
      "Model Was Not Saved ! Current Best Avg. Dice: 0.23343069851398468 Current Avg. Dice: 0.23175105452537537 Current Avg. tumor Dice: 0.2569064199924469 Current Avg. lymph Dice: 0.20659571886062622\n"
     ]
    },
    {
     "name": "stderr",
     "output_type": "stream",
     "text": [
      "Training (4206 / 18000 Steps) (loss=0.63010): 100%|██████████| 7/7 [00:09<00:00,  1.39s/it]\n",
      "Training (4213 / 18000 Steps) (loss=0.59848): 100%|██████████| 7/7 [00:05<00:00,  1.27it/s]\n",
      "Training (4220 / 18000 Steps) (loss=0.53089): 100%|██████████| 7/7 [00:05<00:00,  1.28it/s]\n",
      "Training (4227 / 18000 Steps) (loss=0.52521): 100%|██████████| 7/7 [00:05<00:00,  1.21it/s]\n",
      "Training (4234 / 18000 Steps) (loss=0.56691): 100%|██████████| 7/7 [00:06<00:00,  1.15it/s]\n",
      "Training (4241 / 18000 Steps) (loss=0.60656): 100%|██████████| 7/7 [00:05<00:00,  1.22it/s]\n",
      "Training (4248 / 18000 Steps) (loss=0.64096): 100%|██████████| 7/7 [00:05<00:00,  1.19it/s]\n",
      "Training (4255 / 18000 Steps) (loss=0.57936): 100%|██████████| 7/7 [00:05<00:00,  1.28it/s]\n",
      "Training (4262 / 18000 Steps) (loss=0.49216): 100%|██████████| 7/7 [00:05<00:00,  1.27it/s]\n",
      "Training (4269 / 18000 Steps) (loss=0.50484): 100%|██████████| 7/7 [00:05<00:00,  1.20it/s]\n",
      "Training (4276 / 18000 Steps) (loss=0.59143): 100%|██████████| 7/7 [00:05<00:00,  1.21it/s]\n",
      "Training (4283 / 18000 Steps) (loss=0.57299): 100%|██████████| 7/7 [00:05<00:00,  1.24it/s]\n",
      "Training (4290 / 18000 Steps) (loss=0.59686): 100%|██████████| 7/7 [00:05<00:00,  1.20it/s]\n",
      "Training (4297 / 18000 Steps) (loss=0.55450): 100%|██████████| 7/7 [00:05<00:00,  1.28it/s]\n",
      "Validate (4298 / 10 Steps): 100%|██████████| 2/2 [00:04<00:00,  2.25s/it]<00:08,  1.68s/it]\n",
      "Training (4300 / 18000 Steps) (loss=0.43640):  43%|████▎     | 3/7 [00:08<00:12,  3.18s/it]"
     ]
    },
    {
     "name": "stdout",
     "output_type": "stream",
     "text": [
      "Model Was Not Saved ! Current Best Avg. Dice: 0.23343069851398468 Current Avg. Dice: 0.2271537333726883 Current Avg. tumor Dice: 0.30807623267173767 Current Avg. lymph Dice: 0.14623123407363892\n"
     ]
    },
    {
     "name": "stderr",
     "output_type": "stream",
     "text": [
      "Training (4304 / 18000 Steps) (loss=0.67776): 100%|██████████| 7/7 [00:10<00:00,  1.49s/it]\n",
      "Training (4311 / 18000 Steps) (loss=0.70231): 100%|██████████| 7/7 [00:05<00:00,  1.24it/s]\n",
      "Training (4318 / 18000 Steps) (loss=0.48484): 100%|██████████| 7/7 [00:05<00:00,  1.20it/s]\n",
      "Training (4325 / 18000 Steps) (loss=0.53342): 100%|██████████| 7/7 [00:05<00:00,  1.25it/s]\n",
      "Training (4332 / 18000 Steps) (loss=0.38048): 100%|██████████| 7/7 [00:05<00:00,  1.28it/s]\n",
      "Training (4339 / 18000 Steps) (loss=0.41997): 100%|██████████| 7/7 [00:05<00:00,  1.29it/s]\n",
      "Training (4346 / 18000 Steps) (loss=0.41085): 100%|██████████| 7/7 [00:05<00:00,  1.27it/s]\n",
      "Training (4353 / 18000 Steps) (loss=0.53003): 100%|██████████| 7/7 [00:05<00:00,  1.21it/s]\n",
      "Training (4360 / 18000 Steps) (loss=0.60033): 100%|██████████| 7/7 [00:05<00:00,  1.19it/s]\n",
      "Training (4367 / 18000 Steps) (loss=0.50430): 100%|██████████| 7/7 [00:05<00:00,  1.27it/s]\n",
      "Training (4374 / 18000 Steps) (loss=0.59355): 100%|██████████| 7/7 [00:05<00:00,  1.24it/s]\n",
      "Training (4381 / 18000 Steps) (loss=0.47654): 100%|██████████| 7/7 [00:05<00:00,  1.24it/s]\n",
      "Training (4388 / 18000 Steps) (loss=0.61956): 100%|██████████| 7/7 [00:05<00:00,  1.25it/s]\n",
      "Training (4395 / 18000 Steps) (loss=0.51277): 100%|██████████| 7/7 [00:05<00:00,  1.25it/s]\n",
      "Validate (4396 / 10 Steps): 100%|██████████| 2/2 [00:04<00:00,  2.09s/it]<00:02,  1.31it/s]\n",
      "Training (4400 / 18000 Steps) (loss=0.59684):  71%|███████▏  | 5/7 [00:08<00:04,  2.16s/it]"
     ]
    },
    {
     "name": "stdout",
     "output_type": "stream",
     "text": [
      "Model Was Not Saved ! Current Best Avg. Dice: 0.23343069851398468 Current Avg. Dice: 0.2219492495059967 Current Avg. tumor Dice: 0.28131380677223206 Current Avg. lymph Dice: 0.16258466243743896\n"
     ]
    },
    {
     "name": "stderr",
     "output_type": "stream",
     "text": [
      "Training (4402 / 18000 Steps) (loss=0.43319): 100%|██████████| 7/7 [00:09<00:00,  1.38s/it]\n",
      "Training (4409 / 18000 Steps) (loss=0.50913): 100%|██████████| 7/7 [00:05<00:00,  1.21it/s]\n",
      "Training (4416 / 18000 Steps) (loss=0.58037): 100%|██████████| 7/7 [00:05<00:00,  1.25it/s]\n",
      "Training (4423 / 18000 Steps) (loss=0.65280): 100%|██████████| 7/7 [00:05<00:00,  1.24it/s]\n",
      "Training (4430 / 18000 Steps) (loss=0.54881): 100%|██████████| 7/7 [00:05<00:00,  1.23it/s]\n",
      "Training (4437 / 18000 Steps) (loss=0.67476): 100%|██████████| 7/7 [00:05<00:00,  1.20it/s]\n",
      "Training (4444 / 18000 Steps) (loss=0.60010): 100%|██████████| 7/7 [00:05<00:00,  1.25it/s]\n",
      "Training (4451 / 18000 Steps) (loss=0.57221): 100%|██████████| 7/7 [00:05<00:00,  1.27it/s]\n",
      "Training (4458 / 18000 Steps) (loss=0.51884): 100%|██████████| 7/7 [00:05<00:00,  1.28it/s]\n",
      "Training (4465 / 18000 Steps) (loss=0.50632): 100%|██████████| 7/7 [00:05<00:00,  1.26it/s]\n",
      "Training (4472 / 18000 Steps) (loss=0.45896): 100%|██████████| 7/7 [00:05<00:00,  1.25it/s]\n",
      "Training (4479 / 18000 Steps) (loss=0.50324): 100%|██████████| 7/7 [00:06<00:00,  1.15it/s]\n",
      "Training (4486 / 18000 Steps) (loss=0.58878): 100%|██████████| 7/7 [00:06<00:00,  1.15it/s]\n",
      "Training (4493 / 18000 Steps) (loss=0.47210): 100%|██████████| 7/7 [00:05<00:00,  1.23it/s]\n",
      "Validate (4494 / 10 Steps): 100%|██████████| 2/2 [00:04<00:00,  2.18s/it]<00:00,  1.69it/s]\n",
      "Training (4500 / 18000 Steps) (loss=0.45026): 100%|██████████| 7/7 [00:10<00:00,  1.46s/it]\n"
     ]
    },
    {
     "name": "stdout",
     "output_type": "stream",
     "text": [
      "Model Was Not Saved ! Current Best Avg. Dice: 0.23343069851398468 Current Avg. Dice: 0.22887101769447327 Current Avg. tumor Dice: 0.2791392505168915 Current Avg. lymph Dice: 0.17860278487205505\n"
     ]
    },
    {
     "name": "stderr",
     "output_type": "stream",
     "text": [
      "Training (4507 / 18000 Steps) (loss=0.44479): 100%|██████████| 7/7 [00:05<00:00,  1.29it/s]\n",
      "Training (4514 / 18000 Steps) (loss=0.53768): 100%|██████████| 7/7 [00:05<00:00,  1.26it/s]\n",
      "Training (4521 / 18000 Steps) (loss=0.49645): 100%|██████████| 7/7 [00:05<00:00,  1.25it/s]\n",
      "Training (4528 / 18000 Steps) (loss=0.52073): 100%|██████████| 7/7 [00:05<00:00,  1.30it/s]\n",
      "Training (4535 / 18000 Steps) (loss=0.63347): 100%|██████████| 7/7 [00:05<00:00,  1.24it/s]\n",
      "Training (4542 / 18000 Steps) (loss=0.60704): 100%|██████████| 7/7 [00:05<00:00,  1.29it/s]\n",
      "Training (4549 / 18000 Steps) (loss=0.49973): 100%|██████████| 7/7 [00:05<00:00,  1.30it/s]\n",
      "Training (4556 / 18000 Steps) (loss=0.36940): 100%|██████████| 7/7 [00:05<00:00,  1.27it/s]\n",
      "Training (4563 / 18000 Steps) (loss=0.53828): 100%|██████████| 7/7 [00:05<00:00,  1.26it/s]\n",
      "Training (4570 / 18000 Steps) (loss=0.43225): 100%|██████████| 7/7 [00:05<00:00,  1.23it/s]\n",
      "Training (4577 / 18000 Steps) (loss=0.53034): 100%|██████████| 7/7 [00:05<00:00,  1.27it/s]\n",
      "Training (4584 / 18000 Steps) (loss=0.46478): 100%|██████████| 7/7 [00:05<00:00,  1.32it/s]\n",
      "Training (4591 / 18000 Steps) (loss=0.68050): 100%|██████████| 7/7 [00:05<00:00,  1.23it/s]\n",
      "Training (4598 / 18000 Steps) (loss=0.52844): 100%|██████████| 7/7 [00:05<00:00,  1.30it/s]\n",
      "Validate (4599 / 10 Steps): 100%|██████████| 2/2 [00:04<00:00,  2.23s/it]<00:18,  3.16s/it]\n",
      "Training (4600 / 18000 Steps) (loss=0.56755):  29%|██▊       | 2/7 [00:08<00:20,  4.19s/it]"
     ]
    },
    {
     "name": "stdout",
     "output_type": "stream",
     "text": [
      "Model Was Not Saved ! Current Best Avg. Dice: 0.23343069851398468 Current Avg. Dice: 0.19436833262443542 Current Avg. tumor Dice: 0.22734534740447998 Current Avg. lymph Dice: 0.16139131784439087\n"
     ]
    },
    {
     "name": "stderr",
     "output_type": "stream",
     "text": [
      "Training (4605 / 18000 Steps) (loss=0.60068): 100%|██████████| 7/7 [00:10<00:00,  1.44s/it]\n",
      "Training (4612 / 18000 Steps) (loss=0.64572): 100%|██████████| 7/7 [00:05<00:00,  1.26it/s]\n",
      "Training (4619 / 18000 Steps) (loss=0.66346): 100%|██████████| 7/7 [00:05<00:00,  1.32it/s]\n",
      "Training (4626 / 18000 Steps) (loss=0.50744): 100%|██████████| 7/7 [00:05<00:00,  1.29it/s]\n",
      "Training (4633 / 18000 Steps) (loss=0.57317): 100%|██████████| 7/7 [00:05<00:00,  1.25it/s]\n",
      "Training (4640 / 18000 Steps) (loss=0.54853): 100%|██████████| 7/7 [00:05<00:00,  1.24it/s]\n",
      "Training (4647 / 18000 Steps) (loss=0.55628): 100%|██████████| 7/7 [00:05<00:00,  1.33it/s]\n",
      "Training (4654 / 18000 Steps) (loss=0.59650): 100%|██████████| 7/7 [00:05<00:00,  1.32it/s]\n",
      "Training (4661 / 18000 Steps) (loss=0.43471): 100%|██████████| 7/7 [00:05<00:00,  1.25it/s]\n",
      "Training (4668 / 18000 Steps) (loss=0.47563): 100%|██████████| 7/7 [00:05<00:00,  1.23it/s]\n",
      "Training (4675 / 18000 Steps) (loss=0.50713): 100%|██████████| 7/7 [00:05<00:00,  1.24it/s]\n",
      "Training (4682 / 18000 Steps) (loss=0.37924): 100%|██████████| 7/7 [00:05<00:00,  1.20it/s]\n",
      "Training (4689 / 18000 Steps) (loss=0.50949): 100%|██████████| 7/7 [00:05<00:00,  1.31it/s]\n",
      "Training (4696 / 18000 Steps) (loss=0.58850): 100%|██████████| 7/7 [00:05<00:00,  1.26it/s]\n",
      "Validate (4697 / 10 Steps): 100%|██████████| 2/2 [00:04<00:00,  2.09s/it]<00:04,  1.03s/it]\n",
      "Training (4700 / 18000 Steps) (loss=0.58557):  57%|█████▋    | 4/7 [00:08<00:07,  2.45s/it]"
     ]
    },
    {
     "name": "stdout",
     "output_type": "stream",
     "text": [
      "Model Was Not Saved ! Current Best Avg. Dice: 0.23343069851398468 Current Avg. Dice: 0.16224560141563416 Current Avg. tumor Dice: 0.19060897827148438 Current Avg. lymph Dice: 0.13388222455978394\n"
     ]
    },
    {
     "name": "stderr",
     "output_type": "stream",
     "text": [
      "Training (4703 / 18000 Steps) (loss=0.42212): 100%|██████████| 7/7 [00:09<00:00,  1.39s/it]\n",
      "Training (4710 / 18000 Steps) (loss=0.44093): 100%|██████████| 7/7 [00:05<00:00,  1.27it/s]\n",
      "Training (4717 / 18000 Steps) (loss=0.66021): 100%|██████████| 7/7 [00:05<00:00,  1.26it/s]\n",
      "Training (4724 / 18000 Steps) (loss=0.42746): 100%|██████████| 7/7 [00:05<00:00,  1.33it/s]\n",
      "Training (4731 / 18000 Steps) (loss=0.58812): 100%|██████████| 7/7 [00:05<00:00,  1.27it/s]\n",
      "Training (4738 / 18000 Steps) (loss=0.58049): 100%|██████████| 7/7 [00:05<00:00,  1.30it/s]\n",
      "Training (4745 / 18000 Steps) (loss=0.64279): 100%|██████████| 7/7 [00:05<00:00,  1.27it/s]\n",
      "Training (4752 / 18000 Steps) (loss=0.49132): 100%|██████████| 7/7 [00:05<00:00,  1.34it/s]\n",
      "Training (4759 / 18000 Steps) (loss=0.56520): 100%|██████████| 7/7 [00:05<00:00,  1.29it/s]\n",
      "Training (4766 / 18000 Steps) (loss=0.55726): 100%|██████████| 7/7 [00:05<00:00,  1.32it/s]\n",
      "Training (4773 / 18000 Steps) (loss=0.47324): 100%|██████████| 7/7 [00:05<00:00,  1.29it/s]\n",
      "Training (4780 / 18000 Steps) (loss=0.58666): 100%|██████████| 7/7 [00:05<00:00,  1.26it/s]\n",
      "Training (4787 / 18000 Steps) (loss=0.49934): 100%|██████████| 7/7 [00:05<00:00,  1.18it/s]\n",
      "Training (4794 / 18000 Steps) (loss=0.45272): 100%|██████████| 7/7 [00:05<00:00,  1.29it/s]\n",
      "Validate (4795 / 10 Steps): 100%|██████████| 2/2 [00:04<00:00,  2.16s/it]<00:01,  1.53it/s]\n",
      "Training (4800 / 18000 Steps) (loss=0.57013):  86%|████████▌ | 6/7 [00:09<00:02,  2.06s/it]"
     ]
    },
    {
     "name": "stdout",
     "output_type": "stream",
     "text": [
      "Model Was Not Saved ! Current Best Avg. Dice: 0.23343069851398468 Current Avg. Dice: 0.21552002429962158 Current Avg. tumor Dice: 0.28982430696487427 Current Avg. lymph Dice: 0.14121577143669128\n"
     ]
    },
    {
     "name": "stderr",
     "output_type": "stream",
     "text": [
      "Training (4801 / 18000 Steps) (loss=0.48038): 100%|██████████| 7/7 [00:09<00:00,  1.42s/it]\n",
      "Training (4808 / 18000 Steps) (loss=0.63935): 100%|██████████| 7/7 [00:05<00:00,  1.28it/s]\n",
      "Training (4815 / 18000 Steps) (loss=0.46909): 100%|██████████| 7/7 [00:05<00:00,  1.18it/s]\n",
      "Training (4822 / 18000 Steps) (loss=0.44701): 100%|██████████| 7/7 [00:05<00:00,  1.27it/s]\n",
      "Training (4829 / 18000 Steps) (loss=0.57970): 100%|██████████| 7/7 [00:05<00:00,  1.25it/s]\n",
      "Training (4836 / 18000 Steps) (loss=0.56705): 100%|██████████| 7/7 [00:05<00:00,  1.32it/s]\n",
      "Training (4843 / 18000 Steps) (loss=0.53063): 100%|██████████| 7/7 [00:05<00:00,  1.34it/s]\n",
      "Training (4850 / 18000 Steps) (loss=0.53666): 100%|██████████| 7/7 [00:05<00:00,  1.30it/s]\n",
      "Training (4857 / 18000 Steps) (loss=0.54068): 100%|██████████| 7/7 [00:05<00:00,  1.23it/s]\n",
      "Training (4864 / 18000 Steps) (loss=0.47788): 100%|██████████| 7/7 [00:05<00:00,  1.29it/s]\n",
      "Training (4871 / 18000 Steps) (loss=0.62012): 100%|██████████| 7/7 [00:05<00:00,  1.33it/s]\n",
      "Training (4878 / 18000 Steps) (loss=0.57896): 100%|██████████| 7/7 [00:05<00:00,  1.32it/s]\n",
      "Training (4885 / 18000 Steps) (loss=0.52465): 100%|██████████| 7/7 [00:05<00:00,  1.32it/s]\n",
      "Training (4892 / 18000 Steps) (loss=0.65631): 100%|██████████| 7/7 [00:05<00:00,  1.25it/s]\n",
      "Training (4899 / 18000 Steps) (loss=0.54097): 100%|██████████| 7/7 [00:05<00:00,  1.23it/s]\n",
      "Validate (4900 / 10 Steps): 100%|██████████| 2/2 [00:04<00:00,  2.15s/it]<?, ?it/s]\n",
      "Training (4900 / 18000 Steps) (loss=0.56462):  14%|█▍        | 1/7 [00:07<00:44,  7.42s/it]"
     ]
    },
    {
     "name": "stdout",
     "output_type": "stream",
     "text": [
      "Model Was Not Saved ! Current Best Avg. Dice: 0.23343069851398468 Current Avg. Dice: 0.1724553406238556 Current Avg. tumor Dice: 0.2646852433681488 Current Avg. lymph Dice: 0.08022546023130417\n"
     ]
    },
    {
     "name": "stderr",
     "output_type": "stream",
     "text": [
      "Training (4906 / 18000 Steps) (loss=0.39095): 100%|██████████| 7/7 [00:09<00:00,  1.40s/it]\n",
      "Training (4913 / 18000 Steps) (loss=0.50662): 100%|██████████| 7/7 [00:05<00:00,  1.32it/s]\n",
      "Training (4920 / 18000 Steps) (loss=0.66784): 100%|██████████| 7/7 [00:05<00:00,  1.30it/s]\n",
      "Training (4927 / 18000 Steps) (loss=0.56367): 100%|██████████| 7/7 [00:05<00:00,  1.23it/s]\n",
      "Training (4934 / 18000 Steps) (loss=0.47182): 100%|██████████| 7/7 [00:05<00:00,  1.21it/s]\n",
      "Training (4941 / 18000 Steps) (loss=0.52259): 100%|██████████| 7/7 [00:05<00:00,  1.29it/s]\n",
      "Training (4948 / 18000 Steps) (loss=0.48852): 100%|██████████| 7/7 [00:05<00:00,  1.30it/s]\n",
      "Training (4955 / 18000 Steps) (loss=0.55731): 100%|██████████| 7/7 [00:05<00:00,  1.26it/s]\n",
      "Training (4962 / 18000 Steps) (loss=0.52290): 100%|██████████| 7/7 [00:05<00:00,  1.32it/s]\n",
      "Training (4969 / 18000 Steps) (loss=0.47243): 100%|██████████| 7/7 [00:05<00:00,  1.24it/s]\n",
      "Training (4976 / 18000 Steps) (loss=0.54230): 100%|██████████| 7/7 [00:05<00:00,  1.19it/s]\n",
      "Training (4983 / 18000 Steps) (loss=0.60325): 100%|██████████| 7/7 [00:05<00:00,  1.23it/s]\n",
      "Training (4990 / 18000 Steps) (loss=0.67473): 100%|██████████| 7/7 [00:05<00:00,  1.25it/s]\n",
      "Training (4997 / 18000 Steps) (loss=0.49323): 100%|██████████| 7/7 [00:05<00:00,  1.35it/s]\n",
      "Validate (4998 / 10 Steps): 100%|██████████| 2/2 [00:04<00:00,  2.13s/it]<00:07,  1.52s/it]\n",
      "Training (5000 / 18000 Steps) (loss=0.52688):  43%|████▎     | 3/7 [00:08<00:13,  3.31s/it]"
     ]
    },
    {
     "name": "stdout",
     "output_type": "stream",
     "text": [
      "Model Was Saved ! Current Best Avg. Dice: 0.23687997460365295 Current Avg. Dice: 0.23687997460365295 Current Avg. tumor Dice: 0.25692322850227356 Current Avg. lymph Dice: 0.21683666110038757\n"
     ]
    },
    {
     "name": "stderr",
     "output_type": "stream",
     "text": [
      "Training (5004 / 18000 Steps) (loss=0.58270): 100%|██████████| 7/7 [00:10<00:00,  1.50s/it]\n",
      "Training (5011 / 18000 Steps) (loss=0.59896): 100%|██████████| 7/7 [00:05<00:00,  1.27it/s]\n",
      "Training (5018 / 18000 Steps) (loss=0.62485): 100%|██████████| 7/7 [00:05<00:00,  1.20it/s]\n",
      "Training (5025 / 18000 Steps) (loss=0.53643): 100%|██████████| 7/7 [00:05<00:00,  1.23it/s]\n",
      "Training (5032 / 18000 Steps) (loss=0.37450): 100%|██████████| 7/7 [00:05<00:00,  1.27it/s]\n",
      "Training (5039 / 18000 Steps) (loss=0.60276): 100%|██████████| 7/7 [00:05<00:00,  1.25it/s]\n",
      "Training (5046 / 18000 Steps) (loss=0.51260): 100%|██████████| 7/7 [00:05<00:00,  1.34it/s]\n",
      "Training (5053 / 18000 Steps) (loss=0.51770): 100%|██████████| 7/7 [00:05<00:00,  1.26it/s]\n",
      "Training (5060 / 18000 Steps) (loss=0.50812): 100%|██████████| 7/7 [00:05<00:00,  1.24it/s]\n",
      "Training (5067 / 18000 Steps) (loss=0.45150): 100%|██████████| 7/7 [00:05<00:00,  1.22it/s]\n",
      "Training (5074 / 18000 Steps) (loss=0.46274): 100%|██████████| 7/7 [00:05<00:00,  1.25it/s]\n",
      "Training (5081 / 18000 Steps) (loss=0.57819): 100%|██████████| 7/7 [00:05<00:00,  1.24it/s]\n",
      "Training (5088 / 18000 Steps) (loss=0.32702): 100%|██████████| 7/7 [00:05<00:00,  1.32it/s]\n",
      "Training (5095 / 18000 Steps) (loss=0.55744): 100%|██████████| 7/7 [00:05<00:00,  1.28it/s]\n",
      "Validate (5096 / 10 Steps): 100%|██████████| 2/2 [00:04<00:00,  2.20s/it]<00:02,  1.27it/s]\n",
      "Training (5100 / 18000 Steps) (loss=0.47522):  71%|███████▏  | 5/7 [00:10<00:05,  2.53s/it]"
     ]
    },
    {
     "name": "stdout",
     "output_type": "stream",
     "text": [
      "Model Was Saved ! Current Best Avg. Dice: 0.23747672140598297 Current Avg. Dice: 0.23747672140598297 Current Avg. tumor Dice: 0.2618796229362488 Current Avg. lymph Dice: 0.21307383477687836\n"
     ]
    },
    {
     "name": "stderr",
     "output_type": "stream",
     "text": [
      "Training (5102 / 18000 Steps) (loss=0.40042): 100%|██████████| 7/7 [00:10<00:00,  1.54s/it]\n",
      "Training (5109 / 18000 Steps) (loss=0.59165): 100%|██████████| 7/7 [00:05<00:00,  1.29it/s]\n",
      "Training (5116 / 18000 Steps) (loss=0.46092): 100%|██████████| 7/7 [00:05<00:00,  1.27it/s]\n",
      "Training (5123 / 18000 Steps) (loss=0.67911): 100%|██████████| 7/7 [00:05<00:00,  1.26it/s]\n",
      "Training (5130 / 18000 Steps) (loss=0.57262): 100%|██████████| 7/7 [00:05<00:00,  1.29it/s]\n",
      "Training (5137 / 18000 Steps) (loss=0.52879): 100%|██████████| 7/7 [00:05<00:00,  1.21it/s]\n",
      "Training (5144 / 18000 Steps) (loss=0.44562): 100%|██████████| 7/7 [00:05<00:00,  1.19it/s]\n",
      "Training (5151 / 18000 Steps) (loss=0.59838): 100%|██████████| 7/7 [00:05<00:00,  1.30it/s]\n",
      "Training (5158 / 18000 Steps) (loss=0.73307): 100%|██████████| 7/7 [00:05<00:00,  1.23it/s]\n",
      "Training (5165 / 18000 Steps) (loss=0.58343): 100%|██████████| 7/7 [00:05<00:00,  1.27it/s]\n",
      "Training (5172 / 18000 Steps) (loss=0.47704): 100%|██████████| 7/7 [00:05<00:00,  1.26it/s]\n",
      "Training (5179 / 18000 Steps) (loss=0.49666): 100%|██████████| 7/7 [00:05<00:00,  1.25it/s]\n",
      "Training (5186 / 18000 Steps) (loss=0.60664): 100%|██████████| 7/7 [00:05<00:00,  1.26it/s]\n",
      "Training (5193 / 18000 Steps) (loss=0.53037): 100%|██████████| 7/7 [00:05<00:00,  1.24it/s]\n",
      "Validate (5194 / 10 Steps): 100%|██████████| 2/2 [00:04<00:00,  2.09s/it]<00:00,  1.78it/s]\n",
      "Training (5200 / 18000 Steps) (loss=0.51243): 100%|██████████| 7/7 [00:09<00:00,  1.37s/it]\n"
     ]
    },
    {
     "name": "stdout",
     "output_type": "stream",
     "text": [
      "Model Was Not Saved ! Current Best Avg. Dice: 0.23747672140598297 Current Avg. Dice: 0.2145153135061264 Current Avg. tumor Dice: 0.23673996329307556 Current Avg. lymph Dice: 0.19229067862033844\n"
     ]
    },
    {
     "name": "stderr",
     "output_type": "stream",
     "text": [
      "Training (5207 / 18000 Steps) (loss=0.63166): 100%|██████████| 7/7 [00:05<00:00,  1.33it/s]\n",
      "Training (5214 / 18000 Steps) (loss=0.65087): 100%|██████████| 7/7 [00:05<00:00,  1.18it/s]\n",
      "Training (5221 / 18000 Steps) (loss=0.57363): 100%|██████████| 7/7 [00:05<00:00,  1.27it/s]\n",
      "Training (5228 / 18000 Steps) (loss=0.67891): 100%|██████████| 7/7 [00:05<00:00,  1.17it/s]\n",
      "Training (5235 / 18000 Steps) (loss=0.60469): 100%|██████████| 7/7 [00:05<00:00,  1.27it/s]\n",
      "Training (5242 / 18000 Steps) (loss=0.50520): 100%|██████████| 7/7 [00:05<00:00,  1.23it/s]\n",
      "Training (5249 / 18000 Steps) (loss=0.55436): 100%|██████████| 7/7 [00:05<00:00,  1.25it/s]\n",
      "Training (5256 / 18000 Steps) (loss=0.54788): 100%|██████████| 7/7 [00:05<00:00,  1.29it/s]\n",
      "Training (5263 / 18000 Steps) (loss=0.62687): 100%|██████████| 7/7 [00:05<00:00,  1.28it/s]\n",
      "Training (5270 / 18000 Steps) (loss=0.44186): 100%|██████████| 7/7 [00:05<00:00,  1.19it/s]\n",
      "Training (5277 / 18000 Steps) (loss=0.32523): 100%|██████████| 7/7 [00:05<00:00,  1.24it/s]\n",
      "Training (5284 / 18000 Steps) (loss=0.46150): 100%|██████████| 7/7 [00:05<00:00,  1.20it/s]\n",
      "Training (5291 / 18000 Steps) (loss=0.60978): 100%|██████████| 7/7 [00:05<00:00,  1.24it/s]\n",
      "Training (5298 / 18000 Steps) (loss=0.54034): 100%|██████████| 7/7 [00:05<00:00,  1.22it/s]\n",
      "Validate (5299 / 10 Steps): 100%|██████████| 2/2 [00:04<00:00,  2.12s/it]<00:19,  3.19s/it]\n",
      "Training (5300 / 18000 Steps) (loss=0.44380):  29%|██▊       | 2/7 [00:07<00:20,  4.09s/it]"
     ]
    },
    {
     "name": "stdout",
     "output_type": "stream",
     "text": [
      "Model Was Not Saved ! Current Best Avg. Dice: 0.23747672140598297 Current Avg. Dice: 0.21929824352264404 Current Avg. tumor Dice: 0.26779693365097046 Current Avg. lymph Dice: 0.17079952359199524\n"
     ]
    },
    {
     "name": "stderr",
     "output_type": "stream",
     "text": [
      "Training (5305 / 18000 Steps) (loss=0.50880): 100%|██████████| 7/7 [00:09<00:00,  1.42s/it]\n",
      "Training (5312 / 18000 Steps) (loss=0.45999): 100%|██████████| 7/7 [00:05<00:00,  1.29it/s]\n",
      "Training (5319 / 18000 Steps) (loss=0.52255): 100%|██████████| 7/7 [00:05<00:00,  1.27it/s]\n",
      "Training (5326 / 18000 Steps) (loss=0.51310): 100%|██████████| 7/7 [00:05<00:00,  1.27it/s]\n",
      "Training (5333 / 18000 Steps) (loss=0.64032): 100%|██████████| 7/7 [00:05<00:00,  1.26it/s]\n",
      "Training (5340 / 18000 Steps) (loss=0.57259): 100%|██████████| 7/7 [00:05<00:00,  1.30it/s]\n",
      "Training (5347 / 18000 Steps) (loss=0.46728): 100%|██████████| 7/7 [00:05<00:00,  1.29it/s]\n",
      "Training (5354 / 18000 Steps) (loss=0.64050): 100%|██████████| 7/7 [00:05<00:00,  1.21it/s]\n",
      "Training (5361 / 18000 Steps) (loss=0.49975): 100%|██████████| 7/7 [00:05<00:00,  1.24it/s]\n",
      "Training (5368 / 18000 Steps) (loss=0.47354): 100%|██████████| 7/7 [00:05<00:00,  1.29it/s]\n",
      "Training (5375 / 18000 Steps) (loss=0.65420): 100%|██████████| 7/7 [00:05<00:00,  1.36it/s]\n",
      "Training (5382 / 18000 Steps) (loss=0.51083): 100%|██████████| 7/7 [00:05<00:00,  1.28it/s]\n",
      "Training (5389 / 18000 Steps) (loss=0.43653): 100%|██████████| 7/7 [00:05<00:00,  1.29it/s]\n",
      "Training (5396 / 18000 Steps) (loss=0.58014): 100%|██████████| 7/7 [00:05<00:00,  1.26it/s]\n",
      "Validate (5397 / 10 Steps): 100%|██████████| 2/2 [00:04<00:00,  2.22s/it]<00:04,  1.05s/it]\n",
      "Training (5400 / 18000 Steps) (loss=0.48169):  57%|█████▋    | 4/7 [00:09<00:07,  2.58s/it]"
     ]
    },
    {
     "name": "stdout",
     "output_type": "stream",
     "text": [
      "Model Was Not Saved ! Current Best Avg. Dice: 0.23747672140598297 Current Avg. Dice: 0.22778378427028656 Current Avg. tumor Dice: 0.22354567050933838 Current Avg. lymph Dice: 0.23202189803123474\n"
     ]
    },
    {
     "name": "stderr",
     "output_type": "stream",
     "text": [
      "Training (5403 / 18000 Steps) (loss=0.58654): 100%|██████████| 7/7 [00:10<00:00,  1.45s/it]\n",
      "Training (5410 / 18000 Steps) (loss=0.49576): 100%|██████████| 7/7 [00:05<00:00,  1.28it/s]\n",
      "Training (5417 / 18000 Steps) (loss=0.57458): 100%|██████████| 7/7 [00:05<00:00,  1.23it/s]\n",
      "Training (5424 / 18000 Steps) (loss=0.68156): 100%|██████████| 7/7 [00:05<00:00,  1.22it/s]\n",
      "Training (5431 / 18000 Steps) (loss=0.58240): 100%|██████████| 7/7 [00:05<00:00,  1.26it/s]\n",
      "Training (5438 / 18000 Steps) (loss=0.45596): 100%|██████████| 7/7 [00:05<00:00,  1.21it/s]\n",
      "Training (5445 / 18000 Steps) (loss=0.67065): 100%|██████████| 7/7 [00:05<00:00,  1.27it/s]\n",
      "Training (5452 / 18000 Steps) (loss=0.54229): 100%|██████████| 7/7 [00:05<00:00,  1.27it/s]\n",
      "Training (5459 / 18000 Steps) (loss=0.46117): 100%|██████████| 7/7 [00:05<00:00,  1.27it/s]\n",
      "Training (5466 / 18000 Steps) (loss=0.60722): 100%|██████████| 7/7 [00:05<00:00,  1.30it/s]\n",
      "Training (5473 / 18000 Steps) (loss=0.48464): 100%|██████████| 7/7 [00:05<00:00,  1.25it/s]\n",
      "Training (5480 / 18000 Steps) (loss=0.42669): 100%|██████████| 7/7 [00:05<00:00,  1.23it/s]\n",
      "Training (5487 / 18000 Steps) (loss=0.56816): 100%|██████████| 7/7 [00:05<00:00,  1.24it/s]\n",
      "Training (5494 / 18000 Steps) (loss=0.37054): 100%|██████████| 7/7 [00:05<00:00,  1.32it/s]\n",
      "Validate (5495 / 10 Steps): 100%|██████████| 2/2 [00:04<00:00,  2.10s/it]<00:01,  1.57it/s]\n",
      "Training (5500 / 18000 Steps) (loss=0.57770):  86%|████████▌ | 6/7 [00:09<00:02,  2.01s/it]"
     ]
    },
    {
     "name": "stdout",
     "output_type": "stream",
     "text": [
      "Model Was Not Saved ! Current Best Avg. Dice: 0.23747672140598297 Current Avg. Dice: 0.19817973673343658 Current Avg. tumor Dice: 0.25395551323890686 Current Avg. lymph Dice: 0.1424039602279663\n"
     ]
    },
    {
     "name": "stderr",
     "output_type": "stream",
     "text": [
      "Training (5501 / 18000 Steps) (loss=0.43137): 100%|██████████| 7/7 [00:09<00:00,  1.37s/it]\n",
      "Training (5508 / 18000 Steps) (loss=0.35003): 100%|██████████| 7/7 [00:05<00:00,  1.25it/s]\n",
      "Training (5515 / 18000 Steps) (loss=0.47847): 100%|██████████| 7/7 [00:05<00:00,  1.23it/s]\n",
      "Training (5522 / 18000 Steps) (loss=0.53059): 100%|██████████| 7/7 [00:05<00:00,  1.22it/s]\n",
      "Training (5529 / 18000 Steps) (loss=0.51770): 100%|██████████| 7/7 [00:05<00:00,  1.24it/s]\n",
      "Training (5536 / 18000 Steps) (loss=0.51231): 100%|██████████| 7/7 [00:05<00:00,  1.31it/s]\n",
      "Training (5543 / 18000 Steps) (loss=0.64490): 100%|██████████| 7/7 [00:05<00:00,  1.19it/s]\n",
      "Training (5550 / 18000 Steps) (loss=0.49250): 100%|██████████| 7/7 [00:05<00:00,  1.26it/s]\n",
      "Training (5557 / 18000 Steps) (loss=0.65157): 100%|██████████| 7/7 [00:05<00:00,  1.29it/s]\n",
      "Training (5564 / 18000 Steps) (loss=0.48397): 100%|██████████| 7/7 [00:05<00:00,  1.23it/s]\n",
      "Training (5571 / 18000 Steps) (loss=0.70285): 100%|██████████| 7/7 [00:05<00:00,  1.28it/s]\n",
      "Training (5578 / 18000 Steps) (loss=0.48172): 100%|██████████| 7/7 [00:05<00:00,  1.34it/s]\n",
      "Training (5585 / 18000 Steps) (loss=0.62825): 100%|██████████| 7/7 [00:05<00:00,  1.21it/s]\n",
      "Training (5592 / 18000 Steps) (loss=0.42259): 100%|██████████| 7/7 [00:05<00:00,  1.28it/s]\n",
      "Training (5599 / 18000 Steps) (loss=0.53878): 100%|██████████| 7/7 [00:05<00:00,  1.29it/s]\n",
      "Validate (5600 / 10 Steps): 100%|██████████| 2/2 [00:04<00:00,  2.17s/it]<?, ?it/s]\n",
      "Training (5600 / 18000 Steps) (loss=0.50754):  14%|█▍        | 1/7 [00:07<00:45,  7.62s/it]"
     ]
    },
    {
     "name": "stdout",
     "output_type": "stream",
     "text": [
      "Model Was Not Saved ! Current Best Avg. Dice: 0.23747672140598297 Current Avg. Dice: 0.2089158296585083 Current Avg. tumor Dice: 0.23797577619552612 Current Avg. lymph Dice: 0.17985588312149048\n"
     ]
    },
    {
     "name": "stderr",
     "output_type": "stream",
     "text": [
      "Training (5606 / 18000 Steps) (loss=0.59117): 100%|██████████| 7/7 [00:10<00:00,  1.43s/it]\n",
      "Training (5613 / 18000 Steps) (loss=0.42542): 100%|██████████| 7/7 [00:05<00:00,  1.30it/s]\n",
      "Training (5620 / 18000 Steps) (loss=0.50606): 100%|██████████| 7/7 [00:05<00:00,  1.26it/s]\n",
      "Training (5627 / 18000 Steps) (loss=0.40410): 100%|██████████| 7/7 [00:05<00:00,  1.29it/s]\n",
      "Training (5634 / 18000 Steps) (loss=0.66081): 100%|██████████| 7/7 [00:05<00:00,  1.31it/s]\n",
      "Training (5641 / 18000 Steps) (loss=0.51131): 100%|██████████| 7/7 [00:05<00:00,  1.18it/s]\n",
      "Training (5648 / 18000 Steps) (loss=0.48887): 100%|██████████| 7/7 [00:05<00:00,  1.27it/s]\n",
      "Training (5655 / 18000 Steps) (loss=0.44231): 100%|██████████| 7/7 [00:05<00:00,  1.22it/s]\n",
      "Training (5662 / 18000 Steps) (loss=0.53233): 100%|██████████| 7/7 [00:05<00:00,  1.29it/s]\n",
      "Training (5669 / 18000 Steps) (loss=0.45742): 100%|██████████| 7/7 [00:05<00:00,  1.29it/s]\n",
      "Training (5676 / 18000 Steps) (loss=0.59835): 100%|██████████| 7/7 [00:05<00:00,  1.30it/s]\n",
      "Training (5683 / 18000 Steps) (loss=0.62229): 100%|██████████| 7/7 [00:05<00:00,  1.24it/s]\n",
      "Training (5690 / 18000 Steps) (loss=0.49890): 100%|██████████| 7/7 [00:05<00:00,  1.29it/s]\n",
      "Training (5697 / 18000 Steps) (loss=0.60818): 100%|██████████| 7/7 [00:05<00:00,  1.26it/s]\n",
      "Validate (5698 / 10 Steps): 100%|██████████| 2/2 [00:04<00:00,  2.09s/it]<00:08,  1.63s/it]\n",
      "Training (5700 / 18000 Steps) (loss=0.53871):  43%|████▎     | 3/7 [00:08<00:12,  3.01s/it]"
     ]
    },
    {
     "name": "stdout",
     "output_type": "stream",
     "text": [
      "Model Was Not Saved ! Current Best Avg. Dice: 0.23747672140598297 Current Avg. Dice: 0.2004934549331665 Current Avg. tumor Dice: 0.20859599113464355 Current Avg. lymph Dice: 0.19239094853401184\n"
     ]
    },
    {
     "name": "stderr",
     "output_type": "stream",
     "text": [
      "Training (5704 / 18000 Steps) (loss=0.51686): 100%|██████████| 7/7 [00:10<00:00,  1.43s/it]\n",
      "Training (5711 / 18000 Steps) (loss=0.48631): 100%|██████████| 7/7 [00:05<00:00,  1.27it/s]\n",
      "Training (5718 / 18000 Steps) (loss=0.43084): 100%|██████████| 7/7 [00:05<00:00,  1.33it/s]\n",
      "Training (5725 / 18000 Steps) (loss=0.33253): 100%|██████████| 7/7 [00:05<00:00,  1.26it/s]\n",
      "Training (5732 / 18000 Steps) (loss=0.49932): 100%|██████████| 7/7 [00:05<00:00,  1.33it/s]\n",
      "Training (5739 / 18000 Steps) (loss=0.53573): 100%|██████████| 7/7 [00:05<00:00,  1.22it/s]\n",
      "Training (5746 / 18000 Steps) (loss=0.52827): 100%|██████████| 7/7 [00:05<00:00,  1.21it/s]\n",
      "Training (5753 / 18000 Steps) (loss=0.53567): 100%|██████████| 7/7 [00:05<00:00,  1.26it/s]\n",
      "Training (5760 / 18000 Steps) (loss=0.52587): 100%|██████████| 7/7 [00:05<00:00,  1.24it/s]\n",
      "Training (5767 / 18000 Steps) (loss=0.62347): 100%|██████████| 7/7 [00:05<00:00,  1.31it/s]\n",
      "Training (5774 / 18000 Steps) (loss=0.60611): 100%|██████████| 7/7 [00:05<00:00,  1.30it/s]\n",
      "Training (5781 / 18000 Steps) (loss=0.62223): 100%|██████████| 7/7 [00:05<00:00,  1.24it/s]\n",
      "Training (5788 / 18000 Steps) (loss=0.59229): 100%|██████████| 7/7 [00:05<00:00,  1.23it/s]\n",
      "Training (5795 / 18000 Steps) (loss=0.56038): 100%|██████████| 7/7 [00:05<00:00,  1.26it/s]\n",
      "Validate (5796 / 10 Steps): 100%|██████████| 2/2 [00:04<00:00,  2.17s/it]<00:02,  1.28it/s]\n",
      "Training (5800 / 18000 Steps) (loss=0.49476):  71%|███████▏  | 5/7 [00:09<00:04,  2.24s/it]"
     ]
    },
    {
     "name": "stdout",
     "output_type": "stream",
     "text": [
      "Model Was Not Saved ! Current Best Avg. Dice: 0.23747672140598297 Current Avg. Dice: 0.22391222417354584 Current Avg. tumor Dice: 0.24488744139671326 Current Avg. lymph Dice: 0.2029370367527008\n"
     ]
    },
    {
     "name": "stderr",
     "output_type": "stream",
     "text": [
      "Training (5802 / 18000 Steps) (loss=0.51945): 100%|██████████| 7/7 [00:09<00:00,  1.42s/it]\n",
      "Training (5809 / 18000 Steps) (loss=0.60902): 100%|██████████| 7/7 [00:05<00:00,  1.23it/s]\n",
      "Training (5816 / 18000 Steps) (loss=0.57307): 100%|██████████| 7/7 [00:05<00:00,  1.29it/s]\n",
      "Training (5823 / 18000 Steps) (loss=0.49443): 100%|██████████| 7/7 [00:05<00:00,  1.26it/s]\n",
      "Training (5830 / 18000 Steps) (loss=0.59750): 100%|██████████| 7/7 [00:05<00:00,  1.28it/s]\n",
      "Training (5837 / 18000 Steps) (loss=0.49105): 100%|██████████| 7/7 [00:05<00:00,  1.32it/s]\n",
      "Training (5844 / 18000 Steps) (loss=0.53367): 100%|██████████| 7/7 [00:05<00:00,  1.17it/s]\n",
      "Training (5851 / 18000 Steps) (loss=0.37108): 100%|██████████| 7/7 [00:05<00:00,  1.26it/s]\n",
      "Training (5858 / 18000 Steps) (loss=0.46411): 100%|██████████| 7/7 [00:05<00:00,  1.30it/s]\n",
      "Training (5865 / 18000 Steps) (loss=0.57538): 100%|██████████| 7/7 [00:05<00:00,  1.22it/s]\n",
      "Training (5872 / 18000 Steps) (loss=0.61706): 100%|██████████| 7/7 [00:05<00:00,  1.27it/s]\n",
      "Training (5879 / 18000 Steps) (loss=0.66598): 100%|██████████| 7/7 [00:05<00:00,  1.27it/s]\n",
      "Training (5886 / 18000 Steps) (loss=0.36685): 100%|██████████| 7/7 [00:05<00:00,  1.27it/s]\n",
      "Training (5893 / 18000 Steps) (loss=0.55007): 100%|██████████| 7/7 [00:05<00:00,  1.28it/s]\n",
      "Validate (5894 / 10 Steps): 100%|██████████| 2/2 [00:04<00:00,  2.20s/it]<00:00,  1.76it/s]\n",
      "Training (5900 / 18000 Steps) (loss=0.44157): 100%|██████████| 7/7 [00:09<00:00,  1.42s/it]\n"
     ]
    },
    {
     "name": "stdout",
     "output_type": "stream",
     "text": [
      "Model Was Not Saved ! Current Best Avg. Dice: 0.23747672140598297 Current Avg. Dice: 0.2144860476255417 Current Avg. tumor Dice: 0.2506532669067383 Current Avg. lymph Dice: 0.1783188283443451\n"
     ]
    },
    {
     "name": "stderr",
     "output_type": "stream",
     "text": [
      "Training (5907 / 18000 Steps) (loss=0.40327): 100%|██████████| 7/7 [00:05<00:00,  1.31it/s]\n",
      "Training (5914 / 18000 Steps) (loss=0.52555): 100%|██████████| 7/7 [00:05<00:00,  1.32it/s]\n",
      "Training (5921 / 18000 Steps) (loss=0.65741): 100%|██████████| 7/7 [00:05<00:00,  1.24it/s]\n",
      "Training (5928 / 18000 Steps) (loss=0.51958): 100%|██████████| 7/7 [00:05<00:00,  1.33it/s]\n",
      "Training (5935 / 18000 Steps) (loss=0.40189): 100%|██████████| 7/7 [00:05<00:00,  1.21it/s]\n",
      "Training (5942 / 18000 Steps) (loss=0.56107): 100%|██████████| 7/7 [00:05<00:00,  1.20it/s]\n",
      "Training (5949 / 18000 Steps) (loss=0.46282): 100%|██████████| 7/7 [00:05<00:00,  1.24it/s]\n",
      "Training (5956 / 18000 Steps) (loss=0.37742): 100%|██████████| 7/7 [00:05<00:00,  1.24it/s]\n",
      "Training (5963 / 18000 Steps) (loss=0.60394): 100%|██████████| 7/7 [00:05<00:00,  1.24it/s]\n",
      "Training (5970 / 18000 Steps) (loss=0.52578): 100%|██████████| 7/7 [00:05<00:00,  1.28it/s]\n",
      "Training (5977 / 18000 Steps) (loss=0.51705): 100%|██████████| 7/7 [00:05<00:00,  1.29it/s]\n",
      "Training (5984 / 18000 Steps) (loss=0.57694): 100%|██████████| 7/7 [00:05<00:00,  1.29it/s]\n",
      "Training (5991 / 18000 Steps) (loss=0.60944): 100%|██████████| 7/7 [00:05<00:00,  1.22it/s]\n",
      "Training (5998 / 18000 Steps) (loss=0.48786): 100%|██████████| 7/7 [00:05<00:00,  1.32it/s]\n",
      "Validate (5999 / 10 Steps): 100%|██████████| 2/2 [00:04<00:00,  2.12s/it]<00:19,  3.17s/it]\n",
      "Training (6000 / 18000 Steps) (loss=0.44192):  29%|██▊       | 2/7 [00:07<00:20,  4.06s/it]"
     ]
    },
    {
     "name": "stdout",
     "output_type": "stream",
     "text": [
      "Model Was Not Saved ! Current Best Avg. Dice: 0.23747672140598297 Current Avg. Dice: 0.20347929000854492 Current Avg. tumor Dice: 0.19753538072109222 Current Avg. lymph Dice: 0.2094232439994812\n"
     ]
    },
    {
     "name": "stderr",
     "output_type": "stream",
     "text": [
      "Training (6005 / 18000 Steps) (loss=0.40555): 100%|██████████| 7/7 [00:09<00:00,  1.41s/it]\n",
      "Training (6012 / 18000 Steps) (loss=0.45293): 100%|██████████| 7/7 [00:05<00:00,  1.33it/s]\n",
      "Training (6019 / 18000 Steps) (loss=0.45542): 100%|██████████| 7/7 [00:05<00:00,  1.22it/s]\n",
      "Training (6026 / 18000 Steps) (loss=0.62813): 100%|██████████| 7/7 [00:05<00:00,  1.28it/s]\n",
      "Training (6033 / 18000 Steps) (loss=0.51440): 100%|██████████| 7/7 [00:05<00:00,  1.32it/s]\n",
      "Training (6040 / 18000 Steps) (loss=0.54898): 100%|██████████| 7/7 [00:05<00:00,  1.23it/s]\n",
      "Training (6047 / 18000 Steps) (loss=0.50785): 100%|██████████| 7/7 [00:05<00:00,  1.28it/s]\n",
      "Training (6054 / 18000 Steps) (loss=0.58983): 100%|██████████| 7/7 [00:05<00:00,  1.30it/s]\n",
      "Training (6061 / 18000 Steps) (loss=0.48700): 100%|██████████| 7/7 [00:05<00:00,  1.27it/s]\n",
      "Training (6068 / 18000 Steps) (loss=0.57903): 100%|██████████| 7/7 [00:05<00:00,  1.22it/s]\n",
      "Training (6075 / 18000 Steps) (loss=0.49799): 100%|██████████| 7/7 [00:05<00:00,  1.26it/s]\n",
      "Training (6082 / 18000 Steps) (loss=0.45360): 100%|██████████| 7/7 [00:05<00:00,  1.28it/s]\n",
      "Training (6089 / 18000 Steps) (loss=0.37385): 100%|██████████| 7/7 [00:05<00:00,  1.26it/s]\n",
      "Training (6096 / 18000 Steps) (loss=0.63307): 100%|██████████| 7/7 [00:05<00:00,  1.33it/s]\n",
      "Validate (6097 / 10 Steps): 100%|██████████| 2/2 [00:04<00:00,  2.17s/it]<00:04,  1.01s/it]\n",
      "Training (6100 / 18000 Steps) (loss=0.69456):  57%|█████▋    | 4/7 [00:08<00:07,  2.51s/it]"
     ]
    },
    {
     "name": "stdout",
     "output_type": "stream",
     "text": [
      "Model Was Not Saved ! Current Best Avg. Dice: 0.23747672140598297 Current Avg. Dice: 0.20470038056373596 Current Avg. tumor Dice: 0.2779703438282013 Current Avg. lymph Dice: 0.13143040239810944\n"
     ]
    },
    {
     "name": "stderr",
     "output_type": "stream",
     "text": [
      "Training (6103 / 18000 Steps) (loss=0.31624): 100%|██████████| 7/7 [00:09<00:00,  1.41s/it]\n",
      "Training (6110 / 18000 Steps) (loss=0.58418): 100%|██████████| 7/7 [00:05<00:00,  1.22it/s]\n",
      "Training (6117 / 18000 Steps) (loss=0.64449): 100%|██████████| 7/7 [00:05<00:00,  1.30it/s]\n",
      "Training (6124 / 18000 Steps) (loss=0.42789): 100%|██████████| 7/7 [00:05<00:00,  1.28it/s]\n",
      "Training (6131 / 18000 Steps) (loss=0.66814): 100%|██████████| 7/7 [00:05<00:00,  1.23it/s]\n",
      "Training (6138 / 18000 Steps) (loss=0.39391): 100%|██████████| 7/7 [00:05<00:00,  1.24it/s]\n",
      "Training (6145 / 18000 Steps) (loss=0.53062): 100%|██████████| 7/7 [00:06<00:00,  1.17it/s]\n",
      "Training (6152 / 18000 Steps) (loss=0.56781): 100%|██████████| 7/7 [00:05<00:00,  1.23it/s]\n",
      "Training (6159 / 18000 Steps) (loss=0.57911): 100%|██████████| 7/7 [00:05<00:00,  1.32it/s]\n",
      "Training (6166 / 18000 Steps) (loss=0.61393): 100%|██████████| 7/7 [00:05<00:00,  1.24it/s]\n",
      "Training (6173 / 18000 Steps) (loss=0.52409): 100%|██████████| 7/7 [00:05<00:00,  1.23it/s]\n",
      "Training (6180 / 18000 Steps) (loss=0.59404): 100%|██████████| 7/7 [00:05<00:00,  1.27it/s]\n",
      "Training (6187 / 18000 Steps) (loss=0.56201): 100%|██████████| 7/7 [00:05<00:00,  1.28it/s]\n",
      "Training (6194 / 18000 Steps) (loss=0.55645): 100%|██████████| 7/7 [00:05<00:00,  1.29it/s]\n",
      "Validate (6195 / 10 Steps): 100%|██████████| 2/2 [00:04<00:00,  2.21s/it]<00:01,  1.55it/s]\n",
      "Training (6200 / 18000 Steps) (loss=0.54139):  86%|████████▌ | 6/7 [00:09<00:02,  2.09s/it]"
     ]
    },
    {
     "name": "stdout",
     "output_type": "stream",
     "text": [
      "Model Was Not Saved ! Current Best Avg. Dice: 0.23747672140598297 Current Avg. Dice: 0.22621607780456543 Current Avg. tumor Dice: 0.28262168169021606 Current Avg. lymph Dice: 0.16981050372123718\n"
     ]
    },
    {
     "name": "stderr",
     "output_type": "stream",
     "text": [
      "Training (6201 / 18000 Steps) (loss=0.35932): 100%|██████████| 7/7 [00:09<00:00,  1.41s/it]\n",
      "Training (6208 / 18000 Steps) (loss=0.54458): 100%|██████████| 7/7 [00:05<00:00,  1.26it/s]\n",
      "Training (6215 / 18000 Steps) (loss=0.40440): 100%|██████████| 7/7 [00:05<00:00,  1.28it/s]\n",
      "Training (6222 / 18000 Steps) (loss=0.57573): 100%|██████████| 7/7 [00:05<00:00,  1.25it/s]\n",
      "Training (6229 / 18000 Steps) (loss=0.61396): 100%|██████████| 7/7 [00:05<00:00,  1.28it/s]\n",
      "Training (6236 / 18000 Steps) (loss=0.57483): 100%|██████████| 7/7 [00:05<00:00,  1.21it/s]\n",
      "Training (6243 / 18000 Steps) (loss=0.60082): 100%|██████████| 7/7 [00:05<00:00,  1.31it/s]\n",
      "Training (6250 / 18000 Steps) (loss=0.60757): 100%|██████████| 7/7 [00:05<00:00,  1.36it/s]\n",
      "Training (6257 / 18000 Steps) (loss=0.42696): 100%|██████████| 7/7 [00:05<00:00,  1.21it/s]\n",
      "Training (6264 / 18000 Steps) (loss=0.42116): 100%|██████████| 7/7 [00:05<00:00,  1.28it/s]\n",
      "Training (6271 / 18000 Steps) (loss=0.57972): 100%|██████████| 7/7 [00:05<00:00,  1.22it/s]\n",
      "Training (6278 / 18000 Steps) (loss=0.40531): 100%|██████████| 7/7 [00:05<00:00,  1.22it/s]\n",
      "Training (6285 / 18000 Steps) (loss=0.54963): 100%|██████████| 7/7 [00:05<00:00,  1.25it/s]\n",
      "Training (6292 / 18000 Steps) (loss=0.67949): 100%|██████████| 7/7 [00:05<00:00,  1.32it/s]\n",
      "Training (6299 / 18000 Steps) (loss=0.52202): 100%|██████████| 7/7 [00:05<00:00,  1.27it/s]\n",
      "Validate (6300 / 10 Steps): 100%|██████████| 2/2 [00:04<00:00,  2.15s/it]<?, ?it/s]\n",
      "Training (6300 / 18000 Steps) (loss=0.49250):  14%|█▍        | 1/7 [00:07<00:45,  7.62s/it]"
     ]
    },
    {
     "name": "stdout",
     "output_type": "stream",
     "text": [
      "Model Was Not Saved ! Current Best Avg. Dice: 0.23747672140598297 Current Avg. Dice: 0.18252402544021606 Current Avg. tumor Dice: 0.23498083651065826 Current Avg. lymph Dice: 0.13006722927093506\n"
     ]
    },
    {
     "name": "stderr",
     "output_type": "stream",
     "text": [
      "Training (6306 / 18000 Steps) (loss=0.55485): 100%|██████████| 7/7 [00:10<00:00,  1.44s/it]\n",
      "Training (6313 / 18000 Steps) (loss=0.51819): 100%|██████████| 7/7 [00:05<00:00,  1.20it/s]\n",
      "Training (6320 / 18000 Steps) (loss=0.60242): 100%|██████████| 7/7 [00:05<00:00,  1.21it/s]\n",
      "Training (6327 / 18000 Steps) (loss=0.65169): 100%|██████████| 7/7 [00:05<00:00,  1.25it/s]\n",
      "Training (6334 / 18000 Steps) (loss=0.52350): 100%|██████████| 7/7 [00:05<00:00,  1.25it/s]\n",
      "Training (6341 / 18000 Steps) (loss=0.37356): 100%|██████████| 7/7 [00:05<00:00,  1.31it/s]\n",
      "Training (6348 / 18000 Steps) (loss=0.28537): 100%|██████████| 7/7 [00:05<00:00,  1.25it/s]\n",
      "Training (6355 / 18000 Steps) (loss=0.42009): 100%|██████████| 7/7 [00:05<00:00,  1.28it/s]\n",
      "Training (6362 / 18000 Steps) (loss=0.47437): 100%|██████████| 7/7 [00:05<00:00,  1.23it/s]\n",
      "Training (6369 / 18000 Steps) (loss=0.49668): 100%|██████████| 7/7 [00:05<00:00,  1.24it/s]\n",
      "Training (6376 / 18000 Steps) (loss=0.59030): 100%|██████████| 7/7 [00:05<00:00,  1.26it/s]\n",
      "Training (6383 / 18000 Steps) (loss=0.62203): 100%|██████████| 7/7 [00:05<00:00,  1.20it/s]\n",
      "Training (6390 / 18000 Steps) (loss=0.43693): 100%|██████████| 7/7 [00:05<00:00,  1.26it/s]\n",
      "Training (6397 / 18000 Steps) (loss=0.61951): 100%|██████████| 7/7 [00:05<00:00,  1.20it/s]\n",
      "Validate (6398 / 10 Steps): 100%|██████████| 2/2 [00:04<00:00,  2.14s/it]<00:08,  1.68s/it]\n",
      "Training (6400 / 18000 Steps) (loss=0.47288):  43%|████▎     | 3/7 [00:08<00:12,  3.08s/it]"
     ]
    },
    {
     "name": "stdout",
     "output_type": "stream",
     "text": [
      "Model Was Not Saved ! Current Best Avg. Dice: 0.23747672140598297 Current Avg. Dice: 0.21621745824813843 Current Avg. tumor Dice: 0.27383342385292053 Current Avg. lymph Dice: 0.15860146284103394\n"
     ]
    },
    {
     "name": "stderr",
     "output_type": "stream",
     "text": [
      "Training (6404 / 18000 Steps) (loss=0.44962): 100%|██████████| 7/7 [00:10<00:00,  1.46s/it]\n",
      "Training (6411 / 18000 Steps) (loss=0.40578): 100%|██████████| 7/7 [00:05<00:00,  1.28it/s]\n",
      "Training (6418 / 18000 Steps) (loss=0.47274): 100%|██████████| 7/7 [00:05<00:00,  1.30it/s]\n",
      "Training (6425 / 18000 Steps) (loss=0.54431): 100%|██████████| 7/7 [00:05<00:00,  1.30it/s]\n",
      "Training (6432 / 18000 Steps) (loss=0.56502): 100%|██████████| 7/7 [00:05<00:00,  1.30it/s]\n",
      "Training (6439 / 18000 Steps) (loss=0.32710): 100%|██████████| 7/7 [00:05<00:00,  1.23it/s]\n",
      "Training (6446 / 18000 Steps) (loss=0.57311): 100%|██████████| 7/7 [00:05<00:00,  1.28it/s]\n",
      "Training (6453 / 18000 Steps) (loss=0.31200): 100%|██████████| 7/7 [00:05<00:00,  1.23it/s]\n",
      "Training (6460 / 18000 Steps) (loss=0.53851): 100%|██████████| 7/7 [00:05<00:00,  1.29it/s]\n",
      "Training (6467 / 18000 Steps) (loss=0.38780): 100%|██████████| 7/7 [00:05<00:00,  1.26it/s]\n",
      "Training (6474 / 18000 Steps) (loss=0.32745): 100%|██████████| 7/7 [00:05<00:00,  1.30it/s]\n",
      "Training (6481 / 18000 Steps) (loss=0.48327): 100%|██████████| 7/7 [00:05<00:00,  1.23it/s]\n",
      "Training (6488 / 18000 Steps) (loss=0.39224): 100%|██████████| 7/7 [00:05<00:00,  1.24it/s]\n",
      "Training (6495 / 18000 Steps) (loss=0.42242): 100%|██████████| 7/7 [00:05<00:00,  1.25it/s]\n",
      "Validate (6496 / 10 Steps): 100%|██████████| 2/2 [00:04<00:00,  2.15s/it]<00:02,  1.34it/s]\n",
      "Training (6500 / 18000 Steps) (loss=0.59525):  71%|███████▏  | 5/7 [00:08<00:04,  2.19s/it]"
     ]
    },
    {
     "name": "stdout",
     "output_type": "stream",
     "text": [
      "Model Was Not Saved ! Current Best Avg. Dice: 0.23747672140598297 Current Avg. Dice: 0.20527002215385437 Current Avg. tumor Dice: 0.25447791814804077 Current Avg. lymph Dice: 0.15606209635734558\n"
     ]
    },
    {
     "name": "stderr",
     "output_type": "stream",
     "text": [
      "Training (6502 / 18000 Steps) (loss=0.59205): 100%|██████████| 7/7 [00:09<00:00,  1.37s/it]\n",
      "Training (6509 / 18000 Steps) (loss=0.56378): 100%|██████████| 7/7 [00:05<00:00,  1.21it/s]\n",
      "Training (6516 / 18000 Steps) (loss=0.56575): 100%|██████████| 7/7 [00:05<00:00,  1.25it/s]\n",
      "Training (6523 / 18000 Steps) (loss=0.42498): 100%|██████████| 7/7 [00:05<00:00,  1.19it/s]\n",
      "Training (6530 / 18000 Steps) (loss=0.49739): 100%|██████████| 7/7 [00:05<00:00,  1.20it/s]\n",
      "Training (6537 / 18000 Steps) (loss=0.64487): 100%|██████████| 7/7 [00:05<00:00,  1.29it/s]\n",
      "Training (6544 / 18000 Steps) (loss=0.57279): 100%|██████████| 7/7 [00:05<00:00,  1.25it/s]\n",
      "Training (6551 / 18000 Steps) (loss=0.39222): 100%|██████████| 7/7 [00:05<00:00,  1.32it/s]\n",
      "Training (6558 / 18000 Steps) (loss=0.63981): 100%|██████████| 7/7 [00:05<00:00,  1.19it/s]\n",
      "Training (6565 / 18000 Steps) (loss=0.33341): 100%|██████████| 7/7 [00:05<00:00,  1.21it/s]\n",
      "Training (6572 / 18000 Steps) (loss=0.47805): 100%|██████████| 7/7 [00:05<00:00,  1.30it/s]\n",
      "Training (6579 / 18000 Steps) (loss=0.48841): 100%|██████████| 7/7 [00:05<00:00,  1.26it/s]\n",
      "Training (6586 / 18000 Steps) (loss=0.56251): 100%|██████████| 7/7 [00:05<00:00,  1.22it/s]\n",
      "Training (6593 / 18000 Steps) (loss=0.63617): 100%|██████████| 7/7 [00:05<00:00,  1.23it/s]\n",
      "Validate (6594 / 10 Steps): 100%|██████████| 2/2 [00:04<00:00,  2.17s/it]<00:00,  1.76it/s]\n",
      "Training (6600 / 18000 Steps) (loss=0.52075): 100%|██████████| 7/7 [00:09<00:00,  1.41s/it]\n"
     ]
    },
    {
     "name": "stdout",
     "output_type": "stream",
     "text": [
      "Model Was Not Saved ! Current Best Avg. Dice: 0.23747672140598297 Current Avg. Dice: 0.22252511978149414 Current Avg. tumor Dice: 0.31456562876701355 Current Avg. lymph Dice: 0.13048461079597473\n"
     ]
    },
    {
     "name": "stderr",
     "output_type": "stream",
     "text": [
      "Training (6607 / 18000 Steps) (loss=0.38230): 100%|██████████| 7/7 [00:05<00:00,  1.22it/s]\n",
      "Training (6614 / 18000 Steps) (loss=0.27428): 100%|██████████| 7/7 [00:05<00:00,  1.26it/s]\n",
      "Training (6621 / 18000 Steps) (loss=0.56562): 100%|██████████| 7/7 [00:05<00:00,  1.26it/s]\n",
      "Training (6628 / 18000 Steps) (loss=0.48641): 100%|██████████| 7/7 [00:05<00:00,  1.30it/s]\n",
      "Training (6635 / 18000 Steps) (loss=0.38480): 100%|██████████| 7/7 [00:05<00:00,  1.26it/s]\n",
      "Training (6642 / 18000 Steps) (loss=0.38000): 100%|██████████| 7/7 [00:05<00:00,  1.24it/s]\n",
      "Training (6649 / 18000 Steps) (loss=0.46252): 100%|██████████| 7/7 [00:05<00:00,  1.24it/s]\n",
      "Training (6656 / 18000 Steps) (loss=0.53469): 100%|██████████| 7/7 [00:05<00:00,  1.27it/s]\n",
      "Training (6663 / 18000 Steps) (loss=0.47714): 100%|██████████| 7/7 [00:05<00:00,  1.27it/s]\n",
      "Training (6670 / 18000 Steps) (loss=0.57983): 100%|██████████| 7/7 [00:05<00:00,  1.27it/s]\n",
      "Training (6677 / 18000 Steps) (loss=0.31328): 100%|██████████| 7/7 [00:05<00:00,  1.26it/s]\n",
      "Training (6684 / 18000 Steps) (loss=0.60634): 100%|██████████| 7/7 [00:05<00:00,  1.20it/s]\n",
      "Training (6691 / 18000 Steps) (loss=0.55029): 100%|██████████| 7/7 [00:05<00:00,  1.21it/s]\n",
      "Training (6698 / 18000 Steps) (loss=0.53145): 100%|██████████| 7/7 [00:05<00:00,  1.24it/s]\n",
      "Validate (6699 / 10 Steps): 100%|██████████| 2/2 [00:04<00:00,  2.20s/it]<00:18,  3.03s/it]\n",
      "Training (6700 / 18000 Steps) (loss=0.44280):  29%|██▊       | 2/7 [00:08<00:22,  4.53s/it]"
     ]
    },
    {
     "name": "stdout",
     "output_type": "stream",
     "text": [
      "Model Was Saved ! Current Best Avg. Dice: 0.26509523391723633 Current Avg. Dice: 0.26509523391723633 Current Avg. tumor Dice: 0.35513654351234436 Current Avg. lymph Dice: 0.1750539392232895\n"
     ]
    },
    {
     "name": "stderr",
     "output_type": "stream",
     "text": [
      "Training (6705 / 18000 Steps) (loss=0.46584): 100%|██████████| 7/7 [00:10<00:00,  1.51s/it]\n",
      "Training (6712 / 18000 Steps) (loss=0.24132): 100%|██████████| 7/7 [00:05<00:00,  1.31it/s]\n",
      "Training (6719 / 18000 Steps) (loss=0.66775): 100%|██████████| 7/7 [00:05<00:00,  1.24it/s]\n",
      "Training (6726 / 18000 Steps) (loss=0.48906): 100%|██████████| 7/7 [00:05<00:00,  1.24it/s]\n",
      "Training (6733 / 18000 Steps) (loss=0.66798): 100%|██████████| 7/7 [00:05<00:00,  1.26it/s]\n",
      "Training (6740 / 18000 Steps) (loss=0.64031): 100%|██████████| 7/7 [00:05<00:00,  1.25it/s]\n",
      "Training (6747 / 18000 Steps) (loss=0.27426): 100%|██████████| 7/7 [00:05<00:00,  1.28it/s]\n",
      "Training (6754 / 18000 Steps) (loss=0.55879): 100%|██████████| 7/7 [00:05<00:00,  1.24it/s]\n",
      "Training (6761 / 18000 Steps) (loss=0.45578): 100%|██████████| 7/7 [00:05<00:00,  1.19it/s]\n",
      "Training (6768 / 18000 Steps) (loss=0.33853): 100%|██████████| 7/7 [00:05<00:00,  1.23it/s]\n",
      "Training (6775 / 18000 Steps) (loss=0.60185): 100%|██████████| 7/7 [00:05<00:00,  1.21it/s]\n",
      "Training (6782 / 18000 Steps) (loss=0.52885): 100%|██████████| 7/7 [00:05<00:00,  1.19it/s]\n",
      "Training (6789 / 18000 Steps) (loss=0.48713): 100%|██████████| 7/7 [00:05<00:00,  1.28it/s]\n",
      "Training (6796 / 18000 Steps) (loss=0.58267): 100%|██████████| 7/7 [00:05<00:00,  1.29it/s]\n",
      "Validate (6797 / 10 Steps): 100%|██████████| 2/2 [00:04<00:00,  2.23s/it]<00:04,  1.01s/it]\n",
      "Training (6800 / 18000 Steps) (loss=0.54010):  57%|█████▋    | 4/7 [00:08<00:07,  2.55s/it]"
     ]
    },
    {
     "name": "stdout",
     "output_type": "stream",
     "text": [
      "Model Was Not Saved ! Current Best Avg. Dice: 0.26509523391723633 Current Avg. Dice: 0.22821563482284546 Current Avg. tumor Dice: 0.2840556800365448 Current Avg. lymph Dice: 0.1723756045103073\n"
     ]
    },
    {
     "name": "stderr",
     "output_type": "stream",
     "text": [
      "Training (6803 / 18000 Steps) (loss=0.59049): 100%|██████████| 7/7 [00:09<00:00,  1.43s/it]\n",
      "Training (6810 / 18000 Steps) (loss=0.68367): 100%|██████████| 7/7 [00:05<00:00,  1.19it/s]\n",
      "Training (6817 / 18000 Steps) (loss=0.53560): 100%|██████████| 7/7 [00:05<00:00,  1.31it/s]\n",
      "Training (6824 / 18000 Steps) (loss=0.62315): 100%|██████████| 7/7 [00:05<00:00,  1.27it/s]\n",
      "Training (6831 / 18000 Steps) (loss=0.41308): 100%|██████████| 7/7 [00:05<00:00,  1.18it/s]\n",
      "Training (6838 / 18000 Steps) (loss=0.56038): 100%|██████████| 7/7 [00:05<00:00,  1.29it/s]\n",
      "Training (6845 / 18000 Steps) (loss=0.31860): 100%|██████████| 7/7 [00:06<00:00,  1.12it/s]\n",
      "Training (6852 / 18000 Steps) (loss=0.37099): 100%|██████████| 7/7 [00:05<00:00,  1.21it/s]\n",
      "Training (6859 / 18000 Steps) (loss=0.59651): 100%|██████████| 7/7 [00:05<00:00,  1.26it/s]\n",
      "Training (6866 / 18000 Steps) (loss=0.62205): 100%|██████████| 7/7 [00:05<00:00,  1.25it/s]\n",
      "Training (6873 / 18000 Steps) (loss=0.64814): 100%|██████████| 7/7 [00:05<00:00,  1.24it/s]\n",
      "Training (6880 / 18000 Steps) (loss=0.63386): 100%|██████████| 7/7 [00:05<00:00,  1.29it/s]\n",
      "Training (6887 / 18000 Steps) (loss=0.41537): 100%|██████████| 7/7 [00:05<00:00,  1.22it/s]\n",
      "Training (6894 / 18000 Steps) (loss=0.57013): 100%|██████████| 7/7 [00:05<00:00,  1.18it/s]\n",
      "Validate (6895 / 10 Steps): 100%|██████████| 2/2 [00:04<00:00,  2.16s/it]<00:01,  1.50it/s]\n",
      "Training (6900 / 18000 Steps) (loss=0.46664):  86%|████████▌ | 6/7 [00:09<00:02,  2.06s/it]"
     ]
    },
    {
     "name": "stdout",
     "output_type": "stream",
     "text": [
      "Model Was Not Saved ! Current Best Avg. Dice: 0.26509523391723633 Current Avg. Dice: 0.24277342855930328 Current Avg. tumor Dice: 0.30392980575561523 Current Avg. lymph Dice: 0.18161705136299133\n"
     ]
    },
    {
     "name": "stderr",
     "output_type": "stream",
     "text": [
      "Training (6901 / 18000 Steps) (loss=0.68576): 100%|██████████| 7/7 [00:10<00:00,  1.44s/it]\n",
      "Training (6908 / 18000 Steps) (loss=0.52663): 100%|██████████| 7/7 [00:05<00:00,  1.23it/s]\n",
      "Training (6915 / 18000 Steps) (loss=0.60487): 100%|██████████| 7/7 [00:06<00:00,  1.15it/s]\n",
      "Training (6922 / 18000 Steps) (loss=0.50127): 100%|██████████| 7/7 [00:05<00:00,  1.27it/s]\n",
      "Training (6929 / 18000 Steps) (loss=0.43893): 100%|██████████| 7/7 [00:05<00:00,  1.24it/s]\n",
      "Training (6936 / 18000 Steps) (loss=0.58921): 100%|██████████| 7/7 [00:05<00:00,  1.26it/s]\n",
      "Training (6943 / 18000 Steps) (loss=0.56734): 100%|██████████| 7/7 [00:05<00:00,  1.20it/s]\n",
      "Training (6950 / 18000 Steps) (loss=0.57390): 100%|██████████| 7/7 [00:06<00:00,  1.17it/s]\n",
      "Training (6957 / 18000 Steps) (loss=0.59613): 100%|██████████| 7/7 [00:05<00:00,  1.21it/s]\n",
      "Training (6964 / 18000 Steps) (loss=0.45363): 100%|██████████| 7/7 [00:05<00:00,  1.20it/s]\n",
      "Training (6971 / 18000 Steps) (loss=0.47828): 100%|██████████| 7/7 [00:05<00:00,  1.18it/s]\n",
      "Training (6978 / 18000 Steps) (loss=0.35372): 100%|██████████| 7/7 [00:05<00:00,  1.19it/s]\n",
      "Training (6985 / 18000 Steps) (loss=0.44836): 100%|██████████| 7/7 [00:05<00:00,  1.22it/s]\n",
      "Training (6992 / 18000 Steps) (loss=0.39122): 100%|██████████| 7/7 [00:05<00:00,  1.24it/s]\n",
      "Training (6999 / 18000 Steps) (loss=0.52948): 100%|██████████| 7/7 [00:05<00:00,  1.24it/s]\n",
      "Validate (7000 / 10 Steps): 100%|██████████| 2/2 [00:04<00:00,  2.39s/it]<?, ?it/s]\n",
      "Training (7000 / 18000 Steps) (loss=0.38351):  14%|█▍        | 1/7 [00:08<00:50,  8.35s/it]"
     ]
    },
    {
     "name": "stdout",
     "output_type": "stream",
     "text": [
      "Model Was Not Saved ! Current Best Avg. Dice: 0.26509523391723633 Current Avg. Dice: 0.21870769560337067 Current Avg. tumor Dice: 0.2647677958011627 Current Avg. lymph Dice: 0.1726476103067398\n"
     ]
    },
    {
     "name": "stderr",
     "output_type": "stream",
     "text": [
      "Training (7006 / 18000 Steps) (loss=0.59171): 100%|██████████| 7/7 [00:10<00:00,  1.54s/it]\n",
      "Training (7013 / 18000 Steps) (loss=0.43734): 100%|██████████| 7/7 [00:05<00:00,  1.25it/s]\n",
      "Training (7020 / 18000 Steps) (loss=0.40728): 100%|██████████| 7/7 [00:05<00:00,  1.25it/s]\n",
      "Training (7027 / 18000 Steps) (loss=0.62953): 100%|██████████| 7/7 [00:05<00:00,  1.34it/s]\n",
      "Training (7034 / 18000 Steps) (loss=0.48447): 100%|██████████| 7/7 [00:05<00:00,  1.26it/s]\n",
      "Training (7041 / 18000 Steps) (loss=0.50729): 100%|██████████| 7/7 [00:05<00:00,  1.27it/s]\n",
      "Training (7048 / 18000 Steps) (loss=0.46194): 100%|██████████| 7/7 [00:05<00:00,  1.18it/s]\n",
      "Training (7055 / 18000 Steps) (loss=0.68607): 100%|██████████| 7/7 [00:06<00:00,  1.12it/s]\n",
      "Training (7062 / 18000 Steps) (loss=0.55372): 100%|██████████| 7/7 [00:05<00:00,  1.21it/s]\n",
      "Training (7069 / 18000 Steps) (loss=0.50282): 100%|██████████| 7/7 [00:05<00:00,  1.24it/s]\n",
      "Training (7076 / 18000 Steps) (loss=0.54954): 100%|██████████| 7/7 [00:05<00:00,  1.23it/s]\n",
      "Training (7083 / 18000 Steps) (loss=0.40823): 100%|██████████| 7/7 [00:05<00:00,  1.34it/s]\n",
      "Training (7090 / 18000 Steps) (loss=0.57015): 100%|██████████| 7/7 [00:05<00:00,  1.20it/s]\n",
      "Training (7097 / 18000 Steps) (loss=0.64182): 100%|██████████| 7/7 [00:05<00:00,  1.25it/s]\n",
      "Validate (7098 / 10 Steps): 100%|██████████| 2/2 [00:04<00:00,  2.21s/it]<00:07,  1.57s/it]\n",
      "Training (7100 / 18000 Steps) (loss=0.39671):  43%|████▎     | 3/7 [00:08<00:12,  3.08s/it]"
     ]
    },
    {
     "name": "stdout",
     "output_type": "stream",
     "text": [
      "Model Was Not Saved ! Current Best Avg. Dice: 0.26509523391723633 Current Avg. Dice: 0.1891913115978241 Current Avg. tumor Dice: 0.2776462137699127 Current Avg. lymph Dice: 0.10073636472225189\n"
     ]
    },
    {
     "name": "stderr",
     "output_type": "stream",
     "text": [
      "Training (7104 / 18000 Steps) (loss=0.53021): 100%|██████████| 7/7 [00:10<00:00,  1.44s/it]\n",
      "Training (7111 / 18000 Steps) (loss=0.45438): 100%|██████████| 7/7 [00:05<00:00,  1.26it/s]\n",
      "Training (7118 / 18000 Steps) (loss=0.29293): 100%|██████████| 7/7 [00:05<00:00,  1.22it/s]\n",
      "Training (7125 / 18000 Steps) (loss=0.51983): 100%|██████████| 7/7 [00:05<00:00,  1.21it/s]\n",
      "Training (7132 / 18000 Steps) (loss=0.54981): 100%|██████████| 7/7 [00:05<00:00,  1.29it/s]\n",
      "Training (7139 / 18000 Steps) (loss=0.51580): 100%|██████████| 7/7 [00:05<00:00,  1.18it/s]\n",
      "Training (7146 / 18000 Steps) (loss=0.34866): 100%|██████████| 7/7 [00:06<00:00,  1.15it/s]\n",
      "Training (7153 / 18000 Steps) (loss=0.49756): 100%|██████████| 7/7 [00:05<00:00,  1.21it/s]\n",
      "Training (7160 / 18000 Steps) (loss=0.44995): 100%|██████████| 7/7 [00:05<00:00,  1.26it/s]\n",
      "Training (7167 / 18000 Steps) (loss=0.46329): 100%|██████████| 7/7 [00:05<00:00,  1.26it/s]\n",
      "Training (7174 / 18000 Steps) (loss=0.52719): 100%|██████████| 7/7 [00:05<00:00,  1.28it/s]\n",
      "Training (7181 / 18000 Steps) (loss=0.44874): 100%|██████████| 7/7 [00:05<00:00,  1.30it/s]\n",
      "Training (7188 / 18000 Steps) (loss=0.41395): 100%|██████████| 7/7 [00:05<00:00,  1.29it/s]\n",
      "Training (7195 / 18000 Steps) (loss=0.37642): 100%|██████████| 7/7 [00:05<00:00,  1.21it/s]\n",
      "Validate (7196 / 10 Steps): 100%|██████████| 2/2 [00:04<00:00,  2.09s/it]<00:02,  1.31it/s]\n",
      "Training (7200 / 18000 Steps) (loss=0.56359):  71%|███████▏  | 5/7 [00:08<00:04,  2.17s/it]"
     ]
    },
    {
     "name": "stdout",
     "output_type": "stream",
     "text": [
      "Model Was Not Saved ! Current Best Avg. Dice: 0.26509523391723633 Current Avg. Dice: 0.23585157096385956 Current Avg. tumor Dice: 0.3574778139591217 Current Avg. lymph Dice: 0.11422532051801682\n"
     ]
    },
    {
     "name": "stderr",
     "output_type": "stream",
     "text": [
      "Training (7202 / 18000 Steps) (loss=0.30278): 100%|██████████| 7/7 [00:09<00:00,  1.38s/it]\n",
      "Training (7209 / 18000 Steps) (loss=0.46022): 100%|██████████| 7/7 [00:05<00:00,  1.22it/s]\n",
      "Training (7216 / 18000 Steps) (loss=0.52069): 100%|██████████| 7/7 [00:05<00:00,  1.18it/s]\n",
      "Training (7223 / 18000 Steps) (loss=0.57660): 100%|██████████| 7/7 [00:05<00:00,  1.22it/s]\n",
      "Training (7230 / 18000 Steps) (loss=0.56361): 100%|██████████| 7/7 [00:05<00:00,  1.20it/s]\n",
      "Training (7237 / 18000 Steps) (loss=0.36522): 100%|██████████| 7/7 [00:05<00:00,  1.27it/s]\n",
      "Training (7244 / 18000 Steps) (loss=0.55965): 100%|██████████| 7/7 [00:05<00:00,  1.22it/s]\n",
      "Training (7251 / 18000 Steps) (loss=0.42434): 100%|██████████| 7/7 [00:05<00:00,  1.24it/s]\n",
      "Training (7258 / 18000 Steps) (loss=0.57657): 100%|██████████| 7/7 [00:05<00:00,  1.25it/s]\n",
      "Training (7265 / 18000 Steps) (loss=0.56588): 100%|██████████| 7/7 [00:05<00:00,  1.20it/s]\n",
      "Training (7272 / 18000 Steps) (loss=0.56305): 100%|██████████| 7/7 [00:05<00:00,  1.23it/s]\n",
      "Training (7279 / 18000 Steps) (loss=0.60891): 100%|██████████| 7/7 [00:05<00:00,  1.25it/s]\n",
      "Training (7286 / 18000 Steps) (loss=0.44332): 100%|██████████| 7/7 [00:05<00:00,  1.26it/s]\n",
      "Training (7293 / 18000 Steps) (loss=0.48546): 100%|██████████| 7/7 [00:05<00:00,  1.23it/s]\n",
      "Validate (7294 / 10 Steps): 100%|██████████| 2/2 [00:04<00:00,  2.48s/it]<00:00,  1.70it/s]\n",
      "Training (7300 / 18000 Steps) (loss=0.29317): 100%|██████████| 7/7 [00:11<00:00,  1.65s/it]\n"
     ]
    },
    {
     "name": "stdout",
     "output_type": "stream",
     "text": [
      "Model Was Saved ! Current Best Avg. Dice: 0.26999425888061523 Current Avg. Dice: 0.26999425888061523 Current Avg. tumor Dice: 0.3615996837615967 Current Avg. lymph Dice: 0.17838887870311737\n"
     ]
    },
    {
     "name": "stderr",
     "output_type": "stream",
     "text": [
      "Training (7307 / 18000 Steps) (loss=0.54798): 100%|██████████| 7/7 [00:05<00:00,  1.20it/s]\n",
      "Training (7314 / 18000 Steps) (loss=0.30055): 100%|██████████| 7/7 [00:05<00:00,  1.22it/s]\n",
      "Training (7321 / 18000 Steps) (loss=0.48074): 100%|██████████| 7/7 [00:05<00:00,  1.24it/s]\n",
      "Training (7328 / 18000 Steps) (loss=0.27002): 100%|██████████| 7/7 [00:05<00:00,  1.29it/s]\n",
      "Training (7335 / 18000 Steps) (loss=0.66326): 100%|██████████| 7/7 [00:05<00:00,  1.26it/s]\n",
      "Training (7342 / 18000 Steps) (loss=0.48537): 100%|██████████| 7/7 [00:05<00:00,  1.19it/s]\n",
      "Training (7349 / 18000 Steps) (loss=0.37944): 100%|██████████| 7/7 [00:05<00:00,  1.21it/s]\n",
      "Training (7356 / 18000 Steps) (loss=0.54624): 100%|██████████| 7/7 [00:05<00:00,  1.24it/s]\n",
      "Training (7363 / 18000 Steps) (loss=0.36419): 100%|██████████| 7/7 [00:05<00:00,  1.31it/s]\n",
      "Training (7370 / 18000 Steps) (loss=0.55717): 100%|██████████| 7/7 [00:05<00:00,  1.25it/s]\n",
      "Training (7377 / 18000 Steps) (loss=0.56696): 100%|██████████| 7/7 [00:05<00:00,  1.21it/s]\n",
      "Training (7384 / 18000 Steps) (loss=0.50887): 100%|██████████| 7/7 [00:05<00:00,  1.31it/s]\n",
      "Training (7391 / 18000 Steps) (loss=0.49233): 100%|██████████| 7/7 [00:05<00:00,  1.20it/s]\n",
      "Training (7398 / 18000 Steps) (loss=0.42132): 100%|██████████| 7/7 [00:05<00:00,  1.29it/s]\n",
      "Validate (7399 / 10 Steps): 100%|██████████| 2/2 [00:04<00:00,  2.12s/it]<00:19,  3.20s/it]\n",
      "Training (7400 / 18000 Steps) (loss=0.39461):  29%|██▊       | 2/7 [00:07<00:20,  4.08s/it]"
     ]
    },
    {
     "name": "stdout",
     "output_type": "stream",
     "text": [
      "Model Was Not Saved ! Current Best Avg. Dice: 0.26999425888061523 Current Avg. Dice: 0.24913612008094788 Current Avg. tumor Dice: 0.3238946199417114 Current Avg. lymph Dice: 0.1743776500225067\n"
     ]
    },
    {
     "name": "stderr",
     "output_type": "stream",
     "text": [
      "Training (7405 / 18000 Steps) (loss=0.35875): 100%|██████████| 7/7 [00:09<00:00,  1.41s/it]\n",
      "Training (7412 / 18000 Steps) (loss=0.38860): 100%|██████████| 7/7 [00:05<00:00,  1.25it/s]\n",
      "Training (7419 / 18000 Steps) (loss=0.23061): 100%|██████████| 7/7 [00:05<00:00,  1.25it/s]\n",
      "Training (7426 / 18000 Steps) (loss=0.48411): 100%|██████████| 7/7 [00:06<00:00,  1.15it/s]\n",
      "Training (7433 / 18000 Steps) (loss=0.45429): 100%|██████████| 7/7 [00:05<00:00,  1.29it/s]\n",
      "Training (7440 / 18000 Steps) (loss=0.44683): 100%|██████████| 7/7 [00:05<00:00,  1.35it/s]\n",
      "Training (7447 / 18000 Steps) (loss=0.46234): 100%|██████████| 7/7 [00:05<00:00,  1.26it/s]\n",
      "Training (7454 / 18000 Steps) (loss=0.36549): 100%|██████████| 7/7 [00:05<00:00,  1.25it/s]\n",
      "Training (7461 / 18000 Steps) (loss=0.45970): 100%|██████████| 7/7 [00:05<00:00,  1.22it/s]\n",
      "Training (7468 / 18000 Steps) (loss=0.66866): 100%|██████████| 7/7 [00:05<00:00,  1.18it/s]\n",
      "Training (7475 / 18000 Steps) (loss=0.50444): 100%|██████████| 7/7 [00:05<00:00,  1.26it/s]\n",
      "Training (7482 / 18000 Steps) (loss=0.37973): 100%|██████████| 7/7 [00:05<00:00,  1.18it/s]\n",
      "Training (7489 / 18000 Steps) (loss=0.46703): 100%|██████████| 7/7 [00:05<00:00,  1.33it/s]\n",
      "Training (7496 / 18000 Steps) (loss=0.50530): 100%|██████████| 7/7 [00:05<00:00,  1.23it/s]\n",
      "Validate (7497 / 10 Steps): 100%|██████████| 2/2 [00:04<00:00,  2.26s/it]<00:04,  1.06s/it]\n",
      "Training (7500 / 18000 Steps) (loss=0.51393):  57%|█████▋    | 4/7 [00:09<00:07,  2.61s/it]"
     ]
    },
    {
     "name": "stdout",
     "output_type": "stream",
     "text": [
      "Model Was Not Saved ! Current Best Avg. Dice: 0.26999425888061523 Current Avg. Dice: 0.22202640771865845 Current Avg. tumor Dice: 0.28565242886543274 Current Avg. lymph Dice: 0.15840038657188416\n"
     ]
    },
    {
     "name": "stderr",
     "output_type": "stream",
     "text": [
      "Training (7503 / 18000 Steps) (loss=0.54058): 100%|██████████| 7/7 [00:10<00:00,  1.47s/it]\n",
      "Training (7510 / 18000 Steps) (loss=0.39664): 100%|██████████| 7/7 [00:06<00:00,  1.13it/s]\n",
      "Training (7517 / 18000 Steps) (loss=0.49090): 100%|██████████| 7/7 [00:05<00:00,  1.21it/s]\n",
      "Training (7524 / 18000 Steps) (loss=0.46476): 100%|██████████| 7/7 [00:05<00:00,  1.23it/s]\n",
      "Training (7531 / 18000 Steps) (loss=0.51288): 100%|██████████| 7/7 [00:05<00:00,  1.24it/s]\n",
      "Training (7538 / 18000 Steps) (loss=0.59719): 100%|██████████| 7/7 [00:05<00:00,  1.25it/s]\n",
      "Training (7545 / 18000 Steps) (loss=0.67284): 100%|██████████| 7/7 [00:05<00:00,  1.22it/s]\n",
      "Training (7552 / 18000 Steps) (loss=0.50140): 100%|██████████| 7/7 [00:05<00:00,  1.20it/s]\n",
      "Training (7559 / 18000 Steps) (loss=0.37245): 100%|██████████| 7/7 [00:05<00:00,  1.20it/s]\n",
      "Training (7566 / 18000 Steps) (loss=0.45167): 100%|██████████| 7/7 [00:05<00:00,  1.22it/s]\n",
      "Training (7573 / 18000 Steps) (loss=0.34039): 100%|██████████| 7/7 [00:05<00:00,  1.27it/s]\n",
      "Training (7580 / 18000 Steps) (loss=0.44211): 100%|██████████| 7/7 [00:05<00:00,  1.28it/s]\n",
      "Training (7587 / 18000 Steps) (loss=0.51786): 100%|██████████| 7/7 [00:05<00:00,  1.26it/s]\n",
      "Training (7594 / 18000 Steps) (loss=0.63985): 100%|██████████| 7/7 [00:06<00:00,  1.13it/s]\n",
      "Validate (7595 / 10 Steps): 100%|██████████| 2/2 [00:04<00:00,  2.27s/it]<00:01,  1.48it/s]\n",
      "Training (7600 / 18000 Steps) (loss=0.57724):  86%|████████▌ | 6/7 [00:10<00:02,  2.15s/it]"
     ]
    },
    {
     "name": "stdout",
     "output_type": "stream",
     "text": [
      "Model Was Not Saved ! Current Best Avg. Dice: 0.26999425888061523 Current Avg. Dice: 0.24553757905960083 Current Avg. tumor Dice: 0.3618914484977722 Current Avg. lymph Dice: 0.12918366491794586\n"
     ]
    },
    {
     "name": "stderr",
     "output_type": "stream",
     "text": [
      "Training (7601 / 18000 Steps) (loss=0.37768): 100%|██████████| 7/7 [00:10<00:00,  1.48s/it]\n",
      "Training (7608 / 18000 Steps) (loss=0.53550): 100%|██████████| 7/7 [00:05<00:00,  1.18it/s]\n",
      "Training (7615 / 18000 Steps) (loss=0.50283): 100%|██████████| 7/7 [00:05<00:00,  1.24it/s]\n",
      "Training (7622 / 18000 Steps) (loss=0.43801): 100%|██████████| 7/7 [00:05<00:00,  1.26it/s]\n",
      "Training (7629 / 18000 Steps) (loss=0.55602): 100%|██████████| 7/7 [00:05<00:00,  1.25it/s]\n",
      "Training (7636 / 18000 Steps) (loss=0.45928): 100%|██████████| 7/7 [00:05<00:00,  1.22it/s]\n",
      "Training (7643 / 18000 Steps) (loss=0.47548): 100%|██████████| 7/7 [00:05<00:00,  1.23it/s]\n",
      "Training (7650 / 18000 Steps) (loss=0.46665): 100%|██████████| 7/7 [00:05<00:00,  1.32it/s]\n",
      "Training (7657 / 18000 Steps) (loss=0.53772): 100%|██████████| 7/7 [00:05<00:00,  1.20it/s]\n",
      "Training (7664 / 18000 Steps) (loss=0.53792): 100%|██████████| 7/7 [00:05<00:00,  1.18it/s]\n",
      "Training (7671 / 18000 Steps) (loss=0.34064): 100%|██████████| 7/7 [00:05<00:00,  1.22it/s]\n",
      "Training (7678 / 18000 Steps) (loss=0.57488): 100%|██████████| 7/7 [00:06<00:00,  1.12it/s]\n",
      "Training (7685 / 18000 Steps) (loss=0.58924): 100%|██████████| 7/7 [00:05<00:00,  1.26it/s]\n",
      "Training (7692 / 18000 Steps) (loss=0.46301): 100%|██████████| 7/7 [00:05<00:00,  1.24it/s]\n",
      "Training (7699 / 18000 Steps) (loss=0.66815): 100%|██████████| 7/7 [00:05<00:00,  1.21it/s]\n",
      "Validate (7700 / 10 Steps): 100%|██████████| 2/2 [00:04<00:00,  2.16s/it]<?, ?it/s]\n",
      "Training (7700 / 18000 Steps) (loss=0.52769):  14%|█▍        | 1/7 [00:07<00:44,  7.39s/it]"
     ]
    },
    {
     "name": "stdout",
     "output_type": "stream",
     "text": [
      "Model Was Not Saved ! Current Best Avg. Dice: 0.26999425888061523 Current Avg. Dice: 0.2619366943836212 Current Avg. tumor Dice: 0.3692595660686493 Current Avg. lymph Dice: 0.15461380779743195\n"
     ]
    },
    {
     "name": "stderr",
     "output_type": "stream",
     "text": [
      "Training (7706 / 18000 Steps) (loss=0.40920): 100%|██████████| 7/7 [00:09<00:00,  1.41s/it]\n",
      "Training (7713 / 18000 Steps) (loss=0.40669): 100%|██████████| 7/7 [00:05<00:00,  1.18it/s]\n",
      "Training (7720 / 18000 Steps) (loss=0.44011): 100%|██████████| 7/7 [00:05<00:00,  1.24it/s]\n",
      "Training (7727 / 18000 Steps) (loss=0.48255): 100%|██████████| 7/7 [00:05<00:00,  1.21it/s]\n",
      "Training (7734 / 18000 Steps) (loss=0.56828): 100%|██████████| 7/7 [00:05<00:00,  1.31it/s]\n",
      "Training (7741 / 18000 Steps) (loss=0.24449): 100%|██████████| 7/7 [00:05<00:00,  1.26it/s]\n",
      "Training (7748 / 18000 Steps) (loss=0.50500): 100%|██████████| 7/7 [00:05<00:00,  1.28it/s]\n",
      "Training (7755 / 18000 Steps) (loss=0.35645): 100%|██████████| 7/7 [00:05<00:00,  1.23it/s]\n",
      "Training (7762 / 18000 Steps) (loss=0.46885): 100%|██████████| 7/7 [00:05<00:00,  1.19it/s]\n",
      "Training (7769 / 18000 Steps) (loss=0.55886): 100%|██████████| 7/7 [00:06<00:00,  1.16it/s]\n",
      "Training (7776 / 18000 Steps) (loss=0.44512): 100%|██████████| 7/7 [00:05<00:00,  1.25it/s]\n",
      "Training (7783 / 18000 Steps) (loss=0.43018): 100%|██████████| 7/7 [00:05<00:00,  1.21it/s]\n",
      "Training (7790 / 18000 Steps) (loss=0.29920): 100%|██████████| 7/7 [00:05<00:00,  1.21it/s]\n",
      "Training (7797 / 18000 Steps) (loss=0.59755): 100%|██████████| 7/7 [00:05<00:00,  1.28it/s]\n",
      "Validate (7798 / 10 Steps): 100%|██████████| 2/2 [00:04<00:00,  2.19s/it]<00:08,  1.70s/it]\n",
      "Training (7800 / 18000 Steps) (loss=0.48294):  43%|████▎     | 3/7 [00:08<00:12,  3.14s/it]"
     ]
    },
    {
     "name": "stdout",
     "output_type": "stream",
     "text": [
      "Model Was Not Saved ! Current Best Avg. Dice: 0.26999425888061523 Current Avg. Dice: 0.21337315440177917 Current Avg. tumor Dice: 0.3173888325691223 Current Avg. lymph Dice: 0.10935748368501663\n"
     ]
    },
    {
     "name": "stderr",
     "output_type": "stream",
     "text": [
      "Training (7804 / 18000 Steps) (loss=0.42877): 100%|██████████| 7/7 [00:10<00:00,  1.48s/it]\n",
      "Training (7811 / 18000 Steps) (loss=0.43344): 100%|██████████| 7/7 [00:05<00:00,  1.29it/s]\n",
      "Training (7818 / 18000 Steps) (loss=0.43028): 100%|██████████| 7/7 [00:05<00:00,  1.21it/s]\n",
      "Training (7825 / 18000 Steps) (loss=0.47941): 100%|██████████| 7/7 [00:05<00:00,  1.31it/s]\n",
      "Training (7832 / 18000 Steps) (loss=0.50163): 100%|██████████| 7/7 [00:05<00:00,  1.29it/s]\n",
      "Training (7839 / 18000 Steps) (loss=0.51908): 100%|██████████| 7/7 [00:05<00:00,  1.28it/s]\n",
      "Training (7846 / 18000 Steps) (loss=0.36790): 100%|██████████| 7/7 [00:05<00:00,  1.27it/s]\n",
      "Training (7853 / 18000 Steps) (loss=0.41401): 100%|██████████| 7/7 [00:05<00:00,  1.22it/s]\n",
      "Training (7860 / 18000 Steps) (loss=0.50101): 100%|██████████| 7/7 [00:05<00:00,  1.26it/s]\n",
      "Training (7867 / 18000 Steps) (loss=0.57052): 100%|██████████| 7/7 [00:05<00:00,  1.31it/s]\n",
      "Training (7874 / 18000 Steps) (loss=0.42319): 100%|██████████| 7/7 [00:05<00:00,  1.18it/s]\n",
      "Training (7881 / 18000 Steps) (loss=0.59742): 100%|██████████| 7/7 [00:06<00:00,  1.14it/s]\n",
      "Training (7888 / 18000 Steps) (loss=0.55305): 100%|██████████| 7/7 [00:05<00:00,  1.22it/s]\n",
      "Training (7895 / 18000 Steps) (loss=0.46188): 100%|██████████| 7/7 [00:06<00:00,  1.16it/s]\n",
      "Validate (7896 / 10 Steps): 100%|██████████| 2/2 [00:04<00:00,  2.13s/it]<00:02,  1.30it/s]\n",
      "Training (7900 / 18000 Steps) (loss=0.61165):  71%|███████▏  | 5/7 [00:09<00:04,  2.20s/it]"
     ]
    },
    {
     "name": "stdout",
     "output_type": "stream",
     "text": [
      "Model Was Not Saved ! Current Best Avg. Dice: 0.26999425888061523 Current Avg. Dice: 0.22010034322738647 Current Avg. tumor Dice: 0.27545949816703796 Current Avg. lymph Dice: 0.1647411733865738\n"
     ]
    },
    {
     "name": "stderr",
     "output_type": "stream",
     "text": [
      "Training (7902 / 18000 Steps) (loss=0.49388): 100%|██████████| 7/7 [00:09<00:00,  1.40s/it]\n",
      "Training (7909 / 18000 Steps) (loss=0.49518): 100%|██████████| 7/7 [00:05<00:00,  1.19it/s]\n",
      "Training (7916 / 18000 Steps) (loss=0.52074): 100%|██████████| 7/7 [00:05<00:00,  1.21it/s]\n",
      "Training (7923 / 18000 Steps) (loss=0.41329): 100%|██████████| 7/7 [00:05<00:00,  1.19it/s]\n",
      "Training (7930 / 18000 Steps) (loss=0.45463): 100%|██████████| 7/7 [00:05<00:00,  1.27it/s]\n",
      "Training (7937 / 18000 Steps) (loss=0.56304): 100%|██████████| 7/7 [00:05<00:00,  1.26it/s]\n",
      "Training (7944 / 18000 Steps) (loss=0.22477): 100%|██████████| 7/7 [00:05<00:00,  1.18it/s]\n",
      "Training (7951 / 18000 Steps) (loss=0.40095): 100%|██████████| 7/7 [00:05<00:00,  1.20it/s]\n",
      "Training (7958 / 18000 Steps) (loss=0.58852): 100%|██████████| 7/7 [00:05<00:00,  1.24it/s]\n",
      "Training (7965 / 18000 Steps) (loss=0.27485): 100%|██████████| 7/7 [00:05<00:00,  1.23it/s]\n",
      "Training (7972 / 18000 Steps) (loss=0.55805): 100%|██████████| 7/7 [00:06<00:00,  1.16it/s]\n",
      "Training (7979 / 18000 Steps) (loss=0.55686): 100%|██████████| 7/7 [00:05<00:00,  1.18it/s]\n",
      "Training (7986 / 18000 Steps) (loss=0.46167): 100%|██████████| 7/7 [00:05<00:00,  1.28it/s]\n",
      "Training (7993 / 18000 Steps) (loss=0.67680): 100%|██████████| 7/7 [00:05<00:00,  1.27it/s]\n",
      "Validate (7994 / 10 Steps): 100%|██████████| 2/2 [00:04<00:00,  2.27s/it]<00:00,  1.75it/s]\n",
      "Training (8000 / 18000 Steps) (loss=0.45431): 100%|██████████| 7/7 [00:10<00:00,  1.44s/it]\n"
     ]
    },
    {
     "name": "stdout",
     "output_type": "stream",
     "text": [
      "Model Was Not Saved ! Current Best Avg. Dice: 0.26999425888061523 Current Avg. Dice: 0.23754076659679413 Current Avg. tumor Dice: 0.3063659071922302 Current Avg. lymph Dice: 0.16871562600135803\n"
     ]
    },
    {
     "name": "stderr",
     "output_type": "stream",
     "text": [
      "Training (8007 / 18000 Steps) (loss=0.44609): 100%|██████████| 7/7 [00:05<00:00,  1.25it/s]\n",
      "Training (8014 / 18000 Steps) (loss=0.48509): 100%|██████████| 7/7 [00:05<00:00,  1.26it/s]\n",
      "Training (8021 / 18000 Steps) (loss=0.47110): 100%|██████████| 7/7 [00:05<00:00,  1.28it/s]\n",
      "Training (8028 / 18000 Steps) (loss=0.43620): 100%|██████████| 7/7 [00:05<00:00,  1.21it/s]\n",
      "Training (8035 / 18000 Steps) (loss=0.61893): 100%|██████████| 7/7 [00:05<00:00,  1.22it/s]\n",
      "Training (8042 / 18000 Steps) (loss=0.45247): 100%|██████████| 7/7 [00:05<00:00,  1.24it/s]\n",
      "Training (8049 / 18000 Steps) (loss=0.57726): 100%|██████████| 7/7 [00:05<00:00,  1.24it/s]\n",
      "Training (8056 / 18000 Steps) (loss=0.56520): 100%|██████████| 7/7 [00:05<00:00,  1.19it/s]\n",
      "Training (8063 / 18000 Steps) (loss=0.57979): 100%|██████████| 7/7 [00:05<00:00,  1.23it/s]\n",
      "Training (8070 / 18000 Steps) (loss=0.41056): 100%|██████████| 7/7 [00:05<00:00,  1.24it/s]\n",
      "Training (8077 / 18000 Steps) (loss=0.34210): 100%|██████████| 7/7 [00:05<00:00,  1.23it/s]\n",
      "Training (8084 / 18000 Steps) (loss=0.55456): 100%|██████████| 7/7 [00:05<00:00,  1.30it/s]\n",
      "Training (8091 / 18000 Steps) (loss=0.53790): 100%|██████████| 7/7 [00:05<00:00,  1.19it/s]\n",
      "Training (8098 / 18000 Steps) (loss=0.43059): 100%|██████████| 7/7 [00:05<00:00,  1.24it/s]\n",
      "Validate (8099 / 10 Steps): 100%|██████████| 2/2 [00:04<00:00,  2.27s/it]<00:18,  3.08s/it]\n",
      "Training (8100 / 18000 Steps) (loss=0.33898):  29%|██▊       | 2/7 [00:08<00:21,  4.21s/it]"
     ]
    },
    {
     "name": "stdout",
     "output_type": "stream",
     "text": [
      "Model Was Not Saved ! Current Best Avg. Dice: 0.26999425888061523 Current Avg. Dice: 0.23901104927062988 Current Avg. tumor Dice: 0.28414294123649597 Current Avg. lymph Dice: 0.1938791275024414\n"
     ]
    },
    {
     "name": "stderr",
     "output_type": "stream",
     "text": [
      "Training (8105 / 18000 Steps) (loss=0.54570): 100%|██████████| 7/7 [00:10<00:00,  1.44s/it]\n",
      "Training (8112 / 18000 Steps) (loss=0.50884): 100%|██████████| 7/7 [00:05<00:00,  1.28it/s]\n",
      "Training (8119 / 18000 Steps) (loss=0.58632): 100%|██████████| 7/7 [00:06<00:00,  1.17it/s]\n",
      "Training (8126 / 18000 Steps) (loss=0.43629): 100%|██████████| 7/7 [00:05<00:00,  1.17it/s]\n",
      "Training (8133 / 18000 Steps) (loss=0.44501): 100%|██████████| 7/7 [00:05<00:00,  1.23it/s]\n",
      "Training (8140 / 18000 Steps) (loss=0.35847): 100%|██████████| 7/7 [00:05<00:00,  1.26it/s]\n",
      "Training (8147 / 18000 Steps) (loss=0.60296): 100%|██████████| 7/7 [00:05<00:00,  1.25it/s]\n",
      "Training (8154 / 18000 Steps) (loss=0.56924): 100%|██████████| 7/7 [00:05<00:00,  1.24it/s]\n",
      "Training (8161 / 18000 Steps) (loss=0.54596): 100%|██████████| 7/7 [00:05<00:00,  1.18it/s]\n",
      "Training (8168 / 18000 Steps) (loss=0.57359): 100%|██████████| 7/7 [00:05<00:00,  1.18it/s]\n",
      "Training (8175 / 18000 Steps) (loss=0.53763): 100%|██████████| 7/7 [00:06<00:00,  1.16it/s]\n",
      "Training (8182 / 18000 Steps) (loss=0.55313): 100%|██████████| 7/7 [00:05<00:00,  1.24it/s]\n",
      "Training (8189 / 18000 Steps) (loss=0.50430): 100%|██████████| 7/7 [00:05<00:00,  1.26it/s]\n",
      "Training (8196 / 18000 Steps) (loss=0.54652): 100%|██████████| 7/7 [00:05<00:00,  1.22it/s]\n",
      "Validate (8197 / 10 Steps): 100%|██████████| 2/2 [00:04<00:00,  2.26s/it]<00:04,  1.05s/it]\n",
      "Training (8200 / 18000 Steps) (loss=0.60717):  57%|█████▋    | 4/7 [00:09<00:07,  2.61s/it]"
     ]
    },
    {
     "name": "stdout",
     "output_type": "stream",
     "text": [
      "Model Was Not Saved ! Current Best Avg. Dice: 0.26999425888061523 Current Avg. Dice: 0.23500338196754456 Current Avg. tumor Dice: 0.30808496475219727 Current Avg. lymph Dice: 0.16192182898521423\n"
     ]
    },
    {
     "name": "stderr",
     "output_type": "stream",
     "text": [
      "Training (8203 / 18000 Steps) (loss=0.53479): 100%|██████████| 7/7 [00:10<00:00,  1.47s/it]\n",
      "Training (8210 / 18000 Steps) (loss=0.45788): 100%|██████████| 7/7 [00:06<00:00,  1.14it/s]\n",
      "Training (8217 / 18000 Steps) (loss=0.43355): 100%|██████████| 7/7 [00:05<00:00,  1.19it/s]\n",
      "Training (8224 / 18000 Steps) (loss=0.43740): 100%|██████████| 7/7 [00:05<00:00,  1.24it/s]\n",
      "Training (8231 / 18000 Steps) (loss=0.56228): 100%|██████████| 7/7 [00:05<00:00,  1.22it/s]\n",
      "Training (8238 / 18000 Steps) (loss=0.55342): 100%|██████████| 7/7 [00:05<00:00,  1.27it/s]\n",
      "Training (8245 / 18000 Steps) (loss=0.36459): 100%|██████████| 7/7 [00:05<00:00,  1.20it/s]\n",
      "Training (8252 / 18000 Steps) (loss=0.46684): 100%|██████████| 7/7 [00:06<00:00,  1.12it/s]\n",
      "Training (8259 / 18000 Steps) (loss=0.59533): 100%|██████████| 7/7 [00:05<00:00,  1.21it/s]\n",
      "Training (8266 / 18000 Steps) (loss=0.43520): 100%|██████████| 7/7 [00:05<00:00,  1.20it/s]\n",
      "Training (8273 / 18000 Steps) (loss=0.34447): 100%|██████████| 7/7 [00:05<00:00,  1.25it/s]\n",
      "Training (8280 / 18000 Steps) (loss=0.46246): 100%|██████████| 7/7 [00:05<00:00,  1.24it/s]\n",
      "Training (8287 / 18000 Steps) (loss=0.56323): 100%|██████████| 7/7 [00:05<00:00,  1.24it/s]\n",
      "Training (8294 / 18000 Steps) (loss=0.55391): 100%|██████████| 7/7 [00:05<00:00,  1.27it/s]\n",
      "Validate (8295 / 10 Steps): 100%|██████████| 2/2 [00:04<00:00,  2.21s/it]<00:01,  1.39it/s]\n",
      "Training (8300 / 18000 Steps) (loss=0.49877):  86%|████████▌ | 6/7 [00:10<00:02,  2.13s/it]"
     ]
    },
    {
     "name": "stdout",
     "output_type": "stream",
     "text": [
      "Model Was Not Saved ! Current Best Avg. Dice: 0.26999425888061523 Current Avg. Dice: 0.22995080053806305 Current Avg. tumor Dice: 0.3412160873413086 Current Avg. lymph Dice: 0.11868554353713989\n"
     ]
    },
    {
     "name": "stderr",
     "output_type": "stream",
     "text": [
      "Training (8301 / 18000 Steps) (loss=0.60841): 100%|██████████| 7/7 [00:10<00:00,  1.54s/it]\n",
      "Training (8308 / 18000 Steps) (loss=0.46282): 100%|██████████| 7/7 [00:05<00:00,  1.23it/s]\n",
      "Training (8315 / 18000 Steps) (loss=0.39200): 100%|██████████| 7/7 [00:05<00:00,  1.24it/s]\n",
      "Training (8322 / 18000 Steps) (loss=0.66526): 100%|██████████| 7/7 [00:05<00:00,  1.20it/s]\n",
      "Training (8329 / 18000 Steps) (loss=0.58571): 100%|██████████| 7/7 [00:05<00:00,  1.22it/s]\n",
      "Training (8336 / 18000 Steps) (loss=0.43977): 100%|██████████| 7/7 [00:05<00:00,  1.26it/s]\n",
      "Training (8343 / 18000 Steps) (loss=0.32607): 100%|██████████| 7/7 [00:05<00:00,  1.26it/s]\n",
      "Training (8350 / 18000 Steps) (loss=0.67024): 100%|██████████| 7/7 [00:05<00:00,  1.23it/s]\n",
      "Training (8357 / 18000 Steps) (loss=0.30638): 100%|██████████| 7/7 [00:05<00:00,  1.25it/s]\n",
      "Training (8364 / 18000 Steps) (loss=0.49859): 100%|██████████| 7/7 [00:05<00:00,  1.24it/s]\n",
      "Training (8371 / 18000 Steps) (loss=0.62146): 100%|██████████| 7/7 [00:05<00:00,  1.21it/s]\n",
      "Training (8378 / 18000 Steps) (loss=0.41576): 100%|██████████| 7/7 [00:05<00:00,  1.23it/s]\n",
      "Training (8385 / 18000 Steps) (loss=0.53721): 100%|██████████| 7/7 [00:05<00:00,  1.25it/s]\n",
      "Training (8392 / 18000 Steps) (loss=0.32327): 100%|██████████| 7/7 [00:05<00:00,  1.26it/s]\n",
      "Training (8399 / 18000 Steps) (loss=0.47493): 100%|██████████| 7/7 [00:05<00:00,  1.28it/s]\n",
      "Validate (8400 / 10 Steps): 100%|██████████| 2/2 [00:04<00:00,  2.32s/it]<?, ?it/s]\n",
      "Training (8400 / 18000 Steps) (loss=0.44807):  14%|█▍        | 1/7 [00:07<00:46,  7.82s/it]"
     ]
    },
    {
     "name": "stdout",
     "output_type": "stream",
     "text": [
      "Model Was Not Saved ! Current Best Avg. Dice: 0.26999425888061523 Current Avg. Dice: 0.2194679230451584 Current Avg. tumor Dice: 0.3063151240348816 Current Avg. lymph Dice: 0.132620707154274\n"
     ]
    },
    {
     "name": "stderr",
     "output_type": "stream",
     "text": [
      "Training (8406 / 18000 Steps) (loss=0.45048): 100%|██████████| 7/7 [00:10<00:00,  1.47s/it]\n",
      "Training (8413 / 18000 Steps) (loss=0.36839): 100%|██████████| 7/7 [00:05<00:00,  1.23it/s]\n",
      "Training (8420 / 18000 Steps) (loss=0.59943): 100%|██████████| 7/7 [00:05<00:00,  1.22it/s]\n",
      "Training (8427 / 18000 Steps) (loss=0.24176): 100%|██████████| 7/7 [00:05<00:00,  1.26it/s]\n",
      "Training (8434 / 18000 Steps) (loss=0.31661): 100%|██████████| 7/7 [00:05<00:00,  1.28it/s]\n",
      "Training (8441 / 18000 Steps) (loss=0.60738): 100%|██████████| 7/7 [00:05<00:00,  1.31it/s]\n",
      "Training (8448 / 18000 Steps) (loss=0.32782): 100%|██████████| 7/7 [00:05<00:00,  1.18it/s]\n",
      "Training (8455 / 18000 Steps) (loss=0.48729): 100%|██████████| 7/7 [00:06<00:00,  1.16it/s]\n",
      "Training (8462 / 18000 Steps) (loss=0.48616): 100%|██████████| 7/7 [00:05<00:00,  1.23it/s]\n",
      "Training (8469 / 18000 Steps) (loss=0.61816): 100%|██████████| 7/7 [00:05<00:00,  1.25it/s]\n",
      "Training (8476 / 18000 Steps) (loss=0.37197): 100%|██████████| 7/7 [00:05<00:00,  1.32it/s]\n",
      "Training (8483 / 18000 Steps) (loss=0.55570): 100%|██████████| 7/7 [00:05<00:00,  1.27it/s]\n",
      "Training (8490 / 18000 Steps) (loss=0.60261): 100%|██████████| 7/7 [00:05<00:00,  1.24it/s]\n",
      "Training (8497 / 18000 Steps) (loss=0.55342): 100%|██████████| 7/7 [00:05<00:00,  1.24it/s]\n",
      "Validate (8498 / 10 Steps): 100%|██████████| 2/2 [00:04<00:00,  2.27s/it]<00:08,  1.62s/it]\n",
      "Training (8500 / 18000 Steps) (loss=0.54065):  43%|████▎     | 3/7 [00:08<00:12,  3.17s/it]"
     ]
    },
    {
     "name": "stdout",
     "output_type": "stream",
     "text": [
      "Model Was Not Saved ! Current Best Avg. Dice: 0.26999425888061523 Current Avg. Dice: 0.215078204870224 Current Avg. tumor Dice: 0.2790226936340332 Current Avg. lymph Dice: 0.1511337161064148\n"
     ]
    },
    {
     "name": "stderr",
     "output_type": "stream",
     "text": [
      "Training (8504 / 18000 Steps) (loss=0.45085): 100%|██████████| 7/7 [00:10<00:00,  1.48s/it]\n",
      "Training (8511 / 18000 Steps) (loss=0.44086): 100%|██████████| 7/7 [00:05<00:00,  1.25it/s]\n",
      "Training (8518 / 18000 Steps) (loss=0.47636): 100%|██████████| 7/7 [00:05<00:00,  1.25it/s]\n",
      "Training (8525 / 18000 Steps) (loss=0.67398): 100%|██████████| 7/7 [00:05<00:00,  1.25it/s]\n",
      "Training (8532 / 18000 Steps) (loss=0.51207): 100%|██████████| 7/7 [00:05<00:00,  1.26it/s]\n",
      "Training (8539 / 18000 Steps) (loss=0.45158): 100%|██████████| 7/7 [00:05<00:00,  1.31it/s]\n",
      "Training (8546 / 18000 Steps) (loss=0.42525): 100%|██████████| 7/7 [00:05<00:00,  1.26it/s]\n",
      "Training (8553 / 18000 Steps) (loss=0.45574): 100%|██████████| 7/7 [00:05<00:00,  1.26it/s]\n",
      "Training (8560 / 18000 Steps) (loss=0.39805): 100%|██████████| 7/7 [00:05<00:00,  1.25it/s]\n",
      "Training (8567 / 18000 Steps) (loss=0.26880): 100%|██████████| 7/7 [00:05<00:00,  1.22it/s]\n",
      "Training (8574 / 18000 Steps) (loss=0.50510): 100%|██████████| 7/7 [00:05<00:00,  1.18it/s]\n",
      "Training (8581 / 18000 Steps) (loss=0.48234): 100%|██████████| 7/7 [00:05<00:00,  1.25it/s]\n",
      "Training (8588 / 18000 Steps) (loss=0.36493): 100%|██████████| 7/7 [00:05<00:00,  1.28it/s]\n",
      "Training (8595 / 18000 Steps) (loss=0.60149): 100%|██████████| 7/7 [00:05<00:00,  1.26it/s]\n",
      "Validate (8596 / 10 Steps): 100%|██████████| 2/2 [00:04<00:00,  2.22s/it]<00:02,  1.33it/s]\n",
      "Training (8600 / 18000 Steps) (loss=0.48815):  71%|███████▏  | 5/7 [00:09<00:05,  2.53s/it]"
     ]
    },
    {
     "name": "stdout",
     "output_type": "stream",
     "text": [
      "Model Was Saved ! Current Best Avg. Dice: 0.29322290420532227 Current Avg. Dice: 0.29322290420532227 Current Avg. tumor Dice: 0.35120123624801636 Current Avg. lymph Dice: 0.23524457216262817\n"
     ]
    },
    {
     "name": "stderr",
     "output_type": "stream",
     "text": [
      "Training (8602 / 18000 Steps) (loss=0.54163): 100%|██████████| 7/7 [00:10<00:00,  1.51s/it]\n",
      "Training (8609 / 18000 Steps) (loss=0.45634): 100%|██████████| 7/7 [00:06<00:00,  1.14it/s]\n",
      "Training (8616 / 18000 Steps) (loss=0.49011): 100%|██████████| 7/7 [00:06<00:00,  1.09it/s]\n",
      "Training (8623 / 18000 Steps) (loss=0.55826): 100%|██████████| 7/7 [00:05<00:00,  1.22it/s]\n",
      "Training (8630 / 18000 Steps) (loss=0.48624): 100%|██████████| 7/7 [00:05<00:00,  1.26it/s]\n",
      "Training (8637 / 18000 Steps) (loss=0.52017): 100%|██████████| 7/7 [00:05<00:00,  1.19it/s]\n",
      "Training (8644 / 18000 Steps) (loss=0.26646): 100%|██████████| 7/7 [00:05<00:00,  1.29it/s]\n",
      "Training (8651 / 18000 Steps) (loss=0.48668): 100%|██████████| 7/7 [00:05<00:00,  1.28it/s]\n",
      "Training (8658 / 18000 Steps) (loss=0.54210): 100%|██████████| 7/7 [00:05<00:00,  1.21it/s]\n",
      "Training (8665 / 18000 Steps) (loss=0.31725): 100%|██████████| 7/7 [00:05<00:00,  1.23it/s]\n",
      "Training (8672 / 18000 Steps) (loss=0.44939): 100%|██████████| 7/7 [00:05<00:00,  1.23it/s]\n",
      "Training (8679 / 18000 Steps) (loss=0.56058): 100%|██████████| 7/7 [00:06<00:00,  1.15it/s]\n",
      "Training (8686 / 18000 Steps) (loss=0.49133): 100%|██████████| 7/7 [00:05<00:00,  1.24it/s]\n",
      "Training (8693 / 18000 Steps) (loss=0.46818): 100%|██████████| 7/7 [00:05<00:00,  1.31it/s]\n",
      "Validate (8694 / 10 Steps): 100%|██████████| 2/2 [00:04<00:00,  2.28s/it]<00:00,  1.70it/s]\n",
      "Training (8700 / 18000 Steps) (loss=0.46749): 100%|██████████| 7/7 [00:10<00:00,  1.49s/it]\n"
     ]
    },
    {
     "name": "stdout",
     "output_type": "stream",
     "text": [
      "Model Was Not Saved ! Current Best Avg. Dice: 0.29322290420532227 Current Avg. Dice: 0.2700897455215454 Current Avg. tumor Dice: 0.388060986995697 Current Avg. lymph Dice: 0.1521185338497162\n"
     ]
    },
    {
     "name": "stderr",
     "output_type": "stream",
     "text": [
      "Training (8707 / 18000 Steps) (loss=0.44160): 100%|██████████| 7/7 [00:05<00:00,  1.27it/s]\n",
      "Training (8714 / 18000 Steps) (loss=0.64082): 100%|██████████| 7/7 [00:05<00:00,  1.19it/s]\n",
      "Training (8721 / 18000 Steps) (loss=0.57322): 100%|██████████| 7/7 [00:05<00:00,  1.21it/s]\n",
      "Training (8728 / 18000 Steps) (loss=0.37419): 100%|██████████| 7/7 [00:05<00:00,  1.24it/s]\n",
      "Training (8735 / 18000 Steps) (loss=0.28534): 100%|██████████| 7/7 [00:06<00:00,  1.16it/s]\n",
      "Training (8742 / 18000 Steps) (loss=0.38328): 100%|██████████| 7/7 [00:05<00:00,  1.24it/s]\n",
      "Training (8749 / 18000 Steps) (loss=0.58344): 100%|██████████| 7/7 [00:05<00:00,  1.22it/s]\n",
      "Training (8756 / 18000 Steps) (loss=0.65619): 100%|██████████| 7/7 [00:05<00:00,  1.22it/s]\n",
      "Training (8763 / 18000 Steps) (loss=0.31568): 100%|██████████| 7/7 [00:05<00:00,  1.23it/s]\n",
      "Training (8770 / 18000 Steps) (loss=0.24955): 100%|██████████| 7/7 [00:05<00:00,  1.21it/s]\n",
      "Training (8777 / 18000 Steps) (loss=0.37409): 100%|██████████| 7/7 [00:05<00:00,  1.25it/s]\n",
      "Training (8784 / 18000 Steps) (loss=0.47693): 100%|██████████| 7/7 [00:06<00:00,  1.17it/s]\n",
      "Training (8791 / 18000 Steps) (loss=0.37352): 100%|██████████| 7/7 [00:05<00:00,  1.23it/s]\n",
      "Training (8798 / 18000 Steps) (loss=0.43635): 100%|██████████| 7/7 [00:05<00:00,  1.24it/s]\n",
      "Validate (8799 / 10 Steps): 100%|██████████| 2/2 [00:04<00:00,  2.12s/it]<00:20,  3.45s/it]\n",
      "Training (8800 / 18000 Steps) (loss=0.47599):  29%|██▊       | 2/7 [00:08<00:20,  4.19s/it]"
     ]
    },
    {
     "name": "stdout",
     "output_type": "stream",
     "text": [
      "Model Was Not Saved ! Current Best Avg. Dice: 0.29322290420532227 Current Avg. Dice: 0.22187522053718567 Current Avg. tumor Dice: 0.3423563838005066 Current Avg. lymph Dice: 0.10139403492212296\n"
     ]
    },
    {
     "name": "stderr",
     "output_type": "stream",
     "text": [
      "Training (8805 / 18000 Steps) (loss=0.50394): 100%|██████████| 7/7 [00:10<00:00,  1.45s/it]\n",
      "Training (8812 / 18000 Steps) (loss=0.52742): 100%|██████████| 7/7 [00:05<00:00,  1.23it/s]\n",
      "Training (8819 / 18000 Steps) (loss=0.45339): 100%|██████████| 7/7 [00:06<00:00,  1.06it/s]\n",
      "Training (8826 / 18000 Steps) (loss=0.32346): 100%|██████████| 7/7 [00:05<00:00,  1.17it/s]\n",
      "Training (8833 / 18000 Steps) (loss=0.44703): 100%|██████████| 7/7 [00:05<00:00,  1.19it/s]\n",
      "Training (8840 / 18000 Steps) (loss=0.30953): 100%|██████████| 7/7 [00:05<00:00,  1.25it/s]\n",
      "Training (8847 / 18000 Steps) (loss=0.49528): 100%|██████████| 7/7 [00:05<00:00,  1.24it/s]\n",
      "Training (8854 / 18000 Steps) (loss=0.40535): 100%|██████████| 7/7 [00:05<00:00,  1.20it/s]\n",
      "Training (8861 / 18000 Steps) (loss=0.43105): 100%|██████████| 7/7 [00:06<00:00,  1.15it/s]\n",
      "Training (8868 / 18000 Steps) (loss=0.48925): 100%|██████████| 7/7 [00:05<00:00,  1.26it/s]\n",
      "Training (8875 / 18000 Steps) (loss=0.49854): 100%|██████████| 7/7 [00:05<00:00,  1.23it/s]\n",
      "Training (8882 / 18000 Steps) (loss=0.48010): 100%|██████████| 7/7 [00:05<00:00,  1.19it/s]\n",
      "Training (8889 / 18000 Steps) (loss=0.57790): 100%|██████████| 7/7 [00:05<00:00,  1.24it/s]\n",
      "Training (8896 / 18000 Steps) (loss=0.47128): 100%|██████████| 7/7 [00:05<00:00,  1.27it/s]\n",
      "Validate (8897 / 10 Steps): 100%|██████████| 2/2 [00:04<00:00,  2.17s/it]<00:04,  1.09s/it]\n",
      "Training (8900 / 18000 Steps) (loss=0.40094):  57%|█████▋    | 4/7 [00:09<00:07,  2.56s/it]"
     ]
    },
    {
     "name": "stdout",
     "output_type": "stream",
     "text": [
      "Model Was Not Saved ! Current Best Avg. Dice: 0.29322290420532227 Current Avg. Dice: 0.28888726234436035 Current Avg. tumor Dice: 0.3576400578022003 Current Avg. lymph Dice: 0.2201344221830368\n"
     ]
    },
    {
     "name": "stderr",
     "output_type": "stream",
     "text": [
      "Training (8903 / 18000 Steps) (loss=0.32093): 100%|██████████| 7/7 [00:10<00:00,  1.47s/it]\n",
      "Training (8910 / 18000 Steps) (loss=0.54156): 100%|██████████| 7/7 [00:05<00:00,  1.17it/s]\n",
      "Training (8917 / 18000 Steps) (loss=0.51953): 100%|██████████| 7/7 [00:05<00:00,  1.26it/s]\n",
      "Training (8924 / 18000 Steps) (loss=0.43366): 100%|██████████| 7/7 [00:05<00:00,  1.17it/s]\n",
      "Training (8931 / 18000 Steps) (loss=0.23267): 100%|██████████| 7/7 [00:05<00:00,  1.17it/s]\n",
      "Training (8938 / 18000 Steps) (loss=0.40643): 100%|██████████| 7/7 [00:05<00:00,  1.23it/s]\n",
      "Training (8945 / 18000 Steps) (loss=0.21882): 100%|██████████| 7/7 [00:06<00:00,  1.11it/s]\n",
      "Training (8952 / 18000 Steps) (loss=0.28399): 100%|██████████| 7/7 [00:05<00:00,  1.19it/s]\n",
      "Training (8959 / 18000 Steps) (loss=0.50013): 100%|██████████| 7/7 [00:05<00:00,  1.22it/s]\n",
      "Training (8966 / 18000 Steps) (loss=0.43751): 100%|██████████| 7/7 [00:05<00:00,  1.18it/s]\n",
      "Training (8973 / 18000 Steps) (loss=0.30626): 100%|██████████| 7/7 [00:05<00:00,  1.30it/s]\n",
      "Training (8980 / 18000 Steps) (loss=0.35317): 100%|██████████| 7/7 [00:05<00:00,  1.29it/s]\n",
      "Training (8987 / 18000 Steps) (loss=0.66707): 100%|██████████| 7/7 [00:05<00:00,  1.24it/s]\n",
      "Training (8994 / 18000 Steps) (loss=0.28377): 100%|██████████| 7/7 [00:05<00:00,  1.28it/s]\n",
      "Validate (8995 / 10 Steps): 100%|██████████| 2/2 [00:04<00:00,  2.22s/it]<00:01,  1.55it/s]\n",
      "Training (9000 / 18000 Steps) (loss=0.51980):  86%|████████▌ | 6/7 [00:09<00:02,  2.10s/it]"
     ]
    },
    {
     "name": "stdout",
     "output_type": "stream",
     "text": [
      "Model Was Not Saved ! Current Best Avg. Dice: 0.29322290420532227 Current Avg. Dice: 0.2648063600063324 Current Avg. tumor Dice: 0.3153449296951294 Current Avg. lymph Dice: 0.2142678201198578\n"
     ]
    },
    {
     "name": "stderr",
     "output_type": "stream",
     "text": [
      "Training (9001 / 18000 Steps) (loss=0.40311): 100%|██████████| 7/7 [00:09<00:00,  1.43s/it]\n",
      "Training (9008 / 18000 Steps) (loss=0.63064): 100%|██████████| 7/7 [00:05<00:00,  1.27it/s]\n",
      "Training (9015 / 18000 Steps) (loss=0.42919): 100%|██████████| 7/7 [00:05<00:00,  1.23it/s]\n",
      "Training (9022 / 18000 Steps) (loss=0.52515): 100%|██████████| 7/7 [00:05<00:00,  1.17it/s]\n",
      "Training (9029 / 18000 Steps) (loss=0.29776): 100%|██████████| 7/7 [00:05<00:00,  1.28it/s]\n",
      "Training (9036 / 18000 Steps) (loss=0.56264): 100%|██████████| 7/7 [00:05<00:00,  1.25it/s]\n",
      "Training (9043 / 18000 Steps) (loss=0.44701): 100%|██████████| 7/7 [00:05<00:00,  1.20it/s]\n",
      "Training (9050 / 18000 Steps) (loss=0.50663): 100%|██████████| 7/7 [00:05<00:00,  1.30it/s]\n",
      "Training (9057 / 18000 Steps) (loss=0.48794): 100%|██████████| 7/7 [00:05<00:00,  1.17it/s]\n",
      "Training (9064 / 18000 Steps) (loss=0.33311): 100%|██████████| 7/7 [00:05<00:00,  1.22it/s]\n",
      "Training (9071 / 18000 Steps) (loss=0.39645): 100%|██████████| 7/7 [00:05<00:00,  1.23it/s]\n",
      "Training (9078 / 18000 Steps) (loss=0.35716): 100%|██████████| 7/7 [00:05<00:00,  1.25it/s]\n",
      "Training (9085 / 18000 Steps) (loss=0.55554): 100%|██████████| 7/7 [00:05<00:00,  1.24it/s]\n",
      "Training (9092 / 18000 Steps) (loss=0.57676): 100%|██████████| 7/7 [00:05<00:00,  1.30it/s]\n",
      "Training (9099 / 18000 Steps) (loss=0.44633): 100%|██████████| 7/7 [00:05<00:00,  1.28it/s]\n",
      "Validate (9100 / 10 Steps): 100%|██████████| 2/2 [00:04<00:00,  2.25s/it]<?, ?it/s]\n",
      "Training (9100 / 18000 Steps) (loss=0.33526):  14%|█▍        | 1/7 [00:07<00:45,  7.58s/it]"
     ]
    },
    {
     "name": "stdout",
     "output_type": "stream",
     "text": [
      "Model Was Not Saved ! Current Best Avg. Dice: 0.29322290420532227 Current Avg. Dice: 0.26262202858924866 Current Avg. tumor Dice: 0.3381308615207672 Current Avg. lymph Dice: 0.1871131956577301\n"
     ]
    },
    {
     "name": "stderr",
     "output_type": "stream",
     "text": [
      "Training (9106 / 18000 Steps) (loss=0.39262): 100%|██████████| 7/7 [00:10<00:00,  1.44s/it]\n",
      "Training (9113 / 18000 Steps) (loss=0.55211): 100%|██████████| 7/7 [00:05<00:00,  1.20it/s]\n",
      "Training (9120 / 18000 Steps) (loss=0.61144): 100%|██████████| 7/7 [00:05<00:00,  1.28it/s]\n",
      "Training (9127 / 18000 Steps) (loss=0.47180): 100%|██████████| 7/7 [00:05<00:00,  1.27it/s]\n",
      "Training (9134 / 18000 Steps) (loss=0.50523): 100%|██████████| 7/7 [00:05<00:00,  1.30it/s]\n",
      "Training (9141 / 18000 Steps) (loss=0.37505): 100%|██████████| 7/7 [00:05<00:00,  1.18it/s]\n",
      "Training (9148 / 18000 Steps) (loss=0.55665): 100%|██████████| 7/7 [00:05<00:00,  1.21it/s]\n",
      "Training (9155 / 18000 Steps) (loss=0.54301): 100%|██████████| 7/7 [00:05<00:00,  1.19it/s]\n",
      "Training (9162 / 18000 Steps) (loss=0.43790): 100%|██████████| 7/7 [00:06<00:00,  1.15it/s]\n",
      "Training (9169 / 18000 Steps) (loss=0.58209): 100%|██████████| 7/7 [00:05<00:00,  1.29it/s]\n",
      "Training (9176 / 18000 Steps) (loss=0.48622): 100%|██████████| 7/7 [00:05<00:00,  1.28it/s]\n",
      "Training (9183 / 18000 Steps) (loss=0.52964): 100%|██████████| 7/7 [00:05<00:00,  1.27it/s]\n",
      "Training (9190 / 18000 Steps) (loss=0.59549): 100%|██████████| 7/7 [00:05<00:00,  1.24it/s]\n",
      "Training (9197 / 18000 Steps) (loss=0.36861): 100%|██████████| 7/7 [00:05<00:00,  1.20it/s]\n",
      "Validate (9198 / 10 Steps): 100%|██████████| 2/2 [00:04<00:00,  2.36s/it]<00:08,  1.76s/it]\n",
      "Training (9200 / 18000 Steps) (loss=0.47678):  43%|████▎     | 3/7 [00:09<00:13,  3.32s/it]"
     ]
    },
    {
     "name": "stdout",
     "output_type": "stream",
     "text": [
      "Model Was Not Saved ! Current Best Avg. Dice: 0.29322290420532227 Current Avg. Dice: 0.26311877369880676 Current Avg. tumor Dice: 0.3365652859210968 Current Avg. lymph Dice: 0.18967226147651672\n"
     ]
    },
    {
     "name": "stderr",
     "output_type": "stream",
     "text": [
      "Training (9204 / 18000 Steps) (loss=0.60332): 100%|██████████| 7/7 [00:10<00:00,  1.55s/it]\n",
      "Training (9211 / 18000 Steps) (loss=0.48992): 100%|██████████| 7/7 [00:05<00:00,  1.20it/s]\n",
      "Training (9218 / 18000 Steps) (loss=0.59252): 100%|██████████| 7/7 [00:05<00:00,  1.22it/s]\n",
      "Training (9225 / 18000 Steps) (loss=0.46989): 100%|██████████| 7/7 [00:05<00:00,  1.22it/s]\n",
      "Training (9232 / 18000 Steps) (loss=0.44488): 100%|██████████| 7/7 [00:05<00:00,  1.20it/s]\n",
      "Training (9239 / 18000 Steps) (loss=0.38338): 100%|██████████| 7/7 [00:06<00:00,  1.13it/s]\n",
      "Training (9246 / 18000 Steps) (loss=0.37204): 100%|██████████| 7/7 [00:05<00:00,  1.28it/s]\n",
      "Training (9253 / 18000 Steps) (loss=0.48724): 100%|██████████| 7/7 [00:05<00:00,  1.18it/s]\n",
      "Training (9260 / 18000 Steps) (loss=0.56856): 100%|██████████| 7/7 [00:05<00:00,  1.18it/s]\n",
      "Training (9267 / 18000 Steps) (loss=0.47677): 100%|██████████| 7/7 [00:05<00:00,  1.25it/s]\n",
      "Training (9274 / 18000 Steps) (loss=0.43120): 100%|██████████| 7/7 [00:06<00:00,  1.16it/s]\n",
      "Training (9281 / 18000 Steps) (loss=0.35945): 100%|██████████| 7/7 [00:05<00:00,  1.21it/s]\n",
      "Training (9288 / 18000 Steps) (loss=0.38215): 100%|██████████| 7/7 [00:05<00:00,  1.23it/s]\n",
      "Training (9295 / 18000 Steps) (loss=0.55860): 100%|██████████| 7/7 [00:05<00:00,  1.20it/s]\n",
      "Validate (9296 / 10 Steps): 100%|██████████| 2/2 [00:04<00:00,  2.33s/it]<00:02,  1.28it/s]\n",
      "Training (9300 / 18000 Steps) (loss=0.47124):  71%|███████▏  | 5/7 [00:09<00:04,  2.34s/it]"
     ]
    },
    {
     "name": "stdout",
     "output_type": "stream",
     "text": [
      "Model Was Not Saved ! Current Best Avg. Dice: 0.29322290420532227 Current Avg. Dice: 0.2625480592250824 Current Avg. tumor Dice: 0.3651662766933441 Current Avg. lymph Dice: 0.15992984175682068\n"
     ]
    },
    {
     "name": "stderr",
     "output_type": "stream",
     "text": [
      "Training (9302 / 18000 Steps) (loss=0.40088): 100%|██████████| 7/7 [00:10<00:00,  1.46s/it]\n",
      "Training (9309 / 18000 Steps) (loss=0.28809): 100%|██████████| 7/7 [00:05<00:00,  1.21it/s]\n",
      "Training (9316 / 18000 Steps) (loss=0.46333): 100%|██████████| 7/7 [00:05<00:00,  1.20it/s]\n",
      "Training (9323 / 18000 Steps) (loss=0.42227): 100%|██████████| 7/7 [00:06<00:00,  1.17it/s]\n",
      "Training (9330 / 18000 Steps) (loss=0.32163): 100%|██████████| 7/7 [00:05<00:00,  1.29it/s]\n",
      "Training (9337 / 18000 Steps) (loss=0.66529): 100%|██████████| 7/7 [00:05<00:00,  1.20it/s]\n",
      "Training (9344 / 18000 Steps) (loss=0.43541): 100%|██████████| 7/7 [00:05<00:00,  1.25it/s]\n",
      "Training (9351 / 18000 Steps) (loss=0.40368): 100%|██████████| 7/7 [00:05<00:00,  1.17it/s]\n",
      "Training (9358 / 18000 Steps) (loss=0.39287): 100%|██████████| 7/7 [00:05<00:00,  1.29it/s]\n",
      "Training (9365 / 18000 Steps) (loss=0.38368): 100%|██████████| 7/7 [00:05<00:00,  1.24it/s]\n",
      "Training (9372 / 18000 Steps) (loss=0.38256): 100%|██████████| 7/7 [00:05<00:00,  1.23it/s]\n",
      "Training (9379 / 18000 Steps) (loss=0.27888): 100%|██████████| 7/7 [00:05<00:00,  1.25it/s]\n",
      "Training (9386 / 18000 Steps) (loss=0.40403): 100%|██████████| 7/7 [00:05<00:00,  1.27it/s]\n",
      "Training (9393 / 18000 Steps) (loss=0.24873): 100%|██████████| 7/7 [00:05<00:00,  1.20it/s]\n",
      "Validate (9394 / 10 Steps): 100%|██████████| 2/2 [00:04<00:00,  2.25s/it]<00:00,  1.66it/s]\n",
      "Training (9400 / 18000 Steps) (loss=0.36925): 100%|██████████| 7/7 [00:11<00:00,  1.62s/it]\n"
     ]
    },
    {
     "name": "stdout",
     "output_type": "stream",
     "text": [
      "Model Was Saved ! Current Best Avg. Dice: 0.29792845249176025 Current Avg. Dice: 0.29792845249176025 Current Avg. tumor Dice: 0.3518144488334656 Current Avg. lymph Dice: 0.24404242634773254\n"
     ]
    },
    {
     "name": "stderr",
     "output_type": "stream",
     "text": [
      "Training (9407 / 18000 Steps) (loss=0.39676): 100%|██████████| 7/7 [00:05<00:00,  1.17it/s]\n",
      "Training (9414 / 18000 Steps) (loss=0.32622): 100%|██████████| 7/7 [00:05<00:00,  1.22it/s]\n",
      "Training (9421 / 18000 Steps) (loss=0.48578): 100%|██████████| 7/7 [00:05<00:00,  1.27it/s]\n",
      "Training (9428 / 18000 Steps) (loss=0.43252): 100%|██████████| 7/7 [00:05<00:00,  1.26it/s]\n",
      "Training (9435 / 18000 Steps) (loss=0.54037): 100%|██████████| 7/7 [00:05<00:00,  1.28it/s]\n",
      "Training (9442 / 18000 Steps) (loss=0.48856): 100%|██████████| 7/7 [00:05<00:00,  1.29it/s]\n",
      "Training (9449 / 18000 Steps) (loss=0.41603): 100%|██████████| 7/7 [00:05<00:00,  1.22it/s]\n",
      "Training (9456 / 18000 Steps) (loss=0.37913): 100%|██████████| 7/7 [00:05<00:00,  1.25it/s]\n",
      "Training (9463 / 18000 Steps) (loss=0.33389): 100%|██████████| 7/7 [00:05<00:00,  1.24it/s]\n",
      "Training (9470 / 18000 Steps) (loss=0.56288): 100%|██████████| 7/7 [00:05<00:00,  1.20it/s]\n",
      "Training (9477 / 18000 Steps) (loss=0.45042): 100%|██████████| 7/7 [00:05<00:00,  1.21it/s]\n",
      "Training (9484 / 18000 Steps) (loss=0.59049): 100%|██████████| 7/7 [00:06<00:00,  1.16it/s]\n",
      "Training (9491 / 18000 Steps) (loss=0.48058): 100%|██████████| 7/7 [00:05<00:00,  1.19it/s]\n",
      "Training (9498 / 18000 Steps) (loss=0.38257): 100%|██████████| 7/7 [00:05<00:00,  1.27it/s]\n",
      "Validate (9499 / 10 Steps): 100%|██████████| 2/2 [00:04<00:00,  2.17s/it]<00:19,  3.17s/it]\n",
      "Training (9500 / 18000 Steps) (loss=0.52305):  29%|██▊       | 2/7 [00:07<00:20,  4.14s/it]"
     ]
    },
    {
     "name": "stdout",
     "output_type": "stream",
     "text": [
      "Model Was Not Saved ! Current Best Avg. Dice: 0.29792845249176025 Current Avg. Dice: 0.24747727811336517 Current Avg. tumor Dice: 0.34606823325157166 Current Avg. lymph Dice: 0.1488863080739975\n"
     ]
    },
    {
     "name": "stderr",
     "output_type": "stream",
     "text": [
      "Training (9505 / 18000 Steps) (loss=0.55760): 100%|██████████| 7/7 [00:09<00:00,  1.43s/it]\n",
      "Training (9512 / 18000 Steps) (loss=0.45000): 100%|██████████| 7/7 [00:06<00:00,  1.15it/s]\n",
      "Training (9519 / 18000 Steps) (loss=0.38032): 100%|██████████| 7/7 [00:05<00:00,  1.20it/s]\n",
      "Training (9526 / 18000 Steps) (loss=0.51957): 100%|██████████| 7/7 [00:05<00:00,  1.19it/s]\n",
      "Training (9533 / 18000 Steps) (loss=0.32744): 100%|██████████| 7/7 [00:05<00:00,  1.23it/s]\n",
      "Training (9540 / 18000 Steps) (loss=0.30769): 100%|██████████| 7/7 [00:05<00:00,  1.29it/s]\n",
      "Training (9547 / 18000 Steps) (loss=0.49684): 100%|██████████| 7/7 [00:05<00:00,  1.26it/s]\n",
      "Training (9554 / 18000 Steps) (loss=0.28231): 100%|██████████| 7/7 [00:05<00:00,  1.23it/s]\n",
      "Training (9561 / 18000 Steps) (loss=0.26432): 100%|██████████| 7/7 [00:05<00:00,  1.25it/s]\n",
      "Training (9568 / 18000 Steps) (loss=0.47033): 100%|██████████| 7/7 [00:05<00:00,  1.22it/s]\n",
      "Training (9575 / 18000 Steps) (loss=0.40870): 100%|██████████| 7/7 [00:05<00:00,  1.20it/s]\n",
      "Training (9582 / 18000 Steps) (loss=0.61242): 100%|██████████| 7/7 [00:05<00:00,  1.25it/s]\n",
      "Training (9589 / 18000 Steps) (loss=0.43314): 100%|██████████| 7/7 [00:05<00:00,  1.18it/s]\n",
      "Training (9596 / 18000 Steps) (loss=0.46667): 100%|██████████| 7/7 [00:05<00:00,  1.29it/s]\n",
      "Validate (9597 / 10 Steps): 100%|██████████| 2/2 [00:04<00:00,  2.35s/it]<00:04,  1.11s/it]\n",
      "Training (9600 / 18000 Steps) (loss=0.48729):  57%|█████▋    | 4/7 [00:09<00:08,  2.71s/it]"
     ]
    },
    {
     "name": "stdout",
     "output_type": "stream",
     "text": [
      "Model Was Not Saved ! Current Best Avg. Dice: 0.29792845249176025 Current Avg. Dice: 0.284089595079422 Current Avg. tumor Dice: 0.35145303606987 Current Avg. lymph Dice: 0.2167261242866516\n"
     ]
    },
    {
     "name": "stderr",
     "output_type": "stream",
     "text": [
      "Training (9603 / 18000 Steps) (loss=0.42323): 100%|██████████| 7/7 [00:10<00:00,  1.52s/it]\n",
      "Training (9610 / 18000 Steps) (loss=0.33093): 100%|██████████| 7/7 [00:05<00:00,  1.26it/s]\n",
      "Training (9617 / 18000 Steps) (loss=0.54309): 100%|██████████| 7/7 [00:05<00:00,  1.22it/s]\n",
      "Training (9624 / 18000 Steps) (loss=0.43758): 100%|██████████| 7/7 [00:05<00:00,  1.23it/s]\n",
      "Training (9631 / 18000 Steps) (loss=0.36151): 100%|██████████| 7/7 [00:05<00:00,  1.25it/s]\n",
      "Training (9638 / 18000 Steps) (loss=0.28249): 100%|██████████| 7/7 [00:05<00:00,  1.20it/s]\n",
      "Training (9645 / 18000 Steps) (loss=0.66715): 100%|██████████| 7/7 [00:05<00:00,  1.18it/s]\n",
      "Training (9652 / 18000 Steps) (loss=0.50313): 100%|██████████| 7/7 [00:06<00:00,  1.12it/s]\n",
      "Training (9659 / 18000 Steps) (loss=0.47799): 100%|██████████| 7/7 [00:05<00:00,  1.25it/s]\n",
      "Training (9666 / 18000 Steps) (loss=0.48274): 100%|██████████| 7/7 [00:05<00:00,  1.31it/s]\n",
      "Training (9673 / 18000 Steps) (loss=0.60539): 100%|██████████| 7/7 [00:05<00:00,  1.29it/s]\n",
      "Training (9680 / 18000 Steps) (loss=0.39978): 100%|██████████| 7/7 [00:05<00:00,  1.25it/s]\n",
      "Training (9687 / 18000 Steps) (loss=0.22079): 100%|██████████| 7/7 [00:05<00:00,  1.20it/s]\n",
      "Training (9694 / 18000 Steps) (loss=0.56764): 100%|██████████| 7/7 [00:05<00:00,  1.19it/s]\n",
      "Validate (9695 / 10 Steps): 100%|██████████| 2/2 [00:04<00:00,  2.14s/it]<00:01,  1.58it/s]\n",
      "Training (9700 / 18000 Steps) (loss=0.51673):  86%|████████▌ | 6/7 [00:09<00:02,  2.03s/it]"
     ]
    },
    {
     "name": "stdout",
     "output_type": "stream",
     "text": [
      "Model Was Not Saved ! Current Best Avg. Dice: 0.29792845249176025 Current Avg. Dice: 0.2724623680114746 Current Avg. tumor Dice: 0.3224828839302063 Current Avg. lymph Dice: 0.22244180738925934\n"
     ]
    },
    {
     "name": "stderr",
     "output_type": "stream",
     "text": [
      "Training (9701 / 18000 Steps) (loss=0.35493): 100%|██████████| 7/7 [00:09<00:00,  1.38s/it]\n",
      "Training (9708 / 18000 Steps) (loss=0.56507): 100%|██████████| 7/7 [00:05<00:00,  1.22it/s]\n",
      "Training (9715 / 18000 Steps) (loss=0.41148): 100%|██████████| 7/7 [00:05<00:00,  1.27it/s]\n",
      "Training (9722 / 18000 Steps) (loss=0.49053): 100%|██████████| 7/7 [00:06<00:00,  1.17it/s]\n",
      "Training (9729 / 18000 Steps) (loss=0.42276): 100%|██████████| 7/7 [00:05<00:00,  1.26it/s]\n",
      "Training (9736 / 18000 Steps) (loss=0.40940): 100%|██████████| 7/7 [00:05<00:00,  1.27it/s]\n",
      "Training (9743 / 18000 Steps) (loss=0.33233): 100%|██████████| 7/7 [00:05<00:00,  1.22it/s]\n",
      "Training (9750 / 18000 Steps) (loss=0.42549): 100%|██████████| 7/7 [00:05<00:00,  1.18it/s]\n",
      "Training (9757 / 18000 Steps) (loss=0.38473): 100%|██████████| 7/7 [00:05<00:00,  1.30it/s]\n",
      "Training (9764 / 18000 Steps) (loss=0.57450): 100%|██████████| 7/7 [00:06<00:00,  1.16it/s]\n",
      "Training (9771 / 18000 Steps) (loss=0.55499): 100%|██████████| 7/7 [00:06<00:00,  1.15it/s]\n",
      "Training (9778 / 18000 Steps) (loss=0.52839): 100%|██████████| 7/7 [00:05<00:00,  1.24it/s]\n",
      "Training (9785 / 18000 Steps) (loss=0.44868): 100%|██████████| 7/7 [00:05<00:00,  1.27it/s]\n",
      "Training (9792 / 18000 Steps) (loss=0.53771): 100%|██████████| 7/7 [00:05<00:00,  1.25it/s]\n",
      "Training (9799 / 18000 Steps) (loss=0.68831): 100%|██████████| 7/7 [00:05<00:00,  1.22it/s]\n",
      "Validate (9800 / 10 Steps): 100%|██████████| 2/2 [00:04<00:00,  2.22s/it]<?, ?it/s]\n",
      "Training (9800 / 18000 Steps) (loss=0.51500):  14%|█▍        | 1/7 [00:07<00:46,  7.78s/it]"
     ]
    },
    {
     "name": "stdout",
     "output_type": "stream",
     "text": [
      "Model Was Not Saved ! Current Best Avg. Dice: 0.29792845249176025 Current Avg. Dice: 0.18782006204128265 Current Avg. tumor Dice: 0.2511551082134247 Current Avg. lymph Dice: 0.12448503077030182\n"
     ]
    },
    {
     "name": "stderr",
     "output_type": "stream",
     "text": [
      "Training (9806 / 18000 Steps) (loss=0.50737): 100%|██████████| 7/7 [00:10<00:00,  1.46s/it]\n",
      "Training (9813 / 18000 Steps) (loss=0.47184): 100%|██████████| 7/7 [00:05<00:00,  1.20it/s]\n",
      "Training (9820 / 18000 Steps) (loss=0.66516): 100%|██████████| 7/7 [00:06<00:00,  1.10it/s]\n",
      "Training (9827 / 18000 Steps) (loss=0.49379): 100%|██████████| 7/7 [00:05<00:00,  1.24it/s]\n",
      "Training (9834 / 18000 Steps) (loss=0.39150): 100%|██████████| 7/7 [00:05<00:00,  1.21it/s]\n",
      "Training (9841 / 18000 Steps) (loss=0.44180): 100%|██████████| 7/7 [00:05<00:00,  1.33it/s]\n",
      "Training (9848 / 18000 Steps) (loss=0.53060): 100%|██████████| 7/7 [00:05<00:00,  1.24it/s]\n",
      "Training (9855 / 18000 Steps) (loss=0.52058): 100%|██████████| 7/7 [00:06<00:00,  1.12it/s]\n",
      "Training (9862 / 18000 Steps) (loss=0.39613): 100%|██████████| 7/7 [00:05<00:00,  1.27it/s]\n",
      "Training (9869 / 18000 Steps) (loss=0.31778): 100%|██████████| 7/7 [00:05<00:00,  1.23it/s]\n",
      "Training (9876 / 18000 Steps) (loss=0.36469): 100%|██████████| 7/7 [00:05<00:00,  1.24it/s]\n",
      "Training (9883 / 18000 Steps) (loss=0.55439): 100%|██████████| 7/7 [00:05<00:00,  1.23it/s]\n",
      "Training (9890 / 18000 Steps) (loss=0.43126): 100%|██████████| 7/7 [00:05<00:00,  1.31it/s]\n",
      "Training (9897 / 18000 Steps) (loss=0.50021): 100%|██████████| 7/7 [00:05<00:00,  1.24it/s]\n",
      "Validate (9898 / 10 Steps): 100%|██████████| 2/2 [00:04<00:00,  2.11s/it]<00:07,  1.57s/it]\n",
      "Training (9900 / 18000 Steps) (loss=0.35162):  43%|████▎     | 3/7 [00:08<00:11,  2.99s/it]"
     ]
    },
    {
     "name": "stdout",
     "output_type": "stream",
     "text": [
      "Model Was Not Saved ! Current Best Avg. Dice: 0.29792845249176025 Current Avg. Dice: 0.2773740291595459 Current Avg. tumor Dice: 0.3415694534778595 Current Avg. lymph Dice: 0.21317866444587708\n"
     ]
    },
    {
     "name": "stderr",
     "output_type": "stream",
     "text": [
      "Training (9904 / 18000 Steps) (loss=0.59780): 100%|██████████| 7/7 [00:09<00:00,  1.41s/it]\n",
      "Training (9911 / 18000 Steps) (loss=0.34641): 100%|██████████| 7/7 [00:05<00:00,  1.30it/s]\n",
      "Training (9918 / 18000 Steps) (loss=0.33629): 100%|██████████| 7/7 [00:05<00:00,  1.25it/s]\n",
      "Training (9925 / 18000 Steps) (loss=0.55099): 100%|██████████| 7/7 [00:05<00:00,  1.30it/s]\n",
      "Training (9932 / 18000 Steps) (loss=0.27394): 100%|██████████| 7/7 [00:05<00:00,  1.21it/s]\n",
      "Training (9939 / 18000 Steps) (loss=0.33147): 100%|██████████| 7/7 [00:05<00:00,  1.31it/s]\n",
      "Training (9946 / 18000 Steps) (loss=0.55349): 100%|██████████| 7/7 [00:05<00:00,  1.23it/s]\n",
      "Training (9953 / 18000 Steps) (loss=0.52426): 100%|██████████| 7/7 [00:05<00:00,  1.20it/s]\n",
      "Training (9960 / 18000 Steps) (loss=0.61176): 100%|██████████| 7/7 [00:05<00:00,  1.24it/s]\n",
      "Training (9967 / 18000 Steps) (loss=0.57553): 100%|██████████| 7/7 [00:05<00:00,  1.31it/s]\n",
      "Training (9974 / 18000 Steps) (loss=0.45343): 100%|██████████| 7/7 [00:05<00:00,  1.27it/s]\n",
      "Training (9981 / 18000 Steps) (loss=0.51013): 100%|██████████| 7/7 [00:05<00:00,  1.20it/s]\n",
      "Training (9988 / 18000 Steps) (loss=0.32349): 100%|██████████| 7/7 [00:05<00:00,  1.24it/s]\n",
      "Training (9995 / 18000 Steps) (loss=0.33138): 100%|██████████| 7/7 [00:05<00:00,  1.24it/s]\n",
      "Validate (9996 / 10 Steps): 100%|██████████| 2/2 [00:04<00:00,  2.10s/it]4<00:02,  1.23it/s]\n",
      "Training (10000 / 18000 Steps) (loss=0.49474):  71%|███████▏  | 5/7 [00:09<00:04,  2.21s/it]"
     ]
    },
    {
     "name": "stdout",
     "output_type": "stream",
     "text": [
      "Model Was Not Saved ! Current Best Avg. Dice: 0.29792845249176025 Current Avg. Dice: 0.2880462408065796 Current Avg. tumor Dice: 0.3529069721698761 Current Avg. lymph Dice: 0.2231854796409607\n"
     ]
    },
    {
     "name": "stderr",
     "output_type": "stream",
     "text": [
      "Training (10002 / 18000 Steps) (loss=0.29938): 100%|██████████| 7/7 [00:10<00:00,  1.43s/it]\n",
      "Training (10009 / 18000 Steps) (loss=0.47166): 100%|██████████| 7/7 [00:05<00:00,  1.27it/s]\n",
      "Training (10016 / 18000 Steps) (loss=0.35712): 100%|██████████| 7/7 [00:05<00:00,  1.28it/s]\n",
      "Training (10023 / 18000 Steps) (loss=0.61531): 100%|██████████| 7/7 [00:05<00:00,  1.27it/s]\n",
      "Training (10030 / 18000 Steps) (loss=0.47826): 100%|██████████| 7/7 [00:05<00:00,  1.19it/s]\n",
      "Training (10037 / 18000 Steps) (loss=0.53886): 100%|██████████| 7/7 [00:05<00:00,  1.28it/s]\n",
      "Training (10044 / 18000 Steps) (loss=0.44603): 100%|██████████| 7/7 [00:05<00:00,  1.22it/s]\n",
      "Training (10051 / 18000 Steps) (loss=0.41174): 100%|██████████| 7/7 [00:05<00:00,  1.23it/s]\n",
      "Training (10058 / 18000 Steps) (loss=0.52993): 100%|██████████| 7/7 [00:06<00:00,  1.11it/s]\n",
      "Training (10065 / 18000 Steps) (loss=0.65320): 100%|██████████| 7/7 [00:05<00:00,  1.21it/s]\n",
      "Training (10072 / 18000 Steps) (loss=0.50620): 100%|██████████| 7/7 [00:05<00:00,  1.25it/s]\n",
      "Training (10079 / 18000 Steps) (loss=0.31397): 100%|██████████| 7/7 [00:05<00:00,  1.28it/s]\n",
      "Training (10086 / 18000 Steps) (loss=0.48578): 100%|██████████| 7/7 [00:05<00:00,  1.27it/s]\n",
      "Training (10093 / 18000 Steps) (loss=0.58807): 100%|██████████| 7/7 [00:05<00:00,  1.28it/s]\n",
      "Validate (10094 / 10 Steps): 100%|██████████| 2/2 [00:04<00:00,  2.17s/it]<00:00,  1.78it/s]\n",
      "Training (10100 / 18000 Steps) (loss=0.67184): 100%|██████████| 7/7 [00:09<00:00,  1.40s/it]\n"
     ]
    },
    {
     "name": "stdout",
     "output_type": "stream",
     "text": [
      "Model Was Not Saved ! Current Best Avg. Dice: 0.29792845249176025 Current Avg. Dice: 0.2734251022338867 Current Avg. tumor Dice: 0.38046330213546753 Current Avg. lymph Dice: 0.1663869023323059\n"
     ]
    },
    {
     "name": "stderr",
     "output_type": "stream",
     "text": [
      "Training (10107 / 18000 Steps) (loss=0.50177): 100%|██████████| 7/7 [00:06<00:00,  1.15it/s]\n",
      "Training (10114 / 18000 Steps) (loss=0.50641): 100%|██████████| 7/7 [00:05<00:00,  1.27it/s]\n",
      "Training (10121 / 18000 Steps) (loss=0.55433): 100%|██████████| 7/7 [00:05<00:00,  1.25it/s]\n",
      "Training (10128 / 18000 Steps) (loss=0.30936): 100%|██████████| 7/7 [00:05<00:00,  1.32it/s]\n",
      "Training (10135 / 18000 Steps) (loss=0.58036): 100%|██████████| 7/7 [00:05<00:00,  1.25it/s]\n",
      "Training (10142 / 18000 Steps) (loss=0.44040): 100%|██████████| 7/7 [00:05<00:00,  1.24it/s]\n",
      "Training (10149 / 18000 Steps) (loss=0.42536): 100%|██████████| 7/7 [00:05<00:00,  1.29it/s]\n",
      "Training (10156 / 18000 Steps) (loss=0.40676): 100%|██████████| 7/7 [00:05<00:00,  1.30it/s]\n",
      "Training (10163 / 18000 Steps) (loss=0.30939): 100%|██████████| 7/7 [00:05<00:00,  1.27it/s]\n",
      "Training (10170 / 18000 Steps) (loss=0.51289): 100%|██████████| 7/7 [00:05<00:00,  1.23it/s]\n",
      "Training (10177 / 18000 Steps) (loss=0.35110): 100%|██████████| 7/7 [00:05<00:00,  1.26it/s]\n",
      "Training (10184 / 18000 Steps) (loss=0.48357): 100%|██████████| 7/7 [00:05<00:00,  1.26it/s]\n",
      "Training (10191 / 18000 Steps) (loss=0.42853): 100%|██████████| 7/7 [00:05<00:00,  1.22it/s]\n",
      "Training (10198 / 18000 Steps) (loss=0.49782): 100%|██████████| 7/7 [00:05<00:00,  1.27it/s]\n",
      "Validate (10199 / 10 Steps): 100%|██████████| 2/2 [00:04<00:00,  2.24s/it]<00:18,  3.06s/it]\n",
      "Training (10200 / 18000 Steps) (loss=0.46799):  29%|██▊       | 2/7 [00:08<00:20,  4.18s/it]"
     ]
    },
    {
     "name": "stdout",
     "output_type": "stream",
     "text": [
      "Model Was Not Saved ! Current Best Avg. Dice: 0.29792845249176025 Current Avg. Dice: 0.25160136818885803 Current Avg. tumor Dice: 0.3234536945819855 Current Avg. lymph Dice: 0.1797490417957306\n"
     ]
    },
    {
     "name": "stderr",
     "output_type": "stream",
     "text": [
      "Training (10205 / 18000 Steps) (loss=0.47628): 100%|██████████| 7/7 [00:10<00:00,  1.43s/it]\n",
      "Training (10212 / 18000 Steps) (loss=0.31129): 100%|██████████| 7/7 [00:05<00:00,  1.25it/s]\n",
      "Training (10219 / 18000 Steps) (loss=0.37090): 100%|██████████| 7/7 [00:05<00:00,  1.23it/s]\n",
      "Training (10226 / 18000 Steps) (loss=0.52588): 100%|██████████| 7/7 [00:05<00:00,  1.20it/s]\n",
      "Training (10233 / 18000 Steps) (loss=0.55149): 100%|██████████| 7/7 [00:05<00:00,  1.21it/s]\n",
      "Training (10240 / 18000 Steps) (loss=0.40501): 100%|██████████| 7/7 [00:05<00:00,  1.19it/s]\n",
      "Training (10247 / 18000 Steps) (loss=0.54111): 100%|██████████| 7/7 [00:05<00:00,  1.28it/s]\n",
      "Training (10254 / 18000 Steps) (loss=0.46990): 100%|██████████| 7/7 [00:05<00:00,  1.29it/s]\n",
      "Training (10261 / 18000 Steps) (loss=0.37488): 100%|██████████| 7/7 [00:05<00:00,  1.27it/s]\n",
      "Training (10268 / 18000 Steps) (loss=0.50326): 100%|██████████| 7/7 [00:05<00:00,  1.23it/s]\n",
      "Training (10275 / 18000 Steps) (loss=0.40863): 100%|██████████| 7/7 [00:05<00:00,  1.19it/s]\n",
      "Training (10282 / 18000 Steps) (loss=0.46134): 100%|██████████| 7/7 [00:05<00:00,  1.24it/s]\n",
      "Training (10289 / 18000 Steps) (loss=0.24354): 100%|██████████| 7/7 [00:05<00:00,  1.23it/s]\n",
      "Training (10296 / 18000 Steps) (loss=0.51349): 100%|██████████| 7/7 [00:05<00:00,  1.24it/s]\n",
      "Validate (10297 / 10 Steps): 100%|██████████| 2/2 [00:04<00:00,  2.21s/it]<00:04,  1.08s/it]\n",
      "Training (10300 / 18000 Steps) (loss=0.47312):  57%|█████▋    | 4/7 [00:09<00:07,  2.58s/it]"
     ]
    },
    {
     "name": "stdout",
     "output_type": "stream",
     "text": [
      "Model Was Not Saved ! Current Best Avg. Dice: 0.29792845249176025 Current Avg. Dice: 0.29753434658050537 Current Avg. tumor Dice: 0.3612229824066162 Current Avg. lymph Dice: 0.23384571075439453\n"
     ]
    },
    {
     "name": "stderr",
     "output_type": "stream",
     "text": [
      "Training (10303 / 18000 Steps) (loss=0.61123): 100%|██████████| 7/7 [00:10<00:00,  1.47s/it]\n",
      "Training (10310 / 18000 Steps) (loss=0.45025): 100%|██████████| 7/7 [00:05<00:00,  1.18it/s]\n",
      "Training (10317 / 18000 Steps) (loss=0.56143): 100%|██████████| 7/7 [00:06<00:00,  1.12it/s]\n",
      "Training (10324 / 18000 Steps) (loss=0.43728): 100%|██████████| 7/7 [00:05<00:00,  1.19it/s]\n",
      "Training (10331 / 18000 Steps) (loss=0.52751): 100%|██████████| 7/7 [00:05<00:00,  1.29it/s]\n",
      "Training (10338 / 18000 Steps) (loss=0.40021): 100%|██████████| 7/7 [00:05<00:00,  1.33it/s]\n",
      "Training (10345 / 18000 Steps) (loss=0.43548): 100%|██████████| 7/7 [00:05<00:00,  1.27it/s]\n",
      "Training (10352 / 18000 Steps) (loss=0.50698): 100%|██████████| 7/7 [00:05<00:00,  1.26it/s]\n",
      "Training (10359 / 18000 Steps) (loss=0.53633): 100%|██████████| 7/7 [00:05<00:00,  1.23it/s]\n",
      "Training (10366 / 18000 Steps) (loss=0.68719): 100%|██████████| 7/7 [00:05<00:00,  1.27it/s]\n",
      "Training (10373 / 18000 Steps) (loss=0.53866): 100%|██████████| 7/7 [00:05<00:00,  1.26it/s]\n",
      "Training (10380 / 18000 Steps) (loss=0.46396): 100%|██████████| 7/7 [00:05<00:00,  1.22it/s]\n",
      "Training (10387 / 18000 Steps) (loss=0.43551): 100%|██████████| 7/7 [00:05<00:00,  1.21it/s]\n",
      "Training (10394 / 18000 Steps) (loss=0.44052): 100%|██████████| 7/7 [00:05<00:00,  1.24it/s]\n",
      "Validate (10395 / 10 Steps): 100%|██████████| 2/2 [00:04<00:00,  2.14s/it]<00:01,  1.52it/s]\n",
      "Training (10400 / 18000 Steps) (loss=0.41009):  86%|████████▌ | 6/7 [00:09<00:02,  2.05s/it]"
     ]
    },
    {
     "name": "stdout",
     "output_type": "stream",
     "text": [
      "Model Was Not Saved ! Current Best Avg. Dice: 0.29792845249176025 Current Avg. Dice: 0.24626117944717407 Current Avg. tumor Dice: 0.3348068594932556 Current Avg. lymph Dice: 0.15771549940109253\n"
     ]
    },
    {
     "name": "stderr",
     "output_type": "stream",
     "text": [
      "Training (10401 / 18000 Steps) (loss=0.35197): 100%|██████████| 7/7 [00:09<00:00,  1.42s/it]\n",
      "Training (10408 / 18000 Steps) (loss=0.19330): 100%|██████████| 7/7 [00:05<00:00,  1.23it/s]\n",
      "Training (10415 / 18000 Steps) (loss=0.44816): 100%|██████████| 7/7 [00:05<00:00,  1.20it/s]\n",
      "Training (10422 / 18000 Steps) (loss=0.60682): 100%|██████████| 7/7 [00:05<00:00,  1.26it/s]\n",
      "Training (10429 / 18000 Steps) (loss=0.55035): 100%|██████████| 7/7 [00:05<00:00,  1.29it/s]\n",
      "Training (10436 / 18000 Steps) (loss=0.54569): 100%|██████████| 7/7 [00:05<00:00,  1.20it/s]\n",
      "Training (10443 / 18000 Steps) (loss=0.47378): 100%|██████████| 7/7 [00:05<00:00,  1.21it/s]\n",
      "Training (10450 / 18000 Steps) (loss=0.45700): 100%|██████████| 7/7 [00:05<00:00,  1.27it/s]\n",
      "Training (10457 / 18000 Steps) (loss=0.58671): 100%|██████████| 7/7 [00:05<00:00,  1.28it/s]\n",
      "Training (10464 / 18000 Steps) (loss=0.24158): 100%|██████████| 7/7 [00:05<00:00,  1.25it/s]\n",
      "Training (10471 / 18000 Steps) (loss=0.60070): 100%|██████████| 7/7 [00:05<00:00,  1.22it/s]\n",
      "Training (10478 / 18000 Steps) (loss=0.40419): 100%|██████████| 7/7 [00:05<00:00,  1.26it/s]\n",
      "Training (10485 / 18000 Steps) (loss=0.38428): 100%|██████████| 7/7 [00:06<00:00,  1.15it/s]\n",
      "Training (10492 / 18000 Steps) (loss=0.43979): 100%|██████████| 7/7 [00:05<00:00,  1.25it/s]\n",
      "Training (10499 / 18000 Steps) (loss=0.26757): 100%|██████████| 7/7 [00:05<00:00,  1.25it/s]\n",
      "Validate (10500 / 10 Steps): 100%|██████████| 2/2 [00:04<00:00,  2.25s/it]<?, ?it/s]\n",
      "Training (10500 / 18000 Steps) (loss=0.35709):  14%|█▍        | 1/7 [00:07<00:46,  7.67s/it]"
     ]
    },
    {
     "name": "stdout",
     "output_type": "stream",
     "text": [
      "Model Was Not Saved ! Current Best Avg. Dice: 0.29792845249176025 Current Avg. Dice: 0.2593303620815277 Current Avg. tumor Dice: 0.34387800097465515 Current Avg. lymph Dice: 0.17478275299072266\n"
     ]
    },
    {
     "name": "stderr",
     "output_type": "stream",
     "text": [
      "Training (10506 / 18000 Steps) (loss=0.56436): 100%|██████████| 7/7 [00:10<00:00,  1.44s/it]\n",
      "Training (10513 / 18000 Steps) (loss=0.54526): 100%|██████████| 7/7 [00:05<00:00,  1.20it/s]\n",
      "Training (10520 / 18000 Steps) (loss=0.39686): 100%|██████████| 7/7 [00:05<00:00,  1.20it/s]\n",
      "Training (10527 / 18000 Steps) (loss=0.48367): 100%|██████████| 7/7 [00:05<00:00,  1.22it/s]\n",
      "Training (10534 / 18000 Steps) (loss=0.55823): 100%|██████████| 7/7 [00:05<00:00,  1.25it/s]\n",
      "Training (10541 / 18000 Steps) (loss=0.25578): 100%|██████████| 7/7 [00:05<00:00,  1.27it/s]\n",
      "Training (10548 / 18000 Steps) (loss=0.23022): 100%|██████████| 7/7 [00:05<00:00,  1.30it/s]\n",
      "Training (10555 / 18000 Steps) (loss=0.49341): 100%|██████████| 7/7 [00:05<00:00,  1.25it/s]\n",
      "Training (10562 / 18000 Steps) (loss=0.43496): 100%|██████████| 7/7 [00:06<00:00,  1.14it/s]\n",
      "Training (10569 / 18000 Steps) (loss=0.34603): 100%|██████████| 7/7 [00:05<00:00,  1.24it/s]\n",
      "Training (10576 / 18000 Steps) (loss=0.45638): 100%|██████████| 7/7 [00:05<00:00,  1.31it/s]\n",
      "Training (10583 / 18000 Steps) (loss=0.61137): 100%|██████████| 7/7 [00:06<00:00,  1.12it/s]\n",
      "Training (10590 / 18000 Steps) (loss=0.66786): 100%|██████████| 7/7 [00:05<00:00,  1.24it/s]\n",
      "Training (10597 / 18000 Steps) (loss=0.38745): 100%|██████████| 7/7 [00:05<00:00,  1.26it/s]\n",
      "Validate (10598 / 10 Steps): 100%|██████████| 2/2 [00:04<00:00,  2.19s/it]<00:07,  1.54s/it]\n",
      "Training (10600 / 18000 Steps) (loss=0.50129):  43%|████▎     | 3/7 [00:08<00:12,  3.05s/it]"
     ]
    },
    {
     "name": "stdout",
     "output_type": "stream",
     "text": [
      "Model Was Not Saved ! Current Best Avg. Dice: 0.29792845249176025 Current Avg. Dice: 0.2486373782157898 Current Avg. tumor Dice: 0.28926533460617065 Current Avg. lymph Dice: 0.20800940692424774\n"
     ]
    },
    {
     "name": "stderr",
     "output_type": "stream",
     "text": [
      "Training (10604 / 18000 Steps) (loss=0.40494): 100%|██████████| 7/7 [00:09<00:00,  1.43s/it]\n",
      "Training (10611 / 18000 Steps) (loss=0.39104): 100%|██████████| 7/7 [00:05<00:00,  1.25it/s]\n",
      "Training (10618 / 18000 Steps) (loss=0.42767): 100%|██████████| 7/7 [00:05<00:00,  1.25it/s]\n",
      "Training (10625 / 18000 Steps) (loss=0.20201): 100%|██████████| 7/7 [00:05<00:00,  1.28it/s]\n",
      "Training (10632 / 18000 Steps) (loss=0.39419): 100%|██████████| 7/7 [00:05<00:00,  1.28it/s]\n",
      "Training (10639 / 18000 Steps) (loss=0.32651): 100%|██████████| 7/7 [00:05<00:00,  1.22it/s]\n",
      "Training (10646 / 18000 Steps) (loss=0.43711): 100%|██████████| 7/7 [00:05<00:00,  1.27it/s]\n",
      "Training (10653 / 18000 Steps) (loss=0.34156): 100%|██████████| 7/7 [00:05<00:00,  1.18it/s]\n",
      "Training (10660 / 18000 Steps) (loss=0.57558): 100%|██████████| 7/7 [00:05<00:00,  1.25it/s]\n",
      "Training (10667 / 18000 Steps) (loss=0.33434): 100%|██████████| 7/7 [00:05<00:00,  1.32it/s]\n",
      "Training (10674 / 18000 Steps) (loss=0.63789): 100%|██████████| 7/7 [00:05<00:00,  1.20it/s]\n",
      "Training (10681 / 18000 Steps) (loss=0.44962): 100%|██████████| 7/7 [00:05<00:00,  1.24it/s]\n",
      "Training (10688 / 18000 Steps) (loss=0.47836): 100%|██████████| 7/7 [00:06<00:00,  1.13it/s]\n",
      "Training (10695 / 18000 Steps) (loss=0.62392): 100%|██████████| 7/7 [00:05<00:00,  1.22it/s]\n",
      "Validate (10696 / 10 Steps): 100%|██████████| 2/2 [00:04<00:00,  2.19s/it]<00:02,  1.27it/s]\n",
      "Training (10700 / 18000 Steps) (loss=0.44316):  71%|███████▏  | 5/7 [00:09<00:04,  2.25s/it]"
     ]
    },
    {
     "name": "stdout",
     "output_type": "stream",
     "text": [
      "Model Was Not Saved ! Current Best Avg. Dice: 0.29792845249176025 Current Avg. Dice: 0.2598733901977539 Current Avg. tumor Dice: 0.2989659011363983 Current Avg. lymph Dice: 0.2207808494567871\n"
     ]
    },
    {
     "name": "stderr",
     "output_type": "stream",
     "text": [
      "Training (10702 / 18000 Steps) (loss=0.39587): 100%|██████████| 7/7 [00:10<00:00,  1.43s/it]\n",
      "Training (10709 / 18000 Steps) (loss=0.48289): 100%|██████████| 7/7 [00:05<00:00,  1.21it/s]\n",
      "Training (10716 / 18000 Steps) (loss=0.27711): 100%|██████████| 7/7 [00:05<00:00,  1.27it/s]\n",
      "Training (10723 / 18000 Steps) (loss=0.25133): 100%|██████████| 7/7 [00:05<00:00,  1.21it/s]\n",
      "Training (10730 / 18000 Steps) (loss=0.54525): 100%|██████████| 7/7 [00:06<00:00,  1.15it/s]\n",
      "Training (10737 / 18000 Steps) (loss=0.54377): 100%|██████████| 7/7 [00:05<00:00,  1.24it/s]\n",
      "Training (10744 / 18000 Steps) (loss=0.44427): 100%|██████████| 7/7 [00:05<00:00,  1.23it/s]\n",
      "Training (10751 / 18000 Steps) (loss=0.45816): 100%|██████████| 7/7 [00:05<00:00,  1.24it/s]\n",
      "Training (10758 / 18000 Steps) (loss=0.38984): 100%|██████████| 7/7 [00:05<00:00,  1.24it/s]\n",
      "Training (10765 / 18000 Steps) (loss=0.37629): 100%|██████████| 7/7 [00:05<00:00,  1.18it/s]\n",
      "Training (10772 / 18000 Steps) (loss=0.50994): 100%|██████████| 7/7 [00:05<00:00,  1.24it/s]\n",
      "Training (10779 / 18000 Steps) (loss=0.37141): 100%|██████████| 7/7 [00:05<00:00,  1.20it/s]\n",
      "Training (10786 / 18000 Steps) (loss=0.49050): 100%|██████████| 7/7 [00:05<00:00,  1.26it/s]\n",
      "Training (10793 / 18000 Steps) (loss=0.43164): 100%|██████████| 7/7 [00:05<00:00,  1.27it/s]\n",
      "Validate (10794 / 10 Steps): 100%|██████████| 2/2 [00:04<00:00,  2.17s/it]<00:00,  1.71it/s]\n",
      "Training (10800 / 18000 Steps) (loss=0.47874): 100%|██████████| 7/7 [00:10<00:00,  1.45s/it]\n"
     ]
    },
    {
     "name": "stdout",
     "output_type": "stream",
     "text": [
      "Model Was Not Saved ! Current Best Avg. Dice: 0.29792845249176025 Current Avg. Dice: 0.2785116136074066 Current Avg. tumor Dice: 0.3447932004928589 Current Avg. lymph Dice: 0.21223001182079315\n"
     ]
    },
    {
     "name": "stderr",
     "output_type": "stream",
     "text": [
      "Training (10807 / 18000 Steps) (loss=0.45817): 100%|██████████| 7/7 [00:05<00:00,  1.28it/s]\n",
      "Training (10814 / 18000 Steps) (loss=0.27365): 100%|██████████| 7/7 [00:05<00:00,  1.27it/s]\n",
      "Training (10821 / 18000 Steps) (loss=0.49026): 100%|██████████| 7/7 [00:05<00:00,  1.27it/s]\n",
      "Training (10828 / 18000 Steps) (loss=0.48078): 100%|██████████| 7/7 [00:05<00:00,  1.27it/s]\n",
      "Training (10835 / 18000 Steps) (loss=0.32303): 100%|██████████| 7/7 [00:05<00:00,  1.22it/s]\n",
      "Training (10842 / 18000 Steps) (loss=0.53050): 100%|██████████| 7/7 [00:05<00:00,  1.26it/s]\n",
      "Training (10849 / 18000 Steps) (loss=0.50660): 100%|██████████| 7/7 [00:05<00:00,  1.26it/s]\n",
      "Training (10856 / 18000 Steps) (loss=0.22252): 100%|██████████| 7/7 [00:05<00:00,  1.23it/s]\n",
      "Training (10863 / 18000 Steps) (loss=0.47637): 100%|██████████| 7/7 [00:05<00:00,  1.27it/s]\n",
      "Training (10870 / 18000 Steps) (loss=0.30266): 100%|██████████| 7/7 [00:05<00:00,  1.28it/s]\n",
      "Training (10877 / 18000 Steps) (loss=0.55415): 100%|██████████| 7/7 [00:05<00:00,  1.31it/s]\n",
      "Training (10884 / 18000 Steps) (loss=0.38010): 100%|██████████| 7/7 [00:05<00:00,  1.26it/s]\n",
      "Training (10891 / 18000 Steps) (loss=0.44807): 100%|██████████| 7/7 [00:05<00:00,  1.19it/s]\n",
      "Training (10898 / 18000 Steps) (loss=0.42791): 100%|██████████| 7/7 [00:05<00:00,  1.17it/s]\n",
      "Validate (10899 / 10 Steps): 100%|██████████| 2/2 [00:04<00:00,  2.16s/it]<00:19,  3.30s/it]\n",
      "Training (10900 / 18000 Steps) (loss=0.48965):  29%|██▊       | 2/7 [00:08<00:20,  4.17s/it]"
     ]
    },
    {
     "name": "stdout",
     "output_type": "stream",
     "text": [
      "Model Was Not Saved ! Current Best Avg. Dice: 0.29792845249176025 Current Avg. Dice: 0.2520912289619446 Current Avg. tumor Dice: 0.3056466281414032 Current Avg. lymph Dice: 0.19853588938713074\n"
     ]
    },
    {
     "name": "stderr",
     "output_type": "stream",
     "text": [
      "Training (10905 / 18000 Steps) (loss=0.47641): 100%|██████████| 7/7 [00:10<00:00,  1.44s/it]\n",
      "Training (10912 / 18000 Steps) (loss=0.53396): 100%|██████████| 7/7 [00:05<00:00,  1.25it/s]\n",
      "Training (10919 / 18000 Steps) (loss=0.33400): 100%|██████████| 7/7 [00:05<00:00,  1.19it/s]\n",
      "Training (10926 / 18000 Steps) (loss=0.29263): 100%|██████████| 7/7 [00:05<00:00,  1.22it/s]\n",
      "Training (10933 / 18000 Steps) (loss=0.40476): 100%|██████████| 7/7 [00:06<00:00,  1.17it/s]\n",
      "Training (10940 / 18000 Steps) (loss=0.40021): 100%|██████████| 7/7 [00:05<00:00,  1.21it/s]\n",
      "Training (10947 / 18000 Steps) (loss=0.42075): 100%|██████████| 7/7 [00:05<00:00,  1.22it/s]\n",
      "Training (10954 / 18000 Steps) (loss=0.32047): 100%|██████████| 7/7 [00:05<00:00,  1.29it/s]\n",
      "Training (10961 / 18000 Steps) (loss=0.42776): 100%|██████████| 7/7 [00:05<00:00,  1.25it/s]\n",
      "Training (10968 / 18000 Steps) (loss=0.58072): 100%|██████████| 7/7 [00:05<00:00,  1.28it/s]\n",
      "Training (10975 / 18000 Steps) (loss=0.32628): 100%|██████████| 7/7 [00:05<00:00,  1.31it/s]\n",
      "Training (10982 / 18000 Steps) (loss=0.31510): 100%|██████████| 7/7 [00:05<00:00,  1.24it/s]\n",
      "Training (10989 / 18000 Steps) (loss=0.55318): 100%|██████████| 7/7 [00:05<00:00,  1.27it/s]\n",
      "Training (10996 / 18000 Steps) (loss=0.34933): 100%|██████████| 7/7 [00:05<00:00,  1.23it/s]\n",
      "Validate (10997 / 10 Steps): 100%|██████████| 2/2 [00:04<00:00,  2.16s/it]<00:04,  1.07s/it]\n",
      "Training (11000 / 18000 Steps) (loss=0.43836):  57%|█████▋    | 4/7 [00:08<00:07,  2.54s/it]"
     ]
    },
    {
     "name": "stdout",
     "output_type": "stream",
     "text": [
      "Model Was Not Saved ! Current Best Avg. Dice: 0.29792845249176025 Current Avg. Dice: 0.2623840868473053 Current Avg. tumor Dice: 0.31523433327674866 Current Avg. lymph Dice: 0.20953384041786194\n"
     ]
    },
    {
     "name": "stderr",
     "output_type": "stream",
     "text": [
      "Training (11003 / 18000 Steps) (loss=0.49334): 100%|██████████| 7/7 [00:10<00:00,  1.45s/it]\n",
      "Training (11010 / 18000 Steps) (loss=0.54910): 100%|██████████| 7/7 [00:05<00:00,  1.28it/s]\n",
      "Training (11017 / 18000 Steps) (loss=0.54298): 100%|██████████| 7/7 [00:05<00:00,  1.22it/s]\n",
      "Training (11024 / 18000 Steps) (loss=0.56158): 100%|██████████| 7/7 [00:05<00:00,  1.22it/s]\n",
      "Training (11031 / 18000 Steps) (loss=0.31939): 100%|██████████| 7/7 [00:05<00:00,  1.22it/s]\n",
      "Training (11038 / 18000 Steps) (loss=0.61654): 100%|██████████| 7/7 [00:05<00:00,  1.27it/s]\n",
      "Training (11045 / 18000 Steps) (loss=0.45772): 100%|██████████| 7/7 [00:05<00:00,  1.24it/s]\n",
      "Training (11052 / 18000 Steps) (loss=0.57052): 100%|██████████| 7/7 [00:05<00:00,  1.22it/s]\n",
      "Training (11059 / 18000 Steps) (loss=0.55394): 100%|██████████| 7/7 [00:05<00:00,  1.19it/s]\n",
      "Training (11066 / 18000 Steps) (loss=0.54944): 100%|██████████| 7/7 [00:05<00:00,  1.23it/s]\n",
      "Training (11073 / 18000 Steps) (loss=0.32313): 100%|██████████| 7/7 [00:05<00:00,  1.29it/s]\n",
      "Training (11080 / 18000 Steps) (loss=0.45166): 100%|██████████| 7/7 [00:05<00:00,  1.31it/s]\n",
      "Training (11087 / 18000 Steps) (loss=0.55963): 100%|██████████| 7/7 [00:05<00:00,  1.23it/s]\n",
      "Training (11094 / 18000 Steps) (loss=0.51319): 100%|██████████| 7/7 [00:05<00:00,  1.20it/s]\n",
      "Validate (11095 / 10 Steps): 100%|██████████| 2/2 [00:04<00:00,  2.30s/it]<00:01,  1.48it/s]\n",
      "Training (11100 / 18000 Steps) (loss=0.48615):  86%|████████▌ | 6/7 [00:10<00:02,  2.17s/it]"
     ]
    },
    {
     "name": "stdout",
     "output_type": "stream",
     "text": [
      "Model Was Not Saved ! Current Best Avg. Dice: 0.29792845249176025 Current Avg. Dice: 0.2422637641429901 Current Avg. tumor Dice: 0.2912648320198059 Current Avg. lymph Dice: 0.19326269626617432\n"
     ]
    },
    {
     "name": "stderr",
     "output_type": "stream",
     "text": [
      "Training (11101 / 18000 Steps) (loss=0.35830): 100%|██████████| 7/7 [00:10<00:00,  1.50s/it]\n",
      "Training (11108 / 18000 Steps) (loss=0.49869): 100%|██████████| 7/7 [00:05<00:00,  1.18it/s]\n",
      "Training (11115 / 18000 Steps) (loss=0.46397): 100%|██████████| 7/7 [00:05<00:00,  1.24it/s]\n",
      "Training (11122 / 18000 Steps) (loss=0.53442): 100%|██████████| 7/7 [00:05<00:00,  1.17it/s]\n",
      "Training (11129 / 18000 Steps) (loss=0.27994): 100%|██████████| 7/7 [00:05<00:00,  1.29it/s]\n",
      "Training (11136 / 18000 Steps) (loss=0.35799): 100%|██████████| 7/7 [00:05<00:00,  1.25it/s]\n",
      "Training (11143 / 18000 Steps) (loss=0.35170): 100%|██████████| 7/7 [00:05<00:00,  1.23it/s]\n",
      "Training (11150 / 18000 Steps) (loss=0.55462): 100%|██████████| 7/7 [00:05<00:00,  1.29it/s]\n",
      "Training (11157 / 18000 Steps) (loss=0.45363): 100%|██████████| 7/7 [00:05<00:00,  1.19it/s]\n",
      "Training (11164 / 18000 Steps) (loss=0.62083): 100%|██████████| 7/7 [00:05<00:00,  1.23it/s]\n",
      "Training (11171 / 18000 Steps) (loss=0.59676): 100%|██████████| 7/7 [00:05<00:00,  1.29it/s]\n",
      "Training (11178 / 18000 Steps) (loss=0.38420): 100%|██████████| 7/7 [00:05<00:00,  1.27it/s]\n",
      "Training (11185 / 18000 Steps) (loss=0.36229): 100%|██████████| 7/7 [00:06<00:00,  1.14it/s]\n",
      "Training (11192 / 18000 Steps) (loss=0.56597): 100%|██████████| 7/7 [00:05<00:00,  1.20it/s]\n",
      "Training (11199 / 18000 Steps) (loss=0.53939): 100%|██████████| 7/7 [00:05<00:00,  1.20it/s]\n",
      "Validate (11200 / 10 Steps): 100%|██████████| 2/2 [00:04<00:00,  2.13s/it]<?, ?it/s]\n",
      "Training (11200 / 18000 Steps) (loss=0.45472):  14%|█▍        | 1/7 [00:07<00:44,  7.48s/it]"
     ]
    },
    {
     "name": "stdout",
     "output_type": "stream",
     "text": [
      "Model Was Not Saved ! Current Best Avg. Dice: 0.29792845249176025 Current Avg. Dice: 0.2746194005012512 Current Avg. tumor Dice: 0.3605670928955078 Current Avg. lymph Dice: 0.18867167830467224\n"
     ]
    },
    {
     "name": "stderr",
     "output_type": "stream",
     "text": [
      "Training (11206 / 18000 Steps) (loss=0.50962): 100%|██████████| 7/7 [00:09<00:00,  1.42s/it]\n",
      "Training (11213 / 18000 Steps) (loss=0.34076): 100%|██████████| 7/7 [00:05<00:00,  1.19it/s]\n",
      "Training (11220 / 18000 Steps) (loss=0.42273): 100%|██████████| 7/7 [00:05<00:00,  1.19it/s]\n",
      "Training (11227 / 18000 Steps) (loss=0.32868): 100%|██████████| 7/7 [00:05<00:00,  1.22it/s]\n",
      "Training (11234 / 18000 Steps) (loss=0.45228): 100%|██████████| 7/7 [00:05<00:00,  1.25it/s]\n",
      "Training (11241 / 18000 Steps) (loss=0.50146): 100%|██████████| 7/7 [00:05<00:00,  1.32it/s]\n",
      "Training (11248 / 18000 Steps) (loss=0.52189): 100%|██████████| 7/7 [00:05<00:00,  1.23it/s]\n",
      "Training (11255 / 18000 Steps) (loss=0.35415): 100%|██████████| 7/7 [00:05<00:00,  1.27it/s]\n",
      "Training (11262 / 18000 Steps) (loss=0.29946): 100%|██████████| 7/7 [00:05<00:00,  1.23it/s]\n",
      "Training (11269 / 18000 Steps) (loss=0.37042): 100%|██████████| 7/7 [00:05<00:00,  1.27it/s]\n",
      "Training (11276 / 18000 Steps) (loss=0.67079): 100%|██████████| 7/7 [00:05<00:00,  1.23it/s]\n",
      "Training (11283 / 18000 Steps) (loss=0.59084): 100%|██████████| 7/7 [00:05<00:00,  1.32it/s]\n",
      "Training (11290 / 18000 Steps) (loss=0.43546): 100%|██████████| 7/7 [00:05<00:00,  1.23it/s]\n",
      "Training (11297 / 18000 Steps) (loss=0.29768): 100%|██████████| 7/7 [00:05<00:00,  1.26it/s]\n",
      "Validate (11298 / 10 Steps): 100%|██████████| 2/2 [00:04<00:00,  2.23s/it]<00:08,  1.62s/it]\n",
      "Training (11300 / 18000 Steps) (loss=0.42280):  43%|████▎     | 3/7 [00:09<00:13,  3.45s/it]"
     ]
    },
    {
     "name": "stdout",
     "output_type": "stream",
     "text": [
      "Model Was Saved ! Current Best Avg. Dice: 0.3217344880104065 Current Avg. Dice: 0.3217344880104065 Current Avg. tumor Dice: 0.41957831382751465 Current Avg. lymph Dice: 0.22389067709445953\n"
     ]
    },
    {
     "name": "stderr",
     "output_type": "stream",
     "text": [
      "Training (11304 / 18000 Steps) (loss=0.36534): 100%|██████████| 7/7 [00:10<00:00,  1.57s/it]\n",
      "Training (11311 / 18000 Steps) (loss=0.53869): 100%|██████████| 7/7 [00:05<00:00,  1.21it/s]\n",
      "Training (11318 / 18000 Steps) (loss=0.34977): 100%|██████████| 7/7 [00:05<00:00,  1.22it/s]\n",
      "Training (11325 / 18000 Steps) (loss=0.45609): 100%|██████████| 7/7 [00:05<00:00,  1.26it/s]\n",
      "Training (11332 / 18000 Steps) (loss=0.23063): 100%|██████████| 7/7 [00:05<00:00,  1.27it/s]\n",
      "Training (11339 / 18000 Steps) (loss=0.45613): 100%|██████████| 7/7 [00:06<00:00,  1.12it/s]\n",
      "Training (11346 / 18000 Steps) (loss=0.42911): 100%|██████████| 7/7 [00:05<00:00,  1.18it/s]\n",
      "Training (11353 / 18000 Steps) (loss=0.56398): 100%|██████████| 7/7 [00:06<00:00,  1.15it/s]\n",
      "Training (11360 / 18000 Steps) (loss=0.52459): 100%|██████████| 7/7 [00:05<00:00,  1.21it/s]\n",
      "Training (11367 / 18000 Steps) (loss=0.41327): 100%|██████████| 7/7 [00:05<00:00,  1.25it/s]\n",
      "Training (11374 / 18000 Steps) (loss=0.39564): 100%|██████████| 7/7 [00:05<00:00,  1.20it/s]\n",
      "Training (11381 / 18000 Steps) (loss=0.57305): 100%|██████████| 7/7 [00:05<00:00,  1.17it/s]\n",
      "Training (11388 / 18000 Steps) (loss=0.48668): 100%|██████████| 7/7 [00:05<00:00,  1.19it/s]\n",
      "Training (11395 / 18000 Steps) (loss=0.45625): 100%|██████████| 7/7 [00:05<00:00,  1.22it/s]\n",
      "Validate (11396 / 10 Steps): 100%|██████████| 2/2 [00:04<00:00,  2.14s/it]<00:02,  1.29it/s]\n",
      "Training (11400 / 18000 Steps) (loss=0.50998):  71%|███████▏  | 5/7 [00:09<00:04,  2.21s/it]"
     ]
    },
    {
     "name": "stdout",
     "output_type": "stream",
     "text": [
      "Model Was Not Saved ! Current Best Avg. Dice: 0.3217344880104065 Current Avg. Dice: 0.2601889669895172 Current Avg. tumor Dice: 0.33718520402908325 Current Avg. lymph Dice: 0.18319275975227356\n"
     ]
    },
    {
     "name": "stderr",
     "output_type": "stream",
     "text": [
      "Training (11402 / 18000 Steps) (loss=0.34281): 100%|██████████| 7/7 [00:09<00:00,  1.40s/it]\n",
      "Training (11409 / 18000 Steps) (loss=0.43715): 100%|██████████| 7/7 [00:05<00:00,  1.24it/s]\n",
      "Training (11416 / 18000 Steps) (loss=0.58655): 100%|██████████| 7/7 [00:05<00:00,  1.23it/s]\n",
      "Training (11423 / 18000 Steps) (loss=0.32828): 100%|██████████| 7/7 [00:05<00:00,  1.23it/s]\n",
      "Training (11430 / 18000 Steps) (loss=0.48464): 100%|██████████| 7/7 [00:05<00:00,  1.20it/s]\n",
      "Training (11437 / 18000 Steps) (loss=0.50549): 100%|██████████| 7/7 [00:05<00:00,  1.20it/s]\n",
      "Training (11444 / 18000 Steps) (loss=0.38267): 100%|██████████| 7/7 [00:05<00:00,  1.22it/s]\n",
      "Training (11451 / 18000 Steps) (loss=0.43747): 100%|██████████| 7/7 [00:05<00:00,  1.25it/s]\n",
      "Training (11458 / 18000 Steps) (loss=0.41722): 100%|██████████| 7/7 [00:05<00:00,  1.27it/s]\n",
      "Training (11465 / 18000 Steps) (loss=0.52581): 100%|██████████| 7/7 [00:05<00:00,  1.21it/s]\n",
      "Training (11472 / 18000 Steps) (loss=0.34901): 100%|██████████| 7/7 [00:06<00:00,  1.09it/s]\n",
      "Training (11479 / 18000 Steps) (loss=0.38121): 100%|██████████| 7/7 [00:05<00:00,  1.27it/s]\n",
      "Training (11486 / 18000 Steps) (loss=0.39020): 100%|██████████| 7/7 [00:05<00:00,  1.26it/s]\n",
      "Training (11493 / 18000 Steps) (loss=0.58263): 100%|██████████| 7/7 [00:05<00:00,  1.25it/s]\n",
      "Validate (11494 / 10 Steps): 100%|██████████| 2/2 [00:04<00:00,  2.18s/it]<00:00,  1.75it/s]\n",
      "Training (11500 / 18000 Steps) (loss=0.32359): 100%|██████████| 7/7 [00:09<00:00,  1.42s/it]\n"
     ]
    },
    {
     "name": "stdout",
     "output_type": "stream",
     "text": [
      "Model Was Not Saved ! Current Best Avg. Dice: 0.3217344880104065 Current Avg. Dice: 0.25239109992980957 Current Avg. tumor Dice: 0.3609468638896942 Current Avg. lymph Dice: 0.14383533596992493\n"
     ]
    },
    {
     "name": "stderr",
     "output_type": "stream",
     "text": [
      "Training (11507 / 18000 Steps) (loss=0.48744): 100%|██████████| 7/7 [00:05<00:00,  1.30it/s]\n",
      "Training (11514 / 18000 Steps) (loss=0.48408): 100%|██████████| 7/7 [00:05<00:00,  1.26it/s]\n",
      "Training (11521 / 18000 Steps) (loss=0.24374): 100%|██████████| 7/7 [00:05<00:00,  1.30it/s]\n",
      "Training (11528 / 18000 Steps) (loss=0.60303): 100%|██████████| 7/7 [00:05<00:00,  1.26it/s]\n",
      "Training (11535 / 18000 Steps) (loss=0.47620): 100%|██████████| 7/7 [00:05<00:00,  1.24it/s]\n",
      "Training (11542 / 18000 Steps) (loss=0.27149): 100%|██████████| 7/7 [00:05<00:00,  1.24it/s]\n",
      "Training (11549 / 18000 Steps) (loss=0.41765): 100%|██████████| 7/7 [00:05<00:00,  1.20it/s]\n",
      "Training (11556 / 18000 Steps) (loss=0.55607): 100%|██████████| 7/7 [00:05<00:00,  1.28it/s]\n",
      "Training (11563 / 18000 Steps) (loss=0.52435): 100%|██████████| 7/7 [00:05<00:00,  1.24it/s]\n",
      "Training (11570 / 18000 Steps) (loss=0.60789): 100%|██████████| 7/7 [00:05<00:00,  1.20it/s]\n",
      "Training (11577 / 18000 Steps) (loss=0.64335): 100%|██████████| 7/7 [00:05<00:00,  1.21it/s]\n",
      "Training (11584 / 18000 Steps) (loss=0.66853): 100%|██████████| 7/7 [00:05<00:00,  1.28it/s]\n",
      "Training (11591 / 18000 Steps) (loss=0.57295): 100%|██████████| 7/7 [00:05<00:00,  1.17it/s]\n",
      "Training (11598 / 18000 Steps) (loss=0.31221): 100%|██████████| 7/7 [00:05<00:00,  1.18it/s]\n",
      "Validate (11599 / 10 Steps): 100%|██████████| 2/2 [00:04<00:00,  2.19s/it]<00:18,  3.12s/it]\n",
      "Training (11600 / 18000 Steps) (loss=0.44908):  29%|██▊       | 2/7 [00:07<00:20,  4.13s/it]"
     ]
    },
    {
     "name": "stdout",
     "output_type": "stream",
     "text": [
      "Model Was Not Saved ! Current Best Avg. Dice: 0.3217344880104065 Current Avg. Dice: 0.24587517976760864 Current Avg. tumor Dice: 0.3035067915916443 Current Avg. lymph Dice: 0.18824361264705658\n"
     ]
    },
    {
     "name": "stderr",
     "output_type": "stream",
     "text": [
      "Training (11605 / 18000 Steps) (loss=0.58704): 100%|██████████| 7/7 [00:09<00:00,  1.42s/it]\n",
      "Training (11612 / 18000 Steps) (loss=0.36755): 100%|██████████| 7/7 [00:05<00:00,  1.26it/s]\n",
      "Training (11619 / 18000 Steps) (loss=0.55399): 100%|██████████| 7/7 [00:05<00:00,  1.24it/s]\n",
      "Training (11626 / 18000 Steps) (loss=0.37855): 100%|██████████| 7/7 [00:05<00:00,  1.20it/s]\n",
      "Training (11633 / 18000 Steps) (loss=0.50536): 100%|██████████| 7/7 [00:05<00:00,  1.28it/s]\n",
      "Training (11640 / 18000 Steps) (loss=0.28161): 100%|██████████| 7/7 [00:05<00:00,  1.26it/s]\n",
      "Training (11647 / 18000 Steps) (loss=0.45205): 100%|██████████| 7/7 [00:05<00:00,  1.24it/s]\n",
      "Training (11654 / 18000 Steps) (loss=0.47454): 100%|██████████| 7/7 [00:05<00:00,  1.31it/s]\n",
      "Training (11661 / 18000 Steps) (loss=0.45281): 100%|██████████| 7/7 [00:05<00:00,  1.20it/s]\n",
      "Training (11668 / 18000 Steps) (loss=0.43366): 100%|██████████| 7/7 [00:05<00:00,  1.26it/s]\n",
      "Training (11675 / 18000 Steps) (loss=0.33900): 100%|██████████| 7/7 [00:05<00:00,  1.23it/s]\n",
      "Training (11682 / 18000 Steps) (loss=0.43858): 100%|██████████| 7/7 [00:05<00:00,  1.28it/s]\n",
      "Training (11689 / 18000 Steps) (loss=0.45137): 100%|██████████| 7/7 [00:05<00:00,  1.22it/s]\n",
      "Training (11696 / 18000 Steps) (loss=0.52852): 100%|██████████| 7/7 [00:05<00:00,  1.24it/s]\n",
      "Validate (11697 / 10 Steps): 100%|██████████| 2/2 [00:04<00:00,  2.24s/it]<00:04,  1.07s/it]\n",
      "Training (11700 / 18000 Steps) (loss=0.41211):  57%|█████▋    | 4/7 [00:09<00:07,  2.59s/it]"
     ]
    },
    {
     "name": "stdout",
     "output_type": "stream",
     "text": [
      "Model Was Not Saved ! Current Best Avg. Dice: 0.3217344880104065 Current Avg. Dice: 0.22209301590919495 Current Avg. tumor Dice: 0.2690507471561432 Current Avg. lymph Dice: 0.1751352995634079\n"
     ]
    },
    {
     "name": "stderr",
     "output_type": "stream",
     "text": [
      "Training (11703 / 18000 Steps) (loss=0.47218): 100%|██████████| 7/7 [00:10<00:00,  1.46s/it]\n",
      "Training (11710 / 18000 Steps) (loss=0.66861): 100%|██████████| 7/7 [00:05<00:00,  1.29it/s]\n",
      "Training (11717 / 18000 Steps) (loss=0.37647): 100%|██████████| 7/7 [00:05<00:00,  1.22it/s]\n",
      "Training (11724 / 18000 Steps) (loss=0.26746): 100%|██████████| 7/7 [00:05<00:00,  1.27it/s]\n",
      "Training (11731 / 18000 Steps) (loss=0.39696): 100%|██████████| 7/7 [00:05<00:00,  1.28it/s]\n",
      "Training (11738 / 18000 Steps) (loss=0.40360): 100%|██████████| 7/7 [00:05<00:00,  1.26it/s]\n",
      "Training (11745 / 18000 Steps) (loss=0.34334): 100%|██████████| 7/7 [00:05<00:00,  1.26it/s]\n",
      "Training (11752 / 18000 Steps) (loss=0.39172): 100%|██████████| 7/7 [00:05<00:00,  1.22it/s]\n",
      "Training (11759 / 18000 Steps) (loss=0.48441): 100%|██████████| 7/7 [00:05<00:00,  1.25it/s]\n",
      "Training (11766 / 18000 Steps) (loss=0.40810): 100%|██████████| 7/7 [00:05<00:00,  1.29it/s]\n",
      "Training (11773 / 18000 Steps) (loss=0.47636): 100%|██████████| 7/7 [00:05<00:00,  1.24it/s]\n",
      "Training (11780 / 18000 Steps) (loss=0.52375): 100%|██████████| 7/7 [00:05<00:00,  1.27it/s]\n",
      "Training (11787 / 18000 Steps) (loss=0.59139): 100%|██████████| 7/7 [00:05<00:00,  1.28it/s]\n",
      "Training (11794 / 18000 Steps) (loss=0.35978): 100%|██████████| 7/7 [00:05<00:00,  1.18it/s]\n",
      "Validate (11795 / 10 Steps): 100%|██████████| 2/2 [00:04<00:00,  2.28s/it]<00:01,  1.51it/s]\n",
      "Training (11800 / 18000 Steps) (loss=0.38396):  86%|████████▌ | 6/7 [00:09<00:02,  2.14s/it]"
     ]
    },
    {
     "name": "stdout",
     "output_type": "stream",
     "text": [
      "Model Was Not Saved ! Current Best Avg. Dice: 0.3217344880104065 Current Avg. Dice: 0.2655378580093384 Current Avg. tumor Dice: 0.3245631754398346 Current Avg. lymph Dice: 0.20651254057884216\n"
     ]
    },
    {
     "name": "stderr",
     "output_type": "stream",
     "text": [
      "Training (11801 / 18000 Steps) (loss=0.42415): 100%|██████████| 7/7 [00:10<00:00,  1.47s/it]\n",
      "Training (11808 / 18000 Steps) (loss=0.49310): 100%|██████████| 7/7 [00:05<00:00,  1.28it/s]\n",
      "Training (11815 / 18000 Steps) (loss=0.46095): 100%|██████████| 7/7 [00:05<00:00,  1.22it/s]\n",
      "Training (11822 / 18000 Steps) (loss=0.57426): 100%|██████████| 7/7 [00:05<00:00,  1.29it/s]\n",
      "Training (11829 / 18000 Steps) (loss=0.52228): 100%|██████████| 7/7 [00:05<00:00,  1.20it/s]\n",
      "Training (11836 / 18000 Steps) (loss=0.51592): 100%|██████████| 7/7 [00:05<00:00,  1.26it/s]\n",
      "Training (11843 / 18000 Steps) (loss=0.47935): 100%|██████████| 7/7 [00:05<00:00,  1.25it/s]\n",
      "Training (11850 / 18000 Steps) (loss=0.31398): 100%|██████████| 7/7 [00:05<00:00,  1.30it/s]\n",
      "Training (11857 / 18000 Steps) (loss=0.38977): 100%|██████████| 7/7 [00:05<00:00,  1.24it/s]\n",
      "Training (11864 / 18000 Steps) (loss=0.27984): 100%|██████████| 7/7 [00:05<00:00,  1.28it/s]\n",
      "Training (11871 / 18000 Steps) (loss=0.43731): 100%|██████████| 7/7 [00:05<00:00,  1.27it/s]\n",
      "Training (11878 / 18000 Steps) (loss=0.40859): 100%|██████████| 7/7 [00:05<00:00,  1.23it/s]\n",
      "Training (11885 / 18000 Steps) (loss=0.50952): 100%|██████████| 7/7 [00:05<00:00,  1.17it/s]\n",
      "Training (11892 / 18000 Steps) (loss=0.25954): 100%|██████████| 7/7 [00:05<00:00,  1.23it/s]\n",
      "Training (11899 / 18000 Steps) (loss=0.35086): 100%|██████████| 7/7 [00:05<00:00,  1.23it/s]\n",
      "Validate (11900 / 10 Steps): 100%|██████████| 2/2 [00:04<00:00,  2.23s/it]<?, ?it/s]\n",
      "Training (11900 / 18000 Steps) (loss=0.37926):  14%|█▍        | 1/7 [00:07<00:47,  7.85s/it]"
     ]
    },
    {
     "name": "stdout",
     "output_type": "stream",
     "text": [
      "Model Was Not Saved ! Current Best Avg. Dice: 0.3217344880104065 Current Avg. Dice: 0.26500630378723145 Current Avg. tumor Dice: 0.32286709547042847 Current Avg. lymph Dice: 0.2071455419063568\n"
     ]
    },
    {
     "name": "stderr",
     "output_type": "stream",
     "text": [
      "Training (11906 / 18000 Steps) (loss=0.55602): 100%|██████████| 7/7 [00:10<00:00,  1.47s/it]\n",
      "Training (11913 / 18000 Steps) (loss=0.41202): 100%|██████████| 7/7 [00:05<00:00,  1.18it/s]\n",
      "Training (11920 / 18000 Steps) (loss=0.29251): 100%|██████████| 7/7 [00:05<00:00,  1.30it/s]\n",
      "Training (11927 / 18000 Steps) (loss=0.33358): 100%|██████████| 7/7 [00:05<00:00,  1.27it/s]\n",
      "Training (11934 / 18000 Steps) (loss=0.43209): 100%|██████████| 7/7 [00:05<00:00,  1.19it/s]\n",
      "Training (11941 / 18000 Steps) (loss=0.44382): 100%|██████████| 7/7 [00:05<00:00,  1.24it/s]\n",
      "Training (11948 / 18000 Steps) (loss=0.44668): 100%|██████████| 7/7 [00:05<00:00,  1.17it/s]\n",
      "Training (11955 / 18000 Steps) (loss=0.25355): 100%|██████████| 7/7 [00:05<00:00,  1.27it/s]\n",
      "Training (11962 / 18000 Steps) (loss=0.34358): 100%|██████████| 7/7 [00:05<00:00,  1.28it/s]\n",
      "Training (11969 / 18000 Steps) (loss=0.45741): 100%|██████████| 7/7 [00:05<00:00,  1.28it/s]\n",
      "Training (11976 / 18000 Steps) (loss=0.34624): 100%|██████████| 7/7 [00:05<00:00,  1.24it/s]\n",
      "Training (11983 / 18000 Steps) (loss=0.54491): 100%|██████████| 7/7 [00:05<00:00,  1.23it/s]\n",
      "Training (11990 / 18000 Steps) (loss=0.29876): 100%|██████████| 7/7 [00:05<00:00,  1.25it/s]\n",
      "Training (11997 / 18000 Steps) (loss=0.58703): 100%|██████████| 7/7 [00:05<00:00,  1.25it/s]\n",
      "Validate (11998 / 10 Steps): 100%|██████████| 2/2 [00:04<00:00,  2.40s/it]<00:07,  1.58s/it]\n",
      "Training (12000 / 18000 Steps) (loss=0.51124):  43%|████▎     | 3/7 [00:08<00:13,  3.28s/it]"
     ]
    },
    {
     "name": "stdout",
     "output_type": "stream",
     "text": [
      "Model Was Not Saved ! Current Best Avg. Dice: 0.3217344880104065 Current Avg. Dice: 0.2761881947517395 Current Avg. tumor Dice: 0.3368816673755646 Current Avg. lymph Dice: 0.21549473702907562\n"
     ]
    },
    {
     "name": "stderr",
     "output_type": "stream",
     "text": [
      "Training (12004 / 18000 Steps) (loss=0.35559): 100%|██████████| 7/7 [00:10<00:00,  1.51s/it]\n",
      "Training (12011 / 18000 Steps) (loss=0.43951): 100%|██████████| 7/7 [00:05<00:00,  1.22it/s]\n",
      "Training (12018 / 18000 Steps) (loss=0.50400): 100%|██████████| 7/7 [00:05<00:00,  1.26it/s]\n",
      "Training (12025 / 18000 Steps) (loss=0.29009): 100%|██████████| 7/7 [00:05<00:00,  1.18it/s]\n",
      "Training (12032 / 18000 Steps) (loss=0.49936): 100%|██████████| 7/7 [00:05<00:00,  1.23it/s]\n",
      "Training (12039 / 18000 Steps) (loss=0.44734): 100%|██████████| 7/7 [00:05<00:00,  1.18it/s]\n",
      "Training (12046 / 18000 Steps) (loss=0.31302): 100%|██████████| 7/7 [00:05<00:00,  1.22it/s]\n",
      "Training (12053 / 18000 Steps) (loss=0.38322): 100%|██████████| 7/7 [00:05<00:00,  1.27it/s]\n",
      "Training (12060 / 18000 Steps) (loss=0.42429): 100%|██████████| 7/7 [00:05<00:00,  1.22it/s]\n",
      "Training (12067 / 18000 Steps) (loss=0.46737): 100%|██████████| 7/7 [00:05<00:00,  1.24it/s]\n",
      "Training (12074 / 18000 Steps) (loss=0.55429): 100%|██████████| 7/7 [00:05<00:00,  1.28it/s]\n",
      "Training (12081 / 18000 Steps) (loss=0.41650): 100%|██████████| 7/7 [00:05<00:00,  1.24it/s]\n",
      "Training (12088 / 18000 Steps) (loss=0.50189): 100%|██████████| 7/7 [00:05<00:00,  1.25it/s]\n",
      "Training (12095 / 18000 Steps) (loss=0.62409): 100%|██████████| 7/7 [00:05<00:00,  1.22it/s]\n",
      "Validate (12096 / 10 Steps): 100%|██████████| 2/2 [00:04<00:00,  2.15s/it]<00:02,  1.24it/s]\n",
      "Training (12100 / 18000 Steps) (loss=0.43024):  71%|███████▏  | 5/7 [00:09<00:04,  2.23s/it]"
     ]
    },
    {
     "name": "stdout",
     "output_type": "stream",
     "text": [
      "Model Was Not Saved ! Current Best Avg. Dice: 0.3217344880104065 Current Avg. Dice: 0.2756049335002899 Current Avg. tumor Dice: 0.3453991711139679 Current Avg. lymph Dice: 0.20581069588661194\n"
     ]
    },
    {
     "name": "stderr",
     "output_type": "stream",
     "text": [
      "Training (12102 / 18000 Steps) (loss=0.31400): 100%|██████████| 7/7 [00:10<00:00,  1.44s/it]\n",
      "Training (12109 / 18000 Steps) (loss=0.38372): 100%|██████████| 7/7 [00:05<00:00,  1.20it/s]\n",
      "Training (12116 / 18000 Steps) (loss=0.54961): 100%|██████████| 7/7 [00:05<00:00,  1.26it/s]\n",
      "Training (12123 / 18000 Steps) (loss=0.55264): 100%|██████████| 7/7 [00:05<00:00,  1.23it/s]\n",
      "Training (12130 / 18000 Steps) (loss=0.49035): 100%|██████████| 7/7 [00:05<00:00,  1.28it/s]\n",
      "Training (12137 / 18000 Steps) (loss=0.54957): 100%|██████████| 7/7 [00:05<00:00,  1.23it/s]\n",
      "Training (12144 / 18000 Steps) (loss=0.42373): 100%|██████████| 7/7 [00:05<00:00,  1.26it/s]\n",
      "Training (12151 / 18000 Steps) (loss=0.55345): 100%|██████████| 7/7 [00:05<00:00,  1.26it/s]\n",
      "Training (12158 / 18000 Steps) (loss=0.59952): 100%|██████████| 7/7 [00:05<00:00,  1.19it/s]\n",
      "Training (12165 / 18000 Steps) (loss=0.54141): 100%|██████████| 7/7 [00:05<00:00,  1.23it/s]\n",
      "Training (12172 / 18000 Steps) (loss=0.34886): 100%|██████████| 7/7 [00:05<00:00,  1.20it/s]\n",
      "Training (12179 / 18000 Steps) (loss=0.50973): 100%|██████████| 7/7 [00:06<00:00,  1.13it/s]\n",
      "Training (12186 / 18000 Steps) (loss=0.41284): 100%|██████████| 7/7 [00:05<00:00,  1.19it/s]\n",
      "Training (12193 / 18000 Steps) (loss=0.60629): 100%|██████████| 7/7 [00:05<00:00,  1.19it/s]\n",
      "Validate (12194 / 10 Steps): 100%|██████████| 2/2 [00:04<00:00,  2.20s/it]<00:00,  1.70it/s]\n",
      "Training (12200 / 18000 Steps) (loss=0.54282): 100%|██████████| 7/7 [00:10<00:00,  1.47s/it]\n"
     ]
    },
    {
     "name": "stdout",
     "output_type": "stream",
     "text": [
      "Model Was Not Saved ! Current Best Avg. Dice: 0.3217344880104065 Current Avg. Dice: 0.26638609170913696 Current Avg. tumor Dice: 0.361848384141922 Current Avg. lymph Dice: 0.17092381417751312\n"
     ]
    },
    {
     "name": "stderr",
     "output_type": "stream",
     "text": [
      "Training (12207 / 18000 Steps) (loss=0.36916): 100%|██████████| 7/7 [00:05<00:00,  1.19it/s]\n",
      "Training (12214 / 18000 Steps) (loss=0.15694): 100%|██████████| 7/7 [00:05<00:00,  1.28it/s]\n",
      "Training (12221 / 18000 Steps) (loss=0.67775): 100%|██████████| 7/7 [00:05<00:00,  1.26it/s]\n",
      "Training (12228 / 18000 Steps) (loss=0.46201): 100%|██████████| 7/7 [00:05<00:00,  1.26it/s]\n",
      "Training (12235 / 18000 Steps) (loss=0.35919): 100%|██████████| 7/7 [00:05<00:00,  1.21it/s]\n",
      "Training (12242 / 18000 Steps) (loss=0.64374): 100%|██████████| 7/7 [00:05<00:00,  1.20it/s]\n",
      "Training (12249 / 18000 Steps) (loss=0.36526): 100%|██████████| 7/7 [00:05<00:00,  1.25it/s]\n",
      "Training (12256 / 18000 Steps) (loss=0.67026): 100%|██████████| 7/7 [00:05<00:00,  1.28it/s]\n",
      "Training (12263 / 18000 Steps) (loss=0.36491): 100%|██████████| 7/7 [00:05<00:00,  1.25it/s]\n",
      "Training (12270 / 18000 Steps) (loss=0.25758): 100%|██████████| 7/7 [00:05<00:00,  1.25it/s]\n",
      "Training (12277 / 18000 Steps) (loss=0.41778): 100%|██████████| 7/7 [00:05<00:00,  1.25it/s]\n",
      "Training (12284 / 18000 Steps) (loss=0.35448): 100%|██████████| 7/7 [00:06<00:00,  1.16it/s]\n",
      "Training (12291 / 18000 Steps) (loss=0.46569): 100%|██████████| 7/7 [00:05<00:00,  1.22it/s]\n",
      "Training (12298 / 18000 Steps) (loss=0.53766): 100%|██████████| 7/7 [00:05<00:00,  1.25it/s]\n",
      "Validate (12299 / 10 Steps): 100%|██████████| 2/2 [00:04<00:00,  2.25s/it]<00:19,  3.24s/it]\n",
      "Training (12300 / 18000 Steps) (loss=0.62424):  29%|██▊       | 2/7 [00:08<00:21,  4.25s/it]"
     ]
    },
    {
     "name": "stdout",
     "output_type": "stream",
     "text": [
      "Model Was Not Saved ! Current Best Avg. Dice: 0.3217344880104065 Current Avg. Dice: 0.29818400740623474 Current Avg. tumor Dice: 0.39030876755714417 Current Avg. lymph Dice: 0.20605924725532532\n"
     ]
    },
    {
     "name": "stderr",
     "output_type": "stream",
     "text": [
      "Training (12305 / 18000 Steps) (loss=0.47502): 100%|██████████| 7/7 [00:10<00:00,  1.46s/it]\n",
      "Training (12312 / 18000 Steps) (loss=0.47737): 100%|██████████| 7/7 [00:05<00:00,  1.25it/s]\n",
      "Training (12319 / 18000 Steps) (loss=0.21055): 100%|██████████| 7/7 [00:05<00:00,  1.19it/s]\n",
      "Training (12326 / 18000 Steps) (loss=0.38030): 100%|██████████| 7/7 [00:05<00:00,  1.19it/s]\n",
      "Training (12333 / 18000 Steps) (loss=0.21728): 100%|██████████| 7/7 [00:05<00:00,  1.24it/s]\n",
      "Training (12340 / 18000 Steps) (loss=0.50057): 100%|██████████| 7/7 [00:05<00:00,  1.21it/s]\n",
      "Training (12347 / 18000 Steps) (loss=0.51195): 100%|██████████| 7/7 [00:05<00:00,  1.22it/s]\n",
      "Training (12354 / 18000 Steps) (loss=0.33341): 100%|██████████| 7/7 [00:05<00:00,  1.28it/s]\n",
      "Training (12361 / 18000 Steps) (loss=0.49819): 100%|██████████| 7/7 [00:05<00:00,  1.26it/s]\n",
      "Training (12368 / 18000 Steps) (loss=0.42886): 100%|██████████| 7/7 [00:06<00:00,  1.08it/s]\n",
      "Training (12375 / 18000 Steps) (loss=0.30195): 100%|██████████| 7/7 [00:05<00:00,  1.23it/s]\n",
      "Training (12382 / 18000 Steps) (loss=0.33964): 100%|██████████| 7/7 [00:05<00:00,  1.22it/s]\n",
      "Training (12389 / 18000 Steps) (loss=0.29191): 100%|██████████| 7/7 [00:05<00:00,  1.25it/s]\n",
      "Training (12396 / 18000 Steps) (loss=0.31835): 100%|██████████| 7/7 [00:05<00:00,  1.24it/s]\n",
      "Validate (12397 / 10 Steps): 100%|██████████| 2/2 [00:04<00:00,  2.21s/it]<00:04,  1.06s/it]\n",
      "Training (12400 / 18000 Steps) (loss=0.30613):  57%|█████▋    | 4/7 [00:08<00:07,  2.56s/it]"
     ]
    },
    {
     "name": "stdout",
     "output_type": "stream",
     "text": [
      "Model Was Not Saved ! Current Best Avg. Dice: 0.3217344880104065 Current Avg. Dice: 0.25756847858428955 Current Avg. tumor Dice: 0.31602638959884644 Current Avg. lymph Dice: 0.19911059737205505\n"
     ]
    },
    {
     "name": "stderr",
     "output_type": "stream",
     "text": [
      "Training (12403 / 18000 Steps) (loss=0.61000): 100%|██████████| 7/7 [00:10<00:00,  1.45s/it]\n",
      "Training (12410 / 18000 Steps) (loss=0.48654): 100%|██████████| 7/7 [00:06<00:00,  1.14it/s]\n",
      "Training (12417 / 18000 Steps) (loss=0.25660): 100%|██████████| 7/7 [00:05<00:00,  1.27it/s]\n",
      "Training (12424 / 18000 Steps) (loss=0.44349): 100%|██████████| 7/7 [00:05<00:00,  1.20it/s]\n",
      "Training (12431 / 18000 Steps) (loss=0.46795): 100%|██████████| 7/7 [00:05<00:00,  1.24it/s]\n",
      "Training (12438 / 18000 Steps) (loss=0.44259): 100%|██████████| 7/7 [00:05<00:00,  1.22it/s]\n",
      "Training (12445 / 18000 Steps) (loss=0.63312): 100%|██████████| 7/7 [00:05<00:00,  1.23it/s]\n",
      "Training (12452 / 18000 Steps) (loss=0.44276): 100%|██████████| 7/7 [00:05<00:00,  1.17it/s]\n",
      "Training (12459 / 18000 Steps) (loss=0.46878): 100%|██████████| 7/7 [00:05<00:00,  1.24it/s]\n",
      "Training (12466 / 18000 Steps) (loss=0.17823): 100%|██████████| 7/7 [00:05<00:00,  1.18it/s]\n",
      "Training (12473 / 18000 Steps) (loss=0.40663): 100%|██████████| 7/7 [00:05<00:00,  1.20it/s]\n",
      "Training (12480 / 18000 Steps) (loss=0.27989): 100%|██████████| 7/7 [00:05<00:00,  1.27it/s]\n",
      "Training (12487 / 18000 Steps) (loss=0.67775): 100%|██████████| 7/7 [00:05<00:00,  1.20it/s]\n",
      "Training (12494 / 18000 Steps) (loss=0.30607): 100%|██████████| 7/7 [00:05<00:00,  1.26it/s]\n",
      "Validate (12495 / 10 Steps): 100%|██████████| 2/2 [00:04<00:00,  2.23s/it]<00:01,  1.47it/s]\n",
      "Training (12500 / 18000 Steps) (loss=0.52655):  86%|████████▌ | 6/7 [00:10<00:02,  2.12s/it]"
     ]
    },
    {
     "name": "stdout",
     "output_type": "stream",
     "text": [
      "Model Was Not Saved ! Current Best Avg. Dice: 0.3217344880104065 Current Avg. Dice: 0.27277112007141113 Current Avg. tumor Dice: 0.35876941680908203 Current Avg. lymph Dice: 0.18677282333374023\n"
     ]
    },
    {
     "name": "stderr",
     "output_type": "stream",
     "text": [
      "Training (12501 / 18000 Steps) (loss=0.40655): 100%|██████████| 7/7 [00:10<00:00,  1.49s/it]\n",
      "Training (12508 / 18000 Steps) (loss=0.55594): 100%|██████████| 7/7 [00:05<00:00,  1.26it/s]\n",
      "Training (12515 / 18000 Steps) (loss=0.46925): 100%|██████████| 7/7 [00:05<00:00,  1.27it/s]\n",
      "Training (12522 / 18000 Steps) (loss=0.56460): 100%|██████████| 7/7 [00:05<00:00,  1.18it/s]\n",
      "Training (12529 / 18000 Steps) (loss=0.29824): 100%|██████████| 7/7 [00:05<00:00,  1.17it/s]\n",
      "Training (12536 / 18000 Steps) (loss=0.46567): 100%|██████████| 7/7 [00:05<00:00,  1.17it/s]\n",
      "Training (12543 / 18000 Steps) (loss=0.44375): 100%|██████████| 7/7 [00:05<00:00,  1.19it/s]\n",
      "Training (12550 / 18000 Steps) (loss=0.32625): 100%|██████████| 7/7 [00:05<00:00,  1.19it/s]\n",
      "Training (12557 / 18000 Steps) (loss=0.29234): 100%|██████████| 7/7 [00:05<00:00,  1.22it/s]\n",
      "Training (12564 / 18000 Steps) (loss=0.33217): 100%|██████████| 7/7 [00:05<00:00,  1.24it/s]\n",
      "Training (12571 / 18000 Steps) (loss=0.57152): 100%|██████████| 7/7 [00:05<00:00,  1.20it/s]\n",
      "Training (12578 / 18000 Steps) (loss=0.31998): 100%|██████████| 7/7 [00:05<00:00,  1.23it/s]\n",
      "Training (12585 / 18000 Steps) (loss=0.48962): 100%|██████████| 7/7 [00:05<00:00,  1.18it/s]\n",
      "Training (12592 / 18000 Steps) (loss=0.31309): 100%|██████████| 7/7 [00:05<00:00,  1.27it/s]\n",
      "Training (12599 / 18000 Steps) (loss=0.36241): 100%|██████████| 7/7 [00:05<00:00,  1.26it/s]\n",
      "Validate (12600 / 10 Steps): 100%|██████████| 2/2 [00:04<00:00,  2.29s/it]<?, ?it/s]\n",
      "Training (12600 / 18000 Steps) (loss=0.52361):  14%|█▍        | 1/7 [00:07<00:46,  7.78s/it]"
     ]
    },
    {
     "name": "stdout",
     "output_type": "stream",
     "text": [
      "Model Was Not Saved ! Current Best Avg. Dice: 0.3217344880104065 Current Avg. Dice: 0.2355937510728836 Current Avg. tumor Dice: 0.33559349179267883 Current Avg. lymph Dice: 0.13559404015541077\n"
     ]
    },
    {
     "name": "stderr",
     "output_type": "stream",
     "text": [
      "Training (12606 / 18000 Steps) (loss=0.59674): 100%|██████████| 7/7 [00:10<00:00,  1.46s/it]\n",
      "Training (12613 / 18000 Steps) (loss=0.49906): 100%|██████████| 7/7 [00:06<00:00,  1.14it/s]\n",
      "Training (12620 / 18000 Steps) (loss=0.52439): 100%|██████████| 7/7 [00:05<00:00,  1.19it/s]\n",
      "Training (12627 / 18000 Steps) (loss=0.62280): 100%|██████████| 7/7 [00:05<00:00,  1.19it/s]\n",
      "Training (12634 / 18000 Steps) (loss=0.51005): 100%|██████████| 7/7 [00:05<00:00,  1.24it/s]\n",
      "Training (12641 / 18000 Steps) (loss=0.47196): 100%|██████████| 7/7 [00:05<00:00,  1.21it/s]\n",
      "Training (12648 / 18000 Steps) (loss=0.53701): 100%|██████████| 7/7 [00:05<00:00,  1.20it/s]\n",
      "Training (12655 / 18000 Steps) (loss=0.44094): 100%|██████████| 7/7 [00:05<00:00,  1.30it/s]\n",
      "Training (12662 / 18000 Steps) (loss=0.45219): 100%|██████████| 7/7 [00:05<00:00,  1.19it/s]\n",
      "Training (12669 / 18000 Steps) (loss=0.46781): 100%|██████████| 7/7 [00:05<00:00,  1.22it/s]\n",
      "Training (12676 / 18000 Steps) (loss=0.40442): 100%|██████████| 7/7 [00:05<00:00,  1.27it/s]\n",
      "Training (12683 / 18000 Steps) (loss=0.50173): 100%|██████████| 7/7 [00:05<00:00,  1.26it/s]\n",
      "Training (12690 / 18000 Steps) (loss=0.49185): 100%|██████████| 7/7 [00:05<00:00,  1.19it/s]\n",
      "Training (12697 / 18000 Steps) (loss=0.61383): 100%|██████████| 7/7 [00:06<00:00,  1.13it/s]\n",
      "Validate (12698 / 10 Steps): 100%|██████████| 2/2 [00:04<00:00,  2.28s/it]<00:07,  1.52s/it]\n",
      "Training (12700 / 18000 Steps) (loss=0.50896):  43%|████▎     | 3/7 [00:08<00:12,  3.12s/it]"
     ]
    },
    {
     "name": "stdout",
     "output_type": "stream",
     "text": [
      "Model Was Not Saved ! Current Best Avg. Dice: 0.3217344880104065 Current Avg. Dice: 0.2535907030105591 Current Avg. tumor Dice: 0.38960838317871094 Current Avg. lymph Dice: 0.11757300794124603\n"
     ]
    },
    {
     "name": "stderr",
     "output_type": "stream",
     "text": [
      "Training (12704 / 18000 Steps) (loss=0.52829): 100%|██████████| 7/7 [00:10<00:00,  1.45s/it]\n",
      "Training (12711 / 18000 Steps) (loss=0.53818): 100%|██████████| 7/7 [00:05<00:00,  1.26it/s]\n",
      "Training (12718 / 18000 Steps) (loss=0.58898): 100%|██████████| 7/7 [00:05<00:00,  1.23it/s]\n",
      "Training (12725 / 18000 Steps) (loss=0.52237): 100%|██████████| 7/7 [00:05<00:00,  1.23it/s]\n",
      "Training (12732 / 18000 Steps) (loss=0.28797): 100%|██████████| 7/7 [00:05<00:00,  1.19it/s]\n",
      "Training (12739 / 18000 Steps) (loss=0.53826): 100%|██████████| 7/7 [00:05<00:00,  1.21it/s]\n",
      "Training (12746 / 18000 Steps) (loss=0.23910): 100%|██████████| 7/7 [00:05<00:00,  1.18it/s]\n",
      "Training (12753 / 18000 Steps) (loss=0.48658): 100%|██████████| 7/7 [00:05<00:00,  1.23it/s]\n",
      "Training (12760 / 18000 Steps) (loss=0.40096): 100%|██████████| 7/7 [00:05<00:00,  1.26it/s]\n",
      "Training (12767 / 18000 Steps) (loss=0.51281): 100%|██████████| 7/7 [00:05<00:00,  1.26it/s]\n",
      "Training (12774 / 18000 Steps) (loss=0.30872): 100%|██████████| 7/7 [00:05<00:00,  1.27it/s]\n",
      "Training (12781 / 18000 Steps) (loss=0.32868): 100%|██████████| 7/7 [00:05<00:00,  1.20it/s]\n",
      "Training (12788 / 18000 Steps) (loss=0.45999): 100%|██████████| 7/7 [00:05<00:00,  1.23it/s]\n",
      "Training (12795 / 18000 Steps) (loss=0.49372): 100%|██████████| 7/7 [00:06<00:00,  1.16it/s]\n",
      "Validate (12796 / 10 Steps): 100%|██████████| 2/2 [00:04<00:00,  2.31s/it]<00:02,  1.30it/s]\n",
      "Training (12800 / 18000 Steps) (loss=0.41085):  71%|███████▏  | 5/7 [00:09<00:04,  2.33s/it]"
     ]
    },
    {
     "name": "stdout",
     "output_type": "stream",
     "text": [
      "Model Was Not Saved ! Current Best Avg. Dice: 0.3217344880104065 Current Avg. Dice: 0.30153322219848633 Current Avg. tumor Dice: 0.40765702724456787 Current Avg. lymph Dice: 0.19540944695472717\n"
     ]
    },
    {
     "name": "stderr",
     "output_type": "stream",
     "text": [
      "Training (12802 / 18000 Steps) (loss=0.39715): 100%|██████████| 7/7 [00:10<00:00,  1.44s/it]\n",
      "Training (12809 / 18000 Steps) (loss=0.54998): 100%|██████████| 7/7 [00:05<00:00,  1.20it/s]\n",
      "Training (12816 / 18000 Steps) (loss=0.30544): 100%|██████████| 7/7 [00:06<00:00,  1.10it/s]\n",
      "Training (12823 / 18000 Steps) (loss=0.53969): 100%|██████████| 7/7 [00:06<00:00,  1.07it/s]\n",
      "Training (12830 / 18000 Steps) (loss=0.38382): 100%|██████████| 7/7 [00:05<00:00,  1.27it/s]\n",
      "Training (12837 / 18000 Steps) (loss=0.54578): 100%|██████████| 7/7 [00:05<00:00,  1.21it/s]\n",
      "Training (12844 / 18000 Steps) (loss=0.45319): 100%|██████████| 7/7 [00:05<00:00,  1.21it/s]\n",
      "Training (12851 / 18000 Steps) (loss=0.34153): 100%|██████████| 7/7 [00:05<00:00,  1.28it/s]\n",
      "Training (12858 / 18000 Steps) (loss=0.52726): 100%|██████████| 7/7 [00:05<00:00,  1.26it/s]\n",
      "Training (12865 / 18000 Steps) (loss=0.55081): 100%|██████████| 7/7 [00:05<00:00,  1.19it/s]\n",
      "Training (12872 / 18000 Steps) (loss=0.37702): 100%|██████████| 7/7 [00:05<00:00,  1.20it/s]\n",
      "Training (12879 / 18000 Steps) (loss=0.55582): 100%|██████████| 7/7 [00:05<00:00,  1.28it/s]\n",
      "Training (12886 / 18000 Steps) (loss=0.23158): 100%|██████████| 7/7 [00:05<00:00,  1.22it/s]\n",
      "Training (12893 / 18000 Steps) (loss=0.48831): 100%|██████████| 7/7 [00:06<00:00,  1.15it/s]\n",
      "Validate (12894 / 10 Steps): 100%|██████████| 2/2 [00:04<00:00,  2.19s/it]<00:00,  1.70it/s]\n",
      "Training (12900 / 18000 Steps) (loss=0.34696): 100%|██████████| 7/7 [00:10<00:00,  1.46s/it]\n"
     ]
    },
    {
     "name": "stdout",
     "output_type": "stream",
     "text": [
      "Model Was Not Saved ! Current Best Avg. Dice: 0.3217344880104065 Current Avg. Dice: 0.2705850601196289 Current Avg. tumor Dice: 0.34104833006858826 Current Avg. lymph Dice: 0.2001217156648636\n"
     ]
    },
    {
     "name": "stderr",
     "output_type": "stream",
     "text": [
      "Training (12907 / 18000 Steps) (loss=0.47650): 100%|██████████| 7/7 [00:05<00:00,  1.21it/s]\n",
      "Training (12914 / 18000 Steps) (loss=0.55681): 100%|██████████| 7/7 [00:05<00:00,  1.26it/s]\n",
      "Training (12921 / 18000 Steps) (loss=0.42302): 100%|██████████| 7/7 [00:05<00:00,  1.26it/s]\n",
      "Training (12928 / 18000 Steps) (loss=0.43593): 100%|██████████| 7/7 [00:05<00:00,  1.17it/s]\n",
      "Training (12935 / 18000 Steps) (loss=0.45374): 100%|██████████| 7/7 [00:05<00:00,  1.22it/s]\n",
      "Training (12942 / 18000 Steps) (loss=0.56525): 100%|██████████| 7/7 [00:05<00:00,  1.21it/s]\n",
      "Training (12949 / 18000 Steps) (loss=0.40884): 100%|██████████| 7/7 [00:05<00:00,  1.24it/s]\n",
      "Training (12956 / 18000 Steps) (loss=0.54221): 100%|██████████| 7/7 [00:05<00:00,  1.17it/s]\n",
      "Training (12963 / 18000 Steps) (loss=0.56413): 100%|██████████| 7/7 [00:05<00:00,  1.24it/s]\n",
      "Training (12970 / 18000 Steps) (loss=0.24292): 100%|██████████| 7/7 [00:05<00:00,  1.21it/s]\n",
      "Training (12977 / 18000 Steps) (loss=0.41390): 100%|██████████| 7/7 [00:05<00:00,  1.24it/s]\n",
      "Training (12984 / 18000 Steps) (loss=0.28696): 100%|██████████| 7/7 [00:06<00:00,  1.12it/s]\n",
      "Training (12991 / 18000 Steps) (loss=0.44289): 100%|██████████| 7/7 [00:05<00:00,  1.23it/s]\n",
      "Training (12998 / 18000 Steps) (loss=0.66798): 100%|██████████| 7/7 [00:05<00:00,  1.26it/s]\n",
      "Validate (12999 / 10 Steps): 100%|██████████| 2/2 [00:04<00:00,  2.21s/it]<00:20,  3.40s/it]\n",
      "Training (13000 / 18000 Steps) (loss=0.36049):  29%|██▊       | 2/7 [00:08<00:21,  4.28s/it]"
     ]
    },
    {
     "name": "stdout",
     "output_type": "stream",
     "text": [
      "Model Was Not Saved ! Current Best Avg. Dice: 0.3217344880104065 Current Avg. Dice: 0.24114307761192322 Current Avg. tumor Dice: 0.3440559506416321 Current Avg. lymph Dice: 0.13823020458221436\n"
     ]
    },
    {
     "name": "stderr",
     "output_type": "stream",
     "text": [
      "Training (13005 / 18000 Steps) (loss=0.37092): 100%|██████████| 7/7 [00:10<00:00,  1.47s/it]\n",
      "Training (13012 / 18000 Steps) (loss=0.29933): 100%|██████████| 7/7 [00:05<00:00,  1.21it/s]\n",
      "Training (13019 / 18000 Steps) (loss=0.33617): 100%|██████████| 7/7 [00:05<00:00,  1.26it/s]\n",
      "Training (13026 / 18000 Steps) (loss=0.59493): 100%|██████████| 7/7 [00:05<00:00,  1.20it/s]\n",
      "Training (13033 / 18000 Steps) (loss=0.48120): 100%|██████████| 7/7 [00:05<00:00,  1.25it/s]\n",
      "Training (13040 / 18000 Steps) (loss=0.21017): 100%|██████████| 7/7 [00:05<00:00,  1.33it/s]\n",
      "Training (13047 / 18000 Steps) (loss=0.48055): 100%|██████████| 7/7 [00:05<00:00,  1.22it/s]\n",
      "Training (13054 / 18000 Steps) (loss=0.35550): 100%|██████████| 7/7 [00:05<00:00,  1.26it/s]\n",
      "Training (13061 / 18000 Steps) (loss=0.55327): 100%|██████████| 7/7 [00:05<00:00,  1.17it/s]\n",
      "Training (13068 / 18000 Steps) (loss=0.49771): 100%|██████████| 7/7 [00:05<00:00,  1.19it/s]\n",
      "Training (13075 / 18000 Steps) (loss=0.49274): 100%|██████████| 7/7 [00:05<00:00,  1.25it/s]\n",
      "Training (13082 / 18000 Steps) (loss=0.31333): 100%|██████████| 7/7 [00:05<00:00,  1.26it/s]\n",
      "Training (13089 / 18000 Steps) (loss=0.34030): 100%|██████████| 7/7 [00:05<00:00,  1.24it/s]\n",
      "Training (13096 / 18000 Steps) (loss=0.50169): 100%|██████████| 7/7 [00:05<00:00,  1.24it/s]\n",
      "Validate (13097 / 10 Steps): 100%|██████████| 2/2 [00:04<00:00,  2.14s/it]<00:04,  1.09s/it]\n",
      "Training (13100 / 18000 Steps) (loss=0.41213):  57%|█████▋    | 4/7 [00:09<00:07,  2.53s/it]"
     ]
    },
    {
     "name": "stdout",
     "output_type": "stream",
     "text": [
      "Model Was Not Saved ! Current Best Avg. Dice: 0.3217344880104065 Current Avg. Dice: 0.2772868275642395 Current Avg. tumor Dice: 0.3486817181110382 Current Avg. lymph Dice: 0.2058919072151184\n"
     ]
    },
    {
     "name": "stderr",
     "output_type": "stream",
     "text": [
      "Training (13103 / 18000 Steps) (loss=0.43510): 100%|██████████| 7/7 [00:10<00:00,  1.45s/it]\n",
      "Training (13110 / 18000 Steps) (loss=0.54721): 100%|██████████| 7/7 [00:05<00:00,  1.28it/s]\n",
      "Training (13117 / 18000 Steps) (loss=0.47217): 100%|██████████| 7/7 [00:05<00:00,  1.28it/s]\n",
      "Training (13124 / 18000 Steps) (loss=0.49800): 100%|██████████| 7/7 [00:05<00:00,  1.22it/s]\n",
      "Training (13131 / 18000 Steps) (loss=0.28903): 100%|██████████| 7/7 [00:05<00:00,  1.20it/s]\n",
      "Training (13138 / 18000 Steps) (loss=0.43961): 100%|██████████| 7/7 [00:05<00:00,  1.19it/s]\n",
      "Training (13145 / 18000 Steps) (loss=0.26671): 100%|██████████| 7/7 [00:05<00:00,  1.20it/s]\n",
      "Training (13152 / 18000 Steps) (loss=0.54120): 100%|██████████| 7/7 [00:05<00:00,  1.25it/s]\n",
      "Training (13159 / 18000 Steps) (loss=0.33681): 100%|██████████| 7/7 [00:05<00:00,  1.19it/s]\n",
      "Training (13166 / 18000 Steps) (loss=0.49092): 100%|██████████| 7/7 [00:05<00:00,  1.21it/s]\n",
      "Training (13173 / 18000 Steps) (loss=0.40935): 100%|██████████| 7/7 [00:05<00:00,  1.28it/s]\n",
      "Training (13180 / 18000 Steps) (loss=0.53071): 100%|██████████| 7/7 [00:06<00:00,  1.16it/s]\n",
      "Training (13187 / 18000 Steps) (loss=0.47225): 100%|██████████| 7/7 [00:05<00:00,  1.21it/s]\n",
      "Training (13194 / 18000 Steps) (loss=0.38518): 100%|██████████| 7/7 [00:05<00:00,  1.21it/s]\n",
      "Validate (13195 / 10 Steps): 100%|██████████| 2/2 [00:04<00:00,  2.29s/it]<00:01,  1.52it/s]\n",
      "Training (13200 / 18000 Steps) (loss=0.48096):  86%|████████▌ | 6/7 [00:09<00:02,  2.15s/it]"
     ]
    },
    {
     "name": "stdout",
     "output_type": "stream",
     "text": [
      "Model Was Not Saved ! Current Best Avg. Dice: 0.3217344880104065 Current Avg. Dice: 0.24700826406478882 Current Avg. tumor Dice: 0.29109811782836914 Current Avg. lymph Dice: 0.2029184103012085\n"
     ]
    },
    {
     "name": "stderr",
     "output_type": "stream",
     "text": [
      "Training (13201 / 18000 Steps) (loss=0.47343): 100%|██████████| 7/7 [00:10<00:00,  1.46s/it]\n",
      "Training (13208 / 18000 Steps) (loss=0.41369): 100%|██████████| 7/7 [00:05<00:00,  1.18it/s]\n",
      "Training (13215 / 18000 Steps) (loss=0.22731): 100%|██████████| 7/7 [00:05<00:00,  1.18it/s]\n",
      "Training (13222 / 18000 Steps) (loss=0.57883): 100%|██████████| 7/7 [00:05<00:00,  1.20it/s]\n",
      "Training (13229 / 18000 Steps) (loss=0.40321): 100%|██████████| 7/7 [00:05<00:00,  1.22it/s]\n",
      "Training (13236 / 18000 Steps) (loss=0.36163): 100%|██████████| 7/7 [00:05<00:00,  1.23it/s]\n",
      "Training (13243 / 18000 Steps) (loss=0.54387): 100%|██████████| 7/7 [00:05<00:00,  1.26it/s]\n",
      "Training (13250 / 18000 Steps) (loss=0.43392): 100%|██████████| 7/7 [00:05<00:00,  1.18it/s]\n",
      "Training (13257 / 18000 Steps) (loss=0.46756): 100%|██████████| 7/7 [00:05<00:00,  1.18it/s]\n",
      "Training (13264 / 18000 Steps) (loss=0.28693): 100%|██████████| 7/7 [00:05<00:00,  1.23it/s]\n",
      "Training (13271 / 18000 Steps) (loss=0.39814): 100%|██████████| 7/7 [00:05<00:00,  1.20it/s]\n",
      "Training (13278 / 18000 Steps) (loss=0.46043): 100%|██████████| 7/7 [00:05<00:00,  1.18it/s]\n",
      "Training (13285 / 18000 Steps) (loss=0.54473): 100%|██████████| 7/7 [00:05<00:00,  1.22it/s]\n",
      "Training (13292 / 18000 Steps) (loss=0.58303): 100%|██████████| 7/7 [00:05<00:00,  1.20it/s]\n",
      "Training (13299 / 18000 Steps) (loss=0.47999): 100%|██████████| 7/7 [00:05<00:00,  1.24it/s]\n",
      "Validate (13300 / 10 Steps): 100%|██████████| 2/2 [00:04<00:00,  2.23s/it]<?, ?it/s]\n",
      "Training (13300 / 18000 Steps) (loss=0.42335):  14%|█▍        | 1/7 [00:07<00:45,  7.65s/it]"
     ]
    },
    {
     "name": "stdout",
     "output_type": "stream",
     "text": [
      "Model Was Not Saved ! Current Best Avg. Dice: 0.3217344880104065 Current Avg. Dice: 0.29557275772094727 Current Avg. tumor Dice: 0.3593958914279938 Current Avg. lymph Dice: 0.23174959421157837\n"
     ]
    },
    {
     "name": "stderr",
     "output_type": "stream",
     "text": [
      "Training (13306 / 18000 Steps) (loss=0.43864): 100%|██████████| 7/7 [00:10<00:00,  1.44s/it]\n",
      "Training (13313 / 18000 Steps) (loss=0.48814): 100%|██████████| 7/7 [00:05<00:00,  1.23it/s]\n",
      "Training (13320 / 18000 Steps) (loss=0.55253): 100%|██████████| 7/7 [00:05<00:00,  1.27it/s]\n",
      "Training (13327 / 18000 Steps) (loss=0.34657): 100%|██████████| 7/7 [00:06<00:00,  1.16it/s]\n",
      "Training (13334 / 18000 Steps) (loss=0.49473): 100%|██████████| 7/7 [00:05<00:00,  1.21it/s]\n",
      "Training (13341 / 18000 Steps) (loss=0.36858): 100%|██████████| 7/7 [00:05<00:00,  1.27it/s]\n",
      "Training (13348 / 18000 Steps) (loss=0.39179): 100%|██████████| 7/7 [00:05<00:00,  1.30it/s]\n",
      "Training (13355 / 18000 Steps) (loss=0.39026): 100%|██████████| 7/7 [00:05<00:00,  1.26it/s]\n",
      "Training (13362 / 18000 Steps) (loss=0.29038): 100%|██████████| 7/7 [00:05<00:00,  1.29it/s]\n",
      "Training (13369 / 18000 Steps) (loss=0.47237): 100%|██████████| 7/7 [00:05<00:00,  1.27it/s]\n",
      "Training (13376 / 18000 Steps) (loss=0.29864): 100%|██████████| 7/7 [00:05<00:00,  1.27it/s]\n",
      "Training (13383 / 18000 Steps) (loss=0.34780): 100%|██████████| 7/7 [00:05<00:00,  1.22it/s]\n",
      "Training (13390 / 18000 Steps) (loss=0.53619): 100%|██████████| 7/7 [00:05<00:00,  1.18it/s]\n",
      "Training (13397 / 18000 Steps) (loss=0.44245): 100%|██████████| 7/7 [00:05<00:00,  1.29it/s]\n",
      "Validate (13398 / 10 Steps): 100%|██████████| 2/2 [00:04<00:00,  2.10s/it]<00:07,  1.47s/it]\n",
      "Training (13400 / 18000 Steps) (loss=0.40681):  43%|████▎     | 3/7 [00:08<00:11,  2.93s/it]"
     ]
    },
    {
     "name": "stdout",
     "output_type": "stream",
     "text": [
      "Model Was Not Saved ! Current Best Avg. Dice: 0.3217344880104065 Current Avg. Dice: 0.27344995737075806 Current Avg. tumor Dice: 0.387108713388443 Current Avg. lymph Dice: 0.1597912311553955\n"
     ]
    },
    {
     "name": "stderr",
     "output_type": "stream",
     "text": [
      "Training (13404 / 18000 Steps) (loss=0.44935): 100%|██████████| 7/7 [00:09<00:00,  1.38s/it]\n",
      "Training (13411 / 18000 Steps) (loss=0.64975): 100%|██████████| 7/7 [00:05<00:00,  1.31it/s]\n",
      "Training (13418 / 18000 Steps) (loss=0.45527): 100%|██████████| 7/7 [00:05<00:00,  1.21it/s]\n",
      "Training (13425 / 18000 Steps) (loss=0.41247): 100%|██████████| 7/7 [00:05<00:00,  1.24it/s]\n",
      "Training (13432 / 18000 Steps) (loss=0.31930): 100%|██████████| 7/7 [00:05<00:00,  1.22it/s]\n",
      "Training (13439 / 18000 Steps) (loss=0.54379): 100%|██████████| 7/7 [00:05<00:00,  1.22it/s]\n",
      "Training (13446 / 18000 Steps) (loss=0.53100): 100%|██████████| 7/7 [00:05<00:00,  1.25it/s]\n",
      "Training (13453 / 18000 Steps) (loss=0.44288): 100%|██████████| 7/7 [00:05<00:00,  1.23it/s]\n",
      "Training (13460 / 18000 Steps) (loss=0.53962): 100%|██████████| 7/7 [00:05<00:00,  1.24it/s]\n",
      "Training (13467 / 18000 Steps) (loss=0.42484): 100%|██████████| 7/7 [00:05<00:00,  1.18it/s]\n",
      "Training (13474 / 18000 Steps) (loss=0.55570): 100%|██████████| 7/7 [00:05<00:00,  1.24it/s]\n",
      "Training (13481 / 18000 Steps) (loss=0.45076): 100%|██████████| 7/7 [00:05<00:00,  1.29it/s]\n",
      "Training (13488 / 18000 Steps) (loss=0.44564): 100%|██████████| 7/7 [00:05<00:00,  1.27it/s]\n",
      "Training (13495 / 18000 Steps) (loss=0.41016): 100%|██████████| 7/7 [00:05<00:00,  1.30it/s]\n",
      "Validate (13496 / 10 Steps): 100%|██████████| 2/2 [00:04<00:00,  2.20s/it]<00:02,  1.26it/s]\n",
      "Training (13500 / 18000 Steps) (loss=0.26371):  71%|███████▏  | 5/7 [00:09<00:04,  2.26s/it]"
     ]
    },
    {
     "name": "stdout",
     "output_type": "stream",
     "text": [
      "Model Was Not Saved ! Current Best Avg. Dice: 0.3217344880104065 Current Avg. Dice: 0.30735349655151367 Current Avg. tumor Dice: 0.3881314992904663 Current Avg. lymph Dice: 0.22657546401023865\n"
     ]
    },
    {
     "name": "stderr",
     "output_type": "stream",
     "text": [
      "Training (13502 / 18000 Steps) (loss=0.50200): 100%|██████████| 7/7 [00:10<00:00,  1.44s/it]\n",
      "Training (13509 / 18000 Steps) (loss=0.55169): 100%|██████████| 7/7 [00:05<00:00,  1.17it/s]\n",
      "Training (13516 / 18000 Steps) (loss=0.37854): 100%|██████████| 7/7 [00:05<00:00,  1.18it/s]\n",
      "Training (13523 / 18000 Steps) (loss=0.22932): 100%|██████████| 7/7 [00:05<00:00,  1.28it/s]\n",
      "Training (13530 / 18000 Steps) (loss=0.38096): 100%|██████████| 7/7 [00:05<00:00,  1.28it/s]\n",
      "Training (13537 / 18000 Steps) (loss=0.40546): 100%|██████████| 7/7 [00:05<00:00,  1.26it/s]\n",
      "Training (13544 / 18000 Steps) (loss=0.40473): 100%|██████████| 7/7 [00:05<00:00,  1.29it/s]\n",
      "Training (13551 / 18000 Steps) (loss=0.32537): 100%|██████████| 7/7 [00:05<00:00,  1.27it/s]\n",
      "Training (13558 / 18000 Steps) (loss=0.49896): 100%|██████████| 7/7 [00:05<00:00,  1.20it/s]\n",
      "Training (13565 / 18000 Steps) (loss=0.53449): 100%|██████████| 7/7 [00:05<00:00,  1.27it/s]\n",
      "Training (13572 / 18000 Steps) (loss=0.55191): 100%|██████████| 7/7 [00:05<00:00,  1.28it/s]\n",
      "Training (13579 / 18000 Steps) (loss=0.38181): 100%|██████████| 7/7 [00:05<00:00,  1.22it/s]\n",
      "Training (13586 / 18000 Steps) (loss=0.59998): 100%|██████████| 7/7 [00:05<00:00,  1.21it/s]\n",
      "Training (13593 / 18000 Steps) (loss=0.43678): 100%|██████████| 7/7 [00:05<00:00,  1.23it/s]\n",
      "Validate (13594 / 10 Steps): 100%|██████████| 2/2 [00:04<00:00,  2.15s/it]<00:00,  1.72it/s]\n",
      "Training (13600 / 18000 Steps) (loss=0.43085): 100%|██████████| 7/7 [00:10<00:00,  1.44s/it]\n"
     ]
    },
    {
     "name": "stdout",
     "output_type": "stream",
     "text": [
      "Model Was Not Saved ! Current Best Avg. Dice: 0.3217344880104065 Current Avg. Dice: 0.2715352773666382 Current Avg. tumor Dice: 0.3561781942844391 Current Avg. lymph Dice: 0.18689242005348206\n"
     ]
    },
    {
     "name": "stderr",
     "output_type": "stream",
     "text": [
      "Training (13607 / 18000 Steps) (loss=0.43178): 100%|██████████| 7/7 [00:05<00:00,  1.25it/s]\n",
      "Training (13614 / 18000 Steps) (loss=0.28007): 100%|██████████| 7/7 [00:05<00:00,  1.31it/s]\n",
      "Training (13621 / 18000 Steps) (loss=0.43288): 100%|██████████| 7/7 [00:05<00:00,  1.24it/s]\n",
      "Training (13628 / 18000 Steps) (loss=0.30823): 100%|██████████| 7/7 [00:05<00:00,  1.22it/s]\n",
      "Training (13635 / 18000 Steps) (loss=0.51830): 100%|██████████| 7/7 [00:05<00:00,  1.24it/s]\n",
      "Training (13642 / 18000 Steps) (loss=0.41828): 100%|██████████| 7/7 [00:05<00:00,  1.28it/s]\n",
      "Training (13649 / 18000 Steps) (loss=0.39807): 100%|██████████| 7/7 [00:05<00:00,  1.29it/s]\n",
      "Training (13656 / 18000 Steps) (loss=0.40420): 100%|██████████| 7/7 [00:05<00:00,  1.30it/s]\n",
      "Training (13663 / 18000 Steps) (loss=0.14815): 100%|██████████| 7/7 [00:05<00:00,  1.24it/s]\n",
      "Training (13670 / 18000 Steps) (loss=0.35984): 100%|██████████| 7/7 [00:06<00:00,  1.15it/s]\n",
      "Training (13677 / 18000 Steps) (loss=0.53964): 100%|██████████| 7/7 [00:05<00:00,  1.21it/s]\n",
      "Training (13684 / 18000 Steps) (loss=0.46642): 100%|██████████| 7/7 [00:05<00:00,  1.28it/s]\n",
      "Training (13691 / 18000 Steps) (loss=0.28120): 100%|██████████| 7/7 [00:05<00:00,  1.28it/s]\n",
      "Training (13698 / 18000 Steps) (loss=0.42998): 100%|██████████| 7/7 [00:05<00:00,  1.28it/s]\n",
      "Validate (13699 / 10 Steps): 100%|██████████| 2/2 [00:04<00:00,  2.25s/it]<00:18,  3.15s/it]\n",
      "Training (13700 / 18000 Steps) (loss=0.41896):  29%|██▊       | 2/7 [00:08<00:21,  4.21s/it]"
     ]
    },
    {
     "name": "stdout",
     "output_type": "stream",
     "text": [
      "Model Was Not Saved ! Current Best Avg. Dice: 0.3217344880104065 Current Avg. Dice: 0.2894459366798401 Current Avg. tumor Dice: 0.37764889001846313 Current Avg. lymph Dice: 0.20124296844005585\n"
     ]
    },
    {
     "name": "stderr",
     "output_type": "stream",
     "text": [
      "Training (13705 / 18000 Steps) (loss=0.58468): 100%|██████████| 7/7 [00:10<00:00,  1.45s/it]\n",
      "Training (13712 / 18000 Steps) (loss=0.60840): 100%|██████████| 7/7 [00:06<00:00,  1.14it/s]\n",
      "Training (13719 / 18000 Steps) (loss=0.56069): 100%|██████████| 7/7 [00:05<00:00,  1.22it/s]\n",
      "Training (13726 / 18000 Steps) (loss=0.57887): 100%|██████████| 7/7 [00:05<00:00,  1.20it/s]\n",
      "Training (13733 / 18000 Steps) (loss=0.23413): 100%|██████████| 7/7 [00:05<00:00,  1.27it/s]\n",
      "Training (13740 / 18000 Steps) (loss=0.34390): 100%|██████████| 7/7 [00:05<00:00,  1.24it/s]\n",
      "Training (13747 / 18000 Steps) (loss=0.40514): 100%|██████████| 7/7 [00:05<00:00,  1.30it/s]\n",
      "Training (13754 / 18000 Steps) (loss=0.43766): 100%|██████████| 7/7 [00:05<00:00,  1.30it/s]\n",
      "Training (13761 / 18000 Steps) (loss=0.44708): 100%|██████████| 7/7 [00:05<00:00,  1.33it/s]\n",
      "Training (13768 / 18000 Steps) (loss=0.55196): 100%|██████████| 7/7 [00:05<00:00,  1.29it/s]\n",
      "Training (13775 / 18000 Steps) (loss=0.39256): 100%|██████████| 7/7 [00:06<00:00,  1.14it/s]\n",
      "Training (13782 / 18000 Steps) (loss=0.37927): 100%|██████████| 7/7 [00:05<00:00,  1.23it/s]\n",
      "Training (13789 / 18000 Steps) (loss=0.49797): 100%|██████████| 7/7 [00:05<00:00,  1.18it/s]\n",
      "Training (13796 / 18000 Steps) (loss=0.55482): 100%|██████████| 7/7 [00:05<00:00,  1.22it/s]\n",
      "Validate (13797 / 10 Steps): 100%|██████████| 2/2 [00:04<00:00,  2.22s/it]<00:04,  1.06s/it]\n",
      "Training (13800 / 18000 Steps) (loss=0.40856):  57%|█████▋    | 4/7 [00:09<00:07,  2.58s/it]"
     ]
    },
    {
     "name": "stdout",
     "output_type": "stream",
     "text": [
      "Model Was Not Saved ! Current Best Avg. Dice: 0.3217344880104065 Current Avg. Dice: 0.2867524027824402 Current Avg. tumor Dice: 0.3364011347293854 Current Avg. lymph Dice: 0.2371036857366562\n"
     ]
    },
    {
     "name": "stderr",
     "output_type": "stream",
     "text": [
      "Training (13803 / 18000 Steps) (loss=0.35724): 100%|██████████| 7/7 [00:10<00:00,  1.45s/it]\n",
      "Training (13810 / 18000 Steps) (loss=0.44214): 100%|██████████| 7/7 [00:05<00:00,  1.26it/s]\n",
      "Training (13817 / 18000 Steps) (loss=0.32843): 100%|██████████| 7/7 [00:05<00:00,  1.22it/s]\n",
      "Training (13824 / 18000 Steps) (loss=0.36701): 100%|██████████| 7/7 [00:05<00:00,  1.27it/s]\n",
      "Training (13831 / 18000 Steps) (loss=0.44628): 100%|██████████| 7/7 [00:05<00:00,  1.28it/s]\n",
      "Training (13838 / 18000 Steps) (loss=0.29671): 100%|██████████| 7/7 [00:05<00:00,  1.23it/s]\n",
      "Training (13845 / 18000 Steps) (loss=0.53975): 100%|██████████| 7/7 [00:05<00:00,  1.29it/s]\n",
      "Training (13852 / 18000 Steps) (loss=0.22242): 100%|██████████| 7/7 [00:05<00:00,  1.28it/s]\n",
      "Training (13859 / 18000 Steps) (loss=0.43898): 100%|██████████| 7/7 [00:05<00:00,  1.25it/s]\n",
      "Training (13866 / 18000 Steps) (loss=0.44516): 100%|██████████| 7/7 [00:05<00:00,  1.31it/s]\n",
      "Training (13873 / 18000 Steps) (loss=0.68424): 100%|██████████| 7/7 [00:05<00:00,  1.17it/s]\n",
      "Training (13880 / 18000 Steps) (loss=0.41757): 100%|██████████| 7/7 [00:05<00:00,  1.26it/s]\n",
      "Training (13887 / 18000 Steps) (loss=0.53138): 100%|██████████| 7/7 [00:05<00:00,  1.25it/s]\n",
      "Training (13894 / 18000 Steps) (loss=0.39062): 100%|██████████| 7/7 [00:05<00:00,  1.29it/s]\n",
      "Validate (13895 / 10 Steps): 100%|██████████| 2/2 [00:04<00:00,  2.20s/it]<00:01,  1.52it/s]\n",
      "Training (13900 / 18000 Steps) (loss=0.52642):  86%|████████▌ | 6/7 [00:09<00:02,  2.10s/it]"
     ]
    },
    {
     "name": "stdout",
     "output_type": "stream",
     "text": [
      "Model Was Not Saved ! Current Best Avg. Dice: 0.3217344880104065 Current Avg. Dice: 0.2857731878757477 Current Avg. tumor Dice: 0.3856371343135834 Current Avg. lymph Dice: 0.1859091967344284\n"
     ]
    },
    {
     "name": "stderr",
     "output_type": "stream",
     "text": [
      "Training (13901 / 18000 Steps) (loss=0.29261): 100%|██████████| 7/7 [00:10<00:00,  1.44s/it]\n",
      "Training (13908 / 18000 Steps) (loss=0.43122): 100%|██████████| 7/7 [00:05<00:00,  1.27it/s]\n",
      "Training (13915 / 18000 Steps) (loss=0.45633): 100%|██████████| 7/7 [00:06<00:00,  1.11it/s]\n",
      "Training (13922 / 18000 Steps) (loss=0.41814): 100%|██████████| 7/7 [00:05<00:00,  1.19it/s]\n",
      "Training (13929 / 18000 Steps) (loss=0.54729): 100%|██████████| 7/7 [00:05<00:00,  1.26it/s]\n",
      "Training (13936 / 18000 Steps) (loss=0.37264): 100%|██████████| 7/7 [00:05<00:00,  1.26it/s]\n",
      "Training (13943 / 18000 Steps) (loss=0.48969): 100%|██████████| 7/7 [00:05<00:00,  1.29it/s]\n",
      "Training (13950 / 18000 Steps) (loss=0.16661): 100%|██████████| 7/7 [00:05<00:00,  1.27it/s]\n",
      "Training (13957 / 18000 Steps) (loss=0.46508): 100%|██████████| 7/7 [00:05<00:00,  1.25it/s]\n",
      "Training (13964 / 18000 Steps) (loss=0.63802): 100%|██████████| 7/7 [00:05<00:00,  1.23it/s]\n",
      "Training (13971 / 18000 Steps) (loss=0.54524): 100%|██████████| 7/7 [00:05<00:00,  1.30it/s]\n",
      "Training (13978 / 18000 Steps) (loss=0.53975): 100%|██████████| 7/7 [00:05<00:00,  1.25it/s]\n",
      "Training (13985 / 18000 Steps) (loss=0.30866): 100%|██████████| 7/7 [00:05<00:00,  1.26it/s]\n",
      "Training (13992 / 18000 Steps) (loss=0.29737): 100%|██████████| 7/7 [00:05<00:00,  1.29it/s]\n",
      "Training (13999 / 18000 Steps) (loss=0.56320): 100%|██████████| 7/7 [00:05<00:00,  1.23it/s]\n",
      "Validate (14000 / 10 Steps): 100%|██████████| 2/2 [00:04<00:00,  2.10s/it]<?, ?it/s]\n",
      "Training (14000 / 18000 Steps) (loss=0.28551):  14%|█▍        | 1/7 [00:07<00:43,  7.29s/it]"
     ]
    },
    {
     "name": "stdout",
     "output_type": "stream",
     "text": [
      "Model Was Not Saved ! Current Best Avg. Dice: 0.3217344880104065 Current Avg. Dice: 0.27560991048812866 Current Avg. tumor Dice: 0.3908509314060211 Current Avg. lymph Dice: 0.1603689044713974\n"
     ]
    },
    {
     "name": "stderr",
     "output_type": "stream",
     "text": [
      "Training (14006 / 18000 Steps) (loss=0.36809): 100%|██████████| 7/7 [00:09<00:00,  1.39s/it]\n",
      "Training (14013 / 18000 Steps) (loss=0.56867): 100%|██████████| 7/7 [00:05<00:00,  1.28it/s]\n",
      "Training (14020 / 18000 Steps) (loss=0.28589): 100%|██████████| 7/7 [00:05<00:00,  1.31it/s]\n",
      "Training (14027 / 18000 Steps) (loss=0.33229): 100%|██████████| 7/7 [00:05<00:00,  1.31it/s]\n",
      "Training (14034 / 18000 Steps) (loss=0.34183): 100%|██████████| 7/7 [00:05<00:00,  1.22it/s]\n",
      "Training (14041 / 18000 Steps) (loss=0.37375): 100%|██████████| 7/7 [00:05<00:00,  1.21it/s]\n",
      "Training (14048 / 18000 Steps) (loss=0.36226): 100%|██████████| 7/7 [00:05<00:00,  1.21it/s]\n",
      "Training (14055 / 18000 Steps) (loss=0.40906): 100%|██████████| 7/7 [00:05<00:00,  1.26it/s]\n",
      "Training (14062 / 18000 Steps) (loss=0.49984): 100%|██████████| 7/7 [00:05<00:00,  1.29it/s]\n",
      "Training (14069 / 18000 Steps) (loss=0.33685): 100%|██████████| 7/7 [00:05<00:00,  1.31it/s]\n",
      "Training (14076 / 18000 Steps) (loss=0.53315): 100%|██████████| 7/7 [00:05<00:00,  1.21it/s]\n",
      "Training (14083 / 18000 Steps) (loss=0.25667): 100%|██████████| 7/7 [00:05<00:00,  1.17it/s]\n",
      "Training (14090 / 18000 Steps) (loss=0.50133): 100%|██████████| 7/7 [00:05<00:00,  1.25it/s]\n",
      "Training (14097 / 18000 Steps) (loss=0.45355): 100%|██████████| 7/7 [00:05<00:00,  1.19it/s]\n",
      "Validate (14098 / 10 Steps): 100%|██████████| 2/2 [00:04<00:00,  2.11s/it]<00:07,  1.55s/it]\n",
      "Training (14100 / 18000 Steps) (loss=0.41927):  43%|████▎     | 3/7 [00:08<00:11,  2.98s/it]"
     ]
    },
    {
     "name": "stdout",
     "output_type": "stream",
     "text": [
      "Model Was Not Saved ! Current Best Avg. Dice: 0.3217344880104065 Current Avg. Dice: 0.2580987811088562 Current Avg. tumor Dice: 0.3655626177787781 Current Avg. lymph Dice: 0.15063492953777313\n"
     ]
    },
    {
     "name": "stderr",
     "output_type": "stream",
     "text": [
      "Training (14104 / 18000 Steps) (loss=0.55192): 100%|██████████| 7/7 [00:09<00:00,  1.40s/it]\n",
      "Training (14111 / 18000 Steps) (loss=0.27543): 100%|██████████| 7/7 [00:05<00:00,  1.32it/s]\n",
      "Training (14118 / 18000 Steps) (loss=0.62108): 100%|██████████| 7/7 [00:05<00:00,  1.26it/s]\n",
      "Training (14125 / 18000 Steps) (loss=0.44480): 100%|██████████| 7/7 [00:05<00:00,  1.25it/s]\n",
      "Training (14132 / 18000 Steps) (loss=0.29220): 100%|██████████| 7/7 [00:05<00:00,  1.22it/s]\n",
      "Training (14139 / 18000 Steps) (loss=0.54197): 100%|██████████| 7/7 [00:05<00:00,  1.28it/s]\n",
      "Training (14146 / 18000 Steps) (loss=0.32308): 100%|██████████| 7/7 [00:05<00:00,  1.23it/s]\n",
      "Training (14153 / 18000 Steps) (loss=0.34715): 100%|██████████| 7/7 [00:05<00:00,  1.26it/s]\n",
      "Training (14160 / 18000 Steps) (loss=0.53497): 100%|██████████| 7/7 [00:05<00:00,  1.24it/s]\n",
      "Training (14167 / 18000 Steps) (loss=0.44291): 100%|██████████| 7/7 [00:05<00:00,  1.28it/s]\n",
      "Training (14174 / 18000 Steps) (loss=0.16481): 100%|██████████| 7/7 [00:05<00:00,  1.23it/s]\n",
      "Training (14181 / 18000 Steps) (loss=0.53900): 100%|██████████| 7/7 [00:05<00:00,  1.22it/s]\n",
      "Training (14188 / 18000 Steps) (loss=0.43373): 100%|██████████| 7/7 [00:05<00:00,  1.29it/s]\n",
      "Training (14195 / 18000 Steps) (loss=0.41457): 100%|██████████| 7/7 [00:05<00:00,  1.27it/s]\n",
      "Validate (14196 / 10 Steps): 100%|██████████| 2/2 [00:04<00:00,  2.11s/it]<00:02,  1.25it/s]\n",
      "Training (14200 / 18000 Steps) (loss=0.48166):  71%|███████▏  | 5/7 [00:09<00:04,  2.20s/it]"
     ]
    },
    {
     "name": "stdout",
     "output_type": "stream",
     "text": [
      "Model Was Not Saved ! Current Best Avg. Dice: 0.3217344880104065 Current Avg. Dice: 0.28743016719818115 Current Avg. tumor Dice: 0.37296921014785767 Current Avg. lymph Dice: 0.20189112424850464\n"
     ]
    },
    {
     "name": "stderr",
     "output_type": "stream",
     "text": [
      "Training (14202 / 18000 Steps) (loss=0.57014): 100%|██████████| 7/7 [00:09<00:00,  1.42s/it]\n",
      "Training (14209 / 18000 Steps) (loss=0.42213): 100%|██████████| 7/7 [00:05<00:00,  1.26it/s]\n",
      "Training (14216 / 18000 Steps) (loss=0.55331): 100%|██████████| 7/7 [00:05<00:00,  1.24it/s]\n",
      "Training (14223 / 18000 Steps) (loss=0.28422): 100%|██████████| 7/7 [00:05<00:00,  1.23it/s]\n",
      "Training (14230 / 18000 Steps) (loss=0.54284): 100%|██████████| 7/7 [00:05<00:00,  1.25it/s]\n",
      "Training (14237 / 18000 Steps) (loss=0.48730): 100%|██████████| 7/7 [00:05<00:00,  1.19it/s]\n",
      "Training (14244 / 18000 Steps) (loss=0.31949): 100%|██████████| 7/7 [00:05<00:00,  1.26it/s]\n",
      "Training (14251 / 18000 Steps) (loss=0.30049): 100%|██████████| 7/7 [00:05<00:00,  1.25it/s]\n",
      "Training (14258 / 18000 Steps) (loss=0.43547): 100%|██████████| 7/7 [00:06<00:00,  1.16it/s]\n",
      "Training (14265 / 18000 Steps) (loss=0.39519): 100%|██████████| 7/7 [00:05<00:00,  1.27it/s]\n",
      "Training (14272 / 18000 Steps) (loss=0.42326): 100%|██████████| 7/7 [00:05<00:00,  1.30it/s]\n",
      "Training (14279 / 18000 Steps) (loss=0.49299): 100%|██████████| 7/7 [00:05<00:00,  1.25it/s]\n",
      "Training (14286 / 18000 Steps) (loss=0.43970): 100%|██████████| 7/7 [00:05<00:00,  1.24it/s]\n",
      "Training (14293 / 18000 Steps) (loss=0.34457): 100%|██████████| 7/7 [00:05<00:00,  1.28it/s]\n",
      "Validate (14294 / 10 Steps): 100%|██████████| 2/2 [00:04<00:00,  2.10s/it]<00:00,  1.76it/s]\n",
      "Training (14300 / 18000 Steps) (loss=0.49566): 100%|██████████| 7/7 [00:09<00:00,  1.39s/it]\n"
     ]
    },
    {
     "name": "stdout",
     "output_type": "stream",
     "text": [
      "Model Was Not Saved ! Current Best Avg. Dice: 0.3217344880104065 Current Avg. Dice: 0.3000044822692871 Current Avg. tumor Dice: 0.384392648935318 Current Avg. lymph Dice: 0.21561630070209503\n"
     ]
    },
    {
     "name": "stderr",
     "output_type": "stream",
     "text": [
      "Training (14307 / 18000 Steps) (loss=0.38097): 100%|██████████| 7/7 [00:05<00:00,  1.25it/s]\n",
      "Training (14314 / 18000 Steps) (loss=0.46663): 100%|██████████| 7/7 [00:05<00:00,  1.28it/s]\n",
      "Training (14321 / 18000 Steps) (loss=0.46675): 100%|██████████| 7/7 [00:05<00:00,  1.22it/s]\n",
      "Training (14328 / 18000 Steps) (loss=0.53692): 100%|██████████| 7/7 [00:05<00:00,  1.23it/s]\n",
      "Training (14335 / 18000 Steps) (loss=0.35116): 100%|██████████| 7/7 [00:05<00:00,  1.25it/s]\n",
      "Training (14342 / 18000 Steps) (loss=0.43295): 100%|██████████| 7/7 [00:05<00:00,  1.30it/s]\n",
      "Training (14349 / 18000 Steps) (loss=0.32862): 100%|██████████| 7/7 [00:05<00:00,  1.25it/s]\n",
      "Training (14356 / 18000 Steps) (loss=0.46767): 100%|██████████| 7/7 [00:05<00:00,  1.27it/s]\n",
      "Training (14363 / 18000 Steps) (loss=0.34049): 100%|██████████| 7/7 [00:05<00:00,  1.29it/s]\n",
      "Training (14370 / 18000 Steps) (loss=0.36467): 100%|██████████| 7/7 [00:05<00:00,  1.30it/s]\n",
      "Training (14377 / 18000 Steps) (loss=0.34702): 100%|██████████| 7/7 [00:05<00:00,  1.19it/s]\n",
      "Training (14384 / 18000 Steps) (loss=0.37177): 100%|██████████| 7/7 [00:05<00:00,  1.23it/s]\n",
      "Training (14391 / 18000 Steps) (loss=0.30766): 100%|██████████| 7/7 [00:05<00:00,  1.20it/s]\n",
      "Training (14398 / 18000 Steps) (loss=0.43413): 100%|██████████| 7/7 [00:05<00:00,  1.21it/s]\n",
      "Validate (14399 / 10 Steps): 100%|██████████| 2/2 [00:04<00:00,  2.20s/it]<00:18,  3.15s/it]\n",
      "Training (14400 / 18000 Steps) (loss=0.34714):  29%|██▊       | 2/7 [00:08<00:20,  4.16s/it]"
     ]
    },
    {
     "name": "stdout",
     "output_type": "stream",
     "text": [
      "Model Was Not Saved ! Current Best Avg. Dice: 0.3217344880104065 Current Avg. Dice: 0.27239587903022766 Current Avg. tumor Dice: 0.3421928286552429 Current Avg. lymph Dice: 0.20259889960289001\n"
     ]
    },
    {
     "name": "stderr",
     "output_type": "stream",
     "text": [
      "Training (14405 / 18000 Steps) (loss=0.34187): 100%|██████████| 7/7 [00:10<00:00,  1.43s/it]\n",
      "Training (14412 / 18000 Steps) (loss=0.38072): 100%|██████████| 7/7 [00:05<00:00,  1.28it/s]\n",
      "Training (14419 / 18000 Steps) (loss=0.23783): 100%|██████████| 7/7 [00:05<00:00,  1.29it/s]\n",
      "Training (14426 / 18000 Steps) (loss=0.63388): 100%|██████████| 7/7 [00:05<00:00,  1.23it/s]\n",
      "Training (14433 / 18000 Steps) (loss=0.42694): 100%|██████████| 7/7 [00:05<00:00,  1.27it/s]\n",
      "Training (14440 / 18000 Steps) (loss=0.51403): 100%|██████████| 7/7 [00:05<00:00,  1.26it/s]\n",
      "Training (14447 / 18000 Steps) (loss=0.34062): 100%|██████████| 7/7 [00:05<00:00,  1.22it/s]\n",
      "Training (14454 / 18000 Steps) (loss=0.52065): 100%|██████████| 7/7 [00:05<00:00,  1.27it/s]\n",
      "Training (14461 / 18000 Steps) (loss=0.36582): 100%|██████████| 7/7 [00:05<00:00,  1.33it/s]\n",
      "Training (14468 / 18000 Steps) (loss=0.50623): 100%|██████████| 7/7 [00:05<00:00,  1.27it/s]\n",
      "Training (14475 / 18000 Steps) (loss=0.23621): 100%|██████████| 7/7 [00:05<00:00,  1.30it/s]\n",
      "Training (14482 / 18000 Steps) (loss=0.61448): 100%|██████████| 7/7 [00:05<00:00,  1.26it/s]\n",
      "Training (14489 / 18000 Steps) (loss=0.66767): 100%|██████████| 7/7 [00:05<00:00,  1.27it/s]\n",
      "Training (14496 / 18000 Steps) (loss=0.46612): 100%|██████████| 7/7 [00:05<00:00,  1.22it/s]\n",
      "Validate (14497 / 10 Steps): 100%|██████████| 2/2 [00:04<00:00,  2.29s/it]<00:04,  1.07s/it]\n",
      "Training (14500 / 18000 Steps) (loss=0.55090):  57%|█████▋    | 4/7 [00:09<00:07,  2.64s/it]"
     ]
    },
    {
     "name": "stdout",
     "output_type": "stream",
     "text": [
      "Model Was Not Saved ! Current Best Avg. Dice: 0.3217344880104065 Current Avg. Dice: 0.2945391535758972 Current Avg. tumor Dice: 0.35334375500679016 Current Avg. lymph Dice: 0.2357344925403595\n"
     ]
    },
    {
     "name": "stderr",
     "output_type": "stream",
     "text": [
      "Training (14503 / 18000 Steps) (loss=0.37448): 100%|██████████| 7/7 [00:10<00:00,  1.48s/it]\n",
      "Training (14510 / 18000 Steps) (loss=0.24232): 100%|██████████| 7/7 [00:05<00:00,  1.24it/s]\n",
      "Training (14517 / 18000 Steps) (loss=0.54371): 100%|██████████| 7/7 [00:05<00:00,  1.20it/s]\n",
      "Training (14524 / 18000 Steps) (loss=0.39946): 100%|██████████| 7/7 [00:05<00:00,  1.22it/s]\n",
      "Training (14531 / 18000 Steps) (loss=0.42262): 100%|██████████| 7/7 [00:05<00:00,  1.29it/s]\n",
      "Training (14538 / 18000 Steps) (loss=0.24938): 100%|██████████| 7/7 [00:05<00:00,  1.25it/s]\n",
      "Training (14545 / 18000 Steps) (loss=0.42072): 100%|██████████| 7/7 [00:05<00:00,  1.23it/s]\n",
      "Training (14552 / 18000 Steps) (loss=0.28497): 100%|██████████| 7/7 [00:05<00:00,  1.25it/s]\n",
      "Training (14559 / 18000 Steps) (loss=0.42046): 100%|██████████| 7/7 [00:05<00:00,  1.31it/s]\n",
      "Training (14566 / 18000 Steps) (loss=0.31523): 100%|██████████| 7/7 [00:05<00:00,  1.23it/s]\n",
      "Training (14573 / 18000 Steps) (loss=0.47912): 100%|██████████| 7/7 [00:05<00:00,  1.28it/s]\n",
      "Training (14580 / 18000 Steps) (loss=0.66809): 100%|██████████| 7/7 [00:05<00:00,  1.27it/s]\n",
      "Training (14587 / 18000 Steps) (loss=0.49717): 100%|██████████| 7/7 [00:06<00:00,  1.13it/s]\n",
      "Training (14594 / 18000 Steps) (loss=0.51227): 100%|██████████| 7/7 [00:05<00:00,  1.26it/s]\n",
      "Validate (14595 / 10 Steps): 100%|██████████| 2/2 [00:04<00:00,  2.18s/it]<00:01,  1.51it/s]\n",
      "Training (14600 / 18000 Steps) (loss=0.47198):  86%|████████▌ | 6/7 [00:09<00:02,  2.07s/it]"
     ]
    },
    {
     "name": "stdout",
     "output_type": "stream",
     "text": [
      "Model Was Not Saved ! Current Best Avg. Dice: 0.3217344880104065 Current Avg. Dice: 0.2653961479663849 Current Avg. tumor Dice: 0.399823933839798 Current Avg. lymph Dice: 0.1309683620929718\n"
     ]
    },
    {
     "name": "stderr",
     "output_type": "stream",
     "text": [
      "Training (14601 / 18000 Steps) (loss=0.47477): 100%|██████████| 7/7 [00:10<00:00,  1.44s/it]\n",
      "Training (14608 / 18000 Steps) (loss=0.46278): 100%|██████████| 7/7 [00:05<00:00,  1.29it/s]\n",
      "Training (14615 / 18000 Steps) (loss=0.53394): 100%|██████████| 7/7 [00:05<00:00,  1.31it/s]\n",
      "Training (14622 / 18000 Steps) (loss=0.53331): 100%|██████████| 7/7 [00:05<00:00,  1.25it/s]\n",
      "Training (14629 / 18000 Steps) (loss=0.24749): 100%|██████████| 7/7 [00:05<00:00,  1.29it/s]\n",
      "Training (14636 / 18000 Steps) (loss=0.35275): 100%|██████████| 7/7 [00:05<00:00,  1.22it/s]\n",
      "Training (14643 / 18000 Steps) (loss=0.50869): 100%|██████████| 7/7 [00:05<00:00,  1.30it/s]\n",
      "Training (14650 / 18000 Steps) (loss=0.44139): 100%|██████████| 7/7 [00:05<00:00,  1.24it/s]\n",
      "Training (14657 / 18000 Steps) (loss=0.33416): 100%|██████████| 7/7 [00:05<00:00,  1.28it/s]\n",
      "Training (14664 / 18000 Steps) (loss=0.48214): 100%|██████████| 7/7 [00:05<00:00,  1.31it/s]\n",
      "Training (14671 / 18000 Steps) (loss=0.53983): 100%|██████████| 7/7 [00:05<00:00,  1.26it/s]\n",
      "Training (14678 / 18000 Steps) (loss=0.43908): 100%|██████████| 7/7 [00:05<00:00,  1.19it/s]\n",
      "Training (14685 / 18000 Steps) (loss=0.62904): 100%|██████████| 7/7 [00:05<00:00,  1.20it/s]\n",
      "Training (14692 / 18000 Steps) (loss=0.24758): 100%|██████████| 7/7 [00:05<00:00,  1.25it/s]\n",
      "Training (14699 / 18000 Steps) (loss=0.25654): 100%|██████████| 7/7 [00:05<00:00,  1.24it/s]\n",
      "Validate (14700 / 10 Steps): 100%|██████████| 2/2 [00:04<00:00,  2.14s/it]<?, ?it/s]\n",
      "Training (14700 / 18000 Steps) (loss=0.57619):  14%|█▍        | 1/7 [00:07<00:43,  7.27s/it]"
     ]
    },
    {
     "name": "stdout",
     "output_type": "stream",
     "text": [
      "Model Was Not Saved ! Current Best Avg. Dice: 0.3217344880104065 Current Avg. Dice: 0.2791353464126587 Current Avg. tumor Dice: 0.34679850935935974 Current Avg. lymph Dice: 0.21147215366363525\n"
     ]
    },
    {
     "name": "stderr",
     "output_type": "stream",
     "text": [
      "Training (14706 / 18000 Steps) (loss=0.48701): 100%|██████████| 7/7 [00:09<00:00,  1.38s/it]\n",
      "Training (14713 / 18000 Steps) (loss=0.36554): 100%|██████████| 7/7 [00:05<00:00,  1.31it/s]\n",
      "Training (14720 / 18000 Steps) (loss=0.61014): 100%|██████████| 7/7 [00:05<00:00,  1.31it/s]\n",
      "Training (14727 / 18000 Steps) (loss=0.41011): 100%|██████████| 7/7 [00:05<00:00,  1.34it/s]\n",
      "Training (14734 / 18000 Steps) (loss=0.52024): 100%|██████████| 7/7 [00:05<00:00,  1.31it/s]\n",
      "Training (14741 / 18000 Steps) (loss=0.35968): 100%|██████████| 7/7 [00:05<00:00,  1.24it/s]\n",
      "Training (14748 / 18000 Steps) (loss=0.41926): 100%|██████████| 7/7 [00:05<00:00,  1.28it/s]\n",
      "Training (14755 / 18000 Steps) (loss=0.40440): 100%|██████████| 7/7 [00:05<00:00,  1.20it/s]\n",
      "Training (14762 / 18000 Steps) (loss=0.17917): 100%|██████████| 7/7 [00:05<00:00,  1.25it/s]\n",
      "Training (14769 / 18000 Steps) (loss=0.38341): 100%|██████████| 7/7 [00:05<00:00,  1.28it/s]\n",
      "Training (14776 / 18000 Steps) (loss=0.54625): 100%|██████████| 7/7 [00:05<00:00,  1.32it/s]\n",
      "Training (14783 / 18000 Steps) (loss=0.24484): 100%|██████████| 7/7 [00:05<00:00,  1.29it/s]\n",
      "Training (14790 / 18000 Steps) (loss=0.37131): 100%|██████████| 7/7 [00:05<00:00,  1.22it/s]\n",
      "Training (14797 / 18000 Steps) (loss=0.37240): 100%|██████████| 7/7 [00:05<00:00,  1.30it/s]\n",
      "Validate (14798 / 10 Steps): 100%|██████████| 2/2 [00:04<00:00,  2.28s/it]<00:07,  1.59s/it]\n",
      "Training (14800 / 18000 Steps) (loss=0.33952):  43%|████▎     | 3/7 [00:08<00:12,  3.16s/it]"
     ]
    },
    {
     "name": "stdout",
     "output_type": "stream",
     "text": [
      "Model Was Not Saved ! Current Best Avg. Dice: 0.3217344880104065 Current Avg. Dice: 0.27952125668525696 Current Avg. tumor Dice: 0.35724204778671265 Current Avg. lymph Dice: 0.20180045068264008\n"
     ]
    },
    {
     "name": "stderr",
     "output_type": "stream",
     "text": [
      "Training (14804 / 18000 Steps) (loss=0.28880): 100%|██████████| 7/7 [00:10<00:00,  1.47s/it]\n",
      "Training (14811 / 18000 Steps) (loss=0.44189): 100%|██████████| 7/7 [00:05<00:00,  1.30it/s]\n",
      "Training (14818 / 18000 Steps) (loss=0.61257): 100%|██████████| 7/7 [00:05<00:00,  1.30it/s]\n",
      "Training (14825 / 18000 Steps) (loss=0.48285): 100%|██████████| 7/7 [00:05<00:00,  1.27it/s]\n",
      "Training (14832 / 18000 Steps) (loss=0.41994): 100%|██████████| 7/7 [00:05<00:00,  1.31it/s]\n",
      "Training (14839 / 18000 Steps) (loss=0.27569): 100%|██████████| 7/7 [00:05<00:00,  1.29it/s]\n",
      "Training (14846 / 18000 Steps) (loss=0.23112): 100%|██████████| 7/7 [00:05<00:00,  1.28it/s]\n",
      "Training (14853 / 18000 Steps) (loss=0.36189): 100%|██████████| 7/7 [00:05<00:00,  1.27it/s]\n",
      "Training (14860 / 18000 Steps) (loss=0.53318): 100%|██████████| 7/7 [00:05<00:00,  1.31it/s]\n",
      "Training (14867 / 18000 Steps) (loss=0.57258): 100%|██████████| 7/7 [00:06<00:00,  1.16it/s]\n",
      "Training (14874 / 18000 Steps) (loss=0.59725): 100%|██████████| 7/7 [00:05<00:00,  1.30it/s]\n",
      "Training (14881 / 18000 Steps) (loss=0.38271): 100%|██████████| 7/7 [00:05<00:00,  1.19it/s]\n",
      "Training (14888 / 18000 Steps) (loss=0.36062): 100%|██████████| 7/7 [00:05<00:00,  1.23it/s]\n",
      "Training (14895 / 18000 Steps) (loss=0.32993): 100%|██████████| 7/7 [00:05<00:00,  1.31it/s]\n",
      "Validate (14896 / 10 Steps): 100%|██████████| 2/2 [00:04<00:00,  2.06s/it]<00:02,  1.30it/s]\n",
      "Training (14900 / 18000 Steps) (loss=0.31682):  71%|███████▏  | 5/7 [00:08<00:04,  2.14s/it]"
     ]
    },
    {
     "name": "stdout",
     "output_type": "stream",
     "text": [
      "Model Was Not Saved ! Current Best Avg. Dice: 0.3217344880104065 Current Avg. Dice: 0.29250651597976685 Current Avg. tumor Dice: 0.368222713470459 Current Avg. lymph Dice: 0.2167903184890747\n"
     ]
    },
    {
     "name": "stderr",
     "output_type": "stream",
     "text": [
      "Training (14902 / 18000 Steps) (loss=0.19217): 100%|██████████| 7/7 [00:09<00:00,  1.37s/it]\n",
      "Training (14909 / 18000 Steps) (loss=0.54186): 100%|██████████| 7/7 [00:05<00:00,  1.26it/s]\n",
      "Training (14916 / 18000 Steps) (loss=0.42223): 100%|██████████| 7/7 [00:05<00:00,  1.30it/s]\n",
      "Training (14923 / 18000 Steps) (loss=0.22083): 100%|██████████| 7/7 [00:05<00:00,  1.31it/s]\n",
      "Training (14930 / 18000 Steps) (loss=0.54806): 100%|██████████| 7/7 [00:05<00:00,  1.26it/s]\n",
      "Training (14937 / 18000 Steps) (loss=0.35978): 100%|██████████| 7/7 [00:05<00:00,  1.27it/s]\n",
      "Training (14944 / 18000 Steps) (loss=0.48914): 100%|██████████| 7/7 [00:05<00:00,  1.29it/s]\n",
      "Training (14951 / 18000 Steps) (loss=0.42403): 100%|██████████| 7/7 [00:05<00:00,  1.30it/s]\n",
      "Training (14958 / 18000 Steps) (loss=0.45692): 100%|██████████| 7/7 [00:05<00:00,  1.21it/s]\n",
      "Training (14965 / 18000 Steps) (loss=0.34026): 100%|██████████| 7/7 [00:05<00:00,  1.19it/s]\n",
      "Training (14972 / 18000 Steps) (loss=0.27715): 100%|██████████| 7/7 [00:05<00:00,  1.26it/s]\n",
      "Training (14979 / 18000 Steps) (loss=0.55122): 100%|██████████| 7/7 [00:05<00:00,  1.23it/s]\n",
      "Training (14986 / 18000 Steps) (loss=0.14644): 100%|██████████| 7/7 [00:05<00:00,  1.26it/s]\n",
      "Training (14993 / 18000 Steps) (loss=0.32750): 100%|██████████| 7/7 [00:05<00:00,  1.26it/s]\n",
      "Validate (14994 / 10 Steps): 100%|██████████| 2/2 [00:04<00:00,  2.23s/it]<00:00,  1.72it/s]\n",
      "Training (15000 / 18000 Steps) (loss=0.34042): 100%|██████████| 7/7 [00:10<00:00,  1.45s/it]\n"
     ]
    },
    {
     "name": "stdout",
     "output_type": "stream",
     "text": [
      "Model Was Not Saved ! Current Best Avg. Dice: 0.3217344880104065 Current Avg. Dice: 0.3079483211040497 Current Avg. tumor Dice: 0.350771963596344 Current Avg. lymph Dice: 0.26512467861175537\n"
     ]
    },
    {
     "name": "stderr",
     "output_type": "stream",
     "text": [
      "Training (15007 / 18000 Steps) (loss=0.47513): 100%|██████████| 7/7 [00:06<00:00,  1.13it/s]\n",
      "Training (15014 / 18000 Steps) (loss=0.38650): 100%|██████████| 7/7 [00:05<00:00,  1.24it/s]\n",
      "Training (15021 / 18000 Steps) (loss=0.27271): 100%|██████████| 7/7 [00:05<00:00,  1.27it/s]\n",
      "Training (15028 / 18000 Steps) (loss=0.50007): 100%|██████████| 7/7 [00:05<00:00,  1.26it/s]\n",
      "Training (15035 / 18000 Steps) (loss=0.35283): 100%|██████████| 7/7 [00:05<00:00,  1.29it/s]\n",
      "Training (15042 / 18000 Steps) (loss=0.50062): 100%|██████████| 7/7 [00:05<00:00,  1.25it/s]\n",
      "Training (15049 / 18000 Steps) (loss=0.40249): 100%|██████████| 7/7 [00:05<00:00,  1.29it/s]\n",
      "Training (15056 / 18000 Steps) (loss=0.45897): 100%|██████████| 7/7 [00:05<00:00,  1.25it/s]\n",
      "Training (15063 / 18000 Steps) (loss=0.43268): 100%|██████████| 7/7 [00:05<00:00,  1.27it/s]\n",
      "Training (15070 / 18000 Steps) (loss=0.41064): 100%|██████████| 7/7 [00:05<00:00,  1.26it/s]\n",
      "Training (15077 / 18000 Steps) (loss=0.44020): 100%|██████████| 7/7 [00:05<00:00,  1.20it/s]\n",
      "Training (15084 / 18000 Steps) (loss=0.49622): 100%|██████████| 7/7 [00:05<00:00,  1.22it/s]\n",
      "Training (15091 / 18000 Steps) (loss=0.42229): 100%|██████████| 7/7 [00:06<00:00,  1.16it/s]\n",
      "Training (15098 / 18000 Steps) (loss=0.26836): 100%|██████████| 7/7 [00:06<00:00,  1.15it/s]\n",
      "Validate (15099 / 10 Steps): 100%|██████████| 2/2 [00:04<00:00,  2.16s/it]<00:19,  3.26s/it]\n",
      "Training (15100 / 18000 Steps) (loss=0.50575):  29%|██▊       | 2/7 [00:08<00:20,  4.16s/it]"
     ]
    },
    {
     "name": "stdout",
     "output_type": "stream",
     "text": [
      "Model Was Not Saved ! Current Best Avg. Dice: 0.3217344880104065 Current Avg. Dice: 0.2930797338485718 Current Avg. tumor Dice: 0.33236268162727356 Current Avg. lymph Dice: 0.2537968158721924\n"
     ]
    },
    {
     "name": "stderr",
     "output_type": "stream",
     "text": [
      "Training (15105 / 18000 Steps) (loss=0.39965): 100%|██████████| 7/7 [00:10<00:00,  1.44s/it]\n",
      "Training (15112 / 18000 Steps) (loss=0.53234): 100%|██████████| 7/7 [00:05<00:00,  1.20it/s]\n",
      "Training (15119 / 18000 Steps) (loss=0.41063): 100%|██████████| 7/7 [00:05<00:00,  1.23it/s]\n",
      "Training (15126 / 18000 Steps) (loss=0.50575): 100%|██████████| 7/7 [00:05<00:00,  1.25it/s]\n",
      "Training (15133 / 18000 Steps) (loss=0.32097): 100%|██████████| 7/7 [00:06<00:00,  1.15it/s]\n",
      "Training (15140 / 18000 Steps) (loss=0.54828): 100%|██████████| 7/7 [00:05<00:00,  1.24it/s]\n",
      "Training (15147 / 18000 Steps) (loss=0.50157): 100%|██████████| 7/7 [00:05<00:00,  1.22it/s]\n",
      "Training (15154 / 18000 Steps) (loss=0.31865): 100%|██████████| 7/7 [00:05<00:00,  1.26it/s]\n",
      "Training (15161 / 18000 Steps) (loss=0.59988): 100%|██████████| 7/7 [00:05<00:00,  1.21it/s]\n",
      "Training (15168 / 18000 Steps) (loss=0.55313): 100%|██████████| 7/7 [00:05<00:00,  1.26it/s]\n",
      "Training (15175 / 18000 Steps) (loss=0.45420): 100%|██████████| 7/7 [00:05<00:00,  1.24it/s]\n",
      "Training (15182 / 18000 Steps) (loss=0.40574): 100%|██████████| 7/7 [00:05<00:00,  1.28it/s]\n",
      "Training (15189 / 18000 Steps) (loss=0.54556): 100%|██████████| 7/7 [00:05<00:00,  1.23it/s]\n",
      "Training (15196 / 18000 Steps) (loss=0.25072): 100%|██████████| 7/7 [00:05<00:00,  1.25it/s]\n",
      "Validate (15197 / 10 Steps): 100%|██████████| 2/2 [00:04<00:00,  2.19s/it]<00:03,  1.01it/s]\n",
      "Training (15200 / 18000 Steps) (loss=0.51690):  57%|█████▋    | 4/7 [00:09<00:08,  2.80s/it]"
     ]
    },
    {
     "name": "stdout",
     "output_type": "stream",
     "text": [
      "Model Was Saved ! Current Best Avg. Dice: 0.3370220363140106 Current Avg. Dice: 0.3370220363140106 Current Avg. tumor Dice: 0.4047178030014038 Current Avg. lymph Dice: 0.26932626962661743\n"
     ]
    },
    {
     "name": "stderr",
     "output_type": "stream",
     "text": [
      "Training (15203 / 18000 Steps) (loss=0.53811): 100%|██████████| 7/7 [00:10<00:00,  1.51s/it]\n",
      "Training (15210 / 18000 Steps) (loss=0.66680): 100%|██████████| 7/7 [00:05<00:00,  1.19it/s]\n",
      "Training (15217 / 18000 Steps) (loss=0.34877): 100%|██████████| 7/7 [00:06<00:00,  1.16it/s]\n",
      "Training (15224 / 18000 Steps) (loss=0.39355): 100%|██████████| 7/7 [00:05<00:00,  1.26it/s]\n",
      "Training (15231 / 18000 Steps) (loss=0.44333): 100%|██████████| 7/7 [00:05<00:00,  1.22it/s]\n",
      "Training (15238 / 18000 Steps) (loss=0.35970): 100%|██████████| 7/7 [00:05<00:00,  1.24it/s]\n",
      "Training (15245 / 18000 Steps) (loss=0.56562): 100%|██████████| 7/7 [00:05<00:00,  1.29it/s]\n",
      "Training (15252 / 18000 Steps) (loss=0.24861): 100%|██████████| 7/7 [00:05<00:00,  1.24it/s]\n",
      "Training (15259 / 18000 Steps) (loss=0.51894): 100%|██████████| 7/7 [00:05<00:00,  1.25it/s]\n",
      "Training (15266 / 18000 Steps) (loss=0.46692): 100%|██████████| 7/7 [00:05<00:00,  1.24it/s]\n",
      "Training (15273 / 18000 Steps) (loss=0.47504): 100%|██████████| 7/7 [00:05<00:00,  1.30it/s]\n",
      "Training (15280 / 18000 Steps) (loss=0.38268): 100%|██████████| 7/7 [00:05<00:00,  1.26it/s]\n",
      "Training (15287 / 18000 Steps) (loss=0.33473): 100%|██████████| 7/7 [00:05<00:00,  1.34it/s]\n",
      "Training (15294 / 18000 Steps) (loss=0.46780): 100%|██████████| 7/7 [00:05<00:00,  1.20it/s]\n",
      "Validate (15295 / 10 Steps): 100%|██████████| 2/2 [00:04<00:00,  2.20s/it]<00:01,  1.51it/s]\n",
      "Training (15300 / 18000 Steps) (loss=0.32882):  86%|████████▌ | 6/7 [00:09<00:02,  2.09s/it]"
     ]
    },
    {
     "name": "stdout",
     "output_type": "stream",
     "text": [
      "Model Was Not Saved ! Current Best Avg. Dice: 0.3370220363140106 Current Avg. Dice: 0.3055077791213989 Current Avg. tumor Dice: 0.3870390057563782 Current Avg. lymph Dice: 0.22397655248641968\n"
     ]
    },
    {
     "name": "stderr",
     "output_type": "stream",
     "text": [
      "Training (15301 / 18000 Steps) (loss=0.45436): 100%|██████████| 7/7 [00:10<00:00,  1.43s/it]\n",
      "Training (15308 / 18000 Steps) (loss=0.44519): 100%|██████████| 7/7 [00:05<00:00,  1.22it/s]\n",
      "Training (15315 / 18000 Steps) (loss=0.27408): 100%|██████████| 7/7 [00:05<00:00,  1.22it/s]\n",
      "Training (15322 / 18000 Steps) (loss=0.41619): 100%|██████████| 7/7 [00:05<00:00,  1.22it/s]\n",
      "Training (15329 / 18000 Steps) (loss=0.63319): 100%|██████████| 7/7 [00:05<00:00,  1.25it/s]\n",
      "Training (15336 / 18000 Steps) (loss=0.42895): 100%|██████████| 7/7 [00:05<00:00,  1.22it/s]\n",
      "Training (15343 / 18000 Steps) (loss=0.40318): 100%|██████████| 7/7 [00:05<00:00,  1.20it/s]\n",
      "Training (15350 / 18000 Steps) (loss=0.13243): 100%|██████████| 7/7 [00:05<00:00,  1.20it/s]\n",
      "Training (15357 / 18000 Steps) (loss=0.41740): 100%|██████████| 7/7 [00:05<00:00,  1.28it/s]\n",
      "Training (15364 / 18000 Steps) (loss=0.60013): 100%|██████████| 7/7 [00:05<00:00,  1.25it/s]\n",
      "Training (15371 / 18000 Steps) (loss=0.28309): 100%|██████████| 7/7 [00:05<00:00,  1.22it/s]\n",
      "Training (15378 / 18000 Steps) (loss=0.42954): 100%|██████████| 7/7 [00:06<00:00,  1.16it/s]\n",
      "Training (15385 / 18000 Steps) (loss=0.48521): 100%|██████████| 7/7 [00:05<00:00,  1.21it/s]\n",
      "Training (15392 / 18000 Steps) (loss=0.26723): 100%|██████████| 7/7 [00:05<00:00,  1.17it/s]\n",
      "Training (15399 / 18000 Steps) (loss=0.56709): 100%|██████████| 7/7 [00:05<00:00,  1.20it/s]\n",
      "Validate (15400 / 10 Steps): 100%|██████████| 2/2 [00:04<00:00,  2.30s/it]<?, ?it/s]\n",
      "Training (15400 / 18000 Steps) (loss=0.37642):  14%|█▍        | 1/7 [00:07<00:47,  7.87s/it]"
     ]
    },
    {
     "name": "stdout",
     "output_type": "stream",
     "text": [
      "Model Was Not Saved ! Current Best Avg. Dice: 0.3370220363140106 Current Avg. Dice: 0.28667253255844116 Current Avg. tumor Dice: 0.3314184248447418 Current Avg. lymph Dice: 0.24192661046981812\n"
     ]
    },
    {
     "name": "stderr",
     "output_type": "stream",
     "text": [
      "Training (15406 / 18000 Steps) (loss=0.32086): 100%|██████████| 7/7 [00:10<00:00,  1.47s/it]\n",
      "Training (15413 / 18000 Steps) (loss=0.60096): 100%|██████████| 7/7 [00:05<00:00,  1.20it/s]\n",
      "Training (15420 / 18000 Steps) (loss=0.55031): 100%|██████████| 7/7 [00:05<00:00,  1.17it/s]\n",
      "Training (15427 / 18000 Steps) (loss=0.43973): 100%|██████████| 7/7 [00:05<00:00,  1.23it/s]\n",
      "Training (15434 / 18000 Steps) (loss=0.28501): 100%|██████████| 7/7 [00:05<00:00,  1.21it/s]\n",
      "Training (15441 / 18000 Steps) (loss=0.36288): 100%|██████████| 7/7 [00:05<00:00,  1.22it/s]\n",
      "Training (15448 / 18000 Steps) (loss=0.48567): 100%|██████████| 7/7 [00:05<00:00,  1.28it/s]\n",
      "Training (15455 / 18000 Steps) (loss=0.38802): 100%|██████████| 7/7 [00:05<00:00,  1.19it/s]\n",
      "Training (15462 / 18000 Steps) (loss=0.54407): 100%|██████████| 7/7 [00:05<00:00,  1.23it/s]\n",
      "Training (15469 / 18000 Steps) (loss=0.66701): 100%|██████████| 7/7 [00:05<00:00,  1.22it/s]\n",
      "Training (15476 / 18000 Steps) (loss=0.41431): 100%|██████████| 7/7 [00:05<00:00,  1.27it/s]\n",
      "Training (15483 / 18000 Steps) (loss=0.46294): 100%|██████████| 7/7 [00:05<00:00,  1.23it/s]\n",
      "Training (15490 / 18000 Steps) (loss=0.44225): 100%|██████████| 7/7 [00:05<00:00,  1.31it/s]\n",
      "Training (15497 / 18000 Steps) (loss=0.31154): 100%|██████████| 7/7 [00:05<00:00,  1.19it/s]\n",
      "Validate (15498 / 10 Steps): 100%|██████████| 2/2 [00:04<00:00,  2.33s/it]<00:09,  1.96s/it]\n",
      "Training (15500 / 18000 Steps) (loss=0.34024):  43%|████▎     | 3/7 [00:09<00:13,  3.42s/it]"
     ]
    },
    {
     "name": "stdout",
     "output_type": "stream",
     "text": [
      "Model Was Not Saved ! Current Best Avg. Dice: 0.3370220363140106 Current Avg. Dice: 0.2917037606239319 Current Avg. tumor Dice: 0.35537320375442505 Current Avg. lymph Dice: 0.22803433239459991\n"
     ]
    },
    {
     "name": "stderr",
     "output_type": "stream",
     "text": [
      "Training (15504 / 18000 Steps) (loss=0.31586): 100%|██████████| 7/7 [00:11<00:00,  1.62s/it]\n",
      "Training (15511 / 18000 Steps) (loss=0.39069): 100%|██████████| 7/7 [00:05<00:00,  1.23it/s]\n",
      "Training (15518 / 18000 Steps) (loss=0.30768): 100%|██████████| 7/7 [00:05<00:00,  1.27it/s]\n",
      "Training (15525 / 18000 Steps) (loss=0.39010): 100%|██████████| 7/7 [00:05<00:00,  1.21it/s]\n",
      "Training (15532 / 18000 Steps) (loss=0.35495): 100%|██████████| 7/7 [00:05<00:00,  1.20it/s]\n",
      "Training (15539 / 18000 Steps) (loss=0.22328): 100%|██████████| 7/7 [00:05<00:00,  1.18it/s]\n",
      "Training (15546 / 18000 Steps) (loss=0.56784): 100%|██████████| 7/7 [00:05<00:00,  1.18it/s]\n",
      "Training (15553 / 18000 Steps) (loss=0.41791): 100%|██████████| 7/7 [00:05<00:00,  1.23it/s]\n",
      "Training (15560 / 18000 Steps) (loss=0.30124): 100%|██████████| 7/7 [00:05<00:00,  1.30it/s]\n",
      "Training (15567 / 18000 Steps) (loss=0.60687): 100%|██████████| 7/7 [00:05<00:00,  1.27it/s]\n",
      "Training (15574 / 18000 Steps) (loss=0.26425): 100%|██████████| 7/7 [00:05<00:00,  1.26it/s]\n",
      "Training (15581 / 18000 Steps) (loss=0.37565): 100%|██████████| 7/7 [00:05<00:00,  1.25it/s]\n",
      "Training (15588 / 18000 Steps) (loss=0.41624): 100%|██████████| 7/7 [00:05<00:00,  1.26it/s]\n",
      "Training (15595 / 18000 Steps) (loss=0.50325): 100%|██████████| 7/7 [00:05<00:00,  1.31it/s]\n",
      "Validate (15596 / 10 Steps): 100%|██████████| 2/2 [00:04<00:00,  2.17s/it]<00:02,  1.27it/s]\n",
      "Training (15600 / 18000 Steps) (loss=0.38144):  71%|███████▏  | 5/7 [00:09<00:04,  2.24s/it]"
     ]
    },
    {
     "name": "stdout",
     "output_type": "stream",
     "text": [
      "Model Was Not Saved ! Current Best Avg. Dice: 0.3370220363140106 Current Avg. Dice: 0.302735835313797 Current Avg. tumor Dice: 0.33537012338638306 Current Avg. lymph Dice: 0.27010154724121094\n"
     ]
    },
    {
     "name": "stderr",
     "output_type": "stream",
     "text": [
      "Training (15602 / 18000 Steps) (loss=0.50131): 100%|██████████| 7/7 [00:10<00:00,  1.43s/it]\n",
      "Training (15609 / 18000 Steps) (loss=0.30721): 100%|██████████| 7/7 [00:05<00:00,  1.29it/s]\n",
      "Training (15616 / 18000 Steps) (loss=0.36693): 100%|██████████| 7/7 [00:05<00:00,  1.31it/s]\n",
      "Training (15623 / 18000 Steps) (loss=0.30766): 100%|██████████| 7/7 [00:05<00:00,  1.21it/s]\n",
      "Training (15630 / 18000 Steps) (loss=0.56208): 100%|██████████| 7/7 [00:05<00:00,  1.28it/s]\n",
      "Training (15637 / 18000 Steps) (loss=0.62050): 100%|██████████| 7/7 [00:05<00:00,  1.22it/s]\n",
      "Training (15644 / 18000 Steps) (loss=0.55209): 100%|██████████| 7/7 [00:05<00:00,  1.18it/s]\n",
      "Training (15651 / 18000 Steps) (loss=0.38614): 100%|██████████| 7/7 [00:05<00:00,  1.23it/s]\n",
      "Training (15658 / 18000 Steps) (loss=0.21783): 100%|██████████| 7/7 [00:05<00:00,  1.21it/s]\n",
      "Training (15665 / 18000 Steps) (loss=0.27289): 100%|██████████| 7/7 [00:05<00:00,  1.21it/s]\n",
      "Training (15672 / 18000 Steps) (loss=0.37086): 100%|██████████| 7/7 [00:05<00:00,  1.29it/s]\n",
      "Training (15679 / 18000 Steps) (loss=0.47243): 100%|██████████| 7/7 [00:05<00:00,  1.18it/s]\n",
      "Training (15686 / 18000 Steps) (loss=0.53344): 100%|██████████| 7/7 [00:05<00:00,  1.25it/s]\n",
      "Training (15693 / 18000 Steps) (loss=0.42978): 100%|██████████| 7/7 [00:05<00:00,  1.19it/s]\n",
      "Validate (15694 / 10 Steps): 100%|██████████| 2/2 [00:04<00:00,  2.22s/it]<00:00,  1.72it/s]\n",
      "Training (15700 / 18000 Steps) (loss=0.43494): 100%|██████████| 7/7 [00:10<00:00,  1.46s/it]\n"
     ]
    },
    {
     "name": "stdout",
     "output_type": "stream",
     "text": [
      "Model Was Not Saved ! Current Best Avg. Dice: 0.3370220363140106 Current Avg. Dice: 0.3120495080947876 Current Avg. tumor Dice: 0.38393524289131165 Current Avg. lymph Dice: 0.24016380310058594\n"
     ]
    },
    {
     "name": "stderr",
     "output_type": "stream",
     "text": [
      "Training (15707 / 18000 Steps) (loss=0.60424): 100%|██████████| 7/7 [00:05<00:00,  1.24it/s]\n",
      "Training (15714 / 18000 Steps) (loss=0.21110): 100%|██████████| 7/7 [00:05<00:00,  1.18it/s]\n",
      "Training (15721 / 18000 Steps) (loss=0.29377): 100%|██████████| 7/7 [00:05<00:00,  1.26it/s]\n",
      "Training (15728 / 18000 Steps) (loss=0.28417): 100%|██████████| 7/7 [00:05<00:00,  1.22it/s]\n",
      "Training (15735 / 18000 Steps) (loss=0.40555): 100%|██████████| 7/7 [00:05<00:00,  1.18it/s]\n",
      "Training (15742 / 18000 Steps) (loss=0.37564): 100%|██████████| 7/7 [00:05<00:00,  1.17it/s]\n",
      "Training (15749 / 18000 Steps) (loss=0.20986): 100%|██████████| 7/7 [00:05<00:00,  1.22it/s]\n",
      "Training (15756 / 18000 Steps) (loss=0.23933): 100%|██████████| 7/7 [00:06<00:00,  1.17it/s]\n",
      "Training (15763 / 18000 Steps) (loss=0.34095): 100%|██████████| 7/7 [00:05<00:00,  1.26it/s]\n",
      "Training (15770 / 18000 Steps) (loss=0.49514): 100%|██████████| 7/7 [00:05<00:00,  1.25it/s]\n",
      "Training (15777 / 18000 Steps) (loss=0.45769): 100%|██████████| 7/7 [00:05<00:00,  1.29it/s]\n",
      "Training (15784 / 18000 Steps) (loss=0.41171): 100%|██████████| 7/7 [00:05<00:00,  1.30it/s]\n",
      "Training (15791 / 18000 Steps) (loss=0.38203): 100%|██████████| 7/7 [00:05<00:00,  1.20it/s]\n",
      "Training (15798 / 18000 Steps) (loss=0.45056): 100%|██████████| 7/7 [00:05<00:00,  1.19it/s]\n",
      "Validate (15799 / 10 Steps): 100%|██████████| 2/2 [00:04<00:00,  2.14s/it]<00:20,  3.34s/it]\n",
      "Training (15800 / 18000 Steps) (loss=0.32475):  29%|██▊       | 2/7 [00:08<00:20,  4.17s/it]"
     ]
    },
    {
     "name": "stdout",
     "output_type": "stream",
     "text": [
      "Model Was Not Saved ! Current Best Avg. Dice: 0.3370220363140106 Current Avg. Dice: 0.2758699059486389 Current Avg. tumor Dice: 0.33464929461479187 Current Avg. lymph Dice: 0.21709051728248596\n"
     ]
    },
    {
     "name": "stderr",
     "output_type": "stream",
     "text": [
      "Training (15805 / 18000 Steps) (loss=0.44950): 100%|██████████| 7/7 [00:10<00:00,  1.44s/it]\n",
      "Training (15812 / 18000 Steps) (loss=0.16175): 100%|██████████| 7/7 [00:05<00:00,  1.28it/s]\n",
      "Training (15819 / 18000 Steps) (loss=0.32682): 100%|██████████| 7/7 [00:05<00:00,  1.26it/s]\n",
      "Training (15826 / 18000 Steps) (loss=0.47219): 100%|██████████| 7/7 [00:05<00:00,  1.20it/s]\n",
      "Training (15833 / 18000 Steps) (loss=0.27621): 100%|██████████| 7/7 [00:05<00:00,  1.23it/s]\n",
      "Training (15840 / 18000 Steps) (loss=0.36705): 100%|██████████| 7/7 [00:05<00:00,  1.20it/s]\n",
      "Training (15847 / 18000 Steps) (loss=0.24428): 100%|██████████| 7/7 [00:05<00:00,  1.25it/s]\n",
      "Training (15854 / 18000 Steps) (loss=0.48023): 100%|██████████| 7/7 [00:05<00:00,  1.25it/s]\n",
      "Training (15861 / 18000 Steps) (loss=0.37049): 100%|██████████| 7/7 [00:06<00:00,  1.16it/s]\n",
      "Training (15868 / 18000 Steps) (loss=0.44209): 100%|██████████| 7/7 [00:05<00:00,  1.20it/s]\n",
      "Training (15875 / 18000 Steps) (loss=0.30602): 100%|██████████| 7/7 [00:05<00:00,  1.27it/s]\n",
      "Training (15882 / 18000 Steps) (loss=0.38138): 100%|██████████| 7/7 [00:05<00:00,  1.26it/s]\n",
      "Training (15889 / 18000 Steps) (loss=0.19618): 100%|██████████| 7/7 [00:05<00:00,  1.21it/s]\n",
      "Training (15896 / 18000 Steps) (loss=0.43387): 100%|██████████| 7/7 [00:05<00:00,  1.22it/s]\n",
      "Validate (15897 / 10 Steps): 100%|██████████| 2/2 [00:04<00:00,  2.27s/it]<00:04,  1.09s/it]\n",
      "Training (15900 / 18000 Steps) (loss=0.31499):  57%|█████▋    | 4/7 [00:09<00:07,  2.64s/it]"
     ]
    },
    {
     "name": "stdout",
     "output_type": "stream",
     "text": [
      "Model Was Not Saved ! Current Best Avg. Dice: 0.3370220363140106 Current Avg. Dice: 0.31781160831451416 Current Avg. tumor Dice: 0.384010910987854 Current Avg. lymph Dice: 0.2516123652458191\n"
     ]
    },
    {
     "name": "stderr",
     "output_type": "stream",
     "text": [
      "Training (15903 / 18000 Steps) (loss=0.18275): 100%|██████████| 7/7 [00:10<00:00,  1.49s/it]\n",
      "Training (15910 / 18000 Steps) (loss=0.44828): 100%|██████████| 7/7 [00:05<00:00,  1.27it/s]\n",
      "Training (15917 / 18000 Steps) (loss=0.42305): 100%|██████████| 7/7 [00:05<00:00,  1.22it/s]\n",
      "Training (15924 / 18000 Steps) (loss=0.49136): 100%|██████████| 7/7 [00:05<00:00,  1.28it/s]\n",
      "Training (15931 / 18000 Steps) (loss=0.26633): 100%|██████████| 7/7 [00:05<00:00,  1.25it/s]\n",
      "Training (15938 / 18000 Steps) (loss=0.51293): 100%|██████████| 7/7 [00:05<00:00,  1.28it/s]\n",
      "Training (15945 / 18000 Steps) (loss=0.41788): 100%|██████████| 7/7 [00:05<00:00,  1.21it/s]\n",
      "Training (15952 / 18000 Steps) (loss=0.54102): 100%|██████████| 7/7 [00:06<00:00,  1.13it/s]\n",
      "Training (15959 / 18000 Steps) (loss=0.66687): 100%|██████████| 7/7 [00:05<00:00,  1.23it/s]\n",
      "Training (15966 / 18000 Steps) (loss=0.41624): 100%|██████████| 7/7 [00:05<00:00,  1.21it/s]\n",
      "Training (15973 / 18000 Steps) (loss=0.55863): 100%|██████████| 7/7 [00:05<00:00,  1.20it/s]\n",
      "Training (15980 / 18000 Steps) (loss=0.29606): 100%|██████████| 7/7 [00:05<00:00,  1.22it/s]\n",
      "Training (15987 / 18000 Steps) (loss=0.50735): 100%|██████████| 7/7 [00:05<00:00,  1.18it/s]\n",
      "Training (15994 / 18000 Steps) (loss=0.29900): 100%|██████████| 7/7 [00:06<00:00,  1.16it/s]\n",
      "Validate (15995 / 10 Steps): 100%|██████████| 2/2 [00:04<00:00,  2.29s/it]<00:01,  1.48it/s]\n",
      "Training (16000 / 18000 Steps) (loss=0.35468):  86%|████████▌ | 6/7 [00:10<00:02,  2.17s/it]"
     ]
    },
    {
     "name": "stdout",
     "output_type": "stream",
     "text": [
      "Model Was Not Saved ! Current Best Avg. Dice: 0.3370220363140106 Current Avg. Dice: 0.29518863558769226 Current Avg. tumor Dice: 0.36843129992485046 Current Avg. lymph Dice: 0.22194594144821167\n"
     ]
    },
    {
     "name": "stderr",
     "output_type": "stream",
     "text": [
      "Training (16001 / 18000 Steps) (loss=0.31296): 100%|██████████| 7/7 [00:10<00:00,  1.50s/it]\n",
      "Training (16008 / 18000 Steps) (loss=0.41370): 100%|██████████| 7/7 [00:05<00:00,  1.28it/s]\n",
      "Training (16015 / 18000 Steps) (loss=0.46704): 100%|██████████| 7/7 [00:05<00:00,  1.22it/s]\n",
      "Training (16022 / 18000 Steps) (loss=0.60687): 100%|██████████| 7/7 [00:05<00:00,  1.27it/s]\n",
      "Training (16029 / 18000 Steps) (loss=0.48846): 100%|██████████| 7/7 [00:05<00:00,  1.18it/s]\n",
      "Training (16036 / 18000 Steps) (loss=0.45956): 100%|██████████| 7/7 [00:06<00:00,  1.15it/s]\n",
      "Training (16043 / 18000 Steps) (loss=0.28136): 100%|██████████| 7/7 [00:05<00:00,  1.23it/s]\n",
      "Training (16050 / 18000 Steps) (loss=0.31296): 100%|██████████| 7/7 [00:05<00:00,  1.21it/s]\n",
      "Training (16057 / 18000 Steps) (loss=0.39830): 100%|██████████| 7/7 [00:05<00:00,  1.30it/s]\n",
      "Training (16064 / 18000 Steps) (loss=0.31643): 100%|██████████| 7/7 [00:05<00:00,  1.27it/s]\n",
      "Training (16071 / 18000 Steps) (loss=0.32164): 100%|██████████| 7/7 [00:05<00:00,  1.21it/s]\n",
      "Training (16078 / 18000 Steps) (loss=0.43738): 100%|██████████| 7/7 [00:05<00:00,  1.29it/s]\n",
      "Training (16085 / 18000 Steps) (loss=0.29972): 100%|██████████| 7/7 [00:05<00:00,  1.29it/s]\n",
      "Training (16092 / 18000 Steps) (loss=0.38779): 100%|██████████| 7/7 [00:05<00:00,  1.27it/s]\n",
      "Training (16099 / 18000 Steps) (loss=0.45111): 100%|██████████| 7/7 [00:05<00:00,  1.25it/s]\n",
      "Validate (16100 / 10 Steps): 100%|██████████| 2/2 [00:04<00:00,  2.36s/it]<?, ?it/s]\n",
      "Training (16100 / 18000 Steps) (loss=0.40222):  14%|█▍        | 1/7 [00:08<00:49,  8.26s/it]"
     ]
    },
    {
     "name": "stdout",
     "output_type": "stream",
     "text": [
      "Model Was Not Saved ! Current Best Avg. Dice: 0.3370220363140106 Current Avg. Dice: 0.29962486028671265 Current Avg. tumor Dice: 0.3782457113265991 Current Avg. lymph Dice: 0.22100402414798737\n"
     ]
    },
    {
     "name": "stderr",
     "output_type": "stream",
     "text": [
      "Training (16106 / 18000 Steps) (loss=0.43209): 100%|██████████| 7/7 [00:10<00:00,  1.53s/it]\n",
      "Training (16113 / 18000 Steps) (loss=0.29288): 100%|██████████| 7/7 [00:06<00:00,  1.15it/s]\n",
      "Training (16120 / 18000 Steps) (loss=0.31701): 100%|██████████| 7/7 [00:05<00:00,  1.31it/s]\n",
      "Training (16127 / 18000 Steps) (loss=0.47434): 100%|██████████| 7/7 [00:05<00:00,  1.28it/s]\n",
      "Training (16134 / 18000 Steps) (loss=0.32517): 100%|██████████| 7/7 [00:05<00:00,  1.30it/s]\n",
      "Training (16141 / 18000 Steps) (loss=0.18464): 100%|██████████| 7/7 [00:05<00:00,  1.26it/s]\n",
      "Training (16148 / 18000 Steps) (loss=0.37319): 100%|██████████| 7/7 [00:06<00:00,  1.08it/s]\n",
      "Training (16155 / 18000 Steps) (loss=0.32973): 100%|██████████| 7/7 [00:05<00:00,  1.27it/s]\n",
      "Training (16162 / 18000 Steps) (loss=0.35061): 100%|██████████| 7/7 [00:05<00:00,  1.27it/s]\n",
      "Training (16169 / 18000 Steps) (loss=0.55231): 100%|██████████| 7/7 [00:05<00:00,  1.30it/s]\n",
      "Training (16176 / 18000 Steps) (loss=0.41521): 100%|██████████| 7/7 [00:05<00:00,  1.27it/s]\n",
      "Training (16183 / 18000 Steps) (loss=0.42392): 100%|██████████| 7/7 [00:05<00:00,  1.26it/s]\n",
      "Training (16190 / 18000 Steps) (loss=0.50838): 100%|██████████| 7/7 [00:05<00:00,  1.24it/s]\n",
      "Training (16197 / 18000 Steps) (loss=0.41661): 100%|██████████| 7/7 [00:05<00:00,  1.22it/s]\n",
      "Validate (16198 / 10 Steps): 100%|██████████| 2/2 [00:04<00:00,  2.14s/it]<00:08,  1.70s/it]\n",
      "Training (16200 / 18000 Steps) (loss=0.25217):  43%|████▎     | 3/7 [00:08<00:12,  3.11s/it]"
     ]
    },
    {
     "name": "stdout",
     "output_type": "stream",
     "text": [
      "Model Was Not Saved ! Current Best Avg. Dice: 0.3370220363140106 Current Avg. Dice: 0.2933744490146637 Current Avg. tumor Dice: 0.39077624678611755 Current Avg. lymph Dice: 0.19597262144088745\n"
     ]
    },
    {
     "name": "stderr",
     "output_type": "stream",
     "text": [
      "Training (16204 / 18000 Steps) (loss=0.38049): 100%|██████████| 7/7 [00:10<00:00,  1.48s/it]\n",
      "Training (16211 / 18000 Steps) (loss=0.29397): 100%|██████████| 7/7 [00:05<00:00,  1.28it/s]\n",
      "Training (16218 / 18000 Steps) (loss=0.31336): 100%|██████████| 7/7 [00:05<00:00,  1.25it/s]\n",
      "Training (16225 / 18000 Steps) (loss=0.49369): 100%|██████████| 7/7 [00:06<00:00,  1.16it/s]\n",
      "Training (16232 / 18000 Steps) (loss=0.41794): 100%|██████████| 7/7 [00:06<00:00,  1.09it/s]\n",
      "Training (16239 / 18000 Steps) (loss=0.33939): 100%|██████████| 7/7 [00:06<00:00,  1.16it/s]\n",
      "Training (16246 / 18000 Steps) (loss=0.56166): 100%|██████████| 7/7 [00:05<00:00,  1.27it/s]\n",
      "Training (16253 / 18000 Steps) (loss=0.29229): 100%|██████████| 7/7 [00:05<00:00,  1.27it/s]\n",
      "Training (16260 / 18000 Steps) (loss=0.37917): 100%|██████████| 7/7 [00:05<00:00,  1.25it/s]\n",
      "Training (16267 / 18000 Steps) (loss=0.54932): 100%|██████████| 7/7 [00:05<00:00,  1.24it/s]\n",
      "Training (16274 / 18000 Steps) (loss=0.31756): 100%|██████████| 7/7 [00:05<00:00,  1.26it/s]\n",
      "Training (16281 / 18000 Steps) (loss=0.39270): 100%|██████████| 7/7 [00:05<00:00,  1.25it/s]\n",
      "Training (16288 / 18000 Steps) (loss=0.52258): 100%|██████████| 7/7 [00:05<00:00,  1.24it/s]\n",
      "Training (16295 / 18000 Steps) (loss=0.32516): 100%|██████████| 7/7 [00:05<00:00,  1.27it/s]\n",
      "Validate (16296 / 10 Steps): 100%|██████████| 2/2 [00:04<00:00,  2.20s/it]<00:02,  1.20it/s]\n",
      "Training (16300 / 18000 Steps) (loss=0.27689):  71%|███████▏  | 5/7 [00:09<00:04,  2.29s/it]"
     ]
    },
    {
     "name": "stdout",
     "output_type": "stream",
     "text": [
      "Model Was Not Saved ! Current Best Avg. Dice: 0.3370220363140106 Current Avg. Dice: 0.311012864112854 Current Avg. tumor Dice: 0.3913858234882355 Current Avg. lymph Dice: 0.23063993453979492\n"
     ]
    },
    {
     "name": "stderr",
     "output_type": "stream",
     "text": [
      "Training (16302 / 18000 Steps) (loss=0.37425): 100%|██████████| 7/7 [00:10<00:00,  1.47s/it]\n",
      "Training (16309 / 18000 Steps) (loss=0.53238): 100%|██████████| 7/7 [00:05<00:00,  1.19it/s]\n",
      "Training (16316 / 18000 Steps) (loss=0.41558): 100%|██████████| 7/7 [00:05<00:00,  1.28it/s]\n",
      "Training (16323 / 18000 Steps) (loss=0.48170): 100%|██████████| 7/7 [00:05<00:00,  1.27it/s]\n",
      "Training (16330 / 18000 Steps) (loss=0.48412): 100%|██████████| 7/7 [00:05<00:00,  1.21it/s]\n",
      "Training (16337 / 18000 Steps) (loss=0.43298): 100%|██████████| 7/7 [00:05<00:00,  1.25it/s]\n",
      "Training (16344 / 18000 Steps) (loss=0.27807): 100%|██████████| 7/7 [00:05<00:00,  1.17it/s]\n",
      "Training (16351 / 18000 Steps) (loss=0.47168): 100%|██████████| 7/7 [00:05<00:00,  1.22it/s]\n",
      "Training (16358 / 18000 Steps) (loss=0.39472): 100%|██████████| 7/7 [00:05<00:00,  1.17it/s]\n",
      "Training (16365 / 18000 Steps) (loss=0.42725): 100%|██████████| 7/7 [00:05<00:00,  1.17it/s]\n",
      "Training (16372 / 18000 Steps) (loss=0.40521): 100%|██████████| 7/7 [00:05<00:00,  1.26it/s]\n",
      "Training (16379 / 18000 Steps) (loss=0.12202): 100%|██████████| 7/7 [00:05<00:00,  1.22it/s]\n",
      "Training (16386 / 18000 Steps) (loss=0.38426): 100%|██████████| 7/7 [00:05<00:00,  1.18it/s]\n",
      "Training (16393 / 18000 Steps) (loss=0.32303): 100%|██████████| 7/7 [00:05<00:00,  1.17it/s]\n",
      "Validate (16394 / 10 Steps): 100%|██████████| 2/2 [00:04<00:00,  2.20s/it]<00:00,  1.73it/s]\n",
      "Training (16400 / 18000 Steps) (loss=0.42013): 100%|██████████| 7/7 [00:10<00:00,  1.44s/it]\n"
     ]
    },
    {
     "name": "stdout",
     "output_type": "stream",
     "text": [
      "Model Was Not Saved ! Current Best Avg. Dice: 0.3370220363140106 Current Avg. Dice: 0.3099215626716614 Current Avg. tumor Dice: 0.40601441264152527 Current Avg. lymph Dice: 0.21382874250411987\n"
     ]
    },
    {
     "name": "stderr",
     "output_type": "stream",
     "text": [
      "Training (16407 / 18000 Steps) (loss=0.44309): 100%|██████████| 7/7 [00:05<00:00,  1.21it/s]\n",
      "Training (16414 / 18000 Steps) (loss=0.24370): 100%|██████████| 7/7 [00:05<00:00,  1.23it/s]\n",
      "Training (16421 / 18000 Steps) (loss=0.47199): 100%|██████████| 7/7 [00:05<00:00,  1.22it/s]\n",
      "Training (16428 / 18000 Steps) (loss=0.36041): 100%|██████████| 7/7 [00:06<00:00,  1.17it/s]\n",
      "Training (16435 / 18000 Steps) (loss=0.43507): 100%|██████████| 7/7 [00:05<00:00,  1.20it/s]\n",
      "Training (16442 / 18000 Steps) (loss=0.54277): 100%|██████████| 7/7 [00:05<00:00,  1.22it/s]\n",
      "Training (16449 / 18000 Steps) (loss=0.32879): 100%|██████████| 7/7 [00:05<00:00,  1.26it/s]\n",
      "Training (16456 / 18000 Steps) (loss=0.37093): 100%|██████████| 7/7 [00:05<00:00,  1.26it/s]\n",
      "Training (16463 / 18000 Steps) (loss=0.29060): 100%|██████████| 7/7 [00:05<00:00,  1.23it/s]\n",
      "Training (16470 / 18000 Steps) (loss=0.30664): 100%|██████████| 7/7 [00:05<00:00,  1.21it/s]\n",
      "Training (16477 / 18000 Steps) (loss=0.39906): 100%|██████████| 7/7 [00:05<00:00,  1.22it/s]\n",
      "Training (16484 / 18000 Steps) (loss=0.48013): 100%|██████████| 7/7 [00:05<00:00,  1.21it/s]\n",
      "Training (16491 / 18000 Steps) (loss=0.42116): 100%|██████████| 7/7 [00:05<00:00,  1.18it/s]\n",
      "Training (16498 / 18000 Steps) (loss=0.45886): 100%|██████████| 7/7 [00:05<00:00,  1.27it/s]\n",
      "Validate (16499 / 10 Steps): 100%|██████████| 2/2 [00:04<00:00,  2.16s/it]<00:18,  3.13s/it]\n",
      "Training (16500 / 18000 Steps) (loss=0.27217):  29%|██▊       | 2/7 [00:07<00:20,  4.10s/it]"
     ]
    },
    {
     "name": "stdout",
     "output_type": "stream",
     "text": [
      "Model Was Not Saved ! Current Best Avg. Dice: 0.3370220363140106 Current Avg. Dice: 0.28588882088661194 Current Avg. tumor Dice: 0.34810954332351685 Current Avg. lymph Dice: 0.22366809844970703\n"
     ]
    },
    {
     "name": "stderr",
     "output_type": "stream",
     "text": [
      "Training (16505 / 18000 Steps) (loss=0.53106): 100%|██████████| 7/7 [00:09<00:00,  1.41s/it]\n",
      "Training (16512 / 18000 Steps) (loss=0.41422): 100%|██████████| 7/7 [00:05<00:00,  1.36it/s]\n",
      "Training (16519 / 18000 Steps) (loss=0.50416): 100%|██████████| 7/7 [00:05<00:00,  1.23it/s]\n",
      "Training (16526 / 18000 Steps) (loss=0.19653): 100%|██████████| 7/7 [00:05<00:00,  1.28it/s]\n",
      "Training (16533 / 18000 Steps) (loss=0.54903): 100%|██████████| 7/7 [00:05<00:00,  1.31it/s]\n",
      "Training (16540 / 18000 Steps) (loss=0.31938): 100%|██████████| 7/7 [00:05<00:00,  1.24it/s]\n",
      "Training (16547 / 18000 Steps) (loss=0.43245): 100%|██████████| 7/7 [00:05<00:00,  1.26it/s]\n",
      "Training (16554 / 18000 Steps) (loss=0.47206): 100%|██████████| 7/7 [00:05<00:00,  1.19it/s]\n",
      "Training (16561 / 18000 Steps) (loss=0.53256): 100%|██████████| 7/7 [00:05<00:00,  1.30it/s]\n",
      "Training (16568 / 18000 Steps) (loss=0.34632): 100%|██████████| 7/7 [00:05<00:00,  1.27it/s]\n",
      "Training (16575 / 18000 Steps) (loss=0.32903): 100%|██████████| 7/7 [00:05<00:00,  1.23it/s]\n",
      "Training (16582 / 18000 Steps) (loss=0.50918): 100%|██████████| 7/7 [00:05<00:00,  1.25it/s]\n",
      "Training (16589 / 18000 Steps) (loss=0.35187): 100%|██████████| 7/7 [00:05<00:00,  1.25it/s]\n",
      "Training (16596 / 18000 Steps) (loss=0.35626): 100%|██████████| 7/7 [00:05<00:00,  1.21it/s]\n",
      "Validate (16597 / 10 Steps): 100%|██████████| 2/2 [00:04<00:00,  2.17s/it]<00:04,  1.05s/it]\n",
      "Training (16600 / 18000 Steps) (loss=0.42654):  57%|█████▋    | 4/7 [00:08<00:07,  2.53s/it]"
     ]
    },
    {
     "name": "stdout",
     "output_type": "stream",
     "text": [
      "Model Was Not Saved ! Current Best Avg. Dice: 0.3370220363140106 Current Avg. Dice: 0.2994397282600403 Current Avg. tumor Dice: 0.3461580276489258 Current Avg. lymph Dice: 0.2527213990688324\n"
     ]
    },
    {
     "name": "stderr",
     "output_type": "stream",
     "text": [
      "Training (16603 / 18000 Steps) (loss=0.54671): 100%|██████████| 7/7 [00:10<00:00,  1.43s/it]\n",
      "Training (16610 / 18000 Steps) (loss=0.43238): 100%|██████████| 7/7 [00:05<00:00,  1.28it/s]\n",
      "Training (16617 / 18000 Steps) (loss=0.53682): 100%|██████████| 7/7 [00:05<00:00,  1.29it/s]\n",
      "Training (16624 / 18000 Steps) (loss=0.54099): 100%|██████████| 7/7 [00:05<00:00,  1.33it/s]\n",
      "Training (16631 / 18000 Steps) (loss=0.40861): 100%|██████████| 7/7 [00:05<00:00,  1.26it/s]\n",
      "Training (16638 / 18000 Steps) (loss=0.55921): 100%|██████████| 7/7 [00:05<00:00,  1.24it/s]\n",
      "Training (16645 / 18000 Steps) (loss=0.19807): 100%|██████████| 7/7 [00:05<00:00,  1.26it/s]\n",
      "Training (16652 / 18000 Steps) (loss=0.32478): 100%|██████████| 7/7 [00:05<00:00,  1.25it/s]\n",
      "Training (16659 / 18000 Steps) (loss=0.33587): 100%|██████████| 7/7 [00:05<00:00,  1.28it/s]\n",
      "Training (16666 / 18000 Steps) (loss=0.47810): 100%|██████████| 7/7 [00:05<00:00,  1.29it/s]\n",
      "Training (16673 / 18000 Steps) (loss=0.48992): 100%|██████████| 7/7 [00:05<00:00,  1.26it/s]\n",
      "Training (16680 / 18000 Steps) (loss=0.26046): 100%|██████████| 7/7 [00:05<00:00,  1.24it/s]\n",
      "Training (16687 / 18000 Steps) (loss=0.41610): 100%|██████████| 7/7 [00:05<00:00,  1.24it/s]\n",
      "Training (16694 / 18000 Steps) (loss=0.39556): 100%|██████████| 7/7 [00:05<00:00,  1.27it/s]\n",
      "Validate (16695 / 10 Steps): 100%|██████████| 2/2 [00:04<00:00,  2.08s/it]<00:01,  1.54it/s]\n",
      "Training (16700 / 18000 Steps) (loss=0.35398):  86%|████████▌ | 6/7 [00:09<00:01,  2.00s/it]"
     ]
    },
    {
     "name": "stdout",
     "output_type": "stream",
     "text": [
      "Model Was Not Saved ! Current Best Avg. Dice: 0.3370220363140106 Current Avg. Dice: 0.2758830785751343 Current Avg. tumor Dice: 0.32640698552131653 Current Avg. lymph Dice: 0.22535914182662964\n"
     ]
    },
    {
     "name": "stderr",
     "output_type": "stream",
     "text": [
      "Training (16701 / 18000 Steps) (loss=0.43425): 100%|██████████| 7/7 [00:09<00:00,  1.39s/it]\n",
      "Training (16708 / 18000 Steps) (loss=0.48072): 100%|██████████| 7/7 [00:05<00:00,  1.27it/s]\n",
      "Training (16715 / 18000 Steps) (loss=0.33624): 100%|██████████| 7/7 [00:05<00:00,  1.28it/s]\n",
      "Training (16722 / 18000 Steps) (loss=0.42065): 100%|██████████| 7/7 [00:05<00:00,  1.30it/s]\n",
      "Training (16729 / 18000 Steps) (loss=0.39573): 100%|██████████| 7/7 [00:05<00:00,  1.23it/s]\n",
      "Training (16736 / 18000 Steps) (loss=0.30903): 100%|██████████| 7/7 [00:05<00:00,  1.34it/s]\n",
      "Training (16743 / 18000 Steps) (loss=0.28897): 100%|██████████| 7/7 [00:05<00:00,  1.28it/s]\n",
      "Training (16750 / 18000 Steps) (loss=0.28306): 100%|██████████| 7/7 [00:05<00:00,  1.30it/s]\n",
      "Training (16757 / 18000 Steps) (loss=0.50002): 100%|██████████| 7/7 [00:05<00:00,  1.27it/s]\n",
      "Training (16764 / 18000 Steps) (loss=0.30789): 100%|██████████| 7/7 [00:05<00:00,  1.27it/s]\n",
      "Training (16771 / 18000 Steps) (loss=0.44111): 100%|██████████| 7/7 [00:05<00:00,  1.24it/s]\n",
      "Training (16778 / 18000 Steps) (loss=0.42228): 100%|██████████| 7/7 [00:05<00:00,  1.20it/s]\n",
      "Training (16785 / 18000 Steps) (loss=0.40853): 100%|██████████| 7/7 [00:05<00:00,  1.29it/s]\n",
      "Training (16792 / 18000 Steps) (loss=0.43497): 100%|██████████| 7/7 [00:05<00:00,  1.26it/s]\n",
      "Training (16799 / 18000 Steps) (loss=0.32444): 100%|██████████| 7/7 [00:05<00:00,  1.27it/s]\n",
      "Validate (16800 / 10 Steps): 100%|██████████| 2/2 [00:04<00:00,  2.28s/it]<?, ?it/s]\n",
      "Training (16800 / 18000 Steps) (loss=0.36047):  14%|█▍        | 1/7 [00:07<00:46,  7.81s/it]"
     ]
    },
    {
     "name": "stdout",
     "output_type": "stream",
     "text": [
      "Model Was Not Saved ! Current Best Avg. Dice: 0.3370220363140106 Current Avg. Dice: 0.3065388798713684 Current Avg. tumor Dice: 0.3621132969856262 Current Avg. lymph Dice: 0.2509644627571106\n"
     ]
    },
    {
     "name": "stderr",
     "output_type": "stream",
     "text": [
      "Training (16806 / 18000 Steps) (loss=0.32340): 100%|██████████| 7/7 [00:10<00:00,  1.46s/it]\n",
      "Training (16813 / 18000 Steps) (loss=0.32805): 100%|██████████| 7/7 [00:05<00:00,  1.22it/s]\n",
      "Training (16820 / 18000 Steps) (loss=0.43198): 100%|██████████| 7/7 [00:05<00:00,  1.33it/s]\n",
      "Training (16827 / 18000 Steps) (loss=0.25645): 100%|██████████| 7/7 [00:05<00:00,  1.32it/s]\n",
      "Training (16834 / 18000 Steps) (loss=0.36159): 100%|██████████| 7/7 [00:05<00:00,  1.35it/s]\n",
      "Training (16841 / 18000 Steps) (loss=0.47361): 100%|██████████| 7/7 [00:05<00:00,  1.25it/s]\n",
      "Training (16848 / 18000 Steps) (loss=0.46933): 100%|██████████| 7/7 [00:05<00:00,  1.25it/s]\n",
      "Training (16855 / 18000 Steps) (loss=0.47814): 100%|██████████| 7/7 [00:05<00:00,  1.19it/s]\n",
      "Training (16862 / 18000 Steps) (loss=0.30820): 100%|██████████| 7/7 [00:05<00:00,  1.25it/s]\n",
      "Training (16869 / 18000 Steps) (loss=0.30692): 100%|██████████| 7/7 [00:05<00:00,  1.28it/s]\n",
      "Training (16876 / 18000 Steps) (loss=0.50703): 100%|██████████| 7/7 [00:05<00:00,  1.30it/s]\n",
      "Training (16883 / 18000 Steps) (loss=0.66912): 100%|██████████| 7/7 [00:05<00:00,  1.25it/s]\n",
      "Training (16890 / 18000 Steps) (loss=0.50165): 100%|██████████| 7/7 [00:05<00:00,  1.21it/s]\n",
      "Training (16897 / 18000 Steps) (loss=0.40806): 100%|██████████| 7/7 [00:05<00:00,  1.31it/s]\n",
      "Validate (16898 / 10 Steps): 100%|██████████| 2/2 [00:04<00:00,  2.18s/it]<00:08,  1.63s/it]\n",
      "Training (16900 / 18000 Steps) (loss=0.43765):  43%|████▎     | 3/7 [00:08<00:12,  3.09s/it]"
     ]
    },
    {
     "name": "stdout",
     "output_type": "stream",
     "text": [
      "Model Was Not Saved ! Current Best Avg. Dice: 0.3370220363140106 Current Avg. Dice: 0.28162524104118347 Current Avg. tumor Dice: 0.3073405921459198 Current Avg. lymph Dice: 0.25590986013412476\n"
     ]
    },
    {
     "name": "stderr",
     "output_type": "stream",
     "text": [
      "Training (16904 / 18000 Steps) (loss=0.44294): 100%|██████████| 7/7 [00:10<00:00,  1.46s/it]\n",
      "Training (16911 / 18000 Steps) (loss=0.22667): 100%|██████████| 7/7 [00:05<00:00,  1.29it/s]\n",
      "Training (16918 / 18000 Steps) (loss=0.25122): 100%|██████████| 7/7 [00:05<00:00,  1.24it/s]\n",
      "Training (16925 / 18000 Steps) (loss=0.50361): 100%|██████████| 7/7 [00:05<00:00,  1.24it/s]\n",
      "Training (16932 / 18000 Steps) (loss=0.39863): 100%|██████████| 7/7 [00:05<00:00,  1.18it/s]\n",
      "Training (16939 / 18000 Steps) (loss=0.42517): 100%|██████████| 7/7 [00:05<00:00,  1.27it/s]\n",
      "Training (16946 / 18000 Steps) (loss=0.45383): 100%|██████████| 7/7 [00:05<00:00,  1.21it/s]\n",
      "Training (16953 / 18000 Steps) (loss=0.45757): 100%|██████████| 7/7 [00:05<00:00,  1.22it/s]\n",
      "Training (16960 / 18000 Steps) (loss=0.36931): 100%|██████████| 7/7 [00:05<00:00,  1.31it/s]\n",
      "Training (16967 / 18000 Steps) (loss=0.27925): 100%|██████████| 7/7 [00:05<00:00,  1.33it/s]\n",
      "Training (16974 / 18000 Steps) (loss=0.44522): 100%|██████████| 7/7 [00:05<00:00,  1.28it/s]\n",
      "Training (16981 / 18000 Steps) (loss=0.30683): 100%|██████████| 7/7 [00:05<00:00,  1.23it/s]\n",
      "Training (16988 / 18000 Steps) (loss=0.41605): 100%|██████████| 7/7 [00:05<00:00,  1.24it/s]\n",
      "Training (16995 / 18000 Steps) (loss=0.42115): 100%|██████████| 7/7 [00:05<00:00,  1.32it/s]\n",
      "Validate (16996 / 10 Steps): 100%|██████████| 2/2 [00:04<00:00,  2.19s/it]<00:02,  1.32it/s]\n",
      "Training (17000 / 18000 Steps) (loss=0.44120):  71%|███████▏  | 5/7 [00:09<00:04,  2.24s/it]"
     ]
    },
    {
     "name": "stdout",
     "output_type": "stream",
     "text": [
      "Model Was Not Saved ! Current Best Avg. Dice: 0.3370220363140106 Current Avg. Dice: 0.2800675630569458 Current Avg. tumor Dice: 0.3427485525608063 Current Avg. lymph Dice: 0.21738654375076294\n"
     ]
    },
    {
     "name": "stderr",
     "output_type": "stream",
     "text": [
      "Training (17002 / 18000 Steps) (loss=0.16854): 100%|██████████| 7/7 [00:09<00:00,  1.40s/it]\n",
      "Training (17009 / 18000 Steps) (loss=0.50055): 100%|██████████| 7/7 [00:05<00:00,  1.22it/s]\n",
      "Training (17016 / 18000 Steps) (loss=0.37521): 100%|██████████| 7/7 [00:05<00:00,  1.19it/s]\n",
      "Training (17023 / 18000 Steps) (loss=0.44314): 100%|██████████| 7/7 [00:05<00:00,  1.29it/s]\n",
      "Training (17030 / 18000 Steps) (loss=0.46451): 100%|██████████| 7/7 [00:05<00:00,  1.24it/s]\n",
      "Training (17037 / 18000 Steps) (loss=0.44884): 100%|██████████| 7/7 [00:05<00:00,  1.30it/s]\n",
      "Training (17044 / 18000 Steps) (loss=0.45722): 100%|██████████| 7/7 [00:05<00:00,  1.18it/s]\n",
      "Training (17051 / 18000 Steps) (loss=0.35816): 100%|██████████| 7/7 [00:05<00:00,  1.27it/s]\n",
      "Training (17058 / 18000 Steps) (loss=0.42844): 100%|██████████| 7/7 [00:05<00:00,  1.24it/s]\n",
      "Training (17065 / 18000 Steps) (loss=0.23370): 100%|██████████| 7/7 [00:05<00:00,  1.22it/s]\n",
      "Training (17072 / 18000 Steps) (loss=0.53731): 100%|██████████| 7/7 [00:05<00:00,  1.28it/s]\n",
      "Training (17079 / 18000 Steps) (loss=0.66693): 100%|██████████| 7/7 [00:05<00:00,  1.27it/s]\n",
      "Training (17086 / 18000 Steps) (loss=0.48336): 100%|██████████| 7/7 [00:05<00:00,  1.23it/s]\n",
      "Training (17093 / 18000 Steps) (loss=0.52581): 100%|██████████| 7/7 [00:05<00:00,  1.23it/s]\n",
      "Validate (17094 / 10 Steps): 100%|██████████| 2/2 [00:04<00:00,  2.24s/it]<00:00,  1.70it/s]\n",
      "Training (17100 / 18000 Steps) (loss=0.44206): 100%|██████████| 7/7 [00:10<00:00,  1.48s/it]\n"
     ]
    },
    {
     "name": "stdout",
     "output_type": "stream",
     "text": [
      "Model Was Not Saved ! Current Best Avg. Dice: 0.3370220363140106 Current Avg. Dice: 0.27319827675819397 Current Avg. tumor Dice: 0.34043648838996887 Current Avg. lymph Dice: 0.20596006512641907\n"
     ]
    },
    {
     "name": "stderr",
     "output_type": "stream",
     "text": [
      "Training (17107 / 18000 Steps) (loss=0.50041): 100%|██████████| 7/7 [00:05<00:00,  1.31it/s]\n",
      "Training (17114 / 18000 Steps) (loss=0.43430): 100%|██████████| 7/7 [00:05<00:00,  1.33it/s]\n",
      "Training (17121 / 18000 Steps) (loss=0.36526): 100%|██████████| 7/7 [00:05<00:00,  1.21it/s]\n",
      "Training (17128 / 18000 Steps) (loss=0.33759): 100%|██████████| 7/7 [00:05<00:00,  1.27it/s]\n",
      "Training (17135 / 18000 Steps) (loss=0.49291): 100%|██████████| 7/7 [00:05<00:00,  1.26it/s]\n",
      "Training (17142 / 18000 Steps) (loss=0.28519): 100%|██████████| 7/7 [00:05<00:00,  1.25it/s]\n",
      "Training (17149 / 18000 Steps) (loss=0.42234): 100%|██████████| 7/7 [00:05<00:00,  1.31it/s]\n",
      "Training (17156 / 18000 Steps) (loss=0.43475): 100%|██████████| 7/7 [00:05<00:00,  1.29it/s]\n",
      "Training (17163 / 18000 Steps) (loss=0.16249): 100%|██████████| 7/7 [00:05<00:00,  1.26it/s]\n",
      "Training (17170 / 18000 Steps) (loss=0.21745): 100%|██████████| 7/7 [00:05<00:00,  1.24it/s]\n",
      "Training (17177 / 18000 Steps) (loss=0.41154): 100%|██████████| 7/7 [00:05<00:00,  1.29it/s]\n",
      "Training (17184 / 18000 Steps) (loss=0.52950): 100%|██████████| 7/7 [00:05<00:00,  1.21it/s]\n",
      "Training (17191 / 18000 Steps) (loss=0.50192): 100%|██████████| 7/7 [00:05<00:00,  1.30it/s]\n",
      "Training (17198 / 18000 Steps) (loss=0.35271): 100%|██████████| 7/7 [00:05<00:00,  1.20it/s]\n",
      "Validate (17199 / 10 Steps): 100%|██████████| 2/2 [00:04<00:00,  2.19s/it]<00:18,  3.01s/it]\n",
      "Training (17200 / 18000 Steps) (loss=0.27506):  29%|██▊       | 2/7 [00:07<00:20,  4.09s/it]"
     ]
    },
    {
     "name": "stdout",
     "output_type": "stream",
     "text": [
      "Model Was Not Saved ! Current Best Avg. Dice: 0.3370220363140106 Current Avg. Dice: 0.27968519926071167 Current Avg. tumor Dice: 0.3468838930130005 Current Avg. lymph Dice: 0.21248650550842285\n"
     ]
    },
    {
     "name": "stderr",
     "output_type": "stream",
     "text": [
      "Training (17205 / 18000 Steps) (loss=0.59185): 100%|██████████| 7/7 [00:09<00:00,  1.41s/it]\n",
      "Training (17212 / 18000 Steps) (loss=0.45352): 100%|██████████| 7/7 [00:05<00:00,  1.23it/s]\n",
      "Training (17219 / 18000 Steps) (loss=0.49117): 100%|██████████| 7/7 [00:05<00:00,  1.20it/s]\n",
      "Training (17226 / 18000 Steps) (loss=0.51686): 100%|██████████| 7/7 [00:05<00:00,  1.28it/s]\n",
      "Training (17233 / 18000 Steps) (loss=0.53840): 100%|██████████| 7/7 [00:05<00:00,  1.23it/s]\n",
      "Training (17240 / 18000 Steps) (loss=0.31853): 100%|██████████| 7/7 [00:05<00:00,  1.26it/s]\n",
      "Training (17247 / 18000 Steps) (loss=0.35062): 100%|██████████| 7/7 [00:05<00:00,  1.32it/s]\n",
      "Training (17254 / 18000 Steps) (loss=0.16813): 100%|██████████| 7/7 [00:05<00:00,  1.28it/s]\n",
      "Training (17261 / 18000 Steps) (loss=0.50770): 100%|██████████| 7/7 [00:05<00:00,  1.26it/s]\n",
      "Training (17268 / 18000 Steps) (loss=0.41262): 100%|██████████| 7/7 [00:05<00:00,  1.33it/s]\n",
      "Training (17275 / 18000 Steps) (loss=0.39028): 100%|██████████| 7/7 [00:05<00:00,  1.28it/s]\n",
      "Training (17282 / 18000 Steps) (loss=0.38007): 100%|██████████| 7/7 [00:05<00:00,  1.31it/s]\n",
      "Training (17289 / 18000 Steps) (loss=0.43057): 100%|██████████| 7/7 [00:05<00:00,  1.24it/s]\n",
      "Training (17296 / 18000 Steps) (loss=0.35653): 100%|██████████| 7/7 [00:05<00:00,  1.29it/s]\n",
      "Validate (17297 / 10 Steps): 100%|██████████| 2/2 [00:04<00:00,  2.10s/it]<00:04,  1.01s/it]\n",
      "Training (17300 / 18000 Steps) (loss=0.43601):  57%|█████▋    | 4/7 [00:08<00:07,  2.45s/it]"
     ]
    },
    {
     "name": "stdout",
     "output_type": "stream",
     "text": [
      "Model Was Not Saved ! Current Best Avg. Dice: 0.3370220363140106 Current Avg. Dice: 0.27685073018074036 Current Avg. tumor Dice: 0.3102382719516754 Current Avg. lymph Dice: 0.2434632033109665\n"
     ]
    },
    {
     "name": "stderr",
     "output_type": "stream",
     "text": [
      "Training (17303 / 18000 Steps) (loss=0.42424): 100%|██████████| 7/7 [00:09<00:00,  1.39s/it]\n",
      "Training (17310 / 18000 Steps) (loss=0.42046): 100%|██████████| 7/7 [00:05<00:00,  1.27it/s]\n",
      "Training (17317 / 18000 Steps) (loss=0.41139): 100%|██████████| 7/7 [00:05<00:00,  1.25it/s]\n",
      "Training (17324 / 18000 Steps) (loss=0.38862): 100%|██████████| 7/7 [00:05<00:00,  1.24it/s]\n",
      "Training (17331 / 18000 Steps) (loss=0.23018): 100%|██████████| 7/7 [00:06<00:00,  1.15it/s]\n",
      "Training (17338 / 18000 Steps) (loss=0.51294): 100%|██████████| 7/7 [00:05<00:00,  1.25it/s]\n",
      "Training (17345 / 18000 Steps) (loss=0.27837): 100%|██████████| 7/7 [00:05<00:00,  1.32it/s]\n",
      "Training (17352 / 18000 Steps) (loss=0.40093): 100%|██████████| 7/7 [00:05<00:00,  1.30it/s]\n",
      "Training (17359 / 18000 Steps) (loss=0.44985): 100%|██████████| 7/7 [00:05<00:00,  1.30it/s]\n",
      "Training (17366 / 18000 Steps) (loss=0.40120): 100%|██████████| 7/7 [00:05<00:00,  1.30it/s]\n",
      "Training (17373 / 18000 Steps) (loss=0.56402): 100%|██████████| 7/7 [00:05<00:00,  1.30it/s]\n",
      "Training (17380 / 18000 Steps) (loss=0.38694): 100%|██████████| 7/7 [00:05<00:00,  1.35it/s]\n",
      "Training (17387 / 18000 Steps) (loss=0.37478): 100%|██████████| 7/7 [00:05<00:00,  1.26it/s]\n",
      "Training (17394 / 18000 Steps) (loss=0.37961): 100%|██████████| 7/7 [00:05<00:00,  1.33it/s]\n",
      "Validate (17395 / 10 Steps): 100%|██████████| 2/2 [00:04<00:00,  2.10s/it]<00:01,  1.58it/s]\n",
      "Training (17400 / 18000 Steps) (loss=0.33352):  86%|████████▌ | 6/7 [00:09<00:02,  2.00s/it]"
     ]
    },
    {
     "name": "stdout",
     "output_type": "stream",
     "text": [
      "Model Was Not Saved ! Current Best Avg. Dice: 0.3370220363140106 Current Avg. Dice: 0.281187504529953 Current Avg. tumor Dice: 0.3185637593269348 Current Avg. lymph Dice: 0.2438112497329712\n"
     ]
    },
    {
     "name": "stderr",
     "output_type": "stream",
     "text": [
      "Training (17401 / 18000 Steps) (loss=0.54036): 100%|██████████| 7/7 [00:09<00:00,  1.37s/it]\n",
      "Training (17408 / 18000 Steps) (loss=0.49422): 100%|██████████| 7/7 [00:05<00:00,  1.30it/s]\n",
      "Training (17415 / 18000 Steps) (loss=0.26381): 100%|██████████| 7/7 [00:05<00:00,  1.28it/s]\n",
      "Training (17422 / 18000 Steps) (loss=0.51218): 100%|██████████| 7/7 [00:05<00:00,  1.34it/s]\n",
      "Training (17429 / 18000 Steps) (loss=0.34997): 100%|██████████| 7/7 [00:05<00:00,  1.21it/s]\n",
      "Training (17436 / 18000 Steps) (loss=0.23045): 100%|██████████| 7/7 [00:05<00:00,  1.31it/s]\n",
      "Training (17443 / 18000 Steps) (loss=0.58031): 100%|██████████| 7/7 [00:05<00:00,  1.21it/s]\n",
      "Training (17450 / 18000 Steps) (loss=0.25329): 100%|██████████| 7/7 [00:05<00:00,  1.30it/s]\n",
      "Training (17457 / 18000 Steps) (loss=0.37352): 100%|██████████| 7/7 [00:05<00:00,  1.34it/s]\n",
      "Training (17464 / 18000 Steps) (loss=0.40932): 100%|██████████| 7/7 [00:05<00:00,  1.22it/s]\n",
      "Training (17471 / 18000 Steps) (loss=0.23800): 100%|██████████| 7/7 [00:05<00:00,  1.34it/s]\n",
      "Training (17478 / 18000 Steps) (loss=0.48707): 100%|██████████| 7/7 [00:05<00:00,  1.25it/s]\n",
      "Training (17485 / 18000 Steps) (loss=0.42767): 100%|██████████| 7/7 [00:05<00:00,  1.29it/s]\n",
      "Training (17492 / 18000 Steps) (loss=0.29060): 100%|██████████| 7/7 [00:05<00:00,  1.24it/s]\n",
      "Training (17499 / 18000 Steps) (loss=0.55003): 100%|██████████| 7/7 [00:05<00:00,  1.22it/s]\n",
      "Validate (17500 / 10 Steps): 100%|██████████| 2/2 [00:04<00:00,  2.12s/it]<?, ?it/s]\n",
      "Training (17500 / 18000 Steps) (loss=0.30207):  14%|█▍        | 1/7 [00:07<00:44,  7.43s/it]"
     ]
    },
    {
     "name": "stdout",
     "output_type": "stream",
     "text": [
      "Model Was Not Saved ! Current Best Avg. Dice: 0.3370220363140106 Current Avg. Dice: 0.30837374925613403 Current Avg. tumor Dice: 0.3722308278083801 Current Avg. lymph Dice: 0.24451670050621033\n"
     ]
    },
    {
     "name": "stderr",
     "output_type": "stream",
     "text": [
      "Training (17506 / 18000 Steps) (loss=0.30153): 100%|██████████| 7/7 [00:09<00:00,  1.40s/it]\n",
      "Training (X / X Steps) (loss=X.X):   0%|          | 0/7 [00:01<?, ?it/s]\n"
     ]
    },
    {
     "ename": "KeyboardInterrupt",
     "evalue": "",
     "output_type": "error",
     "traceback": [
      "\u001b[0;31m---------------------------------------------------------------------------\u001b[0m",
      "\u001b[0;31mKeyboardInterrupt\u001b[0m                         Traceback (most recent call last)",
      "Cell \u001b[0;32mIn[13], line 106\u001b[0m\n\u001b[1;32m    104\u001b[0m metric_values_lymph \u001b[38;5;241m=\u001b[39m []\n\u001b[1;32m    105\u001b[0m \u001b[38;5;28;01mwhile\u001b[39;00m global_step \u001b[38;5;241m<\u001b[39m max_iterations:\n\u001b[0;32m--> 106\u001b[0m     global_step, dice_val_best, global_step_best \u001b[38;5;241m=\u001b[39m \u001b[43mtrain\u001b[49m\u001b[43m(\u001b[49m\n\u001b[1;32m    107\u001b[0m \u001b[43m        \u001b[49m\u001b[43mglobal_step\u001b[49m\u001b[43m,\u001b[49m\u001b[43m \u001b[49m\u001b[43mtrain_loader\u001b[49m\u001b[43m,\u001b[49m\u001b[43m \u001b[49m\u001b[43mdice_val_best\u001b[49m\u001b[43m,\u001b[49m\u001b[43m \u001b[49m\u001b[43mglobal_step_best\u001b[49m\n\u001b[1;32m    108\u001b[0m \u001b[43m    \u001b[49m\u001b[43m)\u001b[49m\n\u001b[1;32m    109\u001b[0m     \u001b[38;5;66;03m# wandb.log({'learning_rate': optimizer.param_groups[0]['lr']})\u001b[39;00m\n\u001b[1;32m    110\u001b[0m     \u001b[38;5;66;03m# wandb.log({'Best Dice': dice_val_best})\u001b[39;00m\n\u001b[1;32m    111\u001b[0m     epoch \u001b[38;5;241m+\u001b[39m\u001b[38;5;241m=\u001b[39m \u001b[38;5;241m1\u001b[39m\n",
      "Cell \u001b[0;32mIn[13], line 40\u001b[0m, in \u001b[0;36mtrain\u001b[0;34m(global_step, train_loader, dice_val_best, global_step_best)\u001b[0m\n\u001b[1;32m     36\u001b[0m step \u001b[38;5;241m=\u001b[39m \u001b[38;5;241m0\u001b[39m\n\u001b[1;32m     37\u001b[0m epoch_iterator \u001b[38;5;241m=\u001b[39m tqdm(\n\u001b[1;32m     38\u001b[0m     train_loader, desc\u001b[38;5;241m=\u001b[39m\u001b[38;5;124m\"\u001b[39m\u001b[38;5;124mTraining (X / X Steps) (loss=X.X)\u001b[39m\u001b[38;5;124m\"\u001b[39m, dynamic_ncols\u001b[38;5;241m=\u001b[39m\u001b[38;5;28;01mTrue\u001b[39;00m\n\u001b[1;32m     39\u001b[0m )\n\u001b[0;32m---> 40\u001b[0m \u001b[38;5;28;01mfor\u001b[39;00m step, batch \u001b[38;5;129;01min\u001b[39;00m \u001b[38;5;28menumerate\u001b[39m(epoch_iterator):\n\u001b[1;32m     41\u001b[0m     step \u001b[38;5;241m+\u001b[39m\u001b[38;5;241m=\u001b[39m \u001b[38;5;241m1\u001b[39m\n\u001b[1;32m     42\u001b[0m     x, y \u001b[38;5;241m=\u001b[39m (batch[\u001b[38;5;124m\"\u001b[39m\u001b[38;5;124mpt\u001b[39m\u001b[38;5;124m\"\u001b[39m]\u001b[38;5;241m.\u001b[39mcuda(), batch[\u001b[38;5;124m\"\u001b[39m\u001b[38;5;124mseg\u001b[39m\u001b[38;5;124m\"\u001b[39m]\u001b[38;5;241m.\u001b[39mcuda())\n",
      "File \u001b[0;32m~/miniconda3/envs/clam/lib/python3.8/site-packages/tqdm/std.py:1182\u001b[0m, in \u001b[0;36mtqdm.__iter__\u001b[0;34m(self)\u001b[0m\n\u001b[1;32m   1179\u001b[0m time \u001b[38;5;241m=\u001b[39m \u001b[38;5;28mself\u001b[39m\u001b[38;5;241m.\u001b[39m_time\n\u001b[1;32m   1181\u001b[0m \u001b[38;5;28;01mtry\u001b[39;00m:\n\u001b[0;32m-> 1182\u001b[0m     \u001b[38;5;28;01mfor\u001b[39;00m obj \u001b[38;5;129;01min\u001b[39;00m iterable:\n\u001b[1;32m   1183\u001b[0m         \u001b[38;5;28;01myield\u001b[39;00m obj\n\u001b[1;32m   1184\u001b[0m         \u001b[38;5;66;03m# Update and possibly print the progressbar.\u001b[39;00m\n\u001b[1;32m   1185\u001b[0m         \u001b[38;5;66;03m# Note: does not call self.update(1) for speed optimisation.\u001b[39;00m\n",
      "File \u001b[0;32m~/miniconda3/envs/clam/lib/python3.8/site-packages/torch/utils/data/dataloader.py:630\u001b[0m, in \u001b[0;36m_BaseDataLoaderIter.__next__\u001b[0;34m(self)\u001b[0m\n\u001b[1;32m    627\u001b[0m \u001b[38;5;28;01mif\u001b[39;00m \u001b[38;5;28mself\u001b[39m\u001b[38;5;241m.\u001b[39m_sampler_iter \u001b[38;5;129;01mis\u001b[39;00m \u001b[38;5;28;01mNone\u001b[39;00m:\n\u001b[1;32m    628\u001b[0m     \u001b[38;5;66;03m# TODO(https://github.com/pytorch/pytorch/issues/76750)\u001b[39;00m\n\u001b[1;32m    629\u001b[0m     \u001b[38;5;28mself\u001b[39m\u001b[38;5;241m.\u001b[39m_reset()  \u001b[38;5;66;03m# type: ignore[call-arg]\u001b[39;00m\n\u001b[0;32m--> 630\u001b[0m data \u001b[38;5;241m=\u001b[39m \u001b[38;5;28;43mself\u001b[39;49m\u001b[38;5;241;43m.\u001b[39;49m\u001b[43m_next_data\u001b[49m\u001b[43m(\u001b[49m\u001b[43m)\u001b[49m\n\u001b[1;32m    631\u001b[0m \u001b[38;5;28mself\u001b[39m\u001b[38;5;241m.\u001b[39m_num_yielded \u001b[38;5;241m+\u001b[39m\u001b[38;5;241m=\u001b[39m \u001b[38;5;241m1\u001b[39m\n\u001b[1;32m    632\u001b[0m \u001b[38;5;28;01mif\u001b[39;00m \u001b[38;5;28mself\u001b[39m\u001b[38;5;241m.\u001b[39m_dataset_kind \u001b[38;5;241m==\u001b[39m _DatasetKind\u001b[38;5;241m.\u001b[39mIterable \u001b[38;5;129;01mand\u001b[39;00m \\\n\u001b[1;32m    633\u001b[0m         \u001b[38;5;28mself\u001b[39m\u001b[38;5;241m.\u001b[39m_IterableDataset_len_called \u001b[38;5;129;01mis\u001b[39;00m \u001b[38;5;129;01mnot\u001b[39;00m \u001b[38;5;28;01mNone\u001b[39;00m \u001b[38;5;129;01mand\u001b[39;00m \\\n\u001b[1;32m    634\u001b[0m         \u001b[38;5;28mself\u001b[39m\u001b[38;5;241m.\u001b[39m_num_yielded \u001b[38;5;241m>\u001b[39m \u001b[38;5;28mself\u001b[39m\u001b[38;5;241m.\u001b[39m_IterableDataset_len_called:\n",
      "File \u001b[0;32m~/miniconda3/envs/clam/lib/python3.8/site-packages/torch/utils/data/dataloader.py:1328\u001b[0m, in \u001b[0;36m_MultiProcessingDataLoaderIter._next_data\u001b[0;34m(self)\u001b[0m\n\u001b[1;32m   1325\u001b[0m     \u001b[38;5;28;01mreturn\u001b[39;00m \u001b[38;5;28mself\u001b[39m\u001b[38;5;241m.\u001b[39m_process_data(data)\n\u001b[1;32m   1327\u001b[0m \u001b[38;5;28;01massert\u001b[39;00m \u001b[38;5;129;01mnot\u001b[39;00m \u001b[38;5;28mself\u001b[39m\u001b[38;5;241m.\u001b[39m_shutdown \u001b[38;5;129;01mand\u001b[39;00m \u001b[38;5;28mself\u001b[39m\u001b[38;5;241m.\u001b[39m_tasks_outstanding \u001b[38;5;241m>\u001b[39m \u001b[38;5;241m0\u001b[39m\n\u001b[0;32m-> 1328\u001b[0m idx, data \u001b[38;5;241m=\u001b[39m \u001b[38;5;28;43mself\u001b[39;49m\u001b[38;5;241;43m.\u001b[39;49m\u001b[43m_get_data\u001b[49m\u001b[43m(\u001b[49m\u001b[43m)\u001b[49m\n\u001b[1;32m   1329\u001b[0m \u001b[38;5;28mself\u001b[39m\u001b[38;5;241m.\u001b[39m_tasks_outstanding \u001b[38;5;241m-\u001b[39m\u001b[38;5;241m=\u001b[39m \u001b[38;5;241m1\u001b[39m\n\u001b[1;32m   1330\u001b[0m \u001b[38;5;28;01mif\u001b[39;00m \u001b[38;5;28mself\u001b[39m\u001b[38;5;241m.\u001b[39m_dataset_kind \u001b[38;5;241m==\u001b[39m _DatasetKind\u001b[38;5;241m.\u001b[39mIterable:\n\u001b[1;32m   1331\u001b[0m     \u001b[38;5;66;03m# Check for _IterableDatasetStopIteration\u001b[39;00m\n",
      "File \u001b[0;32m~/miniconda3/envs/clam/lib/python3.8/site-packages/torch/utils/data/dataloader.py:1284\u001b[0m, in \u001b[0;36m_MultiProcessingDataLoaderIter._get_data\u001b[0;34m(self)\u001b[0m\n\u001b[1;32m   1282\u001b[0m \u001b[38;5;28;01melif\u001b[39;00m \u001b[38;5;28mself\u001b[39m\u001b[38;5;241m.\u001b[39m_pin_memory:\n\u001b[1;32m   1283\u001b[0m     \u001b[38;5;28;01mwhile\u001b[39;00m \u001b[38;5;28mself\u001b[39m\u001b[38;5;241m.\u001b[39m_pin_memory_thread\u001b[38;5;241m.\u001b[39mis_alive():\n\u001b[0;32m-> 1284\u001b[0m         success, data \u001b[38;5;241m=\u001b[39m \u001b[38;5;28;43mself\u001b[39;49m\u001b[38;5;241;43m.\u001b[39;49m\u001b[43m_try_get_data\u001b[49m\u001b[43m(\u001b[49m\u001b[43m)\u001b[49m\n\u001b[1;32m   1285\u001b[0m         \u001b[38;5;28;01mif\u001b[39;00m success:\n\u001b[1;32m   1286\u001b[0m             \u001b[38;5;28;01mreturn\u001b[39;00m data\n",
      "File \u001b[0;32m~/miniconda3/envs/clam/lib/python3.8/site-packages/torch/utils/data/dataloader.py:1132\u001b[0m, in \u001b[0;36m_MultiProcessingDataLoaderIter._try_get_data\u001b[0;34m(self, timeout)\u001b[0m\n\u001b[1;32m   1119\u001b[0m \u001b[38;5;28;01mdef\u001b[39;00m \u001b[38;5;21m_try_get_data\u001b[39m(\u001b[38;5;28mself\u001b[39m, timeout\u001b[38;5;241m=\u001b[39m_utils\u001b[38;5;241m.\u001b[39mMP_STATUS_CHECK_INTERVAL):\n\u001b[1;32m   1120\u001b[0m     \u001b[38;5;66;03m# Tries to fetch data from `self._data_queue` once for a given timeout.\u001b[39;00m\n\u001b[1;32m   1121\u001b[0m     \u001b[38;5;66;03m# This can also be used as inner loop of fetching without timeout, with\u001b[39;00m\n\u001b[0;32m   (...)\u001b[0m\n\u001b[1;32m   1129\u001b[0m     \u001b[38;5;66;03m# Returns a 2-tuple:\u001b[39;00m\n\u001b[1;32m   1130\u001b[0m     \u001b[38;5;66;03m#   (bool: whether successfully get data, any: data if successful else None)\u001b[39;00m\n\u001b[1;32m   1131\u001b[0m     \u001b[38;5;28;01mtry\u001b[39;00m:\n\u001b[0;32m-> 1132\u001b[0m         data \u001b[38;5;241m=\u001b[39m \u001b[38;5;28;43mself\u001b[39;49m\u001b[38;5;241;43m.\u001b[39;49m\u001b[43m_data_queue\u001b[49m\u001b[38;5;241;43m.\u001b[39;49m\u001b[43mget\u001b[49m\u001b[43m(\u001b[49m\u001b[43mtimeout\u001b[49m\u001b[38;5;241;43m=\u001b[39;49m\u001b[43mtimeout\u001b[49m\u001b[43m)\u001b[49m\n\u001b[1;32m   1133\u001b[0m         \u001b[38;5;28;01mreturn\u001b[39;00m (\u001b[38;5;28;01mTrue\u001b[39;00m, data)\n\u001b[1;32m   1134\u001b[0m     \u001b[38;5;28;01mexcept\u001b[39;00m \u001b[38;5;167;01mException\u001b[39;00m \u001b[38;5;28;01mas\u001b[39;00m e:\n\u001b[1;32m   1135\u001b[0m         \u001b[38;5;66;03m# At timeout and error, we manually check whether any worker has\u001b[39;00m\n\u001b[1;32m   1136\u001b[0m         \u001b[38;5;66;03m# failed. Note that this is the only mechanism for Windows to detect\u001b[39;00m\n\u001b[1;32m   1137\u001b[0m         \u001b[38;5;66;03m# worker failures.\u001b[39;00m\n",
      "File \u001b[0;32m~/miniconda3/envs/clam/lib/python3.8/queue.py:179\u001b[0m, in \u001b[0;36mQueue.get\u001b[0;34m(self, block, timeout)\u001b[0m\n\u001b[1;32m    177\u001b[0m         \u001b[38;5;28;01mif\u001b[39;00m remaining \u001b[38;5;241m<\u001b[39m\u001b[38;5;241m=\u001b[39m \u001b[38;5;241m0.0\u001b[39m:\n\u001b[1;32m    178\u001b[0m             \u001b[38;5;28;01mraise\u001b[39;00m Empty\n\u001b[0;32m--> 179\u001b[0m         \u001b[38;5;28;43mself\u001b[39;49m\u001b[38;5;241;43m.\u001b[39;49m\u001b[43mnot_empty\u001b[49m\u001b[38;5;241;43m.\u001b[39;49m\u001b[43mwait\u001b[49m\u001b[43m(\u001b[49m\u001b[43mremaining\u001b[49m\u001b[43m)\u001b[49m\n\u001b[1;32m    180\u001b[0m item \u001b[38;5;241m=\u001b[39m \u001b[38;5;28mself\u001b[39m\u001b[38;5;241m.\u001b[39m_get()\n\u001b[1;32m    181\u001b[0m \u001b[38;5;28mself\u001b[39m\u001b[38;5;241m.\u001b[39mnot_full\u001b[38;5;241m.\u001b[39mnotify()\n",
      "File \u001b[0;32m~/miniconda3/envs/clam/lib/python3.8/threading.py:306\u001b[0m, in \u001b[0;36mCondition.wait\u001b[0;34m(self, timeout)\u001b[0m\n\u001b[1;32m    304\u001b[0m \u001b[38;5;28;01melse\u001b[39;00m:\n\u001b[1;32m    305\u001b[0m     \u001b[38;5;28;01mif\u001b[39;00m timeout \u001b[38;5;241m>\u001b[39m \u001b[38;5;241m0\u001b[39m:\n\u001b[0;32m--> 306\u001b[0m         gotit \u001b[38;5;241m=\u001b[39m \u001b[43mwaiter\u001b[49m\u001b[38;5;241;43m.\u001b[39;49m\u001b[43macquire\u001b[49m\u001b[43m(\u001b[49m\u001b[38;5;28;43;01mTrue\u001b[39;49;00m\u001b[43m,\u001b[49m\u001b[43m \u001b[49m\u001b[43mtimeout\u001b[49m\u001b[43m)\u001b[49m\n\u001b[1;32m    307\u001b[0m     \u001b[38;5;28;01melse\u001b[39;00m:\n\u001b[1;32m    308\u001b[0m         gotit \u001b[38;5;241m=\u001b[39m waiter\u001b[38;5;241m.\u001b[39macquire(\u001b[38;5;28;01mFalse\u001b[39;00m)\n",
      "\u001b[0;31mKeyboardInterrupt\u001b[0m: "
     ]
    }
   ],
   "source": [
    "model_dir = '/home/nada.saadi/CTPET/hecktor2022_cropped/early_pret_7th_pet'\n",
    "\n",
    "def validation(epoch_iterator_val):\n",
    "    model.eval()\n",
    "    with torch.no_grad():\n",
    "        for step, batch in enumerate(epoch_iterator_val):\n",
    "            val_inputs, val_labels = (batch[\"pt\"].cuda(), batch[\"seg\"].cuda())\n",
    "            val_outputs = sliding_window_inference(val_inputs, (96, 96, 96), 4, model)\n",
    "            val_labels_list = decollate_batch(val_labels)\n",
    "            val_labels_convert = [\n",
    "                post_label(val_label_tensor) for val_label_tensor in val_labels_list\n",
    "            ]\n",
    "            val_outputs_list = decollate_batch(val_outputs)\n",
    "            val_output_convert = [\n",
    "                post_pred(val_pred_tensor) for val_pred_tensor in val_outputs_list\n",
    "            ]\n",
    "            dice_metric(y_pred=val_output_convert, y=val_labels_convert)\n",
    "            dice_metric_batch(y_pred=val_output_convert, y=val_labels_convert)\n",
    "            epoch_iterator_val.set_description(\n",
    "                \"Validate (%d / %d Steps)\" % (global_step, 10.0)\n",
    "            )\n",
    "        mean_dice_val = dice_metric.aggregate().item()\n",
    "        metric_batch_val = dice_metric_batch.aggregate()\n",
    "\n",
    "        metric_tumor = metric_batch_val[0].item()\n",
    "        metric_lymph = metric_batch_val[1].item()\n",
    "\n",
    "        dice_metric.reset()\n",
    "        dice_metric_batch.reset()\n",
    "    return mean_dice_val, metric_tumor, metric_lymph\n",
    "\n",
    "\n",
    "def train(global_step, train_loader, dice_val_best, global_step_best):\n",
    "    model.train()\n",
    "    epoch_loss = 0\n",
    "    step = 0\n",
    "    epoch_iterator = tqdm(\n",
    "        train_loader, desc=\"Training (X / X Steps) (loss=X.X)\", dynamic_ncols=True\n",
    "    )\n",
    "    for step, batch in enumerate(epoch_iterator):\n",
    "        step += 1\n",
    "        x, y = (batch[\"pt\"].cuda(), batch[\"seg\"].cuda())\n",
    "        logit_map = model(x)\n",
    "        loss = loss_function(logit_map, y)\n",
    "        loss.backward()\n",
    "        epoch_loss += loss.item()\n",
    "        optimizer.step()\n",
    "        optimizer.zero_grad()\n",
    "        epoch_iterator.set_description(\n",
    "            \"Training (%d / %d Steps) (loss=%2.5f)\"\n",
    "            % (global_step, max_iterations, loss)\n",
    "        )\n",
    "        if (\n",
    "            global_step % eval_num == 0 and global_step != 0\n",
    "        ) or global_step == max_iterations:\n",
    "            epoch_iterator_val = tqdm(\n",
    "                val_loader, desc=\"Validate (X / X Steps) (dice=X.X)\", dynamic_ncols=True\n",
    "            )\n",
    "            dice_val, metric_tumor, metric_lymph = validation(epoch_iterator_val)\n",
    "            epoch_loss /= step\n",
    "            epoch_loss_values.append(epoch_loss)\n",
    "            metric_values.append(dice_val)\n",
    "            metric_values_tumor.append(metric_tumor)\n",
    "            metric_values_lymph.append(metric_lymph)\n",
    "            if dice_val > dice_val_best:\n",
    "                dice_val_best = dice_val\n",
    "                global_step_best = global_step\n",
    "                torch.save(\n",
    "                    model.state_dict(), os.path.join(model_dir, \"early_7th_pret_ctonlyonpet.pth\")\n",
    "                )\n",
    "                print(\n",
    "                    \"Model Was Saved ! Current Best Avg. Dice: {} Current Avg. Dice: {} Current Avg. tumor Dice: {} Current Avg. lymph Dice: {}\".format(\n",
    "                        dice_val_best, dice_val, metric_tumor, metric_lymph\n",
    "                    )\n",
    "                )\n",
    "            else:\n",
    "                print(\n",
    "                    \"Model Was Not Saved ! Current Best Avg. Dice: {} Current Avg. Dice: {} Current Avg. tumor Dice: {} Current Avg. lymph Dice: {}\".format(\n",
    "                        dice_val_best, dice_val,  metric_tumor, metric_lymph\n",
    "                    )\n",
    "                )\n",
    "        global_step += 1\n",
    "    return global_step, dice_val_best, global_step_best\n",
    "\n",
    "\n",
    "max_iterations = 18000\n",
    "eval_num = 100\n",
    "\n",
    "post_label = AsDiscrete(to_onehot=3)\n",
    "post_pred = AsDiscrete(argmax=True, to_onehot=3)\n",
    "\n",
    "dice_metric = DiceMetric(include_background=False, reduction=\"mean\", get_not_nans=False)\n",
    "dice_metric_batch = DiceMetric(include_background=False, reduction=\"mean_batch\")\n",
    "\n",
    "epoch = 0\n",
    "max_num_epochs = 530\n",
    "\n",
    "global_step = 0\n",
    "dice_val_best = 0.0\n",
    "global_step_best = 0\n",
    "epoch_loss_values = []\n",
    "metric_values = []\n",
    "metric_values_tumor = []\n",
    "metric_values_lymph = []\n",
    "while global_step < max_iterations:\n",
    "    global_step, dice_val_best, global_step_best = train(\n",
    "        global_step, train_loader, dice_val_best, global_step_best\n",
    "    )\n",
    "    # wandb.log({'learning_rate': optimizer.param_groups[0]['lr']})\n",
    "    # wandb.log({'Best Dice': dice_val_best})\n",
    "    epoch += 1\n",
    "    #optimizer.param_groups[0]['lr'] = poly_lr(epoch, max_num_epochs, 0.005676 , 0.9)\n",
    "# model.load_state_dict(torch.load(os.path.join(model_dir, \"best_metric_luck_UNETr_prompt.pth\")))"
   ]
  }
 ],
 "metadata": {
  "kernelspec": {
   "display_name": "clam",
   "language": "python",
   "name": "python3"
  },
  "language_info": {
   "codemirror_mode": {
    "name": "ipython",
    "version": 3
   },
   "file_extension": ".py",
   "mimetype": "text/x-python",
   "name": "python",
   "nbconvert_exporter": "python",
   "pygments_lexer": "ipython3",
   "version": "3.8.0"
  }
 },
 "nbformat": 4,
 "nbformat_minor": 2
}
