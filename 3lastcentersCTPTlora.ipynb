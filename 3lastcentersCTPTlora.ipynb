{
 "cells": [
  {
   "cell_type": "code",
   "execution_count": 1,
   "metadata": {},
   "outputs": [
    {
     "name": "stdout",
     "output_type": "stream",
     "text": [
      "1\n"
     ]
    },
    {
     "name": "stderr",
     "output_type": "stream",
     "text": [
      "/tmp/ipykernel_801338/3390658602.py:9: TqdmWarning: IProgress not found. Please update jupyter and ipywidgets. See https://ipywidgets.readthedocs.io/en/stable/user_install.html\n",
      "  from tqdm.autonotebook import tqdm\n"
     ]
    }
   ],
   "source": [
    "import torch\n",
    "import torch.nn as nn\n",
    "from torch.utils.data import DataLoader\n",
    "from collections.abc import Sequence\n",
    "\n",
    "from unetr import CustomedUNETR\n",
    "\n",
    "import json\n",
    "from tqdm.autonotebook import tqdm\n",
    "import os\n",
    "os.environ[\"CUDA_DEVICE_ORDER\"] = \"PCI_BUS_ID\"\n",
    "os.environ[\"CUDA_VISIBLE_DEVICES\"] = \"6\" \n",
    "\n",
    "print(torch.cuda.device_count())\n",
    "torch.backends.cudnn.benchmark = True\n",
    "device = torch.device(\"cuda\" if torch.cuda.is_available() else \"cpu\")"
   ]
  },
  {
   "cell_type": "code",
   "execution_count": null,
   "metadata": {},
   "outputs": [],
   "source": []
  },
  {
   "cell_type": "code",
   "execution_count": 2,
   "metadata": {},
   "outputs": [],
   "source": [
    "import os\n",
    "import shutil\n",
    "import tempfile\n",
    "\n",
    "import matplotlib.pyplot as plt\n",
    "import numpy as np\n",
    "from tqdm import tqdm\n",
    "from glob import glob\n",
    "# import wandb\n",
    "\n",
    "import monai\n",
    "from monai.losses import DiceCELoss, DiceFocalLoss, FocalLoss\n",
    "from monai.inferers import sliding_window_inference\n",
    "from monai import transforms\n",
    "\n",
    "from monai.transforms import (\n",
    "    AsDiscrete,\n",
    "    Compose,\n",
    "    CropForegroundd,\n",
    "    LoadImaged,\n",
    "    Orientationd,\n",
    "    RandFlipd,\n",
    "    RandCropByPosNegLabeld,\n",
    "    RandShiftIntensityd,\n",
    "    ScaleIntensityRanged,\n",
    "    Spacingd,\n",
    "    RandRotate90d,\n",
    "    MapTransform,\n",
    "    ScaleIntensityd,\n",
    "    #AddChanneld,\n",
    "    SpatialPadd,\n",
    "    CenterSpatialCropd,\n",
    "    EnsureChannelFirstd,\n",
    "    ConcatItemsd,\n",
    "    AdjustContrastd, \n",
    "    Rand3DElasticd,\n",
    "    HistogramNormalized,\n",
    "     NormalizeIntensityd,\n",
    "    Invertd,\n",
    "    SaveImage,\n",
    "\n",
    ")\n",
    "\n",
    "from monai.config import print_config\n",
    "from monai.metrics import DiceMetric\n",
    "from monai.networks.nets import SwinUNETR, UNETR, SegResNet\n",
    "\n",
    "from monai.data import (\n",
    "    DataLoader,\n",
    "    CacheDataset,\n",
    "    load_decathlon_datalist,\n",
    "    decollate_batch,\n",
    ")\n",
    "from monai import data\n",
    "\n",
    "\n",
    "from monai.utils import first, set_determinism\n",
    "from sklearn.model_selection import train_test_split\n",
    "import json\n",
    "\n",
    "\n",
    "import torch\n",
    "from monai.transforms import EnsureTyped\n",
    "from monai.transforms import Compose, LoadImaged, ScaleIntensityRanged, ConcatItemsd\n",
    "from monai.metrics import DiceMetric\n",
    "from monai.losses import DiceCELoss, DiceFocalLoss, FocalLoss\n",
    "from monai.inferers import sliding_window_inference\n",
    "\n",
    "\n",
    "from monai.data import (\n",
    "    Dataset,\n",
    "    DataLoader,\n",
    "    CacheDataset,\n",
    "    load_decathlon_datalist,\n",
    "    decollate_batch,\n",
    ")\n",
    "\n",
    "\n",
    "from monai.transforms import (\n",
    "    AsDiscrete,\n",
    "    Compose,\n",
    "    CropForegroundd,\n",
    "    LoadImaged,\n",
    "    Orientationd,\n",
    "    RandFlipd,\n",
    "    RandCropByPosNegLabeld,\n",
    "    RandShiftIntensityd,\n",
    "    ScaleIntensityRanged,\n",
    "    Spacingd,\n",
    "    RandRotate90d,\n",
    "    MapTransform,\n",
    "    ScaleIntensityd,\n",
    "    #AddChanneld,\n",
    "    SpatialPadd,\n",
    "    CenterSpatialCropd,\n",
    "    EnsureChannelFirstd,\n",
    "    ConcatItemsd,\n",
    "    AdjustContrastd, \n",
    "    Rand3DElasticd,\n",
    "    HistogramNormalized,\n",
    "    NormalizeIntensityd,\n",
    "    Invertd,\n",
    "    SaveImage,\n",
    "\n",
    ")"
   ]
  },
  {
   "cell_type": "code",
   "execution_count": 3,
   "metadata": {},
   "outputs": [],
   "source": [
    "set_determinism(seed=1024)"
   ]
  },
  {
   "cell_type": "code",
   "execution_count": 4,
   "metadata": {},
   "outputs": [],
   "source": [
    "#import os\n",
    "#import json\n",
    "#import random\n",
    "#from glob import glob\n",
    "\n",
    "#def generate_paths(patient_id):\n",
    " #   base_dir = '/home/nada.saadi/MIS-FM/hecktor2022_cropped/data'\n",
    "  #  return {\n",
    "   #     'id': os.path.join(base_dir, patient_id),\n",
    "    #    'ct': os.path.join(base_dir, patient_id, f\"{patient_id}_ct.nii.gz\"),\n",
    "     #   'pt': os.path.join(base_dir, patient_id, f\"{patient_id}_pt.nii.gz\"),\n",
    "      #  'seg': os.path.join(base_dir, patient_id, f\"{patient_id}_gt.nii.gz\")\n",
    "    #}\n",
    "# Assign each data entry to a random fold\n",
    "##num_folds = 5\n",
    "#centers = ['HGJ', 'HMR', 'MDA']  # Centers to include\n",
    "\n",
    "#for file_dir in sorted(glob('data/*')):\n",
    " #   patient_id = file_dir.split('/')[-1]\n",
    "  #  # Check if the file belongs to one of the specified centers\n",
    "   # if any(patient_id.startswith(center) for center in centers):\n",
    "    #    entry = generate_paths(patient_id)\n",
    "     #   entry['fold'] = random.randint(1, num_folds) - 1\n",
    "      #  all_data.append(entry)\n",
    "\n",
    "# Compile data into a JSON structure\n",
    "#data_json = {\"training\": all_data}\n",
    "\n",
    "# Save to JSON file\n",
    "#json_file_path = \"/home/nada.saadi/MIS-FM/hecktor2022_cropped/3lastcenters-CTPT.json\"\n",
    "#with open(json_file_path, 'w') as f:\n",
    " #   json.dump(data_json, f, indent=4)\n",
    "\n",
    "#print(f\"JSON file created at {json_file_path}\")"
   ]
  },
  {
   "cell_type": "code",
   "execution_count": 5,
   "metadata": {},
   "outputs": [],
   "source": [
    "data_dir = '/home/nada.saadi/MIS-FM/hecktor2022_cropped'\n",
    "json_dir = '/home/nada.saadi/CTPET/hecktor2022_cropped/MDA_CTPT_TRAIN.json'"
   ]
  },
  {
   "cell_type": "code",
   "execution_count": 6,
   "metadata": {},
   "outputs": [],
   "source": [
    "def datafold_read(datalist, basedir, fold=0, key=\"training\"):\n",
    "    with open(datalist) as f:\n",
    "        json_data = json.load(f)\n",
    "\n",
    "    json_data = json_data[key]\n",
    "\n",
    "    for d in json_data:\n",
    "        for k in d:\n",
    "            if isinstance(d[k], list):\n",
    "                d[k] = [os.path.join(basedir, iv) for iv in d[k]]\n",
    "            elif isinstance(d[k], str):\n",
    "                d[k] = os.path.join(basedir, d[k]) if len(d[k]) > 0 else d[k]\n",
    "\n",
    "    tr = []\n",
    "    val = []\n",
    "    for d in json_data:\n",
    "        if \"fold\" in d and d[\"fold\"] == fold:\n",
    "            val.append(d)\n",
    "        else:\n",
    "            tr.append(d)\n",
    "\n",
    "    return tr, val\n"
   ]
  },
  {
   "cell_type": "code",
   "execution_count": 7,
   "metadata": {},
   "outputs": [
    {
     "data": {
      "text/plain": [
       "(152, 44)"
      ]
     },
     "execution_count": 7,
     "metadata": {},
     "output_type": "execute_result"
    }
   ],
   "source": [
    "train_files, validation_files = datafold_read(datalist=json_dir, basedir=data_dir, fold=0)\n",
    "len(train_files), len(validation_files)"
   ]
  },
  {
   "cell_type": "code",
   "execution_count": 8,
   "metadata": {},
   "outputs": [],
   "source": [
    "num_samples = 1\n",
    "\n",
    "class ClipCT(MapTransform):\n",
    "    \"\"\"\n",
    "    Convert labels to multi channels based on hecktor classes:\n",
    "    label 1 is the tumor\n",
    "    label 2 is the lymph node\n",
    "\n",
    "    \"\"\"\n",
    "\n",
    "    def __call__(self, data):\n",
    "        d = dict(data)\n",
    "        for key in self.keys:\n",
    "            if key == \"ct\":\n",
    "                d[key] = torch.clip(d[key], min=-200, max=200)\n",
    "            # elif key == \"pt\":\n",
    "            #     d[key] = torch.clip(d[key], d[key].min(), 5)\n",
    "        return d\n",
    "\n",
    "train_transforms = Compose(\n",
    "    [\n",
    "        LoadImaged(keys=[\"ct\", \"pt\", \"seg\"], ensure_channel_first=True),\n",
    "        SpatialPadd(keys=[\"ct\", \"pt\", \"seg\"], spatial_size=(200, 200, 310), method='end'),\n",
    "        Orientationd(keys=[\"ct\", \"pt\", \"seg\"], axcodes=\"PLS\"),\n",
    "        NormalizeIntensityd(keys=[\"pt\"]),\n",
    "        ClipCT(keys=[\"ct\"]),\n",
    "        ScaleIntensityd(keys=[\"ct\"], minv=0, maxv=1),\n",
    "        ConcatItemsd(keys=[\"pt\", \"ct\"], name=\"ctpt\"),  # Concatenate CT and PET\n",
    "        RandCropByPosNegLabeld(\n",
    "            keys=[\"ctpt\", \"seg\"],\n",
    "            label_key=\"seg\",\n",
    "            spatial_size=(96, 96, 96),\n",
    "            pos=1,\n",
    "            neg=1,\n",
    "            num_samples=num_samples,\n",
    "            image_key=\"ctpt\",\n",
    "            image_threshold=0,\n",
    "            ),\n",
    "        RandFlipd(keys=[\"ctpt\", \"seg\"], spatial_axis=[0], prob=0.20),\n",
    "        RandFlipd(keys=[\"ctpt\", \"seg\"], spatial_axis=[1], prob=0.20),\n",
    "        RandFlipd(keys=[\"ctpt\", \"seg\"], spatial_axis=[2], prob=0.20),\n",
    "        RandRotate90d(keys=[\"ctpt\", \"seg\"], prob=0.20, max_k=3),\n",
    "        EnsureTyped(keys=[\"ctpt\", \"seg\"]),\n",
    "    \n",
    "    ]\n",
    ")\n",
    "\n",
    "val_transforms = Compose(\n",
    "    [\n",
    "        LoadImaged(keys=[\"ct\", \"pt\", \"seg\"], ensure_channel_first=True),\n",
    "        SpatialPadd(keys=[\"ct\", \"pt\", \"seg\"], spatial_size=(200, 200, 310), method='end'),\n",
    "        Orientationd(keys=[\"ct\", \"pt\", \"seg\"], axcodes=\"PLS\"),\n",
    "        NormalizeIntensityd(keys=[\"pt\"]),\n",
    "        ClipCT(keys=[\"ct\"]),\n",
    "        ScaleIntensityd(keys=[\"ct\"], minv=0, maxv=1),\n",
    "        ConcatItemsd(keys=[\"pt\", \"ct\"], name=\"ctpt\"),# Concatenate CT and PET\n",
    "        EnsureTyped(keys=[\"ctpt\", \"seg\"]),\n",
    "    ]\n",
    ")\n",
    "\n",
    "\n",
    "##----------\n",
    "\n",
    "def create_dataloader(data, transforms, batch_size=2, shuffle=True):\n",
    "    # Create CacheDataset with the reformatted data\n",
    "    dataset = Dataset(data=data, transform=transforms)\n",
    "\n",
    "    # Create DataLoader\n",
    "    return DataLoader(dataset, batch_size=batch_size, shuffle=shuffle, num_workers=8)\n",
    "\n",
    "\n",
    "train_loader = create_dataloader(train_files, train_transforms, shuffle=True)\n",
    "val_loader = create_dataloader(validation_files, val_transforms, shuffle=False)"
   ]
  },
  {
   "cell_type": "code",
   "execution_count": 9,
   "metadata": {},
   "outputs": [
    {
     "name": "stderr",
     "output_type": "stream",
     "text": [
      "/home/nada.saadi/miniconda3/envs/clam/lib/python3.8/site-packages/monai/utils/deprecate_utils.py:221: FutureWarning: unetr CustomedUNETR.__init__:pos_embed: Argument `pos_embed` has been deprecated since version 1.2. It will be removed in version 1.4. please use `proj_type` instead.\n",
      "  warn_deprecated(argname, msg, warning_category)\n"
     ]
    },
    {
     "name": "stdout",
     "output_type": "stream",
     "text": [
      "Nada's version of UNETR\n",
      "(96, 96, 96)\n",
      "(16, 16, 16)\n",
      "(6, 6, 6)\n",
      "768\n"
     ]
    }
   ],
   "source": [
    "model = CustomedUNETR(\n",
    "    in_channels=2,  # Number of input channels\n",
    "    out_channels=3,  # Number of output channels\n",
    "    img_size=(96, 96, 96),  # Size of the input image\n",
    "    feature_size=48,  # Size of the feature maps\n",
    "    hidden_size=768,\n",
    "    num_heads = 12,# Size of the hidden layers in the transformer\n",
    "    mlp_dim=3072,  # Dimension of the MLP in the transformer\n",
    "    pos_embed=\"perceptron\",  # Type of positional embedding\n",
    "    norm_name=\"instance\",  # Type of normalization\n",
    "    res_block=True,  # Whether to use residual blocks\n",
    "    dropout_rate=0.0,\n",
    "    proj_type= \"conv\",\n",
    "    r=4,\n",
    "    lora_layer=None,\n",
    "    \n",
    ").to(device) "
   ]
  },
  {
   "cell_type": "code",
   "execution_count": 10,
   "metadata": {},
   "outputs": [],
   "source": [
    "def poly_lr(epoch, max_epochs, initial_lr, exponent=0.9):\n",
    "    return initial_lr * (1 - epoch / max_epochs)**exponent\n",
    "\n",
    "model_dir='/home/nada.saadi/CTPET/hecktor2022_cropped/3lastcentersCTPT'\n",
    "\n",
    "max_iterations = 18000\n",
    "eval_num = 100\n",
    "\n",
    "## running stats\n",
    "global_step = 0\n",
    "dice_val_best = 0.0\n",
    "global_step_best = 0\n",
    "epoch_loss_values = []\n",
    "metric_values = []\n",
    "metric_values_tumor = []\n",
    "metric_values_lymph = []\n",
    "\n",
    "\n",
    "loss_function = DiceCELoss(to_onehot_y=True, softmax=True)\n",
    "optimizer = torch.optim.AdamW(model.parameters(), lr=1e-4, weight_decay=1e-5)\n",
    "\n",
    "\n",
    "post_label = AsDiscrete(to_onehot=3)\n",
    "post_pred = AsDiscrete(argmax=True, to_onehot=3)\n",
    "\n",
    "dice_metric = DiceMetric(include_background=False, reduction=\"mean\", get_not_nans=False)\n",
    "dice_metric_batch = DiceMetric(include_background=False, reduction=\"mean_batch\")\n",
    "\n",
    "\n",
    "##-----------------------------------------------------------------------------\n",
    "\n",
    "def validation(epoch_iterator_val):\n",
    "        model.eval()\n",
    "        with torch.no_grad():\n",
    "            for step, batch in enumerate(epoch_iterator_val):\n",
    "                val_inputs, val_labels = (batch[\"ctpt\"].cuda(), batch[\"seg\"].cuda())\n",
    "                val_outputs = sliding_window_inference(val_inputs, (96, 96, 96), 4, model)\n",
    "                val_labels_list = decollate_batch(val_labels)\n",
    "                val_labels_convert = [\n",
    "                    post_label(val_label_tensor) for val_label_tensor in val_labels_list\n",
    "                ]\n",
    "                val_outputs_list = decollate_batch(val_outputs)\n",
    "                val_output_convert = [\n",
    "                    post_pred(val_pred_tensor) for val_pred_tensor in val_outputs_list\n",
    "                ]\n",
    "                dice_metric(y_pred=val_output_convert, y=val_labels_convert)\n",
    "                dice_metric_batch(y_pred=val_output_convert, y=val_labels_convert)\n",
    "                epoch_iterator_val.set_description(\n",
    "                    \"Validate (%d / %d Steps)\" % (global_step, 10.0)\n",
    "                )\n",
    "            mean_dice_val = dice_metric.aggregate().item()\n",
    "            metric_batch_val = dice_metric_batch.aggregate()\n",
    "\n",
    "            metric_tumor = metric_batch_val[0].item()\n",
    "            metric_lymph = metric_batch_val[1].item()\n",
    "\n",
    "            dice_metric.reset()\n",
    "            dice_metric_batch.reset()\n",
    "        return mean_dice_val, metric_tumor, metric_lymph\n",
    "\n",
    "\n",
    "\n",
    "def train(global_step, train_loader, dice_val_best, global_step_best):\n",
    "        model.train()\n",
    "        epoch_loss = 0\n",
    "        step = 0\n",
    "        epoch_iterator = tqdm(\n",
    "            train_loader, desc=\"Training (X / X Steps) (loss=X.X)\", dynamic_ncols=True\n",
    "        )\n",
    "        \n",
    "        for step, batch in enumerate(epoch_iterator):\n",
    "            step += 1\n",
    "            x, y = (batch[\"ctpt\"].cuda(), batch[\"seg\"].cuda())\n",
    "            logit_map = model(x, mode=\"mix\")\n",
    "            loss = loss_function(logit_map, y)\n",
    "            loss.backward()\n",
    "            epoch_loss += loss.item() \n",
    "            optimizer.step()\n",
    "            optimizer.zero_grad()\n",
    "            epoch_iterator.set_description(\n",
    "                \"Training (%d / %d Steps) (loss=%2.5f)\"\n",
    "                % (global_step, max_iterations, loss)\n",
    "            )\n",
    "            \n",
    "            if (\n",
    "                global_step % eval_num == 0 and global_step != 0\n",
    "            ) or global_step == max_iterations:\n",
    "                epoch_iterator_val = tqdm(\n",
    "                    val_loader, desc=\"Validate (X / X Steps) (dice=X.X)\", dynamic_ncols=True\n",
    "                )\n",
    "                dice_val, metric_tumor, metric_lymph = validation(epoch_iterator_val)\n",
    "                epoch_loss /= step\n",
    "                epoch_loss_values.append(epoch_loss)\n",
    "                metric_values.append(dice_val)\n",
    "                metric_values_tumor.append(metric_tumor)\n",
    "                metric_values_lymph.append(metric_lymph)\n",
    "                if dice_val > dice_val_best:\n",
    "                    dice_val_best = dice_val\n",
    "                    global_step_best = global_step\n",
    "                    torch.save(\n",
    "                        model.state_dict(), os.path.join(model_dir, \"MDA-3centersctpt_loractof4.pth\")\n",
    "                    )\n",
    "                    print(\n",
    "                        \"Model Was Saved ! Current Best Avg. Dice: {} Current Avg. Dice: {} Current Avg. tumor Dice: {} Current Avg. lymph Dice: {}\".format(\n",
    "                            dice_val_best, dice_val, metric_tumor, metric_lymph\n",
    "                        )\n",
    "                    )\n",
    "                else:\n",
    "                    print(\n",
    "                        \"Model Was Not Saved ! Current Best Avg. Dice: {} Current Avg. Dice: {} Current Avg. tumor Dice: {} Current Avg. lymph Dice: {}\".format(\n",
    "                            dice_val_best, dice_val,  metric_tumor, metric_lymph\n",
    "                        )\n",
    "                    )\n",
    "            global_step += 1\n",
    "        return global_step, dice_val_best, global_step_best\n"
   ]
  },
  {
   "cell_type": "code",
   "execution_count": 11,
   "metadata": {},
   "outputs": [
    {
     "name": "stderr",
     "output_type": "stream",
     "text": [
      "Training (X / X Steps) (loss=X.X):   0%|          | 0/76 [00:00<?, ?it/s]"
     ]
    },
    {
     "name": "stderr",
     "output_type": "stream",
     "text": [
      "Training (75 / 18000 Steps) (loss=0.98394): 100%|██████████| 76/76 [01:03<00:00,  1.19it/s]\n",
      "Validate (76 / 10 Steps): 100%|██████████| 22/22 [02:13<00:00,  6.05s/it]3<00:45,  1.15it/s]\n",
      "Training (100 / 18000 Steps) (loss=0.99485):  33%|███▎      | 25/76 [02:37<35:03, 41.25s/it]"
     ]
    },
    {
     "name": "stdout",
     "output_type": "stream",
     "text": [
      "Model Was Saved ! Current Best Avg. Dice: 0.24280142784118652 Current Avg. Dice: 0.24280142784118652 Current Avg. tumor Dice: 0.3666931688785553 Current Avg. lymph Dice: 0.04739943519234657\n"
     ]
    },
    {
     "name": "stderr",
     "output_type": "stream",
     "text": [
      "Training (151 / 18000 Steps) (loss=0.93059): 100%|██████████| 76/76 [03:02<00:00,  2.40s/it]\n",
      "Validate (152 / 10 Steps): 100%|██████████| 22/22 [01:29<00:00,  4.05s/it]<00:13,  2.06it/s]\n",
      "Training (200 / 18000 Steps) (loss=0.85285):  64%|██████▍   | 49/76 [01:57<12:14, 27.22s/it]"
     ]
    },
    {
     "name": "stdout",
     "output_type": "stream",
     "text": [
      "Model Was Not Saved ! Current Best Avg. Dice: 0.24280142784118652 Current Avg. Dice: 0.2423625886440277 Current Avg. tumor Dice: 0.373479425907135 Current Avg. lymph Dice: 0.04465014114975929\n"
     ]
    },
    {
     "name": "stderr",
     "output_type": "stream",
     "text": [
      "Training (227 / 18000 Steps) (loss=0.91766): 100%|██████████| 76/76 [02:10<00:00,  1.72s/it]\n",
      "Validate (228 / 10 Steps): 100%|██████████| 22/22 [01:29<00:00,  4.05s/it]<00:01,  2.12it/s]\n",
      "Training (300 / 18000 Steps) (loss=0.80911):  96%|█████████▌| 73/76 [02:09<01:22, 27.50s/it]"
     ]
    },
    {
     "name": "stdout",
     "output_type": "stream",
     "text": [
      "Model Was Saved ! Current Best Avg. Dice: 0.2708192467689514 Current Avg. Dice: 0.2708192467689514 Current Avg. tumor Dice: 0.3917768895626068 Current Avg. lymph Dice: 0.08044971525669098\n"
     ]
    },
    {
     "name": "stderr",
     "output_type": "stream",
     "text": [
      "Training (303 / 18000 Steps) (loss=0.81215): 100%|██████████| 76/76 [02:11<00:00,  1.73s/it]\n",
      "Training (379 / 18000 Steps) (loss=0.80660): 100%|██████████| 76/76 [00:41<00:00,  1.85it/s]\n",
      "Validate (380 / 10 Steps): 100%|██████████| 22/22 [01:28<00:00,  4.03s/it]<00:31,  1.77it/s]\n",
      "Training (400 / 18000 Steps) (loss=0.76675):  28%|██▊       | 21/76 [01:43<24:53, 27.16s/it]"
     ]
    },
    {
     "name": "stdout",
     "output_type": "stream",
     "text": [
      "Model Was Not Saved ! Current Best Avg. Dice: 0.2708192467689514 Current Avg. Dice: 0.17869344353675842 Current Avg. tumor Dice: 0.07197307050228119 Current Avg. lymph Dice: 0.33361580967903137\n"
     ]
    },
    {
     "name": "stderr",
     "output_type": "stream",
     "text": [
      "Training (455 / 18000 Steps) (loss=0.74326): 100%|██████████| 76/76 [02:10<00:00,  1.71s/it]\n",
      "Validate (456 / 10 Steps): 100%|██████████| 22/22 [01:29<00:00,  4.06s/it]<00:15,  2.12it/s]\n",
      "Training (500 / 18000 Steps) (loss=0.74782):  59%|█████▉    | 45/76 [01:55<14:05, 27.28s/it]"
     ]
    },
    {
     "name": "stdout",
     "output_type": "stream",
     "text": [
      "Model Was Not Saved ! Current Best Avg. Dice: 0.2708192467689514 Current Avg. Dice: 0.1640775203704834 Current Avg. tumor Dice: 0.02376534789800644 Current Avg. lymph Dice: 0.35625743865966797\n"
     ]
    },
    {
     "name": "stderr",
     "output_type": "stream",
     "text": [
      "Training (531 / 18000 Steps) (loss=0.64921): 100%|██████████| 76/76 [02:10<00:00,  1.71s/it]\n",
      "Validate (532 / 10 Steps): 100%|██████████| 22/22 [01:28<00:00,  4.04s/it]<00:03,  2.07it/s]\n",
      "Training (600 / 18000 Steps) (loss=0.70280):  91%|█████████ | 69/76 [02:06<03:11, 27.42s/it]"
     ]
    },
    {
     "name": "stdout",
     "output_type": "stream",
     "text": [
      "Model Was Saved ! Current Best Avg. Dice: 0.2720637321472168 Current Avg. Dice: 0.2720637321472168 Current Avg. tumor Dice: 0.25194230675697327 Current Avg. lymph Dice: 0.2948291003704071\n"
     ]
    },
    {
     "name": "stderr",
     "output_type": "stream",
     "text": [
      "Training (607 / 18000 Steps) (loss=0.69710): 100%|██████████| 76/76 [02:10<00:00,  1.71s/it]\n",
      "Training (683 / 18000 Steps) (loss=0.67644): 100%|██████████| 76/76 [00:40<00:00,  1.86it/s]\n",
      "Validate (684 / 10 Steps): 100%|██████████| 22/22 [01:29<00:00,  4.05s/it]<00:26,  2.24it/s]\n",
      "Training (700 / 18000 Steps) (loss=0.71186):  22%|██▏       | 17/76 [01:41<26:53, 27.35s/it]"
     ]
    },
    {
     "name": "stdout",
     "output_type": "stream",
     "text": [
      "Model Was Not Saved ! Current Best Avg. Dice: 0.2720637321472168 Current Avg. Dice: 0.267208069562912 Current Avg. tumor Dice: 0.24793025851249695 Current Avg. lymph Dice: 0.2963672876358032\n"
     ]
    },
    {
     "name": "stderr",
     "output_type": "stream",
     "text": [
      "Training (759 / 18000 Steps) (loss=0.66723): 100%|██████████| 76/76 [02:09<00:00,  1.71s/it]\n",
      "Validate (760 / 10 Steps): 100%|██████████| 22/22 [01:29<00:00,  4.05s/it]<00:17,  2.08it/s]\n",
      "Training (800 / 18000 Steps) (loss=0.70672):  54%|█████▍    | 41/76 [01:52<15:53, 27.24s/it]"
     ]
    },
    {
     "name": "stdout",
     "output_type": "stream",
     "text": [
      "Model Was Not Saved ! Current Best Avg. Dice: 0.2720637321472168 Current Avg. Dice: 0.23554010689258575 Current Avg. tumor Dice: 0.2121676504611969 Current Avg. lymph Dice: 0.2701812982559204\n"
     ]
    },
    {
     "name": "stderr",
     "output_type": "stream",
     "text": [
      "Training (835 / 18000 Steps) (loss=0.61495): 100%|██████████| 76/76 [02:09<00:00,  1.71s/it]\n",
      "Validate (836 / 10 Steps): 100%|██████████| 22/22 [01:28<00:00,  4.04s/it]<00:05,  2.05it/s]\n",
      "Training (900 / 18000 Steps) (loss=0.65859):  86%|████████▌ | 65/76 [02:04<04:59, 27.19s/it]"
     ]
    },
    {
     "name": "stdout",
     "output_type": "stream",
     "text": [
      "Model Was Not Saved ! Current Best Avg. Dice: 0.2720637321472168 Current Avg. Dice: 0.24071484804153442 Current Avg. tumor Dice: 0.32383474707603455 Current Avg. lymph Dice: 0.11441440135240555\n"
     ]
    },
    {
     "name": "stderr",
     "output_type": "stream",
     "text": [
      "Training (911 / 18000 Steps) (loss=0.70307): 100%|██████████| 76/76 [02:09<00:00,  1.70s/it]\n",
      "Training (987 / 18000 Steps) (loss=0.61943): 100%|██████████| 76/76 [00:40<00:00,  1.87it/s]\n",
      "Validate (988 / 10 Steps): 100%|██████████| 22/22 [01:29<00:00,  4.05s/it]0<00:34,  1.85it/s]\n",
      "Training (1000 / 18000 Steps) (loss=0.53323):  17%|█▋        | 13/76 [01:39<28:53, 27.52s/it]"
     ]
    },
    {
     "name": "stdout",
     "output_type": "stream",
     "text": [
      "Model Was Not Saved ! Current Best Avg. Dice: 0.2720637321472168 Current Avg. Dice: 0.25729817152023315 Current Avg. tumor Dice: 0.2016468048095703 Current Avg. lymph Dice: 0.33742034435272217\n"
     ]
    },
    {
     "name": "stderr",
     "output_type": "stream",
     "text": [
      "Training (1063 / 18000 Steps) (loss=0.73824): 100%|██████████| 76/76 [02:09<00:00,  1.70s/it]\n",
      "Validate (1064 / 10 Steps): 100%|██████████| 22/22 [01:29<00:00,  4.06s/it]<00:18,  2.16it/s]\n",
      "Training (1100 / 18000 Steps) (loss=0.69117):  49%|████▊     | 37/76 [01:52<17:55, 27.57s/it]"
     ]
    },
    {
     "name": "stdout",
     "output_type": "stream",
     "text": [
      "Model Was Saved ! Current Best Avg. Dice: 0.3115587532520294 Current Avg. Dice: 0.3115587532520294 Current Avg. tumor Dice: 0.38056328892707825 Current Avg. lymph Dice: 0.1867848038673401\n"
     ]
    },
    {
     "name": "stderr",
     "output_type": "stream",
     "text": [
      "Training (1139 / 18000 Steps) (loss=0.68516): 100%|██████████| 76/76 [02:11<00:00,  1.73s/it]\n",
      "Validate (1140 / 10 Steps): 100%|██████████| 22/22 [01:28<00:00,  4.04s/it]<00:07,  2.15it/s]\n",
      "Training (1200 / 18000 Steps) (loss=0.47978):  80%|████████  | 61/76 [02:01<06:47, 27.17s/it]"
     ]
    },
    {
     "name": "stdout",
     "output_type": "stream",
     "text": [
      "Model Was Not Saved ! Current Best Avg. Dice: 0.3115587532520294 Current Avg. Dice: 0.3098185658454895 Current Avg. tumor Dice: 0.3668600618839264 Current Avg. lymph Dice: 0.21698373556137085\n"
     ]
    },
    {
     "name": "stderr",
     "output_type": "stream",
     "text": [
      "Training (1215 / 18000 Steps) (loss=0.61323): 100%|██████████| 76/76 [02:08<00:00,  1.69s/it]\n",
      "Training (1291 / 18000 Steps) (loss=0.65208): 100%|██████████| 76/76 [00:41<00:00,  1.85it/s]\n",
      "Validate (1292 / 10 Steps): 100%|██████████| 22/22 [01:29<00:00,  4.05s/it]00:40,  1.70it/s]\n",
      "Training (1300 / 18000 Steps) (loss=0.56975):  12%|█▏        | 9/76 [01:37<31:45, 28.45s/it]"
     ]
    },
    {
     "name": "stdout",
     "output_type": "stream",
     "text": [
      "Model Was Not Saved ! Current Best Avg. Dice: 0.3115587532520294 Current Avg. Dice: 0.20122861862182617 Current Avg. tumor Dice: 0.06751745939254761 Current Avg. lymph Dice: 0.3871922492980957\n"
     ]
    },
    {
     "name": "stderr",
     "output_type": "stream",
     "text": [
      "Training (1367 / 18000 Steps) (loss=0.48473): 100%|██████████| 76/76 [02:09<00:00,  1.70s/it]\n",
      "Validate (1368 / 10 Steps): 100%|██████████| 22/22 [01:29<00:00,  4.05s/it]<00:21,  2.08it/s]\n",
      "Training (1400 / 18000 Steps) (loss=0.64428):  43%|████▎     | 33/76 [01:49<19:41, 27.48s/it]"
     ]
    },
    {
     "name": "stdout",
     "output_type": "stream",
     "text": [
      "Model Was Saved ! Current Best Avg. Dice: 0.3813363015651703 Current Avg. Dice: 0.3813363015651703 Current Avg. tumor Dice: 0.43725353479385376 Current Avg. lymph Dice: 0.2749541997909546\n"
     ]
    },
    {
     "name": "stderr",
     "output_type": "stream",
     "text": [
      "Training (1443 / 18000 Steps) (loss=0.68438): 100%|██████████| 76/76 [02:10<00:00,  1.72s/it]\n",
      "Validate (1444 / 10 Steps): 100%|██████████| 22/22 [01:29<00:00,  4.05s/it]<00:09,  2.06it/s]\n",
      "Training (1500 / 18000 Steps) (loss=0.65358):  75%|███████▌  | 57/76 [02:00<08:37, 27.22s/it]"
     ]
    },
    {
     "name": "stdout",
     "output_type": "stream",
     "text": [
      "Model Was Not Saved ! Current Best Avg. Dice: 0.3813363015651703 Current Avg. Dice: 0.3099723160266876 Current Avg. tumor Dice: 0.39265087246894836 Current Avg. lymph Dice: 0.1762881875038147\n"
     ]
    },
    {
     "name": "stderr",
     "output_type": "stream",
     "text": [
      "Training (1519 / 18000 Steps) (loss=0.60228): 100%|██████████| 76/76 [02:09<00:00,  1.71s/it]\n",
      "Training (1595 / 18000 Steps) (loss=0.59987): 100%|██████████| 76/76 [00:40<00:00,  1.87it/s]\n",
      "Validate (1596 / 10 Steps): 100%|██████████| 22/22 [01:29<00:00,  4.05s/it]01:08,  1.05it/s]\n",
      "Training (1600 / 18000 Steps) (loss=0.63144):   7%|▋         | 5/76 [01:35<38:59, 32.95s/it]"
     ]
    },
    {
     "name": "stdout",
     "output_type": "stream",
     "text": [
      "Model Was Not Saved ! Current Best Avg. Dice: 0.3813363015651703 Current Avg. Dice: 0.25757020711898804 Current Avg. tumor Dice: 0.27425453066825867 Current Avg. lymph Dice: 0.2381875216960907\n"
     ]
    },
    {
     "name": "stderr",
     "output_type": "stream",
     "text": [
      "Training (1671 / 18000 Steps) (loss=0.64798): 100%|██████████| 76/76 [02:08<00:00,  1.70s/it]\n",
      "Validate (1672 / 10 Steps): 100%|██████████| 22/22 [01:29<00:00,  4.06s/it]<00:24,  1.94it/s]\n",
      "Training (1700 / 18000 Steps) (loss=0.66902):  38%|███▊      | 29/76 [01:47<21:22, 27.28s/it]"
     ]
    },
    {
     "name": "stdout",
     "output_type": "stream",
     "text": [
      "Model Was Not Saved ! Current Best Avg. Dice: 0.3813363015651703 Current Avg. Dice: 0.32021865248680115 Current Avg. tumor Dice: 0.36627477407455444 Current Avg. lymph Dice: 0.24044616520404816\n"
     ]
    },
    {
     "name": "stderr",
     "output_type": "stream",
     "text": [
      "Training (1747 / 18000 Steps) (loss=0.56550): 100%|██████████| 76/76 [02:09<00:00,  1.70s/it]\n",
      "Validate (1748 / 10 Steps): 100%|██████████| 22/22 [01:29<00:00,  4.05s/it]<00:11,  2.08it/s]\n",
      "Training (1800 / 18000 Steps) (loss=0.53746):  70%|██████▉   | 53/76 [01:58<10:26, 27.23s/it]"
     ]
    },
    {
     "name": "stdout",
     "output_type": "stream",
     "text": [
      "Model Was Not Saved ! Current Best Avg. Dice: 0.3813363015651703 Current Avg. Dice: 0.31138330698013306 Current Avg. tumor Dice: 0.3258739113807678 Current Avg. lymph Dice: 0.27943509817123413\n"
     ]
    },
    {
     "name": "stderr",
     "output_type": "stream",
     "text": [
      "Training (1823 / 18000 Steps) (loss=0.69013): 100%|██████████| 76/76 [02:09<00:00,  1.71s/it]\n",
      "Training (1899 / 18000 Steps) (loss=0.51570): 100%|██████████| 76/76 [00:40<00:00,  1.90it/s]\n",
      "Validate (1900 / 10 Steps): 100%|██████████| 22/22 [01:29<00:00,  4.06s/it]?, ?it/s]\n",
      "Training (1900 / 18000 Steps) (loss=0.60715):   1%|▏         | 1/76 [01:33<1:56:49, 93.46s/it]"
     ]
    },
    {
     "name": "stdout",
     "output_type": "stream",
     "text": [
      "Model Was Not Saved ! Current Best Avg. Dice: 0.3813363015651703 Current Avg. Dice: 0.3283616304397583 Current Avg. tumor Dice: 0.3870379626750946 Current Avg. lymph Dice: 0.24138273298740387\n"
     ]
    },
    {
     "name": "stderr",
     "output_type": "stream",
     "text": [
      "Training (1975 / 18000 Steps) (loss=0.67887): 100%|██████████| 76/76 [02:09<00:00,  1.71s/it] \n",
      "Validate (1976 / 10 Steps): 100%|██████████| 22/22 [01:28<00:00,  4.04s/it]<00:23,  2.20it/s]\n",
      "Training (2000 / 18000 Steps) (loss=0.64199):  33%|███▎      | 25/76 [01:44<23:06, 27.18s/it]"
     ]
    },
    {
     "name": "stdout",
     "output_type": "stream",
     "text": [
      "Model Was Not Saved ! Current Best Avg. Dice: 0.3813363015651703 Current Avg. Dice: 0.30049067735671997 Current Avg. tumor Dice: 0.4108433127403259 Current Avg. lymph Dice: 0.11917664110660553\n"
     ]
    },
    {
     "name": "stderr",
     "output_type": "stream",
     "text": [
      "Training (2051 / 18000 Steps) (loss=0.62185): 100%|██████████| 76/76 [02:09<00:00,  1.70s/it]\n",
      "Validate (2052 / 10 Steps): 100%|██████████| 22/22 [01:29<00:00,  4.06s/it]<00:13,  2.07it/s]\n",
      "Training (2100 / 18000 Steps) (loss=0.36654):  64%|██████▍   | 49/76 [01:56<12:16, 27.29s/it]"
     ]
    },
    {
     "name": "stdout",
     "output_type": "stream",
     "text": [
      "Model Was Not Saved ! Current Best Avg. Dice: 0.3813363015651703 Current Avg. Dice: 0.3590497076511383 Current Avg. tumor Dice: 0.3857212960720062 Current Avg. lymph Dice: 0.31185415387153625\n"
     ]
    },
    {
     "name": "stderr",
     "output_type": "stream",
     "text": [
      "Training (2127 / 18000 Steps) (loss=0.52866): 100%|██████████| 76/76 [02:09<00:00,  1.71s/it]\n",
      "Validate (2128 / 10 Steps): 100%|██████████| 22/22 [01:28<00:00,  4.04s/it]<00:01,  2.13it/s]\n",
      "Training (2200 / 18000 Steps) (loss=0.57973):  96%|█████████▌| 73/76 [02:07<01:21, 27.17s/it]"
     ]
    },
    {
     "name": "stdout",
     "output_type": "stream",
     "text": [
      "Model Was Not Saved ! Current Best Avg. Dice: 0.3813363015651703 Current Avg. Dice: 0.3469618558883667 Current Avg. tumor Dice: 0.3463737964630127 Current Avg. lymph Dice: 0.34870243072509766\n"
     ]
    },
    {
     "name": "stderr",
     "output_type": "stream",
     "text": [
      "Training (2203 / 18000 Steps) (loss=0.49158): 100%|██████████| 76/76 [02:09<00:00,  1.70s/it]\n",
      "Training (2279 / 18000 Steps) (loss=0.67558): 100%|██████████| 76/76 [00:40<00:00,  1.86it/s]\n",
      "Validate (2280 / 10 Steps): 100%|██████████| 22/22 [01:29<00:00,  4.05s/it]<00:29,  1.89it/s]\n",
      "Training (2300 / 18000 Steps) (loss=0.69140):  28%|██▊       | 21/76 [01:43<24:58, 27.24s/it]"
     ]
    },
    {
     "name": "stdout",
     "output_type": "stream",
     "text": [
      "Model Was Not Saved ! Current Best Avg. Dice: 0.3813363015651703 Current Avg. Dice: 0.3405173420906067 Current Avg. tumor Dice: 0.36957889795303345 Current Avg. lymph Dice: 0.28958141803741455\n"
     ]
    },
    {
     "name": "stderr",
     "output_type": "stream",
     "text": [
      "Training (2355 / 18000 Steps) (loss=0.63924): 100%|██████████| 76/76 [02:09<00:00,  1.70s/it]\n",
      "Validate (2356 / 10 Steps): 100%|██████████| 22/22 [01:29<00:00,  4.05s/it]<00:17,  1.86it/s]\n",
      "Training (2400 / 18000 Steps) (loss=0.51110):  59%|█████▉    | 45/76 [01:54<14:05, 27.29s/it]"
     ]
    },
    {
     "name": "stdout",
     "output_type": "stream",
     "text": [
      "Model Was Not Saved ! Current Best Avg. Dice: 0.3813363015651703 Current Avg. Dice: 0.35213392972946167 Current Avg. tumor Dice: 0.4100463390350342 Current Avg. lymph Dice: 0.25126969814300537\n"
     ]
    },
    {
     "name": "stderr",
     "output_type": "stream",
     "text": [
      "Training (2431 / 18000 Steps) (loss=0.57400): 100%|██████████| 76/76 [02:09<00:00,  1.70s/it]\n",
      "Validate (2432 / 10 Steps): 100%|██████████| 22/22 [01:28<00:00,  4.05s/it]<00:03,  2.16it/s]\n",
      "Training (2500 / 18000 Steps) (loss=0.46578):  91%|█████████ | 69/76 [02:05<03:10, 27.19s/it]"
     ]
    },
    {
     "name": "stdout",
     "output_type": "stream",
     "text": [
      "Model Was Not Saved ! Current Best Avg. Dice: 0.3813363015651703 Current Avg. Dice: 0.35335901379585266 Current Avg. tumor Dice: 0.3660539388656616 Current Avg. lymph Dice: 0.3318244218826294\n"
     ]
    },
    {
     "name": "stderr",
     "output_type": "stream",
     "text": [
      "Training (2507 / 18000 Steps) (loss=0.68374): 100%|██████████| 76/76 [02:08<00:00,  1.70s/it]\n",
      "Training (2583 / 18000 Steps) (loss=0.40933): 100%|██████████| 76/76 [00:39<00:00,  1.90it/s]\n",
      "Validate (2584 / 10 Steps): 100%|██████████| 22/22 [01:29<00:00,  4.05s/it]<00:26,  2.25it/s]\n",
      "Training (2600 / 18000 Steps) (loss=0.43124):  22%|██▏       | 17/76 [01:41<26:49, 27.29s/it]"
     ]
    },
    {
     "name": "stdout",
     "output_type": "stream",
     "text": [
      "Model Was Not Saved ! Current Best Avg. Dice: 0.3813363015651703 Current Avg. Dice: 0.34091055393218994 Current Avg. tumor Dice: 0.32549867033958435 Current Avg. lymph Dice: 0.365427166223526\n"
     ]
    },
    {
     "name": "stderr",
     "output_type": "stream",
     "text": [
      "Training (2659 / 18000 Steps) (loss=0.57213): 100%|██████████| 76/76 [02:09<00:00,  1.70s/it]\n",
      "Validate (2660 / 10 Steps): 100%|██████████| 22/22 [01:29<00:00,  4.06s/it]<00:17,  2.08it/s]\n",
      "Training (2700 / 18000 Steps) (loss=0.65067):  54%|█████▍    | 41/76 [01:53<15:56, 27.33s/it]"
     ]
    },
    {
     "name": "stdout",
     "output_type": "stream",
     "text": [
      "Model Was Not Saved ! Current Best Avg. Dice: 0.3813363015651703 Current Avg. Dice: 0.34363555908203125 Current Avg. tumor Dice: 0.3475044071674347 Current Avg. lymph Dice: 0.33549678325653076\n"
     ]
    },
    {
     "name": "stderr",
     "output_type": "stream",
     "text": [
      "Training (2735 / 18000 Steps) (loss=0.57114): 100%|██████████| 76/76 [02:09<00:00,  1.71s/it]\n",
      "Validate (2736 / 10 Steps): 100%|██████████| 22/22 [01:29<00:00,  4.05s/it]<00:05,  2.14it/s]\n",
      "Training (2800 / 18000 Steps) (loss=0.64317):  86%|████████▌ | 65/76 [02:04<04:59, 27.24s/it]"
     ]
    },
    {
     "name": "stdout",
     "output_type": "stream",
     "text": [
      "Model Was Not Saved ! Current Best Avg. Dice: 0.3813363015651703 Current Avg. Dice: 0.30603960156440735 Current Avg. tumor Dice: 0.3626677989959717 Current Avg. lymph Dice: 0.22304603457450867\n"
     ]
    },
    {
     "name": "stderr",
     "output_type": "stream",
     "text": [
      "Training (2811 / 18000 Steps) (loss=0.52313): 100%|██████████| 76/76 [02:09<00:00,  1.70s/it]\n",
      "Training (2887 / 18000 Steps) (loss=0.68499): 100%|██████████| 76/76 [00:40<00:00,  1.88it/s]\n",
      "Validate (2888 / 10 Steps): 100%|██████████| 22/22 [01:29<00:00,  4.07s/it]<00:32,  2.00it/s]\n",
      "Training (2900 / 18000 Steps) (loss=0.67577):  17%|█▋        | 13/76 [01:39<28:59, 27.61s/it]"
     ]
    },
    {
     "name": "stdout",
     "output_type": "stream",
     "text": [
      "Model Was Not Saved ! Current Best Avg. Dice: 0.3813363015651703 Current Avg. Dice: 0.324787974357605 Current Avg. tumor Dice: 0.3282254934310913 Current Avg. lymph Dice: 0.30624306201934814\n"
     ]
    },
    {
     "name": "stderr",
     "output_type": "stream",
     "text": [
      "Training (2963 / 18000 Steps) (loss=0.59551): 100%|██████████| 76/76 [02:09<00:00,  1.71s/it]\n",
      "Validate (2964 / 10 Steps): 100%|██████████| 22/22 [01:28<00:00,  4.03s/it]<00:19,  2.05it/s]\n",
      "Training (3000 / 18000 Steps) (loss=0.62252):  49%|████▊     | 37/76 [01:50<17:38, 27.13s/it]"
     ]
    },
    {
     "name": "stdout",
     "output_type": "stream",
     "text": [
      "Model Was Not Saved ! Current Best Avg. Dice: 0.3813363015651703 Current Avg. Dice: 0.32732832431793213 Current Avg. tumor Dice: 0.33082008361816406 Current Avg. lymph Dice: 0.3063136637210846\n"
     ]
    },
    {
     "name": "stderr",
     "output_type": "stream",
     "text": [
      "Training (3039 / 18000 Steps) (loss=0.44267): 100%|██████████| 76/76 [02:09<00:00,  1.70s/it]\n",
      "Validate (3040 / 10 Steps): 100%|██████████| 22/22 [01:28<00:00,  4.04s/it]<00:07,  2.10it/s]\n",
      "Training (3100 / 18000 Steps) (loss=0.54461):  80%|████████  | 61/76 [02:03<06:47, 27.16s/it]"
     ]
    },
    {
     "name": "stdout",
     "output_type": "stream",
     "text": [
      "Model Was Not Saved ! Current Best Avg. Dice: 0.3813363015651703 Current Avg. Dice: 0.34577032923698425 Current Avg. tumor Dice: 0.40196099877357483 Current Avg. lymph Dice: 0.2389267235994339\n"
     ]
    },
    {
     "name": "stderr",
     "output_type": "stream",
     "text": [
      "Training (3115 / 18000 Steps) (loss=0.59121): 100%|██████████| 76/76 [02:10<00:00,  1.72s/it]\n",
      "Training (3191 / 18000 Steps) (loss=0.68328): 100%|██████████| 76/76 [00:40<00:00,  1.87it/s]\n",
      "Validate (3192 / 10 Steps): 100%|██████████| 22/22 [01:28<00:00,  4.04s/it]00:38,  1.78it/s]\n",
      "Training (3200 / 18000 Steps) (loss=0.51578):  12%|█▏        | 9/76 [01:37<31:40, 28.36s/it]"
     ]
    },
    {
     "name": "stdout",
     "output_type": "stream",
     "text": [
      "Model Was Not Saved ! Current Best Avg. Dice: 0.3813363015651703 Current Avg. Dice: 0.3587210774421692 Current Avg. tumor Dice: 0.4178989827632904 Current Avg. lymph Dice: 0.2518886625766754\n"
     ]
    },
    {
     "name": "stderr",
     "output_type": "stream",
     "text": [
      "Training (3267 / 18000 Steps) (loss=0.41655): 100%|██████████| 76/76 [02:09<00:00,  1.71s/it]\n",
      "Validate (3268 / 10 Steps): 100%|██████████| 22/22 [01:28<00:00,  4.03s/it]<00:20,  2.13it/s]\n",
      "Training (3300 / 18000 Steps) (loss=0.57852):  43%|████▎     | 33/76 [01:49<19:25, 27.11s/it]"
     ]
    },
    {
     "name": "stdout",
     "output_type": "stream",
     "text": [
      "Model Was Not Saved ! Current Best Avg. Dice: 0.3813363015651703 Current Avg. Dice: 0.31760910153388977 Current Avg. tumor Dice: 0.33918389678001404 Current Avg. lymph Dice: 0.2857023775577545\n"
     ]
    },
    {
     "name": "stderr",
     "output_type": "stream",
     "text": [
      "Training (3343 / 18000 Steps) (loss=0.67293): 100%|██████████| 76/76 [02:09<00:00,  1.70s/it]\n",
      "Validate (3344 / 10 Steps): 100%|██████████| 22/22 [01:29<00:00,  4.05s/it]<00:09,  2.09it/s]\n",
      "Training (3400 / 18000 Steps) (loss=0.56146):  75%|███████▌  | 57/76 [02:01<08:37, 27.25s/it]"
     ]
    },
    {
     "name": "stdout",
     "output_type": "stream",
     "text": [
      "Model Was Not Saved ! Current Best Avg. Dice: 0.3813363015651703 Current Avg. Dice: 0.36378470063209534 Current Avg. tumor Dice: 0.4162760376930237 Current Avg. lymph Dice: 0.26271751523017883\n"
     ]
    },
    {
     "name": "stderr",
     "output_type": "stream",
     "text": [
      "Training (3419 / 18000 Steps) (loss=0.56355): 100%|██████████| 76/76 [02:10<00:00,  1.72s/it]\n",
      "Training (3495 / 18000 Steps) (loss=0.48406): 100%|██████████| 76/76 [00:39<00:00,  1.91it/s]\n",
      "Validate (3496 / 10 Steps): 100%|██████████| 22/22 [01:29<00:00,  4.06s/it]01:10,  1.03it/s]\n",
      "Training (3500 / 18000 Steps) (loss=0.43674):   7%|▋         | 5/76 [01:35<39:03, 33.01s/it]"
     ]
    },
    {
     "name": "stdout",
     "output_type": "stream",
     "text": [
      "Model Was Not Saved ! Current Best Avg. Dice: 0.3813363015651703 Current Avg. Dice: 0.352128267288208 Current Avg. tumor Dice: 0.42238616943359375 Current Avg. lymph Dice: 0.2210773378610611\n"
     ]
    },
    {
     "name": "stderr",
     "output_type": "stream",
     "text": [
      "Training (3571 / 18000 Steps) (loss=0.64633): 100%|██████████| 76/76 [02:09<00:00,  1.70s/it]\n",
      "Validate (3572 / 10 Steps): 100%|██████████| 22/22 [01:28<00:00,  4.04s/it]<00:23,  2.08it/s]\n",
      "Training (3600 / 18000 Steps) (loss=0.38637):  38%|███▊      | 29/76 [01:46<21:16, 27.16s/it]"
     ]
    },
    {
     "name": "stdout",
     "output_type": "stream",
     "text": [
      "Model Was Not Saved ! Current Best Avg. Dice: 0.3813363015651703 Current Avg. Dice: 0.3305840790271759 Current Avg. tumor Dice: 0.3961924612522125 Current Avg. lymph Dice: 0.20154576003551483\n"
     ]
    },
    {
     "name": "stderr",
     "output_type": "stream",
     "text": [
      "Training (3647 / 18000 Steps) (loss=0.52623): 100%|██████████| 76/76 [02:08<00:00,  1.69s/it]\n",
      "Validate (3648 / 10 Steps): 100%|██████████| 22/22 [01:28<00:00,  4.04s/it]<00:11,  2.11it/s]\n",
      "Training (3700 / 18000 Steps) (loss=0.40922):  70%|██████▉   | 53/76 [01:57<10:23, 27.13s/it]"
     ]
    },
    {
     "name": "stdout",
     "output_type": "stream",
     "text": [
      "Model Was Not Saved ! Current Best Avg. Dice: 0.3813363015651703 Current Avg. Dice: 0.31138691306114197 Current Avg. tumor Dice: 0.42269167304039 Current Avg. lymph Dice: 0.12263638526201248\n"
     ]
    },
    {
     "name": "stderr",
     "output_type": "stream",
     "text": [
      "Training (3723 / 18000 Steps) (loss=0.66953): 100%|██████████| 76/76 [02:08<00:00,  1.70s/it]\n",
      "Training (3799 / 18000 Steps) (loss=0.60912): 100%|██████████| 76/76 [00:41<00:00,  1.84it/s]\n",
      "Validate (3800 / 10 Steps): 100%|██████████| 22/22 [01:28<00:00,  4.04s/it]?, ?it/s]\n",
      "Training (3800 / 18000 Steps) (loss=0.46306):   1%|▏         | 1/76 [01:33<1:56:51, 93.49s/it]"
     ]
    },
    {
     "name": "stdout",
     "output_type": "stream",
     "text": [
      "Model Was Not Saved ! Current Best Avg. Dice: 0.3813363015651703 Current Avg. Dice: 0.3546198606491089 Current Avg. tumor Dice: 0.4052483141422272 Current Avg. lymph Dice: 0.2515757977962494\n"
     ]
    },
    {
     "name": "stderr",
     "output_type": "stream",
     "text": [
      "Training (3875 / 18000 Steps) (loss=0.68731): 100%|██████████| 76/76 [02:09<00:00,  1.71s/it] \n",
      "Validate (3876 / 10 Steps): 100%|██████████| 22/22 [01:29<00:00,  4.07s/it]<00:23,  2.19it/s]\n",
      "Training (3900 / 18000 Steps) (loss=0.67798):  33%|███▎      | 25/76 [01:45<23:14, 27.35s/it]"
     ]
    },
    {
     "name": "stdout",
     "output_type": "stream",
     "text": [
      "Model Was Not Saved ! Current Best Avg. Dice: 0.3813363015651703 Current Avg. Dice: 0.2997799217700958 Current Avg. tumor Dice: 0.3590410649776459 Current Avg. lymph Dice: 0.20510727167129517\n"
     ]
    },
    {
     "name": "stderr",
     "output_type": "stream",
     "text": [
      "Training (3951 / 18000 Steps) (loss=0.68428): 100%|██████████| 76/76 [02:10<00:00,  1.71s/it]\n",
      "Validate (3952 / 10 Steps): 100%|██████████| 22/22 [01:28<00:00,  4.04s/it]<00:13,  2.08it/s]\n",
      "Training (4000 / 18000 Steps) (loss=0.59858):  64%|██████▍   | 49/76 [01:56<12:14, 27.19s/it]"
     ]
    },
    {
     "name": "stdout",
     "output_type": "stream",
     "text": [
      "Model Was Not Saved ! Current Best Avg. Dice: 0.3813363015651703 Current Avg. Dice: 0.3334074318408966 Current Avg. tumor Dice: 0.3904550075531006 Current Avg. lymph Dice: 0.22862005233764648\n"
     ]
    },
    {
     "name": "stderr",
     "output_type": "stream",
     "text": [
      "Training (4027 / 18000 Steps) (loss=0.75597): 100%|██████████| 76/76 [02:09<00:00,  1.71s/it]\n",
      "Validate (4028 / 10 Steps): 100%|██████████| 22/22 [01:29<00:00,  4.05s/it]<00:02,  1.88it/s]\n",
      "Training (4100 / 18000 Steps) (loss=0.51423):  96%|█████████▌| 73/76 [02:08<01:21, 27.27s/it]"
     ]
    },
    {
     "name": "stdout",
     "output_type": "stream",
     "text": [
      "Model Was Not Saved ! Current Best Avg. Dice: 0.3813363015651703 Current Avg. Dice: 0.32845261693000793 Current Avg. tumor Dice: 0.39667755365371704 Current Avg. lymph Dice: 0.20180447399616241\n"
     ]
    },
    {
     "name": "stderr",
     "output_type": "stream",
     "text": [
      "Training (4103 / 18000 Steps) (loss=0.66869): 100%|██████████| 76/76 [02:09<00:00,  1.71s/it]\n",
      "Training (4179 / 18000 Steps) (loss=0.55888): 100%|██████████| 76/76 [00:40<00:00,  1.90it/s]\n",
      "Validate (4180 / 10 Steps): 100%|██████████| 22/22 [01:29<00:00,  4.05s/it]<00:26,  2.09it/s]\n",
      "Training (4200 / 18000 Steps) (loss=0.56915):  28%|██▊       | 21/76 [01:43<24:58, 27.25s/it]"
     ]
    },
    {
     "name": "stdout",
     "output_type": "stream",
     "text": [
      "Model Was Not Saved ! Current Best Avg. Dice: 0.3813363015651703 Current Avg. Dice: 0.33722010254859924 Current Avg. tumor Dice: 0.3484264314174652 Current Avg. lymph Dice: 0.3310120701789856\n"
     ]
    },
    {
     "name": "stderr",
     "output_type": "stream",
     "text": [
      "Training (4255 / 18000 Steps) (loss=0.69211): 100%|██████████| 76/76 [02:10<00:00,  1.72s/it]\n",
      "Validate (4256 / 10 Steps): 100%|██████████| 22/22 [01:28<00:00,  4.03s/it]<00:15,  2.12it/s]\n",
      "Training (4300 / 18000 Steps) (loss=0.43182):  59%|█████▉    | 45/76 [01:54<13:59, 27.09s/it]"
     ]
    },
    {
     "name": "stdout",
     "output_type": "stream",
     "text": [
      "Model Was Not Saved ! Current Best Avg. Dice: 0.3813363015651703 Current Avg. Dice: 0.3664390444755554 Current Avg. tumor Dice: 0.4328710436820984 Current Avg. lymph Dice: 0.2465175837278366\n"
     ]
    },
    {
     "name": "stderr",
     "output_type": "stream",
     "text": [
      "Training (4331 / 18000 Steps) (loss=0.46463): 100%|██████████| 76/76 [02:08<00:00,  1.69s/it]\n",
      "Validate (4332 / 10 Steps): 100%|██████████| 22/22 [01:29<00:00,  4.05s/it]<00:03,  2.15it/s]\n",
      "Training (4400 / 18000 Steps) (loss=0.58428):  91%|█████████ | 69/76 [02:06<03:10, 27.24s/it]"
     ]
    },
    {
     "name": "stdout",
     "output_type": "stream",
     "text": [
      "Model Was Not Saved ! Current Best Avg. Dice: 0.3813363015651703 Current Avg. Dice: 0.3094247579574585 Current Avg. tumor Dice: 0.32404395937919617 Current Avg. lymph Dice: 0.27145710587501526\n"
     ]
    },
    {
     "name": "stderr",
     "output_type": "stream",
     "text": [
      "Training (4407 / 18000 Steps) (loss=0.66819): 100%|██████████| 76/76 [02:09<00:00,  1.70s/it]\n",
      "Training (4483 / 18000 Steps) (loss=0.34871): 100%|██████████| 76/76 [00:40<00:00,  1.87it/s]\n",
      "Validate (4484 / 10 Steps): 100%|██████████| 22/22 [01:29<00:00,  4.05s/it]<00:26,  2.26it/s]\n",
      "Training (4500 / 18000 Steps) (loss=0.40499):  22%|██▏       | 17/76 [01:41<26:59, 27.44s/it]"
     ]
    },
    {
     "name": "stdout",
     "output_type": "stream",
     "text": [
      "Model Was Not Saved ! Current Best Avg. Dice: 0.3813363015651703 Current Avg. Dice: 0.2717837989330292 Current Avg. tumor Dice: 0.2508907914161682 Current Avg. lymph Dice: 0.2780439257621765\n"
     ]
    },
    {
     "name": "stderr",
     "output_type": "stream",
     "text": [
      "Training (4559 / 18000 Steps) (loss=0.52062): 100%|██████████| 76/76 [02:10<00:00,  1.72s/it]\n",
      "Validate (4560 / 10 Steps): 100%|██████████| 22/22 [01:28<00:00,  4.04s/it]<00:17,  2.10it/s]\n",
      "Training (4600 / 18000 Steps) (loss=0.59713):  54%|█████▍    | 41/76 [01:52<15:50, 27.17s/it]"
     ]
    },
    {
     "name": "stdout",
     "output_type": "stream",
     "text": [
      "Model Was Not Saved ! Current Best Avg. Dice: 0.3813363015651703 Current Avg. Dice: 0.37014153599739075 Current Avg. tumor Dice: 0.40568357706069946 Current Avg. lymph Dice: 0.2942763864994049\n"
     ]
    },
    {
     "name": "stderr",
     "output_type": "stream",
     "text": [
      "Training (4635 / 18000 Steps) (loss=0.51087): 100%|██████████| 76/76 [02:09<00:00,  1.70s/it]\n",
      "Validate (4636 / 10 Steps): 100%|██████████| 22/22 [01:28<00:00,  4.03s/it]<00:05,  2.06it/s]\n",
      "Training (4700 / 18000 Steps) (loss=0.47962):  86%|████████▌ | 65/76 [02:04<04:58, 27.13s/it]"
     ]
    },
    {
     "name": "stdout",
     "output_type": "stream",
     "text": [
      "Model Was Not Saved ! Current Best Avg. Dice: 0.3813363015651703 Current Avg. Dice: 0.3429609537124634 Current Avg. tumor Dice: 0.3602970540523529 Current Avg. lymph Dice: 0.3050009310245514\n"
     ]
    },
    {
     "name": "stderr",
     "output_type": "stream",
     "text": [
      "Training (4711 / 18000 Steps) (loss=0.66995): 100%|██████████| 76/76 [02:10<00:00,  1.71s/it]\n",
      "Training (4787 / 18000 Steps) (loss=0.66793): 100%|██████████| 76/76 [00:40<00:00,  1.88it/s]\n",
      "Validate (4788 / 10 Steps): 100%|██████████| 22/22 [01:28<00:00,  4.04s/it]<00:32,  1.99it/s]\n",
      "Training (4800 / 18000 Steps) (loss=0.42263):  17%|█▋        | 13/76 [01:38<28:47, 27.42s/it]"
     ]
    },
    {
     "name": "stdout",
     "output_type": "stream",
     "text": [
      "Model Was Not Saved ! Current Best Avg. Dice: 0.3813363015651703 Current Avg. Dice: 0.37021130323410034 Current Avg. tumor Dice: 0.43350738286972046 Current Avg. lymph Dice: 0.2535957992076874\n"
     ]
    },
    {
     "name": "stderr",
     "output_type": "stream",
     "text": [
      "Training (4863 / 18000 Steps) (loss=0.59262): 100%|██████████| 76/76 [02:09<00:00,  1.70s/it]\n",
      "Validate (4864 / 10 Steps): 100%|██████████| 22/22 [01:29<00:00,  4.05s/it]<00:19,  2.06it/s]\n",
      "Training (4900 / 18000 Steps) (loss=0.29344):  49%|████▊     | 37/76 [01:51<17:42, 27.25s/it]"
     ]
    },
    {
     "name": "stdout",
     "output_type": "stream",
     "text": [
      "Model Was Not Saved ! Current Best Avg. Dice: 0.3813363015651703 Current Avg. Dice: 0.33964401483535767 Current Avg. tumor Dice: 0.38923290371894836 Current Avg. lymph Dice: 0.25485721230506897\n"
     ]
    },
    {
     "name": "stderr",
     "output_type": "stream",
     "text": [
      "Training (4939 / 18000 Steps) (loss=0.43547): 100%|██████████| 76/76 [02:10<00:00,  1.71s/it]\n",
      "Validate (4940 / 10 Steps): 100%|██████████| 22/22 [01:28<00:00,  4.03s/it]<00:07,  2.10it/s]\n",
      "Training (5000 / 18000 Steps) (loss=0.50544):  80%|████████  | 61/76 [02:03<06:50, 27.34s/it]"
     ]
    },
    {
     "name": "stdout",
     "output_type": "stream",
     "text": [
      "Model Was Saved ! Current Best Avg. Dice: 0.383841335773468 Current Avg. Dice: 0.383841335773468 Current Avg. tumor Dice: 0.40864598751068115 Current Avg. lymph Dice: 0.332370400428772\n"
     ]
    },
    {
     "name": "stderr",
     "output_type": "stream",
     "text": [
      "Training (5015 / 18000 Steps) (loss=0.50624): 100%|██████████| 76/76 [02:10<00:00,  1.72s/it]\n",
      "Training (5091 / 18000 Steps) (loss=0.59773): 100%|██████████| 76/76 [00:40<00:00,  1.88it/s]\n",
      "Validate (5092 / 10 Steps): 100%|██████████| 22/22 [01:28<00:00,  4.01s/it]00:36,  1.86it/s]\n",
      "Training (5100 / 18000 Steps) (loss=0.50061):  12%|█▏        | 9/76 [01:38<32:02, 28.69s/it]"
     ]
    },
    {
     "name": "stdout",
     "output_type": "stream",
     "text": [
      "Model Was Saved ! Current Best Avg. Dice: 0.3918535113334656 Current Avg. Dice: 0.3918535113334656 Current Avg. tumor Dice: 0.4163167476654053 Current Avg. lymph Dice: 0.34569770097732544\n"
     ]
    },
    {
     "name": "stderr",
     "output_type": "stream",
     "text": [
      "Training (5167 / 18000 Steps) (loss=0.56578): 100%|██████████| 76/76 [02:09<00:00,  1.71s/it]\n",
      "Validate (5168 / 10 Steps): 100%|██████████| 22/22 [01:28<00:00,  4.04s/it]<00:21,  2.06it/s]\n",
      "Training (5200 / 18000 Steps) (loss=0.64290):  43%|████▎     | 33/76 [01:49<19:30, 27.21s/it]"
     ]
    },
    {
     "name": "stdout",
     "output_type": "stream",
     "text": [
      "Model Was Not Saved ! Current Best Avg. Dice: 0.3918535113334656 Current Avg. Dice: 0.3439631164073944 Current Avg. tumor Dice: 0.4210221767425537 Current Avg. lymph Dice: 0.21079418063163757\n"
     ]
    },
    {
     "name": "stderr",
     "output_type": "stream",
     "text": [
      "Training (5243 / 18000 Steps) (loss=0.45256): 100%|██████████| 76/76 [02:10<00:00,  1.71s/it]\n",
      "Validate (5244 / 10 Steps): 100%|██████████| 22/22 [01:29<00:00,  4.06s/it]<00:09,  2.12it/s]\n",
      "Training (5300 / 18000 Steps) (loss=0.66927):  75%|███████▌  | 57/76 [02:00<08:38, 27.28s/it]"
     ]
    },
    {
     "name": "stdout",
     "output_type": "stream",
     "text": [
      "Model Was Not Saved ! Current Best Avg. Dice: 0.3918535113334656 Current Avg. Dice: 0.35442686080932617 Current Avg. tumor Dice: 0.4350404739379883 Current Avg. lymph Dice: 0.21543878316879272\n"
     ]
    },
    {
     "name": "stderr",
     "output_type": "stream",
     "text": [
      "Training (5319 / 18000 Steps) (loss=0.66876): 100%|██████████| 76/76 [02:09<00:00,  1.70s/it]\n",
      "Training (5395 / 18000 Steps) (loss=0.66794): 100%|██████████| 76/76 [00:40<00:00,  1.89it/s]\n",
      "Validate (5396 / 10 Steps): 100%|██████████| 22/22 [01:28<00:00,  4.04s/it]01:09,  1.04it/s]\n",
      "Training (5400 / 18000 Steps) (loss=0.53915):   7%|▋         | 5/76 [01:35<38:57, 32.92s/it]"
     ]
    },
    {
     "name": "stdout",
     "output_type": "stream",
     "text": [
      "Model Was Not Saved ! Current Best Avg. Dice: 0.3918535113334656 Current Avg. Dice: 0.35590600967407227 Current Avg. tumor Dice: 0.40645045042037964 Current Avg. lymph Dice: 0.2663879096508026\n"
     ]
    },
    {
     "name": "stderr",
     "output_type": "stream",
     "text": [
      "Training (5471 / 18000 Steps) (loss=0.57629): 100%|██████████| 76/76 [02:09<00:00,  1.70s/it]\n",
      "Validate (5472 / 10 Steps): 100%|██████████| 22/22 [01:29<00:00,  4.05s/it]<00:23,  2.06it/s]\n",
      "Training (5500 / 18000 Steps) (loss=0.54854):  38%|███▊      | 29/76 [01:47<21:20, 27.25s/it]"
     ]
    },
    {
     "name": "stdout",
     "output_type": "stream",
     "text": [
      "Model Was Not Saved ! Current Best Avg. Dice: 0.3918535113334656 Current Avg. Dice: 0.31914961338043213 Current Avg. tumor Dice: 0.39750275015830994 Current Avg. lymph Dice: 0.1846638321876526\n"
     ]
    },
    {
     "name": "stderr",
     "output_type": "stream",
     "text": [
      "Training (5547 / 18000 Steps) (loss=0.37303): 100%|██████████| 76/76 [02:09<00:00,  1.71s/it]\n",
      "Validate (5548 / 10 Steps): 100%|██████████| 22/22 [01:29<00:00,  4.05s/it]<00:11,  2.11it/s]\n",
      "Training (5600 / 18000 Steps) (loss=0.68214):  70%|██████▉   | 53/76 [01:58<10:26, 27.22s/it]"
     ]
    },
    {
     "name": "stdout",
     "output_type": "stream",
     "text": [
      "Model Was Not Saved ! Current Best Avg. Dice: 0.3918535113334656 Current Avg. Dice: 0.32569143176078796 Current Avg. tumor Dice: 0.4175935983657837 Current Avg. lymph Dice: 0.16564443707466125\n"
     ]
    },
    {
     "name": "stderr",
     "output_type": "stream",
     "text": [
      "Training (5623 / 18000 Steps) (loss=0.48724): 100%|██████████| 76/76 [02:09<00:00,  1.70s/it]\n",
      "Training (5699 / 18000 Steps) (loss=0.50420): 100%|██████████| 76/76 [00:40<00:00,  1.87it/s]\n",
      "Validate (5700 / 10 Steps): 100%|██████████| 22/22 [01:29<00:00,  4.05s/it]?, ?it/s]\n",
      "Training (5700 / 18000 Steps) (loss=0.63555):   1%|▏         | 1/76 [01:33<1:56:39, 93.33s/it]"
     ]
    },
    {
     "name": "stdout",
     "output_type": "stream",
     "text": [
      "Model Was Not Saved ! Current Best Avg. Dice: 0.3918535113334656 Current Avg. Dice: 0.37970221042633057 Current Avg. tumor Dice: 0.43079617619514465 Current Avg. lymph Dice: 0.2831173837184906\n"
     ]
    },
    {
     "name": "stderr",
     "output_type": "stream",
     "text": [
      "Training (5775 / 18000 Steps) (loss=0.36713): 100%|██████████| 76/76 [02:09<00:00,  1.70s/it] \n",
      "Validate (5776 / 10 Steps): 100%|██████████| 22/22 [01:29<00:00,  4.05s/it]<00:24,  2.16it/s]\n",
      "Training (5800 / 18000 Steps) (loss=0.54497):  33%|███▎      | 25/76 [01:45<23:10, 27.27s/it]"
     ]
    },
    {
     "name": "stdout",
     "output_type": "stream",
     "text": [
      "Model Was Not Saved ! Current Best Avg. Dice: 0.3918535113334656 Current Avg. Dice: 0.3724318742752075 Current Avg. tumor Dice: 0.4479476809501648 Current Avg. lymph Dice: 0.2359319031238556\n"
     ]
    },
    {
     "name": "stderr",
     "output_type": "stream",
     "text": [
      "Training (5851 / 18000 Steps) (loss=0.66533): 100%|██████████| 76/76 [02:09<00:00,  1.71s/it]\n",
      "Validate (5852 / 10 Steps): 100%|██████████| 22/22 [01:28<00:00,  4.04s/it]<00:13,  2.07it/s]\n",
      "Training (5900 / 18000 Steps) (loss=0.59939):  64%|██████▍   | 49/76 [01:56<12:14, 27.19s/it]"
     ]
    },
    {
     "name": "stdout",
     "output_type": "stream",
     "text": [
      "Model Was Not Saved ! Current Best Avg. Dice: 0.3918535113334656 Current Avg. Dice: 0.35099563002586365 Current Avg. tumor Dice: 0.4192550778388977 Current Avg. lymph Dice: 0.22873647511005402\n"
     ]
    },
    {
     "name": "stderr",
     "output_type": "stream",
     "text": [
      "Training (5927 / 18000 Steps) (loss=0.42560): 100%|██████████| 76/76 [02:09<00:00,  1.71s/it]\n",
      "Validate (5928 / 10 Steps): 100%|██████████| 22/22 [01:29<00:00,  4.05s/it]<00:01,  2.09it/s]\n",
      "Training (6000 / 18000 Steps) (loss=0.55808):  96%|█████████▌| 73/76 [02:08<01:21, 27.22s/it]"
     ]
    },
    {
     "name": "stdout",
     "output_type": "stream",
     "text": [
      "Model Was Not Saved ! Current Best Avg. Dice: 0.3918535113334656 Current Avg. Dice: 0.30826684832572937 Current Avg. tumor Dice: 0.44054922461509705 Current Avg. lymph Dice: 0.09505098313093185\n"
     ]
    },
    {
     "name": "stderr",
     "output_type": "stream",
     "text": [
      "Training (6003 / 18000 Steps) (loss=0.66224): 100%|██████████| 76/76 [02:09<00:00,  1.71s/it]\n",
      "Training (6079 / 18000 Steps) (loss=0.57077): 100%|██████████| 76/76 [00:41<00:00,  1.83it/s]\n",
      "Validate (6080 / 10 Steps): 100%|██████████| 22/22 [01:28<00:00,  4.03s/it]<00:29,  1.92it/s]\n",
      "Training (6100 / 18000 Steps) (loss=0.45042):  28%|██▊       | 21/76 [01:43<24:52, 27.14s/it]"
     ]
    },
    {
     "name": "stdout",
     "output_type": "stream",
     "text": [
      "Model Was Not Saved ! Current Best Avg. Dice: 0.3918535113334656 Current Avg. Dice: 0.3292335867881775 Current Avg. tumor Dice: 0.4432249069213867 Current Avg. lymph Dice: 0.14285138249397278\n"
     ]
    },
    {
     "name": "stderr",
     "output_type": "stream",
     "text": [
      "Training (6155 / 18000 Steps) (loss=0.53395): 100%|██████████| 76/76 [02:09<00:00,  1.70s/it]\n",
      "Validate (6156 / 10 Steps): 100%|██████████| 22/22 [01:29<00:00,  4.07s/it]<00:15,  2.03it/s]\n",
      "Training (6200 / 18000 Steps) (loss=0.57627):  59%|█████▉    | 45/76 [01:55<14:09, 27.40s/it]"
     ]
    },
    {
     "name": "stdout",
     "output_type": "stream",
     "text": [
      "Model Was Not Saved ! Current Best Avg. Dice: 0.3918535113334656 Current Avg. Dice: 0.35318663716316223 Current Avg. tumor Dice: 0.4015568196773529 Current Avg. lymph Dice: 0.2664024233818054\n"
     ]
    },
    {
     "name": "stderr",
     "output_type": "stream",
     "text": [
      "Training (6231 / 18000 Steps) (loss=0.60489): 100%|██████████| 76/76 [02:10<00:00,  1.72s/it]\n",
      "Validate (6232 / 10 Steps): 100%|██████████| 22/22 [01:29<00:00,  4.07s/it]<00:04,  1.99it/s]\n",
      "Training (6300 / 18000 Steps) (loss=0.60479):  91%|█████████ | 69/76 [02:08<03:11, 27.40s/it]"
     ]
    },
    {
     "name": "stdout",
     "output_type": "stream",
     "text": [
      "Model Was Not Saved ! Current Best Avg. Dice: 0.3918535113334656 Current Avg. Dice: 0.17956803739070892 Current Avg. tumor Dice: 0.1844235211610794 Current Avg. lymph Dice: 0.16737931966781616\n"
     ]
    },
    {
     "name": "stderr",
     "output_type": "stream",
     "text": [
      "Training (6307 / 18000 Steps) (loss=0.58758): 100%|██████████| 76/76 [02:11<00:00,  1.73s/it]\n",
      "Training (6383 / 18000 Steps) (loss=0.67743): 100%|██████████| 76/76 [00:43<00:00,  1.76it/s]\n",
      "Validate (6384 / 10 Steps): 100%|██████████| 22/22 [01:28<00:00,  4.03s/it]<00:26,  2.27it/s]\n",
      "Training (6400 / 18000 Steps) (loss=0.45301):  22%|██▏       | 17/76 [01:41<26:48, 27.26s/it]"
     ]
    },
    {
     "name": "stdout",
     "output_type": "stream",
     "text": [
      "Model Was Not Saved ! Current Best Avg. Dice: 0.3918535113334656 Current Avg. Dice: 0.34485170245170593 Current Avg. tumor Dice: 0.4490605890750885 Current Avg. lymph Dice: 0.17048205435276031\n"
     ]
    },
    {
     "name": "stderr",
     "output_type": "stream",
     "text": [
      "Training (6459 / 18000 Steps) (loss=0.68813): 100%|██████████| 76/76 [02:09<00:00,  1.71s/it]\n",
      "Validate (6460 / 10 Steps): 100%|██████████| 22/22 [01:28<00:00,  4.03s/it]<00:16,  2.13it/s]\n",
      "Training (6500 / 18000 Steps) (loss=0.62154):  54%|█████▍    | 41/76 [01:53<15:48, 27.11s/it]"
     ]
    },
    {
     "name": "stdout",
     "output_type": "stream",
     "text": [
      "Model Was Not Saved ! Current Best Avg. Dice: 0.3918535113334656 Current Avg. Dice: 0.3603764474391937 Current Avg. tumor Dice: 0.4412871301174164 Current Avg. lymph Dice: 0.21737883985042572\n"
     ]
    },
    {
     "name": "stderr",
     "output_type": "stream",
     "text": [
      "Training (6535 / 18000 Steps) (loss=0.27835): 100%|██████████| 76/76 [02:10<00:00,  1.72s/it]\n",
      "Validate (6536 / 10 Steps): 100%|██████████| 22/22 [01:29<00:00,  4.06s/it]<00:05,  2.09it/s]\n",
      "Training (6600 / 18000 Steps) (loss=0.39030):  86%|████████▌ | 65/76 [02:06<05:02, 27.52s/it]"
     ]
    },
    {
     "name": "stdout",
     "output_type": "stream",
     "text": [
      "Model Was Saved ! Current Best Avg. Dice: 0.4050787687301636 Current Avg. Dice: 0.4050787687301636 Current Avg. tumor Dice: 0.4799913763999939 Current Avg. lymph Dice: 0.2768467962741852\n"
     ]
    },
    {
     "name": "stderr",
     "output_type": "stream",
     "text": [
      "Training (6611 / 18000 Steps) (loss=0.47687): 100%|██████████| 76/76 [02:11<00:00,  1.73s/it]\n",
      "Training (6687 / 18000 Steps) (loss=0.47119): 100%|██████████| 76/76 [00:41<00:00,  1.85it/s]\n",
      "Validate (6688 / 10 Steps): 100%|██████████| 22/22 [01:28<00:00,  4.04s/it]<00:33,  1.89it/s]\n",
      "Training (6700 / 18000 Steps) (loss=0.26213):  17%|█▋        | 13/76 [01:39<28:48, 27.44s/it]"
     ]
    },
    {
     "name": "stdout",
     "output_type": "stream",
     "text": [
      "Model Was Not Saved ! Current Best Avg. Dice: 0.4050787687301636 Current Avg. Dice: 0.35901331901550293 Current Avg. tumor Dice: 0.4509641230106354 Current Avg. lymph Dice: 0.20201031863689423\n"
     ]
    },
    {
     "name": "stderr",
     "output_type": "stream",
     "text": [
      "Training (6763 / 18000 Steps) (loss=0.66754): 100%|██████████| 76/76 [02:09<00:00,  1.70s/it]\n",
      "Validate (6764 / 10 Steps): 100%|██████████| 22/22 [01:29<00:00,  4.05s/it]<00:19,  2.03it/s]\n",
      "Training (6800 / 18000 Steps) (loss=0.46779):  49%|████▊     | 37/76 [01:51<17:41, 27.23s/it]"
     ]
    },
    {
     "name": "stdout",
     "output_type": "stream",
     "text": [
      "Model Was Not Saved ! Current Best Avg. Dice: 0.4050787687301636 Current Avg. Dice: 0.34207212924957275 Current Avg. tumor Dice: 0.38615140318870544 Current Avg. lymph Dice: 0.2665584981441498\n"
     ]
    },
    {
     "name": "stderr",
     "output_type": "stream",
     "text": [
      "Training (6839 / 18000 Steps) (loss=0.66752): 100%|██████████| 76/76 [02:10<00:00,  1.72s/it]\n",
      "Validate (6840 / 10 Steps): 100%|██████████| 22/22 [01:28<00:00,  4.04s/it]<00:07,  2.03it/s]\n",
      "Training (6900 / 18000 Steps) (loss=0.38430):  80%|████████  | 61/76 [02:03<06:48, 27.21s/it]"
     ]
    },
    {
     "name": "stdout",
     "output_type": "stream",
     "text": [
      "Model Was Not Saved ! Current Best Avg. Dice: 0.4050787687301636 Current Avg. Dice: 0.37668439745903015 Current Avg. tumor Dice: 0.43887364864349365 Current Avg. lymph Dice: 0.26434436440467834\n"
     ]
    },
    {
     "name": "stderr",
     "output_type": "stream",
     "text": [
      "Training (6915 / 18000 Steps) (loss=0.26762): 100%|██████████| 76/76 [02:11<00:00,  1.72s/it]\n",
      "Training (6991 / 18000 Steps) (loss=0.60569): 100%|██████████| 76/76 [00:42<00:00,  1.79it/s]\n",
      "Validate (6992 / 10 Steps): 100%|██████████| 22/22 [01:29<00:00,  4.05s/it]00:38,  1.78it/s]\n",
      "Training (7000 / 18000 Steps) (loss=0.49424):  12%|█▏        | 9/76 [01:37<31:46, 28.45s/it]"
     ]
    },
    {
     "name": "stdout",
     "output_type": "stream",
     "text": [
      "Model Was Not Saved ! Current Best Avg. Dice: 0.4050787687301636 Current Avg. Dice: 0.33004072308540344 Current Avg. tumor Dice: 0.42815232276916504 Current Avg. lymph Dice: 0.1618712991476059\n"
     ]
    },
    {
     "name": "stderr",
     "output_type": "stream",
     "text": [
      "Training (7067 / 18000 Steps) (loss=0.61540): 100%|██████████| 76/76 [02:11<00:00,  1.73s/it]\n",
      "Validate (7068 / 10 Steps): 100%|██████████| 22/22 [01:29<00:00,  4.07s/it]<00:20,  2.15it/s]\n",
      "Training (7100 / 18000 Steps) (loss=0.50778):  43%|████▎     | 33/76 [01:49<19:36, 27.37s/it]"
     ]
    },
    {
     "name": "stdout",
     "output_type": "stream",
     "text": [
      "Model Was Not Saved ! Current Best Avg. Dice: 0.4050787687301636 Current Avg. Dice: 0.37810325622558594 Current Avg. tumor Dice: 0.4439540505409241 Current Avg. lymph Dice: 0.25718802213668823\n"
     ]
    },
    {
     "name": "stderr",
     "output_type": "stream",
     "text": [
      "Training (7143 / 18000 Steps) (loss=0.66758): 100%|██████████| 76/76 [02:11<00:00,  1.73s/it]\n",
      "Validate (7144 / 10 Steps): 100%|██████████| 22/22 [01:29<00:00,  4.05s/it]<00:09,  2.08it/s]\n",
      "Training (7200 / 18000 Steps) (loss=0.45566):  75%|███████▌  | 57/76 [02:02<08:37, 27.22s/it]"
     ]
    },
    {
     "name": "stdout",
     "output_type": "stream",
     "text": [
      "Model Was Not Saved ! Current Best Avg. Dice: 0.4050787687301636 Current Avg. Dice: 0.37278345227241516 Current Avg. tumor Dice: 0.40723976492881775 Current Avg. lymph Dice: 0.2960829734802246\n"
     ]
    },
    {
     "name": "stderr",
     "output_type": "stream",
     "text": [
      "Training (7219 / 18000 Steps) (loss=0.44957): 100%|██████████| 76/76 [02:11<00:00,  1.73s/it]\n",
      "Training (7295 / 18000 Steps) (loss=0.28577): 100%|██████████| 76/76 [00:42<00:00,  1.79it/s]\n",
      "Validate (7296 / 10 Steps): 100%|██████████| 22/22 [01:28<00:00,  4.04s/it]01:15,  1.05s/it]\n",
      "Training (7300 / 18000 Steps) (loss=0.60955):   7%|▋         | 5/76 [01:35<38:56, 32.91s/it]"
     ]
    },
    {
     "name": "stdout",
     "output_type": "stream",
     "text": [
      "Model Was Not Saved ! Current Best Avg. Dice: 0.4050787687301636 Current Avg. Dice: 0.3674330413341522 Current Avg. tumor Dice: 0.4178543984889984 Current Avg. lymph Dice: 0.26405537128448486\n"
     ]
    },
    {
     "name": "stderr",
     "output_type": "stream",
     "text": [
      "Training (7371 / 18000 Steps) (loss=0.39026): 100%|██████████| 76/76 [02:11<00:00,  1.72s/it]\n",
      "Validate (7372 / 10 Steps): 100%|██████████| 22/22 [01:29<00:00,  4.06s/it]<00:22,  2.11it/s]\n",
      "Training (7400 / 18000 Steps) (loss=0.67362):  38%|███▊      | 29/76 [01:48<21:20, 27.25s/it]"
     ]
    },
    {
     "name": "stdout",
     "output_type": "stream",
     "text": [
      "Model Was Not Saved ! Current Best Avg. Dice: 0.4050787687301636 Current Avg. Dice: 0.34491488337516785 Current Avg. tumor Dice: 0.4397014081478119 Current Avg. lymph Dice: 0.18572431802749634\n"
     ]
    },
    {
     "name": "stderr",
     "output_type": "stream",
     "text": [
      "Training (7447 / 18000 Steps) (loss=0.41778): 100%|██████████| 76/76 [02:11<00:00,  1.73s/it]\n",
      "Validate (7448 / 10 Steps): 100%|██████████| 22/22 [01:29<00:00,  4.05s/it]<00:11,  2.07it/s]\n",
      "Training (7500 / 18000 Steps) (loss=0.52545):  70%|██████▉   | 53/76 [01:59<10:26, 27.25s/it]"
     ]
    },
    {
     "name": "stdout",
     "output_type": "stream",
     "text": [
      "Model Was Not Saved ! Current Best Avg. Dice: 0.4050787687301636 Current Avg. Dice: 0.33722540736198425 Current Avg. tumor Dice: 0.43383708596229553 Current Avg. lymph Dice: 0.17189137637615204\n"
     ]
    },
    {
     "name": "stderr",
     "output_type": "stream",
     "text": [
      "Training (7523 / 18000 Steps) (loss=0.48792): 100%|██████████| 76/76 [02:10<00:00,  1.72s/it]\n",
      "Training (7599 / 18000 Steps) (loss=0.53119): 100%|██████████| 76/76 [00:41<00:00,  1.82it/s]\n",
      "Validate (7600 / 10 Steps): 100%|██████████| 22/22 [01:29<00:00,  4.06s/it]?, ?it/s]\n",
      "Training (7600 / 18000 Steps) (loss=0.67001):   1%|▏         | 1/76 [01:34<1:57:59, 94.40s/it]"
     ]
    },
    {
     "name": "stdout",
     "output_type": "stream",
     "text": [
      "Model Was Not Saved ! Current Best Avg. Dice: 0.4050787687301636 Current Avg. Dice: 0.3842228651046753 Current Avg. tumor Dice: 0.42306408286094666 Current Avg. lymph Dice: 0.30665844678878784\n"
     ]
    },
    {
     "name": "stderr",
     "output_type": "stream",
     "text": [
      "Training (7675 / 18000 Steps) (loss=0.47291): 100%|██████████| 76/76 [02:11<00:00,  1.74s/it] \n",
      "Validate (7676 / 10 Steps): 100%|██████████| 22/22 [01:29<00:00,  4.06s/it]<00:23,  2.22it/s]\n",
      "Training (7700 / 18000 Steps) (loss=0.26461):  33%|███▎      | 25/76 [01:46<23:14, 27.34s/it]"
     ]
    },
    {
     "name": "stdout",
     "output_type": "stream",
     "text": [
      "Model Was Not Saved ! Current Best Avg. Dice: 0.4050787687301636 Current Avg. Dice: 0.39202049374580383 Current Avg. tumor Dice: 0.441497802734375 Current Avg. lymph Dice: 0.28840214014053345\n"
     ]
    },
    {
     "name": "stderr",
     "output_type": "stream",
     "text": [
      "Training (7751 / 18000 Steps) (loss=0.66786): 100%|██████████| 76/76 [02:11<00:00,  1.73s/it]\n",
      "Validate (7752 / 10 Steps): 100%|██████████| 22/22 [01:29<00:00,  4.06s/it]<00:13,  2.01it/s]\n",
      "Training (7800 / 18000 Steps) (loss=0.38278):  64%|██████▍   | 49/76 [01:58<12:19, 27.37s/it]"
     ]
    },
    {
     "name": "stdout",
     "output_type": "stream",
     "text": [
      "Model Was Not Saved ! Current Best Avg. Dice: 0.4050787687301636 Current Avg. Dice: 0.3761710226535797 Current Avg. tumor Dice: 0.4414456784725189 Current Avg. lymph Dice: 0.2617587447166443\n"
     ]
    },
    {
     "name": "stderr",
     "output_type": "stream",
     "text": [
      "Training (7827 / 18000 Steps) (loss=0.61341): 100%|██████████| 76/76 [02:10<00:00,  1.72s/it]\n",
      "Validate (7828 / 10 Steps): 100%|██████████| 22/22 [01:29<00:00,  4.07s/it]<00:01,  2.02it/s]\n",
      "Training (7900 / 18000 Steps) (loss=0.66768):  96%|█████████▌| 73/76 [02:10<01:22, 27.39s/it]"
     ]
    },
    {
     "name": "stdout",
     "output_type": "stream",
     "text": [
      "Model Was Not Saved ! Current Best Avg. Dice: 0.4050787687301636 Current Avg. Dice: 0.38191214203834534 Current Avg. tumor Dice: 0.4206656515598297 Current Avg. lymph Dice: 0.2995500862598419\n"
     ]
    },
    {
     "name": "stderr",
     "output_type": "stream",
     "text": [
      "Training (7903 / 18000 Steps) (loss=0.51726): 100%|██████████| 76/76 [02:12<00:00,  1.74s/it]\n",
      "Training (7979 / 18000 Steps) (loss=0.38484): 100%|██████████| 76/76 [00:42<00:00,  1.79it/s]\n",
      "Validate (7980 / 10 Steps): 100%|██████████| 22/22 [01:29<00:00,  4.07s/it]<00:28,  1.95it/s]\n",
      "Training (8000 / 18000 Steps) (loss=0.58051):  28%|██▊       | 21/76 [01:44<25:08, 27.43s/it]"
     ]
    },
    {
     "name": "stdout",
     "output_type": "stream",
     "text": [
      "Model Was Not Saved ! Current Best Avg. Dice: 0.4050787687301636 Current Avg. Dice: 0.4007006585597992 Current Avg. tumor Dice: 0.44792306423187256 Current Avg. lymph Dice: 0.3103136718273163\n"
     ]
    },
    {
     "name": "stderr",
     "output_type": "stream",
     "text": [
      "Training (8055 / 18000 Steps) (loss=0.41947): 100%|██████████| 76/76 [02:12<00:00,  1.74s/it]\n",
      "Validate (8056 / 10 Steps): 100%|██████████| 22/22 [01:28<00:00,  4.04s/it]<00:15,  2.07it/s]\n",
      "Training (8100 / 18000 Steps) (loss=0.66833):  59%|█████▉    | 45/76 [01:56<14:03, 27.19s/it]"
     ]
    },
    {
     "name": "stdout",
     "output_type": "stream",
     "text": [
      "Model Was Not Saved ! Current Best Avg. Dice: 0.4050787687301636 Current Avg. Dice: 0.3745380640029907 Current Avg. tumor Dice: 0.36565059423446655 Current Avg. lymph Dice: 0.35841965675354004\n"
     ]
    },
    {
     "name": "stderr",
     "output_type": "stream",
     "text": [
      "Training (8131 / 18000 Steps) (loss=0.52780): 100%|██████████| 76/76 [02:11<00:00,  1.73s/it]\n",
      "Validate (8132 / 10 Steps): 100%|██████████| 22/22 [01:29<00:00,  4.05s/it]<00:03,  2.04it/s]\n",
      "Training (8200 / 18000 Steps) (loss=0.57785):  91%|█████████ | 69/76 [02:08<03:10, 27.26s/it]"
     ]
    },
    {
     "name": "stdout",
     "output_type": "stream",
     "text": [
      "Model Was Not Saved ! Current Best Avg. Dice: 0.4050787687301636 Current Avg. Dice: 0.3215184509754181 Current Avg. tumor Dice: 0.39845147728919983 Current Avg. lymph Dice: 0.1963750272989273\n"
     ]
    },
    {
     "name": "stderr",
     "output_type": "stream",
     "text": [
      "Training (8207 / 18000 Steps) (loss=0.49934): 100%|██████████| 76/76 [02:11<00:00,  1.74s/it]\n",
      "Training (8283 / 18000 Steps) (loss=0.67984): 100%|██████████| 76/76 [00:42<00:00,  1.78it/s]\n",
      "Validate (8284 / 10 Steps): 100%|██████████| 22/22 [01:29<00:00,  4.06s/it]<00:31,  1.90it/s]\n",
      "Training (8300 / 18000 Steps) (loss=0.60238):  22%|██▏       | 17/76 [01:43<27:06, 27.56s/it]"
     ]
    },
    {
     "name": "stdout",
     "output_type": "stream",
     "text": [
      "Model Was Not Saved ! Current Best Avg. Dice: 0.4050787687301636 Current Avg. Dice: 0.38446885347366333 Current Avg. tumor Dice: 0.43528246879577637 Current Avg. lymph Dice: 0.28741729259490967\n"
     ]
    },
    {
     "name": "stderr",
     "output_type": "stream",
     "text": [
      "Training (8359 / 18000 Steps) (loss=0.25048): 100%|██████████| 76/76 [02:12<00:00,  1.74s/it]\n",
      "Validate (8360 / 10 Steps): 100%|██████████| 22/22 [01:29<00:00,  4.07s/it]<00:17,  2.09it/s]\n",
      "Training (8400 / 18000 Steps) (loss=0.67964):  54%|█████▍    | 41/76 [01:54<15:58, 27.39s/it]"
     ]
    },
    {
     "name": "stdout",
     "output_type": "stream",
     "text": [
      "Model Was Not Saved ! Current Best Avg. Dice: 0.4050787687301636 Current Avg. Dice: 0.32183465361595154 Current Avg. tumor Dice: 0.38212722539901733 Current Avg. lymph Dice: 0.2107822299003601\n"
     ]
    },
    {
     "name": "stderr",
     "output_type": "stream",
     "text": [
      "Training (8435 / 18000 Steps) (loss=0.41686): 100%|██████████| 76/76 [02:11<00:00,  1.72s/it]\n",
      "Validate (8436 / 10 Steps): 100%|██████████| 22/22 [01:28<00:00,  4.04s/it]<00:05,  2.07it/s]\n",
      "Training (8500 / 18000 Steps) (loss=0.20648):  86%|████████▌ | 65/76 [02:05<04:59, 27.20s/it]"
     ]
    },
    {
     "name": "stdout",
     "output_type": "stream",
     "text": [
      "Model Was Not Saved ! Current Best Avg. Dice: 0.4050787687301636 Current Avg. Dice: 0.39858710765838623 Current Avg. tumor Dice: 0.47629982233047485 Current Avg. lymph Dice: 0.25806814432144165\n"
     ]
    },
    {
     "name": "stderr",
     "output_type": "stream",
     "text": [
      "Training (8511 / 18000 Steps) (loss=0.51376): 100%|██████████| 76/76 [02:10<00:00,  1.72s/it]\n",
      "Training (8587 / 18000 Steps) (loss=0.32982): 100%|██████████| 76/76 [00:41<00:00,  1.83it/s]\n",
      "Validate (8588 / 10 Steps): 100%|██████████| 22/22 [01:29<00:00,  4.07s/it]<00:33,  1.89it/s]\n",
      "Training (8600 / 18000 Steps) (loss=0.37958):  17%|█▋        | 13/76 [01:40<29:01, 27.65s/it]"
     ]
    },
    {
     "name": "stdout",
     "output_type": "stream",
     "text": [
      "Model Was Not Saved ! Current Best Avg. Dice: 0.4050787687301636 Current Avg. Dice: 0.3992941975593567 Current Avg. tumor Dice: 0.47148650884628296 Current Avg. lymph Dice: 0.2716837227344513\n"
     ]
    },
    {
     "name": "stderr",
     "output_type": "stream",
     "text": [
      "Training (8663 / 18000 Steps) (loss=0.60030): 100%|██████████| 76/76 [02:12<00:00,  1.74s/it]\n",
      "Validate (8664 / 10 Steps): 100%|██████████| 22/22 [01:29<00:00,  4.09s/it]<00:21,  1.87it/s]\n",
      "Training (8700 / 18000 Steps) (loss=0.47589):  49%|████▊     | 37/76 [01:54<17:52, 27.51s/it]"
     ]
    },
    {
     "name": "stdout",
     "output_type": "stream",
     "text": [
      "Model Was Not Saved ! Current Best Avg. Dice: 0.4050787687301636 Current Avg. Dice: 0.3886030316352844 Current Avg. tumor Dice: 0.4039604961872101 Current Avg. lymph Dice: 0.3459455370903015\n"
     ]
    },
    {
     "name": "stderr",
     "output_type": "stream",
     "text": [
      "Training (8739 / 18000 Steps) (loss=0.46244): 100%|██████████| 76/76 [02:13<00:00,  1.76s/it]\n",
      "Validate (8740 / 10 Steps): 100%|██████████| 22/22 [01:29<00:00,  4.06s/it]<00:07,  2.03it/s]\n",
      "Training (8800 / 18000 Steps) (loss=0.57241):  80%|████████  | 61/76 [02:07<06:53, 27.56s/it]"
     ]
    },
    {
     "name": "stdout",
     "output_type": "stream",
     "text": [
      "Model Was Saved ! Current Best Avg. Dice: 0.41312435269355774 Current Avg. Dice: 0.41312435269355774 Current Avg. tumor Dice: 0.4739423394203186 Current Avg. lymph Dice: 0.301762193441391\n"
     ]
    },
    {
     "name": "stderr",
     "output_type": "stream",
     "text": [
      "Training (8815 / 18000 Steps) (loss=0.50568): 100%|██████████| 76/76 [02:14<00:00,  1.77s/it]\n",
      "Training (8891 / 18000 Steps) (loss=0.28193): 100%|██████████| 76/76 [00:43<00:00,  1.74it/s]\n",
      "Validate (8892 / 10 Steps): 100%|██████████| 22/22 [01:29<00:00,  4.07s/it]00:43,  1.55it/s]\n",
      "Training (8900 / 18000 Steps) (loss=0.57418):  12%|█▏        | 9/76 [01:39<32:04, 28.73s/it]"
     ]
    },
    {
     "name": "stdout",
     "output_type": "stream",
     "text": [
      "Model Was Not Saved ! Current Best Avg. Dice: 0.41312435269355774 Current Avg. Dice: 0.3815803825855255 Current Avg. tumor Dice: 0.4613116979598999 Current Avg. lymph Dice: 0.2327905297279358\n"
     ]
    },
    {
     "name": "stderr",
     "output_type": "stream",
     "text": [
      "Training (8967 / 18000 Steps) (loss=0.51630): 100%|██████████| 76/76 [02:13<00:00,  1.76s/it]\n",
      "Validate (8968 / 10 Steps): 100%|██████████| 22/22 [01:29<00:00,  4.07s/it]<00:23,  1.90it/s]\n",
      "Training (9000 / 18000 Steps) (loss=0.51502):  43%|████▎     | 33/76 [01:51<19:39, 27.44s/it]"
     ]
    },
    {
     "name": "stdout",
     "output_type": "stream",
     "text": [
      "Model Was Not Saved ! Current Best Avg. Dice: 0.41312435269355774 Current Avg. Dice: 0.372031569480896 Current Avg. tumor Dice: 0.4040927290916443 Current Avg. lymph Dice: 0.2961268126964569\n"
     ]
    },
    {
     "name": "stderr",
     "output_type": "stream",
     "text": [
      "Training (9043 / 18000 Steps) (loss=0.52725): 100%|██████████| 76/76 [02:12<00:00,  1.74s/it]\n",
      "Validate (9044 / 10 Steps): 100%|██████████| 22/22 [01:29<00:00,  4.06s/it]<00:09,  2.06it/s]\n",
      "Training (9100 / 18000 Steps) (loss=0.57506):  75%|███████▌  | 57/76 [02:02<08:38, 27.29s/it]"
     ]
    },
    {
     "name": "stdout",
     "output_type": "stream",
     "text": [
      "Model Was Not Saved ! Current Best Avg. Dice: 0.41312435269355774 Current Avg. Dice: 0.3968195617198944 Current Avg. tumor Dice: 0.43877992033958435 Current Avg. lymph Dice: 0.32742393016815186\n"
     ]
    },
    {
     "name": "stderr",
     "output_type": "stream",
     "text": [
      "Training (9119 / 18000 Steps) (loss=0.59966): 100%|██████████| 76/76 [02:12<00:00,  1.74s/it]\n",
      "Training (9195 / 18000 Steps) (loss=0.47148): 100%|██████████| 76/76 [00:42<00:00,  1.80it/s]\n",
      "Validate (9196 / 10 Steps): 100%|██████████| 22/22 [01:28<00:00,  4.04s/it]01:16,  1.06s/it]\n",
      "Training (9200 / 18000 Steps) (loss=0.18236):   7%|▋         | 5/76 [01:35<39:00, 32.97s/it]"
     ]
    },
    {
     "name": "stdout",
     "output_type": "stream",
     "text": [
      "Model Was Not Saved ! Current Best Avg. Dice: 0.41312435269355774 Current Avg. Dice: 0.34728047251701355 Current Avg. tumor Dice: 0.376656174659729 Current Avg. lymph Dice: 0.2901124954223633\n"
     ]
    },
    {
     "name": "stderr",
     "output_type": "stream",
     "text": [
      "Training (9271 / 18000 Steps) (loss=0.42631): 100%|██████████| 76/76 [02:10<00:00,  1.72s/it]\n",
      "Validate (9272 / 10 Steps): 100%|██████████| 22/22 [01:28<00:00,  4.03s/it]<00:24,  1.96it/s]\n",
      "Training (9300 / 18000 Steps) (loss=0.24661):  38%|███▊      | 29/76 [01:47<21:17, 27.18s/it]"
     ]
    },
    {
     "name": "stdout",
     "output_type": "stream",
     "text": [
      "Model Was Not Saved ! Current Best Avg. Dice: 0.41312435269355774 Current Avg. Dice: 0.3991810083389282 Current Avg. tumor Dice: 0.43978169560432434 Current Avg. lymph Dice: 0.32125335931777954\n"
     ]
    },
    {
     "name": "stderr",
     "output_type": "stream",
     "text": [
      "Training (9347 / 18000 Steps) (loss=0.59308): 100%|██████████| 76/76 [02:10<00:00,  1.72s/it]\n",
      "Validate (9348 / 10 Steps): 100%|██████████| 22/22 [01:28<00:00,  4.02s/it]<00:11,  2.10it/s]\n",
      "Training (9400 / 18000 Steps) (loss=0.47294):  70%|██████▉   | 53/76 [01:59<10:22, 27.06s/it]"
     ]
    },
    {
     "name": "stdout",
     "output_type": "stream",
     "text": [
      "Model Was Not Saved ! Current Best Avg. Dice: 0.41312435269355774 Current Avg. Dice: 0.39049625396728516 Current Avg. tumor Dice: 0.46058809757232666 Current Avg. lymph Dice: 0.26697421073913574\n"
     ]
    },
    {
     "name": "stderr",
     "output_type": "stream",
     "text": [
      "Training (9423 / 18000 Steps) (loss=0.32995): 100%|██████████| 76/76 [02:10<00:00,  1.71s/it]\n",
      "Training (9499 / 18000 Steps) (loss=0.66782): 100%|██████████| 76/76 [00:41<00:00,  1.81it/s]\n",
      "Validate (9500 / 10 Steps): 100%|██████████| 22/22 [01:28<00:00,  4.04s/it]?, ?it/s]\n",
      "Training (9500 / 18000 Steps) (loss=0.20981):   1%|▏         | 1/76 [01:33<1:56:31, 93.22s/it]"
     ]
    },
    {
     "name": "stdout",
     "output_type": "stream",
     "text": [
      "Model Was Not Saved ! Current Best Avg. Dice: 0.41312435269355774 Current Avg. Dice: 0.35880276560783386 Current Avg. tumor Dice: 0.4317574203014374 Current Avg. lymph Dice: 0.23525571823120117\n"
     ]
    },
    {
     "name": "stderr",
     "output_type": "stream",
     "text": [
      "Training (9575 / 18000 Steps) (loss=0.26570): 100%|██████████| 76/76 [02:10<00:00,  1.71s/it] \n",
      "Validate (9576 / 10 Steps): 100%|██████████| 22/22 [01:28<00:00,  4.04s/it]<00:25,  2.07it/s]\n",
      "Training (9600 / 18000 Steps) (loss=0.67077):  33%|███▎      | 25/76 [01:45<23:10, 27.26s/it]"
     ]
    },
    {
     "name": "stdout",
     "output_type": "stream",
     "text": [
      "Model Was Not Saved ! Current Best Avg. Dice: 0.41312435269355774 Current Avg. Dice: 0.3600931167602539 Current Avg. tumor Dice: 0.44047895073890686 Current Avg. lymph Dice: 0.2172175794839859\n"
     ]
    },
    {
     "name": "stderr",
     "output_type": "stream",
     "text": [
      "Training (9651 / 18000 Steps) (loss=0.31939): 100%|██████████| 76/76 [02:10<00:00,  1.72s/it]\n",
      "Validate (9652 / 10 Steps): 100%|██████████| 22/22 [01:29<00:00,  4.05s/it]<00:13,  2.07it/s]\n",
      "Training (9700 / 18000 Steps) (loss=0.53192):  64%|██████▍   | 49/76 [01:57<12:15, 27.25s/it]"
     ]
    },
    {
     "name": "stdout",
     "output_type": "stream",
     "text": [
      "Model Was Not Saved ! Current Best Avg. Dice: 0.41312435269355774 Current Avg. Dice: 0.38077065348625183 Current Avg. tumor Dice: 0.41109615564346313 Current Avg. lymph Dice: 0.3179163932800293\n"
     ]
    },
    {
     "name": "stderr",
     "output_type": "stream",
     "text": [
      "Training (9727 / 18000 Steps) (loss=0.41510): 100%|██████████| 76/76 [02:10<00:00,  1.72s/it]\n",
      "Validate (9728 / 10 Steps): 100%|██████████| 22/22 [01:28<00:00,  4.03s/it]<00:01,  2.01it/s]\n",
      "Training (9800 / 18000 Steps) (loss=0.37887):  96%|█████████▌| 73/76 [02:09<01:21, 27.10s/it]"
     ]
    },
    {
     "name": "stdout",
     "output_type": "stream",
     "text": [
      "Model Was Not Saved ! Current Best Avg. Dice: 0.41312435269355774 Current Avg. Dice: 0.3621140718460083 Current Avg. tumor Dice: 0.44011542201042175 Current Avg. lymph Dice: 0.23510225117206573\n"
     ]
    },
    {
     "name": "stderr",
     "output_type": "stream",
     "text": [
      "Training (9803 / 18000 Steps) (loss=0.42577): 100%|██████████| 76/76 [02:11<00:00,  1.73s/it]\n",
      "Training (9879 / 18000 Steps) (loss=0.45227): 100%|██████████| 76/76 [00:42<00:00,  1.81it/s]\n",
      "Validate (9880 / 10 Steps): 100%|██████████| 22/22 [01:29<00:00,  4.06s/it]<00:29,  1.93it/s]\n",
      "Training (9900 / 18000 Steps) (loss=0.53328):  28%|██▊       | 21/76 [01:43<25:01, 27.31s/it]"
     ]
    },
    {
     "name": "stdout",
     "output_type": "stream",
     "text": [
      "Model Was Not Saved ! Current Best Avg. Dice: 0.41312435269355774 Current Avg. Dice: 0.3826594650745392 Current Avg. tumor Dice: 0.45837756991386414 Current Avg. lymph Dice: 0.248442143201828\n"
     ]
    },
    {
     "name": "stderr",
     "output_type": "stream",
     "text": [
      "Training (9955 / 18000 Steps) (loss=0.55163): 100%|██████████| 76/76 [02:10<00:00,  1.71s/it]\n",
      "Validate (9956 / 10 Steps): 100%|██████████| 22/22 [01:29<00:00,  4.05s/it]6<00:14,  2.14it/s]\n",
      "Training (10000 / 18000 Steps) (loss=0.44177):  59%|█████▉    | 45/76 [01:55<14:04, 27.24s/it]"
     ]
    },
    {
     "name": "stdout",
     "output_type": "stream",
     "text": [
      "Model Was Not Saved ! Current Best Avg. Dice: 0.41312435269355774 Current Avg. Dice: 0.33091437816619873 Current Avg. tumor Dice: 0.44424566626548767 Current Avg. lymph Dice: 0.14772441983222961\n"
     ]
    },
    {
     "name": "stderr",
     "output_type": "stream",
     "text": [
      "Training (10031 / 18000 Steps) (loss=0.22804): 100%|██████████| 76/76 [02:10<00:00,  1.72s/it]\n",
      "Validate (10032 / 10 Steps): 100%|██████████| 22/22 [01:29<00:00,  4.06s/it]<00:03,  2.12it/s]\n",
      "Training (10100 / 18000 Steps) (loss=0.49630):  91%|█████████ | 69/76 [02:06<03:11, 27.31s/it]"
     ]
    },
    {
     "name": "stdout",
     "output_type": "stream",
     "text": [
      "Model Was Not Saved ! Current Best Avg. Dice: 0.41312435269355774 Current Avg. Dice: 0.3204602003097534 Current Avg. tumor Dice: 0.4376867413520813 Current Avg. lymph Dice: 0.13181787729263306\n"
     ]
    },
    {
     "name": "stderr",
     "output_type": "stream",
     "text": [
      "Training (10107 / 18000 Steps) (loss=0.52505): 100%|██████████| 76/76 [02:10<00:00,  1.71s/it]\n",
      "Training (10183 / 18000 Steps) (loss=0.45513): 100%|██████████| 76/76 [00:41<00:00,  1.84it/s]\n",
      "Validate (10184 / 10 Steps): 100%|██████████| 22/22 [01:28<00:00,  4.05s/it]<00:29,  2.05it/s]\n",
      "Training (10200 / 18000 Steps) (loss=0.42496):  22%|██▏       | 17/76 [01:41<26:54, 27.37s/it]"
     ]
    },
    {
     "name": "stdout",
     "output_type": "stream",
     "text": [
      "Model Was Not Saved ! Current Best Avg. Dice: 0.41312435269355774 Current Avg. Dice: 0.39123961329460144 Current Avg. tumor Dice: 0.47054117918014526 Current Avg. lymph Dice: 0.2533422112464905\n"
     ]
    },
    {
     "name": "stderr",
     "output_type": "stream",
     "text": [
      "Training (10259 / 18000 Steps) (loss=0.50252): 100%|██████████| 76/76 [02:10<00:00,  1.71s/it]\n",
      "Validate (10260 / 10 Steps): 100%|██████████| 22/22 [01:29<00:00,  4.05s/it]<00:16,  2.13it/s]\n",
      "Training (10300 / 18000 Steps) (loss=0.52308):  54%|█████▍    | 41/76 [01:53<15:54, 27.27s/it]"
     ]
    },
    {
     "name": "stdout",
     "output_type": "stream",
     "text": [
      "Model Was Not Saved ! Current Best Avg. Dice: 0.41312435269355774 Current Avg. Dice: 0.38509175181388855 Current Avg. tumor Dice: 0.4627496302127838 Current Avg. lymph Dice: 0.2538677453994751\n"
     ]
    },
    {
     "name": "stderr",
     "output_type": "stream",
     "text": [
      "Training (10335 / 18000 Steps) (loss=0.33798): 100%|██████████| 76/76 [02:10<00:00,  1.72s/it]\n",
      "Validate (10336 / 10 Steps): 100%|██████████| 22/22 [01:29<00:00,  4.05s/it]<00:05,  2.11it/s]\n",
      "Training (10400 / 18000 Steps) (loss=0.56482):  86%|████████▌ | 65/76 [02:04<04:59, 27.23s/it]"
     ]
    },
    {
     "name": "stdout",
     "output_type": "stream",
     "text": [
      "Model Was Not Saved ! Current Best Avg. Dice: 0.41312435269355774 Current Avg. Dice: 0.3696061968803406 Current Avg. tumor Dice: 0.45843973755836487 Current Avg. lymph Dice: 0.2201070487499237\n"
     ]
    },
    {
     "name": "stderr",
     "output_type": "stream",
     "text": [
      "Training (10411 / 18000 Steps) (loss=0.67185): 100%|██████████| 76/76 [02:10<00:00,  1.71s/it]\n",
      "Training (10487 / 18000 Steps) (loss=0.46938): 100%|██████████| 76/76 [00:40<00:00,  1.86it/s]\n",
      "Validate (10488 / 10 Steps): 100%|██████████| 22/22 [01:29<00:00,  4.05s/it]<00:36,  1.75it/s]\n",
      "Training (10500 / 18000 Steps) (loss=0.43115):  17%|█▋        | 13/76 [01:39<28:56, 27.56s/it]"
     ]
    },
    {
     "name": "stdout",
     "output_type": "stream",
     "text": [
      "Model Was Not Saved ! Current Best Avg. Dice: 0.41312435269355774 Current Avg. Dice: 0.4091958999633789 Current Avg. tumor Dice: 0.42444923520088196 Current Avg. lymph Dice: 0.3524518609046936\n"
     ]
    },
    {
     "name": "stderr",
     "output_type": "stream",
     "text": [
      "Training (10563 / 18000 Steps) (loss=0.35511): 100%|██████████| 76/76 [02:09<00:00,  1.71s/it]\n",
      "Validate (10564 / 10 Steps): 100%|██████████| 22/22 [01:29<00:00,  4.05s/it]<00:18,  2.11it/s]\n",
      "Training (10600 / 18000 Steps) (loss=0.55899):  49%|████▊     | 37/76 [01:50<17:43, 27.26s/it]"
     ]
    },
    {
     "name": "stdout",
     "output_type": "stream",
     "text": [
      "Model Was Not Saved ! Current Best Avg. Dice: 0.41312435269355774 Current Avg. Dice: 0.38595208525657654 Current Avg. tumor Dice: 0.4074503183364868 Current Avg. lymph Dice: 0.3170713186264038\n"
     ]
    },
    {
     "name": "stderr",
     "output_type": "stream",
     "text": [
      "Training (10639 / 18000 Steps) (loss=0.45645): 100%|██████████| 76/76 [02:09<00:00,  1.70s/it]\n",
      "Validate (10640 / 10 Steps): 100%|██████████| 22/22 [01:29<00:00,  4.06s/it]<00:07,  2.05it/s]\n",
      "Training (10700 / 18000 Steps) (loss=0.45205):  80%|████████  | 61/76 [02:02<06:49, 27.27s/it]"
     ]
    },
    {
     "name": "stdout",
     "output_type": "stream",
     "text": [
      "Model Was Not Saved ! Current Best Avg. Dice: 0.41312435269355774 Current Avg. Dice: 0.3613004982471466 Current Avg. tumor Dice: 0.4122805893421173 Current Avg. lymph Dice: 0.259271502494812\n"
     ]
    },
    {
     "name": "stderr",
     "output_type": "stream",
     "text": [
      "Training (10715 / 18000 Steps) (loss=0.51072): 100%|██████████| 76/76 [02:10<00:00,  1.71s/it]\n",
      "Training (10791 / 18000 Steps) (loss=0.54471): 100%|██████████| 76/76 [00:40<00:00,  1.89it/s]\n",
      "Validate (10792 / 10 Steps): 100%|██████████| 22/22 [01:29<00:00,  4.07s/it]00:35,  1.92it/s]\n",
      "Training (10800 / 18000 Steps) (loss=0.59970):  12%|█▏        | 9/76 [01:37<31:58, 28.63s/it]"
     ]
    },
    {
     "name": "stdout",
     "output_type": "stream",
     "text": [
      "Model Was Not Saved ! Current Best Avg. Dice: 0.41312435269355774 Current Avg. Dice: 0.3084790110588074 Current Avg. tumor Dice: 0.3323991596698761 Current Avg. lymph Dice: 0.251401424407959\n"
     ]
    },
    {
     "name": "stderr",
     "output_type": "stream",
     "text": [
      "Training (10867 / 18000 Steps) (loss=0.66725): 100%|██████████| 76/76 [02:09<00:00,  1.71s/it]\n",
      "Validate (10868 / 10 Steps): 100%|██████████| 22/22 [01:29<00:00,  4.07s/it]<00:21,  2.09it/s]\n",
      "Training (10900 / 18000 Steps) (loss=0.52605):  43%|████▎     | 33/76 [01:49<19:37, 27.39s/it]"
     ]
    },
    {
     "name": "stdout",
     "output_type": "stream",
     "text": [
      "Model Was Not Saved ! Current Best Avg. Dice: 0.41312435269355774 Current Avg. Dice: 0.33906811475753784 Current Avg. tumor Dice: 0.4389103949069977 Current Avg. lymph Dice: 0.16491897404193878\n"
     ]
    },
    {
     "name": "stderr",
     "output_type": "stream",
     "text": [
      "Training (10943 / 18000 Steps) (loss=0.67258): 100%|██████████| 76/76 [02:10<00:00,  1.72s/it]\n",
      "Validate (10944 / 10 Steps): 100%|██████████| 22/22 [01:29<00:00,  4.08s/it]<00:09,  2.11it/s]\n",
      "Training (11000 / 18000 Steps) (loss=0.26752):  75%|███████▌  | 57/76 [02:00<08:40, 27.40s/it]"
     ]
    },
    {
     "name": "stdout",
     "output_type": "stream",
     "text": [
      "Model Was Not Saved ! Current Best Avg. Dice: 0.41312435269355774 Current Avg. Dice: 0.3227461278438568 Current Avg. tumor Dice: 0.4356626868247986 Current Avg. lymph Dice: 0.13275092840194702\n"
     ]
    },
    {
     "name": "stderr",
     "output_type": "stream",
     "text": [
      "Training (11019 / 18000 Steps) (loss=0.39772): 100%|██████████| 76/76 [02:09<00:00,  1.71s/it]\n",
      "Training (11095 / 18000 Steps) (loss=0.50110): 100%|██████████| 76/76 [00:40<00:00,  1.87it/s]\n",
      "Validate (11096 / 10 Steps): 100%|██████████| 22/22 [01:29<00:00,  4.08s/it]01:06,  1.08it/s]\n",
      "Training (11100 / 18000 Steps) (loss=0.48629):   7%|▋         | 5/76 [01:35<39:11, 33.12s/it]"
     ]
    },
    {
     "name": "stdout",
     "output_type": "stream",
     "text": [
      "Model Was Not Saved ! Current Best Avg. Dice: 0.41312435269355774 Current Avg. Dice: 0.36134111881256104 Current Avg. tumor Dice: 0.4091164767742157 Current Avg. lymph Dice: 0.2548213601112366\n"
     ]
    },
    {
     "name": "stderr",
     "output_type": "stream",
     "text": [
      "Training (11171 / 18000 Steps) (loss=0.67096): 100%|██████████| 76/76 [02:10<00:00,  1.72s/it]\n",
      "Validate (11172 / 10 Steps): 100%|██████████| 22/22 [01:29<00:00,  4.07s/it]<00:22,  2.13it/s]\n",
      "Training (11200 / 18000 Steps) (loss=0.52673):  38%|███▊      | 29/76 [01:47<21:27, 27.40s/it]"
     ]
    },
    {
     "name": "stdout",
     "output_type": "stream",
     "text": [
      "Model Was Not Saved ! Current Best Avg. Dice: 0.41312435269355774 Current Avg. Dice: 0.35649070143699646 Current Avg. tumor Dice: 0.42806345224380493 Current Avg. lymph Dice: 0.2293839454650879\n"
     ]
    },
    {
     "name": "stderr",
     "output_type": "stream",
     "text": [
      "Training (11247 / 18000 Steps) (loss=0.41423): 100%|██████████| 76/76 [02:10<00:00,  1.71s/it]\n",
      "Validate (11248 / 10 Steps): 100%|██████████| 22/22 [01:29<00:00,  4.07s/it]<00:11,  2.07it/s]\n",
      "Training (11300 / 18000 Steps) (loss=0.61487):  70%|██████▉   | 53/76 [01:58<10:28, 27.34s/it]"
     ]
    },
    {
     "name": "stdout",
     "output_type": "stream",
     "text": [
      "Model Was Not Saved ! Current Best Avg. Dice: 0.41312435269355774 Current Avg. Dice: 0.3657969534397125 Current Avg. tumor Dice: 0.3818565905094147 Current Avg. lymph Dice: 0.30514663457870483\n"
     ]
    },
    {
     "name": "stderr",
     "output_type": "stream",
     "text": [
      "Training (11323 / 18000 Steps) (loss=0.35737): 100%|██████████| 76/76 [02:09<00:00,  1.71s/it]\n",
      "Training (11399 / 18000 Steps) (loss=0.44542): 100%|██████████| 76/76 [00:40<00:00,  1.87it/s]\n",
      "Validate (11400 / 10 Steps): 100%|██████████| 22/22 [01:29<00:00,  4.05s/it]?, ?it/s]\n",
      "Training (11400 / 18000 Steps) (loss=0.49181):   1%|▏         | 1/76 [01:33<1:56:27, 93.17s/it]"
     ]
    },
    {
     "name": "stdout",
     "output_type": "stream",
     "text": [
      "Model Was Not Saved ! Current Best Avg. Dice: 0.41312435269355774 Current Avg. Dice: 0.3736759424209595 Current Avg. tumor Dice: 0.4360279440879822 Current Avg. lymph Dice: 0.26278528571128845\n"
     ]
    },
    {
     "name": "stderr",
     "output_type": "stream",
     "text": [
      "Training (11475 / 18000 Steps) (loss=0.41660): 100%|██████████| 76/76 [02:10<00:00,  1.71s/it] \n",
      "Validate (11476 / 10 Steps): 100%|██████████| 22/22 [01:29<00:00,  4.06s/it]<00:23,  2.18it/s]\n",
      "Training (11500 / 18000 Steps) (loss=0.54185):  33%|███▎      | 25/76 [01:44<23:11, 27.28s/it]"
     ]
    },
    {
     "name": "stdout",
     "output_type": "stream",
     "text": [
      "Model Was Not Saved ! Current Best Avg. Dice: 0.41312435269355774 Current Avg. Dice: 0.3656972050666809 Current Avg. tumor Dice: 0.416617214679718 Current Avg. lymph Dice: 0.25919708609580994\n"
     ]
    },
    {
     "name": "stderr",
     "output_type": "stream",
     "text": [
      "Training (11551 / 18000 Steps) (loss=0.66719): 100%|██████████| 76/76 [02:10<00:00,  1.71s/it]\n",
      "Validate (11552 / 10 Steps): 100%|██████████| 22/22 [01:29<00:00,  4.06s/it]<00:13,  2.09it/s]\n",
      "Training (11600 / 18000 Steps) (loss=0.46935):  64%|██████▍   | 49/76 [01:57<12:17, 27.31s/it]"
     ]
    },
    {
     "name": "stdout",
     "output_type": "stream",
     "text": [
      "Model Was Not Saved ! Current Best Avg. Dice: 0.41312435269355774 Current Avg. Dice: 0.35462743043899536 Current Avg. tumor Dice: 0.4087989330291748 Current Avg. lymph Dice: 0.24659262597560883\n"
     ]
    },
    {
     "name": "stderr",
     "output_type": "stream",
     "text": [
      "Training (11627 / 18000 Steps) (loss=0.58024): 100%|██████████| 76/76 [02:10<00:00,  1.71s/it]\n",
      "Validate (11628 / 10 Steps): 100%|██████████| 22/22 [01:29<00:00,  4.05s/it]<00:01,  2.18it/s]\n",
      "Training (11700 / 18000 Steps) (loss=0.41914):  96%|█████████▌| 73/76 [02:07<01:21, 27.19s/it]"
     ]
    },
    {
     "name": "stdout",
     "output_type": "stream",
     "text": [
      "Model Was Not Saved ! Current Best Avg. Dice: 0.41312435269355774 Current Avg. Dice: 0.39875030517578125 Current Avg. tumor Dice: 0.4153739809989929 Current Avg. lymph Dice: 0.35263341665267944\n"
     ]
    },
    {
     "name": "stderr",
     "output_type": "stream",
     "text": [
      "Training (11703 / 18000 Steps) (loss=0.51576): 100%|██████████| 76/76 [02:09<00:00,  1.70s/it]\n",
      "Training (11779 / 18000 Steps) (loss=0.34577): 100%|██████████| 76/76 [00:41<00:00,  1.85it/s]\n",
      "Validate (11780 / 10 Steps): 100%|██████████| 22/22 [01:29<00:00,  4.06s/it]<00:31,  1.76it/s]\n",
      "Training (11800 / 18000 Steps) (loss=0.57565):  28%|██▊       | 21/76 [01:43<25:04, 27.36s/it]"
     ]
    },
    {
     "name": "stdout",
     "output_type": "stream",
     "text": [
      "Model Was Not Saved ! Current Best Avg. Dice: 0.41312435269355774 Current Avg. Dice: 0.3907169997692108 Current Avg. tumor Dice: 0.4330953061580658 Current Avg. lymph Dice: 0.30519425868988037\n"
     ]
    },
    {
     "name": "stderr",
     "output_type": "stream",
     "text": [
      "Training (11855 / 18000 Steps) (loss=0.43700): 100%|██████████| 76/76 [02:10<00:00,  1.71s/it]\n",
      "Validate (11856 / 10 Steps): 100%|██████████| 22/22 [01:29<00:00,  4.06s/it]<00:15,  2.10it/s]\n",
      "Training (11900 / 18000 Steps) (loss=0.66715):  59%|█████▉    | 45/76 [01:55<14:06, 27.30s/it]"
     ]
    },
    {
     "name": "stdout",
     "output_type": "stream",
     "text": [
      "Model Was Not Saved ! Current Best Avg. Dice: 0.41312435269355774 Current Avg. Dice: 0.3868260681629181 Current Avg. tumor Dice: 0.4502517580986023 Current Avg. lymph Dice: 0.2702125310897827\n"
     ]
    },
    {
     "name": "stderr",
     "output_type": "stream",
     "text": [
      "Training (11931 / 18000 Steps) (loss=0.48369): 100%|██████████| 76/76 [02:10<00:00,  1.72s/it]\n",
      "Validate (11932 / 10 Steps): 100%|██████████| 22/22 [01:29<00:00,  4.06s/it]<00:03,  2.12it/s]\n",
      "Training (12000 / 18000 Steps) (loss=0.43311):  91%|█████████ | 69/76 [02:06<03:10, 27.27s/it]"
     ]
    },
    {
     "name": "stdout",
     "output_type": "stream",
     "text": [
      "Model Was Not Saved ! Current Best Avg. Dice: 0.41312435269355774 Current Avg. Dice: 0.3235144317150116 Current Avg. tumor Dice: 0.30028852820396423 Current Avg. lymph Dice: 0.3335350751876831\n"
     ]
    },
    {
     "name": "stderr",
     "output_type": "stream",
     "text": [
      "Training (12007 / 18000 Steps) (loss=0.32873): 100%|██████████| 76/76 [02:10<00:00,  1.71s/it]\n",
      "Training (12083 / 18000 Steps) (loss=0.61869): 100%|██████████| 76/76 [00:41<00:00,  1.85it/s]\n",
      "Validate (12084 / 10 Steps): 100%|██████████| 22/22 [01:29<00:00,  4.06s/it]<00:27,  2.16it/s]\n",
      "Training (12100 / 18000 Steps) (loss=0.66730):  22%|██▏       | 17/76 [01:41<27:01, 27.49s/it]"
     ]
    },
    {
     "name": "stdout",
     "output_type": "stream",
     "text": [
      "Model Was Not Saved ! Current Best Avg. Dice: 0.41312435269355774 Current Avg. Dice: 0.4032641351222992 Current Avg. tumor Dice: 0.4606320858001709 Current Avg. lymph Dice: 0.28437089920043945\n"
     ]
    },
    {
     "name": "stderr",
     "output_type": "stream",
     "text": [
      "Training (12159 / 18000 Steps) (loss=0.67327): 100%|██████████| 76/76 [02:10<00:00,  1.72s/it]\n",
      "Validate (12160 / 10 Steps): 100%|██████████| 22/22 [01:29<00:00,  4.07s/it]<00:17,  2.10it/s]\n",
      "Training (12200 / 18000 Steps) (loss=0.31182):  54%|█████▍    | 41/76 [01:53<15:57, 27.37s/it]"
     ]
    },
    {
     "name": "stdout",
     "output_type": "stream",
     "text": [
      "Model Was Not Saved ! Current Best Avg. Dice: 0.41312435269355774 Current Avg. Dice: 0.4120734930038452 Current Avg. tumor Dice: 0.40963616967201233 Current Avg. lymph Dice: 0.38012611865997314\n"
     ]
    },
    {
     "name": "stderr",
     "output_type": "stream",
     "text": [
      "Training (12235 / 18000 Steps) (loss=0.61117): 100%|██████████| 76/76 [02:10<00:00,  1.72s/it]\n",
      "Validate (12236 / 10 Steps): 100%|██████████| 22/22 [01:29<00:00,  4.06s/it]<00:05,  2.13it/s]\n",
      "Training (12300 / 18000 Steps) (loss=0.53926):  86%|████████▌ | 65/76 [02:04<05:00, 27.31s/it]"
     ]
    },
    {
     "name": "stdout",
     "output_type": "stream",
     "text": [
      "Model Was Not Saved ! Current Best Avg. Dice: 0.41312435269355774 Current Avg. Dice: 0.39335545897483826 Current Avg. tumor Dice: 0.44159942865371704 Current Avg. lymph Dice: 0.29578888416290283\n"
     ]
    },
    {
     "name": "stderr",
     "output_type": "stream",
     "text": [
      "Training (12311 / 18000 Steps) (loss=0.60886): 100%|██████████| 76/76 [02:10<00:00,  1.71s/it]\n",
      "Training (12387 / 18000 Steps) (loss=0.43660): 100%|██████████| 76/76 [00:41<00:00,  1.85it/s]\n",
      "Validate (12388 / 10 Steps): 100%|██████████| 22/22 [01:29<00:00,  4.06s/it]<00:39,  1.61it/s]\n",
      "Training (12400 / 18000 Steps) (loss=0.46398):  17%|█▋        | 13/76 [01:39<29:00, 27.62s/it]"
     ]
    },
    {
     "name": "stdout",
     "output_type": "stream",
     "text": [
      "Model Was Not Saved ! Current Best Avg. Dice: 0.41312435269355774 Current Avg. Dice: 0.3695359230041504 Current Avg. tumor Dice: 0.4593276083469391 Current Avg. lymph Dice: 0.2169625163078308\n"
     ]
    },
    {
     "name": "stderr",
     "output_type": "stream",
     "text": [
      "Training (12463 / 18000 Steps) (loss=0.58302): 100%|██████████| 76/76 [02:10<00:00,  1.72s/it]\n",
      "Validate (12464 / 10 Steps): 100%|██████████| 22/22 [01:28<00:00,  4.05s/it]<00:19,  2.04it/s]\n",
      "Training (12500 / 18000 Steps) (loss=0.58221):  49%|████▊     | 37/76 [01:51<17:40, 27.20s/it]"
     ]
    },
    {
     "name": "stdout",
     "output_type": "stream",
     "text": [
      "Model Was Not Saved ! Current Best Avg. Dice: 0.41312435269355774 Current Avg. Dice: 0.38389110565185547 Current Avg. tumor Dice: 0.46544429659843445 Current Avg. lymph Dice: 0.23463886976242065\n"
     ]
    },
    {
     "name": "stderr",
     "output_type": "stream",
     "text": [
      "Training (12539 / 18000 Steps) (loss=0.66771): 100%|██████████| 76/76 [02:10<00:00,  1.72s/it]\n",
      "Validate (12540 / 10 Steps): 100%|██████████| 22/22 [01:29<00:00,  4.07s/it]<00:07,  2.04it/s]\n",
      "Training (12600 / 18000 Steps) (loss=0.47871):  80%|████████  | 61/76 [02:03<06:50, 27.38s/it]"
     ]
    },
    {
     "name": "stdout",
     "output_type": "stream",
     "text": [
      "Model Was Not Saved ! Current Best Avg. Dice: 0.41312435269355774 Current Avg. Dice: 0.4010729491710663 Current Avg. tumor Dice: 0.4655360281467438 Current Avg. lymph Dice: 0.28698164224624634\n"
     ]
    },
    {
     "name": "stderr",
     "output_type": "stream",
     "text": [
      "Training (12615 / 18000 Steps) (loss=0.66735): 100%|██████████| 76/76 [02:10<00:00,  1.72s/it]\n",
      "Training (12691 / 18000 Steps) (loss=0.48258): 100%|██████████| 76/76 [00:40<00:00,  1.86it/s]\n",
      "Validate (12692 / 10 Steps): 100%|██████████| 22/22 [01:28<00:00,  4.04s/it]00:37,  1.81it/s]\n",
      "Training (12700 / 18000 Steps) (loss=0.31169):  12%|█▏        | 9/76 [01:37<31:47, 28.47s/it]"
     ]
    },
    {
     "name": "stdout",
     "output_type": "stream",
     "text": [
      "Model Was Not Saved ! Current Best Avg. Dice: 0.41312435269355774 Current Avg. Dice: 0.3742758631706238 Current Avg. tumor Dice: 0.3863934874534607 Current Avg. lymph Dice: 0.33342450857162476\n"
     ]
    },
    {
     "name": "stderr",
     "output_type": "stream",
     "text": [
      "Training (12767 / 18000 Steps) (loss=0.43415): 100%|██████████| 76/76 [02:09<00:00,  1.71s/it]\n",
      "Validate (12768 / 10 Steps): 100%|██████████| 22/22 [01:29<00:00,  4.06s/it]<00:20,  2.14it/s]\n",
      "Training (12800 / 18000 Steps) (loss=0.67273):  43%|████▎     | 33/76 [01:50<19:45, 27.57s/it]"
     ]
    },
    {
     "name": "stdout",
     "output_type": "stream",
     "text": [
      "Model Was Saved ! Current Best Avg. Dice: 0.41442906856536865 Current Avg. Dice: 0.41442906856536865 Current Avg. tumor Dice: 0.4660228490829468 Current Avg. lymph Dice: 0.31133216619491577\n"
     ]
    },
    {
     "name": "stderr",
     "output_type": "stream",
     "text": [
      "Training (12843 / 18000 Steps) (loss=0.56874): 100%|██████████| 76/76 [02:11<00:00,  1.73s/it]\n",
      "Validate (12844 / 10 Steps): 100%|██████████| 22/22 [01:28<00:00,  4.04s/it]<00:10,  1.95it/s]\n",
      "Training (12900 / 18000 Steps) (loss=0.52638):  75%|███████▌  | 57/76 [02:01<08:36, 27.19s/it]"
     ]
    },
    {
     "name": "stdout",
     "output_type": "stream",
     "text": [
      "Model Was Not Saved ! Current Best Avg. Dice: 0.41442906856536865 Current Avg. Dice: 0.36634427309036255 Current Avg. tumor Dice: 0.36568745970726013 Current Avg. lymph Dice: 0.33115631341934204\n"
     ]
    },
    {
     "name": "stderr",
     "output_type": "stream",
     "text": [
      "Training (12919 / 18000 Steps) (loss=0.57419): 100%|██████████| 76/76 [02:10<00:00,  1.72s/it]\n",
      "Training (12995 / 18000 Steps) (loss=0.56440): 100%|██████████| 76/76 [00:40<00:00,  1.85it/s]\n",
      "Validate (12996 / 10 Steps): 100%|██████████| 22/22 [01:29<00:00,  4.06s/it]01:13,  1.02s/it]\n",
      "Training (13000 / 18000 Steps) (loss=0.39736):   7%|▋         | 5/76 [01:35<39:07, 33.07s/it]"
     ]
    },
    {
     "name": "stdout",
     "output_type": "stream",
     "text": [
      "Model Was Not Saved ! Current Best Avg. Dice: 0.41442906856536865 Current Avg. Dice: 0.3966614007949829 Current Avg. tumor Dice: 0.45859989523887634 Current Avg. lymph Dice: 0.28092706203460693\n"
     ]
    },
    {
     "name": "stderr",
     "output_type": "stream",
     "text": [
      "Training (13071 / 18000 Steps) (loss=0.25579): 100%|██████████| 76/76 [02:10<00:00,  1.71s/it]\n",
      "Validate (13072 / 10 Steps): 100%|██████████| 22/22 [01:28<00:00,  4.03s/it]<00:23,  2.02it/s]\n",
      "Training (13100 / 18000 Steps) (loss=0.28530):  38%|███▊      | 29/76 [01:47<21:13, 27.11s/it]"
     ]
    },
    {
     "name": "stdout",
     "output_type": "stream",
     "text": [
      "Model Was Not Saved ! Current Best Avg. Dice: 0.41442906856536865 Current Avg. Dice: 0.40960654616355896 Current Avg. tumor Dice: 0.4793549180030823 Current Avg. lymph Dice: 0.2770277261734009\n"
     ]
    },
    {
     "name": "stderr",
     "output_type": "stream",
     "text": [
      "Training (13147 / 18000 Steps) (loss=0.48132): 100%|██████████| 76/76 [02:10<00:00,  1.71s/it]\n",
      "Validate (13148 / 10 Steps): 100%|██████████| 22/22 [01:28<00:00,  4.03s/it]<00:11,  2.00it/s]\n",
      "Training (13200 / 18000 Steps) (loss=0.57626):  70%|██████▉   | 53/76 [01:59<10:23, 27.12s/it]"
     ]
    },
    {
     "name": "stdout",
     "output_type": "stream",
     "text": [
      "Model Was Not Saved ! Current Best Avg. Dice: 0.41442906856536865 Current Avg. Dice: 0.39875203371047974 Current Avg. tumor Dice: 0.46499189734458923 Current Avg. lymph Dice: 0.26433050632476807\n"
     ]
    },
    {
     "name": "stderr",
     "output_type": "stream",
     "text": [
      "Training (13223 / 18000 Steps) (loss=0.40931): 100%|██████████| 76/76 [02:10<00:00,  1.72s/it]\n",
      "Training (13299 / 18000 Steps) (loss=0.41491): 100%|██████████| 76/76 [00:40<00:00,  1.88it/s]\n",
      "Validate (13300 / 10 Steps): 100%|██████████| 22/22 [01:29<00:00,  4.07s/it]?, ?it/s]\n",
      "Training (13300 / 18000 Steps) (loss=0.53339):   1%|▏         | 1/76 [01:34<1:57:35, 94.07s/it]"
     ]
    },
    {
     "name": "stdout",
     "output_type": "stream",
     "text": [
      "Model Was Not Saved ! Current Best Avg. Dice: 0.41442906856536865 Current Avg. Dice: 0.3966327905654907 Current Avg. tumor Dice: 0.4135209023952484 Current Avg. lymph Dice: 0.34686899185180664\n"
     ]
    },
    {
     "name": "stderr",
     "output_type": "stream",
     "text": [
      "Training (13375 / 18000 Steps) (loss=0.48625): 100%|██████████| 76/76 [02:10<00:00,  1.71s/it] \n",
      "Validate (13376 / 10 Steps): 100%|██████████| 22/22 [01:29<00:00,  4.09s/it]<00:24,  2.13it/s]\n",
      "Training (13400 / 18000 Steps) (loss=0.29327):  33%|███▎      | 25/76 [01:45<23:23, 27.52s/it]"
     ]
    },
    {
     "name": "stdout",
     "output_type": "stream",
     "text": [
      "Model Was Not Saved ! Current Best Avg. Dice: 0.41442906856536865 Current Avg. Dice: 0.39217522740364075 Current Avg. tumor Dice: 0.4531005620956421 Current Avg. lymph Dice: 0.2758893072605133\n"
     ]
    },
    {
     "name": "stderr",
     "output_type": "stream",
     "text": [
      "Training (13451 / 18000 Steps) (loss=0.41146): 100%|██████████| 76/76 [02:10<00:00,  1.72s/it]\n",
      "Validate (13452 / 10 Steps): 100%|██████████| 22/22 [01:29<00:00,  4.05s/it]<00:13,  2.10it/s]\n",
      "Training (13500 / 18000 Steps) (loss=0.47074):  64%|██████▍   | 49/76 [01:56<12:14, 27.22s/it]"
     ]
    },
    {
     "name": "stdout",
     "output_type": "stream",
     "text": [
      "Model Was Not Saved ! Current Best Avg. Dice: 0.41442906856536865 Current Avg. Dice: 0.3808780610561371 Current Avg. tumor Dice: 0.42333757877349854 Current Avg. lymph Dice: 0.2890699803829193\n"
     ]
    },
    {
     "name": "stderr",
     "output_type": "stream",
     "text": [
      "Training (13527 / 18000 Steps) (loss=0.67013): 100%|██████████| 76/76 [02:09<00:00,  1.71s/it]\n",
      "Validate (13528 / 10 Steps): 100%|██████████| 22/22 [01:29<00:00,  4.06s/it]<00:01,  2.09it/s]\n",
      "Training (13600 / 18000 Steps) (loss=0.49424):  96%|█████████▌| 73/76 [02:08<01:21, 27.31s/it]"
     ]
    },
    {
     "name": "stdout",
     "output_type": "stream",
     "text": [
      "Model Was Not Saved ! Current Best Avg. Dice: 0.41442906856536865 Current Avg. Dice: 0.4032200872898102 Current Avg. tumor Dice: 0.44773611426353455 Current Avg. lymph Dice: 0.3139725625514984\n"
     ]
    },
    {
     "name": "stderr",
     "output_type": "stream",
     "text": [
      "Training (13603 / 18000 Steps) (loss=0.43816): 100%|██████████| 76/76 [02:10<00:00,  1.72s/it]\n",
      "Training (13679 / 18000 Steps) (loss=0.44104): 100%|██████████| 76/76 [00:39<00:00,  1.90it/s]\n",
      "Validate (13680 / 10 Steps): 100%|██████████| 22/22 [01:29<00:00,  4.08s/it]<00:28,  1.96it/s]\n",
      "Training (13700 / 18000 Steps) (loss=0.41867):  28%|██▊       | 21/76 [01:43<25:11, 27.48s/it]"
     ]
    },
    {
     "name": "stdout",
     "output_type": "stream",
     "text": [
      "Model Was Not Saved ! Current Best Avg. Dice: 0.41442906856536865 Current Avg. Dice: 0.404462993144989 Current Avg. tumor Dice: 0.45211851596832275 Current Avg. lymph Dice: 0.30527129769325256\n"
     ]
    },
    {
     "name": "stderr",
     "output_type": "stream",
     "text": [
      "Training (13755 / 18000 Steps) (loss=0.66698): 100%|██████████| 76/76 [02:10<00:00,  1.72s/it]\n",
      "Validate (13756 / 10 Steps): 100%|██████████| 22/22 [01:29<00:00,  4.07s/it]<00:15,  2.11it/s]\n",
      "Training (13800 / 18000 Steps) (loss=0.47837):  59%|█████▉    | 45/76 [01:54<14:07, 27.34s/it]"
     ]
    },
    {
     "name": "stdout",
     "output_type": "stream",
     "text": [
      "Model Was Not Saved ! Current Best Avg. Dice: 0.41442906856536865 Current Avg. Dice: 0.3786570727825165 Current Avg. tumor Dice: 0.4240138530731201 Current Avg. lymph Dice: 0.29639142751693726\n"
     ]
    },
    {
     "name": "stderr",
     "output_type": "stream",
     "text": [
      "Training (13831 / 18000 Steps) (loss=0.37876): 100%|██████████| 76/76 [02:10<00:00,  1.71s/it]\n",
      "Validate (13832 / 10 Steps): 100%|██████████| 22/22 [01:29<00:00,  4.07s/it]<00:03,  2.14it/s]\n",
      "Training (13900 / 18000 Steps) (loss=0.67005):  91%|█████████ | 69/76 [02:06<03:11, 27.33s/it]"
     ]
    },
    {
     "name": "stdout",
     "output_type": "stream",
     "text": [
      "Model Was Not Saved ! Current Best Avg. Dice: 0.41442906856536865 Current Avg. Dice: 0.3807595372200012 Current Avg. tumor Dice: 0.4225698709487915 Current Avg. lymph Dice: 0.3053220808506012\n"
     ]
    },
    {
     "name": "stderr",
     "output_type": "stream",
     "text": [
      "Training (13907 / 18000 Steps) (loss=0.48784): 100%|██████████| 76/76 [02:10<00:00,  1.71s/it]\n",
      "Training (13983 / 18000 Steps) (loss=0.44758): 100%|██████████| 76/76 [00:40<00:00,  1.86it/s]\n",
      "Validate (13984 / 10 Steps): 100%|██████████| 22/22 [01:29<00:00,  4.07s/it]<00:27,  2.22it/s]\n",
      "Training (14000 / 18000 Steps) (loss=0.43204):  22%|██▏       | 17/76 [01:41<26:59, 27.45s/it]"
     ]
    },
    {
     "name": "stdout",
     "output_type": "stream",
     "text": [
      "Model Was Not Saved ! Current Best Avg. Dice: 0.41442906856536865 Current Avg. Dice: 0.3155360221862793 Current Avg. tumor Dice: 0.31448665261268616 Current Avg. lymph Dice: 0.30324587225914\n"
     ]
    },
    {
     "name": "stderr",
     "output_type": "stream",
     "text": [
      "Training (14059 / 18000 Steps) (loss=0.23305): 100%|██████████| 76/76 [02:09<00:00,  1.71s/it]\n",
      "Validate (14060 / 10 Steps): 100%|██████████| 22/22 [01:29<00:00,  4.07s/it]<00:17,  2.09it/s]\n",
      "Training (14100 / 18000 Steps) (loss=0.49430):  54%|█████▍    | 41/76 [01:53<15:57, 27.37s/it]"
     ]
    },
    {
     "name": "stdout",
     "output_type": "stream",
     "text": [
      "Model Was Not Saved ! Current Best Avg. Dice: 0.41442906856536865 Current Avg. Dice: 0.38396361470222473 Current Avg. tumor Dice: 0.440502792596817 Current Avg. lymph Dice: 0.27441346645355225\n"
     ]
    },
    {
     "name": "stderr",
     "output_type": "stream",
     "text": [
      "Training (14135 / 18000 Steps) (loss=0.69738): 100%|██████████| 76/76 [02:09<00:00,  1.71s/it]\n",
      "Validate (14136 / 10 Steps): 100%|██████████| 22/22 [01:29<00:00,  4.07s/it]<00:05,  2.12it/s]\n",
      "Training (14200 / 18000 Steps) (loss=0.40829):  86%|████████▌ | 65/76 [02:05<05:00, 27.33s/it]"
     ]
    },
    {
     "name": "stdout",
     "output_type": "stream",
     "text": [
      "Model Was Not Saved ! Current Best Avg. Dice: 0.41442906856536865 Current Avg. Dice: 0.30268216133117676 Current Avg. tumor Dice: 0.2697697877883911 Current Avg. lymph Dice: 0.337643027305603\n"
     ]
    },
    {
     "name": "stderr",
     "output_type": "stream",
     "text": [
      "Training (14211 / 18000 Steps) (loss=0.50267): 100%|██████████| 76/76 [02:10<00:00,  1.72s/it]\n",
      "Training (14287 / 18000 Steps) (loss=0.63013): 100%|██████████| 76/76 [00:40<00:00,  1.87it/s]\n",
      "Validate (14288 / 10 Steps): 100%|██████████| 22/22 [01:29<00:00,  4.07s/it]<00:32,  1.96it/s]\n",
      "Training (14300 / 18000 Steps) (loss=0.57626):  17%|█▋        | 13/76 [01:39<29:01, 27.64s/it]"
     ]
    },
    {
     "name": "stdout",
     "output_type": "stream",
     "text": [
      "Model Was Not Saved ! Current Best Avg. Dice: 0.41442906856536865 Current Avg. Dice: 0.32486701011657715 Current Avg. tumor Dice: 0.2821250855922699 Current Avg. lymph Dice: 0.36291518807411194\n"
     ]
    },
    {
     "name": "stderr",
     "output_type": "stream",
     "text": [
      "Training (14363 / 18000 Steps) (loss=0.46212): 100%|██████████| 76/76 [02:09<00:00,  1.70s/it]\n",
      "Validate (14364 / 10 Steps): 100%|██████████| 22/22 [01:29<00:00,  4.07s/it]<00:19,  2.09it/s]\n",
      "Training (14400 / 18000 Steps) (loss=0.66951):  49%|████▊     | 37/76 [01:51<17:47, 27.36s/it]"
     ]
    },
    {
     "name": "stdout",
     "output_type": "stream",
     "text": [
      "Model Was Not Saved ! Current Best Avg. Dice: 0.41442906856536865 Current Avg. Dice: 0.34980976581573486 Current Avg. tumor Dice: 0.4093165099620819 Current Avg. lymph Dice: 0.23596729338169098\n"
     ]
    },
    {
     "name": "stderr",
     "output_type": "stream",
     "text": [
      "Training (14439 / 18000 Steps) (loss=0.41289): 100%|██████████| 76/76 [02:10<00:00,  1.72s/it]\n",
      "Validate (14440 / 10 Steps): 100%|██████████| 22/22 [01:29<00:00,  4.07s/it]<00:07,  2.08it/s]\n",
      "Training (14500 / 18000 Steps) (loss=0.43025):  80%|████████  | 61/76 [02:02<06:50, 27.35s/it]"
     ]
    },
    {
     "name": "stdout",
     "output_type": "stream",
     "text": [
      "Model Was Not Saved ! Current Best Avg. Dice: 0.41442906856536865 Current Avg. Dice: 0.3398171663284302 Current Avg. tumor Dice: 0.3989681005477905 Current Avg. lymph Dice: 0.2376125603914261\n"
     ]
    },
    {
     "name": "stderr",
     "output_type": "stream",
     "text": [
      "Training (14515 / 18000 Steps) (loss=0.43345): 100%|██████████| 76/76 [02:09<00:00,  1.70s/it]\n",
      "Training (14591 / 18000 Steps) (loss=0.67950): 100%|██████████| 76/76 [00:40<00:00,  1.88it/s]\n",
      "Validate (14592 / 10 Steps): 100%|██████████| 22/22 [01:29<00:00,  4.07s/it]00:37,  1.81it/s]\n",
      "Training (14600 / 18000 Steps) (loss=0.66931):  12%|█▏        | 9/76 [01:37<31:58, 28.63s/it]"
     ]
    },
    {
     "name": "stdout",
     "output_type": "stream",
     "text": [
      "Model Was Not Saved ! Current Best Avg. Dice: 0.41442906856536865 Current Avg. Dice: 0.3597777187824249 Current Avg. tumor Dice: 0.4514195919036865 Current Avg. lymph Dice: 0.20394134521484375\n"
     ]
    },
    {
     "name": "stderr",
     "output_type": "stream",
     "text": [
      "Training (14667 / 18000 Steps) (loss=0.67127): 100%|██████████| 76/76 [02:10<00:00,  1.71s/it]\n",
      "Validate (14668 / 10 Steps): 100%|██████████| 22/22 [01:29<00:00,  4.08s/it]<00:20,  2.10it/s]\n",
      "Training (14700 / 18000 Steps) (loss=0.19559):  43%|████▎     | 33/76 [01:49<19:41, 27.47s/it]"
     ]
    },
    {
     "name": "stdout",
     "output_type": "stream",
     "text": [
      "Model Was Not Saved ! Current Best Avg. Dice: 0.41442906856536865 Current Avg. Dice: 0.3779029846191406 Current Avg. tumor Dice: 0.42540690302848816 Current Avg. lymph Dice: 0.2893291115760803\n"
     ]
    },
    {
     "name": "stderr",
     "output_type": "stream",
     "text": [
      "Training (14743 / 18000 Steps) (loss=0.62665): 100%|██████████| 76/76 [02:10<00:00,  1.72s/it]\n",
      "Validate (14744 / 10 Steps): 100%|██████████| 22/22 [01:29<00:00,  4.06s/it]<00:09,  2.11it/s]\n",
      "Training (14800 / 18000 Steps) (loss=0.39818):  75%|███████▌  | 57/76 [02:00<08:39, 27.32s/it]"
     ]
    },
    {
     "name": "stdout",
     "output_type": "stream",
     "text": [
      "Model Was Not Saved ! Current Best Avg. Dice: 0.41442906856536865 Current Avg. Dice: 0.39808282256126404 Current Avg. tumor Dice: 0.41226381063461304 Current Avg. lymph Dice: 0.35157257318496704\n"
     ]
    },
    {
     "name": "stderr",
     "output_type": "stream",
     "text": [
      "Training (14819 / 18000 Steps) (loss=0.50103): 100%|██████████| 76/76 [02:09<00:00,  1.70s/it]\n",
      "Training (14895 / 18000 Steps) (loss=0.28343): 100%|██████████| 76/76 [00:40<00:00,  1.85it/s]\n",
      "Validate (14896 / 10 Steps): 100%|██████████| 22/22 [01:29<00:00,  4.07s/it]01:10,  1.03it/s]\n",
      "Training (14900 / 18000 Steps) (loss=0.50706):   7%|▋         | 5/76 [01:35<39:09, 33.09s/it]"
     ]
    },
    {
     "name": "stdout",
     "output_type": "stream",
     "text": [
      "Model Was Not Saved ! Current Best Avg. Dice: 0.41442906856536865 Current Avg. Dice: 0.39106205105781555 Current Avg. tumor Dice: 0.3837662637233734 Current Avg. lymph Dice: 0.3653710186481476\n"
     ]
    },
    {
     "name": "stderr",
     "output_type": "stream",
     "text": [
      "Training (14971 / 18000 Steps) (loss=0.27852): 100%|██████████| 76/76 [02:09<00:00,  1.70s/it]\n",
      "Validate (14972 / 10 Steps): 100%|██████████| 22/22 [01:29<00:00,  4.07s/it]<00:22,  2.11it/s]\n",
      "Training (15000 / 18000 Steps) (loss=0.56740):  38%|███▊      | 29/76 [01:47<21:27, 27.39s/it]"
     ]
    },
    {
     "name": "stdout",
     "output_type": "stream",
     "text": [
      "Model Was Not Saved ! Current Best Avg. Dice: 0.41442906856536865 Current Avg. Dice: 0.39773160219192505 Current Avg. tumor Dice: 0.4167868196964264 Current Avg. lymph Dice: 0.3414551615715027\n"
     ]
    },
    {
     "name": "stderr",
     "output_type": "stream",
     "text": [
      "Training (15047 / 18000 Steps) (loss=0.44081): 100%|██████████| 76/76 [02:10<00:00,  1.71s/it]\n",
      "Validate (15048 / 10 Steps): 100%|██████████| 22/22 [01:29<00:00,  4.07s/it]<00:11,  2.07it/s]\n",
      "Training (15100 / 18000 Steps) (loss=0.57033):  70%|██████▉   | 53/76 [01:59<10:30, 27.40s/it]"
     ]
    },
    {
     "name": "stdout",
     "output_type": "stream",
     "text": [
      "Model Was Not Saved ! Current Best Avg. Dice: 0.41442906856536865 Current Avg. Dice: 0.37225475907325745 Current Avg. tumor Dice: 0.3788045346736908 Current Avg. lymph Dice: 0.3448183238506317\n"
     ]
    },
    {
     "name": "stderr",
     "output_type": "stream",
     "text": [
      "Training (15123 / 18000 Steps) (loss=0.61508): 100%|██████████| 76/76 [02:10<00:00,  1.72s/it]\n",
      "Training (15199 / 18000 Steps) (loss=0.40002): 100%|██████████| 76/76 [00:40<00:00,  1.87it/s]\n",
      "Validate (15200 / 10 Steps): 100%|██████████| 22/22 [01:29<00:00,  4.06s/it]?, ?it/s]\n",
      "Training (15200 / 18000 Steps) (loss=0.34737):   1%|▏         | 1/76 [01:33<1:56:59, 93.59s/it]"
     ]
    },
    {
     "name": "stdout",
     "output_type": "stream",
     "text": [
      "Model Was Not Saved ! Current Best Avg. Dice: 0.41442906856536865 Current Avg. Dice: 0.3870057165622711 Current Avg. tumor Dice: 0.4049908220767975 Current Avg. lymph Dice: 0.32441043853759766\n"
     ]
    },
    {
     "name": "stderr",
     "output_type": "stream",
     "text": [
      "Training (15275 / 18000 Steps) (loss=0.51661): 100%|██████████| 76/76 [02:10<00:00,  1.71s/it] \n",
      "Validate (15276 / 10 Steps): 100%|██████████| 22/22 [01:28<00:00,  4.04s/it]<00:23,  2.21it/s]\n",
      "Training (15300 / 18000 Steps) (loss=0.56708):  33%|███▎      | 25/76 [01:45<23:06, 27.18s/it]"
     ]
    },
    {
     "name": "stdout",
     "output_type": "stream",
     "text": [
      "Model Was Not Saved ! Current Best Avg. Dice: 0.41442906856536865 Current Avg. Dice: 0.39558613300323486 Current Avg. tumor Dice: 0.4593217074871063 Current Avg. lymph Dice: 0.2736189067363739\n"
     ]
    },
    {
     "name": "stderr",
     "output_type": "stream",
     "text": [
      "Training (15351 / 18000 Steps) (loss=0.47000): 100%|██████████| 76/76 [02:10<00:00,  1.72s/it]\n",
      "Validate (15352 / 10 Steps): 100%|██████████| 22/22 [01:28<00:00,  4.04s/it]<00:13,  2.09it/s]\n",
      "Training (15400 / 18000 Steps) (loss=0.43120):  64%|██████▍   | 49/76 [01:56<12:13, 27.16s/it]"
     ]
    },
    {
     "name": "stdout",
     "output_type": "stream",
     "text": [
      "Model Was Not Saved ! Current Best Avg. Dice: 0.41442906856536865 Current Avg. Dice: 0.40992382168769836 Current Avg. tumor Dice: 0.4519153833389282 Current Avg. lymph Dice: 0.3114875853061676\n"
     ]
    },
    {
     "name": "stderr",
     "output_type": "stream",
     "text": [
      "Training (15427 / 18000 Steps) (loss=0.67226): 100%|██████████| 76/76 [02:10<00:00,  1.71s/it]\n",
      "Validate (15428 / 10 Steps): 100%|██████████| 22/22 [01:29<00:00,  4.05s/it]<00:01,  2.10it/s]\n",
      "Training (15500 / 18000 Steps) (loss=0.46813):  96%|█████████▌| 73/76 [02:09<01:21, 27.23s/it]"
     ]
    },
    {
     "name": "stdout",
     "output_type": "stream",
     "text": [
      "Model Was Not Saved ! Current Best Avg. Dice: 0.41442906856536865 Current Avg. Dice: 0.39861124753952026 Current Avg. tumor Dice: 0.4132236838340759 Current Avg. lymph Dice: 0.34781089425086975\n"
     ]
    },
    {
     "name": "stderr",
     "output_type": "stream",
     "text": [
      "Training (15503 / 18000 Steps) (loss=0.29726): 100%|██████████| 76/76 [02:10<00:00,  1.72s/it]\n",
      "Training (15579 / 18000 Steps) (loss=0.66747): 100%|██████████| 76/76 [00:40<00:00,  1.86it/s]\n",
      "Validate (15580 / 10 Steps): 100%|██████████| 22/22 [01:29<00:00,  4.07s/it]<00:28,  1.94it/s]\n",
      "Training (15600 / 18000 Steps) (loss=0.31057):  28%|██▊       | 21/76 [01:43<25:07, 27.41s/it]"
     ]
    },
    {
     "name": "stdout",
     "output_type": "stream",
     "text": [
      "Model Was Not Saved ! Current Best Avg. Dice: 0.41442906856536865 Current Avg. Dice: 0.40942180156707764 Current Avg. tumor Dice: 0.4393835961818695 Current Avg. lymph Dice: 0.34065401554107666\n"
     ]
    },
    {
     "name": "stderr",
     "output_type": "stream",
     "text": [
      "Training (15655 / 18000 Steps) (loss=0.48373): 100%|██████████| 76/76 [02:11<00:00,  1.73s/it]\n",
      "Validate (15656 / 10 Steps): 100%|██████████| 22/22 [01:29<00:00,  4.07s/it]<00:15,  2.02it/s]\n",
      "Training (15700 / 18000 Steps) (loss=0.24787):  59%|█████▉    | 45/76 [01:55<14:08, 27.37s/it]"
     ]
    },
    {
     "name": "stdout",
     "output_type": "stream",
     "text": [
      "Model Was Not Saved ! Current Best Avg. Dice: 0.41442906856536865 Current Avg. Dice: 0.3634902834892273 Current Avg. tumor Dice: 0.38922399282455444 Current Avg. lymph Dice: 0.3065777122974396\n"
     ]
    },
    {
     "name": "stderr",
     "output_type": "stream",
     "text": [
      "Training (15731 / 18000 Steps) (loss=0.54685): 100%|██████████| 76/76 [02:10<00:00,  1.72s/it]\n",
      "Validate (15732 / 10 Steps): 100%|██████████| 22/22 [01:29<00:00,  4.06s/it]<00:03,  2.14it/s]\n",
      "Training (15800 / 18000 Steps) (loss=0.56395):  91%|█████████ | 69/76 [02:07<03:11, 27.30s/it]"
     ]
    },
    {
     "name": "stdout",
     "output_type": "stream",
     "text": [
      "Model Was Not Saved ! Current Best Avg. Dice: 0.41442906856536865 Current Avg. Dice: 0.3800908029079437 Current Avg. tumor Dice: 0.39724212884902954 Current Avg. lymph Dice: 0.32675155997276306\n"
     ]
    },
    {
     "name": "stderr",
     "output_type": "stream",
     "text": [
      "Training (15807 / 18000 Steps) (loss=0.64454): 100%|██████████| 76/76 [02:10<00:00,  1.72s/it]\n",
      "Training (15883 / 18000 Steps) (loss=0.66717): 100%|██████████| 76/76 [00:40<00:00,  1.85it/s]\n",
      "Validate (15884 / 10 Steps): 100%|██████████| 22/22 [01:29<00:00,  4.08s/it]<00:28,  2.11it/s]\n",
      "Training (15900 / 18000 Steps) (loss=0.66703):  22%|██▏       | 17/76 [01:43<27:19, 27.79s/it]"
     ]
    },
    {
     "name": "stdout",
     "output_type": "stream",
     "text": [
      "Model Was Saved ! Current Best Avg. Dice: 0.4188428819179535 Current Avg. Dice: 0.4188428819179535 Current Avg. tumor Dice: 0.43076905608177185 Current Avg. lymph Dice: 0.38631191849708557\n"
     ]
    },
    {
     "name": "stderr",
     "output_type": "stream",
     "text": [
      "Training (15959 / 18000 Steps) (loss=0.48882): 100%|██████████| 76/76 [02:11<00:00,  1.74s/it]\n",
      "Validate (15960 / 10 Steps): 100%|██████████| 22/22 [01:30<00:00,  4.10s/it]<00:17,  2.07it/s]\n",
      "Training (16000 / 18000 Steps) (loss=0.44955):  54%|█████▍    | 41/76 [01:54<16:05, 27.58s/it]"
     ]
    },
    {
     "name": "stdout",
     "output_type": "stream",
     "text": [
      "Model Was Not Saved ! Current Best Avg. Dice: 0.4188428819179535 Current Avg. Dice: 0.3996865451335907 Current Avg. tumor Dice: 0.43615618348121643 Current Avg. lymph Dice: 0.3207952380180359\n"
     ]
    },
    {
     "name": "stderr",
     "output_type": "stream",
     "text": [
      "Training (16035 / 18000 Steps) (loss=0.46825): 100%|██████████| 76/76 [02:11<00:00,  1.73s/it]\n",
      "Validate (16036 / 10 Steps): 100%|██████████| 22/22 [01:29<00:00,  4.08s/it]<00:05,  2.08it/s]\n",
      "Training (16100 / 18000 Steps) (loss=0.49726):  86%|████████▌ | 65/76 [02:05<05:01, 27.41s/it]"
     ]
    },
    {
     "name": "stdout",
     "output_type": "stream",
     "text": [
      "Model Was Not Saved ! Current Best Avg. Dice: 0.4188428819179535 Current Avg. Dice: 0.4038900136947632 Current Avg. tumor Dice: 0.4359462261199951 Current Avg. lymph Dice: 0.32522258162498474\n"
     ]
    },
    {
     "name": "stderr",
     "output_type": "stream",
     "text": [
      "Training (16111 / 18000 Steps) (loss=0.34486): 100%|██████████| 76/76 [02:10<00:00,  1.72s/it]\n",
      "Training (16187 / 18000 Steps) (loss=0.59626): 100%|██████████| 76/76 [00:41<00:00,  1.85it/s]\n",
      "Validate (16188 / 10 Steps): 100%|██████████| 22/22 [01:29<00:00,  4.07s/it]<00:34,  1.85it/s]\n",
      "Training (16200 / 18000 Steps) (loss=0.44198):  17%|█▋        | 13/76 [01:40<29:03, 27.68s/it]"
     ]
    },
    {
     "name": "stdout",
     "output_type": "stream",
     "text": [
      "Model Was Not Saved ! Current Best Avg. Dice: 0.4188428819179535 Current Avg. Dice: 0.36184704303741455 Current Avg. tumor Dice: 0.35551103949546814 Current Avg. lymph Dice: 0.36561596393585205\n"
     ]
    },
    {
     "name": "stderr",
     "output_type": "stream",
     "text": [
      "Training (16263 / 18000 Steps) (loss=0.56481): 100%|██████████| 76/76 [02:10<00:00,  1.72s/it]\n",
      "Validate (16264 / 10 Steps): 100%|██████████| 22/22 [01:29<00:00,  4.07s/it]<00:18,  2.12it/s]\n",
      "Training (16300 / 18000 Steps) (loss=0.55502):  49%|████▊     | 37/76 [01:51<17:46, 27.34s/it]"
     ]
    },
    {
     "name": "stdout",
     "output_type": "stream",
     "text": [
      "Model Was Not Saved ! Current Best Avg. Dice: 0.4188428819179535 Current Avg. Dice: 0.3183249235153198 Current Avg. tumor Dice: 0.33001571893692017 Current Avg. lymph Dice: 0.30559444427490234\n"
     ]
    },
    {
     "name": "stderr",
     "output_type": "stream",
     "text": [
      "Training (16339 / 18000 Steps) (loss=0.30005): 100%|██████████| 76/76 [02:10<00:00,  1.72s/it]\n",
      "Validate (16340 / 10 Steps): 100%|██████████| 22/22 [01:29<00:00,  4.07s/it]<00:07,  2.12it/s]\n",
      "Training (16400 / 18000 Steps) (loss=0.56887):  80%|████████  | 61/76 [02:02<06:50, 27.34s/it]"
     ]
    },
    {
     "name": "stdout",
     "output_type": "stream",
     "text": [
      "Model Was Not Saved ! Current Best Avg. Dice: 0.4188428819179535 Current Avg. Dice: 0.3712889552116394 Current Avg. tumor Dice: 0.3748311400413513 Current Avg. lymph Dice: 0.3421059548854828\n"
     ]
    },
    {
     "name": "stderr",
     "output_type": "stream",
     "text": [
      "Training (16415 / 18000 Steps) (loss=0.53982): 100%|██████████| 76/76 [02:10<00:00,  1.71s/it]\n",
      "Training (16491 / 18000 Steps) (loss=0.34719): 100%|██████████| 76/76 [00:41<00:00,  1.84it/s]\n",
      "Validate (16492 / 10 Steps): 100%|██████████| 22/22 [01:29<00:00,  4.06s/it]00:36,  1.88it/s]\n",
      "Training (16500 / 18000 Steps) (loss=0.49649):  12%|█▏        | 9/76 [01:37<31:54, 28.57s/it]"
     ]
    },
    {
     "name": "stdout",
     "output_type": "stream",
     "text": [
      "Model Was Not Saved ! Current Best Avg. Dice: 0.4188428819179535 Current Avg. Dice: 0.38873717188835144 Current Avg. tumor Dice: 0.367615669965744 Current Avg. lymph Dice: 0.40414440631866455\n"
     ]
    },
    {
     "name": "stderr",
     "output_type": "stream",
     "text": [
      "Training (16567 / 18000 Steps) (loss=0.54084): 100%|██████████| 76/76 [02:10<00:00,  1.71s/it]\n",
      "Validate (16568 / 10 Steps): 100%|██████████| 22/22 [01:29<00:00,  4.08s/it]<00:20,  2.12it/s]\n",
      "Training (16600 / 18000 Steps) (loss=0.57445):  43%|████▎     | 33/76 [01:49<19:37, 27.39s/it]"
     ]
    },
    {
     "name": "stdout",
     "output_type": "stream",
     "text": [
      "Model Was Not Saved ! Current Best Avg. Dice: 0.4188428819179535 Current Avg. Dice: 0.35536500811576843 Current Avg. tumor Dice: 0.438019335269928 Current Avg. lymph Dice: 0.20747971534729004\n"
     ]
    },
    {
     "name": "stderr",
     "output_type": "stream",
     "text": [
      "Training (16643 / 18000 Steps) (loss=0.53297): 100%|██████████| 76/76 [02:11<00:00,  1.73s/it]\n",
      "Validate (16644 / 10 Steps): 100%|██████████| 22/22 [01:29<00:00,  4.05s/it]<00:09,  2.01it/s]\n",
      "Training (16700 / 18000 Steps) (loss=0.45276):  75%|███████▌  | 57/76 [02:01<08:37, 27.24s/it]"
     ]
    },
    {
     "name": "stdout",
     "output_type": "stream",
     "text": [
      "Model Was Not Saved ! Current Best Avg. Dice: 0.4188428819179535 Current Avg. Dice: 0.32846882939338684 Current Avg. tumor Dice: 0.41146034002304077 Current Avg. lymph Dice: 0.18631871044635773\n"
     ]
    },
    {
     "name": "stderr",
     "output_type": "stream",
     "text": [
      "Training (16719 / 18000 Steps) (loss=0.41845): 100%|██████████| 76/76 [02:10<00:00,  1.72s/it]\n",
      "Training (16795 / 18000 Steps) (loss=0.46208): 100%|██████████| 76/76 [00:40<00:00,  1.86it/s]\n",
      "Validate (16796 / 10 Steps): 100%|██████████| 22/22 [01:30<00:00,  4.10s/it]01:06,  1.08it/s]\n",
      "Training (16800 / 18000 Steps) (loss=0.41196):   7%|▋         | 5/76 [01:36<39:31, 33.41s/it]"
     ]
    },
    {
     "name": "stdout",
     "output_type": "stream",
     "text": [
      "Model Was Not Saved ! Current Best Avg. Dice: 0.4188428819179535 Current Avg. Dice: 0.353333979845047 Current Avg. tumor Dice: 0.4248450696468353 Current Avg. lymph Dice: 0.20580917596817017\n"
     ]
    },
    {
     "name": "stderr",
     "output_type": "stream",
     "text": [
      "Training (16871 / 18000 Steps) (loss=0.44084): 100%|██████████| 76/76 [02:10<00:00,  1.72s/it]\n",
      "Validate (16872 / 10 Steps): 100%|██████████| 22/22 [01:29<00:00,  4.08s/it]<00:22,  2.15it/s]\n",
      "Training (16900 / 18000 Steps) (loss=0.58499):  38%|███▊      | 29/76 [01:47<21:29, 27.44s/it]"
     ]
    },
    {
     "name": "stdout",
     "output_type": "stream",
     "text": [
      "Model Was Not Saved ! Current Best Avg. Dice: 0.4188428819179535 Current Avg. Dice: 0.38661202788352966 Current Avg. tumor Dice: 0.4439282715320587 Current Avg. lymph Dice: 0.27404895424842834\n"
     ]
    },
    {
     "name": "stderr",
     "output_type": "stream",
     "text": [
      "Training (16947 / 18000 Steps) (loss=0.35274): 100%|██████████| 76/76 [02:10<00:00,  1.71s/it]\n",
      "Validate (16948 / 10 Steps): 100%|██████████| 22/22 [01:29<00:00,  4.08s/it]<00:11,  2.02it/s]\n",
      "Training (17000 / 18000 Steps) (loss=0.54324):  70%|██████▉   | 53/76 [01:59<10:30, 27.41s/it]"
     ]
    },
    {
     "name": "stdout",
     "output_type": "stream",
     "text": [
      "Model Was Not Saved ! Current Best Avg. Dice: 0.4188428819179535 Current Avg. Dice: 0.4014466404914856 Current Avg. tumor Dice: 0.4276115298271179 Current Avg. lymph Dice: 0.33237260580062866\n"
     ]
    },
    {
     "name": "stderr",
     "output_type": "stream",
     "text": [
      "Training (17023 / 18000 Steps) (loss=0.48493): 100%|██████████| 76/76 [02:10<00:00,  1.72s/it]\n",
      "Training (17099 / 18000 Steps) (loss=0.47805): 100%|██████████| 76/76 [00:40<00:00,  1.87it/s]\n",
      "Validate (17100 / 10 Steps): 100%|██████████| 22/22 [01:30<00:00,  4.11s/it]?, ?it/s]\n",
      "Training (17100 / 18000 Steps) (loss=0.66843):   1%|▏         | 1/76 [01:35<1:58:52, 95.10s/it]"
     ]
    },
    {
     "name": "stdout",
     "output_type": "stream",
     "text": [
      "Model Was Not Saved ! Current Best Avg. Dice: 0.4188428819179535 Current Avg. Dice: 0.4037730395793915 Current Avg. tumor Dice: 0.4700321853160858 Current Avg. lymph Dice: 0.2751055955886841\n"
     ]
    },
    {
     "name": "stderr",
     "output_type": "stream",
     "text": [
      "Training (17175 / 18000 Steps) (loss=0.51057): 100%|██████████| 76/76 [02:11<00:00,  1.72s/it] \n",
      "Validate (17176 / 10 Steps): 100%|██████████| 22/22 [01:30<00:00,  4.10s/it]<00:23,  2.23it/s]\n",
      "Training (17200 / 18000 Steps) (loss=0.47193):  33%|███▎      | 25/76 [01:46<23:28, 27.62s/it]"
     ]
    },
    {
     "name": "stdout",
     "output_type": "stream",
     "text": [
      "Model Was Not Saved ! Current Best Avg. Dice: 0.4188428819179535 Current Avg. Dice: 0.4149421453475952 Current Avg. tumor Dice: 0.4439060091972351 Current Avg. lymph Dice: 0.35467657446861267\n"
     ]
    },
    {
     "name": "stderr",
     "output_type": "stream",
     "text": [
      "Training (17251 / 18000 Steps) (loss=0.43342): 100%|██████████| 76/76 [02:11<00:00,  1.73s/it]\n",
      "Validate (17252 / 10 Steps): 100%|██████████| 22/22 [01:30<00:00,  4.11s/it]<00:13,  2.07it/s]\n",
      "Training (17300 / 18000 Steps) (loss=0.57731):  64%|██████▍   | 49/76 [01:58<12:25, 27.62s/it]"
     ]
    },
    {
     "name": "stdout",
     "output_type": "stream",
     "text": [
      "Model Was Not Saved ! Current Best Avg. Dice: 0.4188428819179535 Current Avg. Dice: 0.41005948185920715 Current Avg. tumor Dice: 0.43836966156959534 Current Avg. lymph Dice: 0.3337779641151428\n"
     ]
    },
    {
     "name": "stderr",
     "output_type": "stream",
     "text": [
      "Training (17327 / 18000 Steps) (loss=0.57941): 100%|██████████| 76/76 [02:11<00:00,  1.73s/it]\n",
      "Validate (17328 / 10 Steps): 100%|██████████| 22/22 [01:29<00:00,  4.08s/it]<00:01,  2.05it/s]\n",
      "Training (17400 / 18000 Steps) (loss=0.23679):  96%|█████████▌| 73/76 [02:09<01:22, 27.46s/it]"
     ]
    },
    {
     "name": "stdout",
     "output_type": "stream",
     "text": [
      "Model Was Not Saved ! Current Best Avg. Dice: 0.4188428819179535 Current Avg. Dice: 0.4042648375034332 Current Avg. tumor Dice: 0.44852185249328613 Current Avg. lymph Dice: 0.3138226568698883\n"
     ]
    },
    {
     "name": "stderr",
     "output_type": "stream",
     "text": [
      "Training (17403 / 18000 Steps) (loss=0.57655): 100%|██████████| 76/76 [02:10<00:00,  1.72s/it]\n",
      "Training (17479 / 18000 Steps) (loss=0.47057): 100%|██████████| 76/76 [00:41<00:00,  1.82it/s]\n",
      "Validate (17480 / 10 Steps): 100%|██████████| 22/22 [01:30<00:00,  4.11s/it]<00:27,  2.04it/s]\n",
      "Training (17500 / 18000 Steps) (loss=0.51265):  28%|██▊       | 21/76 [01:44<25:19, 27.64s/it]"
     ]
    },
    {
     "name": "stdout",
     "output_type": "stream",
     "text": [
      "Model Was Not Saved ! Current Best Avg. Dice: 0.4188428819179535 Current Avg. Dice: 0.40557289123535156 Current Avg. tumor Dice: 0.4291609823703766 Current Avg. lymph Dice: 0.35481366515159607\n"
     ]
    },
    {
     "name": "stderr",
     "output_type": "stream",
     "text": [
      "Training (17555 / 18000 Steps) (loss=0.66910): 100%|██████████| 76/76 [02:10<00:00,  1.72s/it]\n",
      "Validate (17556 / 10 Steps): 100%|██████████| 22/22 [01:30<00:00,  4.11s/it]<00:15,  2.12it/s]\n",
      "Training (17600 / 18000 Steps) (loss=0.67430):  59%|█████▉    | 45/76 [01:55<14:15, 27.60s/it]"
     ]
    },
    {
     "name": "stdout",
     "output_type": "stream",
     "text": [
      "Model Was Not Saved ! Current Best Avg. Dice: 0.4188428819179535 Current Avg. Dice: 0.41794970631599426 Current Avg. tumor Dice: 0.43785718083381653 Current Avg. lymph Dice: 0.3582000434398651\n"
     ]
    },
    {
     "name": "stderr",
     "output_type": "stream",
     "text": [
      "Training (17631 / 18000 Steps) (loss=0.40775): 100%|██████████| 76/76 [02:10<00:00,  1.72s/it]\n",
      "Validate (17632 / 10 Steps): 100%|██████████| 22/22 [01:30<00:00,  4.12s/it]<00:03,  2.08it/s]\n",
      "Training (17700 / 18000 Steps) (loss=0.66590):  91%|█████████ | 69/76 [02:07<03:13, 27.70s/it]"
     ]
    },
    {
     "name": "stdout",
     "output_type": "stream",
     "text": [
      "Model Was Not Saved ! Current Best Avg. Dice: 0.4188428819179535 Current Avg. Dice: 0.4083627462387085 Current Avg. tumor Dice: 0.4057239294052124 Current Avg. lymph Dice: 0.37787115573883057\n"
     ]
    },
    {
     "name": "stderr",
     "output_type": "stream",
     "text": [
      "Training (17707 / 18000 Steps) (loss=0.47275): 100%|██████████| 76/76 [02:11<00:00,  1.73s/it]\n",
      "Training (17783 / 18000 Steps) (loss=0.55269): 100%|██████████| 76/76 [00:40<00:00,  1.86it/s]\n",
      "Validate (17784 / 10 Steps): 100%|██████████| 22/22 [01:30<00:00,  4.10s/it]<00:29,  2.05it/s]\n",
      "Training (17800 / 18000 Steps) (loss=0.48716):  22%|██▏       | 17/76 [01:42<27:10, 27.64s/it]"
     ]
    },
    {
     "name": "stdout",
     "output_type": "stream",
     "text": [
      "Model Was Not Saved ! Current Best Avg. Dice: 0.4188428819179535 Current Avg. Dice: 0.3602648079395294 Current Avg. tumor Dice: 0.358050137758255 Current Avg. lymph Dice: 0.349800169467926\n"
     ]
    },
    {
     "name": "stderr",
     "output_type": "stream",
     "text": [
      "Training (17859 / 18000 Steps) (loss=0.29613): 100%|██████████| 76/76 [02:11<00:00,  1.73s/it]\n",
      "Validate (17860 / 10 Steps): 100%|██████████| 22/22 [01:30<00:00,  4.12s/it]<00:17,  2.07it/s]\n",
      "Training (17900 / 18000 Steps) (loss=0.34049):  54%|█████▍    | 41/76 [01:55<16:20, 28.00s/it]"
     ]
    },
    {
     "name": "stdout",
     "output_type": "stream",
     "text": [
      "Model Was Saved ! Current Best Avg. Dice: 0.4264497756958008 Current Avg. Dice: 0.4264497756958008 Current Avg. tumor Dice: 0.4276409149169922 Current Avg. lymph Dice: 0.40030017495155334\n"
     ]
    },
    {
     "name": "stderr",
     "output_type": "stream",
     "text": [
      "Training (17935 / 18000 Steps) (loss=0.37564): 100%|██████████| 76/76 [02:12<00:00,  1.75s/it]\n",
      "Validate (17936 / 10 Steps): 100%|██████████| 22/22 [01:29<00:00,  4.07s/it]<00:05,  2.07it/s]\n",
      "Training (18000 / 18000 Steps) (loss=0.42235):  86%|████████▌ | 65/76 [02:05<05:01, 27.40s/it]"
     ]
    },
    {
     "name": "stdout",
     "output_type": "stream",
     "text": [
      "Model Was Not Saved ! Current Best Avg. Dice: 0.4264497756958008 Current Avg. Dice: 0.3840552270412445 Current Avg. tumor Dice: 0.43150538206100464 Current Avg. lymph Dice: 0.30943334102630615\n"
     ]
    },
    {
     "name": "stderr",
     "output_type": "stream",
     "text": [
      "Training (18011 / 18000 Steps) (loss=0.66709): 100%|██████████| 76/76 [02:10<00:00,  1.72s/it]\n"
     ]
    }
   ],
   "source": [
    "epoch = 0 # used for LR scheduler\n",
    "max_num_epochs = 530 # used for LR scheduler\n",
    "\n",
    "\n",
    "while global_step < max_iterations:\n",
    "    global_step, dice_val_best, global_step_best = train(\n",
    "        global_step, train_loader, dice_val_best, global_step_best\n",
    "    )\n",
    "    epoch += 1\n",
    "    #optimizer.param_groups[0]['lr'] = poly_lr(epoch, max_num_epochs, 0.005676 , 0.9)\n",
    "# model.load_state_dict(torch.load(os.path.join(model_dir, \"best_metric_luck_UNETr_prompt.pth\")))"
   ]
  }
 ],
 "metadata": {
  "kernelspec": {
   "display_name": "clam",
   "language": "python",
   "name": "python3"
  },
  "language_info": {
   "codemirror_mode": {
    "name": "ipython",
    "version": 3
   },
   "file_extension": ".py",
   "mimetype": "text/x-python",
   "name": "python",
   "nbconvert_exporter": "python",
   "pygments_lexer": "ipython3",
   "version": "3.8.0"
  }
 },
 "nbformat": 4,
 "nbformat_minor": 2
}
