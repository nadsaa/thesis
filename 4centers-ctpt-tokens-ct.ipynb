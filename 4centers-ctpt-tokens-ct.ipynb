{
 "cells": [
  {
   "cell_type": "code",
   "execution_count": 1,
   "metadata": {},
   "outputs": [
    {
     "name": "stdout",
     "output_type": "stream",
     "text": [
      "1\n"
     ]
    },
    {
     "name": "stderr",
     "output_type": "stream",
     "text": [
      "/tmp/ipykernel_1932689/264845013.py:9: TqdmWarning: IProgress not found. Please update jupyter and ipywidgets. See https://ipywidgets.readthedocs.io/en/stable/user_install.html\n",
      "  from tqdm.autonotebook import tqdm\n"
     ]
    }
   ],
   "source": [
    "import torch\n",
    "import torch.nn as nn\n",
    "from torch.utils.data import DataLoader\n",
    "from collections.abc import Sequence\n",
    "\n",
    "from unetr import CustomedUNETR\n",
    "\n",
    "import json\n",
    "from tqdm.autonotebook import tqdm\n",
    "import os\n",
    "os.environ[\"CUDA_DEVICE_ORDER\"] = \"PCI_BUS_ID\"\n",
    "os.environ[\"CUDA_VISIBLE_DEVICES\"] = \"1\" \n",
    "\n",
    "print(torch.cuda.device_count())\n",
    "torch.backends.cudnn.benchmark = True\n",
    "device = torch.device(\"cuda\" if torch.cuda.is_available() else \"cpu\")"
   ]
  },
  {
   "cell_type": "code",
   "execution_count": 2,
   "metadata": {},
   "outputs": [],
   "source": [
    "from monai.transforms import EnsureTyped\n",
    "from monai.transforms import Compose, LoadImaged, ScaleIntensityRanged, ConcatItemsd\n",
    "from monai.metrics import DiceMetric\n",
    "from monai.losses import DiceCELoss, DiceFocalLoss, FocalLoss\n",
    "from monai.inferers import sliding_window_inference\n",
    "\n",
    "\n",
    "from monai.data import (\n",
    "    Dataset,\n",
    "    DataLoader,\n",
    "    CacheDataset,\n",
    "    load_decathlon_datalist,\n",
    "    decollate_batch,\n",
    ")\n",
    "\n",
    "\n",
    "from monai.transforms import (\n",
    "    AsDiscrete,\n",
    "    Compose,\n",
    "    CropForegroundd,\n",
    "    LoadImaged,\n",
    "    Orientationd,\n",
    "    RandFlipd,\n",
    "    RandCropByPosNegLabeld,\n",
    "    RandShiftIntensityd,\n",
    "    ScaleIntensityRanged,\n",
    "    Spacingd,\n",
    "    RandRotate90d,\n",
    "    MapTransform,\n",
    "    ScaleIntensityd,\n",
    "    #AddChanneld,\n",
    "    SpatialPadd,\n",
    "    CenterSpatialCropd,\n",
    "    EnsureChannelFirstd,\n",
    "    ConcatItemsd,\n",
    "    AdjustContrastd, \n",
    "    Rand3DElasticd,\n",
    "    HistogramNormalized,\n",
    "    NormalizeIntensityd,\n",
    "    Invertd,\n",
    "    SaveImage,\n",
    "\n",
    ")"
   ]
  },
  {
   "cell_type": "code",
   "execution_count": 3,
   "metadata": {},
   "outputs": [],
   "source": [
    "data_dir = '/home/nada.saadi/MIS-FM/hecktor2022_cropped'\n",
    "json_dir = '/home/nada.saadi/MIS-FM/hecktor2022_cropped/4centers-CTPT.json'"
   ]
  },
  {
   "cell_type": "code",
   "execution_count": 4,
   "metadata": {},
   "outputs": [
    {
     "name": "stdout",
     "output_type": "stream",
     "text": [
      "204 49\n"
     ]
    }
   ],
   "source": [
    "def datafold_read(datalist, basedir, fold=0, key=\"training\"):\n",
    "    with open(datalist) as f:\n",
    "        json_data = json.load(f)\n",
    "\n",
    "    json_data = json_data[key]\n",
    "\n",
    "    for d in json_data:\n",
    "        for k in d:\n",
    "            if isinstance(d[k], list):\n",
    "                d[k] = [os.path.join(basedir, iv) for iv in d[k]]\n",
    "            elif isinstance(d[k], str):\n",
    "                d[k] = os.path.join(basedir, d[k]) if len(d[k]) > 0 else d[k]\n",
    "\n",
    "    tr = []\n",
    "    val = []\n",
    "    for d in json_data:\n",
    "        if \"fold\" in d and d[\"fold\"] == fold:\n",
    "            val.append(d)\n",
    "        else:\n",
    "            tr.append(d)\n",
    "\n",
    "    return tr, val\n",
    "\n",
    "\n",
    "train_data, valid_data = datafold_read(datalist=json_dir, basedir=data_dir, fold=0)\n",
    "print(len(train_data), len(valid_data))"
   ]
  },
  {
   "cell_type": "code",
   "execution_count": 5,
   "metadata": {},
   "outputs": [],
   "source": [
    "num_samples = 1\n",
    "\n",
    "class ClipCT(MapTransform):\n",
    "    \"\"\"\n",
    "    Convert labels to multi channels based on hecktor classes:\n",
    "    label 1 is the tumor\n",
    "    label 2 is the lymph node\n",
    "\n",
    "    \"\"\"\n",
    "\n",
    "    def __call__(self, data):\n",
    "        d = dict(data)\n",
    "        for key in self.keys:\n",
    "            if key == \"ct\":\n",
    "                d[key] = torch.clip(d[key], min=-200, max=200)\n",
    "            # elif key == \"pt\":\n",
    "            #     d[key] = torch.clip(d[key], d[key].min(), 5)\n",
    "        return d\n",
    "\n",
    "train_transforms = Compose(\n",
    "    [\n",
    "        LoadImaged(keys=[\"ct\", \"pt\", \"seg\"], ensure_channel_first=True),\n",
    "        SpatialPadd(keys=[\"ct\", \"pt\", \"seg\"], spatial_size=(200, 200, 310), method='end'),\n",
    "        Orientationd(keys=[\"ct\", \"pt\", \"seg\"], axcodes=\"PLS\"),\n",
    "        NormalizeIntensityd(keys=[\"pt\"]),\n",
    "        ClipCT(keys=[\"ct\"]),\n",
    "        ScaleIntensityd(keys=[\"ct\"], minv=0, maxv=1),\n",
    "        ConcatItemsd(keys=[\"pt\", \"ct\"], name=\"ctpt\"),  # Concatenate CT and PET\n",
    "        RandCropByPosNegLabeld(\n",
    "            keys=[\"ctpt\", \"seg\"],\n",
    "            label_key=\"seg\",\n",
    "            spatial_size=(96, 96, 96),\n",
    "            pos=1,\n",
    "            neg=1,\n",
    "            num_samples=num_samples,\n",
    "            image_key=\"ctpt\",\n",
    "            image_threshold=0,\n",
    "        ),\n",
    "        RandFlipd(keys=[\"ctpt\", \"seg\"], spatial_axis=[0], prob=0.20),\n",
    "        RandFlipd(keys=[\"ctpt\", \"seg\"], spatial_axis=[1], prob=0.20),\n",
    "        RandFlipd(keys=[\"ctpt\", \"seg\"], spatial_axis=[2], prob=0.20),\n",
    "        RandRotate90d(keys=[\"ctpt\", \"seg\"], prob=0.20, max_k=3),\n",
    "        EnsureTyped(keys=[\"ctpt\", \"seg\"]),\n",
    "    \n",
    "    ]\n",
    ")\n",
    "\n",
    "val_transforms = Compose(\n",
    "    [\n",
    "        LoadImaged(keys=[\"ct\", \"pt\", \"seg\"], ensure_channel_first=True),\n",
    "        SpatialPadd(keys=[\"ct\", \"pt\", \"seg\"], spatial_size=(200, 200, 310), method='end'),\n",
    "        Orientationd(keys=[\"ct\", \"pt\", \"seg\"], axcodes=\"PLS\"),\n",
    "        NormalizeIntensityd(keys=[\"pt\"]),\n",
    "        ClipCT(keys=[\"ct\"]),\n",
    "        ScaleIntensityd(keys=[\"ct\"], minv=0, maxv=1),\n",
    "        ConcatItemsd(keys=[\"pt\", \"ct\"], name=\"ctpt\"),# Concatenate CT and PET\n",
    "        EnsureTyped(keys=[\"ctpt\", \"seg\"]),\n",
    "    ]\n",
    ")\n",
    "\n",
    "\n",
    "##----------\n",
    "\n",
    "def create_dataloader(data, transforms, batch_size=2, shuffle=True):\n",
    "    # Create CacheDataset with the reformatted data\n",
    "    dataset = Dataset(data=data, transform=transforms)\n",
    "\n",
    "    # Create DataLoader\n",
    "    return DataLoader(dataset, batch_size=batch_size, shuffle=shuffle, num_workers=8)\n",
    "\n",
    "\n",
    "\n",
    "train_loader = create_dataloader(train_data, train_transforms, shuffle=True)\n",
    "val_loader = create_dataloader(valid_data, val_transforms, shuffle=False)"
   ]
  },
  {
   "cell_type": "code",
   "execution_count": 6,
   "metadata": {},
   "outputs": [
    {
     "name": "stdout",
     "output_type": "stream",
     "text": [
      "Nada's version of UNETR\n",
      "(96, 96, 96)\n",
      "(16, 16, 16)\n",
      "(6, 6, 6)\n",
      "768\n"
     ]
    },
    {
     "name": "stderr",
     "output_type": "stream",
     "text": [
      "/home/nada.saadi/miniconda3/envs/clam/lib/python3.8/site-packages/monai/utils/deprecate_utils.py:221: FutureWarning: unetr CustomedUNETR.__init__:pos_embed: Argument `pos_embed` has been deprecated since version 1.2. It will be removed in version 1.4. please use `proj_type` instead.\n",
      "  warn_deprecated(argname, msg, warning_category)\n"
     ]
    }
   ],
   "source": [
    "model = CustomedUNETR(\n",
    "    in_channels=2,  # Number of input channels\n",
    "    out_channels=3,  # Number of output channels\n",
    "    img_size=(96, 96, 96),  # Size of the input image\n",
    "    feature_size=48,  # Size of the feature maps\n",
    "    hidden_size=768,\n",
    "    num_heads = 12,# Size of the hidden layers in the transformer\n",
    "    mlp_dim=3072,  # Dimension of the MLP in the transformer\n",
    "    pos_embed=\"perceptron\",  # Type of positional embedding\n",
    "    norm_name=\"instance\",  # Type of normalization\n",
    "    res_block=True,  # Whether to use residual blocks\n",
    "    dropout_rate=0.0,\n",
    "    proj_type= \"conv\",\n",
    "    r=4,\n",
    "    lora_layer=None,\n",
    "    \n",
    ").to(device) "
   ]
  },
  {
   "cell_type": "code",
   "execution_count": 7,
   "metadata": {},
   "outputs": [],
   "source": [
    "def poly_lr(epoch, max_epochs, initial_lr, exponent=0.9):\n",
    "    return initial_lr * (1 - epoch / max_epochs)**exponent\n",
    "\n",
    "model_dir='/home/nada.saadi/CTPET/hecktor2022_cropped/4centers-ctpt-tokens-ct'\n",
    "\n",
    "max_iterations = 18000\n",
    "eval_num = 100\n",
    "\n",
    "## running stats\n",
    "global_step = 0\n",
    "dice_val_best = 0.0\n",
    "global_step_best = 0\n",
    "epoch_loss_values = []\n",
    "metric_values = []\n",
    "metric_values_tumor = []\n",
    "metric_values_lymph = []\n",
    "\n",
    "\n",
    "loss_function = DiceCELoss(to_onehot_y=True, softmax=True)\n",
    "optimizer = torch.optim.AdamW(model.parameters(), lr=1e-4, weight_decay=1e-5)\n",
    "\n",
    "\n",
    "post_label = AsDiscrete(to_onehot=3)\n",
    "post_pred = AsDiscrete(argmax=True, to_onehot=3)\n",
    "\n",
    "dice_metric = DiceMetric(include_background=False, reduction=\"mean\", get_not_nans=False)\n",
    "dice_metric_batch = DiceMetric(include_background=False, reduction=\"mean_batch\")\n",
    "\n",
    "\n",
    "##-----------------------------------------------------------------------------\n",
    "\n",
    "def validation(epoch_iterator_val):\n",
    "        model.eval()\n",
    "        with torch.no_grad():\n",
    "            for step, batch in enumerate(epoch_iterator_val):\n",
    "                val_inputs, val_labels = (batch[\"ctpt\"].cuda(), batch[\"seg\"].cuda())\n",
    "                val_outputs = sliding_window_inference(val_inputs, (96, 96, 96), 4, model)\n",
    "                val_labels_list = decollate_batch(val_labels)\n",
    "                val_labels_convert = [\n",
    "                    post_label(val_label_tensor) for val_label_tensor in val_labels_list\n",
    "                ]\n",
    "                val_outputs_list = decollate_batch(val_outputs)\n",
    "                val_output_convert = [\n",
    "                    post_pred(val_pred_tensor) for val_pred_tensor in val_outputs_list\n",
    "                ]\n",
    "                dice_metric(y_pred=val_output_convert, y=val_labels_convert)\n",
    "                dice_metric_batch(y_pred=val_output_convert, y=val_labels_convert)\n",
    "                epoch_iterator_val.set_description(\n",
    "                    \"Validate (%d / %d Steps)\" % (global_step, 10.0)\n",
    "                )\n",
    "            mean_dice_val = dice_metric.aggregate().item()\n",
    "            metric_batch_val = dice_metric_batch.aggregate()\n",
    "\n",
    "            metric_tumor = metric_batch_val[0].item()\n",
    "            metric_lymph = metric_batch_val[1].item()\n",
    "\n",
    "            dice_metric.reset()\n",
    "            dice_metric_batch.reset()\n",
    "        return mean_dice_val, metric_tumor, metric_lymph\n",
    "\n",
    "\n",
    "\n",
    "def train(global_step, train_loader, dice_val_best, global_step_best):\n",
    "        model.train()\n",
    "        epoch_loss = 0\n",
    "        step = 0\n",
    "        epoch_iterator = tqdm(\n",
    "            train_loader, desc=\"Training (X / X Steps) (loss=X.X)\", dynamic_ncols=True\n",
    "        )\n",
    "        \n",
    "        for step, batch in enumerate(epoch_iterator):\n",
    "            step += 1\n",
    "            x, y = (batch[\"ctpt\"].cuda(), batch[\"seg\"].cuda())\n",
    "            logit_map = model(x, mode=\"ct\")\n",
    "            loss = loss_function(logit_map, y)\n",
    "            loss.backward()\n",
    "            epoch_loss += loss.item() \n",
    "            optimizer.step()\n",
    "            optimizer.zero_grad()\n",
    "            epoch_iterator.set_description(\n",
    "                \"Training (%d / %d Steps) (loss=%2.5f)\"\n",
    "                % (global_step, max_iterations, loss)\n",
    "            )\n",
    "            \n",
    "            if (\n",
    "                global_step % eval_num == 0 and global_step != 0\n",
    "            ) or global_step == max_iterations:\n",
    "                epoch_iterator_val = tqdm(\n",
    "                    val_loader, desc=\"Validate (X / X Steps) (dice=X.X)\", dynamic_ncols=True\n",
    "                )\n",
    "                dice_val, metric_tumor, metric_lymph = validation(epoch_iterator_val)\n",
    "                epoch_loss /= step\n",
    "                epoch_loss_values.append(epoch_loss)\n",
    "                metric_values.append(dice_val)\n",
    "                metric_values_tumor.append(metric_tumor)\n",
    "                metric_values_lymph.append(metric_lymph)\n",
    "                if dice_val > dice_val_best:\n",
    "                    dice_val_best = dice_val\n",
    "                    global_step_best = global_step\n",
    "                    torch.save(\n",
    "                        model.state_dict(), os.path.join(model_dir, \"4centers-ctpt-tokens-ct.pth\")\n",
    "                    )\n",
    "                    print(\n",
    "                        \"Model Was Saved ! Current Best Avg. Dice: {} Current Avg. Dice: {} Current Avg. tumor Dice: {} Current Avg. lymph Dice: {}\".format(\n",
    "                            dice_val_best, dice_val, metric_tumor, metric_lymph\n",
    "                        )\n",
    "                    )\n",
    "                else:\n",
    "                    print(\n",
    "                        \"Model Was Not Saved ! Current Best Avg. Dice: {} Current Avg. Dice: {} Current Avg. tumor Dice: {} Current Avg. lymph Dice: {}\".format(\n",
    "                            dice_val_best, dice_val,  metric_tumor, metric_lymph\n",
    "                        )\n",
    "                    )\n",
    "            global_step += 1\n",
    "        return global_step, dice_val_best, global_step_best"
   ]
  },
  {
   "cell_type": "code",
   "execution_count": 8,
   "metadata": {},
   "outputs": [
    {
     "name": "stderr",
     "output_type": "stream",
     "text": [
      "Training (X / X Steps) (loss=X.X):   0%|          | 0/102 [00:00<?, ?it/s]"
     ]
    },
    {
     "name": "stderr",
     "output_type": "stream",
     "text": [
      "Validate (0 / 10 Steps): 100%|██████████| 25/25 [03:14<00:00,  7.77s/it]1:53<00:01,  1.12it/s]\n",
      "Training (100 / 18000 Steps) (loss=0.87807):  99%|█████████▉| 101/102 [05:08<00:59, 59.55s/it]"
     ]
    },
    {
     "name": "stdout",
     "output_type": "stream",
     "text": [
      "Model Was Saved ! Current Best Avg. Dice: 0.25799113512039185 Current Avg. Dice: 0.25799113512039185 Current Avg. tumor Dice: 0.34336385130882263 Current Avg. lymph Dice: 0.15314559638500214\n"
     ]
    },
    {
     "name": "stderr",
     "output_type": "stream",
     "text": [
      "Training (101 / 18000 Steps) (loss=0.87263): 100%|██████████| 102/102 [05:09<00:00,  3.04s/it]\n",
      "Validate (102 / 10 Steps): 100%|██████████| 25/25 [03:06<00:00,  7.47s/it]0<00:03,  1.19it/s]\n",
      "Training (200 / 18000 Steps) (loss=0.70263):  97%|█████████▋| 99/102 [04:37<02:50, 56.82s/it]"
     ]
    },
    {
     "name": "stdout",
     "output_type": "stream",
     "text": [
      "Model Was Not Saved ! Current Best Avg. Dice: 0.25799113512039185 Current Avg. Dice: 0.231979101896286 Current Avg. tumor Dice: 0.36477968096733093 Current Avg. lymph Dice: 0.06331145763397217\n"
     ]
    },
    {
     "name": "stderr",
     "output_type": "stream",
     "text": [
      "Training (203 / 18000 Steps) (loss=0.74138): 100%|██████████| 102/102 [04:39<00:00,  2.74s/it]\n",
      "Validate (204 / 10 Steps): 100%|██████████| 25/25 [03:08<00:00,  7.54s/it]7<00:04,  1.23it/s]\n",
      "Training (300 / 18000 Steps) (loss=0.71996):  95%|█████████▌| 97/102 [04:36<04:47, 57.41s/it]"
     ]
    },
    {
     "name": "stdout",
     "output_type": "stream",
     "text": [
      "Model Was Not Saved ! Current Best Avg. Dice: 0.25799113512039185 Current Avg. Dice: 0.21358808875083923 Current Avg. tumor Dice: 0.38110125064849854 Current Avg. lymph Dice: 0.0036781548988074064\n"
     ]
    },
    {
     "name": "stderr",
     "output_type": "stream",
     "text": [
      "Training (305 / 18000 Steps) (loss=0.76812): 100%|██████████| 102/102 [04:40<00:00,  2.75s/it]\n",
      "Validate (306 / 10 Steps): 100%|██████████| 25/25 [03:10<00:00,  7.61s/it]6<00:06,  1.25it/s]\n",
      "Training (400 / 18000 Steps) (loss=0.72574):  93%|█████████▎| 95/102 [04:37<06:47, 58.15s/it]"
     ]
    },
    {
     "name": "stdout",
     "output_type": "stream",
     "text": [
      "Model Was Saved ! Current Best Avg. Dice: 0.32095006108283997 Current Avg. Dice: 0.32095006108283997 Current Avg. tumor Dice: 0.456133633852005 Current Avg. lymph Dice: 0.15076565742492676\n"
     ]
    },
    {
     "name": "stderr",
     "output_type": "stream",
     "text": [
      "Training (407 / 18000 Steps) (loss=0.72904): 100%|██████████| 102/102 [04:44<00:00,  2.79s/it]\n",
      "Validate (408 / 10 Steps): 100%|██████████| 25/25 [03:15<00:00,  7.82s/it]9<00:04,  2.15it/s]\n",
      "Training (500 / 18000 Steps) (loss=0.71413):  91%|█████████ | 93/102 [04:35<08:55, 59.53s/it]"
     ]
    },
    {
     "name": "stdout",
     "output_type": "stream",
     "text": [
      "Model Was Saved ! Current Best Avg. Dice: 0.38491004705429077 Current Avg. Dice: 0.38491004705429077 Current Avg. tumor Dice: 0.48801329731941223 Current Avg. lymph Dice: 0.24179577827453613\n"
     ]
    },
    {
     "name": "stderr",
     "output_type": "stream",
     "text": [
      "Training (509 / 18000 Steps) (loss=0.65244): 100%|██████████| 102/102 [04:43<00:00,  2.78s/it]\n",
      "Validate (510 / 10 Steps): 100%|██████████| 25/25 [03:16<00:00,  7.87s/it]3<00:09,  1.32it/s]\n",
      "Training (600 / 18000 Steps) (loss=0.72045):  89%|████████▉ | 91/102 [04:30<10:57, 59.81s/it]"
     ]
    },
    {
     "name": "stdout",
     "output_type": "stream",
     "text": [
      "Model Was Not Saved ! Current Best Avg. Dice: 0.38491004705429077 Current Avg. Dice: 0.2249969244003296 Current Avg. tumor Dice: 0.30264919996261597 Current Avg. lymph Dice: 0.13159163296222687\n"
     ]
    },
    {
     "name": "stderr",
     "output_type": "stream",
     "text": [
      "Training (611 / 18000 Steps) (loss=0.60969): 100%|██████████| 102/102 [04:40<00:00,  2.75s/it]\n",
      "Validate (612 / 10 Steps): 100%|██████████| 25/25 [03:18<00:00,  7.93s/it]6<00:10,  1.27it/s]\n",
      "Training (700 / 18000 Steps) (loss=0.67705):  87%|████████▋ | 89/102 [04:35<13:03, 60.27s/it]"
     ]
    },
    {
     "name": "stdout",
     "output_type": "stream",
     "text": [
      "Model Was Not Saved ! Current Best Avg. Dice: 0.38491004705429077 Current Avg. Dice: 0.3744344115257263 Current Avg. tumor Dice: 0.4649922549724579 Current Avg. lymph Dice: 0.24758626520633698\n"
     ]
    },
    {
     "name": "stderr",
     "output_type": "stream",
     "text": [
      "Training (713 / 18000 Steps) (loss=0.64264): 100%|██████████| 102/102 [04:45<00:00,  2.80s/it]\n",
      "Validate (714 / 10 Steps): 100%|██████████| 25/25 [03:21<00:00,  8.07s/it]1<00:09,  1.66it/s]\n",
      "Training (800 / 18000 Steps) (loss=0.50298):  85%|████████▌ | 87/102 [04:33<15:20, 61.36s/it]"
     ]
    },
    {
     "name": "stdout",
     "output_type": "stream",
     "text": [
      "Model Was Saved ! Current Best Avg. Dice: 0.4267037808895111 Current Avg. Dice: 0.4267037808895111 Current Avg. tumor Dice: 0.5088855624198914 Current Avg. lymph Dice: 0.3087478578090668\n"
     ]
    },
    {
     "name": "stderr",
     "output_type": "stream",
     "text": [
      "Training (815 / 18000 Steps) (loss=0.44316): 100%|██████████| 102/102 [04:45<00:00,  2.80s/it]\n",
      "Validate (816 / 10 Steps): 100%|██████████| 25/25 [03:19<00:00,  7.96s/it]8<00:15,  1.19it/s]\n",
      "Training (900 / 18000 Steps) (loss=0.59408):  83%|████████▎ | 85/102 [04:27<17:10, 60.61s/it]"
     ]
    },
    {
     "name": "stdout",
     "output_type": "stream",
     "text": [
      "Model Was Not Saved ! Current Best Avg. Dice: 0.4267037808895111 Current Avg. Dice: 0.403653085231781 Current Avg. tumor Dice: 0.525959849357605 Current Avg. lymph Dice: 0.24071566760540009\n"
     ]
    },
    {
     "name": "stderr",
     "output_type": "stream",
     "text": [
      "Training (917 / 18000 Steps) (loss=0.55539): 100%|██████████| 102/102 [04:42<00:00,  2.76s/it]\n",
      "Validate (918 / 10 Steps): 100%|██████████| 25/25 [03:17<00:00,  7.89s/it]11<00:18,  1.11it/s]\n",
      "Training (1000 / 18000 Steps) (loss=0.68127):  81%|████████▏ | 83/102 [04:28<19:02, 60.13s/it]"
     ]
    },
    {
     "name": "stdout",
     "output_type": "stream",
     "text": [
      "Model Was Not Saved ! Current Best Avg. Dice: 0.4267037808895111 Current Avg. Dice: 0.40673285722732544 Current Avg. tumor Dice: 0.50861656665802 Current Avg. lymph Dice: 0.2638067603111267\n"
     ]
    },
    {
     "name": "stderr",
     "output_type": "stream",
     "text": [
      "Training (1019 / 18000 Steps) (loss=0.67941): 100%|██████████| 102/102 [04:41<00:00,  2.76s/it]\n",
      "Validate (1020 / 10 Steps): 100%|██████████| 25/25 [03:11<00:00,  7.67s/it]2<00:19,  1.14it/s]\n",
      "Training (1100 / 18000 Steps) (loss=0.59104):  79%|███████▉  | 81/102 [04:24<20:27, 58.43s/it]"
     ]
    },
    {
     "name": "stdout",
     "output_type": "stream",
     "text": [
      "Model Was Not Saved ! Current Best Avg. Dice: 0.4267037808895111 Current Avg. Dice: 0.3503565788269043 Current Avg. tumor Dice: 0.46277788281440735 Current Avg. lymph Dice: 0.18972960114479065\n"
     ]
    },
    {
     "name": "stderr",
     "output_type": "stream",
     "text": [
      "Training (1121 / 18000 Steps) (loss=0.54848): 100%|██████████| 102/102 [04:41<00:00,  2.76s/it]\n",
      "Validate (1122 / 10 Steps): 100%|██████████| 25/25 [03:09<00:00,  7.57s/it]1<00:20,  1.16it/s]\n",
      "Training (1200 / 18000 Steps) (loss=0.49718):  77%|███████▋  | 79/102 [04:22<22:13, 57.99s/it]"
     ]
    },
    {
     "name": "stdout",
     "output_type": "stream",
     "text": [
      "Model Was Saved ! Current Best Avg. Dice: 0.45222511887550354 Current Avg. Dice: 0.45222511887550354 Current Avg. tumor Dice: 0.5304439663887024 Current Avg. lymph Dice: 0.3369317352771759\n"
     ]
    },
    {
     "name": "stderr",
     "output_type": "stream",
     "text": [
      "Training (1223 / 18000 Steps) (loss=0.56247): 100%|██████████| 102/102 [04:39<00:00,  2.74s/it]\n",
      "Validate (1224 / 10 Steps): 100%|██████████| 25/25 [03:05<00:00,  7.41s/it]2<00:22,  1.14it/s]\n",
      "Training (1300 / 18000 Steps) (loss=0.45565):  75%|███████▌  | 77/102 [04:17<23:30, 56.43s/it]"
     ]
    },
    {
     "name": "stdout",
     "output_type": "stream",
     "text": [
      "Model Was Not Saved ! Current Best Avg. Dice: 0.45222511887550354 Current Avg. Dice: 0.3720569610595703 Current Avg. tumor Dice: 0.4799312949180603 Current Avg. lymph Dice: 0.22512270510196686\n"
     ]
    },
    {
     "name": "stderr",
     "output_type": "stream",
     "text": [
      "Training (1325 / 18000 Steps) (loss=0.54661): 100%|██████████| 102/102 [04:40<00:00,  2.75s/it]\n",
      "Validate (1326 / 10 Steps): 100%|██████████| 25/25 [03:03<00:00,  7.35s/it]1<00:25,  1.08it/s]\n",
      "Training (1400 / 18000 Steps) (loss=0.50262):  74%|███████▎  | 75/102 [04:15<25:14, 56.10s/it]"
     ]
    },
    {
     "name": "stdout",
     "output_type": "stream",
     "text": [
      "Model Was Not Saved ! Current Best Avg. Dice: 0.45222511887550354 Current Avg. Dice: 0.42030370235443115 Current Avg. tumor Dice: 0.5224373936653137 Current Avg. lymph Dice: 0.2804265320301056\n"
     ]
    },
    {
     "name": "stderr",
     "output_type": "stream",
     "text": [
      "Training (1427 / 18000 Steps) (loss=0.56556): 100%|██████████| 102/102 [04:39<00:00,  2.74s/it]\n",
      "Validate (1428 / 10 Steps): 100%|██████████| 25/25 [03:03<00:00,  7.35s/it]6<00:25,  1.18it/s]\n",
      "Training (1500 / 18000 Steps) (loss=0.58612):  72%|███████▏  | 73/102 [04:10<27:04, 56.01s/it]"
     ]
    },
    {
     "name": "stdout",
     "output_type": "stream",
     "text": [
      "Model Was Not Saved ! Current Best Avg. Dice: 0.45222511887550354 Current Avg. Dice: 0.2907216250896454 Current Avg. tumor Dice: 0.40349093079566956 Current Avg. lymph Dice: 0.14506933093070984\n"
     ]
    },
    {
     "name": "stderr",
     "output_type": "stream",
     "text": [
      "Training (1529 / 18000 Steps) (loss=0.46179): 100%|██████████| 102/102 [04:35<00:00,  2.70s/it]\n",
      "Validate (1530 / 10 Steps): 100%|██████████| 25/25 [03:04<00:00,  7.38s/it]6<00:28,  1.13it/s]\n",
      "Training (1600 / 18000 Steps) (loss=0.56742):  70%|██████▉   | 71/102 [04:11<29:03, 56.23s/it]"
     ]
    },
    {
     "name": "stdout",
     "output_type": "stream",
     "text": [
      "Model Was Not Saved ! Current Best Avg. Dice: 0.45222511887550354 Current Avg. Dice: 0.4346107244491577 Current Avg. tumor Dice: 0.5404508709907532 Current Avg. lymph Dice: 0.29115667939186096\n"
     ]
    },
    {
     "name": "stderr",
     "output_type": "stream",
     "text": [
      "Training (1631 / 18000 Steps) (loss=0.54023): 100%|██████████| 102/102 [04:39<00:00,  2.74s/it]\n",
      "Validate (1632 / 10 Steps): 100%|██████████| 25/25 [03:05<00:00,  7.40s/it]5<00:30,  1.12it/s]\n",
      "Training (1700 / 18000 Steps) (loss=0.67195):  68%|██████▊   | 69/102 [04:11<30:59, 56.36s/it]"
     ]
    },
    {
     "name": "stdout",
     "output_type": "stream",
     "text": [
      "Model Was Not Saved ! Current Best Avg. Dice: 0.45222511887550354 Current Avg. Dice: 0.42870697379112244 Current Avg. tumor Dice: 0.5190982222557068 Current Avg. lymph Dice: 0.30613505840301514\n"
     ]
    },
    {
     "name": "stderr",
     "output_type": "stream",
     "text": [
      "Training (1733 / 18000 Steps) (loss=0.46487): 100%|██████████| 102/102 [04:40<00:00,  2.75s/it]\n",
      "Validate (1734 / 10 Steps): 100%|██████████| 25/25 [03:03<00:00,  7.35s/it]3<00:32,  1.10it/s]\n",
      "Training (1800 / 18000 Steps) (loss=0.62812):  66%|██████▌   | 67/102 [04:07<32:42, 56.06s/it]"
     ]
    },
    {
     "name": "stdout",
     "output_type": "stream",
     "text": [
      "Model Was Not Saved ! Current Best Avg. Dice: 0.45222511887550354 Current Avg. Dice: 0.4336947202682495 Current Avg. tumor Dice: 0.520376443862915 Current Avg. lymph Dice: 0.310191810131073\n"
     ]
    },
    {
     "name": "stderr",
     "output_type": "stream",
     "text": [
      "Training (1835 / 18000 Steps) (loss=0.33116): 100%|██████████| 102/102 [04:38<00:00,  2.73s/it]\n",
      "Validate (1836 / 10 Steps): 100%|██████████| 25/25 [03:07<00:00,  7.51s/it]1<00:32,  1.18it/s]\n",
      "Training (1900 / 18000 Steps) (loss=0.49263):  64%|██████▎   | 65/102 [04:10<35:26, 57.47s/it]"
     ]
    },
    {
     "name": "stdout",
     "output_type": "stream",
     "text": [
      "Model Was Saved ! Current Best Avg. Dice: 0.45745718479156494 Current Avg. Dice: 0.45745718479156494 Current Avg. tumor Dice: 0.5549694895744324 Current Avg. lymph Dice: 0.3224846124649048\n"
     ]
    },
    {
     "name": "stderr",
     "output_type": "stream",
     "text": [
      "Training (1937 / 18000 Steps) (loss=0.50866): 100%|██████████| 102/102 [04:43<00:00,  2.78s/it]\n",
      "Validate (1938 / 10 Steps): 100%|██████████| 25/25 [03:08<00:00,  7.54s/it]8<00:32,  1.23it/s]\n",
      "Training (2000 / 18000 Steps) (loss=0.48769):  62%|██████▏   | 63/102 [04:07<37:17, 57.38s/it]"
     ]
    },
    {
     "name": "stdout",
     "output_type": "stream",
     "text": [
      "Model Was Not Saved ! Current Best Avg. Dice: 0.45745718479156494 Current Avg. Dice: 0.42630535364151 Current Avg. tumor Dice: 0.5030685663223267 Current Avg. lymph Dice: 0.31766417622566223\n"
     ]
    },
    {
     "name": "stderr",
     "output_type": "stream",
     "text": [
      "Training (2039 / 18000 Steps) (loss=0.45293): 100%|██████████| 102/102 [04:40<00:00,  2.75s/it]\n",
      "Validate (2040 / 10 Steps): 100%|██████████| 25/25 [03:10<00:00,  7.61s/it]5<00:35,  1.17it/s]\n",
      "Training (2100 / 18000 Steps) (loss=0.62921):  60%|█████▉    | 61/102 [04:06<39:46, 58.20s/it]"
     ]
    },
    {
     "name": "stdout",
     "output_type": "stream",
     "text": [
      "Model Was Saved ! Current Best Avg. Dice: 0.472638875246048 Current Avg. Dice: 0.472638875246048 Current Avg. tumor Dice: 0.5611076354980469 Current Avg. lymph Dice: 0.3455456495285034\n"
     ]
    },
    {
     "name": "stderr",
     "output_type": "stream",
     "text": [
      "Training (2141 / 18000 Steps) (loss=0.66931): 100%|██████████| 102/102 [04:42<00:00,  2.77s/it]\n",
      "Validate (2142 / 10 Steps): 100%|██████████| 25/25 [03:13<00:00,  7.73s/it]1<00:37,  1.16it/s]\n",
      "Training (2200 / 18000 Steps) (loss=0.63602):  58%|█████▊    | 59/102 [04:04<42:12, 58.88s/it]"
     ]
    },
    {
     "name": "stdout",
     "output_type": "stream",
     "text": [
      "Model Was Not Saved ! Current Best Avg. Dice: 0.472638875246048 Current Avg. Dice: 0.4584323763847351 Current Avg. tumor Dice: 0.5421055555343628 Current Avg. lymph Dice: 0.33405134081840515\n"
     ]
    },
    {
     "name": "stderr",
     "output_type": "stream",
     "text": [
      "Training (2243 / 18000 Steps) (loss=0.42981): 100%|██████████| 102/102 [04:42<00:00,  2.77s/it]\n",
      "Validate (2244 / 10 Steps): 100%|██████████| 25/25 [03:15<00:00,  7.81s/it]0<00:36,  1.27it/s]\n",
      "Training (2300 / 18000 Steps) (loss=0.60341):  56%|█████▌    | 57/102 [04:06<44:34, 59.42s/it]"
     ]
    },
    {
     "name": "stdout",
     "output_type": "stream",
     "text": [
      "Model Was Not Saved ! Current Best Avg. Dice: 0.472638875246048 Current Avg. Dice: 0.46759530901908875 Current Avg. tumor Dice: 0.542339563369751 Current Avg. lymph Dice: 0.3623622953891754\n"
     ]
    },
    {
     "name": "stderr",
     "output_type": "stream",
     "text": [
      "Training (2345 / 18000 Steps) (loss=0.50485): 100%|██████████| 102/102 [04:42<00:00,  2.77s/it]\n",
      "Validate (2346 / 10 Steps): 100%|██████████| 25/25 [03:21<00:00,  8.04s/it]5<00:29,  1.63it/s]\n",
      "Training (2400 / 18000 Steps) (loss=0.70755):  54%|█████▍    | 55/102 [04:06<47:47, 61.02s/it]"
     ]
    },
    {
     "name": "stdout",
     "output_type": "stream",
     "text": [
      "Model Was Not Saved ! Current Best Avg. Dice: 0.472638875246048 Current Avg. Dice: 0.42845532298088074 Current Avg. tumor Dice: 0.5413585305213928 Current Avg. lymph Dice: 0.27985185384750366\n"
     ]
    },
    {
     "name": "stderr",
     "output_type": "stream",
     "text": [
      "Training (2447 / 18000 Steps) (loss=0.27928): 100%|██████████| 102/102 [04:43<00:00,  2.78s/it]\n",
      "Validate (2448 / 10 Steps): 100%|██████████| 25/25 [03:19<00:00,  7.97s/it]3<00:44,  1.12it/s]\n",
      "Training (2500 / 18000 Steps) (loss=0.63047):  52%|█████▏    | 53/102 [04:02<49:26, 60.54s/it]"
     ]
    },
    {
     "name": "stdout",
     "output_type": "stream",
     "text": [
      "Model Was Not Saved ! Current Best Avg. Dice: 0.472638875246048 Current Avg. Dice: 0.3888954222202301 Current Avg. tumor Dice: 0.48334527015686035 Current Avg. lymph Dice: 0.2617754340171814\n"
     ]
    },
    {
     "name": "stderr",
     "output_type": "stream",
     "text": [
      "Training (2549 / 18000 Steps) (loss=0.40399): 100%|██████████| 102/102 [04:42<00:00,  2.77s/it]\n",
      "Validate (2550 / 10 Steps): 100%|██████████| 25/25 [03:13<00:00,  7.75s/it]5<00:46,  1.12it/s]\n",
      "Training (2600 / 18000 Steps) (loss=0.66908):  50%|█████     | 51/102 [03:59<50:10, 59.04s/it]"
     ]
    },
    {
     "name": "stdout",
     "output_type": "stream",
     "text": [
      "Model Was Not Saved ! Current Best Avg. Dice: 0.472638875246048 Current Avg. Dice: 0.46919259428977966 Current Avg. tumor Dice: 0.5200936198234558 Current Avg. lymph Dice: 0.37984204292297363\n"
     ]
    },
    {
     "name": "stderr",
     "output_type": "stream",
     "text": [
      "Training (2651 / 18000 Steps) (loss=0.67096): 100%|██████████| 102/102 [04:39<00:00,  2.74s/it]\n",
      "Validate (2652 / 10 Steps): 100%|██████████| 25/25 [03:12<00:00,  7.69s/it]8<00:47,  1.13it/s]\n",
      "Training (2700 / 18000 Steps) (loss=0.56956):  48%|████▊     | 49/102 [04:00<51:49, 58.67s/it]"
     ]
    },
    {
     "name": "stdout",
     "output_type": "stream",
     "text": [
      "Model Was Not Saved ! Current Best Avg. Dice: 0.472638875246048 Current Avg. Dice: 0.4400624930858612 Current Avg. tumor Dice: 0.5028149485588074 Current Avg. lymph Dice: 0.3428836762905121\n"
     ]
    },
    {
     "name": "stderr",
     "output_type": "stream",
     "text": [
      "Training (2753 / 18000 Steps) (loss=0.46766): 100%|██████████| 102/102 [04:42<00:00,  2.77s/it]\n",
      "Validate (2754 / 10 Steps): 100%|██████████| 25/25 [03:09<00:00,  7.56s/it]6<00:47,  1.17it/s]\n",
      "Training (2800 / 18000 Steps) (loss=0.33482):  46%|████▌     | 47/102 [03:55<52:50, 57.65s/it]"
     ]
    },
    {
     "name": "stdout",
     "output_type": "stream",
     "text": [
      "Model Was Not Saved ! Current Best Avg. Dice: 0.472638875246048 Current Avg. Dice: 0.4030141234397888 Current Avg. tumor Dice: 0.4962403476238251 Current Avg. lymph Dice: 0.27623993158340454\n"
     ]
    },
    {
     "name": "stderr",
     "output_type": "stream",
     "text": [
      "Training (2855 / 18000 Steps) (loss=0.72035): 100%|██████████| 102/102 [04:40<00:00,  2.75s/it]\n",
      "Validate (2856 / 10 Steps): 100%|██████████| 25/25 [03:06<00:00,  7.45s/it]3<00:52,  1.11it/s]\n",
      "Training (2900 / 18000 Steps) (loss=0.74619):  44%|████▍     | 45/102 [03:50<54:09, 57.01s/it]"
     ]
    },
    {
     "name": "stdout",
     "output_type": "stream",
     "text": [
      "Model Was Saved ! Current Best Avg. Dice: 0.47633078694343567 Current Avg. Dice: 0.47633078694343567 Current Avg. tumor Dice: 0.5533691644668579 Current Avg. lymph Dice: 0.36504533886909485\n"
     ]
    },
    {
     "name": "stderr",
     "output_type": "stream",
     "text": [
      "Training (2957 / 18000 Steps) (loss=0.43045): 100%|██████████| 102/102 [04:40<00:00,  2.75s/it]\n",
      "Validate (2958 / 10 Steps): 100%|██████████| 25/25 [03:04<00:00,  7.39s/it]2<00:55,  1.08it/s]\n",
      "Training (3000 / 18000 Steps) (loss=0.57229):  42%|████▏     | 43/102 [03:47<55:39, 56.60s/it]"
     ]
    },
    {
     "name": "stdout",
     "output_type": "stream",
     "text": [
      "Model Was Saved ! Current Best Avg. Dice: 0.48181790113449097 Current Avg. Dice: 0.48181790113449097 Current Avg. tumor Dice: 0.569100558757782 Current Avg. lymph Dice: 0.3626993000507355\n"
     ]
    },
    {
     "name": "stderr",
     "output_type": "stream",
     "text": [
      "Training (3059 / 18000 Steps) (loss=0.59240): 100%|██████████| 102/102 [04:40<00:00,  2.75s/it]\n",
      "Validate (3060 / 10 Steps): 100%|██████████| 25/25 [03:04<00:00,  7.39s/it]0<00:55,  1.12it/s]\n",
      "Training (3100 / 18000 Steps) (loss=0.54776):  40%|████      | 41/102 [03:45<57:16, 56.33s/it]"
     ]
    },
    {
     "name": "stdout",
     "output_type": "stream",
     "text": [
      "Model Was Not Saved ! Current Best Avg. Dice: 0.48181790113449097 Current Avg. Dice: 0.411974161863327 Current Avg. tumor Dice: 0.51262366771698 Current Avg. lymph Dice: 0.2851787507534027\n"
     ]
    },
    {
     "name": "stderr",
     "output_type": "stream",
     "text": [
      "Training (3161 / 18000 Steps) (loss=0.45553): 100%|██████████| 102/102 [04:39<00:00,  2.74s/it]\n",
      "Validate (3162 / 10 Steps): 100%|██████████| 25/25 [03:03<00:00,  7.33s/it]8<00:55,  1.15it/s]\n",
      "Training (3200 / 18000 Steps) (loss=0.38002):  38%|███▊      | 39/102 [03:41<58:38, 55.85s/it]"
     ]
    },
    {
     "name": "stdout",
     "output_type": "stream",
     "text": [
      "Model Was Not Saved ! Current Best Avg. Dice: 0.48181790113449097 Current Avg. Dice: 0.4799678325653076 Current Avg. tumor Dice: 0.5707516074180603 Current Avg. lymph Dice: 0.3493894338607788\n"
     ]
    },
    {
     "name": "stderr",
     "output_type": "stream",
     "text": [
      "Training (3263 / 18000 Steps) (loss=0.52389): 100%|██████████| 102/102 [04:38<00:00,  2.73s/it]\n",
      "Validate (3264 / 10 Steps): 100%|██████████| 25/25 [03:03<00:00,  7.35s/it]6<00:58,  1.12it/s]\n",
      "Training (3300 / 18000 Steps) (loss=0.58730):  36%|███▋      | 37/102 [03:40<1:00:42, 56.04s/it]"
     ]
    },
    {
     "name": "stdout",
     "output_type": "stream",
     "text": [
      "Model Was Not Saved ! Current Best Avg. Dice: 0.48181790113449097 Current Avg. Dice: 0.45484644174575806 Current Avg. tumor Dice: 0.5546531677246094 Current Avg. lymph Dice: 0.31367090344429016\n"
     ]
    },
    {
     "name": "stderr",
     "output_type": "stream",
     "text": [
      "Training (3365 / 18000 Steps) (loss=0.29740): 100%|██████████| 102/102 [04:37<00:00,  2.72s/it] \n",
      "Validate (3366 / 10 Steps): 100%|██████████| 25/25 [03:04<00:00,  7.37s/it]6<00:59,  1.14it/s]\n",
      "Training (3400 / 18000 Steps) (loss=0.56987):  34%|███▍      | 35/102 [03:40<1:02:43, 56.17s/it]"
     ]
    },
    {
     "name": "stdout",
     "output_type": "stream",
     "text": [
      "Model Was Not Saved ! Current Best Avg. Dice: 0.48181790113449097 Current Avg. Dice: 0.45904847979545593 Current Avg. tumor Dice: 0.5472885370254517 Current Avg. lymph Dice: 0.3389913737773895\n"
     ]
    },
    {
     "name": "stderr",
     "output_type": "stream",
     "text": [
      "Training (3467 / 18000 Steps) (loss=0.52178): 100%|██████████| 102/102 [04:40<00:00,  2.75s/it] \n",
      "Validate (3468 / 10 Steps): 100%|██████████| 25/25 [03:06<00:00,  7.47s/it]3<00:57,  1.21it/s]\n",
      "Training (3500 / 18000 Steps) (loss=0.43441):  32%|███▏      | 33/102 [03:40<1:05:22, 56.84s/it]"
     ]
    },
    {
     "name": "stdout",
     "output_type": "stream",
     "text": [
      "Model Was Not Saved ! Current Best Avg. Dice: 0.48181790113449097 Current Avg. Dice: 0.44755056500434875 Current Avg. tumor Dice: 0.5593854188919067 Current Avg. lymph Dice: 0.3033583462238312\n"
     ]
    },
    {
     "name": "stderr",
     "output_type": "stream",
     "text": [
      "Training (3569 / 18000 Steps) (loss=0.54011): 100%|██████████| 102/102 [04:41<00:00,  2.76s/it] \n",
      "Validate (3570 / 10 Steps): 100%|██████████| 25/25 [03:12<00:00,  7.69s/it]7<00:38,  1.86it/s]\n",
      "Training (3600 / 18000 Steps) (loss=0.67416):  30%|███       | 31/102 [03:39<1:08:52, 58.21s/it]"
     ]
    },
    {
     "name": "stdout",
     "output_type": "stream",
     "text": [
      "Model Was Not Saved ! Current Best Avg. Dice: 0.48181790113449097 Current Avg. Dice: 0.41979023814201355 Current Avg. tumor Dice: 0.5172362923622131 Current Avg. lymph Dice: 0.29025354981422424\n"
     ]
    },
    {
     "name": "stderr",
     "output_type": "stream",
     "text": [
      "Training (3671 / 18000 Steps) (loss=0.40627): 100%|██████████| 102/102 [04:41<00:00,  2.76s/it] \n",
      "Validate (3672 / 10 Steps): 100%|██████████| 25/25 [03:13<00:00,  7.73s/it]5<00:51,  1.43it/s]\n",
      "Training (3700 / 18000 Steps) (loss=0.67865):  28%|██▊       | 29/102 [03:38<1:11:26, 58.72s/it]"
     ]
    },
    {
     "name": "stdout",
     "output_type": "stream",
     "text": [
      "Model Was Not Saved ! Current Best Avg. Dice: 0.48181790113449097 Current Avg. Dice: 0.3547385036945343 Current Avg. tumor Dice: 0.36426132917404175 Current Avg. lymph Dice: 0.3417937457561493\n"
     ]
    },
    {
     "name": "stderr",
     "output_type": "stream",
     "text": [
      "Training (3773 / 18000 Steps) (loss=0.29523): 100%|██████████| 102/102 [04:41<00:00,  2.76s/it] \n",
      "Validate (3774 / 10 Steps): 100%|██████████| 25/25 [03:13<00:00,  7.76s/it]5<01:03,  1.20it/s]\n",
      "Training (3800 / 18000 Steps) (loss=0.34647):  26%|██▋       | 27/102 [03:39<1:13:43, 58.98s/it]"
     ]
    },
    {
     "name": "stdout",
     "output_type": "stream",
     "text": [
      "Model Was Not Saved ! Current Best Avg. Dice: 0.48181790113449097 Current Avg. Dice: 0.2829638421535492 Current Avg. tumor Dice: 0.3397098481655121 Current Avg. lymph Dice: 0.2154846340417862\n"
     ]
    },
    {
     "name": "stderr",
     "output_type": "stream",
     "text": [
      "Training (3875 / 18000 Steps) (loss=0.38993): 100%|██████████| 102/102 [04:41<00:00,  2.76s/it] \n",
      "Validate (3876 / 10 Steps): 100%|██████████| 25/25 [03:15<00:00,  7.83s/it]4<01:00,  1.29it/s]\n",
      "Training (3900 / 18000 Steps) (loss=0.66831):  25%|██▍       | 25/102 [03:40<1:16:20, 59.48s/it]"
     ]
    },
    {
     "name": "stdout",
     "output_type": "stream",
     "text": [
      "Model Was Not Saved ! Current Best Avg. Dice: 0.48181790113449097 Current Avg. Dice: 0.40744245052337646 Current Avg. tumor Dice: 0.5032252669334412 Current Avg. lymph Dice: 0.28132060170173645\n"
     ]
    },
    {
     "name": "stderr",
     "output_type": "stream",
     "text": [
      "Training (3977 / 18000 Steps) (loss=0.68544): 100%|██████████| 102/102 [04:41<00:00,  2.76s/it] \n",
      "Validate (3978 / 10 Steps): 100%|██████████| 25/25 [03:17<00:00,  7.92s/it]2<01:03,  1.26it/s]\n",
      "Training (4000 / 18000 Steps) (loss=0.54340):  23%|██▎       | 23/102 [03:41<1:19:35, 60.45s/it]"
     ]
    },
    {
     "name": "stdout",
     "output_type": "stream",
     "text": [
      "Model Was Saved ! Current Best Avg. Dice: 0.4985278248786926 Current Avg. Dice: 0.4985278248786926 Current Avg. tumor Dice: 0.6022379398345947 Current Avg. lymph Dice: 0.35949137806892395\n"
     ]
    },
    {
     "name": "stderr",
     "output_type": "stream",
     "text": [
      "Training (4079 / 18000 Steps) (loss=0.48418): 100%|██████████| 102/102 [04:45<00:00,  2.79s/it] \n",
      "Validate (4080 / 10 Steps): 100%|██████████| 25/25 [03:20<00:00,  8.03s/it]1<01:00,  1.36it/s]\n",
      "Training (4100 / 18000 Steps) (loss=0.73352):  21%|██        | 21/102 [03:42<1:22:21, 61.00s/it]"
     ]
    },
    {
     "name": "stdout",
     "output_type": "stream",
     "text": [
      "Model Was Not Saved ! Current Best Avg. Dice: 0.4985278248786926 Current Avg. Dice: 0.46993857622146606 Current Avg. tumor Dice: 0.5500507950782776 Current Avg. lymph Dice: 0.3549802899360657\n"
     ]
    },
    {
     "name": "stderr",
     "output_type": "stream",
     "text": [
      "Training (4181 / 18000 Steps) (loss=0.26629): 100%|██████████| 102/102 [04:23<00:00,  2.58s/it] \n",
      "Validate (4182 / 10 Steps): 100%|██████████| 25/25 [01:41<00:00,  4.06s/it]4<00:46,  1.80it/s]\n",
      "Training (4200 / 18000 Steps) (loss=0.42377):  19%|█▊        | 19/102 [01:56<42:58, 31.06s/it]"
     ]
    },
    {
     "name": "stdout",
     "output_type": "stream",
     "text": [
      "Model Was Not Saved ! Current Best Avg. Dice: 0.4985278248786926 Current Avg. Dice: 0.4037816524505615 Current Avg. tumor Dice: 0.48990702629089355 Current Avg. lymph Dice: 0.2875899076461792\n"
     ]
    },
    {
     "name": "stderr",
     "output_type": "stream",
     "text": [
      "Training (4283 / 18000 Steps) (loss=0.52720): 100%|██████████| 102/102 [02:38<00:00,  1.56s/it]\n",
      "Validate (4284 / 10 Steps): 100%|██████████| 25/25 [01:41<00:00,  4.06s/it]5<00:40,  2.10it/s]\n",
      "Training (4300 / 18000 Steps) (loss=0.32049):  17%|█▋        | 17/102 [01:58<44:49, 31.65s/it]"
     ]
    },
    {
     "name": "stdout",
     "output_type": "stream",
     "text": [
      "Model Was Saved ! Current Best Avg. Dice: 0.5036768317222595 Current Avg. Dice: 0.5036768317222595 Current Avg. tumor Dice: 0.6089693307876587 Current Avg. lymph Dice: 0.3658618628978729\n"
     ]
    },
    {
     "name": "stderr",
     "output_type": "stream",
     "text": [
      "Training (4385 / 18000 Steps) (loss=0.48513): 100%|██████████| 102/102 [02:42<00:00,  1.59s/it]\n",
      "Validate (4386 / 10 Steps): 100%|██████████| 25/25 [01:40<00:00,  4.03s/it]2<00:43,  2.01it/s]\n",
      "Training (4400 / 18000 Steps) (loss=0.32732):  15%|█▍        | 15/102 [01:54<45:10, 31.16s/it]"
     ]
    },
    {
     "name": "stdout",
     "output_type": "stream",
     "text": [
      "Model Was Saved ! Current Best Avg. Dice: 0.5229126811027527 Current Avg. Dice: 0.5229126811027527 Current Avg. tumor Dice: 0.5974307656288147 Current Avg. lymph Dice: 0.41431725025177\n"
     ]
    },
    {
     "name": "stderr",
     "output_type": "stream",
     "text": [
      "Training (4487 / 18000 Steps) (loss=0.42166): 100%|██████████| 102/102 [02:38<00:00,  1.55s/it]\n",
      "Validate (4488 / 10 Steps): 100%|██████████| 25/25 [01:40<00:00,  4.01s/it]1<00:48,  1.84it/s]\n",
      "Training (4500 / 18000 Steps) (loss=0.27118):  13%|█▎        | 13/102 [01:51<45:46, 30.86s/it]"
     ]
    },
    {
     "name": "stdout",
     "output_type": "stream",
     "text": [
      "Model Was Not Saved ! Current Best Avg. Dice: 0.5229126811027527 Current Avg. Dice: 0.45888781547546387 Current Avg. tumor Dice: 0.541829526424408 Current Avg. lymph Dice: 0.34488698840141296\n"
     ]
    },
    {
     "name": "stderr",
     "output_type": "stream",
     "text": [
      "Training (4589 / 18000 Steps) (loss=0.47907): 100%|██████████| 102/102 [02:36<00:00,  1.54s/it]\n",
      "Validate (4590 / 10 Steps): 100%|██████████| 25/25 [01:40<00:00,  4.02s/it]0<00:59,  1.54it/s]\n",
      "Training (4600 / 18000 Steps) (loss=0.34242):  11%|█         | 11/102 [01:50<47:32, 31.35s/it]"
     ]
    },
    {
     "name": "stdout",
     "output_type": "stream",
     "text": [
      "Model Was Not Saved ! Current Best Avg. Dice: 0.5229126811027527 Current Avg. Dice: 0.4777815639972687 Current Avg. tumor Dice: 0.5509944558143616 Current Avg. lymph Dice: 0.37656575441360474\n"
     ]
    },
    {
     "name": "stderr",
     "output_type": "stream",
     "text": [
      "Training (4691 / 18000 Steps) (loss=0.39737): 100%|██████████| 102/102 [02:37<00:00,  1.54s/it]\n",
      "Validate (4692 / 10 Steps): 100%|██████████| 25/25 [01:40<00:00,  4.03s/it]<00:54,  1.71it/s]\n",
      "Training (4700 / 18000 Steps) (loss=0.55686):   9%|▉         | 9/102 [01:49<49:41, 32.06s/it]"
     ]
    },
    {
     "name": "stdout",
     "output_type": "stream",
     "text": [
      "Model Was Not Saved ! Current Best Avg. Dice: 0.5229126811027527 Current Avg. Dice: 0.43826332688331604 Current Avg. tumor Dice: 0.5193476676940918 Current Avg. lymph Dice: 0.3228106200695038\n"
     ]
    },
    {
     "name": "stderr",
     "output_type": "stream",
     "text": [
      "Training (4793 / 18000 Steps) (loss=0.49285): 100%|██████████| 102/102 [02:37<00:00,  1.55s/it]\n",
      "Validate (4794 / 10 Steps): 100%|██████████| 25/25 [01:40<00:00,  4.01s/it]<01:13,  1.31it/s]\n",
      "Training (4800 / 18000 Steps) (loss=0.76714):   7%|▋         | 7/102 [01:48<52:55, 33.42s/it]"
     ]
    },
    {
     "name": "stdout",
     "output_type": "stream",
     "text": [
      "Model Was Not Saved ! Current Best Avg. Dice: 0.5229126811027527 Current Avg. Dice: 0.4774646759033203 Current Avg. tumor Dice: 0.5535151958465576 Current Avg. lymph Dice: 0.36900413036346436\n"
     ]
    },
    {
     "name": "stderr",
     "output_type": "stream",
     "text": [
      "Training (4895 / 18000 Steps) (loss=0.67747): 100%|██████████| 102/102 [02:36<00:00,  1.54s/it]\n",
      "Validate (4896 / 10 Steps): 100%|██████████| 25/25 [01:40<00:00,  4.03s/it]<01:44,  1.07s/it]\n",
      "Training (4900 / 18000 Steps) (loss=0.67249):   5%|▍         | 5/102 [01:47<1:00:05, 37.17s/it]"
     ]
    },
    {
     "name": "stdout",
     "output_type": "stream",
     "text": [
      "Model Was Not Saved ! Current Best Avg. Dice: 0.5229126811027527 Current Avg. Dice: 0.461862713098526 Current Avg. tumor Dice: 0.5773223042488098 Current Avg. lymph Dice: 0.3153144121170044\n"
     ]
    },
    {
     "name": "stderr",
     "output_type": "stream",
     "text": [
      "Training (4997 / 18000 Steps) (loss=0.40396): 100%|██████████| 102/102 [02:37<00:00,  1.54s/it]\n",
      "Validate (4998 / 10 Steps): 100%|██████████| 25/25 [01:40<00:00,  4.04s/it]<03:51,  2.31s/it]\n",
      "Training (5000 / 18000 Steps) (loss=0.47775):   3%|▎         | 3/102 [01:46<1:18:29, 47.57s/it]"
     ]
    },
    {
     "name": "stdout",
     "output_type": "stream",
     "text": [
      "Model Was Not Saved ! Current Best Avg. Dice: 0.5229126811027527 Current Avg. Dice: 0.4787766635417938 Current Avg. tumor Dice: 0.5719026923179626 Current Avg. lymph Dice: 0.3492484986782074\n"
     ]
    },
    {
     "name": "stderr",
     "output_type": "stream",
     "text": [
      "Training (5099 / 18000 Steps) (loss=0.53646): 100%|██████████| 102/102 [02:35<00:00,  1.53s/it]\n",
      "Validate (5100 / 10 Steps): 100%|██████████| 25/25 [01:40<00:00,  4.03s/it]<?, ?it/s]\n",
      "Training (5100 / 18000 Steps) (loss=0.53602):   1%|          | 1/102 [01:45<2:57:16, 105.32s/it]"
     ]
    },
    {
     "name": "stdout",
     "output_type": "stream",
     "text": [
      "Model Was Not Saved ! Current Best Avg. Dice: 0.5229126811027527 Current Avg. Dice: 0.4368250072002411 Current Avg. tumor Dice: 0.5150148868560791 Current Avg. lymph Dice: 0.3350790739059448\n"
     ]
    },
    {
     "name": "stderr",
     "output_type": "stream",
     "text": [
      "Validate (5100 / 10 Steps): 100%|██████████| 25/25 [01:40<00:00,  4.03s/it]34<00:00,  2.02it/s] \n",
      "Training (5200 / 18000 Steps) (loss=0.42206):  99%|█████████▉| 101/102 [04:15<00:30, 30.73s/it]"
     ]
    },
    {
     "name": "stdout",
     "output_type": "stream",
     "text": [
      "Model Was Not Saved ! Current Best Avg. Dice: 0.5229126811027527 Current Avg. Dice: 0.4593912661075592 Current Avg. tumor Dice: 0.5499611496925354 Current Avg. lymph Dice: 0.331098735332489\n"
     ]
    },
    {
     "name": "stderr",
     "output_type": "stream",
     "text": [
      "Training (5201 / 18000 Steps) (loss=0.48348): 100%|██████████| 102/102 [04:16<00:00,  2.51s/it]\n",
      "Validate (5202 / 10 Steps): 100%|██████████| 25/25 [01:40<00:00,  4.02s/it]2<00:01,  2.18it/s]\n",
      "Training (5300 / 18000 Steps) (loss=0.62784):  97%|█████████▋| 99/102 [02:32<01:31, 30.62s/it]"
     ]
    },
    {
     "name": "stdout",
     "output_type": "stream",
     "text": [
      "Model Was Not Saved ! Current Best Avg. Dice: 0.5229126811027527 Current Avg. Dice: 0.48105481266975403 Current Avg. tumor Dice: 0.5963395833969116 Current Avg. lymph Dice: 0.33163824677467346\n"
     ]
    },
    {
     "name": "stderr",
     "output_type": "stream",
     "text": [
      "Training (5303 / 18000 Steps) (loss=0.70384): 100%|██████████| 102/102 [02:34<00:00,  1.51s/it]\n",
      "Validate (5304 / 10 Steps): 100%|██████████| 25/25 [01:40<00:00,  4.02s/it]2<00:02,  2.12it/s]\n",
      "Training (5400 / 18000 Steps) (loss=0.70128):  95%|█████████▌| 97/102 [02:32<02:33, 30.66s/it]"
     ]
    },
    {
     "name": "stdout",
     "output_type": "stream",
     "text": [
      "Model Was Not Saved ! Current Best Avg. Dice: 0.5229126811027527 Current Avg. Dice: 0.4920073449611664 Current Avg. tumor Dice: 0.5912215709686279 Current Avg. lymph Dice: 0.35966750979423523\n"
     ]
    },
    {
     "name": "stderr",
     "output_type": "stream",
     "text": [
      "Training (5405 / 18000 Steps) (loss=0.62534): 100%|██████████| 102/102 [02:35<00:00,  1.52s/it]\n",
      "Validate (5406 / 10 Steps): 100%|██████████| 25/25 [01:41<00:00,  4.05s/it]1<00:03,  2.10it/s]\n",
      "Training (5500 / 18000 Steps) (loss=0.52935):  93%|█████████▎| 95/102 [02:32<03:36, 30.89s/it]"
     ]
    },
    {
     "name": "stdout",
     "output_type": "stream",
     "text": [
      "Model Was Not Saved ! Current Best Avg. Dice: 0.5229126811027527 Current Avg. Dice: 0.409295916557312 Current Avg. tumor Dice: 0.5198236703872681 Current Avg. lymph Dice: 0.27432501316070557\n"
     ]
    },
    {
     "name": "stderr",
     "output_type": "stream",
     "text": [
      "Training (5507 / 18000 Steps) (loss=0.59733): 100%|██████████| 102/102 [02:36<00:00,  1.54s/it]\n",
      "Validate (5508 / 10 Steps): 100%|██████████| 25/25 [01:41<00:00,  4.04s/it]9<00:04,  2.06it/s]\n",
      "Training (5600 / 18000 Steps) (loss=0.35848):  91%|█████████ | 93/102 [02:31<04:37, 30.82s/it]"
     ]
    },
    {
     "name": "stdout",
     "output_type": "stream",
     "text": [
      "Model Was Not Saved ! Current Best Avg. Dice: 0.5229126811027527 Current Avg. Dice: 0.4583640992641449 Current Avg. tumor Dice: 0.5353002548217773 Current Avg. lymph Dice: 0.3564799427986145\n"
     ]
    },
    {
     "name": "stderr",
     "output_type": "stream",
     "text": [
      "Training (5609 / 18000 Steps) (loss=0.52229): 100%|██████████| 102/102 [02:35<00:00,  1.52s/it]\n",
      "Validate (5610 / 10 Steps): 100%|██████████| 25/25 [01:40<00:00,  4.04s/it]9<00:05,  2.08it/s]\n",
      "Training (5700 / 18000 Steps) (loss=0.39955):  89%|████████▉ | 91/102 [02:31<05:41, 31.02s/it]"
     ]
    },
    {
     "name": "stdout",
     "output_type": "stream",
     "text": [
      "Model Was Saved ! Current Best Avg. Dice: 0.5278710722923279 Current Avg. Dice: 0.5278710722923279 Current Avg. tumor Dice: 0.603173553943634 Current Avg. lymph Dice: 0.42130276560783386\n"
     ]
    },
    {
     "name": "stderr",
     "output_type": "stream",
     "text": [
      "Training (5711 / 18000 Steps) (loss=0.37316): 100%|██████████| 102/102 [02:36<00:00,  1.54s/it]\n",
      "Validate (5712 / 10 Steps): 100%|██████████| 25/25 [01:40<00:00,  4.01s/it]8<00:07,  1.96it/s]\n",
      "Training (5800 / 18000 Steps) (loss=0.48688):  87%|████████▋ | 89/102 [02:28<06:37, 30.58s/it]"
     ]
    },
    {
     "name": "stdout",
     "output_type": "stream",
     "text": [
      "Model Was Not Saved ! Current Best Avg. Dice: 0.5278710722923279 Current Avg. Dice: 0.5249554514884949 Current Avg. tumor Dice: 0.5864343643188477 Current Avg. lymph Dice: 0.43073615431785583\n"
     ]
    },
    {
     "name": "stderr",
     "output_type": "stream",
     "text": [
      "Training (5813 / 18000 Steps) (loss=0.46906): 100%|██████████| 102/102 [02:34<00:00,  1.52s/it]\n",
      "Validate (5814 / 10 Steps): 100%|██████████| 25/25 [01:41<00:00,  4.04s/it]7<00:08,  1.97it/s]\n",
      "Training (5900 / 18000 Steps) (loss=0.66815):  85%|████████▌ | 87/102 [02:28<07:42, 30.85s/it]"
     ]
    },
    {
     "name": "stdout",
     "output_type": "stream",
     "text": [
      "Model Was Not Saved ! Current Best Avg. Dice: 0.5278710722923279 Current Avg. Dice: 0.4826376736164093 Current Avg. tumor Dice: 0.5573624968528748 Current Avg. lymph Dice: 0.37537163496017456\n"
     ]
    },
    {
     "name": "stderr",
     "output_type": "stream",
     "text": [
      "Training (5915 / 18000 Steps) (loss=0.51420): 100%|██████████| 102/102 [02:36<00:00,  1.53s/it]\n",
      "Validate (5916 / 10 Steps): 100%|██████████| 25/25 [01:40<00:00,  4.01s/it]7<00:08,  2.01it/s]\n",
      "Training (6000 / 18000 Steps) (loss=0.48045):  83%|████████▎ | 85/102 [02:27<08:40, 30.59s/it]"
     ]
    },
    {
     "name": "stdout",
     "output_type": "stream",
     "text": [
      "Model Was Not Saved ! Current Best Avg. Dice: 0.5278710722923279 Current Avg. Dice: 0.5093935132026672 Current Avg. tumor Dice: 0.5844994187355042 Current Avg. lymph Dice: 0.3994792401790619\n"
     ]
    },
    {
     "name": "stderr",
     "output_type": "stream",
     "text": [
      "Training (6017 / 18000 Steps) (loss=0.41849): 100%|██████████| 102/102 [02:36<00:00,  1.53s/it]\n",
      "Validate (6018 / 10 Steps): 100%|██████████| 25/25 [01:41<00:00,  4.05s/it]0<00:12,  1.55it/s]\n",
      "Training (6100 / 18000 Steps) (loss=0.35814):  81%|████████▏ | 83/102 [02:31<09:47, 30.94s/it]"
     ]
    },
    {
     "name": "stdout",
     "output_type": "stream",
     "text": [
      "Model Was Not Saved ! Current Best Avg. Dice: 0.5278710722923279 Current Avg. Dice: 0.47731733322143555 Current Avg. tumor Dice: 0.5766805410385132 Current Avg. lymph Dice: 0.3394952416419983\n"
     ]
    },
    {
     "name": "stderr",
     "output_type": "stream",
     "text": [
      "Training (6119 / 18000 Steps) (loss=0.49492): 100%|██████████| 102/102 [02:40<00:00,  1.57s/it]\n",
      "Validate (6120 / 10 Steps): 100%|██████████| 25/25 [01:40<00:00,  4.03s/it]8<00:10,  2.07it/s]\n",
      "Training (6200 / 18000 Steps) (loss=0.57838):  79%|███████▉  | 81/102 [02:29<10:45, 30.74s/it]"
     ]
    },
    {
     "name": "stdout",
     "output_type": "stream",
     "text": [
      "Model Was Not Saved ! Current Best Avg. Dice: 0.5278710722923279 Current Avg. Dice: 0.41713106632232666 Current Avg. tumor Dice: 0.5173084735870361 Current Avg. lymph Dice: 0.27709415555000305\n"
     ]
    },
    {
     "name": "stderr",
     "output_type": "stream",
     "text": [
      "Training (6221 / 18000 Steps) (loss=0.37672): 100%|██████████| 102/102 [02:39<00:00,  1.57s/it]\n",
      "Validate (6222 / 10 Steps): 100%|██████████| 25/25 [01:40<00:00,  4.03s/it]7<00:11,  2.03it/s]\n",
      "Training (6300 / 18000 Steps) (loss=0.41654):  77%|███████▋  | 79/102 [02:28<11:46, 30.70s/it]"
     ]
    },
    {
     "name": "stdout",
     "output_type": "stream",
     "text": [
      "Model Was Not Saved ! Current Best Avg. Dice: 0.5278710722923279 Current Avg. Dice: 0.5172355771064758 Current Avg. tumor Dice: 0.606913685798645 Current Avg. lymph Dice: 0.39596202969551086\n"
     ]
    },
    {
     "name": "stderr",
     "output_type": "stream",
     "text": [
      "Training (6323 / 18000 Steps) (loss=0.62813): 100%|██████████| 102/102 [02:40<00:00,  1.57s/it]\n",
      "Validate (6324 / 10 Steps): 100%|██████████| 25/25 [01:41<00:00,  4.04s/it]6<00:15,  1.63it/s]\n",
      "Training (6400 / 18000 Steps) (loss=0.67744):  75%|███████▌  | 77/102 [02:27<12:52, 30.89s/it]"
     ]
    },
    {
     "name": "stdout",
     "output_type": "stream",
     "text": [
      "Model Was Not Saved ! Current Best Avg. Dice: 0.5278710722923279 Current Avg. Dice: 0.5049092769622803 Current Avg. tumor Dice: 0.5783934593200684 Current Avg. lymph Dice: 0.40800774097442627\n"
     ]
    },
    {
     "name": "stderr",
     "output_type": "stream",
     "text": [
      "Training (6425 / 18000 Steps) (loss=0.53035): 100%|██████████| 102/102 [02:39<00:00,  1.57s/it]\n",
      "Validate (6426 / 10 Steps): 100%|██████████| 25/25 [01:40<00:00,  4.03s/it]5<00:16,  1.70it/s]\n",
      "Training (6500 / 18000 Steps) (loss=0.47299):  74%|███████▎  | 75/102 [02:25<13:50, 30.76s/it]"
     ]
    },
    {
     "name": "stdout",
     "output_type": "stream",
     "text": [
      "Model Was Not Saved ! Current Best Avg. Dice: 0.5278710722923279 Current Avg. Dice: 0.5142982602119446 Current Avg. tumor Dice: 0.5892821550369263 Current Avg. lymph Dice: 0.40697672963142395\n"
     ]
    },
    {
     "name": "stderr",
     "output_type": "stream",
     "text": [
      "Training (6527 / 18000 Steps) (loss=0.34941): 100%|██████████| 102/102 [02:39<00:00,  1.56s/it]\n",
      "Validate (6528 / 10 Steps): 100%|██████████| 25/25 [01:40<00:00,  4.01s/it]3<00:15,  1.92it/s]\n",
      "Training (6600 / 18000 Steps) (loss=0.31467):  72%|███████▏  | 73/102 [02:24<14:56, 30.93s/it]"
     ]
    },
    {
     "name": "stdout",
     "output_type": "stream",
     "text": [
      "Model Was Saved ! Current Best Avg. Dice: 0.5290037393569946 Current Avg. Dice: 0.5290037393569946 Current Avg. tumor Dice: 0.6136093735694885 Current Avg. lymph Dice: 0.4144190549850464\n"
     ]
    },
    {
     "name": "stderr",
     "output_type": "stream",
     "text": [
      "Training (6629 / 18000 Steps) (loss=0.66876): 100%|██████████| 102/102 [02:39<00:00,  1.56s/it]\n",
      "Validate (6630 / 10 Steps): 100%|██████████| 25/25 [01:41<00:00,  4.04s/it]0<00:16,  1.92it/s]\n",
      "Training (6700 / 18000 Steps) (loss=0.53367):  70%|██████▉   | 71/102 [02:22<16:02, 31.06s/it]"
     ]
    },
    {
     "name": "stdout",
     "output_type": "stream",
     "text": [
      "Model Was Saved ! Current Best Avg. Dice: 0.5461223125457764 Current Avg. Dice: 0.5461223125457764 Current Avg. tumor Dice: 0.6119202971458435 Current Avg. lymph Dice: 0.4464036822319031\n"
     ]
    },
    {
     "name": "stderr",
     "output_type": "stream",
     "text": [
      "Training (6731 / 18000 Steps) (loss=0.30762): 100%|██████████| 102/102 [02:37<00:00,  1.54s/it]\n",
      "Validate (6732 / 10 Steps): 100%|██████████| 25/25 [01:41<00:00,  4.07s/it]8<00:17,  1.98it/s]\n",
      "Training (6800 / 18000 Steps) (loss=0.41925):  68%|██████▊   | 69/102 [02:21<17:13, 31.31s/it]"
     ]
    },
    {
     "name": "stdout",
     "output_type": "stream",
     "text": [
      "Model Was Saved ! Current Best Avg. Dice: 0.5586444139480591 Current Avg. Dice: 0.5586444139480591 Current Avg. tumor Dice: 0.6251354813575745 Current Avg. lymph Dice: 0.45962613821029663\n"
     ]
    },
    {
     "name": "stderr",
     "output_type": "stream",
     "text": [
      "Training (6833 / 18000 Steps) (loss=0.55095): 100%|██████████| 102/102 [02:37<00:00,  1.55s/it]\n",
      "Validate (6834 / 10 Steps): 100%|██████████| 25/25 [01:40<00:00,  4.01s/it]8<00:19,  1.83it/s]\n",
      "Training (6900 / 18000 Steps) (loss=0.47404):  66%|██████▌   | 67/102 [02:18<17:52, 30.64s/it]"
     ]
    },
    {
     "name": "stdout",
     "output_type": "stream",
     "text": [
      "Model Was Not Saved ! Current Best Avg. Dice: 0.5586444139480591 Current Avg. Dice: 0.5399393439292908 Current Avg. tumor Dice: 0.6273956298828125 Current Avg. lymph Dice: 0.41849038004875183\n"
     ]
    },
    {
     "name": "stderr",
     "output_type": "stream",
     "text": [
      "Training (6935 / 18000 Steps) (loss=0.66816): 100%|██████████| 102/102 [02:35<00:00,  1.53s/it]\n",
      "Validate (6936 / 10 Steps): 100%|██████████| 25/25 [01:41<00:00,  4.05s/it]6<00:19,  1.98it/s]\n",
      "Training (7000 / 18000 Steps) (loss=0.68547):  64%|██████▎   | 65/102 [02:18<19:02, 30.88s/it]"
     ]
    },
    {
     "name": "stdout",
     "output_type": "stream",
     "text": [
      "Model Was Not Saved ! Current Best Avg. Dice: 0.5586444139480591 Current Avg. Dice: 0.5315996408462524 Current Avg. tumor Dice: 0.6085048317909241 Current Avg. lymph Dice: 0.4225468635559082\n"
     ]
    },
    {
     "name": "stderr",
     "output_type": "stream",
     "text": [
      "Training (7037 / 18000 Steps) (loss=0.27987): 100%|██████████| 102/102 [02:36<00:00,  1.53s/it]\n",
      "Validate (7038 / 10 Steps): 100%|██████████| 25/25 [01:41<00:00,  4.05s/it]5<00:19,  2.05it/s]\n",
      "Training (7100 / 18000 Steps) (loss=0.85313):  62%|██████▏   | 63/102 [02:16<20:03, 30.87s/it]"
     ]
    },
    {
     "name": "stdout",
     "output_type": "stream",
     "text": [
      "Model Was Not Saved ! Current Best Avg. Dice: 0.5586444139480591 Current Avg. Dice: 0.5268886685371399 Current Avg. tumor Dice: 0.5971145629882812 Current Avg. lymph Dice: 0.42395251989364624\n"
     ]
    },
    {
     "name": "stderr",
     "output_type": "stream",
     "text": [
      "Training (7139 / 18000 Steps) (loss=0.54807): 100%|██████████| 102/102 [02:35<00:00,  1.53s/it]\n",
      "Validate (7140 / 10 Steps): 100%|██████████| 25/25 [01:40<00:00,  4.02s/it]4<00:20,  2.05it/s]\n",
      "Training (7200 / 18000 Steps) (loss=0.72759):  60%|█████▉    | 61/102 [02:15<20:58, 30.70s/it]"
     ]
    },
    {
     "name": "stdout",
     "output_type": "stream",
     "text": [
      "Model Was Not Saved ! Current Best Avg. Dice: 0.5586444139480591 Current Avg. Dice: 0.5401298403739929 Current Avg. tumor Dice: 0.6152583360671997 Current Avg. lymph Dice: 0.432173490524292\n"
     ]
    },
    {
     "name": "stderr",
     "output_type": "stream",
     "text": [
      "Training (7241 / 18000 Steps) (loss=0.49670): 100%|██████████| 102/102 [02:35<00:00,  1.52s/it]\n",
      "Validate (7242 / 10 Steps): 100%|██████████| 25/25 [01:40<00:00,  4.01s/it]3<00:21,  2.07it/s]\n",
      "Training (7300 / 18000 Steps) (loss=0.54890):  58%|█████▊    | 59/102 [02:13<21:55, 30.59s/it]"
     ]
    },
    {
     "name": "stdout",
     "output_type": "stream",
     "text": [
      "Model Was Not Saved ! Current Best Avg. Dice: 0.5586444139480591 Current Avg. Dice: 0.5044727921485901 Current Avg. tumor Dice: 0.5807434916496277 Current Avg. lymph Dice: 0.3985415995121002\n"
     ]
    },
    {
     "name": "stderr",
     "output_type": "stream",
     "text": [
      "Training (7343 / 18000 Steps) (loss=0.64743): 100%|██████████| 102/102 [02:34<00:00,  1.51s/it]\n",
      "Validate (7344 / 10 Steps): 100%|██████████| 25/25 [01:41<00:00,  4.05s/it]2<00:22,  2.00it/s]\n",
      "Training (7400 / 18000 Steps) (loss=0.51834):  56%|█████▌    | 57/102 [02:13<23:08, 30.87s/it]"
     ]
    },
    {
     "name": "stdout",
     "output_type": "stream",
     "text": [
      "Model Was Not Saved ! Current Best Avg. Dice: 0.5586444139480591 Current Avg. Dice: 0.5122591257095337 Current Avg. tumor Dice: 0.5926553010940552 Current Avg. lymph Dice: 0.39701130986213684\n"
     ]
    },
    {
     "name": "stderr",
     "output_type": "stream",
     "text": [
      "Training (7445 / 18000 Steps) (loss=0.29489): 100%|██████████| 102/102 [02:35<00:00,  1.53s/it]\n",
      "Validate (7446 / 10 Steps): 100%|██████████| 25/25 [01:40<00:00,  4.03s/it]1<00:23,  2.07it/s]\n",
      "Training (7500 / 18000 Steps) (loss=0.66785):  54%|█████▍    | 55/102 [02:12<24:03, 30.71s/it]"
     ]
    },
    {
     "name": "stdout",
     "output_type": "stream",
     "text": [
      "Model Was Not Saved ! Current Best Avg. Dice: 0.5586444139480591 Current Avg. Dice: 0.5410884618759155 Current Avg. tumor Dice: 0.622691810131073 Current Avg. lymph Dice: 0.4249121844768524\n"
     ]
    },
    {
     "name": "stderr",
     "output_type": "stream",
     "text": [
      "Training (7547 / 18000 Steps) (loss=0.66708): 100%|██████████| 102/102 [02:34<00:00,  1.52s/it]\n",
      "Validate (7548 / 10 Steps): 100%|██████████| 25/25 [01:40<00:00,  4.02s/it]0<00:24,  2.07it/s]\n",
      "Training (7600 / 18000 Steps) (loss=0.70903):  52%|█████▏    | 53/102 [02:11<25:13, 30.88s/it]"
     ]
    },
    {
     "name": "stdout",
     "output_type": "stream",
     "text": [
      "Model Was Saved ! Current Best Avg. Dice: 0.5655872225761414 Current Avg. Dice: 0.5655872225761414 Current Avg. tumor Dice: 0.6442421674728394 Current Avg. lymph Dice: 0.45855432748794556\n"
     ]
    },
    {
     "name": "stderr",
     "output_type": "stream",
     "text": [
      "Training (7649 / 18000 Steps) (loss=0.44679): 100%|██████████| 102/102 [02:35<00:00,  1.53s/it]\n",
      "Validate (7650 / 10 Steps): 100%|██████████| 25/25 [01:40<00:00,  4.01s/it]9<00:24,  2.10it/s]\n",
      "Training (7700 / 18000 Steps) (loss=0.49482):  50%|█████     | 51/102 [02:10<26:03, 30.66s/it]"
     ]
    },
    {
     "name": "stdout",
     "output_type": "stream",
     "text": [
      "Model Was Not Saved ! Current Best Avg. Dice: 0.5655872225761414 Current Avg. Dice: 0.4536864757537842 Current Avg. tumor Dice: 0.5476911664009094 Current Avg. lymph Dice: 0.3251703977584839\n"
     ]
    },
    {
     "name": "stderr",
     "output_type": "stream",
     "text": [
      "Training (7751 / 18000 Steps) (loss=0.63278): 100%|██████████| 102/102 [02:34<00:00,  1.52s/it]\n",
      "Validate (7752 / 10 Steps): 100%|██████████| 25/25 [01:40<00:00,  4.03s/it]8<00:26,  2.06it/s]\n",
      "Training (7800 / 18000 Steps) (loss=0.51650):  48%|████▊     | 49/102 [02:09<27:08, 30.73s/it]"
     ]
    },
    {
     "name": "stdout",
     "output_type": "stream",
     "text": [
      "Model Was Not Saved ! Current Best Avg. Dice: 0.5655872225761414 Current Avg. Dice: 0.5341755747795105 Current Avg. tumor Dice: 0.6132626533508301 Current Avg. lymph Dice: 0.4233874976634979\n"
     ]
    },
    {
     "name": "stderr",
     "output_type": "stream",
     "text": [
      "Training (7853 / 18000 Steps) (loss=0.55417): 100%|██████████| 102/102 [02:35<00:00,  1.53s/it]\n",
      "Validate (7854 / 10 Steps): 100%|██████████| 25/25 [01:40<00:00,  4.03s/it]8<00:27,  2.01it/s]\n",
      "Training (7900 / 18000 Steps) (loss=0.52094):  46%|████▌     | 47/102 [02:09<28:11, 30.75s/it]"
     ]
    },
    {
     "name": "stdout",
     "output_type": "stream",
     "text": [
      "Model Was Not Saved ! Current Best Avg. Dice: 0.5655872225761414 Current Avg. Dice: 0.45502781867980957 Current Avg. tumor Dice: 0.5738276243209839 Current Avg. lymph Dice: 0.2992757260799408\n"
     ]
    },
    {
     "name": "stderr",
     "output_type": "stream",
     "text": [
      "Training (7955 / 18000 Steps) (loss=0.68094): 100%|██████████| 102/102 [02:36<00:00,  1.53s/it]\n",
      "Validate (7956 / 10 Steps): 100%|██████████| 25/25 [01:41<00:00,  4.05s/it]9<00:28,  2.06it/s]\n",
      "Training (8000 / 18000 Steps) (loss=0.34654):  44%|████▍     | 45/102 [02:11<29:21, 30.90s/it]"
     ]
    },
    {
     "name": "stdout",
     "output_type": "stream",
     "text": [
      "Model Was Not Saved ! Current Best Avg. Dice: 0.5655872225761414 Current Avg. Dice: 0.5311489105224609 Current Avg. tumor Dice: 0.5994843244552612 Current Avg. lymph Dice: 0.43162789940834045\n"
     ]
    },
    {
     "name": "stderr",
     "output_type": "stream",
     "text": [
      "Training (8057 / 18000 Steps) (loss=0.47389): 100%|██████████| 102/102 [02:39<00:00,  1.56s/it]\n",
      "Validate (8058 / 10 Steps): 100%|██████████| 25/25 [01:40<00:00,  4.04s/it]8<00:38,  1.57it/s]\n",
      "Training (8100 / 18000 Steps) (loss=0.53545):  42%|████▏     | 43/102 [02:09<30:21, 30.87s/it]"
     ]
    },
    {
     "name": "stdout",
     "output_type": "stream",
     "text": [
      "Model Was Not Saved ! Current Best Avg. Dice: 0.5655872225761414 Current Avg. Dice: 0.46868184208869934 Current Avg. tumor Dice: 0.5989483594894409 Current Avg. lymph Dice: 0.3008219599723816\n"
     ]
    },
    {
     "name": "stderr",
     "output_type": "stream",
     "text": [
      "Training (8159 / 18000 Steps) (loss=0.61895): 100%|██████████| 102/102 [02:39<00:00,  1.56s/it]\n",
      "Validate (8160 / 10 Steps): 100%|██████████| 25/25 [01:41<00:00,  4.06s/it]7<00:27,  2.24it/s]\n",
      "Training (8200 / 18000 Steps) (loss=0.32494):  40%|████      | 41/102 [02:08<31:37, 31.10s/it]"
     ]
    },
    {
     "name": "stdout",
     "output_type": "stream",
     "text": [
      "Model Was Not Saved ! Current Best Avg. Dice: 0.5655872225761414 Current Avg. Dice: 0.5133311152458191 Current Avg. tumor Dice: 0.5883042812347412 Current Avg. lymph Dice: 0.4050162732601166\n"
     ]
    },
    {
     "name": "stderr",
     "output_type": "stream",
     "text": [
      "Training (8261 / 18000 Steps) (loss=0.42610): 100%|██████████| 102/102 [02:39<00:00,  1.56s/it]\n",
      "Validate (8262 / 10 Steps): 100%|██████████| 25/25 [01:42<00:00,  4.09s/it]5<00:31,  2.04it/s]\n",
      "Training (8300 / 18000 Steps) (loss=0.43359):  38%|███▊      | 39/102 [02:07<32:44, 31.19s/it]"
     ]
    },
    {
     "name": "stdout",
     "output_type": "stream",
     "text": [
      "Model Was Not Saved ! Current Best Avg. Dice: 0.5655872225761414 Current Avg. Dice: 0.48996657133102417 Current Avg. tumor Dice: 0.5762448906898499 Current Avg. lymph Dice: 0.3687034547328949\n"
     ]
    },
    {
     "name": "stderr",
     "output_type": "stream",
     "text": [
      "Training (8363 / 18000 Steps) (loss=0.67061): 100%|██████████| 102/102 [02:40<00:00,  1.57s/it]\n",
      "Validate (8364 / 10 Steps): 100%|██████████| 25/25 [01:41<00:00,  4.06s/it]5<00:38,  1.73it/s]\n",
      "Training (8400 / 18000 Steps) (loss=0.50865):  36%|███▋      | 37/102 [02:06<33:34, 30.99s/it]"
     ]
    },
    {
     "name": "stdout",
     "output_type": "stream",
     "text": [
      "Model Was Not Saved ! Current Best Avg. Dice: 0.5655872225761414 Current Avg. Dice: 0.5140215158462524 Current Avg. tumor Dice: 0.6037887334823608 Current Avg. lymph Dice: 0.39681583642959595\n"
     ]
    },
    {
     "name": "stderr",
     "output_type": "stream",
     "text": [
      "Training (8465 / 18000 Steps) (loss=0.64116): 100%|██████████| 102/102 [02:39<00:00,  1.57s/it]\n",
      "Validate (8466 / 10 Steps): 100%|██████████| 25/25 [01:41<00:00,  4.06s/it]4<00:41,  1.64it/s]\n",
      "Training (8500 / 18000 Steps) (loss=0.45011):  34%|███▍      | 35/102 [02:05<34:38, 31.03s/it]"
     ]
    },
    {
     "name": "stdout",
     "output_type": "stream",
     "text": [
      "Model Was Not Saved ! Current Best Avg. Dice: 0.5655872225761414 Current Avg. Dice: 0.539985716342926 Current Avg. tumor Dice: 0.632326066493988 Current Avg. lymph Dice: 0.4225165545940399\n"
     ]
    },
    {
     "name": "stderr",
     "output_type": "stream",
     "text": [
      "Training (8567 / 18000 Steps) (loss=0.46898): 100%|██████████| 102/102 [02:39<00:00,  1.56s/it]\n",
      "Validate (8568 / 10 Steps): 100%|██████████| 25/25 [01:40<00:00,  4.00s/it]1<00:33,  2.07it/s]\n",
      "Training (8600 / 18000 Steps) (loss=0.64176):  32%|███▏      | 33/102 [02:01<35:07, 30.54s/it]"
     ]
    },
    {
     "name": "stdout",
     "output_type": "stream",
     "text": [
      "Model Was Not Saved ! Current Best Avg. Dice: 0.5655872225761414 Current Avg. Dice: 0.5128633379936218 Current Avg. tumor Dice: 0.595956563949585 Current Avg. lymph Dice: 0.39487218856811523\n"
     ]
    },
    {
     "name": "stderr",
     "output_type": "stream",
     "text": [
      "Training (8669 / 18000 Steps) (loss=0.59485): 100%|██████████| 102/102 [02:36<00:00,  1.53s/it]\n",
      "Validate (8670 / 10 Steps): 100%|██████████| 25/25 [01:40<00:00,  4.04s/it]0<00:35,  2.01it/s]\n",
      "Training (8700 / 18000 Steps) (loss=0.55730):  30%|███       | 31/102 [02:01<36:25, 30.78s/it]"
     ]
    },
    {
     "name": "stdout",
     "output_type": "stream",
     "text": [
      "Model Was Not Saved ! Current Best Avg. Dice: 0.5655872225761414 Current Avg. Dice: 0.5265355110168457 Current Avg. tumor Dice: 0.598863959312439 Current Avg. lymph Dice: 0.41936415433883667\n"
     ]
    },
    {
     "name": "stderr",
     "output_type": "stream",
     "text": [
      "Training (8771 / 18000 Steps) (loss=0.66866): 100%|██████████| 102/102 [02:36<00:00,  1.53s/it]\n",
      "Validate (8772 / 10 Steps): 100%|██████████| 25/25 [01:41<00:00,  4.05s/it]8<00:35,  2.09it/s]\n",
      "Training (8800 / 18000 Steps) (loss=0.46104):  28%|██▊       | 29/102 [02:00<37:35, 30.89s/it]"
     ]
    },
    {
     "name": "stdout",
     "output_type": "stream",
     "text": [
      "Model Was Not Saved ! Current Best Avg. Dice: 0.5655872225761414 Current Avg. Dice: 0.5139768719673157 Current Avg. tumor Dice: 0.5975476503372192 Current Avg. lymph Dice: 0.3926863670349121\n"
     ]
    },
    {
     "name": "stderr",
     "output_type": "stream",
     "text": [
      "Training (8873 / 18000 Steps) (loss=0.47778): 100%|██████████| 102/102 [02:36<00:00,  1.53s/it]\n",
      "Validate (8874 / 10 Steps): 100%|██████████| 25/25 [01:40<00:00,  4.04s/it]7<00:44,  1.70it/s]\n",
      "Training (8900 / 18000 Steps) (loss=0.44064):  26%|██▋       | 27/102 [01:58<38:32, 30.83s/it]"
     ]
    },
    {
     "name": "stdout",
     "output_type": "stream",
     "text": [
      "Model Was Not Saved ! Current Best Avg. Dice: 0.5655872225761414 Current Avg. Dice: 0.49277275800704956 Current Avg. tumor Dice: 0.5837806463241577 Current Avg. lymph Dice: 0.3662112355232239\n"
     ]
    },
    {
     "name": "stderr",
     "output_type": "stream",
     "text": [
      "Training (8975 / 18000 Steps) (loss=0.55001): 100%|██████████| 102/102 [02:35<00:00,  1.52s/it]\n",
      "Validate (8976 / 10 Steps): 100%|██████████| 25/25 [01:40<00:00,  4.04s/it]6<00:35,  2.20it/s]\n",
      "Training (9000 / 18000 Steps) (loss=0.52282):  25%|██▍       | 25/102 [01:57<39:30, 30.78s/it]"
     ]
    },
    {
     "name": "stdout",
     "output_type": "stream",
     "text": [
      "Model Was Not Saved ! Current Best Avg. Dice: 0.5655872225761414 Current Avg. Dice: 0.5178499221801758 Current Avg. tumor Dice: 0.5766761302947998 Current Avg. lymph Dice: 0.43405652046203613\n"
     ]
    },
    {
     "name": "stderr",
     "output_type": "stream",
     "text": [
      "Training (9077 / 18000 Steps) (loss=0.49677): 100%|██████████| 102/102 [02:36<00:00,  1.53s/it]\n",
      "Validate (9078 / 10 Steps): 100%|██████████| 25/25 [01:41<00:00,  4.07s/it]5<00:38,  2.09it/s]\n",
      "Training (9100 / 18000 Steps) (loss=0.53317):  23%|██▎       | 23/102 [01:57<40:52, 31.05s/it]"
     ]
    },
    {
     "name": "stdout",
     "output_type": "stream",
     "text": [
      "Model Was Not Saved ! Current Best Avg. Dice: 0.5655872225761414 Current Avg. Dice: 0.48850682377815247 Current Avg. tumor Dice: 0.5814241766929626 Current Avg. lymph Dice: 0.3643123209476471\n"
     ]
    },
    {
     "name": "stderr",
     "output_type": "stream",
     "text": [
      "Training (9179 / 18000 Steps) (loss=0.58216): 100%|██████████| 102/102 [02:36<00:00,  1.53s/it]\n",
      "Validate (9180 / 10 Steps): 100%|██████████| 25/25 [01:40<00:00,  4.04s/it]4<00:47,  1.74it/s]\n",
      "Training (9200 / 18000 Steps) (loss=0.46797):  21%|██        | 21/102 [01:55<41:36, 30.82s/it]"
     ]
    },
    {
     "name": "stdout",
     "output_type": "stream",
     "text": [
      "Model Was Not Saved ! Current Best Avg. Dice: 0.5655872225761414 Current Avg. Dice: 0.5507644414901733 Current Avg. tumor Dice: 0.631889820098877 Current Avg. lymph Dice: 0.44289377331733704\n"
     ]
    },
    {
     "name": "stderr",
     "output_type": "stream",
     "text": [
      "Training (9281 / 18000 Steps) (loss=0.59147): 100%|██████████| 102/102 [02:35<00:00,  1.52s/it]\n",
      "Validate (9282 / 10 Steps): 100%|██████████| 25/25 [01:40<00:00,  4.03s/it]3<00:45,  1.85it/s]\n",
      "Training (9300 / 18000 Steps) (loss=0.36955):  19%|█▊        | 19/102 [01:54<42:37, 30.82s/it]"
     ]
    },
    {
     "name": "stdout",
     "output_type": "stream",
     "text": [
      "Model Was Not Saved ! Current Best Avg. Dice: 0.5655872225761414 Current Avg. Dice: 0.476695716381073 Current Avg. tumor Dice: 0.5411736369132996 Current Avg. lymph Dice: 0.38208237290382385\n"
     ]
    },
    {
     "name": "stderr",
     "output_type": "stream",
     "text": [
      "Training (9383 / 18000 Steps) (loss=0.54572): 100%|██████████| 102/102 [02:35<00:00,  1.52s/it]\n",
      "Validate (9384 / 10 Steps): 100%|██████████| 25/25 [01:41<00:00,  4.04s/it]2<00:39,  2.20it/s]\n",
      "Training (9400 / 18000 Steps) (loss=0.53771):  17%|█▋        | 17/102 [01:53<43:44, 30.88s/it]"
     ]
    },
    {
     "name": "stdout",
     "output_type": "stream",
     "text": [
      "Model Was Not Saved ! Current Best Avg. Dice: 0.5655872225761414 Current Avg. Dice: 0.5340263843536377 Current Avg. tumor Dice: 0.6205527186393738 Current Avg. lymph Dice: 0.4138874411582947\n"
     ]
    },
    {
     "name": "stderr",
     "output_type": "stream",
     "text": [
      "Training (9485 / 18000 Steps) (loss=0.66768): 100%|██████████| 102/102 [02:35<00:00,  1.53s/it]\n",
      "Validate (9486 / 10 Steps): 100%|██████████| 25/25 [01:40<00:00,  4.03s/it]1<00:43,  2.03it/s]\n",
      "Training (9500 / 18000 Steps) (loss=0.31482):  15%|█▍        | 15/102 [01:52<44:43, 30.85s/it]"
     ]
    },
    {
     "name": "stdout",
     "output_type": "stream",
     "text": [
      "Model Was Not Saved ! Current Best Avg. Dice: 0.5655872225761414 Current Avg. Dice: 0.5278124213218689 Current Avg. tumor Dice: 0.6035822629928589 Current Avg. lymph Dice: 0.4183137118816376\n"
     ]
    },
    {
     "name": "stderr",
     "output_type": "stream",
     "text": [
      "Training (9587 / 18000 Steps) (loss=0.42742): 100%|██████████| 102/102 [02:36<00:00,  1.53s/it]\n",
      "Validate (9588 / 10 Steps): 100%|██████████| 25/25 [01:41<00:00,  4.05s/it]1<00:56,  1.59it/s]\n",
      "Training (9600 / 18000 Steps) (loss=0.41764):  13%|█▎        | 13/102 [01:52<46:20, 31.24s/it]"
     ]
    },
    {
     "name": "stdout",
     "output_type": "stream",
     "text": [
      "Model Was Not Saved ! Current Best Avg. Dice: 0.5655872225761414 Current Avg. Dice: 0.4096870422363281 Current Avg. tumor Dice: 0.4879883825778961 Current Avg. lymph Dice: 0.3169967830181122\n"
     ]
    },
    {
     "name": "stderr",
     "output_type": "stream",
     "text": [
      "Training (9689 / 18000 Steps) (loss=0.31384): 100%|██████████| 102/102 [02:36<00:00,  1.54s/it]\n",
      "Validate (9690 / 10 Steps): 100%|██████████| 25/25 [01:41<00:00,  4.05s/it]0<00:57,  1.60it/s]\n",
      "Training (9700 / 18000 Steps) (loss=0.54900):  11%|█         | 11/102 [01:51<47:52, 31.57s/it]"
     ]
    },
    {
     "name": "stdout",
     "output_type": "stream",
     "text": [
      "Model Was Not Saved ! Current Best Avg. Dice: 0.5655872225761414 Current Avg. Dice: 0.5200193524360657 Current Avg. tumor Dice: 0.6141511797904968 Current Avg. lymph Dice: 0.3964485228061676\n"
     ]
    },
    {
     "name": "stderr",
     "output_type": "stream",
     "text": [
      "Training (9791 / 18000 Steps) (loss=0.57965): 100%|██████████| 102/102 [02:35<00:00,  1.52s/it]\n",
      "Validate (9792 / 10 Steps): 100%|██████████| 25/25 [01:41<00:00,  4.06s/it]<00:59,  1.57it/s]\n",
      "Training (9800 / 18000 Steps) (loss=0.55793):   9%|▉         | 9/102 [01:50<50:05, 32.32s/it]"
     ]
    },
    {
     "name": "stdout",
     "output_type": "stream",
     "text": [
      "Model Was Not Saved ! Current Best Avg. Dice: 0.5655872225761414 Current Avg. Dice: 0.5298224091529846 Current Avg. tumor Dice: 0.6369847059249878 Current Avg. lymph Dice: 0.3907026946544647\n"
     ]
    },
    {
     "name": "stderr",
     "output_type": "stream",
     "text": [
      "Training (9893 / 18000 Steps) (loss=0.67281): 100%|██████████| 102/102 [02:36<00:00,  1.54s/it]\n",
      "Validate (9894 / 10 Steps): 100%|██████████| 25/25 [01:41<00:00,  4.05s/it]<01:13,  1.31it/s]\n",
      "Training (9900 / 18000 Steps) (loss=0.66732):   7%|▋         | 7/102 [01:49<53:29, 33.78s/it]"
     ]
    },
    {
     "name": "stdout",
     "output_type": "stream",
     "text": [
      "Model Was Not Saved ! Current Best Avg. Dice: 0.5655872225761414 Current Avg. Dice: 0.5222523212432861 Current Avg. tumor Dice: 0.6095343232154846 Current Avg. lymph Dice: 0.40245407819747925\n"
     ]
    },
    {
     "name": "stderr",
     "output_type": "stream",
     "text": [
      "Training (9995 / 18000 Steps) (loss=0.43959): 100%|██████████| 102/102 [02:36<00:00,  1.54s/it]\n",
      "Validate (9996 / 10 Steps): 100%|██████████| 25/25 [01:41<00:00,  4.06s/it]6<01:48,  1.10s/it]\n",
      "Training (10000 / 18000 Steps) (loss=0.58449):   5%|▍         | 5/102 [01:48<1:00:34, 37.47s/it]"
     ]
    },
    {
     "name": "stdout",
     "output_type": "stream",
     "text": [
      "Model Was Not Saved ! Current Best Avg. Dice: 0.5655872225761414 Current Avg. Dice: 0.5310045480728149 Current Avg. tumor Dice: 0.612303614616394 Current Avg. lymph Dice: 0.41596028208732605\n"
     ]
    },
    {
     "name": "stderr",
     "output_type": "stream",
     "text": [
      "Training (10097 / 18000 Steps) (loss=0.43722): 100%|██████████| 102/102 [02:36<00:00,  1.54s/it]\n",
      "Validate (10098 / 10 Steps): 100%|██████████| 25/25 [01:41<00:00,  4.05s/it]<04:14,  2.54s/it]\n",
      "Training (10100 / 18000 Steps) (loss=0.41260):   3%|▎         | 3/102 [01:47<1:18:54, 47.83s/it]"
     ]
    },
    {
     "name": "stdout",
     "output_type": "stream",
     "text": [
      "Model Was Not Saved ! Current Best Avg. Dice: 0.5655872225761414 Current Avg. Dice: 0.5586037635803223 Current Avg. tumor Dice: 0.6406955122947693 Current Avg. lymph Dice: 0.44922178983688354\n"
     ]
    },
    {
     "name": "stderr",
     "output_type": "stream",
     "text": [
      "Training (10199 / 18000 Steps) (loss=0.66705): 100%|██████████| 102/102 [02:38<00:00,  1.55s/it]\n",
      "Validate (10200 / 10 Steps): 100%|██████████| 25/25 [01:41<00:00,  4.05s/it]<?, ?it/s]\n",
      "Training (10200 / 18000 Steps) (loss=0.66800):   1%|          | 1/102 [01:45<2:58:10, 105.84s/it]"
     ]
    },
    {
     "name": "stdout",
     "output_type": "stream",
     "text": [
      "Model Was Not Saved ! Current Best Avg. Dice: 0.5655872225761414 Current Avg. Dice: 0.5085930228233337 Current Avg. tumor Dice: 0.5954591631889343 Current Avg. lymph Dice: 0.3877258002758026\n"
     ]
    },
    {
     "name": "stderr",
     "output_type": "stream",
     "text": [
      "Validate (10200 / 10 Steps): 100%|██████████| 25/25 [01:40<00:00,  4.04s/it]37<00:00,  2.06it/s] \n",
      "Training (10300 / 18000 Steps) (loss=0.46598):  99%|█████████▉| 101/102 [04:18<00:30, 30.79s/it]"
     ]
    },
    {
     "name": "stdout",
     "output_type": "stream",
     "text": [
      "Model Was Not Saved ! Current Best Avg. Dice: 0.5655872225761414 Current Avg. Dice: 0.5319448709487915 Current Avg. tumor Dice: 0.6108078360557556 Current Avg. lymph Dice: 0.41892290115356445\n"
     ]
    },
    {
     "name": "stderr",
     "output_type": "stream",
     "text": [
      "Training (10301 / 18000 Steps) (loss=0.49039): 100%|██████████| 102/102 [04:19<00:00,  2.54s/it]\n",
      "Validate (10302 / 10 Steps): 100%|██████████| 25/25 [01:40<00:00,  4.03s/it]6<00:01,  2.10it/s]\n",
      "Training (10400 / 18000 Steps) (loss=0.22073):  97%|█████████▋| 99/102 [02:37<01:32, 30.95s/it]"
     ]
    },
    {
     "name": "stdout",
     "output_type": "stream",
     "text": [
      "Model Was Saved ! Current Best Avg. Dice: 0.5687860250473022 Current Avg. Dice: 0.5687860250473022 Current Avg. tumor Dice: 0.6493954062461853 Current Avg. lymph Dice: 0.45673951506614685\n"
     ]
    },
    {
     "name": "stderr",
     "output_type": "stream",
     "text": [
      "Training (10403 / 18000 Steps) (loss=0.30748): 100%|██████████| 102/102 [02:39<00:00,  1.56s/it]\n",
      "Validate (10404 / 10 Steps): 100%|██████████| 25/25 [01:40<00:00,  4.03s/it]6<00:03,  1.98it/s]\n",
      "Training (10500 / 18000 Steps) (loss=0.43511):  95%|█████████▌| 97/102 [02:37<02:33, 30.71s/it]"
     ]
    },
    {
     "name": "stdout",
     "output_type": "stream",
     "text": [
      "Model Was Not Saved ! Current Best Avg. Dice: 0.5687860250473022 Current Avg. Dice: 0.5386714339256287 Current Avg. tumor Dice: 0.6288278698921204 Current Avg. lymph Dice: 0.41514647006988525\n"
     ]
    },
    {
     "name": "stderr",
     "output_type": "stream",
     "text": [
      "Training (10505 / 18000 Steps) (loss=0.51542): 100%|██████████| 102/102 [02:39<00:00,  1.57s/it]\n",
      "Validate (10506 / 10 Steps): 100%|██████████| 25/25 [01:40<00:00,  4.01s/it]6<00:04,  1.93it/s]\n",
      "Training (10600 / 18000 Steps) (loss=0.58754):  93%|█████████▎| 95/102 [02:36<03:34, 30.60s/it]"
     ]
    },
    {
     "name": "stdout",
     "output_type": "stream",
     "text": [
      "Model Was Not Saved ! Current Best Avg. Dice: 0.5687860250473022 Current Avg. Dice: 0.5021229982376099 Current Avg. tumor Dice: 0.5829182267189026 Current Avg. lymph Dice: 0.38650786876678467\n"
     ]
    },
    {
     "name": "stderr",
     "output_type": "stream",
     "text": [
      "Training (10607 / 18000 Steps) (loss=0.54756): 100%|██████████| 102/102 [02:39<00:00,  1.57s/it]\n",
      "Validate (10608 / 10 Steps): 100%|██████████| 25/25 [01:40<00:00,  4.02s/it]3<00:05,  1.98it/s]\n",
      "Training (10700 / 18000 Steps) (loss=0.40604):  91%|█████████ | 93/102 [02:34<04:35, 30.65s/it]"
     ]
    },
    {
     "name": "stdout",
     "output_type": "stream",
     "text": [
      "Model Was Not Saved ! Current Best Avg. Dice: 0.5687860250473022 Current Avg. Dice: 0.5050256252288818 Current Avg. tumor Dice: 0.5790366530418396 Current Avg. lymph Dice: 0.400569885969162\n"
     ]
    },
    {
     "name": "stderr",
     "output_type": "stream",
     "text": [
      "Training (10709 / 18000 Steps) (loss=0.35938): 100%|██████████| 102/102 [02:38<00:00,  1.56s/it]\n",
      "Validate (10710 / 10 Steps): 100%|██████████| 25/25 [01:41<00:00,  4.05s/it]1<00:06,  1.85it/s]\n",
      "Training (10800 / 18000 Steps) (loss=0.20231):  89%|████████▉ | 91/102 [02:32<05:40, 30.92s/it]"
     ]
    },
    {
     "name": "stdout",
     "output_type": "stream",
     "text": [
      "Model Was Not Saved ! Current Best Avg. Dice: 0.5687860250473022 Current Avg. Dice: 0.5336795449256897 Current Avg. tumor Dice: 0.6131013631820679 Current Avg. lymph Dice: 0.42483091354370117\n"
     ]
    },
    {
     "name": "stderr",
     "output_type": "stream",
     "text": [
      "Training (10811 / 18000 Steps) (loss=0.31228): 100%|██████████| 102/102 [02:37<00:00,  1.55s/it]\n",
      "Validate (10812 / 10 Steps): 100%|██████████| 25/25 [01:40<00:00,  4.00s/it]0<00:06,  2.02it/s]\n",
      "Training (10900 / 18000 Steps) (loss=0.53871):  87%|████████▋ | 89/102 [02:31<06:38, 30.68s/it]"
     ]
    },
    {
     "name": "stdout",
     "output_type": "stream",
     "text": [
      "Model Was Not Saved ! Current Best Avg. Dice: 0.5687860250473022 Current Avg. Dice: 0.5651952028274536 Current Avg. tumor Dice: 0.6495129466056824 Current Avg. lymph Dice: 0.4509509205818176\n"
     ]
    },
    {
     "name": "stderr",
     "output_type": "stream",
     "text": [
      "Training (10913 / 18000 Steps) (loss=0.59086): 100%|██████████| 102/102 [02:37<00:00,  1.54s/it]\n",
      "Validate (10914 / 10 Steps): 100%|██████████| 25/25 [01:40<00:00,  4.03s/it]8<00:08,  1.95it/s]\n",
      "Training (11000 / 18000 Steps) (loss=0.61664):  85%|████████▌ | 87/102 [02:29<07:41, 30.74s/it]"
     ]
    },
    {
     "name": "stdout",
     "output_type": "stream",
     "text": [
      "Model Was Not Saved ! Current Best Avg. Dice: 0.5687860250473022 Current Avg. Dice: 0.49279940128326416 Current Avg. tumor Dice: 0.5871906876564026 Current Avg. lymph Dice: 0.37542733550071716\n"
     ]
    },
    {
     "name": "stderr",
     "output_type": "stream",
     "text": [
      "Training (11015 / 18000 Steps) (loss=0.45630): 100%|██████████| 102/102 [02:37<00:00,  1.54s/it]\n",
      "Validate (11016 / 10 Steps): 100%|██████████| 25/25 [01:40<00:00,  4.01s/it]7<00:09,  1.99it/s]\n",
      "Training (11100 / 18000 Steps) (loss=0.67346):  83%|████████▎ | 85/102 [02:27<08:40, 30.62s/it]"
     ]
    },
    {
     "name": "stdout",
     "output_type": "stream",
     "text": [
      "Model Was Not Saved ! Current Best Avg. Dice: 0.5687860250473022 Current Avg. Dice: 0.5591027140617371 Current Avg. tumor Dice: 0.6349539160728455 Current Avg. lymph Dice: 0.4601792097091675\n"
     ]
    },
    {
     "name": "stderr",
     "output_type": "stream",
     "text": [
      "Training (11117 / 18000 Steps) (loss=0.28268): 100%|██████████| 102/102 [02:36<00:00,  1.53s/it]\n",
      "Validate (11118 / 10 Steps): 100%|██████████| 25/25 [01:41<00:00,  4.04s/it]5<00:09,  2.02it/s]\n",
      "Training (11200 / 18000 Steps) (loss=0.38853):  81%|████████▏ | 83/102 [02:26<09:45, 30.81s/it]"
     ]
    },
    {
     "name": "stdout",
     "output_type": "stream",
     "text": [
      "Model Was Not Saved ! Current Best Avg. Dice: 0.5687860250473022 Current Avg. Dice: 0.5451245307922363 Current Avg. tumor Dice: 0.6529038548469543 Current Avg. lymph Dice: 0.40765297412872314\n"
     ]
    },
    {
     "name": "stderr",
     "output_type": "stream",
     "text": [
      "Training (11219 / 18000 Steps) (loss=0.36467): 100%|██████████| 102/102 [02:35<00:00,  1.52s/it]\n",
      "Validate (11220 / 10 Steps): 100%|██████████| 25/25 [01:40<00:00,  4.03s/it]4<00:10,  2.04it/s]\n",
      "Training (11300 / 18000 Steps) (loss=0.56082):  79%|███████▉  | 81/102 [02:24<10:44, 30.71s/it]"
     ]
    },
    {
     "name": "stdout",
     "output_type": "stream",
     "text": [
      "Model Was Not Saved ! Current Best Avg. Dice: 0.5687860250473022 Current Avg. Dice: 0.5387383103370667 Current Avg. tumor Dice: 0.6258969306945801 Current Avg. lymph Dice: 0.4186888337135315\n"
     ]
    },
    {
     "name": "stderr",
     "output_type": "stream",
     "text": [
      "Training (11321 / 18000 Steps) (loss=0.57940): 100%|██████████| 102/102 [02:35<00:00,  1.52s/it]\n",
      "Validate (11322 / 10 Steps): 100%|██████████| 25/25 [01:40<00:00,  4.03s/it]3<00:11,  2.03it/s]\n",
      "Training (11400 / 18000 Steps) (loss=0.67310):  77%|███████▋  | 79/102 [02:24<11:46, 30.71s/it]"
     ]
    },
    {
     "name": "stdout",
     "output_type": "stream",
     "text": [
      "Model Was Not Saved ! Current Best Avg. Dice: 0.5687860250473022 Current Avg. Dice: 0.5279933214187622 Current Avg. tumor Dice: 0.6192145943641663 Current Avg. lymph Dice: 0.40235450863838196\n"
     ]
    },
    {
     "name": "stderr",
     "output_type": "stream",
     "text": [
      "Training (11423 / 18000 Steps) (loss=0.66814): 100%|██████████| 102/102 [02:35<00:00,  1.53s/it]\n",
      "Validate (11424 / 10 Steps): 100%|██████████| 25/25 [01:40<00:00,  4.02s/it]2<00:12,  2.12it/s]\n",
      "Training (11500 / 18000 Steps) (loss=0.53279):  75%|███████▌  | 77/102 [02:22<12:46, 30.66s/it]"
     ]
    },
    {
     "name": "stdout",
     "output_type": "stream",
     "text": [
      "Model Was Not Saved ! Current Best Avg. Dice: 0.5687860250473022 Current Avg. Dice: 0.54070645570755 Current Avg. tumor Dice: 0.6265293955802917 Current Avg. lymph Dice: 0.42788779735565186\n"
     ]
    },
    {
     "name": "stderr",
     "output_type": "stream",
     "text": [
      "Training (11525 / 18000 Steps) (loss=0.52671): 100%|██████████| 102/102 [02:34<00:00,  1.51s/it]\n",
      "Validate (11526 / 10 Steps): 100%|██████████| 25/25 [01:40<00:00,  4.00s/it]0<00:13,  2.13it/s]\n",
      "Training (11600 / 18000 Steps) (loss=0.47822):  74%|███████▎  | 75/102 [02:20<13:44, 30.53s/it]"
     ]
    },
    {
     "name": "stdout",
     "output_type": "stream",
     "text": [
      "Model Was Not Saved ! Current Best Avg. Dice: 0.5687860250473022 Current Avg. Dice: 0.5437832474708557 Current Avg. tumor Dice: 0.6177467703819275 Current Avg. lymph Dice: 0.4496556520462036\n"
     ]
    },
    {
     "name": "stderr",
     "output_type": "stream",
     "text": [
      "Training (11627 / 18000 Steps) (loss=0.62081): 100%|██████████| 102/102 [02:33<00:00,  1.51s/it]\n",
      "Validate (11628 / 10 Steps): 100%|██████████| 25/25 [01:41<00:00,  4.05s/it]9<00:14,  2.01it/s]\n",
      "Training (11700 / 18000 Steps) (loss=0.55888):  72%|███████▏  | 73/102 [02:21<15:01, 31.09s/it]"
     ]
    },
    {
     "name": "stdout",
     "output_type": "stream",
     "text": [
      "Model Was Saved ! Current Best Avg. Dice: 0.5802534222602844 Current Avg. Dice: 0.5802534222602844 Current Avg. tumor Dice: 0.6590821146965027 Current Avg. lymph Dice: 0.4735569953918457\n"
     ]
    },
    {
     "name": "stderr",
     "output_type": "stream",
     "text": [
      "Training (11729 / 18000 Steps) (loss=0.61802): 100%|██████████| 102/102 [02:36<00:00,  1.53s/it]\n",
      "Validate (11730 / 10 Steps): 100%|██████████| 25/25 [01:40<00:00,  4.00s/it]8<00:15,  2.06it/s]\n",
      "Training (11800 / 18000 Steps) (loss=0.66748):  70%|██████▉   | 71/102 [02:19<15:45, 30.50s/it]"
     ]
    },
    {
     "name": "stdout",
     "output_type": "stream",
     "text": [
      "Model Was Not Saved ! Current Best Avg. Dice: 0.5802534222602844 Current Avg. Dice: 0.5529565215110779 Current Avg. tumor Dice: 0.6212356686592102 Current Avg. lymph Dice: 0.4602455198764801\n"
     ]
    },
    {
     "name": "stderr",
     "output_type": "stream",
     "text": [
      "Training (11831 / 18000 Steps) (loss=0.56883): 100%|██████████| 102/102 [02:34<00:00,  1.52s/it]\n",
      "Validate (11832 / 10 Steps): 100%|██████████| 25/25 [01:40<00:00,  4.01s/it]8<00:16,  2.06it/s]\n",
      "Training (11900 / 18000 Steps) (loss=0.48263):  68%|██████▊   | 69/102 [02:18<16:47, 30.54s/it]"
     ]
    },
    {
     "name": "stdout",
     "output_type": "stream",
     "text": [
      "Model Was Not Saved ! Current Best Avg. Dice: 0.5802534222602844 Current Avg. Dice: 0.557938814163208 Current Avg. tumor Dice: 0.6357696056365967 Current Avg. lymph Dice: 0.45230457186698914\n"
     ]
    },
    {
     "name": "stderr",
     "output_type": "stream",
     "text": [
      "Training (11933 / 18000 Steps) (loss=0.66851): 100%|██████████| 102/102 [02:34<00:00,  1.51s/it]\n",
      "Validate (11934 / 10 Steps): 100%|██████████| 25/25 [01:40<00:00,  4.00s/it]8<00:20,  1.79it/s]\n",
      "Training (12000 / 18000 Steps) (loss=0.47080):  66%|██████▌   | 67/102 [02:18<17:49, 30.56s/it]"
     ]
    },
    {
     "name": "stdout",
     "output_type": "stream",
     "text": [
      "Model Was Not Saved ! Current Best Avg. Dice: 0.5802534222602844 Current Avg. Dice: 0.5160133838653564 Current Avg. tumor Dice: 0.5926674008369446 Current Avg. lymph Dice: 0.4103235900402069\n"
     ]
    },
    {
     "name": "stderr",
     "output_type": "stream",
     "text": [
      "Training (12035 / 18000 Steps) (loss=0.46074): 100%|██████████| 102/102 [02:35<00:00,  1.52s/it]\n",
      "Validate (12036 / 10 Steps): 100%|██████████| 25/25 [01:40<00:00,  4.03s/it]7<00:20,  1.88it/s]\n",
      "Training (12100 / 18000 Steps) (loss=0.50849):  64%|██████▎   | 65/102 [02:18<18:59, 30.79s/it]"
     ]
    },
    {
     "name": "stdout",
     "output_type": "stream",
     "text": [
      "Model Was Not Saved ! Current Best Avg. Dice: 0.5802534222602844 Current Avg. Dice: 0.5593356490135193 Current Avg. tumor Dice: 0.6332789063453674 Current Avg. lymph Dice: 0.45324426889419556\n"
     ]
    },
    {
     "name": "stderr",
     "output_type": "stream",
     "text": [
      "Training (12137 / 18000 Steps) (loss=0.50063): 100%|██████████| 102/102 [02:36<00:00,  1.53s/it]\n",
      "Validate (12138 / 10 Steps): 100%|██████████| 25/25 [01:40<00:00,  4.01s/it]6<00:20,  1.91it/s]\n",
      "Training (12200 / 18000 Steps) (loss=0.39441):  62%|██████▏   | 63/102 [02:17<19:52, 30.59s/it]"
     ]
    },
    {
     "name": "stdout",
     "output_type": "stream",
     "text": [
      "Model Was Not Saved ! Current Best Avg. Dice: 0.5802534222602844 Current Avg. Dice: 0.4586852192878723 Current Avg. tumor Dice: 0.5285439491271973 Current Avg. lymph Dice: 0.3615574240684509\n"
     ]
    },
    {
     "name": "stderr",
     "output_type": "stream",
     "text": [
      "Training (12239 / 18000 Steps) (loss=0.57390): 100%|██████████| 102/102 [02:36<00:00,  1.53s/it]\n",
      "Validate (12240 / 10 Steps): 100%|██████████| 25/25 [01:40<00:00,  4.02s/it]6<00:21,  1.92it/s]\n",
      "Training (12300 / 18000 Steps) (loss=0.52437):  60%|█████▉    | 61/102 [02:16<21:01, 30.76s/it]"
     ]
    },
    {
     "name": "stdout",
     "output_type": "stream",
     "text": [
      "Model Was Not Saved ! Current Best Avg. Dice: 0.5802534222602844 Current Avg. Dice: 0.5720155835151672 Current Avg. tumor Dice: 0.6557425856590271 Current Avg. lymph Dice: 0.46067389845848083\n"
     ]
    },
    {
     "name": "stderr",
     "output_type": "stream",
     "text": [
      "Training (12341 / 18000 Steps) (loss=0.44961): 100%|██████████| 102/102 [02:36<00:00,  1.54s/it]\n",
      "Validate (12342 / 10 Steps): 100%|██████████| 25/25 [01:41<00:00,  4.05s/it]6<00:25,  1.72it/s]\n",
      "Training (12400 / 18000 Steps) (loss=0.22460):  58%|█████▊    | 59/102 [02:17<22:08, 30.90s/it]"
     ]
    },
    {
     "name": "stdout",
     "output_type": "stream",
     "text": [
      "Model Was Not Saved ! Current Best Avg. Dice: 0.5802534222602844 Current Avg. Dice: 0.5702522397041321 Current Avg. tumor Dice: 0.6592231392860413 Current Avg. lymph Dice: 0.4512392282485962\n"
     ]
    },
    {
     "name": "stderr",
     "output_type": "stream",
     "text": [
      "Training (12443 / 18000 Steps) (loss=0.43966): 100%|██████████| 102/102 [02:38<00:00,  1.55s/it]\n",
      "Validate (12444 / 10 Steps): 100%|██████████| 25/25 [01:40<00:00,  4.04s/it]4<00:22,  2.08it/s]\n",
      "Training (12500 / 18000 Steps) (loss=0.33896):  56%|█████▌    | 57/102 [02:15<23:09, 30.87s/it]"
     ]
    },
    {
     "name": "stdout",
     "output_type": "stream",
     "text": [
      "Model Was Not Saved ! Current Best Avg. Dice: 0.5802534222602844 Current Avg. Dice: 0.5440430641174316 Current Avg. tumor Dice: 0.6187214255332947 Current Avg. lymph Dice: 0.43830370903015137\n"
     ]
    },
    {
     "name": "stderr",
     "output_type": "stream",
     "text": [
      "Training (12545 / 18000 Steps) (loss=0.67043): 100%|██████████| 102/102 [02:37<00:00,  1.55s/it]\n",
      "Validate (12546 / 10 Steps): 100%|██████████| 25/25 [01:40<00:00,  4.03s/it]2<00:22,  2.17it/s]\n",
      "Training (12600 / 18000 Steps) (loss=0.24344):  54%|█████▍    | 55/102 [02:13<24:06, 30.78s/it]"
     ]
    },
    {
     "name": "stdout",
     "output_type": "stream",
     "text": [
      "Model Was Not Saved ! Current Best Avg. Dice: 0.5802534222602844 Current Avg. Dice: 0.5165870785713196 Current Avg. tumor Dice: 0.603224515914917 Current Avg. lymph Dice: 0.40121185779571533\n"
     ]
    },
    {
     "name": "stderr",
     "output_type": "stream",
     "text": [
      "Training (12647 / 18000 Steps) (loss=0.25265): 100%|██████████| 102/102 [02:36<00:00,  1.53s/it]\n",
      "Validate (12648 / 10 Steps): 100%|██████████| 25/25 [01:41<00:00,  4.08s/it]1<00:25,  2.00it/s]\n",
      "Training (12700 / 18000 Steps) (loss=0.45540):  52%|█████▏    | 53/102 [02:13<25:21, 31.06s/it]"
     ]
    },
    {
     "name": "stdout",
     "output_type": "stream",
     "text": [
      "Model Was Not Saved ! Current Best Avg. Dice: 0.5802534222602844 Current Avg. Dice: 0.5527036190032959 Current Avg. tumor Dice: 0.6444799304008484 Current Avg. lymph Dice: 0.4319532513618469\n"
     ]
    },
    {
     "name": "stderr",
     "output_type": "stream",
     "text": [
      "Training (12749 / 18000 Steps) (loss=0.46159): 100%|██████████| 102/102 [02:37<00:00,  1.55s/it]\n",
      "Validate (12750 / 10 Steps): 100%|██████████| 25/25 [01:40<00:00,  4.04s/it]9<00:26,  2.00it/s]\n",
      "Training (12800 / 18000 Steps) (loss=0.49828):  50%|█████     | 51/102 [02:10<26:10, 30.79s/it]"
     ]
    },
    {
     "name": "stdout",
     "output_type": "stream",
     "text": [
      "Model Was Not Saved ! Current Best Avg. Dice: 0.5802534222602844 Current Avg. Dice: 0.5136878490447998 Current Avg. tumor Dice: 0.5950302481651306 Current Avg. lymph Dice: 0.39965084195137024\n"
     ]
    },
    {
     "name": "stderr",
     "output_type": "stream",
     "text": [
      "Training (12851 / 18000 Steps) (loss=0.67700): 100%|██████████| 102/102 [02:35<00:00,  1.52s/it]\n",
      "Validate (12852 / 10 Steps): 100%|██████████| 25/25 [01:40<00:00,  4.02s/it]9<00:26,  2.00it/s]\n",
      "Training (12900 / 18000 Steps) (loss=0.52793):  48%|████▊     | 49/102 [02:09<27:05, 30.67s/it]"
     ]
    },
    {
     "name": "stdout",
     "output_type": "stream",
     "text": [
      "Model Was Not Saved ! Current Best Avg. Dice: 0.5802534222602844 Current Avg. Dice: 0.5524755716323853 Current Avg. tumor Dice: 0.6541813611984253 Current Avg. lymph Dice: 0.42143547534942627\n"
     ]
    },
    {
     "name": "stderr",
     "output_type": "stream",
     "text": [
      "Training (12953 / 18000 Steps) (loss=0.29955): 100%|██████████| 102/102 [02:36<00:00,  1.53s/it]\n",
      "Validate (12954 / 10 Steps): 100%|██████████| 25/25 [01:40<00:00,  4.02s/it]7<00:26,  2.10it/s]\n",
      "Training (13000 / 18000 Steps) (loss=0.54967):  46%|████▌     | 47/102 [02:08<28:06, 30.65s/it]"
     ]
    },
    {
     "name": "stdout",
     "output_type": "stream",
     "text": [
      "Model Was Not Saved ! Current Best Avg. Dice: 0.5802534222602844 Current Avg. Dice: 0.5247561931610107 Current Avg. tumor Dice: 0.6043239831924438 Current Avg. lymph Dice: 0.4172546863555908\n"
     ]
    },
    {
     "name": "stderr",
     "output_type": "stream",
     "text": [
      "Training (13055 / 18000 Steps) (loss=0.45041): 100%|██████████| 102/102 [02:35<00:00,  1.53s/it]\n",
      "Validate (13056 / 10 Steps): 100%|██████████| 25/25 [01:40<00:00,  4.01s/it]5<00:27,  2.08it/s]\n",
      "Training (13100 / 18000 Steps) (loss=0.47871):  44%|████▍     | 45/102 [02:06<29:05, 30.61s/it]"
     ]
    },
    {
     "name": "stdout",
     "output_type": "stream",
     "text": [
      "Model Was Not Saved ! Current Best Avg. Dice: 0.5802534222602844 Current Avg. Dice: 0.5692439079284668 Current Avg. tumor Dice: 0.6458026766777039 Current Avg. lymph Dice: 0.46202969551086426\n"
     ]
    },
    {
     "name": "stderr",
     "output_type": "stream",
     "text": [
      "Training (13157 / 18000 Steps) (loss=0.66022): 100%|██████████| 102/102 [02:33<00:00,  1.51s/it]\n",
      "Validate (13158 / 10 Steps): 100%|██████████| 25/25 [01:40<00:00,  4.00s/it]4<00:29,  2.03it/s]\n",
      "Training (13200 / 18000 Steps) (loss=0.46876):  42%|████▏     | 43/102 [02:04<30:02, 30.55s/it]"
     ]
    },
    {
     "name": "stdout",
     "output_type": "stream",
     "text": [
      "Model Was Not Saved ! Current Best Avg. Dice: 0.5802534222602844 Current Avg. Dice: 0.5648433566093445 Current Avg. tumor Dice: 0.6430370807647705 Current Avg. lymph Dice: 0.4557340443134308\n"
     ]
    },
    {
     "name": "stderr",
     "output_type": "stream",
     "text": [
      "Training (13259 / 18000 Steps) (loss=0.49432): 100%|██████████| 102/102 [02:33<00:00,  1.51s/it]\n",
      "Validate (13260 / 10 Steps): 100%|██████████| 25/25 [01:39<00:00,  4.00s/it]3<00:29,  2.13it/s]\n",
      "Training (13300 / 18000 Steps) (loss=0.30051):  40%|████      | 41/102 [02:03<30:58, 30.46s/it]"
     ]
    },
    {
     "name": "stdout",
     "output_type": "stream",
     "text": [
      "Model Was Not Saved ! Current Best Avg. Dice: 0.5802534222602844 Current Avg. Dice: 0.5567039251327515 Current Avg. tumor Dice: 0.6512417197227478 Current Avg. lymph Dice: 0.4346054196357727\n"
     ]
    },
    {
     "name": "stderr",
     "output_type": "stream",
     "text": [
      "Training (13361 / 18000 Steps) (loss=0.39856): 100%|██████████| 102/102 [02:32<00:00,  1.50s/it]\n",
      "Validate (13362 / 10 Steps): 100%|██████████| 25/25 [01:39<00:00,  4.00s/it]3<00:30,  2.12it/s]\n",
      "Training (13400 / 18000 Steps) (loss=0.53609):  38%|███▊      | 39/102 [02:03<31:59, 30.47s/it]"
     ]
    },
    {
     "name": "stdout",
     "output_type": "stream",
     "text": [
      "Model Was Not Saved ! Current Best Avg. Dice: 0.5802534222602844 Current Avg. Dice: 0.5490235686302185 Current Avg. tumor Dice: 0.6264975070953369 Current Avg. lymph Dice: 0.4432707130908966\n"
     ]
    },
    {
     "name": "stderr",
     "output_type": "stream",
     "text": [
      "Training (13463 / 18000 Steps) (loss=0.66697): 100%|██████████| 102/102 [02:32<00:00,  1.49s/it]\n",
      "Validate (13464 / 10 Steps): 100%|██████████| 25/25 [01:40<00:00,  4.00s/it]1<00:31,  2.07it/s]\n",
      "Training (13500 / 18000 Steps) (loss=0.66852):  36%|███▋      | 37/102 [02:01<33:03, 30.51s/it]"
     ]
    },
    {
     "name": "stdout",
     "output_type": "stream",
     "text": [
      "Model Was Not Saved ! Current Best Avg. Dice: 0.5802534222602844 Current Avg. Dice: 0.5524638295173645 Current Avg. tumor Dice: 0.6356234550476074 Current Avg. lymph Dice: 0.44310125708580017\n"
     ]
    },
    {
     "name": "stderr",
     "output_type": "stream",
     "text": [
      "Training (13565 / 18000 Steps) (loss=0.66991): 100%|██████████| 102/102 [02:32<00:00,  1.50s/it]\n",
      "Validate (13566 / 10 Steps): 100%|██████████| 25/25 [01:40<00:00,  4.02s/it]0<00:33,  2.06it/s]\n",
      "Training (13600 / 18000 Steps) (loss=0.67734):  34%|███▍      | 35/102 [02:01<34:13, 30.65s/it]"
     ]
    },
    {
     "name": "stdout",
     "output_type": "stream",
     "text": [
      "Model Was Not Saved ! Current Best Avg. Dice: 0.5802534222602844 Current Avg. Dice: 0.5504748225212097 Current Avg. tumor Dice: 0.6244806051254272 Current Avg. lymph Dice: 0.44487854838371277\n"
     ]
    },
    {
     "name": "stderr",
     "output_type": "stream",
     "text": [
      "Training (13667 / 18000 Steps) (loss=0.42996): 100%|██████████| 102/102 [02:33<00:00,  1.50s/it]\n",
      "Validate (13668 / 10 Steps): 100%|██████████| 25/25 [01:39<00:00,  4.00s/it]9<00:32,  2.17it/s]\n",
      "Training (13700 / 18000 Steps) (loss=0.52461):  32%|███▏      | 33/102 [01:59<35:03, 30.49s/it]"
     ]
    },
    {
     "name": "stdout",
     "output_type": "stream",
     "text": [
      "Model Was Not Saved ! Current Best Avg. Dice: 0.5802534222602844 Current Avg. Dice: 0.4806717038154602 Current Avg. tumor Dice: 0.5580947399139404 Current Avg. lymph Dice: 0.37483274936676025\n"
     ]
    },
    {
     "name": "stderr",
     "output_type": "stream",
     "text": [
      "Training (13769 / 18000 Steps) (loss=0.23536): 100%|██████████| 102/102 [02:32<00:00,  1.50s/it]\n",
      "Validate (13770 / 10 Steps): 100%|██████████| 25/25 [01:39<00:00,  3.99s/it]9<00:33,  2.14it/s]\n",
      "Training (13800 / 18000 Steps) (loss=0.66765):  30%|███       | 31/102 [01:58<36:00, 30.43s/it]"
     ]
    },
    {
     "name": "stdout",
     "output_type": "stream",
     "text": [
      "Model Was Not Saved ! Current Best Avg. Dice: 0.5802534222602844 Current Avg. Dice: 0.521873950958252 Current Avg. tumor Dice: 0.5977973937988281 Current Avg. lymph Dice: 0.4170965552330017\n"
     ]
    },
    {
     "name": "stderr",
     "output_type": "stream",
     "text": [
      "Training (13871 / 18000 Steps) (loss=0.52912): 100%|██████████| 102/102 [02:32<00:00,  1.50s/it]\n",
      "Validate (13872 / 10 Steps): 100%|██████████| 25/25 [01:40<00:00,  4.01s/it]7<00:35,  2.06it/s]\n",
      "Training (13900 / 18000 Steps) (loss=0.55008):  28%|██▊       | 29/102 [01:59<37:30, 30.83s/it]"
     ]
    },
    {
     "name": "stdout",
     "output_type": "stream",
     "text": [
      "Model Was Saved ! Current Best Avg. Dice: 0.5833297371864319 Current Avg. Dice: 0.5833297371864319 Current Avg. tumor Dice: 0.6675447225570679 Current Avg. lymph Dice: 0.46738842129707336\n"
     ]
    },
    {
     "name": "stderr",
     "output_type": "stream",
     "text": [
      "Training (13973 / 18000 Steps) (loss=0.44923): 100%|██████████| 102/102 [02:33<00:00,  1.51s/it]\n",
      "Validate (13974 / 10 Steps): 100%|██████████| 25/25 [01:40<00:00,  4.02s/it]7<00:43,  1.73it/s]\n",
      "Training (14000 / 18000 Steps) (loss=0.66830):  26%|██▋       | 27/102 [01:57<38:20, 30.68s/it]"
     ]
    },
    {
     "name": "stdout",
     "output_type": "stream",
     "text": [
      "Model Was Not Saved ! Current Best Avg. Dice: 0.5833297371864319 Current Avg. Dice: 0.5357212424278259 Current Avg. tumor Dice: 0.6207696199417114 Current Avg. lymph Dice: 0.4198848009109497\n"
     ]
    },
    {
     "name": "stderr",
     "output_type": "stream",
     "text": [
      "Training (14075 / 18000 Steps) (loss=0.50508): 100%|██████████| 102/102 [02:33<00:00,  1.50s/it]\n",
      "Validate (14076 / 10 Steps): 100%|██████████| 25/25 [01:40<00:00,  4.01s/it]6<00:35,  2.23it/s]\n",
      "Training (14100 / 18000 Steps) (loss=0.43891):  25%|██▍       | 25/102 [01:56<39:12, 30.55s/it]"
     ]
    },
    {
     "name": "stdout",
     "output_type": "stream",
     "text": [
      "Model Was Not Saved ! Current Best Avg. Dice: 0.5833297371864319 Current Avg. Dice: 0.570955753326416 Current Avg. tumor Dice: 0.6477562785148621 Current Avg. lymph Dice: 0.4674330949783325\n"
     ]
    },
    {
     "name": "stderr",
     "output_type": "stream",
     "text": [
      "Training (14177 / 18000 Steps) (loss=0.17306): 100%|██████████| 102/102 [02:33<00:00,  1.51s/it]\n",
      "Validate (14178 / 10 Steps): 100%|██████████| 25/25 [01:40<00:00,  4.03s/it]5<00:38,  2.09it/s]\n",
      "Training (14200 / 18000 Steps) (loss=0.50009):  23%|██▎       | 23/102 [01:56<40:28, 30.74s/it]"
     ]
    },
    {
     "name": "stdout",
     "output_type": "stream",
     "text": [
      "Model Was Not Saved ! Current Best Avg. Dice: 0.5833297371864319 Current Avg. Dice: 0.5476866364479065 Current Avg. tumor Dice: 0.61285400390625 Current Avg. lymph Dice: 0.4543958306312561\n"
     ]
    },
    {
     "name": "stderr",
     "output_type": "stream",
     "text": [
      "Training (14279 / 18000 Steps) (loss=0.35192): 100%|██████████| 102/102 [02:35<00:00,  1.52s/it]\n",
      "Validate (14280 / 10 Steps): 100%|██████████| 25/25 [01:41<00:00,  4.04s/it]4<00:48,  1.71it/s]\n",
      "Training (14300 / 18000 Steps) (loss=0.66710):  21%|██        | 21/102 [01:55<41:41, 30.89s/it]"
     ]
    },
    {
     "name": "stdout",
     "output_type": "stream",
     "text": [
      "Model Was Not Saved ! Current Best Avg. Dice: 0.5833297371864319 Current Avg. Dice: 0.5590869784355164 Current Avg. tumor Dice: 0.64094078540802 Current Avg. lymph Dice: 0.44501957297325134\n"
     ]
    },
    {
     "name": "stderr",
     "output_type": "stream",
     "text": [
      "Training (14381 / 18000 Steps) (loss=0.63791): 100%|██████████| 102/102 [02:35<00:00,  1.52s/it]\n",
      "Validate (14382 / 10 Steps): 100%|██████████| 25/25 [01:41<00:00,  4.04s/it]4<00:46,  1.79it/s]\n",
      "Training (14400 / 18000 Steps) (loss=0.47111):  19%|█▊        | 19/102 [01:55<42:49, 30.96s/it]"
     ]
    },
    {
     "name": "stdout",
     "output_type": "stream",
     "text": [
      "Model Was Not Saved ! Current Best Avg. Dice: 0.5833297371864319 Current Avg. Dice: 0.5207406878471375 Current Avg. tumor Dice: 0.5934263467788696 Current Avg. lymph Dice: 0.4241037964820862\n"
     ]
    },
    {
     "name": "stderr",
     "output_type": "stream",
     "text": [
      "Training (14483 / 18000 Steps) (loss=0.54855): 100%|██████████| 102/102 [02:35<00:00,  1.52s/it]\n",
      "Validate (14484 / 10 Steps): 100%|██████████| 25/25 [01:40<00:00,  4.04s/it]2<00:39,  2.16it/s]\n",
      "Training (14500 / 18000 Steps) (loss=0.42434):  17%|█▋        | 17/102 [01:53<43:46, 30.90s/it]"
     ]
    },
    {
     "name": "stdout",
     "output_type": "stream",
     "text": [
      "Model Was Not Saved ! Current Best Avg. Dice: 0.5833297371864319 Current Avg. Dice: 0.5483090281486511 Current Avg. tumor Dice: 0.6444762349128723 Current Avg. lymph Dice: 0.42604655027389526\n"
     ]
    },
    {
     "name": "stderr",
     "output_type": "stream",
     "text": [
      "Training (14585 / 18000 Steps) (loss=0.52272): 100%|██████████| 102/102 [02:34<00:00,  1.52s/it]\n",
      "Validate (14586 / 10 Steps): 100%|██████████| 25/25 [01:40<00:00,  4.04s/it]1<00:43,  2.01it/s]\n",
      "Training (14600 / 18000 Steps) (loss=0.60601):  15%|█▍        | 15/102 [01:52<44:49, 30.92s/it]"
     ]
    },
    {
     "name": "stdout",
     "output_type": "stream",
     "text": [
      "Model Was Not Saved ! Current Best Avg. Dice: 0.5833297371864319 Current Avg. Dice: 0.5455130934715271 Current Avg. tumor Dice: 0.6262840032577515 Current Avg. lymph Dice: 0.438864141702652\n"
     ]
    },
    {
     "name": "stderr",
     "output_type": "stream",
     "text": [
      "Training (14687 / 18000 Steps) (loss=0.53497): 100%|██████████| 102/102 [02:35<00:00,  1.52s/it]\n",
      "Validate (14688 / 10 Steps): 100%|██████████| 25/25 [01:41<00:00,  4.05s/it]0<00:48,  1.86it/s]\n",
      "Training (14700 / 18000 Steps) (loss=0.49426):  13%|█▎        | 13/102 [01:52<46:38, 31.44s/it]"
     ]
    },
    {
     "name": "stdout",
     "output_type": "stream",
     "text": [
      "Model Was Saved ! Current Best Avg. Dice: 0.5868833661079407 Current Avg. Dice: 0.5868833661079407 Current Avg. tumor Dice: 0.6681055426597595 Current Avg. lymph Dice: 0.47872209548950195\n"
     ]
    },
    {
     "name": "stderr",
     "output_type": "stream",
     "text": [
      "Training (14789 / 18000 Steps) (loss=0.45147): 100%|██████████| 102/102 [02:36<00:00,  1.53s/it]\n",
      "Validate (14790 / 10 Steps): 100%|██████████| 25/25 [01:40<00:00,  4.03s/it]9<00:56,  1.62it/s]\n",
      "Training (14800 / 18000 Steps) (loss=0.64002):  11%|█         | 11/102 [01:50<47:39, 31.43s/it]"
     ]
    },
    {
     "name": "stdout",
     "output_type": "stream",
     "text": [
      "Model Was Not Saved ! Current Best Avg. Dice: 0.5868833661079407 Current Avg. Dice: 0.4880841374397278 Current Avg. tumor Dice: 0.5827670097351074 Current Avg. lymph Dice: 0.3579767942428589\n"
     ]
    },
    {
     "name": "stderr",
     "output_type": "stream",
     "text": [
      "Training (14891 / 18000 Steps) (loss=0.46505): 100%|██████████| 102/102 [02:35<00:00,  1.52s/it]\n",
      "Validate (14892 / 10 Steps): 100%|██████████| 25/25 [01:41<00:00,  4.04s/it]<00:52,  1.78it/s]\n",
      "Training (14900 / 18000 Steps) (loss=0.53566):   9%|▉         | 9/102 [01:50<50:05, 32.32s/it]"
     ]
    },
    {
     "name": "stdout",
     "output_type": "stream",
     "text": [
      "Model Was Not Saved ! Current Best Avg. Dice: 0.5868833661079407 Current Avg. Dice: 0.5658804178237915 Current Avg. tumor Dice: 0.6477375626564026 Current Avg. lymph Dice: 0.4564271569252014\n"
     ]
    },
    {
     "name": "stderr",
     "output_type": "stream",
     "text": [
      "Training (14993 / 18000 Steps) (loss=0.55465): 100%|██████████| 102/102 [02:35<00:00,  1.52s/it]\n",
      "Validate (14994 / 10 Steps): 100%|██████████| 25/25 [01:40<00:00,  4.02s/it]<01:14,  1.29it/s]\n",
      "Training (15000 / 18000 Steps) (loss=0.25265):   7%|▋         | 7/102 [01:48<53:05, 33.53s/it]"
     ]
    },
    {
     "name": "stdout",
     "output_type": "stream",
     "text": [
      "Model Was Not Saved ! Current Best Avg. Dice: 0.5868833661079407 Current Avg. Dice: 0.5714774131774902 Current Avg. tumor Dice: 0.6726605892181396 Current Avg. lymph Dice: 0.4410398602485657\n"
     ]
    },
    {
     "name": "stderr",
     "output_type": "stream",
     "text": [
      "Training (15095 / 18000 Steps) (loss=0.45066): 100%|██████████| 102/102 [02:35<00:00,  1.52s/it]\n",
      "Validate (15096 / 10 Steps): 100%|██████████| 25/25 [01:39<00:00,  3.99s/it]<01:55,  1.18s/it]\n",
      "Training (15100 / 18000 Steps) (loss=0.21007):   5%|▍         | 5/102 [01:46<59:39, 36.90s/it]"
     ]
    },
    {
     "name": "stdout",
     "output_type": "stream",
     "text": [
      "Model Was Not Saved ! Current Best Avg. Dice: 0.5868833661079407 Current Avg. Dice: 0.5354672074317932 Current Avg. tumor Dice: 0.6353349685668945 Current Avg. lymph Dice: 0.40595337748527527\n"
     ]
    },
    {
     "name": "stderr",
     "output_type": "stream",
     "text": [
      "Training (15197 / 18000 Steps) (loss=0.14599): 100%|██████████| 102/102 [02:34<00:00,  1.51s/it]\n",
      "Validate (15198 / 10 Steps): 100%|██████████| 25/25 [01:39<00:00,  3.99s/it]<03:19,  2.00s/it]\n",
      "Training (15200 / 18000 Steps) (loss=0.34908):   3%|▎         | 3/102 [01:44<1:17:13, 46.80s/it]"
     ]
    },
    {
     "name": "stdout",
     "output_type": "stream",
     "text": [
      "Model Was Not Saved ! Current Best Avg. Dice: 0.5868833661079407 Current Avg. Dice: 0.510404646396637 Current Avg. tumor Dice: 0.6083571910858154 Current Avg. lymph Dice: 0.37586480379104614\n"
     ]
    },
    {
     "name": "stderr",
     "output_type": "stream",
     "text": [
      "Training (15299 / 18000 Steps) (loss=0.47207): 100%|██████████| 102/102 [02:33<00:00,  1.50s/it]\n",
      "Validate (15300 / 10 Steps): 100%|██████████| 25/25 [01:39<00:00,  4.00s/it]<?, ?it/s]\n",
      "Training (15300 / 18000 Steps) (loss=0.60387):   1%|          | 1/102 [01:44<2:55:12, 104.09s/it]"
     ]
    },
    {
     "name": "stdout",
     "output_type": "stream",
     "text": [
      "Model Was Not Saved ! Current Best Avg. Dice: 0.5868833661079407 Current Avg. Dice: 0.5542982220649719 Current Avg. tumor Dice: 0.6506498456001282 Current Avg. lymph Dice: 0.42837947607040405\n"
     ]
    },
    {
     "name": "stderr",
     "output_type": "stream",
     "text": [
      "Validate (15300 / 10 Steps): 100%|██████████| 25/25 [01:39<00:00,  3.99s/it]31<00:00,  2.20it/s] \n",
      "Training (15400 / 18000 Steps) (loss=0.44963):  99%|█████████▉| 101/102 [04:11<00:30, 30.40s/it]"
     ]
    },
    {
     "name": "stdout",
     "output_type": "stream",
     "text": [
      "Model Was Not Saved ! Current Best Avg. Dice: 0.5868833661079407 Current Avg. Dice: 0.5213769674301147 Current Avg. tumor Dice: 0.6235915422439575 Current Avg. lymph Dice: 0.3853056728839874\n"
     ]
    },
    {
     "name": "stderr",
     "output_type": "stream",
     "text": [
      "Training (15401 / 18000 Steps) (loss=0.53520): 100%|██████████| 102/102 [04:11<00:00,  2.47s/it]\n",
      "Validate (15402 / 10 Steps): 100%|██████████| 25/25 [01:40<00:00,  4.01s/it]1<00:01,  2.17it/s]\n",
      "Training (15500 / 18000 Steps) (loss=0.30930):  97%|█████████▋| 99/102 [02:31<01:31, 30.54s/it]"
     ]
    },
    {
     "name": "stdout",
     "output_type": "stream",
     "text": [
      "Model Was Not Saved ! Current Best Avg. Dice: 0.5868833661079407 Current Avg. Dice: 0.5240818858146667 Current Avg. tumor Dice: 0.6158792972564697 Current Avg. lymph Dice: 0.39696747064590454\n"
     ]
    },
    {
     "name": "stderr",
     "output_type": "stream",
     "text": [
      "Training (15503 / 18000 Steps) (loss=0.71411): 100%|██████████| 102/102 [02:33<00:00,  1.50s/it]\n",
      "Validate (15504 / 10 Steps): 100%|██████████| 25/25 [01:39<00:00,  4.00s/it]0<00:02,  2.15it/s]\n",
      "Training (15600 / 18000 Steps) (loss=0.34179):  95%|█████████▌| 97/102 [02:30<02:32, 30.46s/it]"
     ]
    },
    {
     "name": "stdout",
     "output_type": "stream",
     "text": [
      "Model Was Not Saved ! Current Best Avg. Dice: 0.5868833661079407 Current Avg. Dice: 0.5634315609931946 Current Avg. tumor Dice: 0.6341495513916016 Current Avg. lymph Dice: 0.46153560280799866\n"
     ]
    },
    {
     "name": "stderr",
     "output_type": "stream",
     "text": [
      "Training (15605 / 18000 Steps) (loss=0.48746): 100%|██████████| 102/102 [02:33<00:00,  1.50s/it]\n",
      "Validate (15606 / 10 Steps): 100%|██████████| 25/25 [01:40<00:00,  4.01s/it]9<00:03,  2.17it/s]\n",
      "Training (15700 / 18000 Steps) (loss=0.66826):  93%|█████████▎| 95/102 [02:29<03:33, 30.55s/it]"
     ]
    },
    {
     "name": "stdout",
     "output_type": "stream",
     "text": [
      "Model Was Not Saved ! Current Best Avg. Dice: 0.5868833661079407 Current Avg. Dice: 0.5392918586730957 Current Avg. tumor Dice: 0.6523081064224243 Current Avg. lymph Dice: 0.38931804895401\n"
     ]
    },
    {
     "name": "stderr",
     "output_type": "stream",
     "text": [
      "Training (15707 / 18000 Steps) (loss=0.29433): 100%|██████████| 102/102 [02:32<00:00,  1.50s/it]\n",
      "Validate (15708 / 10 Steps): 100%|██████████| 25/25 [01:40<00:00,  4.02s/it]9<00:04,  2.11it/s]\n",
      "Training (15800 / 18000 Steps) (loss=0.12038):  91%|█████████ | 93/102 [02:29<04:35, 30.62s/it]"
     ]
    },
    {
     "name": "stdout",
     "output_type": "stream",
     "text": [
      "Model Was Not Saved ! Current Best Avg. Dice: 0.5868833661079407 Current Avg. Dice: 0.5663148760795593 Current Avg. tumor Dice: 0.6796547174453735 Current Avg. lymph Dice: 0.42106708884239197\n"
     ]
    },
    {
     "name": "stderr",
     "output_type": "stream",
     "text": [
      "Training (15809 / 18000 Steps) (loss=0.67020): 100%|██████████| 102/102 [02:33<00:00,  1.51s/it]\n",
      "Validate (15810 / 10 Steps): 100%|██████████| 25/25 [01:40<00:00,  4.02s/it]7<00:05,  2.10it/s]\n",
      "Training (15900 / 18000 Steps) (loss=0.42220):  89%|████████▉ | 91/102 [02:27<05:37, 30.64s/it]"
     ]
    },
    {
     "name": "stdout",
     "output_type": "stream",
     "text": [
      "Model Was Not Saved ! Current Best Avg. Dice: 0.5868833661079407 Current Avg. Dice: 0.5768514275550842 Current Avg. tumor Dice: 0.6618301868438721 Current Avg. lymph Dice: 0.46697816252708435\n"
     ]
    },
    {
     "name": "stderr",
     "output_type": "stream",
     "text": [
      "Training (15911 / 18000 Steps) (loss=0.50752): 100%|██████████| 102/102 [02:33<00:00,  1.50s/it]\n",
      "Validate (15912 / 10 Steps): 100%|██████████| 25/25 [01:40<00:00,  4.02s/it]6<00:06,  2.13it/s]\n",
      "Training (16000 / 18000 Steps) (loss=0.55155):  87%|████████▋ | 89/102 [02:26<06:38, 30.62s/it]"
     ]
    },
    {
     "name": "stdout",
     "output_type": "stream",
     "text": [
      "Model Was Not Saved ! Current Best Avg. Dice: 0.5868833661079407 Current Avg. Dice: 0.5753288865089417 Current Avg. tumor Dice: 0.648038387298584 Current Avg. lymph Dice: 0.47162991762161255\n"
     ]
    },
    {
     "name": "stderr",
     "output_type": "stream",
     "text": [
      "Training (16013 / 18000 Steps) (loss=0.26454): 100%|██████████| 102/102 [02:32<00:00,  1.50s/it]\n",
      "Validate (16014 / 10 Steps): 100%|██████████| 25/25 [01:40<00:00,  4.03s/it]5<00:07,  2.13it/s]\n",
      "Training (16100 / 18000 Steps) (loss=0.51642):  85%|████████▌ | 87/102 [02:26<07:40, 30.72s/it]"
     ]
    },
    {
     "name": "stdout",
     "output_type": "stream",
     "text": [
      "Model Was Not Saved ! Current Best Avg. Dice: 0.5868833661079407 Current Avg. Dice: 0.579948365688324 Current Avg. tumor Dice: 0.6633446216583252 Current Avg. lymph Dice: 0.46617740392684937\n"
     ]
    },
    {
     "name": "stderr",
     "output_type": "stream",
     "text": [
      "Training (16115 / 18000 Steps) (loss=0.54950): 100%|██████████| 102/102 [02:33<00:00,  1.50s/it]\n",
      "Validate (16116 / 10 Steps): 100%|██████████| 25/25 [01:40<00:00,  4.01s/it]4<00:08,  2.11it/s]\n",
      "Training (16200 / 18000 Steps) (loss=0.55506):  83%|████████▎ | 85/102 [02:24<08:39, 30.54s/it]"
     ]
    },
    {
     "name": "stdout",
     "output_type": "stream",
     "text": [
      "Model Was Not Saved ! Current Best Avg. Dice: 0.5868833661079407 Current Avg. Dice: 0.5714074373245239 Current Avg. tumor Dice: 0.6565422415733337 Current Avg. lymph Dice: 0.4580448567867279\n"
     ]
    },
    {
     "name": "stderr",
     "output_type": "stream",
     "text": [
      "Training (16217 / 18000 Steps) (loss=0.40098): 100%|██████████| 102/102 [02:32<00:00,  1.50s/it]\n",
      "Validate (16218 / 10 Steps): 100%|██████████| 25/25 [01:40<00:00,  4.03s/it]3<00:10,  1.85it/s]\n",
      "Training (16300 / 18000 Steps) (loss=0.36437):  81%|████████▏ | 83/102 [02:24<09:44, 30.74s/it]"
     ]
    },
    {
     "name": "stdout",
     "output_type": "stream",
     "text": [
      "Model Was Not Saved ! Current Best Avg. Dice: 0.5868833661079407 Current Avg. Dice: 0.5649121999740601 Current Avg. tumor Dice: 0.6559939980506897 Current Avg. lymph Dice: 0.44504648447036743\n"
     ]
    },
    {
     "name": "stderr",
     "output_type": "stream",
     "text": [
      "Training (16319 / 18000 Steps) (loss=0.37193): 100%|██████████| 102/102 [02:33<00:00,  1.51s/it]\n",
      "Validate (16320 / 10 Steps): 100%|██████████| 25/25 [01:40<00:00,  4.03s/it]2<00:10,  2.08it/s]\n",
      "Training (16400 / 18000 Steps) (loss=0.51943):  79%|███████▉  | 81/102 [02:23<10:45, 30.74s/it]"
     ]
    },
    {
     "name": "stdout",
     "output_type": "stream",
     "text": [
      "Model Was Not Saved ! Current Best Avg. Dice: 0.5868833661079407 Current Avg. Dice: 0.5482836961746216 Current Avg. tumor Dice: 0.6277028918266296 Current Avg. lymph Dice: 0.4447146952152252\n"
     ]
    },
    {
     "name": "stderr",
     "output_type": "stream",
     "text": [
      "Training (16421 / 18000 Steps) (loss=0.28584): 100%|██████████| 102/102 [02:33<00:00,  1.50s/it]\n",
      "Validate (16422 / 10 Steps): 100%|██████████| 25/25 [01:40<00:00,  4.03s/it]2<00:11,  2.04it/s]\n",
      "Training (16500 / 18000 Steps) (loss=0.38965):  77%|███████▋  | 79/102 [02:22<11:45, 30.69s/it]"
     ]
    },
    {
     "name": "stdout",
     "output_type": "stream",
     "text": [
      "Model Was Not Saved ! Current Best Avg. Dice: 0.5868833661079407 Current Avg. Dice: 0.47771403193473816 Current Avg. tumor Dice: 0.5740684866905212 Current Avg. lymph Dice: 0.3459954261779785\n"
     ]
    },
    {
     "name": "stderr",
     "output_type": "stream",
     "text": [
      "Training (16523 / 18000 Steps) (loss=0.39086): 100%|██████████| 102/102 [02:33<00:00,  1.51s/it]\n",
      "Validate (16524 / 10 Steps): 100%|██████████| 25/25 [01:40<00:00,  4.01s/it]0<00:12,  2.14it/s]\n",
      "Training (16600 / 18000 Steps) (loss=0.41286):  75%|███████▌  | 77/102 [02:20<12:43, 30.55s/it]"
     ]
    },
    {
     "name": "stdout",
     "output_type": "stream",
     "text": [
      "Model Was Not Saved ! Current Best Avg. Dice: 0.5868833661079407 Current Avg. Dice: 0.5817135572433472 Current Avg. tumor Dice: 0.670928955078125 Current Avg. lymph Dice: 0.4617093801498413\n"
     ]
    },
    {
     "name": "stderr",
     "output_type": "stream",
     "text": [
      "Training (16625 / 18000 Steps) (loss=0.56140): 100%|██████████| 102/102 [02:32<00:00,  1.49s/it]\n",
      "Validate (16626 / 10 Steps): 100%|██████████| 25/25 [01:40<00:00,  4.03s/it]0<00:13,  2.05it/s]\n",
      "Training (16700 / 18000 Steps) (loss=0.51175):  74%|███████▎  | 75/102 [02:21<13:48, 30.70s/it]"
     ]
    },
    {
     "name": "stdout",
     "output_type": "stream",
     "text": [
      "Model Was Not Saved ! Current Best Avg. Dice: 0.5868833661079407 Current Avg. Dice: 0.5519552230834961 Current Avg. tumor Dice: 0.6222312450408936 Current Avg. lymph Dice: 0.454775869846344\n"
     ]
    },
    {
     "name": "stderr",
     "output_type": "stream",
     "text": [
      "Training (16727 / 18000 Steps) (loss=0.66765): 100%|██████████| 102/102 [02:33<00:00,  1.51s/it]\n",
      "Validate (16728 / 10 Steps): 100%|██████████| 25/25 [01:39<00:00,  4.00s/it]8<00:14,  2.12it/s]\n",
      "Training (16800 / 18000 Steps) (loss=0.66715):  72%|███████▏  | 73/102 [02:18<14:43, 30.47s/it]"
     ]
    },
    {
     "name": "stdout",
     "output_type": "stream",
     "text": [
      "Model Was Not Saved ! Current Best Avg. Dice: 0.5868833661079407 Current Avg. Dice: 0.5746250748634338 Current Avg. tumor Dice: 0.6529378890991211 Current Avg. lymph Dice: 0.4645248055458069\n"
     ]
    },
    {
     "name": "stderr",
     "output_type": "stream",
     "text": [
      "Training (16829 / 18000 Steps) (loss=0.57477): 100%|██████████| 102/102 [02:32<00:00,  1.50s/it]\n",
      "Validate (16830 / 10 Steps): 100%|██████████| 25/25 [01:40<00:00,  4.01s/it]8<00:15,  2.08it/s]\n",
      "Training (16900 / 18000 Steps) (loss=0.48167):  70%|██████▉   | 71/102 [02:18<15:48, 30.58s/it]"
     ]
    },
    {
     "name": "stdout",
     "output_type": "stream",
     "text": [
      "Model Was Not Saved ! Current Best Avg. Dice: 0.5868833661079407 Current Avg. Dice: 0.5461180806159973 Current Avg. tumor Dice: 0.6143137812614441 Current Avg. lymph Dice: 0.4442695677280426\n"
     ]
    },
    {
     "name": "stderr",
     "output_type": "stream",
     "text": [
      "Training (16931 / 18000 Steps) (loss=0.49861): 100%|██████████| 102/102 [02:33<00:00,  1.51s/it]\n",
      "Validate (16932 / 10 Steps): 100%|██████████| 25/25 [01:40<00:00,  4.01s/it]7<00:16,  2.08it/s]\n",
      "Training (17000 / 18000 Steps) (loss=0.41893):  68%|██████▊   | 69/102 [02:17<16:47, 30.55s/it]"
     ]
    },
    {
     "name": "stdout",
     "output_type": "stream",
     "text": [
      "Model Was Not Saved ! Current Best Avg. Dice: 0.5868833661079407 Current Avg. Dice: 0.5622755289077759 Current Avg. tumor Dice: 0.6377443075180054 Current Avg. lymph Dice: 0.462070494890213\n"
     ]
    },
    {
     "name": "stderr",
     "output_type": "stream",
     "text": [
      "Training (17033 / 18000 Steps) (loss=0.30376): 100%|██████████| 102/102 [02:33<00:00,  1.50s/it]\n",
      "Validate (17034 / 10 Steps): 100%|██████████| 25/25 [01:40<00:00,  4.00s/it]6<00:16,  2.12it/s]\n",
      "Training (17100 / 18000 Steps) (loss=0.53097):  66%|██████▌   | 67/102 [02:16<17:47, 30.51s/it]"
     ]
    },
    {
     "name": "stdout",
     "output_type": "stream",
     "text": [
      "Model Was Not Saved ! Current Best Avg. Dice: 0.5868833661079407 Current Avg. Dice: 0.5597333312034607 Current Avg. tumor Dice: 0.6364556550979614 Current Avg. lymph Dice: 0.4499073326587677\n"
     ]
    },
    {
     "name": "stderr",
     "output_type": "stream",
     "text": [
      "Training (17135 / 18000 Steps) (loss=0.29066): 100%|██████████| 102/102 [02:33<00:00,  1.50s/it]\n",
      "Validate (17136 / 10 Steps): 100%|██████████| 25/25 [01:40<00:00,  4.01s/it]5<00:18,  2.05it/s]\n",
      "Training (17200 / 18000 Steps) (loss=0.66683):  64%|██████▎   | 65/102 [02:16<18:59, 30.80s/it]"
     ]
    },
    {
     "name": "stdout",
     "output_type": "stream",
     "text": [
      "Model Was Saved ! Current Best Avg. Dice: 0.5940163135528564 Current Avg. Dice: 0.5940163135528564 Current Avg. tumor Dice: 0.6817541122436523 Current Avg. lymph Dice: 0.47914573550224304\n"
     ]
    },
    {
     "name": "stderr",
     "output_type": "stream",
     "text": [
      "Training (17237 / 18000 Steps) (loss=0.58949): 100%|██████████| 102/102 [02:34<00:00,  1.51s/it]\n",
      "Validate (17238 / 10 Steps): 100%|██████████| 25/25 [01:40<00:00,  4.02s/it]5<00:19,  2.10it/s]\n",
      "Training (17300 / 18000 Steps) (loss=0.51777):  62%|██████▏   | 63/102 [02:15<19:54, 30.62s/it]"
     ]
    },
    {
     "name": "stdout",
     "output_type": "stream",
     "text": [
      "Model Was Not Saved ! Current Best Avg. Dice: 0.5940163135528564 Current Avg. Dice: 0.5699067711830139 Current Avg. tumor Dice: 0.6381716728210449 Current Avg. lymph Dice: 0.46983790397644043\n"
     ]
    },
    {
     "name": "stderr",
     "output_type": "stream",
     "text": [
      "Training (17339 / 18000 Steps) (loss=0.30978): 100%|██████████| 102/102 [02:34<00:00,  1.51s/it]\n",
      "Validate (17340 / 10 Steps): 100%|██████████| 25/25 [01:40<00:00,  4.02s/it]4<00:19,  2.10it/s]\n",
      "Training (17400 / 18000 Steps) (loss=0.68389):  60%|█████▉    | 61/102 [02:14<20:55, 30.63s/it]"
     ]
    },
    {
     "name": "stdout",
     "output_type": "stream",
     "text": [
      "Model Was Not Saved ! Current Best Avg. Dice: 0.5940163135528564 Current Avg. Dice: 0.5101155638694763 Current Avg. tumor Dice: 0.6246070861816406 Current Avg. lymph Dice: 0.35856518149375916\n"
     ]
    },
    {
     "name": "stderr",
     "output_type": "stream",
     "text": [
      "Training (17441 / 18000 Steps) (loss=0.37740): 100%|██████████| 102/102 [02:34<00:00,  1.52s/it]\n",
      "Validate (17442 / 10 Steps): 100%|██████████| 25/25 [01:40<00:00,  4.03s/it]2<00:20,  2.11it/s]\n",
      "Training (17500 / 18000 Steps) (loss=0.65269):  58%|█████▊    | 59/102 [02:13<21:59, 30.69s/it]"
     ]
    },
    {
     "name": "stdout",
     "output_type": "stream",
     "text": [
      "Model Was Not Saved ! Current Best Avg. Dice: 0.5940163135528564 Current Avg. Dice: 0.5425616502761841 Current Avg. tumor Dice: 0.6112300157546997 Current Avg. lymph Dice: 0.4421243369579315\n"
     ]
    },
    {
     "name": "stderr",
     "output_type": "stream",
     "text": [
      "Training (17543 / 18000 Steps) (loss=0.59156): 100%|██████████| 102/102 [02:34<00:00,  1.51s/it]\n",
      "Validate (17544 / 10 Steps): 100%|██████████| 25/25 [01:40<00:00,  4.02s/it]1<00:21,  2.10it/s]\n",
      "Training (17600 / 18000 Steps) (loss=0.52590):  56%|█████▌    | 57/102 [02:11<22:59, 30.65s/it]"
     ]
    },
    {
     "name": "stdout",
     "output_type": "stream",
     "text": [
      "Model Was Not Saved ! Current Best Avg. Dice: 0.5940163135528564 Current Avg. Dice: 0.5236899852752686 Current Avg. tumor Dice: 0.5983308553695679 Current Avg. lymph Dice: 0.41965019702911377\n"
     ]
    },
    {
     "name": "stderr",
     "output_type": "stream",
     "text": [
      "Training (17645 / 18000 Steps) (loss=0.60092): 100%|██████████| 102/102 [02:33<00:00,  1.50s/it]\n",
      "Validate (17646 / 10 Steps): 100%|██████████| 25/25 [01:40<00:00,  4.02s/it]0<00:22,  2.12it/s]\n",
      "Training (17700 / 18000 Steps) (loss=0.54704):  54%|█████▍    | 55/102 [02:10<23:59, 30.62s/it]"
     ]
    },
    {
     "name": "stdout",
     "output_type": "stream",
     "text": [
      "Model Was Not Saved ! Current Best Avg. Dice: 0.5940163135528564 Current Avg. Dice: 0.513812780380249 Current Avg. tumor Dice: 0.6042327880859375 Current Avg. lymph Dice: 0.38773679733276367\n"
     ]
    },
    {
     "name": "stderr",
     "output_type": "stream",
     "text": [
      "Training (17747 / 18000 Steps) (loss=0.42058): 100%|██████████| 102/102 [02:33<00:00,  1.50s/it]\n",
      "Validate (17748 / 10 Steps): 100%|██████████| 25/25 [01:40<00:00,  4.03s/it]9<00:23,  2.10it/s]\n",
      "Training (17800 / 18000 Steps) (loss=0.31284):  52%|█████▏    | 53/102 [02:10<25:03, 30.68s/it]"
     ]
    },
    {
     "name": "stdout",
     "output_type": "stream",
     "text": [
      "Model Was Not Saved ! Current Best Avg. Dice: 0.5940163135528564 Current Avg. Dice: 0.589348316192627 Current Avg. tumor Dice: 0.6677536964416504 Current Avg. lymph Dice: 0.48215252161026\n"
     ]
    },
    {
     "name": "stderr",
     "output_type": "stream",
     "text": [
      "Training (17849 / 18000 Steps) (loss=0.64320): 100%|██████████| 102/102 [02:33<00:00,  1.51s/it]\n",
      "Validate (17850 / 10 Steps): 100%|██████████| 25/25 [01:40<00:00,  4.02s/it]7<00:25,  2.07it/s]\n",
      "Training (17900 / 18000 Steps) (loss=0.66683):  50%|█████     | 51/102 [02:08<26:02, 30.64s/it]"
     ]
    },
    {
     "name": "stdout",
     "output_type": "stream",
     "text": [
      "Model Was Not Saved ! Current Best Avg. Dice: 0.5940163135528564 Current Avg. Dice: 0.5926974415779114 Current Avg. tumor Dice: 0.6728008985519409 Current Avg. lymph Dice: 0.4807933270931244\n"
     ]
    },
    {
     "name": "stderr",
     "output_type": "stream",
     "text": [
      "Training (17951 / 18000 Steps) (loss=0.63701): 100%|██████████| 102/102 [02:33<00:00,  1.50s/it]\n",
      "Validate (17952 / 10 Steps): 100%|██████████| 25/25 [01:40<00:00,  4.03s/it]7<00:25,  2.12it/s]\n",
      "Training (18000 / 18000 Steps) (loss=0.42322):  48%|████▊     | 49/102 [02:07<27:07, 30.70s/it]"
     ]
    },
    {
     "name": "stdout",
     "output_type": "stream",
     "text": [
      "Model Was Not Saved ! Current Best Avg. Dice: 0.5940163135528564 Current Avg. Dice: 0.5908857583999634 Current Avg. tumor Dice: 0.6683234572410583 Current Avg. lymph Dice: 0.48410874605178833\n"
     ]
    },
    {
     "name": "stderr",
     "output_type": "stream",
     "text": [
      "Training (18053 / 18000 Steps) (loss=0.49065): 100%|██████████| 102/102 [02:32<00:00,  1.50s/it]\n"
     ]
    }
   ],
   "source": [
    "epoch = 0 # used for LR scheduler\n",
    "max_num_epochs = 530 # used for LR scheduler\n",
    "\n",
    "\n",
    "while global_step < max_iterations:\n",
    "    global_step, dice_val_best, global_step_best = train(\n",
    "        global_step, train_loader, dice_val_best, global_step_best\n",
    "    )\n",
    "    epoch += 1\n",
    "    #optimizer.param_groups[0]['lr'] = poly_lr(epoch, max_num_epochs, 0.005676 , 0.9)\n",
    "# model.load_state_dict(torch.load(os.path.join(model_dir, \"best_metric_luck_UNETr_prompt.pth\")))"
   ]
  }
 ],
 "metadata": {
  "kernelspec": {
   "display_name": "clam",
   "language": "python",
   "name": "python3"
  },
  "language_info": {
   "codemirror_mode": {
    "name": "ipython",
    "version": 3
   },
   "file_extension": ".py",
   "mimetype": "text/x-python",
   "name": "python",
   "nbconvert_exporter": "python",
   "pygments_lexer": "ipython3",
   "version": "3.8.0"
  }
 },
 "nbformat": 4,
 "nbformat_minor": 2
}
